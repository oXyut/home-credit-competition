{
 "cells": [
  {
   "cell_type": "code",
   "execution_count": 1,
   "metadata": {},
   "outputs": [],
   "source": [
    "from collections import OrderedDict\n",
    "import gc\n",
    "import joblib\n",
    "from pathlib import Path\n",
    "import pickle\n",
    "import sys\n",
    "sys.path.append('..')\n",
    "from typing import Dict, List, Tuple, Union, Literal\n",
    "import warnings\n",
    "\n",
    "\n",
    "import lightgbm as lgb\n",
    "import numpy as np\n",
    "import optuna\n",
    "import pandas as pd\n",
    "import polars as pl\n",
    "from sklearn.preprocessing import OrdinalEncoder\n",
    "from sklearn.model_selection import StratifiedGroupKFold, train_test_split\n",
    "\n",
    "gc.enable()"
   ]
  },
  {
   "cell_type": "code",
   "execution_count": 2,
   "metadata": {},
   "outputs": [],
   "source": [
    "KAGGLE = False\n",
    "MODE:Literal['train', 'test'] = 'test'"
   ]
  },
  {
   "cell_type": "code",
   "execution_count": 6,
   "metadata": {},
   "outputs": [],
   "source": [
    "if KAGGLE:\n",
    "    COMPETITION_DIR = Path('/kaggle/input/home-credit-credit-risk-model-stability')\n",
    "    MODEL_DIR = Path('/kaggle/input/240407-home-credit-test-submit')\n",
    "    FEATURE_DTYPE_DIR = Path('/kaggle/input/home-credit-enhanced-feature-definitions')\n",
    "else:\n",
    "    COMPETITION_DIR = Path('../../data/inputs')\n",
    "    MODEL_DIR = Path('../../data/models/lgbm-group-tune-wd')\n",
    "    if not MODEL_DIR.exists():\n",
    "        MODEL_DIR.mkdir(parents=True)\n",
    "        MODEL_DIR.joinpath('encoders').mkdir()\n",
    "        print(MODEL_DIR, 'created')\n",
    "    FEATURE_DTYPE_DIR = Path('../../data/configs/feature_definitions_dtypes_tables.parquet')"
   ]
  },
  {
   "cell_type": "code",
   "execution_count": 4,
   "metadata": {},
   "outputs": [
    {
     "data": {
      "text/html": [
       "<div>\n",
       "<style scoped>\n",
       "    .dataframe tbody tr th:only-of-type {\n",
       "        vertical-align: middle;\n",
       "    }\n",
       "\n",
       "    .dataframe tbody tr th {\n",
       "        vertical-align: top;\n",
       "    }\n",
       "\n",
       "    .dataframe thead th {\n",
       "        text-align: right;\n",
       "    }\n",
       "</style>\n",
       "<table border=\"1\" class=\"dataframe\">\n",
       "  <thead>\n",
       "    <tr style=\"text-align: right;\">\n",
       "      <th></th>\n",
       "      <th>Variable</th>\n",
       "      <th>Description</th>\n",
       "      <th>dtype</th>\n",
       "      <th>tables</th>\n",
       "    </tr>\n",
       "  </thead>\n",
       "  <tbody>\n",
       "    <tr>\n",
       "      <th>0</th>\n",
       "      <td>actualdpd_943P</td>\n",
       "      <td>Days Past Due (DPD) of previous contract (actu...</td>\n",
       "      <td>Float64</td>\n",
       "      <td>[train_applprev_1_0, train_applprev_1_1]</td>\n",
       "    </tr>\n",
       "    <tr>\n",
       "      <th>1</th>\n",
       "      <td>actualdpdtolerance_344P</td>\n",
       "      <td>DPD of client with tolerance.</td>\n",
       "      <td>Float64</td>\n",
       "      <td>[train_static_0_0, train_static_0_1]</td>\n",
       "    </tr>\n",
       "    <tr>\n",
       "      <th>2</th>\n",
       "      <td>addres_district_368M</td>\n",
       "      <td>District of the person's address.</td>\n",
       "      <td>String</td>\n",
       "      <td>[train_person_2]</td>\n",
       "    </tr>\n",
       "    <tr>\n",
       "      <th>3</th>\n",
       "      <td>addres_role_871L</td>\n",
       "      <td>Role of person's address.</td>\n",
       "      <td>String</td>\n",
       "      <td>[train_person_2]</td>\n",
       "    </tr>\n",
       "    <tr>\n",
       "      <th>4</th>\n",
       "      <td>addres_zip_823M</td>\n",
       "      <td>Zip code of the address.</td>\n",
       "      <td>String</td>\n",
       "      <td>[train_person_2]</td>\n",
       "    </tr>\n",
       "    <tr>\n",
       "      <th>...</th>\n",
       "      <td>...</td>\n",
       "      <td>...</td>\n",
       "      <td>...</td>\n",
       "      <td>...</td>\n",
       "    </tr>\n",
       "    <tr>\n",
       "      <th>460</th>\n",
       "      <td>totinstallast1m_4525188A</td>\n",
       "      <td>Total amount of monthly instalments paid in th...</td>\n",
       "      <td>Float64</td>\n",
       "      <td>[train_static_0_0, train_static_0_1]</td>\n",
       "    </tr>\n",
       "    <tr>\n",
       "      <th>461</th>\n",
       "      <td>twobodfilling_608L</td>\n",
       "      <td>Type of application process.</td>\n",
       "      <td>String</td>\n",
       "      <td>[train_static_0_0, train_static_0_1]</td>\n",
       "    </tr>\n",
       "    <tr>\n",
       "      <th>462</th>\n",
       "      <td>type_25L</td>\n",
       "      <td>Contact type of a person.</td>\n",
       "      <td>String</td>\n",
       "      <td>[train_person_1]</td>\n",
       "    </tr>\n",
       "    <tr>\n",
       "      <th>463</th>\n",
       "      <td>typesuite_864L</td>\n",
       "      <td>Persons accompanying the client during the loa...</td>\n",
       "      <td>String</td>\n",
       "      <td>[train_static_0_0, train_static_0_1]</td>\n",
       "    </tr>\n",
       "    <tr>\n",
       "      <th>464</th>\n",
       "      <td>validfrom_1069D</td>\n",
       "      <td>Date since the client has an active campaign.</td>\n",
       "      <td>Date</td>\n",
       "      <td>[train_static_0_0, train_static_0_1]</td>\n",
       "    </tr>\n",
       "  </tbody>\n",
       "</table>\n",
       "<p>465 rows × 4 columns</p>\n",
       "</div>"
      ],
      "text/plain": [
       "                     Variable  \\\n",
       "0              actualdpd_943P   \n",
       "1     actualdpdtolerance_344P   \n",
       "2        addres_district_368M   \n",
       "3            addres_role_871L   \n",
       "4             addres_zip_823M   \n",
       "..                        ...   \n",
       "460  totinstallast1m_4525188A   \n",
       "461        twobodfilling_608L   \n",
       "462                  type_25L   \n",
       "463            typesuite_864L   \n",
       "464           validfrom_1069D   \n",
       "\n",
       "                                           Description    dtype  \\\n",
       "0    Days Past Due (DPD) of previous contract (actu...  Float64   \n",
       "1                        DPD of client with tolerance.  Float64   \n",
       "2                    District of the person's address.   String   \n",
       "3                            Role of person's address.   String   \n",
       "4                             Zip code of the address.   String   \n",
       "..                                                 ...      ...   \n",
       "460  Total amount of monthly instalments paid in th...  Float64   \n",
       "461                       Type of application process.   String   \n",
       "462                          Contact type of a person.   String   \n",
       "463  Persons accompanying the client during the loa...   String   \n",
       "464      Date since the client has an active campaign.     Date   \n",
       "\n",
       "                                       tables  \n",
       "0    [train_applprev_1_0, train_applprev_1_1]  \n",
       "1        [train_static_0_0, train_static_0_1]  \n",
       "2                            [train_person_2]  \n",
       "3                            [train_person_2]  \n",
       "4                            [train_person_2]  \n",
       "..                                        ...  \n",
       "460      [train_static_0_0, train_static_0_1]  \n",
       "461      [train_static_0_0, train_static_0_1]  \n",
       "462                          [train_person_1]  \n",
       "463      [train_static_0_0, train_static_0_1]  \n",
       "464      [train_static_0_0, train_static_0_1]  \n",
       "\n",
       "[465 rows x 4 columns]"
      ]
     },
     "metadata": {},
     "output_type": "display_data"
    },
    {
     "data": {
      "text/html": [
       "<div>\n",
       "<style scoped>\n",
       "    .dataframe tbody tr th:only-of-type {\n",
       "        vertical-align: middle;\n",
       "    }\n",
       "\n",
       "    .dataframe tbody tr th {\n",
       "        vertical-align: top;\n",
       "    }\n",
       "\n",
       "    .dataframe thead th {\n",
       "        text-align: right;\n",
       "    }\n",
       "</style>\n",
       "<table border=\"1\" class=\"dataframe\">\n",
       "  <thead>\n",
       "    <tr style=\"text-align: right;\">\n",
       "      <th></th>\n",
       "      <th>Variable</th>\n",
       "      <th>Description</th>\n",
       "      <th>dtype</th>\n",
       "      <th>tables</th>\n",
       "      <th>cast_dtype</th>\n",
       "    </tr>\n",
       "  </thead>\n",
       "  <tbody>\n",
       "    <tr>\n",
       "      <th>78</th>\n",
       "      <td>contaddr_matchlist_1032L</td>\n",
       "      <td>Indicates whether the contact address is found...</td>\n",
       "      <td>Boolean</td>\n",
       "      <td>[train_person_1]</td>\n",
       "      <td>Boolean</td>\n",
       "    </tr>\n",
       "    <tr>\n",
       "      <th>79</th>\n",
       "      <td>contaddr_smempladdr_334L</td>\n",
       "      <td>Indicates whether the contact address is the s...</td>\n",
       "      <td>Boolean</td>\n",
       "      <td>[train_person_1]</td>\n",
       "      <td>Boolean</td>\n",
       "    </tr>\n",
       "    <tr>\n",
       "      <th>174</th>\n",
       "      <td>equalitydataagreement_891L</td>\n",
       "      <td>Flag indicating sudden changes in client's soc...</td>\n",
       "      <td>Boolean</td>\n",
       "      <td>[train_static_0_0, train_static_0_1]</td>\n",
       "      <td>Boolean</td>\n",
       "    </tr>\n",
       "    <tr>\n",
       "      <th>175</th>\n",
       "      <td>equalityempfrom_62L</td>\n",
       "      <td>Flag indicating a sudden change in the client'...</td>\n",
       "      <td>Boolean</td>\n",
       "      <td>[train_static_0_0, train_static_0_1]</td>\n",
       "      <td>Boolean</td>\n",
       "    </tr>\n",
       "    <tr>\n",
       "      <th>219</th>\n",
       "      <td>isbidproduct_1095L</td>\n",
       "      <td>Flag indicating if the product is a cross-sell.</td>\n",
       "      <td>Boolean</td>\n",
       "      <td>[train_static_0_0, train_static_0_1]</td>\n",
       "      <td>Boolean</td>\n",
       "    </tr>\n",
       "    <tr>\n",
       "      <th>...</th>\n",
       "      <td>...</td>\n",
       "      <td>...</td>\n",
       "      <td>...</td>\n",
       "      <td>...</td>\n",
       "      <td>...</td>\n",
       "    </tr>\n",
       "    <tr>\n",
       "      <th>444</th>\n",
       "      <td>subjectroles_name_541M</td>\n",
       "      <td>Name of subject role in closed credit contract...</td>\n",
       "      <td>String</td>\n",
       "      <td>[train_credit_bureau_a_2_0, train_credit_burea...</td>\n",
       "      <td>String</td>\n",
       "    </tr>\n",
       "    <tr>\n",
       "      <th>445</th>\n",
       "      <td>subjectroles_name_838M</td>\n",
       "      <td>Name of subject role in active credit contract...</td>\n",
       "      <td>String</td>\n",
       "      <td>[train_credit_bureau_a_2_0, train_credit_burea...</td>\n",
       "      <td>String</td>\n",
       "    </tr>\n",
       "    <tr>\n",
       "      <th>461</th>\n",
       "      <td>twobodfilling_608L</td>\n",
       "      <td>Type of application process.</td>\n",
       "      <td>String</td>\n",
       "      <td>[train_static_0_0, train_static_0_1]</td>\n",
       "      <td>String</td>\n",
       "    </tr>\n",
       "    <tr>\n",
       "      <th>462</th>\n",
       "      <td>type_25L</td>\n",
       "      <td>Contact type of a person.</td>\n",
       "      <td>String</td>\n",
       "      <td>[train_person_1]</td>\n",
       "      <td>String</td>\n",
       "    </tr>\n",
       "    <tr>\n",
       "      <th>463</th>\n",
       "      <td>typesuite_864L</td>\n",
       "      <td>Persons accompanying the client during the loa...</td>\n",
       "      <td>String</td>\n",
       "      <td>[train_static_0_0, train_static_0_1]</td>\n",
       "      <td>String</td>\n",
       "    </tr>\n",
       "  </tbody>\n",
       "</table>\n",
       "<p>407 rows × 5 columns</p>\n",
       "</div>"
      ],
      "text/plain": [
       "                       Variable  \\\n",
       "78     contaddr_matchlist_1032L   \n",
       "79     contaddr_smempladdr_334L   \n",
       "174  equalitydataagreement_891L   \n",
       "175         equalityempfrom_62L   \n",
       "219          isbidproduct_1095L   \n",
       "..                          ...   \n",
       "444      subjectroles_name_541M   \n",
       "445      subjectroles_name_838M   \n",
       "461          twobodfilling_608L   \n",
       "462                    type_25L   \n",
       "463              typesuite_864L   \n",
       "\n",
       "                                           Description    dtype  \\\n",
       "78   Indicates whether the contact address is found...  Boolean   \n",
       "79   Indicates whether the contact address is the s...  Boolean   \n",
       "174  Flag indicating sudden changes in client's soc...  Boolean   \n",
       "175  Flag indicating a sudden change in the client'...  Boolean   \n",
       "219    Flag indicating if the product is a cross-sell.  Boolean   \n",
       "..                                                 ...      ...   \n",
       "444  Name of subject role in closed credit contract...   String   \n",
       "445  Name of subject role in active credit contract...   String   \n",
       "461                       Type of application process.   String   \n",
       "462                          Contact type of a person.   String   \n",
       "463  Persons accompanying the client during the loa...   String   \n",
       "\n",
       "                                                tables cast_dtype  \n",
       "78                                    [train_person_1]    Boolean  \n",
       "79                                    [train_person_1]    Boolean  \n",
       "174               [train_static_0_0, train_static_0_1]    Boolean  \n",
       "175               [train_static_0_0, train_static_0_1]    Boolean  \n",
       "219               [train_static_0_0, train_static_0_1]    Boolean  \n",
       "..                                                 ...        ...  \n",
       "444  [train_credit_bureau_a_2_0, train_credit_burea...     String  \n",
       "445  [train_credit_bureau_a_2_0, train_credit_burea...     String  \n",
       "461               [train_static_0_0, train_static_0_1]     String  \n",
       "462                                   [train_person_1]     String  \n",
       "463               [train_static_0_0, train_static_0_1]     String  \n",
       "\n",
       "[407 rows x 5 columns]"
      ]
     },
     "metadata": {},
     "output_type": "display_data"
    }
   ],
   "source": [
    "df_features = pd.read_parquet(FEATURE_DTYPE_DIR)\n",
    "display(df_features)\n",
    "\n",
    "bool_features = df_features.query('dtype == \"Boolean\"')\n",
    "float64_features = df_features.query('dtype == \"Float64\"')\n",
    "string_features = df_features.query('dtype == \"String\"')\n",
    "date_features = df_features.query('dtype == \"Date\"')\n",
    "\n",
    "with warnings.catch_warnings():\n",
    "    warnings.simplefilter('ignore')\n",
    "    bool_features['cast_dtype'] = pl.Boolean\n",
    "    float64_features['cast_dtype'] = pl.Float32\n",
    "    string_features['cast_dtype'] = pl.String\n",
    "\n",
    "cast_features = pd.concat([bool_features, float64_features, string_features])\n",
    "display(cast_features)"
   ]
  },
  {
   "cell_type": "code",
   "execution_count": 5,
   "metadata": {},
   "outputs": [],
   "source": [
    "def get_depth_paths(load_dir: Path, prefix: Literal['test', 'train']):\n",
    "    \n",
    "    assert prefix in ['test', 'train']\n",
    "    \n",
    "    depth_paths = OrderedDict()\n",
    "\n",
    "    depth_paths['static_0'] = []\n",
    "    depth_paths['static_cb_0'] = []\n",
    "    depth_paths['applprev_1'] = []\n",
    "    depth_paths['other_1'] = []\n",
    "    depth_paths['tax_registry_a_1'] = []\n",
    "    depth_paths['tax_registry_b_1'] = []\n",
    "    depth_paths['tax_registry_c_1'] = []\n",
    "    depth_paths['credit_bureau_a_1'] = []\n",
    "    depth_paths['credit_bureau_b_1'] = []\n",
    "    depth_paths['deposit_1'] = []\n",
    "    depth_paths['person_1'] = []\n",
    "    depth_paths['debitcard_1'] = []\n",
    "    depth_paths['applprev_2'] = []\n",
    "    depth_paths['person_2'] = []\n",
    "    depth_paths['credit_bureau_a_2'] = []\n",
    "    depth_paths['credit_bureau_b_2'] = []\n",
    "\n",
    "    for k in depth_paths.keys():\n",
    "        depth_paths[k] = sorted(\n",
    "            [p for p in load_dir.joinpath(f'parquet_files/{prefix}').glob(f'{prefix}_{k}*.parquet')]\n",
    "        )\n",
    "    return depth_paths"
   ]
  },
  {
   "cell_type": "code",
   "execution_count": 6,
   "metadata": {},
   "outputs": [
    {
     "name": "stdout",
     "output_type": "stream",
     "text": [
      "the number of test paths: 35\n"
     ]
    }
   ],
   "source": [
    "depth_paths = get_depth_paths(COMPETITION_DIR, MODE)\n",
    "\n",
    "print(f'the number of {MODE} paths: {sum(len(v1) for v1 in depth_paths.values())}')"
   ]
  },
  {
   "cell_type": "code",
   "execution_count": 7,
   "metadata": {},
   "outputs": [],
   "source": [
    "def process_D_features(\n",
    "        data: pl.DataFrame,\n",
    "        D_columns: List[str],\n",
    "        how: Literal['Float', 'ymd', 'ymdwd']= 'ymdwd',\n",
    "    )->pl.DataFrame:\n",
    "    for col in D_columns:\n",
    "        # 1. convert to datetime from string\n",
    "        # 2. add y, m, d, wd columns (float32)\n",
    "        # 3. delete original column\n",
    "\n",
    "        # 全変数がnullの場合は1970-01-01で埋めておく\n",
    "        if data[col].is_null().all():\n",
    "            data = data.with_columns([\n",
    "                pl.lit('1970-01-01').str.to_datetime('%Y-%m-%d').alias(col),\n",
    "            ])\n",
    "        else:\n",
    "            data = data.with_columns([\n",
    "                pl.col(col).str.to_datetime('%Y-%m-%d').alias(col),\n",
    "            ])\n",
    "        data = data.with_columns([\n",
    "            pl.col(col).dt.year().alias(f'y_{col}').cast(pl.Float32),\n",
    "            pl.col(col).dt.month().alias(f'm_{col}').cast(pl.Float32),\n",
    "            pl.col(col).dt.day().alias(f'd_{col}').cast(pl.Float32),\n",
    "            pl.col(col).dt.weekday().alias(f'wd_{col}').cast(pl.Float32),\n",
    "        ])\n",
    "        data = data.drop(col)\n",
    "    return data"
   ]
  },
  {
   "cell_type": "code",
   "execution_count": 8,
   "metadata": {},
   "outputs": [],
   "source": [
    "def merge_dataset(\n",
    "        base_data: pl.DataFrame,\n",
    "        depth_paths: Dict[str, List[Path]],\n",
    "        bool_features: pd.DataFrame,\n",
    "        float64_features: pd.DataFrame,\n",
    "        string_features: pd.DataFrame,\n",
    "        depth: Literal['0', '1', '2', '012'],\n",
    "    ) -> pd.DataFrame:\n",
    "    \n",
    "    assert depth in ['0', '1', '2', '012']\n",
    "    \n",
    "    for i, (k, path_list) in enumerate(depth_paths.items()):\n",
    "        \n",
    "        if depth == '012':\n",
    "            pass\n",
    "        elif depth != k[-1]:\n",
    "            continue\n",
    "            \n",
    "        print(f'loading `{k}`')\n",
    "        depth_data = []\n",
    "        for p in path_list:\n",
    "            sub_data = pl.read_parquet(p).cast({'case_id': pl.Int64})\n",
    "            if k[-1] == '1':\n",
    "                sub_data = sub_data.drop('num_group1').group_by('case_id').max().sort('case_id')\n",
    "            elif k[-1] == '2':\n",
    "                sub_data = sub_data.drop(['num_group1', 'num_group2']).group_by('case_id').max().sort('case_id')\n",
    "                \n",
    "            depth_data.append(sub_data)\n",
    "            \n",
    "            print(f'\\t{p.stem}: {sub_data.shape}')\n",
    "            \n",
    "            del sub_data\n",
    "            gc.collect()\n",
    "        \n",
    "        depth_data = pl.concat(depth_data, how='vertical_relaxed')\n",
    "        base_data = base_data.join(depth_data, how='left', on='case_id', suffix=f'_{i}')\n",
    "        \n",
    "        del depth_data\n",
    "        gc.collect()\n",
    "    \n",
    "    '''\n",
    "    cast dtypes\n",
    "    '''\n",
    "    for _, row in bool_features[['Variable', 'cast_dtype']].iterrows():\n",
    "        col = row['Variable']\n",
    "        cast_dtype = row['cast_dtype']\n",
    "        if col in base_data.columns:\n",
    "            base_data = base_data.with_columns(pl.col(col).fill_null(np.nan).cast(cast_dtype))\n",
    "        \n",
    "    for _, row in float64_features[['Variable', 'cast_dtype']].iterrows():\n",
    "        col = row['Variable']\n",
    "        cast_dtype = row['cast_dtype']\n",
    "        if col in base_data.columns:\n",
    "            base_data = base_data.with_columns(pl.col(col).cast(cast_dtype))\n",
    "            \n",
    "    for _, row in string_features[['Variable', 'cast_dtype']].iterrows():\n",
    "        col = row['Variable']\n",
    "        cast_dtype = row['cast_dtype']\n",
    "        if col in base_data.columns:\n",
    "            base_data = base_data.with_columns(pl.col(col).cast(cast_dtype))\n",
    "    \n",
    "    '''\n",
    "    process D features\n",
    "    '''\n",
    "    D_features = [col for col in base_data.columns if col[-1] == 'D']\n",
    "    base_data = process_D_features(base_data, D_features)\n",
    "    base_data = base_data.to_pandas()\n",
    "    return base_data\n",
    "\n",
    "\n",
    "def encode(depth_data:pd.DataFrame, mode:Literal['train', 'test'], save_dir:Path) -> pd.DataFrame:\n",
    "\n",
    "    assert mode in ['train', 'test']\n",
    "\n",
    "    object_columns = depth_data.dtypes.index[depth_data.dtypes==object].to_list()\n",
    "    if 'date_decision' in object_columns:\n",
    "        object_columns.remove('date_decision')\n",
    "\n",
    "    if mode == 'train':\n",
    "        object_data = []\n",
    "        print(f'num of object columns: {len(object_columns)}')\n",
    "        for col in object_columns:\n",
    "            encoder = OrdinalEncoder(handle_unknown='use_encoded_value', unknown_value=-1)\n",
    "            encoder.fit(depth_data[col].values.reshape(-1, 1))\n",
    "            # save encoder as joblib\n",
    "            save_path = save_dir.joinpath(f'encoder_{col}.joblib')\n",
    "            joblib.dump(encoder, save_path)\n",
    "            object_data.append(encoder.transform(depth_data[col].values.reshape(-1, 1)).astype(np.float32))\n",
    "        depth_data.drop(columns=object_columns, inplace=True)\n",
    "        print(f'num of object columns: {len(object_data)}')\n",
    "        object_data = np.concatenate(object_data, axis=1)\n",
    "        object_data = pd.DataFrame(object_data, columns=object_columns)\n",
    "    else:\n",
    "        object_data = []\n",
    "        for col in object_columns:\n",
    "            # load encoder\n",
    "            load_path = save_dir.joinpath(f'encoder_{col}.joblib')\n",
    "            encoder = joblib.load(load_path)\n",
    "            object_data.append(encoder.transform(depth_data[col].values.reshape(-1, 1)).astype(np.float32))\n",
    "        depth_data.drop(columns=object_columns, inplace=True)\n",
    "        object_data = np.concatenate(object_data, axis=1)\n",
    "        object_data = pd.DataFrame(object_data, columns=object_columns)\n",
    "\n",
    "    return pd.concat([depth_data, object_data], axis=1)\n"
   ]
  },
  {
   "cell_type": "code",
   "execution_count": 9,
   "metadata": {},
   "outputs": [
    {
     "name": "stdout",
     "output_type": "stream",
     "text": [
      "test\n"
     ]
    },
    {
     "data": {
      "text/html": [
       "<div><style>\n",
       ".dataframe > thead > tr,\n",
       ".dataframe > tbody > tr {\n",
       "  text-align: right;\n",
       "  white-space: pre-wrap;\n",
       "}\n",
       "</style>\n",
       "<small>shape: (10, 4)</small><table border=\"1\" class=\"dataframe\"><thead><tr><th>case_id</th><th>date_decision</th><th>MONTH</th><th>WEEK_NUM</th></tr><tr><td>i64</td><td>str</td><td>i64</td><td>i64</td></tr></thead><tbody><tr><td>57543</td><td>&quot;2020-10-06&quot;</td><td>202010</td><td>92</td></tr><tr><td>57549</td><td>&quot;2020-10-06&quot;</td><td>202010</td><td>92</td></tr><tr><td>57551</td><td>&quot;2020-10-06&quot;</td><td>202010</td><td>92</td></tr><tr><td>57552</td><td>&quot;2020-10-07&quot;</td><td>202010</td><td>92</td></tr><tr><td>57569</td><td>&quot;2020-10-06&quot;</td><td>202010</td><td>92</td></tr><tr><td>57630</td><td>&quot;2020-10-06&quot;</td><td>202010</td><td>92</td></tr><tr><td>57631</td><td>&quot;2020-10-06&quot;</td><td>202010</td><td>92</td></tr><tr><td>57632</td><td>&quot;2020-10-06&quot;</td><td>202010</td><td>92</td></tr><tr><td>57633</td><td>&quot;2020-10-06&quot;</td><td>202010</td><td>92</td></tr><tr><td>57634</td><td>&quot;2020-10-06&quot;</td><td>202010</td><td>92</td></tr></tbody></table></div>"
      ],
      "text/plain": [
       "shape: (10, 4)\n",
       "┌─────────┬───────────────┬────────┬──────────┐\n",
       "│ case_id ┆ date_decision ┆ MONTH  ┆ WEEK_NUM │\n",
       "│ ---     ┆ ---           ┆ ---    ┆ ---      │\n",
       "│ i64     ┆ str           ┆ i64    ┆ i64      │\n",
       "╞═════════╪═══════════════╪════════╪══════════╡\n",
       "│ 57543   ┆ 2020-10-06    ┆ 202010 ┆ 92       │\n",
       "│ 57549   ┆ 2020-10-06    ┆ 202010 ┆ 92       │\n",
       "│ 57551   ┆ 2020-10-06    ┆ 202010 ┆ 92       │\n",
       "│ 57552   ┆ 2020-10-07    ┆ 202010 ┆ 92       │\n",
       "│ 57569   ┆ 2020-10-06    ┆ 202010 ┆ 92       │\n",
       "│ 57630   ┆ 2020-10-06    ┆ 202010 ┆ 92       │\n",
       "│ 57631   ┆ 2020-10-06    ┆ 202010 ┆ 92       │\n",
       "│ 57632   ┆ 2020-10-06    ┆ 202010 ┆ 92       │\n",
       "│ 57633   ┆ 2020-10-06    ┆ 202010 ┆ 92       │\n",
       "│ 57634   ┆ 2020-10-06    ┆ 202010 ┆ 92       │\n",
       "└─────────┴───────────────┴────────┴──────────┘"
      ]
     },
     "metadata": {},
     "output_type": "display_data"
    }
   ],
   "source": [
    "base_data = pl.read_parquet(\n",
    "    COMPETITION_DIR.joinpath(f'parquet_files/{MODE}/{MODE}_base.parquet')\n",
    ").cast(\n",
    "    {\n",
    "        'case_id': pl.Int64,\n",
    "        'date_decision': pl.String,\n",
    "        'MONTH': pl.Int64,\n",
    "        'WEEK_NUM': pl.Int64,\n",
    "    }\n",
    ")\n",
    "\n",
    "print(MODE)\n",
    "display(base_data)"
   ]
  },
  {
   "cell_type": "code",
   "execution_count": 10,
   "metadata": {},
   "outputs": [
    {
     "name": "stdout",
     "output_type": "stream",
     "text": [
      "loading `static_0`\n",
      "\ttest_static_0_0: (10, 168)\n",
      "\ttest_static_0_1: (10, 168)\n",
      "\ttest_static_0_2: (10, 168)\n",
      "loading `static_cb_0`\n",
      "\ttest_static_cb_0: (10, 53)\n",
      "loading `applprev_1`\n",
      "\ttest_applprev_1_0: (6, 40)\n",
      "\ttest_applprev_1_1: (4, 40)\n",
      "\ttest_applprev_1_2: (4, 40)\n",
      "loading `other_1`\n",
      "\ttest_other_1: (10, 6)\n",
      "loading `tax_registry_a_1`\n",
      "\ttest_tax_registry_a_1: (2, 4)\n",
      "loading `tax_registry_b_1`\n",
      "\ttest_tax_registry_b_1: (2, 4)\n",
      "loading `tax_registry_c_1`\n",
      "\ttest_tax_registry_c_1: (0, 4)\n",
      "loading `credit_bureau_a_1`\n",
      "\ttest_credit_bureau_a_1_0: (2, 78)\n",
      "\ttest_credit_bureau_a_1_1: (2, 78)\n",
      "\ttest_credit_bureau_a_1_2: (1, 78)\n",
      "\ttest_credit_bureau_a_1_3: (2, 78)\n",
      "\ttest_credit_bureau_a_1_4: (1, 78)\n",
      "loading `credit_bureau_b_1`\n",
      "\ttest_credit_bureau_b_1: (5, 44)\n",
      "loading `deposit_1`\n",
      "\ttest_deposit_1: (10, 4)\n",
      "loading `person_1`\n",
      "\ttest_person_1: (3, 36)\n",
      "loading `debitcard_1`\n",
      "\ttest_debitcard_1: (10, 5)\n",
      "loading `applprev_2`\n",
      "\ttest_applprev_2: (4, 4)\n",
      "loading `person_2`\n",
      "\ttest_person_2: (10, 9)\n",
      "loading `credit_bureau_a_2`\n",
      "\ttest_credit_bureau_a_2_0: (1, 17)\n",
      "\ttest_credit_bureau_a_2_1: (1, 17)\n",
      "\ttest_credit_bureau_a_2_10: (1, 17)\n",
      "\ttest_credit_bureau_a_2_11: (1, 17)\n",
      "\ttest_credit_bureau_a_2_2: (1, 17)\n",
      "\ttest_credit_bureau_a_2_3: (1, 17)\n",
      "\ttest_credit_bureau_a_2_4: (1, 17)\n",
      "\ttest_credit_bureau_a_2_5: (1, 17)\n",
      "\ttest_credit_bureau_a_2_6: (1, 17)\n",
      "\ttest_credit_bureau_a_2_7: (1, 17)\n",
      "\ttest_credit_bureau_a_2_8: (1, 17)\n",
      "\ttest_credit_bureau_a_2_9: (1, 17)\n",
      "loading `credit_bureau_b_2`\n",
      "\ttest_credit_bureau_b_2: (1, 4)\n"
     ]
    },
    {
     "data": {
      "text/html": [
       "<div>\n",
       "<style scoped>\n",
       "    .dataframe tbody tr th:only-of-type {\n",
       "        vertical-align: middle;\n",
       "    }\n",
       "\n",
       "    .dataframe tbody tr th {\n",
       "        vertical-align: top;\n",
       "    }\n",
       "\n",
       "    .dataframe thead th {\n",
       "        text-align: right;\n",
       "    }\n",
       "</style>\n",
       "<table border=\"1\" class=\"dataframe\">\n",
       "  <thead>\n",
       "    <tr style=\"text-align: right;\">\n",
       "      <th></th>\n",
       "      <th>case_id</th>\n",
       "      <th>date_decision</th>\n",
       "      <th>MONTH</th>\n",
       "      <th>WEEK_NUM</th>\n",
       "      <th>actualdpdtolerance_344P</th>\n",
       "      <th>amtinstpaidbefduel24m_4187115A</th>\n",
       "      <th>annuity_780A</th>\n",
       "      <th>annuitynextmonth_57A</th>\n",
       "      <th>applicationcnt_361L</th>\n",
       "      <th>applications30d_658L</th>\n",
       "      <th>...</th>\n",
       "      <th>d_openingdate_857D</th>\n",
       "      <th>wd_openingdate_857D</th>\n",
       "      <th>y_empls_employedfrom_796D</th>\n",
       "      <th>m_empls_employedfrom_796D</th>\n",
       "      <th>d_empls_employedfrom_796D</th>\n",
       "      <th>wd_empls_employedfrom_796D</th>\n",
       "      <th>y_pmts_date_1107D</th>\n",
       "      <th>m_pmts_date_1107D</th>\n",
       "      <th>d_pmts_date_1107D</th>\n",
       "      <th>wd_pmts_date_1107D</th>\n",
       "    </tr>\n",
       "  </thead>\n",
       "  <tbody>\n",
       "    <tr>\n",
       "      <th>0</th>\n",
       "      <td>57543</td>\n",
       "      <td>2020-10-06</td>\n",
       "      <td>202010</td>\n",
       "      <td>92</td>\n",
       "      <td>NaN</td>\n",
       "      <td>NaN</td>\n",
       "      <td>7637.200195</td>\n",
       "      <td>0.0</td>\n",
       "      <td>0.0</td>\n",
       "      <td>0.0</td>\n",
       "      <td>...</td>\n",
       "      <td>1.0</td>\n",
       "      <td>4.0</td>\n",
       "      <td>1970.0</td>\n",
       "      <td>1.0</td>\n",
       "      <td>1.0</td>\n",
       "      <td>4.0</td>\n",
       "      <td>1970.0</td>\n",
       "      <td>1.0</td>\n",
       "      <td>1.0</td>\n",
       "      <td>4.0</td>\n",
       "    </tr>\n",
       "    <tr>\n",
       "      <th>1</th>\n",
       "      <td>57549</td>\n",
       "      <td>2020-10-06</td>\n",
       "      <td>202010</td>\n",
       "      <td>92</td>\n",
       "      <td>NaN</td>\n",
       "      <td>NaN</td>\n",
       "      <td>902.600037</td>\n",
       "      <td>0.0</td>\n",
       "      <td>0.0</td>\n",
       "      <td>0.0</td>\n",
       "      <td>...</td>\n",
       "      <td>1.0</td>\n",
       "      <td>4.0</td>\n",
       "      <td>1970.0</td>\n",
       "      <td>1.0</td>\n",
       "      <td>1.0</td>\n",
       "      <td>4.0</td>\n",
       "      <td>1970.0</td>\n",
       "      <td>1.0</td>\n",
       "      <td>1.0</td>\n",
       "      <td>4.0</td>\n",
       "    </tr>\n",
       "    <tr>\n",
       "      <th>2</th>\n",
       "      <td>57551</td>\n",
       "      <td>2020-10-06</td>\n",
       "      <td>202010</td>\n",
       "      <td>92</td>\n",
       "      <td>NaN</td>\n",
       "      <td>NaN</td>\n",
       "      <td>3610.199951</td>\n",
       "      <td>0.0</td>\n",
       "      <td>0.0</td>\n",
       "      <td>0.0</td>\n",
       "      <td>...</td>\n",
       "      <td>1.0</td>\n",
       "      <td>4.0</td>\n",
       "      <td>1970.0</td>\n",
       "      <td>1.0</td>\n",
       "      <td>1.0</td>\n",
       "      <td>4.0</td>\n",
       "      <td>1970.0</td>\n",
       "      <td>1.0</td>\n",
       "      <td>1.0</td>\n",
       "      <td>4.0</td>\n",
       "    </tr>\n",
       "    <tr>\n",
       "      <th>3</th>\n",
       "      <td>57552</td>\n",
       "      <td>2020-10-07</td>\n",
       "      <td>202010</td>\n",
       "      <td>92</td>\n",
       "      <td>NaN</td>\n",
       "      <td>NaN</td>\n",
       "      <td>6964.399902</td>\n",
       "      <td>0.0</td>\n",
       "      <td>0.0</td>\n",
       "      <td>0.0</td>\n",
       "      <td>...</td>\n",
       "      <td>1.0</td>\n",
       "      <td>4.0</td>\n",
       "      <td>1970.0</td>\n",
       "      <td>1.0</td>\n",
       "      <td>1.0</td>\n",
       "      <td>4.0</td>\n",
       "      <td>1970.0</td>\n",
       "      <td>1.0</td>\n",
       "      <td>1.0</td>\n",
       "      <td>4.0</td>\n",
       "    </tr>\n",
       "    <tr>\n",
       "      <th>4</th>\n",
       "      <td>57569</td>\n",
       "      <td>2020-10-06</td>\n",
       "      <td>202010</td>\n",
       "      <td>92</td>\n",
       "      <td>NaN</td>\n",
       "      <td>NaN</td>\n",
       "      <td>5553.399902</td>\n",
       "      <td>0.0</td>\n",
       "      <td>0.0</td>\n",
       "      <td>0.0</td>\n",
       "      <td>...</td>\n",
       "      <td>1.0</td>\n",
       "      <td>4.0</td>\n",
       "      <td>1970.0</td>\n",
       "      <td>1.0</td>\n",
       "      <td>1.0</td>\n",
       "      <td>4.0</td>\n",
       "      <td>1970.0</td>\n",
       "      <td>1.0</td>\n",
       "      <td>1.0</td>\n",
       "      <td>4.0</td>\n",
       "    </tr>\n",
       "    <tr>\n",
       "      <th>5</th>\n",
       "      <td>57630</td>\n",
       "      <td>2020-10-06</td>\n",
       "      <td>202010</td>\n",
       "      <td>92</td>\n",
       "      <td>NaN</td>\n",
       "      <td>NaN</td>\n",
       "      <td>7404.800293</td>\n",
       "      <td>0.0</td>\n",
       "      <td>0.0</td>\n",
       "      <td>0.0</td>\n",
       "      <td>...</td>\n",
       "      <td>1.0</td>\n",
       "      <td>4.0</td>\n",
       "      <td>1970.0</td>\n",
       "      <td>1.0</td>\n",
       "      <td>1.0</td>\n",
       "      <td>4.0</td>\n",
       "      <td>1970.0</td>\n",
       "      <td>1.0</td>\n",
       "      <td>1.0</td>\n",
       "      <td>4.0</td>\n",
       "    </tr>\n",
       "    <tr>\n",
       "      <th>6</th>\n",
       "      <td>57631</td>\n",
       "      <td>2020-10-06</td>\n",
       "      <td>202010</td>\n",
       "      <td>92</td>\n",
       "      <td>NaN</td>\n",
       "      <td>NaN</td>\n",
       "      <td>2872.800049</td>\n",
       "      <td>0.0</td>\n",
       "      <td>0.0</td>\n",
       "      <td>0.0</td>\n",
       "      <td>...</td>\n",
       "      <td>1.0</td>\n",
       "      <td>4.0</td>\n",
       "      <td>1970.0</td>\n",
       "      <td>1.0</td>\n",
       "      <td>1.0</td>\n",
       "      <td>4.0</td>\n",
       "      <td>1970.0</td>\n",
       "      <td>1.0</td>\n",
       "      <td>1.0</td>\n",
       "      <td>4.0</td>\n",
       "    </tr>\n",
       "    <tr>\n",
       "      <th>7</th>\n",
       "      <td>57632</td>\n",
       "      <td>2020-10-06</td>\n",
       "      <td>202010</td>\n",
       "      <td>92</td>\n",
       "      <td>NaN</td>\n",
       "      <td>NaN</td>\n",
       "      <td>6225.800293</td>\n",
       "      <td>0.0</td>\n",
       "      <td>0.0</td>\n",
       "      <td>1.0</td>\n",
       "      <td>...</td>\n",
       "      <td>1.0</td>\n",
       "      <td>4.0</td>\n",
       "      <td>1970.0</td>\n",
       "      <td>1.0</td>\n",
       "      <td>1.0</td>\n",
       "      <td>4.0</td>\n",
       "      <td>1970.0</td>\n",
       "      <td>1.0</td>\n",
       "      <td>1.0</td>\n",
       "      <td>4.0</td>\n",
       "    </tr>\n",
       "    <tr>\n",
       "      <th>8</th>\n",
       "      <td>57633</td>\n",
       "      <td>2020-10-06</td>\n",
       "      <td>202010</td>\n",
       "      <td>92</td>\n",
       "      <td>0.0</td>\n",
       "      <td>NaN</td>\n",
       "      <td>7917.000000</td>\n",
       "      <td>0.0</td>\n",
       "      <td>0.0</td>\n",
       "      <td>0.0</td>\n",
       "      <td>...</td>\n",
       "      <td>1.0</td>\n",
       "      <td>4.0</td>\n",
       "      <td>1970.0</td>\n",
       "      <td>1.0</td>\n",
       "      <td>1.0</td>\n",
       "      <td>4.0</td>\n",
       "      <td>1970.0</td>\n",
       "      <td>1.0</td>\n",
       "      <td>1.0</td>\n",
       "      <td>4.0</td>\n",
       "    </tr>\n",
       "    <tr>\n",
       "      <th>9</th>\n",
       "      <td>57634</td>\n",
       "      <td>2020-10-06</td>\n",
       "      <td>202010</td>\n",
       "      <td>92</td>\n",
       "      <td>NaN</td>\n",
       "      <td>NaN</td>\n",
       "      <td>5894.000000</td>\n",
       "      <td>0.0</td>\n",
       "      <td>0.0</td>\n",
       "      <td>0.0</td>\n",
       "      <td>...</td>\n",
       "      <td>1.0</td>\n",
       "      <td>4.0</td>\n",
       "      <td>1970.0</td>\n",
       "      <td>1.0</td>\n",
       "      <td>1.0</td>\n",
       "      <td>4.0</td>\n",
       "      <td>1970.0</td>\n",
       "      <td>1.0</td>\n",
       "      <td>1.0</td>\n",
       "      <td>4.0</td>\n",
       "    </tr>\n",
       "  </tbody>\n",
       "</table>\n",
       "<p>10 rows × 639 columns</p>\n",
       "</div>"
      ],
      "text/plain": [
       "   case_id date_decision   MONTH  WEEK_NUM  actualdpdtolerance_344P  \\\n",
       "0    57543    2020-10-06  202010        92                      NaN   \n",
       "1    57549    2020-10-06  202010        92                      NaN   \n",
       "2    57551    2020-10-06  202010        92                      NaN   \n",
       "3    57552    2020-10-07  202010        92                      NaN   \n",
       "4    57569    2020-10-06  202010        92                      NaN   \n",
       "5    57630    2020-10-06  202010        92                      NaN   \n",
       "6    57631    2020-10-06  202010        92                      NaN   \n",
       "7    57632    2020-10-06  202010        92                      NaN   \n",
       "8    57633    2020-10-06  202010        92                      0.0   \n",
       "9    57634    2020-10-06  202010        92                      NaN   \n",
       "\n",
       "   amtinstpaidbefduel24m_4187115A  annuity_780A  annuitynextmonth_57A  \\\n",
       "0                             NaN   7637.200195                   0.0   \n",
       "1                             NaN    902.600037                   0.0   \n",
       "2                             NaN   3610.199951                   0.0   \n",
       "3                             NaN   6964.399902                   0.0   \n",
       "4                             NaN   5553.399902                   0.0   \n",
       "5                             NaN   7404.800293                   0.0   \n",
       "6                             NaN   2872.800049                   0.0   \n",
       "7                             NaN   6225.800293                   0.0   \n",
       "8                             NaN   7917.000000                   0.0   \n",
       "9                             NaN   5894.000000                   0.0   \n",
       "\n",
       "   applicationcnt_361L  applications30d_658L  ...  d_openingdate_857D  \\\n",
       "0                  0.0                   0.0  ...                 1.0   \n",
       "1                  0.0                   0.0  ...                 1.0   \n",
       "2                  0.0                   0.0  ...                 1.0   \n",
       "3                  0.0                   0.0  ...                 1.0   \n",
       "4                  0.0                   0.0  ...                 1.0   \n",
       "5                  0.0                   0.0  ...                 1.0   \n",
       "6                  0.0                   0.0  ...                 1.0   \n",
       "7                  0.0                   1.0  ...                 1.0   \n",
       "8                  0.0                   0.0  ...                 1.0   \n",
       "9                  0.0                   0.0  ...                 1.0   \n",
       "\n",
       "   wd_openingdate_857D  y_empls_employedfrom_796D  m_empls_employedfrom_796D  \\\n",
       "0                  4.0                     1970.0                        1.0   \n",
       "1                  4.0                     1970.0                        1.0   \n",
       "2                  4.0                     1970.0                        1.0   \n",
       "3                  4.0                     1970.0                        1.0   \n",
       "4                  4.0                     1970.0                        1.0   \n",
       "5                  4.0                     1970.0                        1.0   \n",
       "6                  4.0                     1970.0                        1.0   \n",
       "7                  4.0                     1970.0                        1.0   \n",
       "8                  4.0                     1970.0                        1.0   \n",
       "9                  4.0                     1970.0                        1.0   \n",
       "\n",
       "   d_empls_employedfrom_796D  wd_empls_employedfrom_796D  y_pmts_date_1107D  \\\n",
       "0                        1.0                         4.0             1970.0   \n",
       "1                        1.0                         4.0             1970.0   \n",
       "2                        1.0                         4.0             1970.0   \n",
       "3                        1.0                         4.0             1970.0   \n",
       "4                        1.0                         4.0             1970.0   \n",
       "5                        1.0                         4.0             1970.0   \n",
       "6                        1.0                         4.0             1970.0   \n",
       "7                        1.0                         4.0             1970.0   \n",
       "8                        1.0                         4.0             1970.0   \n",
       "9                        1.0                         4.0             1970.0   \n",
       "\n",
       "   m_pmts_date_1107D  d_pmts_date_1107D  wd_pmts_date_1107D  \n",
       "0                1.0                1.0                 4.0  \n",
       "1                1.0                1.0                 4.0  \n",
       "2                1.0                1.0                 4.0  \n",
       "3                1.0                1.0                 4.0  \n",
       "4                1.0                1.0                 4.0  \n",
       "5                1.0                1.0                 4.0  \n",
       "6                1.0                1.0                 4.0  \n",
       "7                1.0                1.0                 4.0  \n",
       "8                1.0                1.0                 4.0  \n",
       "9                1.0                1.0                 4.0  \n",
       "\n",
       "[10 rows x 639 columns]"
      ]
     },
     "metadata": {},
     "output_type": "display_data"
    }
   ],
   "source": [
    "depth_data = merge_dataset(\n",
    "    base_data,\n",
    "    depth_paths,\n",
    "    bool_features,\n",
    "    float64_features,\n",
    "    string_features,\n",
    "    '012'\n",
    ")\n",
    "display(depth_data)"
   ]
  },
  {
   "cell_type": "code",
   "execution_count": 11,
   "metadata": {},
   "outputs": [
    {
     "data": {
      "text/html": [
       "<div>\n",
       "<style scoped>\n",
       "    .dataframe tbody tr th:only-of-type {\n",
       "        vertical-align: middle;\n",
       "    }\n",
       "\n",
       "    .dataframe tbody tr th {\n",
       "        vertical-align: top;\n",
       "    }\n",
       "\n",
       "    .dataframe thead th {\n",
       "        text-align: right;\n",
       "    }\n",
       "</style>\n",
       "<table border=\"1\" class=\"dataframe\">\n",
       "  <thead>\n",
       "    <tr style=\"text-align: right;\">\n",
       "      <th></th>\n",
       "      <th>case_id</th>\n",
       "      <th>date_decision</th>\n",
       "      <th>MONTH</th>\n",
       "      <th>WEEK_NUM</th>\n",
       "      <th>actualdpdtolerance_344P</th>\n",
       "      <th>amtinstpaidbefduel24m_4187115A</th>\n",
       "      <th>annuity_780A</th>\n",
       "      <th>annuitynextmonth_57A</th>\n",
       "      <th>applicationcnt_361L</th>\n",
       "      <th>applications30d_658L</th>\n",
       "      <th>...</th>\n",
       "      <th>conts_role_79M</th>\n",
       "      <th>empls_economicalst_849M</th>\n",
       "      <th>empls_employer_name_740M</th>\n",
       "      <th>relatedpersons_role_762T</th>\n",
       "      <th>collater_typofvalofguarant_298M</th>\n",
       "      <th>collater_typofvalofguarant_407M</th>\n",
       "      <th>collaterals_typeofguarante_359M</th>\n",
       "      <th>collaterals_typeofguarante_669M</th>\n",
       "      <th>subjectroles_name_541M</th>\n",
       "      <th>subjectroles_name_838M</th>\n",
       "    </tr>\n",
       "  </thead>\n",
       "  <tbody>\n",
       "    <tr>\n",
       "      <th>0</th>\n",
       "      <td>57543</td>\n",
       "      <td>2020-10-06</td>\n",
       "      <td>202010</td>\n",
       "      <td>92</td>\n",
       "      <td>NaN</td>\n",
       "      <td>NaN</td>\n",
       "      <td>7637.200195</td>\n",
       "      <td>0.0</td>\n",
       "      <td>0.0</td>\n",
       "      <td>0.0</td>\n",
       "      <td>...</td>\n",
       "      <td>5.0</td>\n",
       "      <td>6.0</td>\n",
       "      <td>1.0</td>\n",
       "      <td>10.0</td>\n",
       "      <td>1.0</td>\n",
       "      <td>2.0</td>\n",
       "      <td>1.0</td>\n",
       "      <td>3.0</td>\n",
       "      <td>0.0</td>\n",
       "      <td>1.0</td>\n",
       "    </tr>\n",
       "    <tr>\n",
       "      <th>1</th>\n",
       "      <td>57549</td>\n",
       "      <td>2020-10-06</td>\n",
       "      <td>202010</td>\n",
       "      <td>92</td>\n",
       "      <td>NaN</td>\n",
       "      <td>NaN</td>\n",
       "      <td>902.600037</td>\n",
       "      <td>0.0</td>\n",
       "      <td>0.0</td>\n",
       "      <td>0.0</td>\n",
       "      <td>...</td>\n",
       "      <td>5.0</td>\n",
       "      <td>6.0</td>\n",
       "      <td>1.0</td>\n",
       "      <td>10.0</td>\n",
       "      <td>2.0</td>\n",
       "      <td>5.0</td>\n",
       "      <td>5.0</td>\n",
       "      <td>5.0</td>\n",
       "      <td>4.0</td>\n",
       "      <td>4.0</td>\n",
       "    </tr>\n",
       "    <tr>\n",
       "      <th>2</th>\n",
       "      <td>57551</td>\n",
       "      <td>2020-10-06</td>\n",
       "      <td>202010</td>\n",
       "      <td>92</td>\n",
       "      <td>NaN</td>\n",
       "      <td>NaN</td>\n",
       "      <td>3610.199951</td>\n",
       "      <td>0.0</td>\n",
       "      <td>0.0</td>\n",
       "      <td>0.0</td>\n",
       "      <td>...</td>\n",
       "      <td>5.0</td>\n",
       "      <td>6.0</td>\n",
       "      <td>1.0</td>\n",
       "      <td>10.0</td>\n",
       "      <td>2.0</td>\n",
       "      <td>5.0</td>\n",
       "      <td>5.0</td>\n",
       "      <td>5.0</td>\n",
       "      <td>4.0</td>\n",
       "      <td>4.0</td>\n",
       "    </tr>\n",
       "    <tr>\n",
       "      <th>3</th>\n",
       "      <td>57552</td>\n",
       "      <td>2020-10-07</td>\n",
       "      <td>202010</td>\n",
       "      <td>92</td>\n",
       "      <td>NaN</td>\n",
       "      <td>NaN</td>\n",
       "      <td>6964.399902</td>\n",
       "      <td>0.0</td>\n",
       "      <td>0.0</td>\n",
       "      <td>0.0</td>\n",
       "      <td>...</td>\n",
       "      <td>4.0</td>\n",
       "      <td>5.0</td>\n",
       "      <td>0.0</td>\n",
       "      <td>10.0</td>\n",
       "      <td>2.0</td>\n",
       "      <td>5.0</td>\n",
       "      <td>5.0</td>\n",
       "      <td>5.0</td>\n",
       "      <td>4.0</td>\n",
       "      <td>4.0</td>\n",
       "    </tr>\n",
       "    <tr>\n",
       "      <th>4</th>\n",
       "      <td>57569</td>\n",
       "      <td>2020-10-06</td>\n",
       "      <td>202010</td>\n",
       "      <td>92</td>\n",
       "      <td>NaN</td>\n",
       "      <td>NaN</td>\n",
       "      <td>5553.399902</td>\n",
       "      <td>0.0</td>\n",
       "      <td>0.0</td>\n",
       "      <td>0.0</td>\n",
       "      <td>...</td>\n",
       "      <td>4.0</td>\n",
       "      <td>5.0</td>\n",
       "      <td>0.0</td>\n",
       "      <td>10.0</td>\n",
       "      <td>2.0</td>\n",
       "      <td>5.0</td>\n",
       "      <td>5.0</td>\n",
       "      <td>5.0</td>\n",
       "      <td>4.0</td>\n",
       "      <td>4.0</td>\n",
       "    </tr>\n",
       "    <tr>\n",
       "      <th>5</th>\n",
       "      <td>57630</td>\n",
       "      <td>2020-10-06</td>\n",
       "      <td>202010</td>\n",
       "      <td>92</td>\n",
       "      <td>NaN</td>\n",
       "      <td>NaN</td>\n",
       "      <td>7404.800293</td>\n",
       "      <td>0.0</td>\n",
       "      <td>0.0</td>\n",
       "      <td>0.0</td>\n",
       "      <td>...</td>\n",
       "      <td>4.0</td>\n",
       "      <td>5.0</td>\n",
       "      <td>0.0</td>\n",
       "      <td>10.0</td>\n",
       "      <td>2.0</td>\n",
       "      <td>5.0</td>\n",
       "      <td>5.0</td>\n",
       "      <td>5.0</td>\n",
       "      <td>4.0</td>\n",
       "      <td>4.0</td>\n",
       "    </tr>\n",
       "    <tr>\n",
       "      <th>6</th>\n",
       "      <td>57631</td>\n",
       "      <td>2020-10-06</td>\n",
       "      <td>202010</td>\n",
       "      <td>92</td>\n",
       "      <td>NaN</td>\n",
       "      <td>NaN</td>\n",
       "      <td>2872.800049</td>\n",
       "      <td>0.0</td>\n",
       "      <td>0.0</td>\n",
       "      <td>0.0</td>\n",
       "      <td>...</td>\n",
       "      <td>4.0</td>\n",
       "      <td>5.0</td>\n",
       "      <td>0.0</td>\n",
       "      <td>10.0</td>\n",
       "      <td>2.0</td>\n",
       "      <td>5.0</td>\n",
       "      <td>5.0</td>\n",
       "      <td>5.0</td>\n",
       "      <td>4.0</td>\n",
       "      <td>4.0</td>\n",
       "    </tr>\n",
       "    <tr>\n",
       "      <th>7</th>\n",
       "      <td>57632</td>\n",
       "      <td>2020-10-06</td>\n",
       "      <td>202010</td>\n",
       "      <td>92</td>\n",
       "      <td>NaN</td>\n",
       "      <td>NaN</td>\n",
       "      <td>6225.800293</td>\n",
       "      <td>0.0</td>\n",
       "      <td>0.0</td>\n",
       "      <td>1.0</td>\n",
       "      <td>...</td>\n",
       "      <td>4.0</td>\n",
       "      <td>5.0</td>\n",
       "      <td>0.0</td>\n",
       "      <td>10.0</td>\n",
       "      <td>2.0</td>\n",
       "      <td>5.0</td>\n",
       "      <td>5.0</td>\n",
       "      <td>5.0</td>\n",
       "      <td>4.0</td>\n",
       "      <td>4.0</td>\n",
       "    </tr>\n",
       "    <tr>\n",
       "      <th>8</th>\n",
       "      <td>57633</td>\n",
       "      <td>2020-10-06</td>\n",
       "      <td>202010</td>\n",
       "      <td>92</td>\n",
       "      <td>0.0</td>\n",
       "      <td>NaN</td>\n",
       "      <td>7917.000000</td>\n",
       "      <td>0.0</td>\n",
       "      <td>0.0</td>\n",
       "      <td>0.0</td>\n",
       "      <td>...</td>\n",
       "      <td>4.0</td>\n",
       "      <td>5.0</td>\n",
       "      <td>0.0</td>\n",
       "      <td>10.0</td>\n",
       "      <td>2.0</td>\n",
       "      <td>5.0</td>\n",
       "      <td>5.0</td>\n",
       "      <td>5.0</td>\n",
       "      <td>4.0</td>\n",
       "      <td>4.0</td>\n",
       "    </tr>\n",
       "    <tr>\n",
       "      <th>9</th>\n",
       "      <td>57634</td>\n",
       "      <td>2020-10-06</td>\n",
       "      <td>202010</td>\n",
       "      <td>92</td>\n",
       "      <td>NaN</td>\n",
       "      <td>NaN</td>\n",
       "      <td>5894.000000</td>\n",
       "      <td>0.0</td>\n",
       "      <td>0.0</td>\n",
       "      <td>0.0</td>\n",
       "      <td>...</td>\n",
       "      <td>4.0</td>\n",
       "      <td>5.0</td>\n",
       "      <td>0.0</td>\n",
       "      <td>10.0</td>\n",
       "      <td>2.0</td>\n",
       "      <td>5.0</td>\n",
       "      <td>5.0</td>\n",
       "      <td>5.0</td>\n",
       "      <td>4.0</td>\n",
       "      <td>4.0</td>\n",
       "    </tr>\n",
       "  </tbody>\n",
       "</table>\n",
       "<p>10 rows × 639 columns</p>\n",
       "</div>"
      ],
      "text/plain": [
       "   case_id date_decision   MONTH  WEEK_NUM  actualdpdtolerance_344P  \\\n",
       "0    57543    2020-10-06  202010        92                      NaN   \n",
       "1    57549    2020-10-06  202010        92                      NaN   \n",
       "2    57551    2020-10-06  202010        92                      NaN   \n",
       "3    57552    2020-10-07  202010        92                      NaN   \n",
       "4    57569    2020-10-06  202010        92                      NaN   \n",
       "5    57630    2020-10-06  202010        92                      NaN   \n",
       "6    57631    2020-10-06  202010        92                      NaN   \n",
       "7    57632    2020-10-06  202010        92                      NaN   \n",
       "8    57633    2020-10-06  202010        92                      0.0   \n",
       "9    57634    2020-10-06  202010        92                      NaN   \n",
       "\n",
       "   amtinstpaidbefduel24m_4187115A  annuity_780A  annuitynextmonth_57A  \\\n",
       "0                             NaN   7637.200195                   0.0   \n",
       "1                             NaN    902.600037                   0.0   \n",
       "2                             NaN   3610.199951                   0.0   \n",
       "3                             NaN   6964.399902                   0.0   \n",
       "4                             NaN   5553.399902                   0.0   \n",
       "5                             NaN   7404.800293                   0.0   \n",
       "6                             NaN   2872.800049                   0.0   \n",
       "7                             NaN   6225.800293                   0.0   \n",
       "8                             NaN   7917.000000                   0.0   \n",
       "9                             NaN   5894.000000                   0.0   \n",
       "\n",
       "   applicationcnt_361L  applications30d_658L  ...  conts_role_79M  \\\n",
       "0                  0.0                   0.0  ...             5.0   \n",
       "1                  0.0                   0.0  ...             5.0   \n",
       "2                  0.0                   0.0  ...             5.0   \n",
       "3                  0.0                   0.0  ...             4.0   \n",
       "4                  0.0                   0.0  ...             4.0   \n",
       "5                  0.0                   0.0  ...             4.0   \n",
       "6                  0.0                   0.0  ...             4.0   \n",
       "7                  0.0                   1.0  ...             4.0   \n",
       "8                  0.0                   0.0  ...             4.0   \n",
       "9                  0.0                   0.0  ...             4.0   \n",
       "\n",
       "   empls_economicalst_849M  empls_employer_name_740M  \\\n",
       "0                      6.0                       1.0   \n",
       "1                      6.0                       1.0   \n",
       "2                      6.0                       1.0   \n",
       "3                      5.0                       0.0   \n",
       "4                      5.0                       0.0   \n",
       "5                      5.0                       0.0   \n",
       "6                      5.0                       0.0   \n",
       "7                      5.0                       0.0   \n",
       "8                      5.0                       0.0   \n",
       "9                      5.0                       0.0   \n",
       "\n",
       "   relatedpersons_role_762T  collater_typofvalofguarant_298M  \\\n",
       "0                      10.0                              1.0   \n",
       "1                      10.0                              2.0   \n",
       "2                      10.0                              2.0   \n",
       "3                      10.0                              2.0   \n",
       "4                      10.0                              2.0   \n",
       "5                      10.0                              2.0   \n",
       "6                      10.0                              2.0   \n",
       "7                      10.0                              2.0   \n",
       "8                      10.0                              2.0   \n",
       "9                      10.0                              2.0   \n",
       "\n",
       "   collater_typofvalofguarant_407M  collaterals_typeofguarante_359M  \\\n",
       "0                              2.0                              1.0   \n",
       "1                              5.0                              5.0   \n",
       "2                              5.0                              5.0   \n",
       "3                              5.0                              5.0   \n",
       "4                              5.0                              5.0   \n",
       "5                              5.0                              5.0   \n",
       "6                              5.0                              5.0   \n",
       "7                              5.0                              5.0   \n",
       "8                              5.0                              5.0   \n",
       "9                              5.0                              5.0   \n",
       "\n",
       "   collaterals_typeofguarante_669M  subjectroles_name_541M  \\\n",
       "0                              3.0                     0.0   \n",
       "1                              5.0                     4.0   \n",
       "2                              5.0                     4.0   \n",
       "3                              5.0                     4.0   \n",
       "4                              5.0                     4.0   \n",
       "5                              5.0                     4.0   \n",
       "6                              5.0                     4.0   \n",
       "7                              5.0                     4.0   \n",
       "8                              5.0                     4.0   \n",
       "9                              5.0                     4.0   \n",
       "\n",
       "   subjectroles_name_838M  \n",
       "0                     1.0  \n",
       "1                     4.0  \n",
       "2                     4.0  \n",
       "3                     4.0  \n",
       "4                     4.0  \n",
       "5                     4.0  \n",
       "6                     4.0  \n",
       "7                     4.0  \n",
       "8                     4.0  \n",
       "9                     4.0  \n",
       "\n",
       "[10 rows x 639 columns]"
      ]
     },
     "metadata": {},
     "output_type": "display_data"
    }
   ],
   "source": [
    "depth_data = encode(depth_data, MODE, MODEL_DIR.joinpath('encoders'))\n",
    "display(depth_data)"
   ]
  },
  {
   "cell_type": "code",
   "execution_count": 12,
   "metadata": {},
   "outputs": [],
   "source": [
    "# cut columns where NaN ratio is over 0.5\n",
    "# nan_ratio = depth_data.isnull().mean()\n",
    "# cut_columns = nan_ratio[nan_ratio > 0.5].index\n",
    "# depth_data.drop(columns=cut_columns, inplace=True)\n",
    "\n",
    "# display(depth_data)\n",
    "\n",
    "# # save cut_columns\n",
    "# with open(MODEL_DIR.joinpath('cut_columns.pkl'), 'wb') as f:\n",
    "#     pickle.dump(cut_columns, f)\n",
    "\n",
    "\n",
    "# # load cut_columns\n",
    "# with open(MODEL_DIR.joinpath('cut_columns.pkl'), 'rb') as f:\n",
    "#     cut_columns = pickle.load(f)"
   ]
  },
  {
   "cell_type": "code",
   "execution_count": 13,
   "metadata": {},
   "outputs": [],
   "source": [
    "if MODE == 'train':\n",
    "    X, y= (\n",
    "        depth_data.drop(columns=['case_id', 'target', 'date_decision']),\n",
    "        depth_data[['case_id', 'target', 'WEEK_NUM']],\n",
    "    )\n",
    "else:\n",
    "    X = depth_data.drop(columns=['case_id', 'date_decision'])\n",
    "    y = depth_data[['case_id', 'WEEK_NUM']]"
   ]
  },
  {
   "cell_type": "code",
   "execution_count": 14,
   "metadata": {},
   "outputs": [
    {
     "data": {
      "text/plain": [
       "float32    622\n",
       "bool        13\n",
       "int64        2\n",
       "Name: count, dtype: int64"
      ]
     },
     "execution_count": 14,
     "metadata": {},
     "output_type": "execute_result"
    }
   ],
   "source": [
    "X.dtypes.value_counts()"
   ]
  },
  {
   "cell_type": "code",
   "execution_count": 15,
   "metadata": {},
   "outputs": [],
   "source": [
    "# https://zenn.dev/nishimoto/articles/8d575924cc619d に従いoptunaによるチューニングを行う\n",
    "\n",
    "params = {\n",
    "    'objective': 'binary',\n",
    "    'metric': ['binary_logloss', 'auc', 'average_precision'],\n",
    "    'verbosity': -1,\n",
    "    'boosting_type': 'gbdt',\n",
    "    'seed': 42,\n",
    "    'max_depth': 5,\n",
    "    'num_leaves': 31,\n",
    "    # the folloqwings are hyperparameters to be tuned (use 10% of dataset)\n",
    "    'feature_fraction': 0.8252389166368176,\n",
    "    'lambda_l1': 9.791900843835457,\n",
    "    'lambda_l2': 7.511904149115363,\n",
    "    'num_leaves': 30,\n",
    "    'bagging_fraction': 0.5628920345673979,\n",
    "    'bagging_freq': 7\n",
    "}"
   ]
  },
  {
   "cell_type": "code",
   "execution_count": 16,
   "metadata": {},
   "outputs": [],
   "source": [
    "# return logloss\n",
    "def log_loss(y_true: np.ndarray, y_pred: np.ndarray) -> np.ndarray:\n",
    "    return -np.mean(y_true * np.log(y_pred) + (1 - y_true) * np.log(1 - y_pred))\n",
    "\n",
    "def objective(trial: optuna.Trial, X: pd.DataFrame, y: pd.DataFrame):\n",
    "    params = {\n",
    "        'objective': 'binary',\n",
    "        'metric': ['binary_logloss', 'auc', 'average_precision'],\n",
    "        'verbosity': -1,\n",
    "        'boosting_type': 'gbdt',\n",
    "        'seed': 42,\n",
    "        'feature_fraction': trial.suggest_float('feature_fraction', 0.4, 1.0),\n",
    "        'lambda_l1': trial.suggest_float('lambda_l1', 1e-8, 10.0, log=True),\n",
    "        'lambda_l2': trial.suggest_float('lambda_l2', 1e-8, 10.0, log=True),\n",
    "        'num_leaves': trial.suggest_int('num_leaves', 12, 256, 2),\n",
    "        'baggig_fraction': trial.suggest_float('bagging_fraction', 0.4, 1.0),\n",
    "        'bagging_freq': trial.suggest_int('bagging_freq', 1, 7),\n",
    "        # 'min_child_samples': trial.suggest_int('min_child_samples', 5, 100),\n",
    "    }\n",
    "\n",
    "    n_splits = 5\n",
    "    skf = StratifiedGroupKFold(n_splits=n_splits, shuffle=True, random_state=42)\n",
    "    oof = np.zeros(X.shape[0])\n",
    "\n",
    "    for fold, (train_idx, valid_idx) in enumerate(skf.split(X, y['target'], y['WEEK_NUM'])):\n",
    "        print(f'Fold {fold+1}')\n",
    "\n",
    "        X_train, X_valid = X.iloc[train_idx], X.iloc[valid_idx]\n",
    "        y_train, y_valid = y.iloc[train_idx], y.iloc[valid_idx]\n",
    "\n",
    "        train_data = lgb.Dataset(X_train, label=y_train['target'])\n",
    "        valid_data = lgb.Dataset(X_valid, label=y_valid['target'])\n",
    "\n",
    "        model:lgb.Booster = lgb.train(\n",
    "            params,\n",
    "            train_data,\n",
    "            num_boost_round=100_000,\n",
    "            valid_sets=[train_data, valid_data],\n",
    "            callbacks=[\n",
    "                lgb.early_stopping(stopping_rounds=100),\n",
    "                # lgb.log_evaluation(period=100),\n",
    "            ]\n",
    "        )\n",
    "\n",
    "        oof[valid_idx] = model.predict(X_valid)\n",
    "\n",
    "        # model_path = MODEL_DIR.joinpath(f'model_{fold}.pkl')\n",
    "        # with open(model_path, 'wb') as model_path:\n",
    "        #     pickle.dump(model, model_path)\n",
    "\n",
    "    return log_loss(y['target'], oof)\n",
    "\n",
    "def objective_no_cv(trial: optuna.Trial, train_data: lgb.Dataset, valid_data: lgb.Dataset):\n",
    "    params = {\n",
    "        'objective': 'binary',\n",
    "        'metric': ['binary_logloss', 'auc', 'average_precision'],\n",
    "        'verbosity': -1,\n",
    "        'boosting_type': 'gbdt',\n",
    "        'seed': 42,\n",
    "        'feature_fraction': trial.suggest_float('feature_fraction', 0.4, 1.0),\n",
    "        'lambda_l1': trial.suggest_float('lambda_l1', 1e-8, 10.0, log=True),\n",
    "        'lambda_l2': trial.suggest_float('lambda_l2', 1e-8, 10.0, log=True),\n",
    "        'num_leaves': trial.suggest_int('num_leaves', 12, 256, step=2),\n",
    "        'baggig_fraction': trial.suggest_float('bagging_fraction', 0.4, 1.0),\n",
    "        'bagging_freq': trial.suggest_int('bagging_freq', 1, 7),\n",
    "        # 'min_child_samples': trial.suggest_int('min_child_samples', 5, 100),\n",
    "    }\n",
    "\n",
    "    model = lgb.train(\n",
    "        params,\n",
    "        train_data,\n",
    "        num_boost_round=100_000,\n",
    "        valid_sets=[train_data, valid_data],\n",
    "        callbacks=[\n",
    "            lgb.early_stopping(stopping_rounds=100),\n",
    "            # lgb.log_evaluation(period=100),\n",
    "        ]\n",
    "    )\n",
    "    log_loss = model.best_score['valid_1']['binary_logloss']\n",
    "\n",
    "    return log_loss\n",
    "    \n",
    "\n",
    "def optimize(X: pd.DataFrame, y: pd.DataFrame, cv: bool = True)-> optuna.study.Study:\n",
    "    study = optuna.create_study(\n",
    "        direction='minimize',\n",
    "        study_name=MODEL_DIR.name,\n",
    "        storage=f'sqlite:///{MODEL_DIR}/study.db',\n",
    "        load_if_exists=True,\n",
    "    )\n",
    "    if cv:\n",
    "        study.optimize(lambda trial: objective(trial, X, y), n_trials=100)\n",
    "    else: \n",
    "        # X_, _, y_, _ = train_test_split(X, y, test_size=0.2, random_state=42, stratify=y['target']) # reduce data size\n",
    "        X_train, X_valid, y_train, y_valid = train_test_split(X, y, test_size=0.2, random_state=42, stratify=y['target'])\n",
    "        train_data = lgb.Dataset(X_train, label=y_train['target'])\n",
    "        valid_data = lgb.Dataset(X_valid, label=y_valid['target'])\n",
    "        study.optimize(lambda trial: objective_no_cv(trial, train_data, valid_data), n_trials=100)\n",
    "\n",
    "    # save study data\n",
    "    study_path = MODEL_DIR.joinpath('study.pkl')\n",
    "    with open(study_path, 'wb') as study_path:\n",
    "        pickle.dump(study, study_path)\n",
    "\n",
    "    return study\n",
    "\n",
    "def train(X, y):\n",
    "    \"\"\"Train without tuning.\"\"\"\n",
    "    n_splits = 5\n",
    "    skf = StratifiedGroupKFold(n_splits=n_splits, shuffle=True, random_state=42)\n",
    "    oof = np.zeros(X.shape[0])\n",
    "\n",
    "    for fold, (train_idx, valid_idx) in enumerate(skf.split(X, y['target'], y['WEEK_NUM'])):\n",
    "        print(f'Fold {fold+1}')\n",
    "\n",
    "        X_train, X_valid = X.iloc[train_idx], X.iloc[valid_idx]\n",
    "        y_train, y_valid = y.iloc[train_idx], y.iloc[valid_idx]\n",
    "\n",
    "        train_data = lgb.Dataset(X_train, label=y_train['target'])\n",
    "        valid_data = lgb.Dataset(X_valid, label=y_valid['target'])\n",
    "\n",
    "        model:lgb.Booster = lgb.train(\n",
    "            params,\n",
    "            train_data,\n",
    "            num_boost_round=100_000,\n",
    "            valid_sets=[train_data, valid_data],\n",
    "            callbacks=[\n",
    "                lgb.early_stopping(stopping_rounds=100),\n",
    "                lgb.log_evaluation(period=100),\n",
    "            ]\n",
    "        )\n",
    "\n",
    "        oof[valid_idx] = model.predict(X_valid)\n",
    "\n",
    "        model_path = MODEL_DIR.joinpath(f'model_{fold}.pkl')\n",
    "        with open(model_path, 'wb') as model_path:\n",
    "            pickle.dump(model, model_path)\n",
    "\n",
    "    return oof\n",
    "\n",
    "\n",
    "def evaluate(y_true:pd.DataFrame, y_pred, idx_valid):\n",
    "    from scripts import data\n",
    "    evaluator = data.Evaluator(y_true.iloc[idx_valid], y_pred, save_path=MODEL_DIR)\n",
    "\n",
    "    evaluator.plot_pred(is_log=True)\n",
    "    evaluator.plot_roc()\n",
    "    df_gini_weeks, stability = evaluator.plot_gini()\n",
    "    return df_gini_weeks, stability\n",
    "\n",
    "\n",
    "def predict(\n",
    "        models: List[lgb.Booster],\n",
    "        submit: pd.DataFrame,\n",
    "        X: pd.DataFrame,\n",
    "        batch_size: int = 128,\n",
    "    ) -> pd.DataFrame:\n",
    "    \n",
    "    probas = np.zeros(len(X), dtype=np.float32)\n",
    "    for i in range(0, len(X), batch_size):\n",
    "        limit = i + batch_size if i + batch_size < len(X) else len(X)\n",
    "        batch_X = X.iloc[i:limit]\n",
    "        \n",
    "        for model in models:\n",
    "            proba = model.predict(batch_X, num_iteration=model.best_iteration)\n",
    "            probas[i:limit] += proba.astype(np.float32)\n",
    "            \n",
    "            del proba\n",
    "            gc.collect()\n",
    "            \n",
    "        del batch_X\n",
    "        gc.collect()\n",
    "    \n",
    "    probas /= len(models)\n",
    "    \n",
    "    submit['score'] = probas\n",
    "    \n",
    "    return submit"
   ]
  },
  {
   "cell_type": "code",
   "execution_count": 17,
   "metadata": {},
   "outputs": [
    {
     "data": {
      "text/plain": [
       "float32    622\n",
       "bool        13\n",
       "int64        2\n",
       "Name: count, dtype: int64"
      ]
     },
     "execution_count": 17,
     "metadata": {},
     "output_type": "execute_result"
    }
   ],
   "source": [
    "X.dtypes.value_counts()"
   ]
  },
  {
   "cell_type": "code",
   "execution_count": 18,
   "metadata": {},
   "outputs": [
    {
     "data": {
      "text/plain": [
       "Index([], dtype='object')"
      ]
     },
     "execution_count": 18,
     "metadata": {},
     "output_type": "execute_result"
    }
   ],
   "source": [
    "# extract dtype == float64\n",
    "X.columns[X.dtypes == 'int32']"
   ]
  },
  {
   "cell_type": "code",
   "execution_count": 19,
   "metadata": {},
   "outputs": [
    {
     "data": {
      "text/html": [
       "<div>\n",
       "<style scoped>\n",
       "    .dataframe tbody tr th:only-of-type {\n",
       "        vertical-align: middle;\n",
       "    }\n",
       "\n",
       "    .dataframe tbody tr th {\n",
       "        vertical-align: top;\n",
       "    }\n",
       "\n",
       "    .dataframe thead th {\n",
       "        text-align: right;\n",
       "    }\n",
       "</style>\n",
       "<table border=\"1\" class=\"dataframe\">\n",
       "  <thead>\n",
       "    <tr style=\"text-align: right;\">\n",
       "      <th></th>\n",
       "      <th>case_id</th>\n",
       "      <th>score</th>\n",
       "    </tr>\n",
       "  </thead>\n",
       "  <tbody>\n",
       "    <tr>\n",
       "      <th>0</th>\n",
       "      <td>57543</td>\n",
       "      <td>0.320651</td>\n",
       "    </tr>\n",
       "    <tr>\n",
       "      <th>1</th>\n",
       "      <td>57549</td>\n",
       "      <td>0.222354</td>\n",
       "    </tr>\n",
       "    <tr>\n",
       "      <th>2</th>\n",
       "      <td>57551</td>\n",
       "      <td>0.090779</td>\n",
       "    </tr>\n",
       "    <tr>\n",
       "      <th>3</th>\n",
       "      <td>57552</td>\n",
       "      <td>0.034037</td>\n",
       "    </tr>\n",
       "    <tr>\n",
       "      <th>4</th>\n",
       "      <td>57569</td>\n",
       "      <td>0.015163</td>\n",
       "    </tr>\n",
       "    <tr>\n",
       "      <th>5</th>\n",
       "      <td>57630</td>\n",
       "      <td>0.021859</td>\n",
       "    </tr>\n",
       "    <tr>\n",
       "      <th>6</th>\n",
       "      <td>57631</td>\n",
       "      <td>0.026779</td>\n",
       "    </tr>\n",
       "    <tr>\n",
       "      <th>7</th>\n",
       "      <td>57632</td>\n",
       "      <td>0.019833</td>\n",
       "    </tr>\n",
       "    <tr>\n",
       "      <th>8</th>\n",
       "      <td>57633</td>\n",
       "      <td>0.039034</td>\n",
       "    </tr>\n",
       "    <tr>\n",
       "      <th>9</th>\n",
       "      <td>57634</td>\n",
       "      <td>0.051266</td>\n",
       "    </tr>\n",
       "  </tbody>\n",
       "</table>\n",
       "</div>"
      ],
      "text/plain": [
       "   case_id     score\n",
       "0    57543  0.320651\n",
       "1    57549  0.222354\n",
       "2    57551  0.090779\n",
       "3    57552  0.034037\n",
       "4    57569  0.015163\n",
       "5    57630  0.021859\n",
       "6    57631  0.026779\n",
       "7    57632  0.019833\n",
       "8    57633  0.039034\n",
       "9    57634  0.051266"
      ]
     },
     "metadata": {},
     "output_type": "display_data"
    }
   ],
   "source": [
    "if MODE == 'train':\n",
    "    study = optimize(X, y, cv=False)\n",
    "    print(study.best_params)\n",
    "\n",
    "    # retrain with the best params\n",
    "    params.update(study.best_params)\n",
    "    oof = train(X, y)\n",
    "    df_gini_weeks, stability = evaluate(y, oof, y.index)\n",
    "    display(df_gini_weeks)\n",
    "    display(stability)\n",
    "\n",
    "else:\n",
    "    models = []\n",
    "    for i in range(5):\n",
    "        model_path = MODEL_DIR.joinpath(f'model_{i}.pkl')\n",
    "        with open(model_path, 'rb') as model_path:\n",
    "            model = pickle.load(model_path)\n",
    "            models.append(model)\n",
    "    submit = pd.read_csv(COMPETITION_DIR.joinpath('sample_submission.csv'))\n",
    "    submit = predict(models, submit, X)\n",
    "    submit.to_csv(Path('submission.csv'), index=False)\n",
    "    display(submit)"
   ]
  },
  {
   "cell_type": "code",
   "execution_count": 8,
   "metadata": {},
   "outputs": [],
   "source": [
    "# reload study from sql\n",
    "study = optuna.load_study(\n",
    "    study_name=f'{MODEL_DIR.name}',\n",
    "    storage=f'sqlite:///{MODEL_DIR}/study.db',\n",
    ")"
   ]
  },
  {
   "cell_type": "code",
   "execution_count": 9,
   "metadata": {},
   "outputs": [
    {
     "data": {
      "text/plain": [
       "{'feature_fraction': 0.43095326701742376,\n",
       " 'lambda_l1': 9.330953462032998,\n",
       " 'lambda_l2': 5.575556329595804,\n",
       " 'num_leaves': 52,\n",
       " 'bagging_fraction': 0.9516723072675427,\n",
       " 'bagging_freq': 3}"
      ]
     },
     "execution_count": 9,
     "metadata": {},
     "output_type": "execute_result"
    }
   ],
   "source": [
    "study.best_params"
   ]
  },
  {
   "cell_type": "code",
   "execution_count": 10,
   "metadata": {},
   "outputs": [
    {
     "data": {
      "application/vnd.plotly.v1+json": {
       "config": {
        "plotlyServerURL": "https://plot.ly"
       },
       "data": [
        {
         "mode": "markers",
         "name": "Objective Value",
         "type": "scatter",
         "x": [
          0,
          1,
          2,
          3,
          4,
          5,
          6,
          7,
          8,
          9,
          10,
          11,
          12,
          13,
          14,
          15,
          16,
          17,
          18,
          19,
          20,
          21,
          22,
          23,
          24,
          25,
          26,
          27,
          28,
          29,
          30,
          31,
          32,
          33,
          34,
          35,
          36,
          37,
          38,
          39,
          40,
          41,
          42,
          43,
          44,
          45,
          46,
          47,
          48,
          49,
          50,
          51,
          52,
          53,
          54,
          55,
          56,
          57,
          58,
          59,
          60,
          61,
          62,
          63,
          64,
          65,
          66,
          67,
          68,
          69,
          70,
          71,
          72,
          73,
          74,
          75,
          76,
          77,
          78,
          79,
          80,
          81,
          82,
          83,
          84,
          85,
          86,
          87,
          88,
          89,
          90,
          91,
          92,
          93,
          94,
          95,
          96,
          97,
          98,
          99
         ],
         "y": [
          0.11182134494565053,
          0.11201451172992861,
          0.11154408603252049,
          0.11196698014072448,
          0.11218728884450294,
          0.11276418078517103,
          0.1113389735080613,
          0.11285944413652672,
          0.11189272771036393,
          0.11196274080647367,
          0.11036454563582938,
          0.11000151014681055,
          0.11018490713009252,
          0.11045651761622503,
          0.11113146464845826,
          0.11043354660542197,
          0.1113238654855838,
          0.11058645040323797,
          0.11220095529302321,
          0.11100102329648112,
          0.1101219901398051,
          0.11061997655943762,
          0.11021784045897808,
          0.11013836640120143,
          0.10996731690674671,
          0.11032597795604093,
          0.11162841185200144,
          0.11135730396607481,
          0.1114797775877387,
          0.11196324532080906,
          0.11079497994785836,
          0.11019484611002549,
          0.11075938976642895,
          0.11023487213621716,
          0.11081340454329114,
          0.1105267121199059,
          0.11144470445235927,
          0.11087659271290136,
          0.11096251166191104,
          0.11073437295598476,
          0.11161778589775255,
          0.11050852587639211,
          0.1106220483861603,
          0.11039739008830592,
          0.1109653453287667,
          0.11032222928359219,
          0.11106493728443853,
          0.11062332911227445,
          0.11123863049969115,
          0.11210626757911439,
          0.11048356737329543,
          0.11027817030604556,
          0.11030542441586129,
          0.11084626304505729,
          0.11055348692397805,
          0.11023860077380947,
          0.11009520905519173,
          0.11009173490384844,
          0.11013973209854451,
          0.11153527144102614,
          0.11040644050024104,
          0.11019990971726287,
          0.11027397846361636,
          0.1114453942106148,
          0.11020147739972704,
          0.11094859382776405,
          0.11032110689161838,
          0.11029032272838671,
          0.11044297921054809,
          0.1109391404134447,
          0.11145161220188998,
          0.11012146583541062,
          0.11015870978526775,
          0.11025601892430216,
          0.1107079220778331,
          0.11038664598916725,
          0.11028727135549031,
          0.11105009609738799,
          0.11062861568987702,
          0.11020068427413472,
          0.11183207996940796,
          0.11028506064770217,
          0.11009050554942451,
          0.11040000006437443,
          0.11043353610928562,
          0.11012355111774307,
          0.11039355964309873,
          0.11066322529669304,
          0.1098640404003769,
          0.11055886605686133,
          0.11008397208790341,
          0.11005698191429777,
          0.11028436488320134,
          0.11044441474544348,
          0.11023421858069682,
          0.11036492998740775,
          0.11028990238914646,
          0.11020898954963614,
          0.11062528297826987,
          0.11097792166725658
         ]
        },
        {
         "mode": "lines",
         "name": "Best Value",
         "type": "scatter",
         "x": [
          0,
          1,
          2,
          3,
          4,
          5,
          6,
          7,
          8,
          9,
          10,
          11,
          12,
          13,
          14,
          15,
          16,
          17,
          18,
          19,
          20,
          21,
          22,
          23,
          24,
          25,
          26,
          27,
          28,
          29,
          30,
          31,
          32,
          33,
          34,
          35,
          36,
          37,
          38,
          39,
          40,
          41,
          42,
          43,
          44,
          45,
          46,
          47,
          48,
          49,
          50,
          51,
          52,
          53,
          54,
          55,
          56,
          57,
          58,
          59,
          60,
          61,
          62,
          63,
          64,
          65,
          66,
          67,
          68,
          69,
          70,
          71,
          72,
          73,
          74,
          75,
          76,
          77,
          78,
          79,
          80,
          81,
          82,
          83,
          84,
          85,
          86,
          87,
          88,
          89,
          90,
          91,
          92,
          93,
          94,
          95,
          96,
          97,
          98,
          99
         ],
         "y": [
          0.11182134494565053,
          0.11182134494565053,
          0.11154408603252049,
          0.11154408603252049,
          0.11154408603252049,
          0.11154408603252049,
          0.1113389735080613,
          0.1113389735080613,
          0.1113389735080613,
          0.1113389735080613,
          0.11036454563582938,
          0.11000151014681055,
          0.11000151014681055,
          0.11000151014681055,
          0.11000151014681055,
          0.11000151014681055,
          0.11000151014681055,
          0.11000151014681055,
          0.11000151014681055,
          0.11000151014681055,
          0.11000151014681055,
          0.11000151014681055,
          0.11000151014681055,
          0.11000151014681055,
          0.10996731690674671,
          0.10996731690674671,
          0.10996731690674671,
          0.10996731690674671,
          0.10996731690674671,
          0.10996731690674671,
          0.10996731690674671,
          0.10996731690674671,
          0.10996731690674671,
          0.10996731690674671,
          0.10996731690674671,
          0.10996731690674671,
          0.10996731690674671,
          0.10996731690674671,
          0.10996731690674671,
          0.10996731690674671,
          0.10996731690674671,
          0.10996731690674671,
          0.10996731690674671,
          0.10996731690674671,
          0.10996731690674671,
          0.10996731690674671,
          0.10996731690674671,
          0.10996731690674671,
          0.10996731690674671,
          0.10996731690674671,
          0.10996731690674671,
          0.10996731690674671,
          0.10996731690674671,
          0.10996731690674671,
          0.10996731690674671,
          0.10996731690674671,
          0.10996731690674671,
          0.10996731690674671,
          0.10996731690674671,
          0.10996731690674671,
          0.10996731690674671,
          0.10996731690674671,
          0.10996731690674671,
          0.10996731690674671,
          0.10996731690674671,
          0.10996731690674671,
          0.10996731690674671,
          0.10996731690674671,
          0.10996731690674671,
          0.10996731690674671,
          0.10996731690674671,
          0.10996731690674671,
          0.10996731690674671,
          0.10996731690674671,
          0.10996731690674671,
          0.10996731690674671,
          0.10996731690674671,
          0.10996731690674671,
          0.10996731690674671,
          0.10996731690674671,
          0.10996731690674671,
          0.10996731690674671,
          0.10996731690674671,
          0.10996731690674671,
          0.10996731690674671,
          0.10996731690674671,
          0.10996731690674671,
          0.10996731690674671,
          0.1098640404003769,
          0.1098640404003769,
          0.1098640404003769,
          0.1098640404003769,
          0.1098640404003769,
          0.1098640404003769,
          0.1098640404003769,
          0.1098640404003769,
          0.1098640404003769,
          0.1098640404003769,
          0.1098640404003769,
          0.1098640404003769
         ]
        },
        {
         "marker": {
          "color": "#cccccc"
         },
         "mode": "markers",
         "name": "Infeasible Trial",
         "showlegend": false,
         "type": "scatter",
         "x": [],
         "y": []
        }
       ],
       "layout": {
        "template": {
         "data": {
          "bar": [
           {
            "error_x": {
             "color": "#2a3f5f"
            },
            "error_y": {
             "color": "#2a3f5f"
            },
            "marker": {
             "line": {
              "color": "#E5ECF6",
              "width": 0.5
             },
             "pattern": {
              "fillmode": "overlay",
              "size": 10,
              "solidity": 0.2
             }
            },
            "type": "bar"
           }
          ],
          "barpolar": [
           {
            "marker": {
             "line": {
              "color": "#E5ECF6",
              "width": 0.5
             },
             "pattern": {
              "fillmode": "overlay",
              "size": 10,
              "solidity": 0.2
             }
            },
            "type": "barpolar"
           }
          ],
          "carpet": [
           {
            "aaxis": {
             "endlinecolor": "#2a3f5f",
             "gridcolor": "white",
             "linecolor": "white",
             "minorgridcolor": "white",
             "startlinecolor": "#2a3f5f"
            },
            "baxis": {
             "endlinecolor": "#2a3f5f",
             "gridcolor": "white",
             "linecolor": "white",
             "minorgridcolor": "white",
             "startlinecolor": "#2a3f5f"
            },
            "type": "carpet"
           }
          ],
          "choropleth": [
           {
            "colorbar": {
             "outlinewidth": 0,
             "ticks": ""
            },
            "type": "choropleth"
           }
          ],
          "contour": [
           {
            "colorbar": {
             "outlinewidth": 0,
             "ticks": ""
            },
            "colorscale": [
             [
              0,
              "#0d0887"
             ],
             [
              0.1111111111111111,
              "#46039f"
             ],
             [
              0.2222222222222222,
              "#7201a8"
             ],
             [
              0.3333333333333333,
              "#9c179e"
             ],
             [
              0.4444444444444444,
              "#bd3786"
             ],
             [
              0.5555555555555556,
              "#d8576b"
             ],
             [
              0.6666666666666666,
              "#ed7953"
             ],
             [
              0.7777777777777778,
              "#fb9f3a"
             ],
             [
              0.8888888888888888,
              "#fdca26"
             ],
             [
              1,
              "#f0f921"
             ]
            ],
            "type": "contour"
           }
          ],
          "contourcarpet": [
           {
            "colorbar": {
             "outlinewidth": 0,
             "ticks": ""
            },
            "type": "contourcarpet"
           }
          ],
          "heatmap": [
           {
            "colorbar": {
             "outlinewidth": 0,
             "ticks": ""
            },
            "colorscale": [
             [
              0,
              "#0d0887"
             ],
             [
              0.1111111111111111,
              "#46039f"
             ],
             [
              0.2222222222222222,
              "#7201a8"
             ],
             [
              0.3333333333333333,
              "#9c179e"
             ],
             [
              0.4444444444444444,
              "#bd3786"
             ],
             [
              0.5555555555555556,
              "#d8576b"
             ],
             [
              0.6666666666666666,
              "#ed7953"
             ],
             [
              0.7777777777777778,
              "#fb9f3a"
             ],
             [
              0.8888888888888888,
              "#fdca26"
             ],
             [
              1,
              "#f0f921"
             ]
            ],
            "type": "heatmap"
           }
          ],
          "heatmapgl": [
           {
            "colorbar": {
             "outlinewidth": 0,
             "ticks": ""
            },
            "colorscale": [
             [
              0,
              "#0d0887"
             ],
             [
              0.1111111111111111,
              "#46039f"
             ],
             [
              0.2222222222222222,
              "#7201a8"
             ],
             [
              0.3333333333333333,
              "#9c179e"
             ],
             [
              0.4444444444444444,
              "#bd3786"
             ],
             [
              0.5555555555555556,
              "#d8576b"
             ],
             [
              0.6666666666666666,
              "#ed7953"
             ],
             [
              0.7777777777777778,
              "#fb9f3a"
             ],
             [
              0.8888888888888888,
              "#fdca26"
             ],
             [
              1,
              "#f0f921"
             ]
            ],
            "type": "heatmapgl"
           }
          ],
          "histogram": [
           {
            "marker": {
             "pattern": {
              "fillmode": "overlay",
              "size": 10,
              "solidity": 0.2
             }
            },
            "type": "histogram"
           }
          ],
          "histogram2d": [
           {
            "colorbar": {
             "outlinewidth": 0,
             "ticks": ""
            },
            "colorscale": [
             [
              0,
              "#0d0887"
             ],
             [
              0.1111111111111111,
              "#46039f"
             ],
             [
              0.2222222222222222,
              "#7201a8"
             ],
             [
              0.3333333333333333,
              "#9c179e"
             ],
             [
              0.4444444444444444,
              "#bd3786"
             ],
             [
              0.5555555555555556,
              "#d8576b"
             ],
             [
              0.6666666666666666,
              "#ed7953"
             ],
             [
              0.7777777777777778,
              "#fb9f3a"
             ],
             [
              0.8888888888888888,
              "#fdca26"
             ],
             [
              1,
              "#f0f921"
             ]
            ],
            "type": "histogram2d"
           }
          ],
          "histogram2dcontour": [
           {
            "colorbar": {
             "outlinewidth": 0,
             "ticks": ""
            },
            "colorscale": [
             [
              0,
              "#0d0887"
             ],
             [
              0.1111111111111111,
              "#46039f"
             ],
             [
              0.2222222222222222,
              "#7201a8"
             ],
             [
              0.3333333333333333,
              "#9c179e"
             ],
             [
              0.4444444444444444,
              "#bd3786"
             ],
             [
              0.5555555555555556,
              "#d8576b"
             ],
             [
              0.6666666666666666,
              "#ed7953"
             ],
             [
              0.7777777777777778,
              "#fb9f3a"
             ],
             [
              0.8888888888888888,
              "#fdca26"
             ],
             [
              1,
              "#f0f921"
             ]
            ],
            "type": "histogram2dcontour"
           }
          ],
          "mesh3d": [
           {
            "colorbar": {
             "outlinewidth": 0,
             "ticks": ""
            },
            "type": "mesh3d"
           }
          ],
          "parcoords": [
           {
            "line": {
             "colorbar": {
              "outlinewidth": 0,
              "ticks": ""
             }
            },
            "type": "parcoords"
           }
          ],
          "pie": [
           {
            "automargin": true,
            "type": "pie"
           }
          ],
          "scatter": [
           {
            "fillpattern": {
             "fillmode": "overlay",
             "size": 10,
             "solidity": 0.2
            },
            "type": "scatter"
           }
          ],
          "scatter3d": [
           {
            "line": {
             "colorbar": {
              "outlinewidth": 0,
              "ticks": ""
             }
            },
            "marker": {
             "colorbar": {
              "outlinewidth": 0,
              "ticks": ""
             }
            },
            "type": "scatter3d"
           }
          ],
          "scattercarpet": [
           {
            "marker": {
             "colorbar": {
              "outlinewidth": 0,
              "ticks": ""
             }
            },
            "type": "scattercarpet"
           }
          ],
          "scattergeo": [
           {
            "marker": {
             "colorbar": {
              "outlinewidth": 0,
              "ticks": ""
             }
            },
            "type": "scattergeo"
           }
          ],
          "scattergl": [
           {
            "marker": {
             "colorbar": {
              "outlinewidth": 0,
              "ticks": ""
             }
            },
            "type": "scattergl"
           }
          ],
          "scattermapbox": [
           {
            "marker": {
             "colorbar": {
              "outlinewidth": 0,
              "ticks": ""
             }
            },
            "type": "scattermapbox"
           }
          ],
          "scatterpolar": [
           {
            "marker": {
             "colorbar": {
              "outlinewidth": 0,
              "ticks": ""
             }
            },
            "type": "scatterpolar"
           }
          ],
          "scatterpolargl": [
           {
            "marker": {
             "colorbar": {
              "outlinewidth": 0,
              "ticks": ""
             }
            },
            "type": "scatterpolargl"
           }
          ],
          "scatterternary": [
           {
            "marker": {
             "colorbar": {
              "outlinewidth": 0,
              "ticks": ""
             }
            },
            "type": "scatterternary"
           }
          ],
          "surface": [
           {
            "colorbar": {
             "outlinewidth": 0,
             "ticks": ""
            },
            "colorscale": [
             [
              0,
              "#0d0887"
             ],
             [
              0.1111111111111111,
              "#46039f"
             ],
             [
              0.2222222222222222,
              "#7201a8"
             ],
             [
              0.3333333333333333,
              "#9c179e"
             ],
             [
              0.4444444444444444,
              "#bd3786"
             ],
             [
              0.5555555555555556,
              "#d8576b"
             ],
             [
              0.6666666666666666,
              "#ed7953"
             ],
             [
              0.7777777777777778,
              "#fb9f3a"
             ],
             [
              0.8888888888888888,
              "#fdca26"
             ],
             [
              1,
              "#f0f921"
             ]
            ],
            "type": "surface"
           }
          ],
          "table": [
           {
            "cells": {
             "fill": {
              "color": "#EBF0F8"
             },
             "line": {
              "color": "white"
             }
            },
            "header": {
             "fill": {
              "color": "#C8D4E3"
             },
             "line": {
              "color": "white"
             }
            },
            "type": "table"
           }
          ]
         },
         "layout": {
          "annotationdefaults": {
           "arrowcolor": "#2a3f5f",
           "arrowhead": 0,
           "arrowwidth": 1
          },
          "autotypenumbers": "strict",
          "coloraxis": {
           "colorbar": {
            "outlinewidth": 0,
            "ticks": ""
           }
          },
          "colorscale": {
           "diverging": [
            [
             0,
             "#8e0152"
            ],
            [
             0.1,
             "#c51b7d"
            ],
            [
             0.2,
             "#de77ae"
            ],
            [
             0.3,
             "#f1b6da"
            ],
            [
             0.4,
             "#fde0ef"
            ],
            [
             0.5,
             "#f7f7f7"
            ],
            [
             0.6,
             "#e6f5d0"
            ],
            [
             0.7,
             "#b8e186"
            ],
            [
             0.8,
             "#7fbc41"
            ],
            [
             0.9,
             "#4d9221"
            ],
            [
             1,
             "#276419"
            ]
           ],
           "sequential": [
            [
             0,
             "#0d0887"
            ],
            [
             0.1111111111111111,
             "#46039f"
            ],
            [
             0.2222222222222222,
             "#7201a8"
            ],
            [
             0.3333333333333333,
             "#9c179e"
            ],
            [
             0.4444444444444444,
             "#bd3786"
            ],
            [
             0.5555555555555556,
             "#d8576b"
            ],
            [
             0.6666666666666666,
             "#ed7953"
            ],
            [
             0.7777777777777778,
             "#fb9f3a"
            ],
            [
             0.8888888888888888,
             "#fdca26"
            ],
            [
             1,
             "#f0f921"
            ]
           ],
           "sequentialminus": [
            [
             0,
             "#0d0887"
            ],
            [
             0.1111111111111111,
             "#46039f"
            ],
            [
             0.2222222222222222,
             "#7201a8"
            ],
            [
             0.3333333333333333,
             "#9c179e"
            ],
            [
             0.4444444444444444,
             "#bd3786"
            ],
            [
             0.5555555555555556,
             "#d8576b"
            ],
            [
             0.6666666666666666,
             "#ed7953"
            ],
            [
             0.7777777777777778,
             "#fb9f3a"
            ],
            [
             0.8888888888888888,
             "#fdca26"
            ],
            [
             1,
             "#f0f921"
            ]
           ]
          },
          "colorway": [
           "#636efa",
           "#EF553B",
           "#00cc96",
           "#ab63fa",
           "#FFA15A",
           "#19d3f3",
           "#FF6692",
           "#B6E880",
           "#FF97FF",
           "#FECB52"
          ],
          "font": {
           "color": "#2a3f5f"
          },
          "geo": {
           "bgcolor": "white",
           "lakecolor": "white",
           "landcolor": "#E5ECF6",
           "showlakes": true,
           "showland": true,
           "subunitcolor": "white"
          },
          "hoverlabel": {
           "align": "left"
          },
          "hovermode": "closest",
          "mapbox": {
           "style": "light"
          },
          "paper_bgcolor": "white",
          "plot_bgcolor": "#E5ECF6",
          "polar": {
           "angularaxis": {
            "gridcolor": "white",
            "linecolor": "white",
            "ticks": ""
           },
           "bgcolor": "#E5ECF6",
           "radialaxis": {
            "gridcolor": "white",
            "linecolor": "white",
            "ticks": ""
           }
          },
          "scene": {
           "xaxis": {
            "backgroundcolor": "#E5ECF6",
            "gridcolor": "white",
            "gridwidth": 2,
            "linecolor": "white",
            "showbackground": true,
            "ticks": "",
            "zerolinecolor": "white"
           },
           "yaxis": {
            "backgroundcolor": "#E5ECF6",
            "gridcolor": "white",
            "gridwidth": 2,
            "linecolor": "white",
            "showbackground": true,
            "ticks": "",
            "zerolinecolor": "white"
           },
           "zaxis": {
            "backgroundcolor": "#E5ECF6",
            "gridcolor": "white",
            "gridwidth": 2,
            "linecolor": "white",
            "showbackground": true,
            "ticks": "",
            "zerolinecolor": "white"
           }
          },
          "shapedefaults": {
           "line": {
            "color": "#2a3f5f"
           }
          },
          "ternary": {
           "aaxis": {
            "gridcolor": "white",
            "linecolor": "white",
            "ticks": ""
           },
           "baxis": {
            "gridcolor": "white",
            "linecolor": "white",
            "ticks": ""
           },
           "bgcolor": "#E5ECF6",
           "caxis": {
            "gridcolor": "white",
            "linecolor": "white",
            "ticks": ""
           }
          },
          "title": {
           "x": 0.05
          },
          "xaxis": {
           "automargin": true,
           "gridcolor": "white",
           "linecolor": "white",
           "ticks": "",
           "title": {
            "standoff": 15
           },
           "zerolinecolor": "white",
           "zerolinewidth": 2
          },
          "yaxis": {
           "automargin": true,
           "gridcolor": "white",
           "linecolor": "white",
           "ticks": "",
           "title": {
            "standoff": 15
           },
           "zerolinecolor": "white",
           "zerolinewidth": 2
          }
         }
        },
        "title": {
         "text": "Optimization History Plot"
        },
        "xaxis": {
         "title": {
          "text": "Trial"
         }
        },
        "yaxis": {
         "title": {
          "text": "Objective Value"
         }
        }
       }
      }
     },
     "metadata": {},
     "output_type": "display_data"
    }
   ],
   "source": [
    "optuna.visualization.plot_optimization_history(study)"
   ]
  },
  {
   "cell_type": "code",
   "execution_count": 11,
   "metadata": {},
   "outputs": [
    {
     "data": {
      "application/vnd.plotly.v1+json": {
       "config": {
        "plotlyServerURL": "https://plot.ly"
       },
       "data": [
        {
         "cliponaxis": false,
         "hovertemplate": [
          "bagging_freq (IntDistribution): 0.007457929819529801<extra></extra>",
          "bagging_fraction (FloatDistribution): 0.02395088787555745<extra></extra>",
          "feature_fraction (FloatDistribution): 0.09984348507393287<extra></extra>",
          "lambda_l2 (FloatDistribution): 0.10910608690166182<extra></extra>",
          "num_leaves (IntDistribution): 0.27340173288181313<extra></extra>",
          "lambda_l1 (FloatDistribution): 0.4862398774475051<extra></extra>"
         ],
         "name": "Objective Value",
         "orientation": "h",
         "text": [
          "<0.01",
          "0.02",
          "0.10",
          "0.11",
          "0.27",
          "0.49"
         ],
         "textposition": "outside",
         "type": "bar",
         "x": [
          0.007457929819529801,
          0.02395088787555745,
          0.09984348507393287,
          0.10910608690166182,
          0.27340173288181313,
          0.4862398774475051
         ],
         "y": [
          "bagging_freq",
          "bagging_fraction",
          "feature_fraction",
          "lambda_l2",
          "num_leaves",
          "lambda_l1"
         ]
        }
       ],
       "layout": {
        "template": {
         "data": {
          "bar": [
           {
            "error_x": {
             "color": "#2a3f5f"
            },
            "error_y": {
             "color": "#2a3f5f"
            },
            "marker": {
             "line": {
              "color": "#E5ECF6",
              "width": 0.5
             },
             "pattern": {
              "fillmode": "overlay",
              "size": 10,
              "solidity": 0.2
             }
            },
            "type": "bar"
           }
          ],
          "barpolar": [
           {
            "marker": {
             "line": {
              "color": "#E5ECF6",
              "width": 0.5
             },
             "pattern": {
              "fillmode": "overlay",
              "size": 10,
              "solidity": 0.2
             }
            },
            "type": "barpolar"
           }
          ],
          "carpet": [
           {
            "aaxis": {
             "endlinecolor": "#2a3f5f",
             "gridcolor": "white",
             "linecolor": "white",
             "minorgridcolor": "white",
             "startlinecolor": "#2a3f5f"
            },
            "baxis": {
             "endlinecolor": "#2a3f5f",
             "gridcolor": "white",
             "linecolor": "white",
             "minorgridcolor": "white",
             "startlinecolor": "#2a3f5f"
            },
            "type": "carpet"
           }
          ],
          "choropleth": [
           {
            "colorbar": {
             "outlinewidth": 0,
             "ticks": ""
            },
            "type": "choropleth"
           }
          ],
          "contour": [
           {
            "colorbar": {
             "outlinewidth": 0,
             "ticks": ""
            },
            "colorscale": [
             [
              0,
              "#0d0887"
             ],
             [
              0.1111111111111111,
              "#46039f"
             ],
             [
              0.2222222222222222,
              "#7201a8"
             ],
             [
              0.3333333333333333,
              "#9c179e"
             ],
             [
              0.4444444444444444,
              "#bd3786"
             ],
             [
              0.5555555555555556,
              "#d8576b"
             ],
             [
              0.6666666666666666,
              "#ed7953"
             ],
             [
              0.7777777777777778,
              "#fb9f3a"
             ],
             [
              0.8888888888888888,
              "#fdca26"
             ],
             [
              1,
              "#f0f921"
             ]
            ],
            "type": "contour"
           }
          ],
          "contourcarpet": [
           {
            "colorbar": {
             "outlinewidth": 0,
             "ticks": ""
            },
            "type": "contourcarpet"
           }
          ],
          "heatmap": [
           {
            "colorbar": {
             "outlinewidth": 0,
             "ticks": ""
            },
            "colorscale": [
             [
              0,
              "#0d0887"
             ],
             [
              0.1111111111111111,
              "#46039f"
             ],
             [
              0.2222222222222222,
              "#7201a8"
             ],
             [
              0.3333333333333333,
              "#9c179e"
             ],
             [
              0.4444444444444444,
              "#bd3786"
             ],
             [
              0.5555555555555556,
              "#d8576b"
             ],
             [
              0.6666666666666666,
              "#ed7953"
             ],
             [
              0.7777777777777778,
              "#fb9f3a"
             ],
             [
              0.8888888888888888,
              "#fdca26"
             ],
             [
              1,
              "#f0f921"
             ]
            ],
            "type": "heatmap"
           }
          ],
          "heatmapgl": [
           {
            "colorbar": {
             "outlinewidth": 0,
             "ticks": ""
            },
            "colorscale": [
             [
              0,
              "#0d0887"
             ],
             [
              0.1111111111111111,
              "#46039f"
             ],
             [
              0.2222222222222222,
              "#7201a8"
             ],
             [
              0.3333333333333333,
              "#9c179e"
             ],
             [
              0.4444444444444444,
              "#bd3786"
             ],
             [
              0.5555555555555556,
              "#d8576b"
             ],
             [
              0.6666666666666666,
              "#ed7953"
             ],
             [
              0.7777777777777778,
              "#fb9f3a"
             ],
             [
              0.8888888888888888,
              "#fdca26"
             ],
             [
              1,
              "#f0f921"
             ]
            ],
            "type": "heatmapgl"
           }
          ],
          "histogram": [
           {
            "marker": {
             "pattern": {
              "fillmode": "overlay",
              "size": 10,
              "solidity": 0.2
             }
            },
            "type": "histogram"
           }
          ],
          "histogram2d": [
           {
            "colorbar": {
             "outlinewidth": 0,
             "ticks": ""
            },
            "colorscale": [
             [
              0,
              "#0d0887"
             ],
             [
              0.1111111111111111,
              "#46039f"
             ],
             [
              0.2222222222222222,
              "#7201a8"
             ],
             [
              0.3333333333333333,
              "#9c179e"
             ],
             [
              0.4444444444444444,
              "#bd3786"
             ],
             [
              0.5555555555555556,
              "#d8576b"
             ],
             [
              0.6666666666666666,
              "#ed7953"
             ],
             [
              0.7777777777777778,
              "#fb9f3a"
             ],
             [
              0.8888888888888888,
              "#fdca26"
             ],
             [
              1,
              "#f0f921"
             ]
            ],
            "type": "histogram2d"
           }
          ],
          "histogram2dcontour": [
           {
            "colorbar": {
             "outlinewidth": 0,
             "ticks": ""
            },
            "colorscale": [
             [
              0,
              "#0d0887"
             ],
             [
              0.1111111111111111,
              "#46039f"
             ],
             [
              0.2222222222222222,
              "#7201a8"
             ],
             [
              0.3333333333333333,
              "#9c179e"
             ],
             [
              0.4444444444444444,
              "#bd3786"
             ],
             [
              0.5555555555555556,
              "#d8576b"
             ],
             [
              0.6666666666666666,
              "#ed7953"
             ],
             [
              0.7777777777777778,
              "#fb9f3a"
             ],
             [
              0.8888888888888888,
              "#fdca26"
             ],
             [
              1,
              "#f0f921"
             ]
            ],
            "type": "histogram2dcontour"
           }
          ],
          "mesh3d": [
           {
            "colorbar": {
             "outlinewidth": 0,
             "ticks": ""
            },
            "type": "mesh3d"
           }
          ],
          "parcoords": [
           {
            "line": {
             "colorbar": {
              "outlinewidth": 0,
              "ticks": ""
             }
            },
            "type": "parcoords"
           }
          ],
          "pie": [
           {
            "automargin": true,
            "type": "pie"
           }
          ],
          "scatter": [
           {
            "fillpattern": {
             "fillmode": "overlay",
             "size": 10,
             "solidity": 0.2
            },
            "type": "scatter"
           }
          ],
          "scatter3d": [
           {
            "line": {
             "colorbar": {
              "outlinewidth": 0,
              "ticks": ""
             }
            },
            "marker": {
             "colorbar": {
              "outlinewidth": 0,
              "ticks": ""
             }
            },
            "type": "scatter3d"
           }
          ],
          "scattercarpet": [
           {
            "marker": {
             "colorbar": {
              "outlinewidth": 0,
              "ticks": ""
             }
            },
            "type": "scattercarpet"
           }
          ],
          "scattergeo": [
           {
            "marker": {
             "colorbar": {
              "outlinewidth": 0,
              "ticks": ""
             }
            },
            "type": "scattergeo"
           }
          ],
          "scattergl": [
           {
            "marker": {
             "colorbar": {
              "outlinewidth": 0,
              "ticks": ""
             }
            },
            "type": "scattergl"
           }
          ],
          "scattermapbox": [
           {
            "marker": {
             "colorbar": {
              "outlinewidth": 0,
              "ticks": ""
             }
            },
            "type": "scattermapbox"
           }
          ],
          "scatterpolar": [
           {
            "marker": {
             "colorbar": {
              "outlinewidth": 0,
              "ticks": ""
             }
            },
            "type": "scatterpolar"
           }
          ],
          "scatterpolargl": [
           {
            "marker": {
             "colorbar": {
              "outlinewidth": 0,
              "ticks": ""
             }
            },
            "type": "scatterpolargl"
           }
          ],
          "scatterternary": [
           {
            "marker": {
             "colorbar": {
              "outlinewidth": 0,
              "ticks": ""
             }
            },
            "type": "scatterternary"
           }
          ],
          "surface": [
           {
            "colorbar": {
             "outlinewidth": 0,
             "ticks": ""
            },
            "colorscale": [
             [
              0,
              "#0d0887"
             ],
             [
              0.1111111111111111,
              "#46039f"
             ],
             [
              0.2222222222222222,
              "#7201a8"
             ],
             [
              0.3333333333333333,
              "#9c179e"
             ],
             [
              0.4444444444444444,
              "#bd3786"
             ],
             [
              0.5555555555555556,
              "#d8576b"
             ],
             [
              0.6666666666666666,
              "#ed7953"
             ],
             [
              0.7777777777777778,
              "#fb9f3a"
             ],
             [
              0.8888888888888888,
              "#fdca26"
             ],
             [
              1,
              "#f0f921"
             ]
            ],
            "type": "surface"
           }
          ],
          "table": [
           {
            "cells": {
             "fill": {
              "color": "#EBF0F8"
             },
             "line": {
              "color": "white"
             }
            },
            "header": {
             "fill": {
              "color": "#C8D4E3"
             },
             "line": {
              "color": "white"
             }
            },
            "type": "table"
           }
          ]
         },
         "layout": {
          "annotationdefaults": {
           "arrowcolor": "#2a3f5f",
           "arrowhead": 0,
           "arrowwidth": 1
          },
          "autotypenumbers": "strict",
          "coloraxis": {
           "colorbar": {
            "outlinewidth": 0,
            "ticks": ""
           }
          },
          "colorscale": {
           "diverging": [
            [
             0,
             "#8e0152"
            ],
            [
             0.1,
             "#c51b7d"
            ],
            [
             0.2,
             "#de77ae"
            ],
            [
             0.3,
             "#f1b6da"
            ],
            [
             0.4,
             "#fde0ef"
            ],
            [
             0.5,
             "#f7f7f7"
            ],
            [
             0.6,
             "#e6f5d0"
            ],
            [
             0.7,
             "#b8e186"
            ],
            [
             0.8,
             "#7fbc41"
            ],
            [
             0.9,
             "#4d9221"
            ],
            [
             1,
             "#276419"
            ]
           ],
           "sequential": [
            [
             0,
             "#0d0887"
            ],
            [
             0.1111111111111111,
             "#46039f"
            ],
            [
             0.2222222222222222,
             "#7201a8"
            ],
            [
             0.3333333333333333,
             "#9c179e"
            ],
            [
             0.4444444444444444,
             "#bd3786"
            ],
            [
             0.5555555555555556,
             "#d8576b"
            ],
            [
             0.6666666666666666,
             "#ed7953"
            ],
            [
             0.7777777777777778,
             "#fb9f3a"
            ],
            [
             0.8888888888888888,
             "#fdca26"
            ],
            [
             1,
             "#f0f921"
            ]
           ],
           "sequentialminus": [
            [
             0,
             "#0d0887"
            ],
            [
             0.1111111111111111,
             "#46039f"
            ],
            [
             0.2222222222222222,
             "#7201a8"
            ],
            [
             0.3333333333333333,
             "#9c179e"
            ],
            [
             0.4444444444444444,
             "#bd3786"
            ],
            [
             0.5555555555555556,
             "#d8576b"
            ],
            [
             0.6666666666666666,
             "#ed7953"
            ],
            [
             0.7777777777777778,
             "#fb9f3a"
            ],
            [
             0.8888888888888888,
             "#fdca26"
            ],
            [
             1,
             "#f0f921"
            ]
           ]
          },
          "colorway": [
           "#636efa",
           "#EF553B",
           "#00cc96",
           "#ab63fa",
           "#FFA15A",
           "#19d3f3",
           "#FF6692",
           "#B6E880",
           "#FF97FF",
           "#FECB52"
          ],
          "font": {
           "color": "#2a3f5f"
          },
          "geo": {
           "bgcolor": "white",
           "lakecolor": "white",
           "landcolor": "#E5ECF6",
           "showlakes": true,
           "showland": true,
           "subunitcolor": "white"
          },
          "hoverlabel": {
           "align": "left"
          },
          "hovermode": "closest",
          "mapbox": {
           "style": "light"
          },
          "paper_bgcolor": "white",
          "plot_bgcolor": "#E5ECF6",
          "polar": {
           "angularaxis": {
            "gridcolor": "white",
            "linecolor": "white",
            "ticks": ""
           },
           "bgcolor": "#E5ECF6",
           "radialaxis": {
            "gridcolor": "white",
            "linecolor": "white",
            "ticks": ""
           }
          },
          "scene": {
           "xaxis": {
            "backgroundcolor": "#E5ECF6",
            "gridcolor": "white",
            "gridwidth": 2,
            "linecolor": "white",
            "showbackground": true,
            "ticks": "",
            "zerolinecolor": "white"
           },
           "yaxis": {
            "backgroundcolor": "#E5ECF6",
            "gridcolor": "white",
            "gridwidth": 2,
            "linecolor": "white",
            "showbackground": true,
            "ticks": "",
            "zerolinecolor": "white"
           },
           "zaxis": {
            "backgroundcolor": "#E5ECF6",
            "gridcolor": "white",
            "gridwidth": 2,
            "linecolor": "white",
            "showbackground": true,
            "ticks": "",
            "zerolinecolor": "white"
           }
          },
          "shapedefaults": {
           "line": {
            "color": "#2a3f5f"
           }
          },
          "ternary": {
           "aaxis": {
            "gridcolor": "white",
            "linecolor": "white",
            "ticks": ""
           },
           "baxis": {
            "gridcolor": "white",
            "linecolor": "white",
            "ticks": ""
           },
           "bgcolor": "#E5ECF6",
           "caxis": {
            "gridcolor": "white",
            "linecolor": "white",
            "ticks": ""
           }
          },
          "title": {
           "x": 0.05
          },
          "xaxis": {
           "automargin": true,
           "gridcolor": "white",
           "linecolor": "white",
           "ticks": "",
           "title": {
            "standoff": 15
           },
           "zerolinecolor": "white",
           "zerolinewidth": 2
          },
          "yaxis": {
           "automargin": true,
           "gridcolor": "white",
           "linecolor": "white",
           "ticks": "",
           "title": {
            "standoff": 15
           },
           "zerolinecolor": "white",
           "zerolinewidth": 2
          }
         }
        },
        "title": {
         "text": "Hyperparameter Importances"
        },
        "xaxis": {
         "title": {
          "text": "Hyperparameter Importance"
         }
        },
        "yaxis": {
         "title": {
          "text": "Hyperparameter"
         }
        }
       }
      }
     },
     "metadata": {},
     "output_type": "display_data"
    }
   ],
   "source": [
    "optuna.visualization.plot_param_importances(study)"
   ]
  },
  {
   "cell_type": "code",
   "execution_count": 12,
   "metadata": {},
   "outputs": [
    {
     "data": {
      "application/vnd.plotly.v1+json": {
       "config": {
        "plotlyServerURL": "https://plot.ly"
       },
       "data": [
        {
         "marker": {
          "color": [
           0,
           1,
           2,
           3,
           4,
           5,
           6,
           7,
           8,
           9,
           10,
           11,
           12,
           13,
           14,
           15,
           16,
           17,
           18,
           19,
           20,
           21,
           22,
           23,
           24,
           25,
           26,
           27,
           28,
           29,
           30,
           31,
           32,
           33,
           34,
           35,
           36,
           37,
           38,
           39,
           40,
           41,
           42,
           43,
           44,
           45,
           46,
           47,
           48,
           49,
           50,
           51,
           52,
           53,
           54,
           55,
           56,
           57,
           58,
           59,
           60,
           61,
           62,
           63,
           64,
           65,
           66,
           67,
           68,
           69,
           70,
           71,
           72,
           73,
           74,
           75,
           76,
           77,
           78,
           79,
           80,
           81,
           82,
           83,
           84,
           85,
           86,
           87,
           88,
           89,
           90,
           91,
           92,
           93,
           94,
           95,
           96,
           97,
           98,
           99
          ],
          "colorbar": {
           "title": {
            "text": "Trial"
           },
           "x": 1,
           "xpad": 40
          },
          "colorscale": [
           [
            0,
            "rgb(247,251,255)"
           ],
           [
            0.125,
            "rgb(222,235,247)"
           ],
           [
            0.25,
            "rgb(198,219,239)"
           ],
           [
            0.375,
            "rgb(158,202,225)"
           ],
           [
            0.5,
            "rgb(107,174,214)"
           ],
           [
            0.625,
            "rgb(66,146,198)"
           ],
           [
            0.75,
            "rgb(33,113,181)"
           ],
           [
            0.875,
            "rgb(8,81,156)"
           ],
           [
            1,
            "rgb(8,48,107)"
           ]
          ],
          "line": {
           "color": "Grey",
           "width": 0.5
          },
          "showscale": true
         },
         "mode": "markers",
         "name": "Feasible Trial",
         "showlegend": false,
         "type": "scatter",
         "x": [
          0.43257395254242936,
          0.6139453837568838,
          0.8749868372379921,
          0.4218552353463443,
          0.7062715301713787,
          0.762515382290559,
          0.8676510941545983,
          0.5741544289738023,
          0.42551076065521143,
          0.650886042731849,
          0.9992973201261672,
          0.9827503542810861,
          0.99787428834512,
          0.9669921266626669,
          0.8927854371713204,
          0.7774604823238949,
          0.9413596943938417,
          0.8300033075567849,
          0.9282619252647126,
          0.8087369399673876,
          0.5179655842396744,
          0.5297774831651625,
          0.9964809366053062,
          0.49051035115391284,
          0.49357567107820666,
          0.490032725276519,
          0.6748307036524657,
          0.5551060693995995,
          0.7261855835119505,
          0.4804388354475718,
          0.6088678941652904,
          0.48544009858629433,
          0.520876691865787,
          0.4012542630578796,
          0.46976412036337967,
          0.6051893036436699,
          0.46111984147329976,
          0.44436911406416396,
          0.5134667818023159,
          0.5689101800533617,
          0.638692896384319,
          0.9049837083681765,
          0.5478875001073664,
          0.9624525400786635,
          0.8361383015643624,
          0.43465771394502595,
          0.7345950785155335,
          0.5817939049142907,
          0.9844218361243637,
          0.4025696125985308,
          0.9186759610057207,
          0.5098228599241481,
          0.4911948393980223,
          0.872763189601102,
          0.4446747034788814,
          0.5425523499068057,
          0.9453724031590132,
          0.9466635615022394,
          0.9635018935175044,
          0.8950607649705359,
          0.9390709506319816,
          0.95877274702234,
          0.9455751139429938,
          0.8429928623014721,
          0.9824626930141165,
          0.7822501516423509,
          0.9155698009811168,
          0.9746482097502907,
          0.8585078242326802,
          0.953836656706578,
          0.6879958044884475,
          0.9988103250662284,
          0.9935807803732327,
          0.9386652247443759,
          0.9655201674410516,
          0.9219210155676579,
          0.8897382350334242,
          0.9984566145656952,
          0.9695198382920601,
          0.4981223678194572,
          0.4664854814455286,
          0.9880808649004966,
          0.9315350412904896,
          0.9364803438609475,
          0.9117479382307246,
          0.9774136276311173,
          0.5287598834798738,
          0.6430204571660231,
          0.9516723072675427,
          0.9485002018797055,
          0.8850153157648513,
          0.9299574875325238,
          0.8958512849465166,
          0.88811310241606,
          0.9047571488439936,
          0.9284481226872214,
          0.8598573746775557,
          0.9297335768021835,
          0.9478037633281409,
          0.8184982322897592
         ],
         "xaxis": "x",
         "y": [
          0.11182134494565053,
          0.11201451172992861,
          0.11154408603252049,
          0.11196698014072448,
          0.11218728884450294,
          0.11276418078517103,
          0.1113389735080613,
          0.11285944413652672,
          0.11189272771036393,
          0.11196274080647367,
          0.11036454563582938,
          0.11000151014681055,
          0.11018490713009252,
          0.11045651761622503,
          0.11113146464845826,
          0.11043354660542197,
          0.1113238654855838,
          0.11058645040323797,
          0.11220095529302321,
          0.11100102329648112,
          0.1101219901398051,
          0.11061997655943762,
          0.11021784045897808,
          0.11013836640120143,
          0.10996731690674671,
          0.11032597795604093,
          0.11162841185200144,
          0.11135730396607481,
          0.1114797775877387,
          0.11196324532080906,
          0.11079497994785836,
          0.11019484611002549,
          0.11075938976642895,
          0.11023487213621716,
          0.11081340454329114,
          0.1105267121199059,
          0.11144470445235927,
          0.11087659271290136,
          0.11096251166191104,
          0.11073437295598476,
          0.11161778589775255,
          0.11050852587639211,
          0.1106220483861603,
          0.11039739008830592,
          0.1109653453287667,
          0.11032222928359219,
          0.11106493728443853,
          0.11062332911227445,
          0.11123863049969115,
          0.11210626757911439,
          0.11048356737329543,
          0.11027817030604556,
          0.11030542441586129,
          0.11084626304505729,
          0.11055348692397805,
          0.11023860077380947,
          0.11009520905519173,
          0.11009173490384844,
          0.11013973209854451,
          0.11153527144102614,
          0.11040644050024104,
          0.11019990971726287,
          0.11027397846361636,
          0.1114453942106148,
          0.11020147739972704,
          0.11094859382776405,
          0.11032110689161838,
          0.11029032272838671,
          0.11044297921054809,
          0.1109391404134447,
          0.11145161220188998,
          0.11012146583541062,
          0.11015870978526775,
          0.11025601892430216,
          0.1107079220778331,
          0.11038664598916725,
          0.11028727135549031,
          0.11105009609738799,
          0.11062861568987702,
          0.11020068427413472,
          0.11183207996940796,
          0.11028506064770217,
          0.11009050554942451,
          0.11040000006437443,
          0.11043353610928562,
          0.11012355111774307,
          0.11039355964309873,
          0.11066322529669304,
          0.1098640404003769,
          0.11055886605686133,
          0.11008397208790341,
          0.11005698191429777,
          0.11028436488320134,
          0.11044441474544348,
          0.11023421858069682,
          0.11036492998740775,
          0.11028990238914646,
          0.11020898954963614,
          0.11062528297826987,
          0.11097792166725658
         ],
         "yaxis": "y"
        },
        {
         "marker": {
          "color": [
           0,
           1,
           2,
           3,
           4,
           5,
           6,
           7,
           8,
           9,
           10,
           11,
           12,
           13,
           14,
           15,
           16,
           17,
           18,
           19,
           20,
           21,
           22,
           23,
           24,
           25,
           26,
           27,
           28,
           29,
           30,
           31,
           32,
           33,
           34,
           35,
           36,
           37,
           38,
           39,
           40,
           41,
           42,
           43,
           44,
           45,
           46,
           47,
           48,
           49,
           50,
           51,
           52,
           53,
           54,
           55,
           56,
           57,
           58,
           59,
           60,
           61,
           62,
           63,
           64,
           65,
           66,
           67,
           68,
           69,
           70,
           71,
           72,
           73,
           74,
           75,
           76,
           77,
           78,
           79,
           80,
           81,
           82,
           83,
           84,
           85,
           86,
           87,
           88,
           89,
           90,
           91,
           92,
           93,
           94,
           95,
           96,
           97,
           98,
           99
          ],
          "colorbar": {
           "title": {
            "text": "Trial"
           },
           "x": 1,
           "xpad": 40
          },
          "colorscale": [
           [
            0,
            "rgb(247,251,255)"
           ],
           [
            0.125,
            "rgb(222,235,247)"
           ],
           [
            0.25,
            "rgb(198,219,239)"
           ],
           [
            0.375,
            "rgb(158,202,225)"
           ],
           [
            0.5,
            "rgb(107,174,214)"
           ],
           [
            0.625,
            "rgb(66,146,198)"
           ],
           [
            0.75,
            "rgb(33,113,181)"
           ],
           [
            0.875,
            "rgb(8,81,156)"
           ],
           [
            1,
            "rgb(8,48,107)"
           ]
          ],
          "line": {
           "color": "Grey",
           "width": 0.5
          },
          "showscale": false
         },
         "mode": "markers",
         "name": "Feasible Trial",
         "showlegend": false,
         "type": "scatter",
         "x": [
          6,
          7,
          2,
          2,
          6,
          5,
          6,
          3,
          7,
          6,
          4,
          4,
          4,
          4,
          1,
          3,
          5,
          3,
          5,
          4,
          2,
          2,
          1,
          3,
          3,
          2,
          1,
          3,
          2,
          4,
          3,
          3,
          2,
          3,
          4,
          5,
          2,
          2,
          3,
          5,
          1,
          4,
          4,
          3,
          4,
          4,
          3,
          2,
          7,
          4,
          5,
          3,
          3,
          3,
          6,
          3,
          2,
          2,
          2,
          1,
          2,
          2,
          2,
          1,
          2,
          2,
          2,
          1,
          1,
          2,
          2,
          3,
          3,
          2,
          3,
          3,
          3,
          2,
          2,
          1,
          3,
          3,
          3,
          4,
          2,
          3,
          3,
          4,
          3,
          3,
          4,
          4,
          4,
          5,
          4,
          4,
          4,
          5,
          4,
          4
         ],
         "xaxis": "x2",
         "y": [
          0.11182134494565053,
          0.11201451172992861,
          0.11154408603252049,
          0.11196698014072448,
          0.11218728884450294,
          0.11276418078517103,
          0.1113389735080613,
          0.11285944413652672,
          0.11189272771036393,
          0.11196274080647367,
          0.11036454563582938,
          0.11000151014681055,
          0.11018490713009252,
          0.11045651761622503,
          0.11113146464845826,
          0.11043354660542197,
          0.1113238654855838,
          0.11058645040323797,
          0.11220095529302321,
          0.11100102329648112,
          0.1101219901398051,
          0.11061997655943762,
          0.11021784045897808,
          0.11013836640120143,
          0.10996731690674671,
          0.11032597795604093,
          0.11162841185200144,
          0.11135730396607481,
          0.1114797775877387,
          0.11196324532080906,
          0.11079497994785836,
          0.11019484611002549,
          0.11075938976642895,
          0.11023487213621716,
          0.11081340454329114,
          0.1105267121199059,
          0.11144470445235927,
          0.11087659271290136,
          0.11096251166191104,
          0.11073437295598476,
          0.11161778589775255,
          0.11050852587639211,
          0.1106220483861603,
          0.11039739008830592,
          0.1109653453287667,
          0.11032222928359219,
          0.11106493728443853,
          0.11062332911227445,
          0.11123863049969115,
          0.11210626757911439,
          0.11048356737329543,
          0.11027817030604556,
          0.11030542441586129,
          0.11084626304505729,
          0.11055348692397805,
          0.11023860077380947,
          0.11009520905519173,
          0.11009173490384844,
          0.11013973209854451,
          0.11153527144102614,
          0.11040644050024104,
          0.11019990971726287,
          0.11027397846361636,
          0.1114453942106148,
          0.11020147739972704,
          0.11094859382776405,
          0.11032110689161838,
          0.11029032272838671,
          0.11044297921054809,
          0.1109391404134447,
          0.11145161220188998,
          0.11012146583541062,
          0.11015870978526775,
          0.11025601892430216,
          0.1107079220778331,
          0.11038664598916725,
          0.11028727135549031,
          0.11105009609738799,
          0.11062861568987702,
          0.11020068427413472,
          0.11183207996940796,
          0.11028506064770217,
          0.11009050554942451,
          0.11040000006437443,
          0.11043353610928562,
          0.11012355111774307,
          0.11039355964309873,
          0.11066322529669304,
          0.1098640404003769,
          0.11055886605686133,
          0.11008397208790341,
          0.11005698191429777,
          0.11028436488320134,
          0.11044441474544348,
          0.11023421858069682,
          0.11036492998740775,
          0.11028990238914646,
          0.11020898954963614,
          0.11062528297826987,
          0.11097792166725658
         ],
         "yaxis": "y2"
        },
        {
         "marker": {
          "color": [
           0,
           1,
           2,
           3,
           4,
           5,
           6,
           7,
           8,
           9,
           10,
           11,
           12,
           13,
           14,
           15,
           16,
           17,
           18,
           19,
           20,
           21,
           22,
           23,
           24,
           25,
           26,
           27,
           28,
           29,
           30,
           31,
           32,
           33,
           34,
           35,
           36,
           37,
           38,
           39,
           40,
           41,
           42,
           43,
           44,
           45,
           46,
           47,
           48,
           49,
           50,
           51,
           52,
           53,
           54,
           55,
           56,
           57,
           58,
           59,
           60,
           61,
           62,
           63,
           64,
           65,
           66,
           67,
           68,
           69,
           70,
           71,
           72,
           73,
           74,
           75,
           76,
           77,
           78,
           79,
           80,
           81,
           82,
           83,
           84,
           85,
           86,
           87,
           88,
           89,
           90,
           91,
           92,
           93,
           94,
           95,
           96,
           97,
           98,
           99
          ],
          "colorbar": {
           "title": {
            "text": "Trial"
           },
           "x": 1,
           "xpad": 40
          },
          "colorscale": [
           [
            0,
            "rgb(247,251,255)"
           ],
           [
            0.125,
            "rgb(222,235,247)"
           ],
           [
            0.25,
            "rgb(198,219,239)"
           ],
           [
            0.375,
            "rgb(158,202,225)"
           ],
           [
            0.5,
            "rgb(107,174,214)"
           ],
           [
            0.625,
            "rgb(66,146,198)"
           ],
           [
            0.75,
            "rgb(33,113,181)"
           ],
           [
            0.875,
            "rgb(8,81,156)"
           ],
           [
            1,
            "rgb(8,48,107)"
           ]
          ],
          "line": {
           "color": "Grey",
           "width": 0.5
          },
          "showscale": false
         },
         "mode": "markers",
         "name": "Feasible Trial",
         "showlegend": false,
         "type": "scatter",
         "x": [
          0.8702086862617178,
          0.7046239660108617,
          0.6921461108313067,
          0.834472848049393,
          0.7228794735533735,
          0.8947312084588633,
          0.4497758305979539,
          0.753843144375963,
          0.8126145458480154,
          0.9468739197760659,
          0.42782080020662266,
          0.40802348448221915,
          0.42545637729008695,
          0.5712707969559214,
          0.5321421420361933,
          0.539468216792666,
          0.6053430134993725,
          0.40068726854847175,
          0.4879270221495629,
          0.4886468911980252,
          0.6620225505550106,
          0.6469143006614038,
          0.49566592436447054,
          0.5900500278487009,
          0.6226810681564425,
          0.636512587557324,
          0.7727477828549344,
          0.6622574619600108,
          0.5559392244711162,
          0.6169514910127596,
          0.7730828128901934,
          0.586423453176995,
          0.6667991700532734,
          0.7020402319518343,
          0.6057313648521813,
          0.7297738273703794,
          0.6751475250811151,
          0.502451549697454,
          0.8924256761722795,
          0.8094299961918597,
          0.726207248367086,
          0.42707462647502764,
          0.4593108729343048,
          0.4010867149749367,
          0.5266866105023349,
          0.4360147420453887,
          0.9815116147224463,
          0.5769137355952447,
          0.4616234853534974,
          0.6347619008112703,
          0.5221906215250987,
          0.5686861481885439,
          0.5906115281883421,
          0.616742387864907,
          0.6837675868678976,
          0.6446984523156344,
          0.5452173188591487,
          0.4777569356134302,
          0.5541268247282398,
          0.4654839195415858,
          0.483690302160234,
          0.5531206742930617,
          0.5112873329925256,
          0.5468292793182499,
          0.4752155307407924,
          0.5998338444568944,
          0.446114712742724,
          0.5643365741194297,
          0.6184063716540975,
          0.5386218306397431,
          0.6552664197092398,
          0.43305666609968535,
          0.40700981666719194,
          0.4182310493273586,
          0.5120245070118052,
          0.4457255220879801,
          0.6252494988152789,
          0.5856209327391029,
          0.7046795712082374,
          0.5030151806042027,
          0.4783679745079226,
          0.42510743510298005,
          0.4032040358589247,
          0.40896081165593445,
          0.44010862749804647,
          0.4324808655079461,
          0.4578611374816889,
          0.41919749333781786,
          0.43095326701742376,
          0.4362600411491353,
          0.4002423802449282,
          0.41628267501998795,
          0.4005123646927531,
          0.41363386389580215,
          0.4715772872451506,
          0.4488452989280319,
          0.42474293271470465,
          0.4523081846657141,
          0.4924179749414732,
          0.41217463972793544
         ],
         "xaxis": "x3",
         "y": [
          0.11182134494565053,
          0.11201451172992861,
          0.11154408603252049,
          0.11196698014072448,
          0.11218728884450294,
          0.11276418078517103,
          0.1113389735080613,
          0.11285944413652672,
          0.11189272771036393,
          0.11196274080647367,
          0.11036454563582938,
          0.11000151014681055,
          0.11018490713009252,
          0.11045651761622503,
          0.11113146464845826,
          0.11043354660542197,
          0.1113238654855838,
          0.11058645040323797,
          0.11220095529302321,
          0.11100102329648112,
          0.1101219901398051,
          0.11061997655943762,
          0.11021784045897808,
          0.11013836640120143,
          0.10996731690674671,
          0.11032597795604093,
          0.11162841185200144,
          0.11135730396607481,
          0.1114797775877387,
          0.11196324532080906,
          0.11079497994785836,
          0.11019484611002549,
          0.11075938976642895,
          0.11023487213621716,
          0.11081340454329114,
          0.1105267121199059,
          0.11144470445235927,
          0.11087659271290136,
          0.11096251166191104,
          0.11073437295598476,
          0.11161778589775255,
          0.11050852587639211,
          0.1106220483861603,
          0.11039739008830592,
          0.1109653453287667,
          0.11032222928359219,
          0.11106493728443853,
          0.11062332911227445,
          0.11123863049969115,
          0.11210626757911439,
          0.11048356737329543,
          0.11027817030604556,
          0.11030542441586129,
          0.11084626304505729,
          0.11055348692397805,
          0.11023860077380947,
          0.11009520905519173,
          0.11009173490384844,
          0.11013973209854451,
          0.11153527144102614,
          0.11040644050024104,
          0.11019990971726287,
          0.11027397846361636,
          0.1114453942106148,
          0.11020147739972704,
          0.11094859382776405,
          0.11032110689161838,
          0.11029032272838671,
          0.11044297921054809,
          0.1109391404134447,
          0.11145161220188998,
          0.11012146583541062,
          0.11015870978526775,
          0.11025601892430216,
          0.1107079220778331,
          0.11038664598916725,
          0.11028727135549031,
          0.11105009609738799,
          0.11062861568987702,
          0.11020068427413472,
          0.11183207996940796,
          0.11028506064770217,
          0.11009050554942451,
          0.11040000006437443,
          0.11043353610928562,
          0.11012355111774307,
          0.11039355964309873,
          0.11066322529669304,
          0.1098640404003769,
          0.11055886605686133,
          0.11008397208790341,
          0.11005698191429777,
          0.11028436488320134,
          0.11044441474544348,
          0.11023421858069682,
          0.11036492998740775,
          0.11028990238914646,
          0.11020898954963614,
          0.11062528297826987,
          0.11097792166725658
         ],
         "yaxis": "y3"
        },
        {
         "marker": {
          "color": [
           0,
           1,
           2,
           3,
           4,
           5,
           6,
           7,
           8,
           9,
           10,
           11,
           12,
           13,
           14,
           15,
           16,
           17,
           18,
           19,
           20,
           21,
           22,
           23,
           24,
           25,
           26,
           27,
           28,
           29,
           30,
           31,
           32,
           33,
           34,
           35,
           36,
           37,
           38,
           39,
           40,
           41,
           42,
           43,
           44,
           45,
           46,
           47,
           48,
           49,
           50,
           51,
           52,
           53,
           54,
           55,
           56,
           57,
           58,
           59,
           60,
           61,
           62,
           63,
           64,
           65,
           66,
           67,
           68,
           69,
           70,
           71,
           72,
           73,
           74,
           75,
           76,
           77,
           78,
           79,
           80,
           81,
           82,
           83,
           84,
           85,
           86,
           87,
           88,
           89,
           90,
           91,
           92,
           93,
           94,
           95,
           96,
           97,
           98,
           99
          ],
          "colorbar": {
           "title": {
            "text": "Trial"
           },
           "x": 1,
           "xpad": 40
          },
          "colorscale": [
           [
            0,
            "rgb(247,251,255)"
           ],
           [
            0.125,
            "rgb(222,235,247)"
           ],
           [
            0.25,
            "rgb(198,219,239)"
           ],
           [
            0.375,
            "rgb(158,202,225)"
           ],
           [
            0.5,
            "rgb(107,174,214)"
           ],
           [
            0.625,
            "rgb(66,146,198)"
           ],
           [
            0.75,
            "rgb(33,113,181)"
           ],
           [
            0.875,
            "rgb(8,81,156)"
           ],
           [
            1,
            "rgb(8,48,107)"
           ]
          ],
          "line": {
           "color": "Grey",
           "width": 0.5
          },
          "showscale": false
         },
         "mode": "markers",
         "name": "Feasible Trial",
         "showlegend": false,
         "type": "scatter",
         "x": [
          0.000021890153942535516,
          0.0000012278627756227366,
          0.000028707123602050807,
          1.9289579469211509,
          0.0031813505095947044,
          3.418363894221724e-7,
          1.3969210882953627,
          0.0000864109129292028,
          1.0929035799440237e-7,
          0.004389648744661161,
          0.8515313814855536,
          3.20720044631014,
          0.04896597350111991,
          0.08700523078395879,
          0.03493122321663125,
          8.527882730380535,
          0.09128259333587167,
          0.001587572854964846,
          0.21663992049655564,
          0.013036059528067386,
          9.944050395710239,
          2.3047345486526143,
          0.5142882540435236,
          8.958399003416748,
          8.932829521589733,
          8.71853025588599,
          1.5303408859877612e-8,
          0.2660762135993476,
          0.0007606975838591315,
          0.016399116482553558,
          2.350715782167918,
          5.356781229926422,
          0.6908908205144695,
          8.67650415225733,
          0.000012541010007559798,
          2.7253925623631137,
          0.3230866537467995,
          2.7160392905866506,
          0.000005981708686168065,
          1.3647700970159562,
          0.0001908935767545658,
          0.10545549524971863,
          3.6481135500284076,
          0.6241057060014893,
          0.032457123719801945,
          9.611481315052849,
          1.2577222066999856,
          0.15485359221276399,
          0.0065007425190166754,
          0.9810788135700778,
          4.538532572111512,
          4.622453868902825,
          4.142502706797628,
          0.03919641435551285,
          0.42578117668999393,
          1.4670798497796798,
          9.75137178468401,
          9.783380158038156,
          9.071304700473698,
          7.593261455663793e-7,
          1.8001467814160261,
          8.803304760536559,
          4.919414239700385,
          0.8118658505915417,
          8.5745062448232,
          2.179280550028639,
          4.948299645581988,
          9.633409545860406,
          2.736189739683166,
          1.1210536128733584,
          0.23609439194424847,
          0.4984058043956736,
          5.397090135193389,
          0.5113541730809609,
          2.428098638498282,
          1.6270335551584227,
          4.998850155358772,
          0.8626796993949033,
          2.902038687740539,
          6.317920845158225,
          0.0006500842080302273,
          5.561238490086193,
          9.929087259944184,
          3.142523962333739,
          1.7807646896793052,
          8.576532340238241,
          3.5196224856051486,
          0.37943143906220744,
          9.330953462032998,
          1.0771549095804935,
          9.63496413098137,
          9.877588955475485,
          5.989033703637958,
          2.912418979454567e-8,
          2.9443515090243397,
          5.94989737485247,
          2.0739948115558455,
          9.804821838577032,
          3.772023639144543,
          1.22624446374801
         ],
         "xaxis": "x4",
         "y": [
          0.11182134494565053,
          0.11201451172992861,
          0.11154408603252049,
          0.11196698014072448,
          0.11218728884450294,
          0.11276418078517103,
          0.1113389735080613,
          0.11285944413652672,
          0.11189272771036393,
          0.11196274080647367,
          0.11036454563582938,
          0.11000151014681055,
          0.11018490713009252,
          0.11045651761622503,
          0.11113146464845826,
          0.11043354660542197,
          0.1113238654855838,
          0.11058645040323797,
          0.11220095529302321,
          0.11100102329648112,
          0.1101219901398051,
          0.11061997655943762,
          0.11021784045897808,
          0.11013836640120143,
          0.10996731690674671,
          0.11032597795604093,
          0.11162841185200144,
          0.11135730396607481,
          0.1114797775877387,
          0.11196324532080906,
          0.11079497994785836,
          0.11019484611002549,
          0.11075938976642895,
          0.11023487213621716,
          0.11081340454329114,
          0.1105267121199059,
          0.11144470445235927,
          0.11087659271290136,
          0.11096251166191104,
          0.11073437295598476,
          0.11161778589775255,
          0.11050852587639211,
          0.1106220483861603,
          0.11039739008830592,
          0.1109653453287667,
          0.11032222928359219,
          0.11106493728443853,
          0.11062332911227445,
          0.11123863049969115,
          0.11210626757911439,
          0.11048356737329543,
          0.11027817030604556,
          0.11030542441586129,
          0.11084626304505729,
          0.11055348692397805,
          0.11023860077380947,
          0.11009520905519173,
          0.11009173490384844,
          0.11013973209854451,
          0.11153527144102614,
          0.11040644050024104,
          0.11019990971726287,
          0.11027397846361636,
          0.1114453942106148,
          0.11020147739972704,
          0.11094859382776405,
          0.11032110689161838,
          0.11029032272838671,
          0.11044297921054809,
          0.1109391404134447,
          0.11145161220188998,
          0.11012146583541062,
          0.11015870978526775,
          0.11025601892430216,
          0.1107079220778331,
          0.11038664598916725,
          0.11028727135549031,
          0.11105009609738799,
          0.11062861568987702,
          0.11020068427413472,
          0.11183207996940796,
          0.11028506064770217,
          0.11009050554942451,
          0.11040000006437443,
          0.11043353610928562,
          0.11012355111774307,
          0.11039355964309873,
          0.11066322529669304,
          0.1098640404003769,
          0.11055886605686133,
          0.11008397208790341,
          0.11005698191429777,
          0.11028436488320134,
          0.11044441474544348,
          0.11023421858069682,
          0.11036492998740775,
          0.11028990238914646,
          0.11020898954963614,
          0.11062528297826987,
          0.11097792166725658
         ],
         "yaxis": "y4"
        },
        {
         "marker": {
          "color": [
           0,
           1,
           2,
           3,
           4,
           5,
           6,
           7,
           8,
           9,
           10,
           11,
           12,
           13,
           14,
           15,
           16,
           17,
           18,
           19,
           20,
           21,
           22,
           23,
           24,
           25,
           26,
           27,
           28,
           29,
           30,
           31,
           32,
           33,
           34,
           35,
           36,
           37,
           38,
           39,
           40,
           41,
           42,
           43,
           44,
           45,
           46,
           47,
           48,
           49,
           50,
           51,
           52,
           53,
           54,
           55,
           56,
           57,
           58,
           59,
           60,
           61,
           62,
           63,
           64,
           65,
           66,
           67,
           68,
           69,
           70,
           71,
           72,
           73,
           74,
           75,
           76,
           77,
           78,
           79,
           80,
           81,
           82,
           83,
           84,
           85,
           86,
           87,
           88,
           89,
           90,
           91,
           92,
           93,
           94,
           95,
           96,
           97,
           98,
           99
          ],
          "colorbar": {
           "title": {
            "text": "Trial"
           },
           "x": 1,
           "xpad": 40
          },
          "colorscale": [
           [
            0,
            "rgb(247,251,255)"
           ],
           [
            0.125,
            "rgb(222,235,247)"
           ],
           [
            0.25,
            "rgb(198,219,239)"
           ],
           [
            0.375,
            "rgb(158,202,225)"
           ],
           [
            0.5,
            "rgb(107,174,214)"
           ],
           [
            0.625,
            "rgb(66,146,198)"
           ],
           [
            0.75,
            "rgb(33,113,181)"
           ],
           [
            0.875,
            "rgb(8,81,156)"
           ],
           [
            1,
            "rgb(8,48,107)"
           ]
          ],
          "line": {
           "color": "Grey",
           "width": 0.5
          },
          "showscale": false
         },
         "mode": "markers",
         "name": "Feasible Trial",
         "showlegend": false,
         "type": "scatter",
         "x": [
          0.00018201857367133127,
          0.0003763494800124101,
          0.0008544053086536755,
          0.000008884683934888548,
          0.05596431016795204,
          0.000018298367435408383,
          0.000001943187874535612,
          0.0000010703810335852941,
          1.3163658890162263e-8,
          0.0002435247964930449,
          8.117642648838792,
          8.763371737404544,
          7.301152226016836,
          7.740196774250569,
          0.22155591447342646,
          0.21165470897780214,
          0.017133248962358127,
          1.198082596231731,
          0.007496569638258497,
          1.2334201889568435,
          0.7687039895204817,
          1.1995160889987588,
          7.351918263870988,
          0.3013867800138366,
          0.004145796258778766,
          0.004037037214476246,
          0.01945873240814109,
          0.0016652964424270788,
          0.07884305774580555,
          0.00007068033099910873,
          1.0156941083385795,
          0.6056839803762659,
          0.22955041278869945,
          0.04155889090546667,
          2.1916615544979887,
          0.25033978698391973,
          0.0008445405752713444,
          0.10559675048518422,
          3.267252818125906,
          0.004407039469559055,
          0.00010006079707278175,
          2.9755134574993276,
          0.6118875290238769,
          3.762787552455283,
          0.42408175196396497,
          1.7155513505126962e-8,
          0.04043768648079945,
          9.723067973027742,
          0.122868333102186,
          0.0000010791667235172028,
          0.00001597361590140789,
          0.4235267154720227,
          3.799946393575131,
          0.7347208698408316,
          2.0558490614895697,
          8.898562868585044,
          0.010930453516780021,
          0.012718920174641395,
          0.0120116806037545,
          0.0021058577159684655,
          0.028232200967277434,
          0.009229008971270604,
          0.010028381189816981,
          0.0009635799646652161,
          0.004760318113232644,
          0.00044679123716737513,
          0.06963999964410164,
          0.01895612347803625,
          0.0022235412610598455,
          0.15540504436714028,
          0.015423316664283256,
          5.352662193795062,
          1.6592700133051013,
          5.1377345117404785,
          0.03545318961439766,
          0.3674671409903528,
          0.006151460839627265,
          0.06887929070795439,
          0.00038200302322313035,
          1.1019765184464203,
          0.00017363394278147165,
          1.5544688657216823,
          2.3091416141956778,
          5.262145298716514,
          2.4854039221604762,
          0.3245620023055461,
          0.2661591692724494,
          0.8336125689351931,
          5.575556329595804,
          4.404835550497605,
          2.422401795844938,
          6.131325064885112,
          5.592204813224224,
          2.5496486488871097,
          8.97854292891006,
          1.6304286188849635,
          6.474805237446542,
          0.6012123077232278,
          3.4459194581819004,
          4.4379798576592367e-8
         ],
         "xaxis": "x5",
         "y": [
          0.11182134494565053,
          0.11201451172992861,
          0.11154408603252049,
          0.11196698014072448,
          0.11218728884450294,
          0.11276418078517103,
          0.1113389735080613,
          0.11285944413652672,
          0.11189272771036393,
          0.11196274080647367,
          0.11036454563582938,
          0.11000151014681055,
          0.11018490713009252,
          0.11045651761622503,
          0.11113146464845826,
          0.11043354660542197,
          0.1113238654855838,
          0.11058645040323797,
          0.11220095529302321,
          0.11100102329648112,
          0.1101219901398051,
          0.11061997655943762,
          0.11021784045897808,
          0.11013836640120143,
          0.10996731690674671,
          0.11032597795604093,
          0.11162841185200144,
          0.11135730396607481,
          0.1114797775877387,
          0.11196324532080906,
          0.11079497994785836,
          0.11019484611002549,
          0.11075938976642895,
          0.11023487213621716,
          0.11081340454329114,
          0.1105267121199059,
          0.11144470445235927,
          0.11087659271290136,
          0.11096251166191104,
          0.11073437295598476,
          0.11161778589775255,
          0.11050852587639211,
          0.1106220483861603,
          0.11039739008830592,
          0.1109653453287667,
          0.11032222928359219,
          0.11106493728443853,
          0.11062332911227445,
          0.11123863049969115,
          0.11210626757911439,
          0.11048356737329543,
          0.11027817030604556,
          0.11030542441586129,
          0.11084626304505729,
          0.11055348692397805,
          0.11023860077380947,
          0.11009520905519173,
          0.11009173490384844,
          0.11013973209854451,
          0.11153527144102614,
          0.11040644050024104,
          0.11019990971726287,
          0.11027397846361636,
          0.1114453942106148,
          0.11020147739972704,
          0.11094859382776405,
          0.11032110689161838,
          0.11029032272838671,
          0.11044297921054809,
          0.1109391404134447,
          0.11145161220188998,
          0.11012146583541062,
          0.11015870978526775,
          0.11025601892430216,
          0.1107079220778331,
          0.11038664598916725,
          0.11028727135549031,
          0.11105009609738799,
          0.11062861568987702,
          0.11020068427413472,
          0.11183207996940796,
          0.11028506064770217,
          0.11009050554942451,
          0.11040000006437443,
          0.11043353610928562,
          0.11012355111774307,
          0.11039355964309873,
          0.11066322529669304,
          0.1098640404003769,
          0.11055886605686133,
          0.11008397208790341,
          0.11005698191429777,
          0.11028436488320134,
          0.11044441474544348,
          0.11023421858069682,
          0.11036492998740775,
          0.11028990238914646,
          0.11020898954963614,
          0.11062528297826987,
          0.11097792166725658
         ],
         "yaxis": "y5"
        },
        {
         "marker": {
          "color": [
           0,
           1,
           2,
           3,
           4,
           5,
           6,
           7,
           8,
           9,
           10,
           11,
           12,
           13,
           14,
           15,
           16,
           17,
           18,
           19,
           20,
           21,
           22,
           23,
           24,
           25,
           26,
           27,
           28,
           29,
           30,
           31,
           32,
           33,
           34,
           35,
           36,
           37,
           38,
           39,
           40,
           41,
           42,
           43,
           44,
           45,
           46,
           47,
           48,
           49,
           50,
           51,
           52,
           53,
           54,
           55,
           56,
           57,
           58,
           59,
           60,
           61,
           62,
           63,
           64,
           65,
           66,
           67,
           68,
           69,
           70,
           71,
           72,
           73,
           74,
           75,
           76,
           77,
           78,
           79,
           80,
           81,
           82,
           83,
           84,
           85,
           86,
           87,
           88,
           89,
           90,
           91,
           92,
           93,
           94,
           95,
           96,
           97,
           98,
           99
          ],
          "colorbar": {
           "title": {
            "text": "Trial"
           },
           "x": 1,
           "xpad": 40
          },
          "colorscale": [
           [
            0,
            "rgb(247,251,255)"
           ],
           [
            0.125,
            "rgb(222,235,247)"
           ],
           [
            0.25,
            "rgb(198,219,239)"
           ],
           [
            0.375,
            "rgb(158,202,225)"
           ],
           [
            0.5,
            "rgb(107,174,214)"
           ],
           [
            0.625,
            "rgb(66,146,198)"
           ],
           [
            0.75,
            "rgb(33,113,181)"
           ],
           [
            0.875,
            "rgb(8,81,156)"
           ],
           [
            1,
            "rgb(8,48,107)"
           ]
          ],
          "line": {
           "color": "Grey",
           "width": 0.5
          },
          "showscale": false
         },
         "mode": "markers",
         "name": "Feasible Trial",
         "showlegend": false,
         "type": "scatter",
         "x": [
          84,
          118,
          64,
          256,
          166,
          254,
          132,
          236,
          72,
          96,
          12,
          14,
          20,
          12,
          40,
          172,
          42,
          40,
          198,
          108,
          56,
          54,
          28,
          12,
          62,
          72,
          90,
          46,
          62,
          82,
          154,
          30,
          26,
          56,
          116,
          30,
          80,
          100,
          130,
          12,
          50,
          24,
          68,
          20,
          36,
          12,
          56,
          22,
          44,
          222,
          62,
          32,
          18,
          34,
          42,
          74,
          18,
          22,
          20,
          48,
          36,
          18,
          20,
          12,
          28,
          38,
          60,
          156,
          48,
          26,
          90,
          18,
          18,
          30,
          12,
          38,
          24,
          54,
          16,
          42,
          106,
          26,
          22,
          184,
          32,
          22,
          24,
          12,
          52,
          76,
          68,
          126,
          90,
          66,
          70,
          138,
          50,
          82,
          216,
          58
         ],
         "xaxis": "x6",
         "y": [
          0.11182134494565053,
          0.11201451172992861,
          0.11154408603252049,
          0.11196698014072448,
          0.11218728884450294,
          0.11276418078517103,
          0.1113389735080613,
          0.11285944413652672,
          0.11189272771036393,
          0.11196274080647367,
          0.11036454563582938,
          0.11000151014681055,
          0.11018490713009252,
          0.11045651761622503,
          0.11113146464845826,
          0.11043354660542197,
          0.1113238654855838,
          0.11058645040323797,
          0.11220095529302321,
          0.11100102329648112,
          0.1101219901398051,
          0.11061997655943762,
          0.11021784045897808,
          0.11013836640120143,
          0.10996731690674671,
          0.11032597795604093,
          0.11162841185200144,
          0.11135730396607481,
          0.1114797775877387,
          0.11196324532080906,
          0.11079497994785836,
          0.11019484611002549,
          0.11075938976642895,
          0.11023487213621716,
          0.11081340454329114,
          0.1105267121199059,
          0.11144470445235927,
          0.11087659271290136,
          0.11096251166191104,
          0.11073437295598476,
          0.11161778589775255,
          0.11050852587639211,
          0.1106220483861603,
          0.11039739008830592,
          0.1109653453287667,
          0.11032222928359219,
          0.11106493728443853,
          0.11062332911227445,
          0.11123863049969115,
          0.11210626757911439,
          0.11048356737329543,
          0.11027817030604556,
          0.11030542441586129,
          0.11084626304505729,
          0.11055348692397805,
          0.11023860077380947,
          0.11009520905519173,
          0.11009173490384844,
          0.11013973209854451,
          0.11153527144102614,
          0.11040644050024104,
          0.11019990971726287,
          0.11027397846361636,
          0.1114453942106148,
          0.11020147739972704,
          0.11094859382776405,
          0.11032110689161838,
          0.11029032272838671,
          0.11044297921054809,
          0.1109391404134447,
          0.11145161220188998,
          0.11012146583541062,
          0.11015870978526775,
          0.11025601892430216,
          0.1107079220778331,
          0.11038664598916725,
          0.11028727135549031,
          0.11105009609738799,
          0.11062861568987702,
          0.11020068427413472,
          0.11183207996940796,
          0.11028506064770217,
          0.11009050554942451,
          0.11040000006437443,
          0.11043353610928562,
          0.11012355111774307,
          0.11039355964309873,
          0.11066322529669304,
          0.1098640404003769,
          0.11055886605686133,
          0.11008397208790341,
          0.11005698191429777,
          0.11028436488320134,
          0.11044441474544348,
          0.11023421858069682,
          0.11036492998740775,
          0.11028990238914646,
          0.11020898954963614,
          0.11062528297826987,
          0.11097792166725658
         ],
         "yaxis": "y6"
        }
       ],
       "layout": {
        "template": {
         "data": {
          "bar": [
           {
            "error_x": {
             "color": "#2a3f5f"
            },
            "error_y": {
             "color": "#2a3f5f"
            },
            "marker": {
             "line": {
              "color": "#E5ECF6",
              "width": 0.5
             },
             "pattern": {
              "fillmode": "overlay",
              "size": 10,
              "solidity": 0.2
             }
            },
            "type": "bar"
           }
          ],
          "barpolar": [
           {
            "marker": {
             "line": {
              "color": "#E5ECF6",
              "width": 0.5
             },
             "pattern": {
              "fillmode": "overlay",
              "size": 10,
              "solidity": 0.2
             }
            },
            "type": "barpolar"
           }
          ],
          "carpet": [
           {
            "aaxis": {
             "endlinecolor": "#2a3f5f",
             "gridcolor": "white",
             "linecolor": "white",
             "minorgridcolor": "white",
             "startlinecolor": "#2a3f5f"
            },
            "baxis": {
             "endlinecolor": "#2a3f5f",
             "gridcolor": "white",
             "linecolor": "white",
             "minorgridcolor": "white",
             "startlinecolor": "#2a3f5f"
            },
            "type": "carpet"
           }
          ],
          "choropleth": [
           {
            "colorbar": {
             "outlinewidth": 0,
             "ticks": ""
            },
            "type": "choropleth"
           }
          ],
          "contour": [
           {
            "colorbar": {
             "outlinewidth": 0,
             "ticks": ""
            },
            "colorscale": [
             [
              0,
              "#0d0887"
             ],
             [
              0.1111111111111111,
              "#46039f"
             ],
             [
              0.2222222222222222,
              "#7201a8"
             ],
             [
              0.3333333333333333,
              "#9c179e"
             ],
             [
              0.4444444444444444,
              "#bd3786"
             ],
             [
              0.5555555555555556,
              "#d8576b"
             ],
             [
              0.6666666666666666,
              "#ed7953"
             ],
             [
              0.7777777777777778,
              "#fb9f3a"
             ],
             [
              0.8888888888888888,
              "#fdca26"
             ],
             [
              1,
              "#f0f921"
             ]
            ],
            "type": "contour"
           }
          ],
          "contourcarpet": [
           {
            "colorbar": {
             "outlinewidth": 0,
             "ticks": ""
            },
            "type": "contourcarpet"
           }
          ],
          "heatmap": [
           {
            "colorbar": {
             "outlinewidth": 0,
             "ticks": ""
            },
            "colorscale": [
             [
              0,
              "#0d0887"
             ],
             [
              0.1111111111111111,
              "#46039f"
             ],
             [
              0.2222222222222222,
              "#7201a8"
             ],
             [
              0.3333333333333333,
              "#9c179e"
             ],
             [
              0.4444444444444444,
              "#bd3786"
             ],
             [
              0.5555555555555556,
              "#d8576b"
             ],
             [
              0.6666666666666666,
              "#ed7953"
             ],
             [
              0.7777777777777778,
              "#fb9f3a"
             ],
             [
              0.8888888888888888,
              "#fdca26"
             ],
             [
              1,
              "#f0f921"
             ]
            ],
            "type": "heatmap"
           }
          ],
          "heatmapgl": [
           {
            "colorbar": {
             "outlinewidth": 0,
             "ticks": ""
            },
            "colorscale": [
             [
              0,
              "#0d0887"
             ],
             [
              0.1111111111111111,
              "#46039f"
             ],
             [
              0.2222222222222222,
              "#7201a8"
             ],
             [
              0.3333333333333333,
              "#9c179e"
             ],
             [
              0.4444444444444444,
              "#bd3786"
             ],
             [
              0.5555555555555556,
              "#d8576b"
             ],
             [
              0.6666666666666666,
              "#ed7953"
             ],
             [
              0.7777777777777778,
              "#fb9f3a"
             ],
             [
              0.8888888888888888,
              "#fdca26"
             ],
             [
              1,
              "#f0f921"
             ]
            ],
            "type": "heatmapgl"
           }
          ],
          "histogram": [
           {
            "marker": {
             "pattern": {
              "fillmode": "overlay",
              "size": 10,
              "solidity": 0.2
             }
            },
            "type": "histogram"
           }
          ],
          "histogram2d": [
           {
            "colorbar": {
             "outlinewidth": 0,
             "ticks": ""
            },
            "colorscale": [
             [
              0,
              "#0d0887"
             ],
             [
              0.1111111111111111,
              "#46039f"
             ],
             [
              0.2222222222222222,
              "#7201a8"
             ],
             [
              0.3333333333333333,
              "#9c179e"
             ],
             [
              0.4444444444444444,
              "#bd3786"
             ],
             [
              0.5555555555555556,
              "#d8576b"
             ],
             [
              0.6666666666666666,
              "#ed7953"
             ],
             [
              0.7777777777777778,
              "#fb9f3a"
             ],
             [
              0.8888888888888888,
              "#fdca26"
             ],
             [
              1,
              "#f0f921"
             ]
            ],
            "type": "histogram2d"
           }
          ],
          "histogram2dcontour": [
           {
            "colorbar": {
             "outlinewidth": 0,
             "ticks": ""
            },
            "colorscale": [
             [
              0,
              "#0d0887"
             ],
             [
              0.1111111111111111,
              "#46039f"
             ],
             [
              0.2222222222222222,
              "#7201a8"
             ],
             [
              0.3333333333333333,
              "#9c179e"
             ],
             [
              0.4444444444444444,
              "#bd3786"
             ],
             [
              0.5555555555555556,
              "#d8576b"
             ],
             [
              0.6666666666666666,
              "#ed7953"
             ],
             [
              0.7777777777777778,
              "#fb9f3a"
             ],
             [
              0.8888888888888888,
              "#fdca26"
             ],
             [
              1,
              "#f0f921"
             ]
            ],
            "type": "histogram2dcontour"
           }
          ],
          "mesh3d": [
           {
            "colorbar": {
             "outlinewidth": 0,
             "ticks": ""
            },
            "type": "mesh3d"
           }
          ],
          "parcoords": [
           {
            "line": {
             "colorbar": {
              "outlinewidth": 0,
              "ticks": ""
             }
            },
            "type": "parcoords"
           }
          ],
          "pie": [
           {
            "automargin": true,
            "type": "pie"
           }
          ],
          "scatter": [
           {
            "fillpattern": {
             "fillmode": "overlay",
             "size": 10,
             "solidity": 0.2
            },
            "type": "scatter"
           }
          ],
          "scatter3d": [
           {
            "line": {
             "colorbar": {
              "outlinewidth": 0,
              "ticks": ""
             }
            },
            "marker": {
             "colorbar": {
              "outlinewidth": 0,
              "ticks": ""
             }
            },
            "type": "scatter3d"
           }
          ],
          "scattercarpet": [
           {
            "marker": {
             "colorbar": {
              "outlinewidth": 0,
              "ticks": ""
             }
            },
            "type": "scattercarpet"
           }
          ],
          "scattergeo": [
           {
            "marker": {
             "colorbar": {
              "outlinewidth": 0,
              "ticks": ""
             }
            },
            "type": "scattergeo"
           }
          ],
          "scattergl": [
           {
            "marker": {
             "colorbar": {
              "outlinewidth": 0,
              "ticks": ""
             }
            },
            "type": "scattergl"
           }
          ],
          "scattermapbox": [
           {
            "marker": {
             "colorbar": {
              "outlinewidth": 0,
              "ticks": ""
             }
            },
            "type": "scattermapbox"
           }
          ],
          "scatterpolar": [
           {
            "marker": {
             "colorbar": {
              "outlinewidth": 0,
              "ticks": ""
             }
            },
            "type": "scatterpolar"
           }
          ],
          "scatterpolargl": [
           {
            "marker": {
             "colorbar": {
              "outlinewidth": 0,
              "ticks": ""
             }
            },
            "type": "scatterpolargl"
           }
          ],
          "scatterternary": [
           {
            "marker": {
             "colorbar": {
              "outlinewidth": 0,
              "ticks": ""
             }
            },
            "type": "scatterternary"
           }
          ],
          "surface": [
           {
            "colorbar": {
             "outlinewidth": 0,
             "ticks": ""
            },
            "colorscale": [
             [
              0,
              "#0d0887"
             ],
             [
              0.1111111111111111,
              "#46039f"
             ],
             [
              0.2222222222222222,
              "#7201a8"
             ],
             [
              0.3333333333333333,
              "#9c179e"
             ],
             [
              0.4444444444444444,
              "#bd3786"
             ],
             [
              0.5555555555555556,
              "#d8576b"
             ],
             [
              0.6666666666666666,
              "#ed7953"
             ],
             [
              0.7777777777777778,
              "#fb9f3a"
             ],
             [
              0.8888888888888888,
              "#fdca26"
             ],
             [
              1,
              "#f0f921"
             ]
            ],
            "type": "surface"
           }
          ],
          "table": [
           {
            "cells": {
             "fill": {
              "color": "#EBF0F8"
             },
             "line": {
              "color": "white"
             }
            },
            "header": {
             "fill": {
              "color": "#C8D4E3"
             },
             "line": {
              "color": "white"
             }
            },
            "type": "table"
           }
          ]
         },
         "layout": {
          "annotationdefaults": {
           "arrowcolor": "#2a3f5f",
           "arrowhead": 0,
           "arrowwidth": 1
          },
          "autotypenumbers": "strict",
          "coloraxis": {
           "colorbar": {
            "outlinewidth": 0,
            "ticks": ""
           }
          },
          "colorscale": {
           "diverging": [
            [
             0,
             "#8e0152"
            ],
            [
             0.1,
             "#c51b7d"
            ],
            [
             0.2,
             "#de77ae"
            ],
            [
             0.3,
             "#f1b6da"
            ],
            [
             0.4,
             "#fde0ef"
            ],
            [
             0.5,
             "#f7f7f7"
            ],
            [
             0.6,
             "#e6f5d0"
            ],
            [
             0.7,
             "#b8e186"
            ],
            [
             0.8,
             "#7fbc41"
            ],
            [
             0.9,
             "#4d9221"
            ],
            [
             1,
             "#276419"
            ]
           ],
           "sequential": [
            [
             0,
             "#0d0887"
            ],
            [
             0.1111111111111111,
             "#46039f"
            ],
            [
             0.2222222222222222,
             "#7201a8"
            ],
            [
             0.3333333333333333,
             "#9c179e"
            ],
            [
             0.4444444444444444,
             "#bd3786"
            ],
            [
             0.5555555555555556,
             "#d8576b"
            ],
            [
             0.6666666666666666,
             "#ed7953"
            ],
            [
             0.7777777777777778,
             "#fb9f3a"
            ],
            [
             0.8888888888888888,
             "#fdca26"
            ],
            [
             1,
             "#f0f921"
            ]
           ],
           "sequentialminus": [
            [
             0,
             "#0d0887"
            ],
            [
             0.1111111111111111,
             "#46039f"
            ],
            [
             0.2222222222222222,
             "#7201a8"
            ],
            [
             0.3333333333333333,
             "#9c179e"
            ],
            [
             0.4444444444444444,
             "#bd3786"
            ],
            [
             0.5555555555555556,
             "#d8576b"
            ],
            [
             0.6666666666666666,
             "#ed7953"
            ],
            [
             0.7777777777777778,
             "#fb9f3a"
            ],
            [
             0.8888888888888888,
             "#fdca26"
            ],
            [
             1,
             "#f0f921"
            ]
           ]
          },
          "colorway": [
           "#636efa",
           "#EF553B",
           "#00cc96",
           "#ab63fa",
           "#FFA15A",
           "#19d3f3",
           "#FF6692",
           "#B6E880",
           "#FF97FF",
           "#FECB52"
          ],
          "font": {
           "color": "#2a3f5f"
          },
          "geo": {
           "bgcolor": "white",
           "lakecolor": "white",
           "landcolor": "#E5ECF6",
           "showlakes": true,
           "showland": true,
           "subunitcolor": "white"
          },
          "hoverlabel": {
           "align": "left"
          },
          "hovermode": "closest",
          "mapbox": {
           "style": "light"
          },
          "paper_bgcolor": "white",
          "plot_bgcolor": "#E5ECF6",
          "polar": {
           "angularaxis": {
            "gridcolor": "white",
            "linecolor": "white",
            "ticks": ""
           },
           "bgcolor": "#E5ECF6",
           "radialaxis": {
            "gridcolor": "white",
            "linecolor": "white",
            "ticks": ""
           }
          },
          "scene": {
           "xaxis": {
            "backgroundcolor": "#E5ECF6",
            "gridcolor": "white",
            "gridwidth": 2,
            "linecolor": "white",
            "showbackground": true,
            "ticks": "",
            "zerolinecolor": "white"
           },
           "yaxis": {
            "backgroundcolor": "#E5ECF6",
            "gridcolor": "white",
            "gridwidth": 2,
            "linecolor": "white",
            "showbackground": true,
            "ticks": "",
            "zerolinecolor": "white"
           },
           "zaxis": {
            "backgroundcolor": "#E5ECF6",
            "gridcolor": "white",
            "gridwidth": 2,
            "linecolor": "white",
            "showbackground": true,
            "ticks": "",
            "zerolinecolor": "white"
           }
          },
          "shapedefaults": {
           "line": {
            "color": "#2a3f5f"
           }
          },
          "ternary": {
           "aaxis": {
            "gridcolor": "white",
            "linecolor": "white",
            "ticks": ""
           },
           "baxis": {
            "gridcolor": "white",
            "linecolor": "white",
            "ticks": ""
           },
           "bgcolor": "#E5ECF6",
           "caxis": {
            "gridcolor": "white",
            "linecolor": "white",
            "ticks": ""
           }
          },
          "title": {
           "x": 0.05
          },
          "xaxis": {
           "automargin": true,
           "gridcolor": "white",
           "linecolor": "white",
           "ticks": "",
           "title": {
            "standoff": 15
           },
           "zerolinecolor": "white",
           "zerolinewidth": 2
          },
          "yaxis": {
           "automargin": true,
           "gridcolor": "white",
           "linecolor": "white",
           "ticks": "",
           "title": {
            "standoff": 15
           },
           "zerolinecolor": "white",
           "zerolinewidth": 2
          }
         }
        },
        "title": {
         "text": "Slice Plot"
        },
        "width": 1800,
        "xaxis": {
         "anchor": "y",
         "domain": [
          0,
          0.1388888888888889
         ],
         "title": {
          "text": "bagging_fraction"
         }
        },
        "xaxis2": {
         "anchor": "y2",
         "domain": [
          0.17222222222222222,
          0.3111111111111111
         ],
         "title": {
          "text": "bagging_freq"
         }
        },
        "xaxis3": {
         "anchor": "y3",
         "domain": [
          0.34444444444444444,
          0.48333333333333334
         ],
         "title": {
          "text": "feature_fraction"
         }
        },
        "xaxis4": {
         "anchor": "y4",
         "domain": [
          0.5166666666666667,
          0.6555555555555557
         ],
         "title": {
          "text": "lambda_l1"
         },
         "type": "log"
        },
        "xaxis5": {
         "anchor": "y5",
         "domain": [
          0.6888888888888889,
          0.8277777777777777
         ],
         "title": {
          "text": "lambda_l2"
         },
         "type": "log"
        },
        "xaxis6": {
         "anchor": "y6",
         "domain": [
          0.861111111111111,
          1
         ],
         "title": {
          "text": "num_leaves"
         }
        },
        "yaxis": {
         "anchor": "x",
         "domain": [
          0,
          1
         ],
         "title": {
          "text": "Objective Value"
         }
        },
        "yaxis2": {
         "anchor": "x2",
         "domain": [
          0,
          1
         ],
         "matches": "y",
         "showticklabels": false
        },
        "yaxis3": {
         "anchor": "x3",
         "domain": [
          0,
          1
         ],
         "matches": "y",
         "showticklabels": false
        },
        "yaxis4": {
         "anchor": "x4",
         "domain": [
          0,
          1
         ],
         "matches": "y",
         "showticklabels": false
        },
        "yaxis5": {
         "anchor": "x5",
         "domain": [
          0,
          1
         ],
         "matches": "y",
         "showticklabels": false
        },
        "yaxis6": {
         "anchor": "x6",
         "domain": [
          0,
          1
         ],
         "matches": "y",
         "showticklabels": false
        }
       }
      }
     },
     "metadata": {},
     "output_type": "display_data"
    }
   ],
   "source": [
    "optuna.visualization.plot_slice(study)"
   ]
  },
  {
   "cell_type": "code",
   "execution_count": 13,
   "metadata": {},
   "outputs": [
    {
     "data": {
      "application/vnd.plotly.v1+json": {
       "config": {
        "plotlyServerURL": "https://plot.ly"
       },
       "data": [
        {
         "mode": "lines",
         "name": "lgbm-group-tune-wd",
         "type": "scatter",
         "x": [
          0.1098640404003769,
          0.10989429700377235,
          0.1099245536071678,
          0.10995481021056325,
          0.10998506681395871,
          0.11001532341735416,
          0.11004558002074961,
          0.11007583662414507,
          0.11010609322754052,
          0.11013634983093597,
          0.11016660643433142,
          0.11019686303772687,
          0.11022711964112233,
          0.11025737624451779,
          0.11028763284791324,
          0.11031788945130869,
          0.11034814605470414,
          0.11037840265809959,
          0.11040865926149504,
          0.11043891586489049,
          0.11046917246828596,
          0.11049942907168141,
          0.11052968567507686,
          0.11055994227847231,
          0.11059019888186776,
          0.11062045548526321,
          0.11065071208865866,
          0.11068096869205413,
          0.11071122529544958,
          0.11074148189884503,
          0.11077173850224048,
          0.11080199510563593,
          0.11083225170903138,
          0.11086250831242683,
          0.11089276491582228,
          0.11092302151921775,
          0.1109532781226132,
          0.11098353472600865,
          0.1110137913294041,
          0.11104404793279955,
          0.111074304536195,
          0.11110456113959045,
          0.11113481774298592,
          0.11116507434638137,
          0.11119533094977682,
          0.11122558755317227,
          0.11125584415656772,
          0.11128610075996317,
          0.11131635736335863,
          0.11134661396675408,
          0.11137687057014954,
          0.11140712717354499,
          0.11143738377694044,
          0.1114676403803359,
          0.11149789698373135,
          0.1115281535871268,
          0.11155841019052225,
          0.1115886667939177,
          0.11161892339731316,
          0.11164918000070861,
          0.11167943660410407,
          0.11170969320749952,
          0.11173994981089497,
          0.11177020641429042,
          0.11180046301768587,
          0.11183071962108133,
          0.11186097622447679,
          0.11189123282787224,
          0.11192148943126769,
          0.11195174603466314,
          0.11198200263805859,
          0.11201225924145404,
          0.11204251584484949,
          0.11207277244824496,
          0.11210302905164041,
          0.11213328565503586,
          0.11216354225843131,
          0.11219379886182676,
          0.11222405546522221,
          0.11225431206861766,
          0.11228456867201311,
          0.11231482527540858,
          0.11234508187880403,
          0.11237533848219948,
          0.11240559508559493,
          0.11243585168899038,
          0.11246610829238583,
          0.11249636489578128,
          0.11252662149917675,
          0.1125568781025722,
          0.11258713470596765,
          0.1126173913093631,
          0.11264764791275855,
          0.112677904516154,
          0.11270816111954945,
          0.1127384177229449,
          0.11276867432634037,
          0.11279893092973582,
          0.11282918753313127,
          0.11285944413652672
         ],
         "y": [
          0.01,
          0.01,
          0.01,
          0.01,
          0.02,
          0.03,
          0.03,
          0.04,
          0.08,
          0.11,
          0.14,
          0.16,
          0.21,
          0.25,
          0.3,
          0.33,
          0.36,
          0.38,
          0.43,
          0.45,
          0.48,
          0.49,
          0.51,
          0.53,
          0.54,
          0.55,
          0.59,
          0.6,
          0.61,
          0.62,
          0.63,
          0.64,
          0.65,
          0.66,
          0.67,
          0.67,
          0.69,
          0.72,
          0.73,
          0.73,
          0.75,
          0.75,
          0.76,
          0.76,
          0.76,
          0.76,
          0.77,
          0.77,
          0.77,
          0.79,
          0.8,
          0.8,
          0.8,
          0.83,
          0.84,
          0.84,
          0.86,
          0.86,
          0.87,
          0.88,
          0.88,
          0.88,
          0.88,
          0.88,
          0.88,
          0.89,
          0.9,
          0.9,
          0.91,
          0.91,
          0.94,
          0.94,
          0.95,
          0.95,
          0.95,
          0.96,
          0.96,
          0.97,
          0.98,
          0.98,
          0.98,
          0.98,
          0.98,
          0.98,
          0.98,
          0.98,
          0.98,
          0.98,
          0.98,
          0.98,
          0.98,
          0.98,
          0.98,
          0.98,
          0.98,
          0.98,
          0.99,
          0.99,
          0.99,
          1
         ]
        }
       ],
       "layout": {
        "template": {
         "data": {
          "bar": [
           {
            "error_x": {
             "color": "#2a3f5f"
            },
            "error_y": {
             "color": "#2a3f5f"
            },
            "marker": {
             "line": {
              "color": "#E5ECF6",
              "width": 0.5
             },
             "pattern": {
              "fillmode": "overlay",
              "size": 10,
              "solidity": 0.2
             }
            },
            "type": "bar"
           }
          ],
          "barpolar": [
           {
            "marker": {
             "line": {
              "color": "#E5ECF6",
              "width": 0.5
             },
             "pattern": {
              "fillmode": "overlay",
              "size": 10,
              "solidity": 0.2
             }
            },
            "type": "barpolar"
           }
          ],
          "carpet": [
           {
            "aaxis": {
             "endlinecolor": "#2a3f5f",
             "gridcolor": "white",
             "linecolor": "white",
             "minorgridcolor": "white",
             "startlinecolor": "#2a3f5f"
            },
            "baxis": {
             "endlinecolor": "#2a3f5f",
             "gridcolor": "white",
             "linecolor": "white",
             "minorgridcolor": "white",
             "startlinecolor": "#2a3f5f"
            },
            "type": "carpet"
           }
          ],
          "choropleth": [
           {
            "colorbar": {
             "outlinewidth": 0,
             "ticks": ""
            },
            "type": "choropleth"
           }
          ],
          "contour": [
           {
            "colorbar": {
             "outlinewidth": 0,
             "ticks": ""
            },
            "colorscale": [
             [
              0,
              "#0d0887"
             ],
             [
              0.1111111111111111,
              "#46039f"
             ],
             [
              0.2222222222222222,
              "#7201a8"
             ],
             [
              0.3333333333333333,
              "#9c179e"
             ],
             [
              0.4444444444444444,
              "#bd3786"
             ],
             [
              0.5555555555555556,
              "#d8576b"
             ],
             [
              0.6666666666666666,
              "#ed7953"
             ],
             [
              0.7777777777777778,
              "#fb9f3a"
             ],
             [
              0.8888888888888888,
              "#fdca26"
             ],
             [
              1,
              "#f0f921"
             ]
            ],
            "type": "contour"
           }
          ],
          "contourcarpet": [
           {
            "colorbar": {
             "outlinewidth": 0,
             "ticks": ""
            },
            "type": "contourcarpet"
           }
          ],
          "heatmap": [
           {
            "colorbar": {
             "outlinewidth": 0,
             "ticks": ""
            },
            "colorscale": [
             [
              0,
              "#0d0887"
             ],
             [
              0.1111111111111111,
              "#46039f"
             ],
             [
              0.2222222222222222,
              "#7201a8"
             ],
             [
              0.3333333333333333,
              "#9c179e"
             ],
             [
              0.4444444444444444,
              "#bd3786"
             ],
             [
              0.5555555555555556,
              "#d8576b"
             ],
             [
              0.6666666666666666,
              "#ed7953"
             ],
             [
              0.7777777777777778,
              "#fb9f3a"
             ],
             [
              0.8888888888888888,
              "#fdca26"
             ],
             [
              1,
              "#f0f921"
             ]
            ],
            "type": "heatmap"
           }
          ],
          "heatmapgl": [
           {
            "colorbar": {
             "outlinewidth": 0,
             "ticks": ""
            },
            "colorscale": [
             [
              0,
              "#0d0887"
             ],
             [
              0.1111111111111111,
              "#46039f"
             ],
             [
              0.2222222222222222,
              "#7201a8"
             ],
             [
              0.3333333333333333,
              "#9c179e"
             ],
             [
              0.4444444444444444,
              "#bd3786"
             ],
             [
              0.5555555555555556,
              "#d8576b"
             ],
             [
              0.6666666666666666,
              "#ed7953"
             ],
             [
              0.7777777777777778,
              "#fb9f3a"
             ],
             [
              0.8888888888888888,
              "#fdca26"
             ],
             [
              1,
              "#f0f921"
             ]
            ],
            "type": "heatmapgl"
           }
          ],
          "histogram": [
           {
            "marker": {
             "pattern": {
              "fillmode": "overlay",
              "size": 10,
              "solidity": 0.2
             }
            },
            "type": "histogram"
           }
          ],
          "histogram2d": [
           {
            "colorbar": {
             "outlinewidth": 0,
             "ticks": ""
            },
            "colorscale": [
             [
              0,
              "#0d0887"
             ],
             [
              0.1111111111111111,
              "#46039f"
             ],
             [
              0.2222222222222222,
              "#7201a8"
             ],
             [
              0.3333333333333333,
              "#9c179e"
             ],
             [
              0.4444444444444444,
              "#bd3786"
             ],
             [
              0.5555555555555556,
              "#d8576b"
             ],
             [
              0.6666666666666666,
              "#ed7953"
             ],
             [
              0.7777777777777778,
              "#fb9f3a"
             ],
             [
              0.8888888888888888,
              "#fdca26"
             ],
             [
              1,
              "#f0f921"
             ]
            ],
            "type": "histogram2d"
           }
          ],
          "histogram2dcontour": [
           {
            "colorbar": {
             "outlinewidth": 0,
             "ticks": ""
            },
            "colorscale": [
             [
              0,
              "#0d0887"
             ],
             [
              0.1111111111111111,
              "#46039f"
             ],
             [
              0.2222222222222222,
              "#7201a8"
             ],
             [
              0.3333333333333333,
              "#9c179e"
             ],
             [
              0.4444444444444444,
              "#bd3786"
             ],
             [
              0.5555555555555556,
              "#d8576b"
             ],
             [
              0.6666666666666666,
              "#ed7953"
             ],
             [
              0.7777777777777778,
              "#fb9f3a"
             ],
             [
              0.8888888888888888,
              "#fdca26"
             ],
             [
              1,
              "#f0f921"
             ]
            ],
            "type": "histogram2dcontour"
           }
          ],
          "mesh3d": [
           {
            "colorbar": {
             "outlinewidth": 0,
             "ticks": ""
            },
            "type": "mesh3d"
           }
          ],
          "parcoords": [
           {
            "line": {
             "colorbar": {
              "outlinewidth": 0,
              "ticks": ""
             }
            },
            "type": "parcoords"
           }
          ],
          "pie": [
           {
            "automargin": true,
            "type": "pie"
           }
          ],
          "scatter": [
           {
            "fillpattern": {
             "fillmode": "overlay",
             "size": 10,
             "solidity": 0.2
            },
            "type": "scatter"
           }
          ],
          "scatter3d": [
           {
            "line": {
             "colorbar": {
              "outlinewidth": 0,
              "ticks": ""
             }
            },
            "marker": {
             "colorbar": {
              "outlinewidth": 0,
              "ticks": ""
             }
            },
            "type": "scatter3d"
           }
          ],
          "scattercarpet": [
           {
            "marker": {
             "colorbar": {
              "outlinewidth": 0,
              "ticks": ""
             }
            },
            "type": "scattercarpet"
           }
          ],
          "scattergeo": [
           {
            "marker": {
             "colorbar": {
              "outlinewidth": 0,
              "ticks": ""
             }
            },
            "type": "scattergeo"
           }
          ],
          "scattergl": [
           {
            "marker": {
             "colorbar": {
              "outlinewidth": 0,
              "ticks": ""
             }
            },
            "type": "scattergl"
           }
          ],
          "scattermapbox": [
           {
            "marker": {
             "colorbar": {
              "outlinewidth": 0,
              "ticks": ""
             }
            },
            "type": "scattermapbox"
           }
          ],
          "scatterpolar": [
           {
            "marker": {
             "colorbar": {
              "outlinewidth": 0,
              "ticks": ""
             }
            },
            "type": "scatterpolar"
           }
          ],
          "scatterpolargl": [
           {
            "marker": {
             "colorbar": {
              "outlinewidth": 0,
              "ticks": ""
             }
            },
            "type": "scatterpolargl"
           }
          ],
          "scatterternary": [
           {
            "marker": {
             "colorbar": {
              "outlinewidth": 0,
              "ticks": ""
             }
            },
            "type": "scatterternary"
           }
          ],
          "surface": [
           {
            "colorbar": {
             "outlinewidth": 0,
             "ticks": ""
            },
            "colorscale": [
             [
              0,
              "#0d0887"
             ],
             [
              0.1111111111111111,
              "#46039f"
             ],
             [
              0.2222222222222222,
              "#7201a8"
             ],
             [
              0.3333333333333333,
              "#9c179e"
             ],
             [
              0.4444444444444444,
              "#bd3786"
             ],
             [
              0.5555555555555556,
              "#d8576b"
             ],
             [
              0.6666666666666666,
              "#ed7953"
             ],
             [
              0.7777777777777778,
              "#fb9f3a"
             ],
             [
              0.8888888888888888,
              "#fdca26"
             ],
             [
              1,
              "#f0f921"
             ]
            ],
            "type": "surface"
           }
          ],
          "table": [
           {
            "cells": {
             "fill": {
              "color": "#EBF0F8"
             },
             "line": {
              "color": "white"
             }
            },
            "header": {
             "fill": {
              "color": "#C8D4E3"
             },
             "line": {
              "color": "white"
             }
            },
            "type": "table"
           }
          ]
         },
         "layout": {
          "annotationdefaults": {
           "arrowcolor": "#2a3f5f",
           "arrowhead": 0,
           "arrowwidth": 1
          },
          "autotypenumbers": "strict",
          "coloraxis": {
           "colorbar": {
            "outlinewidth": 0,
            "ticks": ""
           }
          },
          "colorscale": {
           "diverging": [
            [
             0,
             "#8e0152"
            ],
            [
             0.1,
             "#c51b7d"
            ],
            [
             0.2,
             "#de77ae"
            ],
            [
             0.3,
             "#f1b6da"
            ],
            [
             0.4,
             "#fde0ef"
            ],
            [
             0.5,
             "#f7f7f7"
            ],
            [
             0.6,
             "#e6f5d0"
            ],
            [
             0.7,
             "#b8e186"
            ],
            [
             0.8,
             "#7fbc41"
            ],
            [
             0.9,
             "#4d9221"
            ],
            [
             1,
             "#276419"
            ]
           ],
           "sequential": [
            [
             0,
             "#0d0887"
            ],
            [
             0.1111111111111111,
             "#46039f"
            ],
            [
             0.2222222222222222,
             "#7201a8"
            ],
            [
             0.3333333333333333,
             "#9c179e"
            ],
            [
             0.4444444444444444,
             "#bd3786"
            ],
            [
             0.5555555555555556,
             "#d8576b"
            ],
            [
             0.6666666666666666,
             "#ed7953"
            ],
            [
             0.7777777777777778,
             "#fb9f3a"
            ],
            [
             0.8888888888888888,
             "#fdca26"
            ],
            [
             1,
             "#f0f921"
            ]
           ],
           "sequentialminus": [
            [
             0,
             "#0d0887"
            ],
            [
             0.1111111111111111,
             "#46039f"
            ],
            [
             0.2222222222222222,
             "#7201a8"
            ],
            [
             0.3333333333333333,
             "#9c179e"
            ],
            [
             0.4444444444444444,
             "#bd3786"
            ],
            [
             0.5555555555555556,
             "#d8576b"
            ],
            [
             0.6666666666666666,
             "#ed7953"
            ],
            [
             0.7777777777777778,
             "#fb9f3a"
            ],
            [
             0.8888888888888888,
             "#fdca26"
            ],
            [
             1,
             "#f0f921"
            ]
           ]
          },
          "colorway": [
           "#636efa",
           "#EF553B",
           "#00cc96",
           "#ab63fa",
           "#FFA15A",
           "#19d3f3",
           "#FF6692",
           "#B6E880",
           "#FF97FF",
           "#FECB52"
          ],
          "font": {
           "color": "#2a3f5f"
          },
          "geo": {
           "bgcolor": "white",
           "lakecolor": "white",
           "landcolor": "#E5ECF6",
           "showlakes": true,
           "showland": true,
           "subunitcolor": "white"
          },
          "hoverlabel": {
           "align": "left"
          },
          "hovermode": "closest",
          "mapbox": {
           "style": "light"
          },
          "paper_bgcolor": "white",
          "plot_bgcolor": "#E5ECF6",
          "polar": {
           "angularaxis": {
            "gridcolor": "white",
            "linecolor": "white",
            "ticks": ""
           },
           "bgcolor": "#E5ECF6",
           "radialaxis": {
            "gridcolor": "white",
            "linecolor": "white",
            "ticks": ""
           }
          },
          "scene": {
           "xaxis": {
            "backgroundcolor": "#E5ECF6",
            "gridcolor": "white",
            "gridwidth": 2,
            "linecolor": "white",
            "showbackground": true,
            "ticks": "",
            "zerolinecolor": "white"
           },
           "yaxis": {
            "backgroundcolor": "#E5ECF6",
            "gridcolor": "white",
            "gridwidth": 2,
            "linecolor": "white",
            "showbackground": true,
            "ticks": "",
            "zerolinecolor": "white"
           },
           "zaxis": {
            "backgroundcolor": "#E5ECF6",
            "gridcolor": "white",
            "gridwidth": 2,
            "linecolor": "white",
            "showbackground": true,
            "ticks": "",
            "zerolinecolor": "white"
           }
          },
          "shapedefaults": {
           "line": {
            "color": "#2a3f5f"
           }
          },
          "ternary": {
           "aaxis": {
            "gridcolor": "white",
            "linecolor": "white",
            "ticks": ""
           },
           "baxis": {
            "gridcolor": "white",
            "linecolor": "white",
            "ticks": ""
           },
           "bgcolor": "#E5ECF6",
           "caxis": {
            "gridcolor": "white",
            "linecolor": "white",
            "ticks": ""
           }
          },
          "title": {
           "x": 0.05
          },
          "xaxis": {
           "automargin": true,
           "gridcolor": "white",
           "linecolor": "white",
           "ticks": "",
           "title": {
            "standoff": 15
           },
           "zerolinecolor": "white",
           "zerolinewidth": 2
          },
          "yaxis": {
           "automargin": true,
           "gridcolor": "white",
           "linecolor": "white",
           "ticks": "",
           "title": {
            "standoff": 15
           },
           "zerolinecolor": "white",
           "zerolinewidth": 2
          }
         }
        },
        "title": {
         "text": "Empirical Distribution Function Plot"
        },
        "xaxis": {
         "title": {
          "text": "Objective Value"
         }
        },
        "yaxis": {
         "range": [
          0,
          1
         ],
         "title": {
          "text": "Cumulative Probability"
         }
        }
       }
      }
     },
     "metadata": {},
     "output_type": "display_data"
    }
   ],
   "source": [
    "optuna.visualization.plot_edf(study)"
   ]
  },
  {
   "cell_type": "code",
   "execution_count": null,
   "metadata": {},
   "outputs": [],
   "source": []
  }
 ],
 "metadata": {
  "kernelspec": {
   "display_name": "kaggle",
   "language": "python",
   "name": "python3"
  },
  "language_info": {
   "codemirror_mode": {
    "name": "ipython",
    "version": 3
   },
   "file_extension": ".py",
   "mimetype": "text/x-python",
   "name": "python",
   "nbconvert_exporter": "python",
   "pygments_lexer": "ipython3",
   "version": "3.10.13"
  }
 },
 "nbformat": 4,
 "nbformat_minor": 2
}
