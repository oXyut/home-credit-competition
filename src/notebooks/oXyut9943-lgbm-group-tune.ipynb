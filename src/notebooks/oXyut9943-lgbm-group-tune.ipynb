{
 "cells": [
  {
   "cell_type": "code",
   "execution_count": 19,
   "metadata": {},
   "outputs": [],
   "source": [
    "from collections import OrderedDict\n",
    "import gc\n",
    "from pathlib import Path\n",
    "import pickle\n",
    "import sys\n",
    "sys.path.append('..')\n",
    "from typing import Dict, List, Tuple, Union, Literal\n",
    "import warnings\n",
    "import joblib\n",
    "import lightgbm as lgb\n",
    "import numpy as np\n",
    "import optuna\n",
    "import pandas as pd\n",
    "import polars as pl\n",
    "from sklearn.preprocessing import OrdinalEncoder\n",
    "from sklearn.model_selection import StratifiedGroupKFold, train_test_split\n",
    "\n",
    "gc.enable()"
   ]
  },
  {
   "cell_type": "code",
   "execution_count": 20,
   "metadata": {},
   "outputs": [],
   "source": [
    "KAGGLE = False\n",
    "MODE:Literal['train', 'test'] = 'train'"
   ]
  },
  {
   "cell_type": "code",
   "execution_count": 21,
   "metadata": {},
   "outputs": [],
   "source": [
    "if KAGGLE:\n",
    "    COMPETITION_DIR = Path('/kaggle/input/home-credit-credit-risk-model-stability')\n",
    "    MODEL_DIR = Path('/kaggle/input/240407-home-credit-test-submit')\n",
    "    FEATURE_DTYPE_DIR = Path('/kaggle/input/home-credit-enhanced-feature-definitions')\n",
    "else:\n",
    "    COMPETITION_DIR = Path('../../data/inputs')\n",
    "    MODEL_DIR = Path('../../data/models/lgbm-group-tune')\n",
    "    if not MODEL_DIR.exists():\n",
    "        MODEL_DIR.mkdir(parents=True)\n",
    "        MODEL_DIR.joinpath('encoders').mkdir()\n",
    "        print(MODEL_DIR, 'created')\n",
    "    FEATURE_DTYPE_DIR = Path('../../data/configs/feature_definitions_dtypes_tables.parquet')"
   ]
  },
  {
   "cell_type": "code",
   "execution_count": 22,
   "metadata": {},
   "outputs": [
    {
     "data": {
      "text/html": [
       "<div>\n",
       "<style scoped>\n",
       "    .dataframe tbody tr th:only-of-type {\n",
       "        vertical-align: middle;\n",
       "    }\n",
       "\n",
       "    .dataframe tbody tr th {\n",
       "        vertical-align: top;\n",
       "    }\n",
       "\n",
       "    .dataframe thead th {\n",
       "        text-align: right;\n",
       "    }\n",
       "</style>\n",
       "<table border=\"1\" class=\"dataframe\">\n",
       "  <thead>\n",
       "    <tr style=\"text-align: right;\">\n",
       "      <th></th>\n",
       "      <th>Variable</th>\n",
       "      <th>Description</th>\n",
       "      <th>dtype</th>\n",
       "      <th>tables</th>\n",
       "    </tr>\n",
       "  </thead>\n",
       "  <tbody>\n",
       "    <tr>\n",
       "      <th>0</th>\n",
       "      <td>actualdpd_943P</td>\n",
       "      <td>Days Past Due (DPD) of previous contract (actu...</td>\n",
       "      <td>Float64</td>\n",
       "      <td>[train_applprev_1_0, train_applprev_1_1]</td>\n",
       "    </tr>\n",
       "    <tr>\n",
       "      <th>1</th>\n",
       "      <td>actualdpdtolerance_344P</td>\n",
       "      <td>DPD of client with tolerance.</td>\n",
       "      <td>Float64</td>\n",
       "      <td>[train_static_0_0, train_static_0_1]</td>\n",
       "    </tr>\n",
       "    <tr>\n",
       "      <th>2</th>\n",
       "      <td>addres_district_368M</td>\n",
       "      <td>District of the person's address.</td>\n",
       "      <td>String</td>\n",
       "      <td>[train_person_2]</td>\n",
       "    </tr>\n",
       "    <tr>\n",
       "      <th>3</th>\n",
       "      <td>addres_role_871L</td>\n",
       "      <td>Role of person's address.</td>\n",
       "      <td>String</td>\n",
       "      <td>[train_person_2]</td>\n",
       "    </tr>\n",
       "    <tr>\n",
       "      <th>4</th>\n",
       "      <td>addres_zip_823M</td>\n",
       "      <td>Zip code of the address.</td>\n",
       "      <td>String</td>\n",
       "      <td>[train_person_2]</td>\n",
       "    </tr>\n",
       "    <tr>\n",
       "      <th>...</th>\n",
       "      <td>...</td>\n",
       "      <td>...</td>\n",
       "      <td>...</td>\n",
       "      <td>...</td>\n",
       "    </tr>\n",
       "    <tr>\n",
       "      <th>460</th>\n",
       "      <td>totinstallast1m_4525188A</td>\n",
       "      <td>Total amount of monthly instalments paid in th...</td>\n",
       "      <td>Float64</td>\n",
       "      <td>[train_static_0_0, train_static_0_1]</td>\n",
       "    </tr>\n",
       "    <tr>\n",
       "      <th>461</th>\n",
       "      <td>twobodfilling_608L</td>\n",
       "      <td>Type of application process.</td>\n",
       "      <td>String</td>\n",
       "      <td>[train_static_0_0, train_static_0_1]</td>\n",
       "    </tr>\n",
       "    <tr>\n",
       "      <th>462</th>\n",
       "      <td>type_25L</td>\n",
       "      <td>Contact type of a person.</td>\n",
       "      <td>String</td>\n",
       "      <td>[train_person_1]</td>\n",
       "    </tr>\n",
       "    <tr>\n",
       "      <th>463</th>\n",
       "      <td>typesuite_864L</td>\n",
       "      <td>Persons accompanying the client during the loa...</td>\n",
       "      <td>String</td>\n",
       "      <td>[train_static_0_0, train_static_0_1]</td>\n",
       "    </tr>\n",
       "    <tr>\n",
       "      <th>464</th>\n",
       "      <td>validfrom_1069D</td>\n",
       "      <td>Date since the client has an active campaign.</td>\n",
       "      <td>Date</td>\n",
       "      <td>[train_static_0_0, train_static_0_1]</td>\n",
       "    </tr>\n",
       "  </tbody>\n",
       "</table>\n",
       "<p>465 rows × 4 columns</p>\n",
       "</div>"
      ],
      "text/plain": [
       "                     Variable  \\\n",
       "0              actualdpd_943P   \n",
       "1     actualdpdtolerance_344P   \n",
       "2        addres_district_368M   \n",
       "3            addres_role_871L   \n",
       "4             addres_zip_823M   \n",
       "..                        ...   \n",
       "460  totinstallast1m_4525188A   \n",
       "461        twobodfilling_608L   \n",
       "462                  type_25L   \n",
       "463            typesuite_864L   \n",
       "464           validfrom_1069D   \n",
       "\n",
       "                                           Description    dtype  \\\n",
       "0    Days Past Due (DPD) of previous contract (actu...  Float64   \n",
       "1                        DPD of client with tolerance.  Float64   \n",
       "2                    District of the person's address.   String   \n",
       "3                            Role of person's address.   String   \n",
       "4                             Zip code of the address.   String   \n",
       "..                                                 ...      ...   \n",
       "460  Total amount of monthly instalments paid in th...  Float64   \n",
       "461                       Type of application process.   String   \n",
       "462                          Contact type of a person.   String   \n",
       "463  Persons accompanying the client during the loa...   String   \n",
       "464      Date since the client has an active campaign.     Date   \n",
       "\n",
       "                                       tables  \n",
       "0    [train_applprev_1_0, train_applprev_1_1]  \n",
       "1        [train_static_0_0, train_static_0_1]  \n",
       "2                            [train_person_2]  \n",
       "3                            [train_person_2]  \n",
       "4                            [train_person_2]  \n",
       "..                                        ...  \n",
       "460      [train_static_0_0, train_static_0_1]  \n",
       "461      [train_static_0_0, train_static_0_1]  \n",
       "462                          [train_person_1]  \n",
       "463      [train_static_0_0, train_static_0_1]  \n",
       "464      [train_static_0_0, train_static_0_1]  \n",
       "\n",
       "[465 rows x 4 columns]"
      ]
     },
     "metadata": {},
     "output_type": "display_data"
    },
    {
     "data": {
      "text/html": [
       "<div>\n",
       "<style scoped>\n",
       "    .dataframe tbody tr th:only-of-type {\n",
       "        vertical-align: middle;\n",
       "    }\n",
       "\n",
       "    .dataframe tbody tr th {\n",
       "        vertical-align: top;\n",
       "    }\n",
       "\n",
       "    .dataframe thead th {\n",
       "        text-align: right;\n",
       "    }\n",
       "</style>\n",
       "<table border=\"1\" class=\"dataframe\">\n",
       "  <thead>\n",
       "    <tr style=\"text-align: right;\">\n",
       "      <th></th>\n",
       "      <th>Variable</th>\n",
       "      <th>Description</th>\n",
       "      <th>dtype</th>\n",
       "      <th>tables</th>\n",
       "      <th>cast_dtype</th>\n",
       "    </tr>\n",
       "  </thead>\n",
       "  <tbody>\n",
       "    <tr>\n",
       "      <th>78</th>\n",
       "      <td>contaddr_matchlist_1032L</td>\n",
       "      <td>Indicates whether the contact address is found...</td>\n",
       "      <td>Boolean</td>\n",
       "      <td>[train_person_1]</td>\n",
       "      <td>Boolean</td>\n",
       "    </tr>\n",
       "    <tr>\n",
       "      <th>79</th>\n",
       "      <td>contaddr_smempladdr_334L</td>\n",
       "      <td>Indicates whether the contact address is the s...</td>\n",
       "      <td>Boolean</td>\n",
       "      <td>[train_person_1]</td>\n",
       "      <td>Boolean</td>\n",
       "    </tr>\n",
       "    <tr>\n",
       "      <th>174</th>\n",
       "      <td>equalitydataagreement_891L</td>\n",
       "      <td>Flag indicating sudden changes in client's soc...</td>\n",
       "      <td>Boolean</td>\n",
       "      <td>[train_static_0_0, train_static_0_1]</td>\n",
       "      <td>Boolean</td>\n",
       "    </tr>\n",
       "    <tr>\n",
       "      <th>175</th>\n",
       "      <td>equalityempfrom_62L</td>\n",
       "      <td>Flag indicating a sudden change in the client'...</td>\n",
       "      <td>Boolean</td>\n",
       "      <td>[train_static_0_0, train_static_0_1]</td>\n",
       "      <td>Boolean</td>\n",
       "    </tr>\n",
       "    <tr>\n",
       "      <th>219</th>\n",
       "      <td>isbidproduct_1095L</td>\n",
       "      <td>Flag indicating if the product is a cross-sell.</td>\n",
       "      <td>Boolean</td>\n",
       "      <td>[train_static_0_0, train_static_0_1]</td>\n",
       "      <td>Boolean</td>\n",
       "    </tr>\n",
       "    <tr>\n",
       "      <th>...</th>\n",
       "      <td>...</td>\n",
       "      <td>...</td>\n",
       "      <td>...</td>\n",
       "      <td>...</td>\n",
       "      <td>...</td>\n",
       "    </tr>\n",
       "    <tr>\n",
       "      <th>444</th>\n",
       "      <td>subjectroles_name_541M</td>\n",
       "      <td>Name of subject role in closed credit contract...</td>\n",
       "      <td>String</td>\n",
       "      <td>[train_credit_bureau_a_2_0, train_credit_burea...</td>\n",
       "      <td>String</td>\n",
       "    </tr>\n",
       "    <tr>\n",
       "      <th>445</th>\n",
       "      <td>subjectroles_name_838M</td>\n",
       "      <td>Name of subject role in active credit contract...</td>\n",
       "      <td>String</td>\n",
       "      <td>[train_credit_bureau_a_2_0, train_credit_burea...</td>\n",
       "      <td>String</td>\n",
       "    </tr>\n",
       "    <tr>\n",
       "      <th>461</th>\n",
       "      <td>twobodfilling_608L</td>\n",
       "      <td>Type of application process.</td>\n",
       "      <td>String</td>\n",
       "      <td>[train_static_0_0, train_static_0_1]</td>\n",
       "      <td>String</td>\n",
       "    </tr>\n",
       "    <tr>\n",
       "      <th>462</th>\n",
       "      <td>type_25L</td>\n",
       "      <td>Contact type of a person.</td>\n",
       "      <td>String</td>\n",
       "      <td>[train_person_1]</td>\n",
       "      <td>String</td>\n",
       "    </tr>\n",
       "    <tr>\n",
       "      <th>463</th>\n",
       "      <td>typesuite_864L</td>\n",
       "      <td>Persons accompanying the client during the loa...</td>\n",
       "      <td>String</td>\n",
       "      <td>[train_static_0_0, train_static_0_1]</td>\n",
       "      <td>String</td>\n",
       "    </tr>\n",
       "  </tbody>\n",
       "</table>\n",
       "<p>407 rows × 5 columns</p>\n",
       "</div>"
      ],
      "text/plain": [
       "                       Variable  \\\n",
       "78     contaddr_matchlist_1032L   \n",
       "79     contaddr_smempladdr_334L   \n",
       "174  equalitydataagreement_891L   \n",
       "175         equalityempfrom_62L   \n",
       "219          isbidproduct_1095L   \n",
       "..                          ...   \n",
       "444      subjectroles_name_541M   \n",
       "445      subjectroles_name_838M   \n",
       "461          twobodfilling_608L   \n",
       "462                    type_25L   \n",
       "463              typesuite_864L   \n",
       "\n",
       "                                           Description    dtype  \\\n",
       "78   Indicates whether the contact address is found...  Boolean   \n",
       "79   Indicates whether the contact address is the s...  Boolean   \n",
       "174  Flag indicating sudden changes in client's soc...  Boolean   \n",
       "175  Flag indicating a sudden change in the client'...  Boolean   \n",
       "219    Flag indicating if the product is a cross-sell.  Boolean   \n",
       "..                                                 ...      ...   \n",
       "444  Name of subject role in closed credit contract...   String   \n",
       "445  Name of subject role in active credit contract...   String   \n",
       "461                       Type of application process.   String   \n",
       "462                          Contact type of a person.   String   \n",
       "463  Persons accompanying the client during the loa...   String   \n",
       "\n",
       "                                                tables cast_dtype  \n",
       "78                                    [train_person_1]    Boolean  \n",
       "79                                    [train_person_1]    Boolean  \n",
       "174               [train_static_0_0, train_static_0_1]    Boolean  \n",
       "175               [train_static_0_0, train_static_0_1]    Boolean  \n",
       "219               [train_static_0_0, train_static_0_1]    Boolean  \n",
       "..                                                 ...        ...  \n",
       "444  [train_credit_bureau_a_2_0, train_credit_burea...     String  \n",
       "445  [train_credit_bureau_a_2_0, train_credit_burea...     String  \n",
       "461               [train_static_0_0, train_static_0_1]     String  \n",
       "462                                   [train_person_1]     String  \n",
       "463               [train_static_0_0, train_static_0_1]     String  \n",
       "\n",
       "[407 rows x 5 columns]"
      ]
     },
     "metadata": {},
     "output_type": "display_data"
    }
   ],
   "source": [
    "df_features = pd.read_parquet(FEATURE_DTYPE_DIR)\n",
    "display(df_features)\n",
    "\n",
    "bool_features = df_features.query('dtype == \"Boolean\"')\n",
    "float64_features = df_features.query('dtype == \"Float64\"')\n",
    "string_features = df_features.query('dtype == \"String\"')\n",
    "date_features = df_features.query('dtype == \"Date\"')\n",
    "\n",
    "with warnings.catch_warnings():\n",
    "    warnings.simplefilter('ignore')\n",
    "    bool_features['cast_dtype'] = pl.Boolean\n",
    "    float64_features['cast_dtype'] = pl.Float32\n",
    "    string_features['cast_dtype'] = pl.String\n",
    "\n",
    "cast_features = pd.concat([bool_features, float64_features, string_features])\n",
    "display(cast_features)"
   ]
  },
  {
   "cell_type": "code",
   "execution_count": 23,
   "metadata": {},
   "outputs": [],
   "source": [
    "def get_depth_paths(load_dir: Path, prefix: Literal['test', 'train']):\n",
    "    \n",
    "    assert prefix in ['test', 'train']\n",
    "    \n",
    "    depth_paths = OrderedDict()\n",
    "\n",
    "    depth_paths['static_0'] = []\n",
    "    depth_paths['static_cb_0'] = []\n",
    "    depth_paths['applprev_1'] = []\n",
    "    depth_paths['other_1'] = []\n",
    "    depth_paths['tax_registry_a_1'] = []\n",
    "    depth_paths['tax_registry_b_1'] = []\n",
    "    depth_paths['tax_registry_c_1'] = []\n",
    "    depth_paths['credit_bureau_a_1'] = []\n",
    "    depth_paths['credit_bureau_b_1'] = []\n",
    "    depth_paths['deposit_1'] = []\n",
    "    depth_paths['person_1'] = []\n",
    "    depth_paths['debitcard_1'] = []\n",
    "    depth_paths['applprev_2'] = []\n",
    "    depth_paths['person_2'] = []\n",
    "    depth_paths['credit_bureau_a_2'] = []\n",
    "    depth_paths['credit_bureau_b_2'] = []\n",
    "\n",
    "    for k in depth_paths.keys():\n",
    "        depth_paths[k] = sorted(\n",
    "            [p for p in load_dir.joinpath(f'parquet_files/{prefix}').glob(f'{prefix}_{k}*.parquet')]\n",
    "        )\n",
    "    return depth_paths"
   ]
  },
  {
   "cell_type": "code",
   "execution_count": 24,
   "metadata": {},
   "outputs": [
    {
     "name": "stdout",
     "output_type": "stream",
     "text": [
      "the number of train paths: 31\n"
     ]
    }
   ],
   "source": [
    "depth_paths = get_depth_paths(COMPETITION_DIR, MODE)\n",
    "\n",
    "print(f'the number of {MODE} paths: {sum(len(v1) for v1 in depth_paths.values())}')"
   ]
  },
  {
   "cell_type": "code",
   "execution_count": 29,
   "metadata": {},
   "outputs": [],
   "source": [
    "def process_D_features(data: pl.DataFrame, D_columns: List[str]):\n",
    "    for col in D_columns:\n",
    "        # 1. convert to datetime from string\n",
    "        # 2. add y, m, d, wd columns\n",
    "        # 3. delete original column\n",
    "        data = data.with_columns([\n",
    "            pl.col(col).str_to_datetime(format='%Y-%m-%d', errors='coerce').alias(col)\n",
    "        ])\n",
    "        data = data.with_columns([\n",
    "            pl.col(col).year().alias(f'y_{col}'),\n",
    "            pl.col(col).month().alias(f'm_{col}'),\n",
    "            pl.col(col).day().alias(f'd_{col}'),\n",
    "            pl.col(col).weekday().alias(f'wd_{col}')\n",
    "        ])\n",
    "        data.drop_in_place(col)\n",
    "    return data"
   ]
  },
  {
   "cell_type": "code",
   "execution_count": 30,
   "metadata": {},
   "outputs": [],
   "source": [
    "def merge_dataset(\n",
    "        base_data: pl.DataFrame,\n",
    "        depth_paths: Dict[str, List[Path]],\n",
    "        bool_features: pd.DataFrame,\n",
    "        float64_features: pd.DataFrame,\n",
    "        string_features: pd.DataFrame,\n",
    "        depth: Literal['0', '1', '2', '012'],\n",
    "    ) -> pd.DataFrame:\n",
    "    \n",
    "    assert depth in ['0', '1', '2', '012']\n",
    "    \n",
    "    for i, (k, path_list) in enumerate(depth_paths.items()):\n",
    "        \n",
    "        if depth == '012':\n",
    "            pass\n",
    "        elif depth != k[-1]:\n",
    "            continue\n",
    "            \n",
    "        print(f'loading `{k}`')\n",
    "        depth_data = []\n",
    "        for p in path_list:\n",
    "            sub_data = pl.read_parquet(p).cast({'case_id': pl.Int64})\n",
    "            if k[-1] == '1':\n",
    "                sub_data = sub_data.drop('num_group1').group_by('case_id').max().sort('case_id')\n",
    "            elif k[-1] == '2':\n",
    "                sub_data = sub_data.drop(['num_group1', 'num_group2']).group_by('case_id').max().sort('case_id')\n",
    "                \n",
    "            depth_data.append(sub_data)\n",
    "            \n",
    "            print(f'\\t{p.stem}: {sub_data.shape}')\n",
    "            \n",
    "            del sub_data\n",
    "            gc.collect()\n",
    "        \n",
    "        depth_data = pl.concat(depth_data, how='vertical_relaxed')\n",
    "        base_data = base_data.join(depth_data, how='left', on='case_id', suffix=f'_{i}')\n",
    "        \n",
    "        del depth_data\n",
    "        gc.collect()\n",
    "    \n",
    "    '''\n",
    "    cast dtypes\n",
    "    '''\n",
    "    for _, row in bool_features[['Variable', 'cast_dtype']].iterrows():\n",
    "        col = row['Variable']\n",
    "        cast_dtype = row['cast_dtype']\n",
    "        if col in base_data.columns:\n",
    "            base_data = base_data.with_columns(pl.col(col).fill_null(np.nan).cast(cast_dtype))\n",
    "        \n",
    "    for _, row in float64_features[['Variable', 'cast_dtype']].iterrows():\n",
    "        col = row['Variable']\n",
    "        cast_dtype = row['cast_dtype']\n",
    "        if col in base_data.columns:\n",
    "            base_data = base_data.with_columns(pl.col(col).cast(cast_dtype))\n",
    "            \n",
    "    for _, row in string_features[['Variable', 'cast_dtype']].iterrows():\n",
    "        col = row['Variable']\n",
    "        cast_dtype = row['cast_dtype']\n",
    "        if col in base_data.columns:\n",
    "            base_data = base_data.with_columns(pl.col(col).cast(cast_dtype))\n",
    "    \n",
    "    '''\n",
    "    process D features\n",
    "    '''\n",
    "    D_features = [col for col in base_data.columns if col[-1] == 'D']\n",
    "    base_data = process_D_features(base_data, D_features)\n",
    "    base_data = base_data.to_pandas()\n",
    "    return base_data\n",
    "\n",
    "\n",
    "def encode(depth_data:pd.DataFrame, mode:Literal['train', 'test'], save_dir:Path) -> pd.DataFrame:\n",
    "\n",
    "    assert mode in ['train', 'test']\n",
    "\n",
    "    object_columns = depth_data.dtypes.index[depth_data.dtypes==object].to_list()\n",
    "    if 'date_decision' in object_columns:\n",
    "        object_columns.remove('date_decision')\n",
    "\n",
    "    if mode == 'train':\n",
    "        object_data = []\n",
    "        print(f'num of object columns: {len(object_columns)}')\n",
    "        for col in object_columns:\n",
    "            encoder = OrdinalEncoder(handle_unknown='use_encoded_value', unknown_value=-1)\n",
    "            encoder.fit(depth_data[col].values.reshape(-1, 1))\n",
    "            # save encoder as joblib\n",
    "            save_path = save_dir.joinpath(f'encoder_{col}.joblib')\n",
    "            joblib.dump(encoder, save_path)\n",
    "            object_data.append(encoder.transform(depth_data[col].values.reshape(-1, 1)).astype(np.float32))\n",
    "        depth_data.drop(columns=object_columns, inplace=True)\n",
    "        print(f'num of object columns: {len(object_data)}')\n",
    "        object_data = np.concatenate(object_data, axis=1)\n",
    "        object_data = pd.DataFrame(object_data, columns=object_columns)\n",
    "    else:\n",
    "        object_data = []\n",
    "        for col in object_columns:\n",
    "            # load encoder\n",
    "            load_path = save_dir.joinpath(f'encoder_{col}.joblib')\n",
    "            encoder = joblib.load(load_path)\n",
    "            object_data.append(encoder.transform(depth_data[col].values.reshape(-1, 1)).astype(np.float32))\n",
    "        depth_data.drop(columns=object_columns, inplace=True)\n",
    "        object_data = np.concatenate(object_data, axis=1)\n",
    "        object_data = pd.DataFrame(object_data, columns=object_columns)\n",
    "\n",
    "    return pd.concat([depth_data, object_data], axis=1)\n"
   ]
  },
  {
   "cell_type": "code",
   "execution_count": 27,
   "metadata": {},
   "outputs": [
    {
     "name": "stdout",
     "output_type": "stream",
     "text": [
      "train\n"
     ]
    },
    {
     "data": {
      "text/html": [
       "<div><style>\n",
       ".dataframe > thead > tr,\n",
       ".dataframe > tbody > tr {\n",
       "  text-align: right;\n",
       "  white-space: pre-wrap;\n",
       "}\n",
       "</style>\n",
       "<small>shape: (1_526_659, 5)</small><table border=\"1\" class=\"dataframe\"><thead><tr><th>case_id</th><th>date_decision</th><th>MONTH</th><th>WEEK_NUM</th><th>target</th></tr><tr><td>i64</td><td>str</td><td>i64</td><td>i64</td><td>i64</td></tr></thead><tbody><tr><td>0</td><td>&quot;2019-01-03&quot;</td><td>201901</td><td>0</td><td>0</td></tr><tr><td>1</td><td>&quot;2019-01-03&quot;</td><td>201901</td><td>0</td><td>0</td></tr><tr><td>2</td><td>&quot;2019-01-04&quot;</td><td>201901</td><td>0</td><td>0</td></tr><tr><td>3</td><td>&quot;2019-01-03&quot;</td><td>201901</td><td>0</td><td>0</td></tr><tr><td>4</td><td>&quot;2019-01-04&quot;</td><td>201901</td><td>0</td><td>1</td></tr><tr><td>&hellip;</td><td>&hellip;</td><td>&hellip;</td><td>&hellip;</td><td>&hellip;</td></tr><tr><td>2703450</td><td>&quot;2020-10-05&quot;</td><td>202010</td><td>91</td><td>0</td></tr><tr><td>2703451</td><td>&quot;2020-10-05&quot;</td><td>202010</td><td>91</td><td>0</td></tr><tr><td>2703452</td><td>&quot;2020-10-05&quot;</td><td>202010</td><td>91</td><td>0</td></tr><tr><td>2703453</td><td>&quot;2020-10-05&quot;</td><td>202010</td><td>91</td><td>0</td></tr><tr><td>2703454</td><td>&quot;2020-10-05&quot;</td><td>202010</td><td>91</td><td>0</td></tr></tbody></table></div>"
      ],
      "text/plain": [
       "shape: (1_526_659, 5)\n",
       "┌─────────┬───────────────┬────────┬──────────┬────────┐\n",
       "│ case_id ┆ date_decision ┆ MONTH  ┆ WEEK_NUM ┆ target │\n",
       "│ ---     ┆ ---           ┆ ---    ┆ ---      ┆ ---    │\n",
       "│ i64     ┆ str           ┆ i64    ┆ i64      ┆ i64    │\n",
       "╞═════════╪═══════════════╪════════╪══════════╪════════╡\n",
       "│ 0       ┆ 2019-01-03    ┆ 201901 ┆ 0        ┆ 0      │\n",
       "│ 1       ┆ 2019-01-03    ┆ 201901 ┆ 0        ┆ 0      │\n",
       "│ 2       ┆ 2019-01-04    ┆ 201901 ┆ 0        ┆ 0      │\n",
       "│ 3       ┆ 2019-01-03    ┆ 201901 ┆ 0        ┆ 0      │\n",
       "│ 4       ┆ 2019-01-04    ┆ 201901 ┆ 0        ┆ 1      │\n",
       "│ …       ┆ …             ┆ …      ┆ …        ┆ …      │\n",
       "│ 2703450 ┆ 2020-10-05    ┆ 202010 ┆ 91       ┆ 0      │\n",
       "│ 2703451 ┆ 2020-10-05    ┆ 202010 ┆ 91       ┆ 0      │\n",
       "│ 2703452 ┆ 2020-10-05    ┆ 202010 ┆ 91       ┆ 0      │\n",
       "│ 2703453 ┆ 2020-10-05    ┆ 202010 ┆ 91       ┆ 0      │\n",
       "│ 2703454 ┆ 2020-10-05    ┆ 202010 ┆ 91       ┆ 0      │\n",
       "└─────────┴───────────────┴────────┴──────────┴────────┘"
      ]
     },
     "metadata": {},
     "output_type": "display_data"
    }
   ],
   "source": [
    "base_data = pl.read_parquet(\n",
    "    COMPETITION_DIR.joinpath(f'parquet_files/{MODE}/{MODE}_base.parquet')\n",
    ").cast(\n",
    "    {\n",
    "        'case_id': pl.Int64,\n",
    "        'date_decision': pl.String,\n",
    "        'MONTH': pl.Int64,\n",
    "        'WEEK_NUM': pl.Int64,\n",
    "    }\n",
    ")\n",
    "\n",
    "print(MODE)\n",
    "display(base_data)"
   ]
  },
  {
   "cell_type": "code",
   "execution_count": 28,
   "metadata": {},
   "outputs": [
    {
     "name": "stdout",
     "output_type": "stream",
     "text": [
      "loading `static_0`\n",
      "\ttrain_static_0_0: (1003757, 168)\n",
      "\ttrain_static_0_1: (522902, 168)\n",
      "loading `static_cb_0`\n",
      "\ttrain_static_cb_0: (1500476, 53)\n",
      "loading `applprev_1`\n",
      "\ttrain_applprev_1_0: (782997, 40)\n",
      "\ttrain_applprev_1_1: (438525, 40)\n",
      "loading `other_1`\n",
      "\ttrain_other_1: (51109, 6)\n",
      "loading `tax_registry_a_1`\n",
      "\ttrain_tax_registry_a_1: (457934, 4)\n",
      "loading `tax_registry_b_1`\n",
      "\ttrain_tax_registry_b_1: (150732, 4)\n",
      "loading `tax_registry_c_1`\n",
      "\ttrain_tax_registry_c_1: (482265, 4)\n",
      "loading `credit_bureau_a_1`\n",
      "\ttrain_credit_bureau_a_1_0: (335275, 78)\n",
      "\ttrain_credit_bureau_a_1_1: (549263, 78)\n",
      "\ttrain_credit_bureau_a_1_2: (325127, 78)\n",
      "\ttrain_credit_bureau_a_1_3: (176608, 78)\n",
      "loading `credit_bureau_b_1`\n",
      "\ttrain_credit_bureau_b_1: (36500, 44)\n",
      "loading `deposit_1`\n",
      "\ttrain_deposit_1: (105111, 4)\n",
      "loading `person_1`\n",
      "\ttrain_person_1: (1526659, 36)\n",
      "loading `debitcard_1`\n",
      "\ttrain_debitcard_1: (111772, 5)\n",
      "loading `applprev_2`\n",
      "\ttrain_applprev_2: (1221522, 4)\n",
      "loading `person_2`\n",
      "\ttrain_person_2: (1435105, 9)\n",
      "loading `credit_bureau_a_2`\n",
      "\ttrain_credit_bureau_a_2_0: (98303, 17)\n",
      "\ttrain_credit_bureau_a_2_1: (118481, 17)\n",
      "\ttrain_credit_bureau_a_2_10: (23734, 17)\n",
      "\ttrain_credit_bureau_a_2_2: (156749, 17)\n",
      "\ttrain_credit_bureau_a_2_3: (190486, 17)\n",
      "\ttrain_credit_bureau_a_2_4: (190313, 17)\n",
      "\ttrain_credit_bureau_a_2_5: (231250, 17)\n",
      "\ttrain_credit_bureau_a_2_6: (150426, 17)\n",
      "\ttrain_credit_bureau_a_2_7: (45056, 17)\n",
      "\ttrain_credit_bureau_a_2_8: (77457, 17)\n",
      "\ttrain_credit_bureau_a_2_9: (103033, 17)\n",
      "loading `credit_bureau_b_2`\n",
      "\ttrain_credit_bureau_b_2: (36447, 4)\n"
     ]
    },
    {
     "ename": "AttributeError",
     "evalue": "'DataFrame' object has no attribute 'with_column'",
     "output_type": "error",
     "traceback": [
      "\u001b[0;31m---------------------------------------------------------------------------\u001b[0m",
      "\u001b[0;31mAttributeError\u001b[0m                            Traceback (most recent call last)",
      "Cell \u001b[0;32mIn[28], line 1\u001b[0m\n\u001b[0;32m----> 1\u001b[0m depth_data \u001b[38;5;241m=\u001b[39m \u001b[43mmerge_dataset\u001b[49m\u001b[43m(\u001b[49m\n\u001b[1;32m      2\u001b[0m \u001b[43m    \u001b[49m\u001b[43mbase_data\u001b[49m\u001b[43m,\u001b[49m\n\u001b[1;32m      3\u001b[0m \u001b[43m    \u001b[49m\u001b[43mdepth_paths\u001b[49m\u001b[43m,\u001b[49m\n\u001b[1;32m      4\u001b[0m \u001b[43m    \u001b[49m\u001b[43mbool_features\u001b[49m\u001b[43m,\u001b[49m\n\u001b[1;32m      5\u001b[0m \u001b[43m    \u001b[49m\u001b[43mfloat64_features\u001b[49m\u001b[43m,\u001b[49m\n\u001b[1;32m      6\u001b[0m \u001b[43m    \u001b[49m\u001b[43mstring_features\u001b[49m\u001b[43m,\u001b[49m\n\u001b[1;32m      7\u001b[0m \u001b[43m    \u001b[49m\u001b[38;5;124;43m'\u001b[39;49m\u001b[38;5;124;43m012\u001b[39;49m\u001b[38;5;124;43m'\u001b[39;49m\n\u001b[1;32m      8\u001b[0m \u001b[43m)\u001b[49m\n\u001b[1;32m      9\u001b[0m display(depth_data)\n",
      "Cell \u001b[0;32mIn[26], line 66\u001b[0m, in \u001b[0;36mmerge_dataset\u001b[0;34m(base_data, depth_paths, bool_features, float64_features, string_features, depth)\u001b[0m\n\u001b[1;32m     62\u001b[0m \u001b[38;5;250m\u001b[39m\u001b[38;5;124;03m'''\u001b[39;00m\n\u001b[1;32m     63\u001b[0m \u001b[38;5;124;03mprocess D features\u001b[39;00m\n\u001b[1;32m     64\u001b[0m \u001b[38;5;124;03m'''\u001b[39;00m\n\u001b[1;32m     65\u001b[0m D_features \u001b[38;5;241m=\u001b[39m [col \u001b[38;5;28;01mfor\u001b[39;00m col \u001b[38;5;129;01min\u001b[39;00m base_data\u001b[38;5;241m.\u001b[39mcolumns \u001b[38;5;28;01mif\u001b[39;00m col[\u001b[38;5;241m-\u001b[39m\u001b[38;5;241m1\u001b[39m] \u001b[38;5;241m==\u001b[39m \u001b[38;5;124m'\u001b[39m\u001b[38;5;124mD\u001b[39m\u001b[38;5;124m'\u001b[39m]\n\u001b[0;32m---> 66\u001b[0m base_data \u001b[38;5;241m=\u001b[39m \u001b[43mprocess_D_features\u001b[49m\u001b[43m(\u001b[49m\u001b[43mbase_data\u001b[49m\u001b[43m,\u001b[49m\u001b[43m \u001b[49m\u001b[43mD_features\u001b[49m\u001b[43m)\u001b[49m\n\u001b[1;32m     67\u001b[0m base_data \u001b[38;5;241m=\u001b[39m base_data\u001b[38;5;241m.\u001b[39mto_pandas()\n\u001b[1;32m     68\u001b[0m \u001b[38;5;28;01mreturn\u001b[39;00m base_data\n",
      "Cell \u001b[0;32mIn[25], line 6\u001b[0m, in \u001b[0;36mprocess_D_features\u001b[0;34m(data, D_columns)\u001b[0m\n\u001b[1;32m      1\u001b[0m \u001b[38;5;28;01mdef\u001b[39;00m \u001b[38;5;21mprocess_D_features\u001b[39m(data: pl\u001b[38;5;241m.\u001b[39mDataFrame, D_columns: List[\u001b[38;5;28mstr\u001b[39m]):\n\u001b[1;32m      2\u001b[0m     \u001b[38;5;28;01mfor\u001b[39;00m col \u001b[38;5;129;01min\u001b[39;00m D_columns:\n\u001b[1;32m      3\u001b[0m         \u001b[38;5;66;03m# 1. convert to datetime from string\u001b[39;00m\n\u001b[1;32m      4\u001b[0m         \u001b[38;5;66;03m# 2. add y, m, d, wd columns\u001b[39;00m\n\u001b[1;32m      5\u001b[0m         \u001b[38;5;66;03m# 3. delete original column\u001b[39;00m\n\u001b[0;32m----> 6\u001b[0m         data \u001b[38;5;241m=\u001b[39m \u001b[43mdata\u001b[49m\u001b[38;5;241;43m.\u001b[39;49m\u001b[43mwith_column\u001b[49m(\n\u001b[1;32m      7\u001b[0m             pl\u001b[38;5;241m.\u001b[39mcol(col)\u001b[38;5;241m.\u001b[39mstr_to_datetime(\u001b[38;5;28mformat\u001b[39m\u001b[38;5;241m=\u001b[39m\u001b[38;5;124m'\u001b[39m\u001b[38;5;124m%\u001b[39m\u001b[38;5;124mY-\u001b[39m\u001b[38;5;124m%\u001b[39m\u001b[38;5;124mm-\u001b[39m\u001b[38;5;132;01m%d\u001b[39;00m\u001b[38;5;124m'\u001b[39m, errors\u001b[38;5;241m=\u001b[39m\u001b[38;5;124m'\u001b[39m\u001b[38;5;124mcoerce\u001b[39m\u001b[38;5;124m'\u001b[39m)\u001b[38;5;241m.\u001b[39malias(col)\n\u001b[1;32m      8\u001b[0m         )\n\u001b[1;32m      9\u001b[0m         data \u001b[38;5;241m=\u001b[39m data\u001b[38;5;241m.\u001b[39mwith_columns([\n\u001b[1;32m     10\u001b[0m             pl\u001b[38;5;241m.\u001b[39mcol(col)\u001b[38;5;241m.\u001b[39myear()\u001b[38;5;241m.\u001b[39malias(\u001b[38;5;124mf\u001b[39m\u001b[38;5;124m'\u001b[39m\u001b[38;5;124my_\u001b[39m\u001b[38;5;132;01m{\u001b[39;00mcol\u001b[38;5;132;01m}\u001b[39;00m\u001b[38;5;124m'\u001b[39m),\n\u001b[1;32m     11\u001b[0m             pl\u001b[38;5;241m.\u001b[39mcol(col)\u001b[38;5;241m.\u001b[39mmonth()\u001b[38;5;241m.\u001b[39malias(\u001b[38;5;124mf\u001b[39m\u001b[38;5;124m'\u001b[39m\u001b[38;5;124mm_\u001b[39m\u001b[38;5;132;01m{\u001b[39;00mcol\u001b[38;5;132;01m}\u001b[39;00m\u001b[38;5;124m'\u001b[39m),\n\u001b[1;32m     12\u001b[0m             pl\u001b[38;5;241m.\u001b[39mcol(col)\u001b[38;5;241m.\u001b[39mday()\u001b[38;5;241m.\u001b[39malias(\u001b[38;5;124mf\u001b[39m\u001b[38;5;124m'\u001b[39m\u001b[38;5;124md_\u001b[39m\u001b[38;5;132;01m{\u001b[39;00mcol\u001b[38;5;132;01m}\u001b[39;00m\u001b[38;5;124m'\u001b[39m),\n\u001b[1;32m     13\u001b[0m             pl\u001b[38;5;241m.\u001b[39mcol(col)\u001b[38;5;241m.\u001b[39mweekday()\u001b[38;5;241m.\u001b[39malias(\u001b[38;5;124mf\u001b[39m\u001b[38;5;124m'\u001b[39m\u001b[38;5;124mwd_\u001b[39m\u001b[38;5;132;01m{\u001b[39;00mcol\u001b[38;5;132;01m}\u001b[39;00m\u001b[38;5;124m'\u001b[39m)\n\u001b[1;32m     14\u001b[0m         ])\n\u001b[1;32m     15\u001b[0m         data\u001b[38;5;241m.\u001b[39mdrop_in_place(col)\n",
      "\u001b[0;31mAttributeError\u001b[0m: 'DataFrame' object has no attribute 'with_column'"
     ]
    }
   ],
   "source": [
    "depth_data = merge_dataset(\n",
    "    base_data,\n",
    "    depth_paths,\n",
    "    bool_features,\n",
    "    float64_features,\n",
    "    string_features,\n",
    "    '012'\n",
    ")\n",
    "display(depth_data)"
   ]
  },
  {
   "cell_type": "code",
   "execution_count": 11,
   "metadata": {},
   "outputs": [
    {
     "name": "stdout",
     "output_type": "stream",
     "text": [
      "num of object columns: 99\n",
      "num of object columns: 99\n"
     ]
    },
    {
     "data": {
      "text/html": [
       "<div>\n",
       "<style scoped>\n",
       "    .dataframe tbody tr th:only-of-type {\n",
       "        vertical-align: middle;\n",
       "    }\n",
       "\n",
       "    .dataframe tbody tr th {\n",
       "        vertical-align: top;\n",
       "    }\n",
       "\n",
       "    .dataframe thead th {\n",
       "        text-align: right;\n",
       "    }\n",
       "</style>\n",
       "<table border=\"1\" class=\"dataframe\">\n",
       "  <thead>\n",
       "    <tr style=\"text-align: right;\">\n",
       "      <th></th>\n",
       "      <th>case_id</th>\n",
       "      <th>date_decision</th>\n",
       "      <th>MONTH</th>\n",
       "      <th>WEEK_NUM</th>\n",
       "      <th>target</th>\n",
       "      <th>actualdpdtolerance_344P</th>\n",
       "      <th>amtinstpaidbefduel24m_4187115A</th>\n",
       "      <th>annuity_780A</th>\n",
       "      <th>annuitynextmonth_57A</th>\n",
       "      <th>applicationcnt_361L</th>\n",
       "      <th>...</th>\n",
       "      <th>conts_role_79M</th>\n",
       "      <th>empls_economicalst_849M</th>\n",
       "      <th>empls_employer_name_740M</th>\n",
       "      <th>relatedpersons_role_762T</th>\n",
       "      <th>collater_typofvalofguarant_298M</th>\n",
       "      <th>collater_typofvalofguarant_407M</th>\n",
       "      <th>collaterals_typeofguarante_359M</th>\n",
       "      <th>collaterals_typeofguarante_669M</th>\n",
       "      <th>subjectroles_name_541M</th>\n",
       "      <th>subjectroles_name_838M</th>\n",
       "    </tr>\n",
       "  </thead>\n",
       "  <tbody>\n",
       "    <tr>\n",
       "      <th>0</th>\n",
       "      <td>0</td>\n",
       "      <td>2019-01-03</td>\n",
       "      <td>201901</td>\n",
       "      <td>0</td>\n",
       "      <td>0</td>\n",
       "      <td>NaN</td>\n",
       "      <td>NaN</td>\n",
       "      <td>1917.599976</td>\n",
       "      <td>0.000000</td>\n",
       "      <td>0.0</td>\n",
       "      <td>...</td>\n",
       "      <td>5.0</td>\n",
       "      <td>6.0</td>\n",
       "      <td>1.0</td>\n",
       "      <td>10.0</td>\n",
       "      <td>2.0</td>\n",
       "      <td>5.0</td>\n",
       "      <td>5.0</td>\n",
       "      <td>5.0</td>\n",
       "      <td>4.0</td>\n",
       "      <td>4.0</td>\n",
       "    </tr>\n",
       "    <tr>\n",
       "      <th>1</th>\n",
       "      <td>1</td>\n",
       "      <td>2019-01-03</td>\n",
       "      <td>201901</td>\n",
       "      <td>0</td>\n",
       "      <td>0</td>\n",
       "      <td>NaN</td>\n",
       "      <td>NaN</td>\n",
       "      <td>3134.000000</td>\n",
       "      <td>0.000000</td>\n",
       "      <td>0.0</td>\n",
       "      <td>...</td>\n",
       "      <td>5.0</td>\n",
       "      <td>6.0</td>\n",
       "      <td>1.0</td>\n",
       "      <td>10.0</td>\n",
       "      <td>2.0</td>\n",
       "      <td>5.0</td>\n",
       "      <td>5.0</td>\n",
       "      <td>5.0</td>\n",
       "      <td>4.0</td>\n",
       "      <td>4.0</td>\n",
       "    </tr>\n",
       "    <tr>\n",
       "      <th>2</th>\n",
       "      <td>2</td>\n",
       "      <td>2019-01-04</td>\n",
       "      <td>201901</td>\n",
       "      <td>0</td>\n",
       "      <td>0</td>\n",
       "      <td>NaN</td>\n",
       "      <td>NaN</td>\n",
       "      <td>4937.000000</td>\n",
       "      <td>0.000000</td>\n",
       "      <td>0.0</td>\n",
       "      <td>...</td>\n",
       "      <td>5.0</td>\n",
       "      <td>6.0</td>\n",
       "      <td>1.0</td>\n",
       "      <td>10.0</td>\n",
       "      <td>2.0</td>\n",
       "      <td>5.0</td>\n",
       "      <td>5.0</td>\n",
       "      <td>5.0</td>\n",
       "      <td>4.0</td>\n",
       "      <td>4.0</td>\n",
       "    </tr>\n",
       "    <tr>\n",
       "      <th>3</th>\n",
       "      <td>3</td>\n",
       "      <td>2019-01-03</td>\n",
       "      <td>201901</td>\n",
       "      <td>0</td>\n",
       "      <td>0</td>\n",
       "      <td>NaN</td>\n",
       "      <td>NaN</td>\n",
       "      <td>4643.600098</td>\n",
       "      <td>0.000000</td>\n",
       "      <td>0.0</td>\n",
       "      <td>...</td>\n",
       "      <td>5.0</td>\n",
       "      <td>6.0</td>\n",
       "      <td>1.0</td>\n",
       "      <td>10.0</td>\n",
       "      <td>2.0</td>\n",
       "      <td>5.0</td>\n",
       "      <td>5.0</td>\n",
       "      <td>5.0</td>\n",
       "      <td>4.0</td>\n",
       "      <td>4.0</td>\n",
       "    </tr>\n",
       "    <tr>\n",
       "      <th>4</th>\n",
       "      <td>4</td>\n",
       "      <td>2019-01-04</td>\n",
       "      <td>201901</td>\n",
       "      <td>0</td>\n",
       "      <td>1</td>\n",
       "      <td>NaN</td>\n",
       "      <td>NaN</td>\n",
       "      <td>3390.199951</td>\n",
       "      <td>0.000000</td>\n",
       "      <td>0.0</td>\n",
       "      <td>...</td>\n",
       "      <td>5.0</td>\n",
       "      <td>6.0</td>\n",
       "      <td>1.0</td>\n",
       "      <td>10.0</td>\n",
       "      <td>2.0</td>\n",
       "      <td>5.0</td>\n",
       "      <td>5.0</td>\n",
       "      <td>5.0</td>\n",
       "      <td>4.0</td>\n",
       "      <td>4.0</td>\n",
       "    </tr>\n",
       "    <tr>\n",
       "      <th>...</th>\n",
       "      <td>...</td>\n",
       "      <td>...</td>\n",
       "      <td>...</td>\n",
       "      <td>...</td>\n",
       "      <td>...</td>\n",
       "      <td>...</td>\n",
       "      <td>...</td>\n",
       "      <td>...</td>\n",
       "      <td>...</td>\n",
       "      <td>...</td>\n",
       "      <td>...</td>\n",
       "      <td>...</td>\n",
       "      <td>...</td>\n",
       "      <td>...</td>\n",
       "      <td>...</td>\n",
       "      <td>...</td>\n",
       "      <td>...</td>\n",
       "      <td>...</td>\n",
       "      <td>...</td>\n",
       "      <td>...</td>\n",
       "      <td>...</td>\n",
       "    </tr>\n",
       "    <tr>\n",
       "      <th>1526654</th>\n",
       "      <td>2703450</td>\n",
       "      <td>2020-10-05</td>\n",
       "      <td>202010</td>\n",
       "      <td>91</td>\n",
       "      <td>0</td>\n",
       "      <td>0.0</td>\n",
       "      <td>176561.359375</td>\n",
       "      <td>3675.400146</td>\n",
       "      <td>0.000000</td>\n",
       "      <td>0.0</td>\n",
       "      <td>...</td>\n",
       "      <td>4.0</td>\n",
       "      <td>5.0</td>\n",
       "      <td>0.0</td>\n",
       "      <td>10.0</td>\n",
       "      <td>1.0</td>\n",
       "      <td>2.0</td>\n",
       "      <td>3.0</td>\n",
       "      <td>3.0</td>\n",
       "      <td>1.0</td>\n",
       "      <td>1.0</td>\n",
       "    </tr>\n",
       "    <tr>\n",
       "      <th>1526655</th>\n",
       "      <td>2703451</td>\n",
       "      <td>2020-10-05</td>\n",
       "      <td>202010</td>\n",
       "      <td>91</td>\n",
       "      <td>0</td>\n",
       "      <td>0.0</td>\n",
       "      <td>301276.468750</td>\n",
       "      <td>7088.600098</td>\n",
       "      <td>6191.600098</td>\n",
       "      <td>0.0</td>\n",
       "      <td>...</td>\n",
       "      <td>4.0</td>\n",
       "      <td>5.0</td>\n",
       "      <td>0.0</td>\n",
       "      <td>10.0</td>\n",
       "      <td>1.0</td>\n",
       "      <td>2.0</td>\n",
       "      <td>3.0</td>\n",
       "      <td>3.0</td>\n",
       "      <td>1.0</td>\n",
       "      <td>1.0</td>\n",
       "    </tr>\n",
       "    <tr>\n",
       "      <th>1526656</th>\n",
       "      <td>2703452</td>\n",
       "      <td>2020-10-05</td>\n",
       "      <td>202010</td>\n",
       "      <td>91</td>\n",
       "      <td>0</td>\n",
       "      <td>0.0</td>\n",
       "      <td>14232.400391</td>\n",
       "      <td>7788.800293</td>\n",
       "      <td>0.000000</td>\n",
       "      <td>0.0</td>\n",
       "      <td>...</td>\n",
       "      <td>4.0</td>\n",
       "      <td>5.0</td>\n",
       "      <td>0.0</td>\n",
       "      <td>10.0</td>\n",
       "      <td>1.0</td>\n",
       "      <td>2.0</td>\n",
       "      <td>3.0</td>\n",
       "      <td>3.0</td>\n",
       "      <td>1.0</td>\n",
       "      <td>1.0</td>\n",
       "    </tr>\n",
       "    <tr>\n",
       "      <th>1526657</th>\n",
       "      <td>2703453</td>\n",
       "      <td>2020-10-05</td>\n",
       "      <td>202010</td>\n",
       "      <td>91</td>\n",
       "      <td>0</td>\n",
       "      <td>0.0</td>\n",
       "      <td>197371.578125</td>\n",
       "      <td>1195.400024</td>\n",
       "      <td>2827.199951</td>\n",
       "      <td>0.0</td>\n",
       "      <td>...</td>\n",
       "      <td>4.0</td>\n",
       "      <td>5.0</td>\n",
       "      <td>0.0</td>\n",
       "      <td>10.0</td>\n",
       "      <td>1.0</td>\n",
       "      <td>2.0</td>\n",
       "      <td>3.0</td>\n",
       "      <td>3.0</td>\n",
       "      <td>1.0</td>\n",
       "      <td>1.0</td>\n",
       "    </tr>\n",
       "    <tr>\n",
       "      <th>1526658</th>\n",
       "      <td>2703454</td>\n",
       "      <td>2020-10-05</td>\n",
       "      <td>202010</td>\n",
       "      <td>91</td>\n",
       "      <td>0</td>\n",
       "      <td>0.0</td>\n",
       "      <td>82949.601562</td>\n",
       "      <td>4533.800293</td>\n",
       "      <td>2986.800049</td>\n",
       "      <td>0.0</td>\n",
       "      <td>...</td>\n",
       "      <td>4.0</td>\n",
       "      <td>5.0</td>\n",
       "      <td>0.0</td>\n",
       "      <td>10.0</td>\n",
       "      <td>1.0</td>\n",
       "      <td>2.0</td>\n",
       "      <td>3.0</td>\n",
       "      <td>3.0</td>\n",
       "      <td>1.0</td>\n",
       "      <td>1.0</td>\n",
       "    </tr>\n",
       "  </tbody>\n",
       "</table>\n",
       "<p>1526659 rows × 583 columns</p>\n",
       "</div>"
      ],
      "text/plain": [
       "         case_id date_decision   MONTH  WEEK_NUM  target  \\\n",
       "0              0    2019-01-03  201901         0       0   \n",
       "1              1    2019-01-03  201901         0       0   \n",
       "2              2    2019-01-04  201901         0       0   \n",
       "3              3    2019-01-03  201901         0       0   \n",
       "4              4    2019-01-04  201901         0       1   \n",
       "...          ...           ...     ...       ...     ...   \n",
       "1526654  2703450    2020-10-05  202010        91       0   \n",
       "1526655  2703451    2020-10-05  202010        91       0   \n",
       "1526656  2703452    2020-10-05  202010        91       0   \n",
       "1526657  2703453    2020-10-05  202010        91       0   \n",
       "1526658  2703454    2020-10-05  202010        91       0   \n",
       "\n",
       "         actualdpdtolerance_344P  amtinstpaidbefduel24m_4187115A  \\\n",
       "0                            NaN                             NaN   \n",
       "1                            NaN                             NaN   \n",
       "2                            NaN                             NaN   \n",
       "3                            NaN                             NaN   \n",
       "4                            NaN                             NaN   \n",
       "...                          ...                             ...   \n",
       "1526654                      0.0                   176561.359375   \n",
       "1526655                      0.0                   301276.468750   \n",
       "1526656                      0.0                    14232.400391   \n",
       "1526657                      0.0                   197371.578125   \n",
       "1526658                      0.0                    82949.601562   \n",
       "\n",
       "         annuity_780A  annuitynextmonth_57A  applicationcnt_361L  ...  \\\n",
       "0         1917.599976              0.000000                  0.0  ...   \n",
       "1         3134.000000              0.000000                  0.0  ...   \n",
       "2         4937.000000              0.000000                  0.0  ...   \n",
       "3         4643.600098              0.000000                  0.0  ...   \n",
       "4         3390.199951              0.000000                  0.0  ...   \n",
       "...               ...                   ...                  ...  ...   \n",
       "1526654   3675.400146              0.000000                  0.0  ...   \n",
       "1526655   7088.600098           6191.600098                  0.0  ...   \n",
       "1526656   7788.800293              0.000000                  0.0  ...   \n",
       "1526657   1195.400024           2827.199951                  0.0  ...   \n",
       "1526658   4533.800293           2986.800049                  0.0  ...   \n",
       "\n",
       "         conts_role_79M  empls_economicalst_849M  empls_employer_name_740M  \\\n",
       "0                   5.0                      6.0                       1.0   \n",
       "1                   5.0                      6.0                       1.0   \n",
       "2                   5.0                      6.0                       1.0   \n",
       "3                   5.0                      6.0                       1.0   \n",
       "4                   5.0                      6.0                       1.0   \n",
       "...                 ...                      ...                       ...   \n",
       "1526654             4.0                      5.0                       0.0   \n",
       "1526655             4.0                      5.0                       0.0   \n",
       "1526656             4.0                      5.0                       0.0   \n",
       "1526657             4.0                      5.0                       0.0   \n",
       "1526658             4.0                      5.0                       0.0   \n",
       "\n",
       "         relatedpersons_role_762T  collater_typofvalofguarant_298M  \\\n",
       "0                            10.0                              2.0   \n",
       "1                            10.0                              2.0   \n",
       "2                            10.0                              2.0   \n",
       "3                            10.0                              2.0   \n",
       "4                            10.0                              2.0   \n",
       "...                           ...                              ...   \n",
       "1526654                      10.0                              1.0   \n",
       "1526655                      10.0                              1.0   \n",
       "1526656                      10.0                              1.0   \n",
       "1526657                      10.0                              1.0   \n",
       "1526658                      10.0                              1.0   \n",
       "\n",
       "         collater_typofvalofguarant_407M  collaterals_typeofguarante_359M  \\\n",
       "0                                    5.0                              5.0   \n",
       "1                                    5.0                              5.0   \n",
       "2                                    5.0                              5.0   \n",
       "3                                    5.0                              5.0   \n",
       "4                                    5.0                              5.0   \n",
       "...                                  ...                              ...   \n",
       "1526654                              2.0                              3.0   \n",
       "1526655                              2.0                              3.0   \n",
       "1526656                              2.0                              3.0   \n",
       "1526657                              2.0                              3.0   \n",
       "1526658                              2.0                              3.0   \n",
       "\n",
       "         collaterals_typeofguarante_669M  subjectroles_name_541M  \\\n",
       "0                                    5.0                     4.0   \n",
       "1                                    5.0                     4.0   \n",
       "2                                    5.0                     4.0   \n",
       "3                                    5.0                     4.0   \n",
       "4                                    5.0                     4.0   \n",
       "...                                  ...                     ...   \n",
       "1526654                              3.0                     1.0   \n",
       "1526655                              3.0                     1.0   \n",
       "1526656                              3.0                     1.0   \n",
       "1526657                              3.0                     1.0   \n",
       "1526658                              3.0                     1.0   \n",
       "\n",
       "         subjectroles_name_838M  \n",
       "0                           4.0  \n",
       "1                           4.0  \n",
       "2                           4.0  \n",
       "3                           4.0  \n",
       "4                           4.0  \n",
       "...                         ...  \n",
       "1526654                     1.0  \n",
       "1526655                     1.0  \n",
       "1526656                     1.0  \n",
       "1526657                     1.0  \n",
       "1526658                     1.0  \n",
       "\n",
       "[1526659 rows x 583 columns]"
      ]
     },
     "metadata": {},
     "output_type": "display_data"
    }
   ],
   "source": [
    "depth_data = encode(depth_data, MODE, MODEL_DIR.joinpath('encoders'))\n",
    "display(depth_data)"
   ]
  },
  {
   "cell_type": "code",
   "execution_count": 12,
   "metadata": {},
   "outputs": [],
   "source": [
    "# cut columns where NaN ratio is over 0.5\n",
    "# nan_ratio = depth_data.isnull().mean()\n",
    "# cut_columns = nan_ratio[nan_ratio > 0.5].index\n",
    "# depth_data.drop(columns=cut_columns, inplace=True)\n",
    "\n",
    "# display(depth_data)\n",
    "\n",
    "# # save cut_columns\n",
    "# with open(MODEL_DIR.joinpath('cut_columns.pkl'), 'wb') as f:\n",
    "#     pickle.dump(cut_columns, f)\n",
    "\n",
    "\n",
    "# # load cut_columns\n",
    "# with open(MODEL_DIR.joinpath('cut_columns.pkl'), 'rb') as f:\n",
    "#     cut_columns = pickle.load(f)"
   ]
  },
  {
   "cell_type": "code",
   "execution_count": 13,
   "metadata": {},
   "outputs": [],
   "source": [
    "if MODE == 'train':\n",
    "    X, y= (\n",
    "        depth_data.drop(columns=['case_id', 'target', 'date_decision']),\n",
    "        depth_data[['case_id', 'target', 'WEEK_NUM']],\n",
    "    )\n",
    "else:\n",
    "    X = depth_data.drop(columns=['case_id', 'date_decision'])\n",
    "    y = depth_data[['case_id', 'WEEK_NUM']]"
   ]
  },
  {
   "cell_type": "code",
   "execution_count": 14,
   "metadata": {},
   "outputs": [
    {
     "data": {
      "text/html": [
       "<div>\n",
       "<style scoped>\n",
       "    .dataframe tbody tr th:only-of-type {\n",
       "        vertical-align: middle;\n",
       "    }\n",
       "\n",
       "    .dataframe tbody tr th {\n",
       "        vertical-align: top;\n",
       "    }\n",
       "\n",
       "    .dataframe thead th {\n",
       "        text-align: right;\n",
       "    }\n",
       "</style>\n",
       "<table border=\"1\" class=\"dataframe\">\n",
       "  <thead>\n",
       "    <tr style=\"text-align: right;\">\n",
       "      <th></th>\n",
       "      <th>MONTH</th>\n",
       "      <th>WEEK_NUM</th>\n",
       "      <th>actualdpdtolerance_344P</th>\n",
       "      <th>amtinstpaidbefduel24m_4187115A</th>\n",
       "      <th>annuity_780A</th>\n",
       "      <th>annuitynextmonth_57A</th>\n",
       "      <th>applicationcnt_361L</th>\n",
       "      <th>applications30d_658L</th>\n",
       "      <th>applicationscnt_1086L</th>\n",
       "      <th>applicationscnt_464L</th>\n",
       "      <th>...</th>\n",
       "      <th>conts_role_79M</th>\n",
       "      <th>empls_economicalst_849M</th>\n",
       "      <th>empls_employer_name_740M</th>\n",
       "      <th>relatedpersons_role_762T</th>\n",
       "      <th>collater_typofvalofguarant_298M</th>\n",
       "      <th>collater_typofvalofguarant_407M</th>\n",
       "      <th>collaterals_typeofguarante_359M</th>\n",
       "      <th>collaterals_typeofguarante_669M</th>\n",
       "      <th>subjectroles_name_541M</th>\n",
       "      <th>subjectroles_name_838M</th>\n",
       "    </tr>\n",
       "  </thead>\n",
       "  <tbody>\n",
       "    <tr>\n",
       "      <th>0</th>\n",
       "      <td>201901</td>\n",
       "      <td>0</td>\n",
       "      <td>NaN</td>\n",
       "      <td>NaN</td>\n",
       "      <td>1917.599976</td>\n",
       "      <td>0.000000</td>\n",
       "      <td>0.0</td>\n",
       "      <td>0.0</td>\n",
       "      <td>0.0</td>\n",
       "      <td>0.0</td>\n",
       "      <td>...</td>\n",
       "      <td>5.0</td>\n",
       "      <td>6.0</td>\n",
       "      <td>1.0</td>\n",
       "      <td>10.0</td>\n",
       "      <td>2.0</td>\n",
       "      <td>5.0</td>\n",
       "      <td>5.0</td>\n",
       "      <td>5.0</td>\n",
       "      <td>4.0</td>\n",
       "      <td>4.0</td>\n",
       "    </tr>\n",
       "    <tr>\n",
       "      <th>1</th>\n",
       "      <td>201901</td>\n",
       "      <td>0</td>\n",
       "      <td>NaN</td>\n",
       "      <td>NaN</td>\n",
       "      <td>3134.000000</td>\n",
       "      <td>0.000000</td>\n",
       "      <td>0.0</td>\n",
       "      <td>0.0</td>\n",
       "      <td>0.0</td>\n",
       "      <td>0.0</td>\n",
       "      <td>...</td>\n",
       "      <td>5.0</td>\n",
       "      <td>6.0</td>\n",
       "      <td>1.0</td>\n",
       "      <td>10.0</td>\n",
       "      <td>2.0</td>\n",
       "      <td>5.0</td>\n",
       "      <td>5.0</td>\n",
       "      <td>5.0</td>\n",
       "      <td>4.0</td>\n",
       "      <td>4.0</td>\n",
       "    </tr>\n",
       "    <tr>\n",
       "      <th>2</th>\n",
       "      <td>201901</td>\n",
       "      <td>0</td>\n",
       "      <td>NaN</td>\n",
       "      <td>NaN</td>\n",
       "      <td>4937.000000</td>\n",
       "      <td>0.000000</td>\n",
       "      <td>0.0</td>\n",
       "      <td>0.0</td>\n",
       "      <td>0.0</td>\n",
       "      <td>0.0</td>\n",
       "      <td>...</td>\n",
       "      <td>5.0</td>\n",
       "      <td>6.0</td>\n",
       "      <td>1.0</td>\n",
       "      <td>10.0</td>\n",
       "      <td>2.0</td>\n",
       "      <td>5.0</td>\n",
       "      <td>5.0</td>\n",
       "      <td>5.0</td>\n",
       "      <td>4.0</td>\n",
       "      <td>4.0</td>\n",
       "    </tr>\n",
       "    <tr>\n",
       "      <th>3</th>\n",
       "      <td>201901</td>\n",
       "      <td>0</td>\n",
       "      <td>NaN</td>\n",
       "      <td>NaN</td>\n",
       "      <td>4643.600098</td>\n",
       "      <td>0.000000</td>\n",
       "      <td>0.0</td>\n",
       "      <td>1.0</td>\n",
       "      <td>0.0</td>\n",
       "      <td>2.0</td>\n",
       "      <td>...</td>\n",
       "      <td>5.0</td>\n",
       "      <td>6.0</td>\n",
       "      <td>1.0</td>\n",
       "      <td>10.0</td>\n",
       "      <td>2.0</td>\n",
       "      <td>5.0</td>\n",
       "      <td>5.0</td>\n",
       "      <td>5.0</td>\n",
       "      <td>4.0</td>\n",
       "      <td>4.0</td>\n",
       "    </tr>\n",
       "    <tr>\n",
       "      <th>4</th>\n",
       "      <td>201901</td>\n",
       "      <td>0</td>\n",
       "      <td>NaN</td>\n",
       "      <td>NaN</td>\n",
       "      <td>3390.199951</td>\n",
       "      <td>0.000000</td>\n",
       "      <td>0.0</td>\n",
       "      <td>1.0</td>\n",
       "      <td>0.0</td>\n",
       "      <td>0.0</td>\n",
       "      <td>...</td>\n",
       "      <td>5.0</td>\n",
       "      <td>6.0</td>\n",
       "      <td>1.0</td>\n",
       "      <td>10.0</td>\n",
       "      <td>2.0</td>\n",
       "      <td>5.0</td>\n",
       "      <td>5.0</td>\n",
       "      <td>5.0</td>\n",
       "      <td>4.0</td>\n",
       "      <td>4.0</td>\n",
       "    </tr>\n",
       "    <tr>\n",
       "      <th>...</th>\n",
       "      <td>...</td>\n",
       "      <td>...</td>\n",
       "      <td>...</td>\n",
       "      <td>...</td>\n",
       "      <td>...</td>\n",
       "      <td>...</td>\n",
       "      <td>...</td>\n",
       "      <td>...</td>\n",
       "      <td>...</td>\n",
       "      <td>...</td>\n",
       "      <td>...</td>\n",
       "      <td>...</td>\n",
       "      <td>...</td>\n",
       "      <td>...</td>\n",
       "      <td>...</td>\n",
       "      <td>...</td>\n",
       "      <td>...</td>\n",
       "      <td>...</td>\n",
       "      <td>...</td>\n",
       "      <td>...</td>\n",
       "      <td>...</td>\n",
       "    </tr>\n",
       "    <tr>\n",
       "      <th>1526654</th>\n",
       "      <td>202010</td>\n",
       "      <td>91</td>\n",
       "      <td>0.0</td>\n",
       "      <td>176561.359375</td>\n",
       "      <td>3675.400146</td>\n",
       "      <td>0.000000</td>\n",
       "      <td>0.0</td>\n",
       "      <td>0.0</td>\n",
       "      <td>0.0</td>\n",
       "      <td>0.0</td>\n",
       "      <td>...</td>\n",
       "      <td>4.0</td>\n",
       "      <td>5.0</td>\n",
       "      <td>0.0</td>\n",
       "      <td>10.0</td>\n",
       "      <td>1.0</td>\n",
       "      <td>2.0</td>\n",
       "      <td>3.0</td>\n",
       "      <td>3.0</td>\n",
       "      <td>1.0</td>\n",
       "      <td>1.0</td>\n",
       "    </tr>\n",
       "    <tr>\n",
       "      <th>1526655</th>\n",
       "      <td>202010</td>\n",
       "      <td>91</td>\n",
       "      <td>0.0</td>\n",
       "      <td>301276.468750</td>\n",
       "      <td>7088.600098</td>\n",
       "      <td>6191.600098</td>\n",
       "      <td>0.0</td>\n",
       "      <td>0.0</td>\n",
       "      <td>5.0</td>\n",
       "      <td>0.0</td>\n",
       "      <td>...</td>\n",
       "      <td>4.0</td>\n",
       "      <td>5.0</td>\n",
       "      <td>0.0</td>\n",
       "      <td>10.0</td>\n",
       "      <td>1.0</td>\n",
       "      <td>2.0</td>\n",
       "      <td>3.0</td>\n",
       "      <td>3.0</td>\n",
       "      <td>1.0</td>\n",
       "      <td>1.0</td>\n",
       "    </tr>\n",
       "    <tr>\n",
       "      <th>1526656</th>\n",
       "      <td>202010</td>\n",
       "      <td>91</td>\n",
       "      <td>0.0</td>\n",
       "      <td>14232.400391</td>\n",
       "      <td>7788.800293</td>\n",
       "      <td>0.000000</td>\n",
       "      <td>0.0</td>\n",
       "      <td>0.0</td>\n",
       "      <td>0.0</td>\n",
       "      <td>0.0</td>\n",
       "      <td>...</td>\n",
       "      <td>4.0</td>\n",
       "      <td>5.0</td>\n",
       "      <td>0.0</td>\n",
       "      <td>10.0</td>\n",
       "      <td>1.0</td>\n",
       "      <td>2.0</td>\n",
       "      <td>3.0</td>\n",
       "      <td>3.0</td>\n",
       "      <td>1.0</td>\n",
       "      <td>1.0</td>\n",
       "    </tr>\n",
       "    <tr>\n",
       "      <th>1526657</th>\n",
       "      <td>202010</td>\n",
       "      <td>91</td>\n",
       "      <td>0.0</td>\n",
       "      <td>197371.578125</td>\n",
       "      <td>1195.400024</td>\n",
       "      <td>2827.199951</td>\n",
       "      <td>0.0</td>\n",
       "      <td>0.0</td>\n",
       "      <td>36.0</td>\n",
       "      <td>0.0</td>\n",
       "      <td>...</td>\n",
       "      <td>4.0</td>\n",
       "      <td>5.0</td>\n",
       "      <td>0.0</td>\n",
       "      <td>10.0</td>\n",
       "      <td>1.0</td>\n",
       "      <td>2.0</td>\n",
       "      <td>3.0</td>\n",
       "      <td>3.0</td>\n",
       "      <td>1.0</td>\n",
       "      <td>1.0</td>\n",
       "    </tr>\n",
       "    <tr>\n",
       "      <th>1526658</th>\n",
       "      <td>202010</td>\n",
       "      <td>91</td>\n",
       "      <td>0.0</td>\n",
       "      <td>82949.601562</td>\n",
       "      <td>4533.800293</td>\n",
       "      <td>2986.800049</td>\n",
       "      <td>0.0</td>\n",
       "      <td>0.0</td>\n",
       "      <td>0.0</td>\n",
       "      <td>0.0</td>\n",
       "      <td>...</td>\n",
       "      <td>4.0</td>\n",
       "      <td>5.0</td>\n",
       "      <td>0.0</td>\n",
       "      <td>10.0</td>\n",
       "      <td>1.0</td>\n",
       "      <td>2.0</td>\n",
       "      <td>3.0</td>\n",
       "      <td>3.0</td>\n",
       "      <td>1.0</td>\n",
       "      <td>1.0</td>\n",
       "    </tr>\n",
       "  </tbody>\n",
       "</table>\n",
       "<p>1526659 rows × 580 columns</p>\n",
       "</div>"
      ],
      "text/plain": [
       "          MONTH  WEEK_NUM  actualdpdtolerance_344P  \\\n",
       "0        201901         0                      NaN   \n",
       "1        201901         0                      NaN   \n",
       "2        201901         0                      NaN   \n",
       "3        201901         0                      NaN   \n",
       "4        201901         0                      NaN   \n",
       "...         ...       ...                      ...   \n",
       "1526654  202010        91                      0.0   \n",
       "1526655  202010        91                      0.0   \n",
       "1526656  202010        91                      0.0   \n",
       "1526657  202010        91                      0.0   \n",
       "1526658  202010        91                      0.0   \n",
       "\n",
       "         amtinstpaidbefduel24m_4187115A  annuity_780A  annuitynextmonth_57A  \\\n",
       "0                                   NaN   1917.599976              0.000000   \n",
       "1                                   NaN   3134.000000              0.000000   \n",
       "2                                   NaN   4937.000000              0.000000   \n",
       "3                                   NaN   4643.600098              0.000000   \n",
       "4                                   NaN   3390.199951              0.000000   \n",
       "...                                 ...           ...                   ...   \n",
       "1526654                   176561.359375   3675.400146              0.000000   \n",
       "1526655                   301276.468750   7088.600098           6191.600098   \n",
       "1526656                    14232.400391   7788.800293              0.000000   \n",
       "1526657                   197371.578125   1195.400024           2827.199951   \n",
       "1526658                    82949.601562   4533.800293           2986.800049   \n",
       "\n",
       "         applicationcnt_361L  applications30d_658L  applicationscnt_1086L  \\\n",
       "0                        0.0                   0.0                    0.0   \n",
       "1                        0.0                   0.0                    0.0   \n",
       "2                        0.0                   0.0                    0.0   \n",
       "3                        0.0                   1.0                    0.0   \n",
       "4                        0.0                   1.0                    0.0   \n",
       "...                      ...                   ...                    ...   \n",
       "1526654                  0.0                   0.0                    0.0   \n",
       "1526655                  0.0                   0.0                    5.0   \n",
       "1526656                  0.0                   0.0                    0.0   \n",
       "1526657                  0.0                   0.0                   36.0   \n",
       "1526658                  0.0                   0.0                    0.0   \n",
       "\n",
       "         applicationscnt_464L  ...  conts_role_79M  empls_economicalst_849M  \\\n",
       "0                         0.0  ...             5.0                      6.0   \n",
       "1                         0.0  ...             5.0                      6.0   \n",
       "2                         0.0  ...             5.0                      6.0   \n",
       "3                         2.0  ...             5.0                      6.0   \n",
       "4                         0.0  ...             5.0                      6.0   \n",
       "...                       ...  ...             ...                      ...   \n",
       "1526654                   0.0  ...             4.0                      5.0   \n",
       "1526655                   0.0  ...             4.0                      5.0   \n",
       "1526656                   0.0  ...             4.0                      5.0   \n",
       "1526657                   0.0  ...             4.0                      5.0   \n",
       "1526658                   0.0  ...             4.0                      5.0   \n",
       "\n",
       "         empls_employer_name_740M  relatedpersons_role_762T  \\\n",
       "0                             1.0                      10.0   \n",
       "1                             1.0                      10.0   \n",
       "2                             1.0                      10.0   \n",
       "3                             1.0                      10.0   \n",
       "4                             1.0                      10.0   \n",
       "...                           ...                       ...   \n",
       "1526654                       0.0                      10.0   \n",
       "1526655                       0.0                      10.0   \n",
       "1526656                       0.0                      10.0   \n",
       "1526657                       0.0                      10.0   \n",
       "1526658                       0.0                      10.0   \n",
       "\n",
       "         collater_typofvalofguarant_298M  collater_typofvalofguarant_407M  \\\n",
       "0                                    2.0                              5.0   \n",
       "1                                    2.0                              5.0   \n",
       "2                                    2.0                              5.0   \n",
       "3                                    2.0                              5.0   \n",
       "4                                    2.0                              5.0   \n",
       "...                                  ...                              ...   \n",
       "1526654                              1.0                              2.0   \n",
       "1526655                              1.0                              2.0   \n",
       "1526656                              1.0                              2.0   \n",
       "1526657                              1.0                              2.0   \n",
       "1526658                              1.0                              2.0   \n",
       "\n",
       "         collaterals_typeofguarante_359M  collaterals_typeofguarante_669M  \\\n",
       "0                                    5.0                              5.0   \n",
       "1                                    5.0                              5.0   \n",
       "2                                    5.0                              5.0   \n",
       "3                                    5.0                              5.0   \n",
       "4                                    5.0                              5.0   \n",
       "...                                  ...                              ...   \n",
       "1526654                              3.0                              3.0   \n",
       "1526655                              3.0                              3.0   \n",
       "1526656                              3.0                              3.0   \n",
       "1526657                              3.0                              3.0   \n",
       "1526658                              3.0                              3.0   \n",
       "\n",
       "         subjectroles_name_541M  subjectroles_name_838M  \n",
       "0                           4.0                     4.0  \n",
       "1                           4.0                     4.0  \n",
       "2                           4.0                     4.0  \n",
       "3                           4.0                     4.0  \n",
       "4                           4.0                     4.0  \n",
       "...                         ...                     ...  \n",
       "1526654                     1.0                     1.0  \n",
       "1526655                     1.0                     1.0  \n",
       "1526656                     1.0                     1.0  \n",
       "1526657                     1.0                     1.0  \n",
       "1526658                     1.0                     1.0  \n",
       "\n",
       "[1526659 rows x 580 columns]"
      ]
     },
     "execution_count": 14,
     "metadata": {},
     "output_type": "execute_result"
    }
   ],
   "source": [
    "X"
   ]
  },
  {
   "cell_type": "code",
   "execution_count": 15,
   "metadata": {},
   "outputs": [],
   "source": [
    "# https://zenn.dev/nishimoto/articles/8d575924cc619d に従いoptunaによるチューニングを行う\n",
    "\n",
    "params = {\n",
    "    'objective': 'binary',\n",
    "    'metric': ['binary_logloss', 'auc', 'average_precision'],\n",
    "    'verbosity': -1,\n",
    "    'boosting_type': 'gbdt',\n",
    "    'seed': 42,\n",
    "    'max_depth': 5,\n",
    "    'num_leaves': 31,\n",
    "    # the folloqwings are hyperparameters to be tuned (use 10% of dataset)\n",
    "    'feature_fraction': 0.8252389166368176,\n",
    "    'lambda_l1': 9.791900843835457,\n",
    "    'lambda_l2': 7.511904149115363,\n",
    "    'num_leaves': 30,\n",
    "    'bagging_fraction': 0.5628920345673979,\n",
    "    'bagging_freq': 7\n",
    "}"
   ]
  },
  {
   "cell_type": "code",
   "execution_count": 17,
   "metadata": {},
   "outputs": [],
   "source": [
    "# return logloss\n",
    "def log_loss(y_true: np.ndarray, y_pred: np.ndarray) -> np.ndarray:\n",
    "    return -np.mean(y_true * np.log(y_pred) + (1 - y_true) * np.log(1 - y_pred))\n",
    "\n",
    "def objective(trial: optuna.Trial, X: pd.DataFrame, y: pd.DataFrame):\n",
    "    params = {\n",
    "        'objective': 'binary',\n",
    "        'metric': ['binary_logloss', 'auc', 'average_precision'],\n",
    "        'verbosity': -1,\n",
    "        'boosting_type': 'gbdt',\n",
    "        'seed': 42,\n",
    "        'feature_fraction': trial.suggest_float('feature_fraction', 0.4, 1.0),\n",
    "        'lambda_l1': trial.suggest_float('lambda_l1', 1e-8, 10.0, log=True),\n",
    "        'lambda_l2': trial.suggest_float('lambda_l2', 1e-8, 10.0, log=True),\n",
    "        'num_leaves': trial.suggest_int('num_leaves', 12, 256, 2),\n",
    "        'baggig_fraction': trial.suggest_float('bagging_fraction', 0.4, 1.0),\n",
    "        'bagging_freq': trial.suggest_int('bagging_freq', 1, 7),\n",
    "        # 'min_child_samples': trial.suggest_int('min_child_samples', 5, 100),\n",
    "    }\n",
    "\n",
    "    n_splits = 5\n",
    "    skf = StratifiedGroupKFold(n_splits=n_splits, shuffle=True, random_state=42)\n",
    "    oof = np.zeros(X.shape[0])\n",
    "\n",
    "    for fold, (train_idx, valid_idx) in enumerate(skf.split(X, y['target'], y['WEEK_NUM'])):\n",
    "        print(f'Fold {fold+1}')\n",
    "\n",
    "        X_train, X_valid = X.iloc[train_idx], X.iloc[valid_idx]\n",
    "        y_train, y_valid = y.iloc[train_idx], y.iloc[valid_idx]\n",
    "\n",
    "        train_data = lgb.Dataset(X_train, label=y_train['target'])\n",
    "        valid_data = lgb.Dataset(X_valid, label=y_valid['target'])\n",
    "\n",
    "        model:lgb.Booster = lgb.train(\n",
    "            params,\n",
    "            train_data,\n",
    "            num_boost_round=100_000,\n",
    "            valid_sets=[train_data, valid_data],\n",
    "            callbacks=[\n",
    "                lgb.early_stopping(stopping_rounds=100),\n",
    "                # lgb.log_evaluation(period=100),\n",
    "            ]\n",
    "        )\n",
    "\n",
    "        oof[valid_idx] = model.predict(X_valid)\n",
    "\n",
    "        # model_path = MODEL_DIR.joinpath(f'model_{fold}.pkl')\n",
    "        # with open(model_path, 'wb') as model_path:\n",
    "        #     pickle.dump(model, model_path)\n",
    "\n",
    "    return log_loss(y['target'], oof)\n",
    "\n",
    "def objective_no_cv(trial: optuna.Trial, train_data: lgb.Dataset, valid_data: lgb.Dataset):\n",
    "    params = {\n",
    "        'objective': 'binary',\n",
    "        'metric': ['binary_logloss', 'auc', 'average_precision'],\n",
    "        'verbosity': -1,\n",
    "        'boosting_type': 'gbdt',\n",
    "        'seed': 42,\n",
    "        'feature_fraction': trial.suggest_float('feature_fraction', 0.4, 1.0),\n",
    "        'lambda_l1': trial.suggest_float('lambda_l1', 1e-8, 10.0, log=True),\n",
    "        'lambda_l2': trial.suggest_float('lambda_l2', 1e-8, 10.0, log=True),\n",
    "        'num_leaves': trial.suggest_int('num_leaves', 12, 256, 2),\n",
    "        'baggig_fraction': trial.suggest_float('bagging_fraction', 0.4, 1.0),\n",
    "        'bagging_freq': trial.suggest_int('bagging_freq', 1, 7),\n",
    "        # 'min_child_samples': trial.suggest_int('min_child_samples', 5, 100),\n",
    "    }\n",
    "\n",
    "    model = lgb.train(\n",
    "        params,\n",
    "        train_data,\n",
    "        num_boost_round=100_000,\n",
    "        valid_sets=[train_data, valid_data],\n",
    "        callbacks=[\n",
    "            lgb.early_stopping(stopping_rounds=100),\n",
    "            # lgb.log_evaluation(period=100),\n",
    "        ]\n",
    "    )\n",
    "    log_loss = model.best_score['valid_1']['binary_logloss']\n",
    "\n",
    "    return log_loss\n",
    "    \n",
    "\n",
    "def optimize(X: pd.DataFrame, y: pd.DataFrame, cv: bool = True)-> optuna.study.Study:\n",
    "    study = optuna.create_study(\n",
    "        direction='minimize',\n",
    "        study_name='lgbm-group-tune',\n",
    "        storage=f'sqlite:///{MODEL_DIR}/study.db',\n",
    "        load_if_exists=True,\n",
    "    )\n",
    "    if cv:\n",
    "        study.optimize(lambda trial: objective(trial, X, y), n_trials=100)\n",
    "    else: \n",
    "        X_, _, y_, _ = train_test_split(X, y, test_size=0.2, random_state=42, stratify=y['target']) # reduce data size\n",
    "        X_train, X_valid, y_train, y_valid = train_test_split(X_, y_, test_size=0.2, random_state=42, stratify=y_['target'])\n",
    "        train_data = lgb.Dataset(X_train, label=y_train['target'])\n",
    "        valid_data = lgb.Dataset(X_valid, label=y_valid['target'])\n",
    "        study.optimize(lambda trial: objective_no_cv(trial, train_data, valid_data), n_trials=100)\n",
    "\n",
    "    # save study data\n",
    "    study_path = MODEL_DIR.joinpath('study.pkl')\n",
    "    with open(study_path, 'wb') as study_path:\n",
    "        pickle.dump(study, study_path)\n",
    "\n",
    "    return study\n",
    "\n",
    "def train(X, y):\n",
    "    \"\"\"Train without tuning.\"\"\"\n",
    "    n_splits = 5\n",
    "    skf = StratifiedGroupKFold(n_splits=n_splits, shuffle=True, random_state=42)\n",
    "    oof = np.zeros(X.shape[0])\n",
    "\n",
    "    for fold, (train_idx, valid_idx) in enumerate(skf.split(X, y['target'], y['WEEK_NUM'])):\n",
    "        print(f'Fold {fold+1}')\n",
    "\n",
    "        X_train, X_valid = X.iloc[train_idx], X.iloc[valid_idx]\n",
    "        y_train, y_valid = y.iloc[train_idx], y.iloc[valid_idx]\n",
    "\n",
    "        train_data = lgb.Dataset(X_train, label=y_train['target'])\n",
    "        valid_data = lgb.Dataset(X_valid, label=y_valid['target'])\n",
    "\n",
    "        model:lgb.Booster = lgb.train(\n",
    "            params,\n",
    "            train_data,\n",
    "            num_boost_round=100_000,\n",
    "            valid_sets=[train_data, valid_data],\n",
    "            callbacks=[\n",
    "                lgb.early_stopping(stopping_rounds=100),\n",
    "                lgb.log_evaluation(period=100),\n",
    "            ]\n",
    "        )\n",
    "\n",
    "        oof[valid_idx] = model.predict(X_valid)\n",
    "\n",
    "        model_path = MODEL_DIR.joinpath(f'model_{fold}.pkl')\n",
    "        with open(model_path, 'wb') as model_path:\n",
    "            pickle.dump(model, model_path)\n",
    "\n",
    "    return oof\n",
    "\n",
    "\n",
    "def evaluate(y_true:pd.DataFrame, y_pred, idx_valid):\n",
    "    from scripts import data\n",
    "    evaluator = data.Evaluator(y_true.iloc[idx_valid], y_pred, save_path=MODEL_DIR)\n",
    "\n",
    "    evaluator.plot_pred(is_log=True)\n",
    "    evaluator.plot_roc()\n",
    "    df_gini_weeks, stability = evaluator.plot_gini()\n",
    "    return df_gini_weeks, stability\n",
    "\n",
    "\n",
    "def predict(\n",
    "        models: List[lgb.Booster],\n",
    "        submit: pd.DataFrame,\n",
    "        X: pd.DataFrame,\n",
    "        batch_size: int = 128,\n",
    "    ) -> pd.DataFrame:\n",
    "    \n",
    "    probas = np.zeros(len(X), dtype=np.float32)\n",
    "    for i in range(0, len(X), batch_size):\n",
    "        limit = i + batch_size if i + batch_size < len(X) else len(X)\n",
    "        batch_X = X.iloc[i:limit]\n",
    "        \n",
    "        for model in models:\n",
    "            proba = model.predict(batch_X, num_iteration=model.best_iteration)\n",
    "            probas[i:limit] += proba.astype(np.float32)\n",
    "            \n",
    "            del proba\n",
    "            gc.collect()\n",
    "            \n",
    "        del batch_X\n",
    "        gc.collect()\n",
    "    \n",
    "    probas /= len(models)\n",
    "    \n",
    "    submit['score'] = probas\n",
    "    \n",
    "    return submit"
   ]
  },
  {
   "cell_type": "code",
   "execution_count": 18,
   "metadata": {},
   "outputs": [
    {
     "name": "stdout",
     "output_type": "stream",
     "text": [
      "Fold 1\n",
      "Training until validation scores don't improve for 100 rounds\n",
      "[100]\ttraining's binary_logloss: 0.112209\ttraining's auc: 0.850532\ttraining's average_precision: 0.190142\tvalid_1's binary_logloss: 0.110435\tvalid_1's auc: 0.850111\tvalid_1's average_precision: 0.186137\n",
      "[200]\ttraining's binary_logloss: 0.109167\ttraining's auc: 0.862365\ttraining's average_precision: 0.213601\tvalid_1's binary_logloss: 0.108885\tvalid_1's auc: 0.855604\tvalid_1's average_precision: 0.195183\n",
      "[300]\ttraining's binary_logloss: 0.107025\ttraining's auc: 0.870293\ttraining's average_precision: 0.233426\tvalid_1's binary_logloss: 0.1081\tvalid_1's auc: 0.858477\tvalid_1's average_precision: 0.200561\n",
      "[400]\ttraining's binary_logloss: 0.105222\ttraining's auc: 0.876609\ttraining's average_precision: 0.252396\tvalid_1's binary_logloss: 0.107763\tvalid_1's auc: 0.859553\tvalid_1's average_precision: 0.203197\n",
      "[500]\ttraining's binary_logloss: 0.103585\ttraining's auc: 0.882221\ttraining's average_precision: 0.270958\tvalid_1's binary_logloss: 0.107535\tvalid_1's auc: 0.860421\tvalid_1's average_precision: 0.204658\n",
      "[600]\ttraining's binary_logloss: 0.102087\ttraining's auc: 0.887151\ttraining's average_precision: 0.288845\tvalid_1's binary_logloss: 0.107444\tvalid_1's auc: 0.860723\tvalid_1's average_precision: 0.205234\n",
      "[700]\ttraining's binary_logloss: 0.100708\ttraining's auc: 0.891489\ttraining's average_precision: 0.306589\tvalid_1's binary_logloss: 0.107378\tvalid_1's auc: 0.860969\tvalid_1's average_precision: 0.205669\n",
      "[800]\ttraining's binary_logloss: 0.0993482\ttraining's auc: 0.895618\ttraining's average_precision: 0.324285\tvalid_1's binary_logloss: 0.107319\tvalid_1's auc: 0.861094\tvalid_1's average_precision: 0.206551\n",
      "Early stopping, best iteration is:\n",
      "[718]\ttraining's binary_logloss: 0.10046\ttraining's auc: 0.892221\ttraining's average_precision: 0.309943\tvalid_1's binary_logloss: 0.107331\tvalid_1's auc: 0.861142\tvalid_1's average_precision: 0.206094\n",
      "Fold 2\n",
      "Training until validation scores don't improve for 100 rounds\n",
      "[100]\ttraining's binary_logloss: 0.113092\ttraining's auc: 0.8522\ttraining's average_precision: 0.197871\tvalid_1's binary_logloss: 0.107264\tvalid_1's auc: 0.840151\tvalid_1's average_precision: 0.155166\n",
      "[200]\ttraining's binary_logloss: 0.109913\ttraining's auc: 0.864429\ttraining's average_precision: 0.22245\tvalid_1's binary_logloss: 0.105707\tvalid_1's auc: 0.847342\tvalid_1's average_precision: 0.163478\n",
      "[300]\ttraining's binary_logloss: 0.107666\ttraining's auc: 0.872425\ttraining's average_precision: 0.24322\tvalid_1's binary_logloss: 0.104963\tvalid_1's auc: 0.850943\tvalid_1's average_precision: 0.167531\n",
      "[400]\ttraining's binary_logloss: 0.105924\ttraining's auc: 0.878452\ttraining's average_precision: 0.261041\tvalid_1's binary_logloss: 0.104641\tvalid_1's auc: 0.852597\tvalid_1's average_precision: 0.168878\n",
      "[500]\ttraining's binary_logloss: 0.104367\ttraining's auc: 0.883633\ttraining's average_precision: 0.278126\tvalid_1's binary_logloss: 0.104459\tvalid_1's auc: 0.853486\tvalid_1's average_precision: 0.169815\n",
      "[600]\ttraining's binary_logloss: 0.102866\ttraining's auc: 0.888326\ttraining's average_precision: 0.296314\tvalid_1's binary_logloss: 0.104331\tvalid_1's auc: 0.85396\tvalid_1's average_precision: 0.170802\n",
      "[700]\ttraining's binary_logloss: 0.101495\ttraining's auc: 0.892575\ttraining's average_precision: 0.313011\tvalid_1's binary_logloss: 0.104271\tvalid_1's auc: 0.854292\tvalid_1's average_precision: 0.171147\n",
      "Early stopping, best iteration is:\n",
      "[687]\ttraining's binary_logloss: 0.10167\ttraining's auc: 0.891992\ttraining's average_precision: 0.310946\tvalid_1's binary_logloss: 0.10427\tvalid_1's auc: 0.854285\tvalid_1's average_precision: 0.171188\n",
      "Fold 3\n",
      "Training until validation scores don't improve for 100 rounds\n",
      "[100]\ttraining's binary_logloss: 0.109676\ttraining's auc: 0.852822\ttraining's average_precision: 0.193383\tvalid_1's binary_logloss: 0.120416\tvalid_1's auc: 0.839828\tvalid_1's average_precision: 0.178896\n",
      "[200]\ttraining's binary_logloss: 0.106596\ttraining's auc: 0.86472\ttraining's average_precision: 0.217328\tvalid_1's binary_logloss: 0.118819\tvalid_1's auc: 0.846066\tvalid_1's average_precision: 0.187968\n",
      "[300]\ttraining's binary_logloss: 0.104558\ttraining's auc: 0.87236\ttraining's average_precision: 0.236451\tvalid_1's binary_logloss: 0.118218\tvalid_1's auc: 0.848572\tvalid_1's average_precision: 0.191698\n",
      "[400]\ttraining's binary_logloss: 0.102802\ttraining's auc: 0.878681\ttraining's average_precision: 0.254738\tvalid_1's binary_logloss: 0.117829\tvalid_1's auc: 0.850132\tvalid_1's average_precision: 0.194569\n",
      "[500]\ttraining's binary_logloss: 0.10123\ttraining's auc: 0.884055\ttraining's average_precision: 0.272574\tvalid_1's binary_logloss: 0.117606\tvalid_1's auc: 0.850967\tvalid_1's average_precision: 0.196406\n",
      "[600]\ttraining's binary_logloss: 0.0997676\ttraining's auc: 0.888878\ttraining's average_precision: 0.29101\tvalid_1's binary_logloss: 0.117526\tvalid_1's auc: 0.851324\tvalid_1's average_precision: 0.196966\n",
      "[700]\ttraining's binary_logloss: 0.0983863\ttraining's auc: 0.893199\ttraining's average_precision: 0.30797\tvalid_1's binary_logloss: 0.117482\tvalid_1's auc: 0.851522\tvalid_1's average_precision: 0.197596\n",
      "[800]\ttraining's binary_logloss: 0.0970148\ttraining's auc: 0.897584\ttraining's average_precision: 0.325918\tvalid_1's binary_logloss: 0.117446\tvalid_1's auc: 0.851789\tvalid_1's average_precision: 0.197545\n",
      "[900]\ttraining's binary_logloss: 0.0957866\ttraining's auc: 0.901285\ttraining's average_precision: 0.342382\tvalid_1's binary_logloss: 0.117457\tvalid_1's auc: 0.851721\tvalid_1's average_precision: 0.198062\n",
      "Early stopping, best iteration is:\n",
      "[829]\ttraining's binary_logloss: 0.0966481\ttraining's auc: 0.898699\ttraining's average_precision: 0.33069\tvalid_1's binary_logloss: 0.11742\tvalid_1's auc: 0.851869\tvalid_1's average_precision: 0.198029\n",
      "Fold 4\n",
      "Training until validation scores don't improve for 100 rounds\n",
      "[100]\ttraining's binary_logloss: 0.112465\ttraining's auc: 0.852139\ttraining's average_precision: 0.196834\tvalid_1's binary_logloss: 0.108337\tvalid_1's auc: 0.839332\tvalid_1's average_precision: 0.154572\n",
      "[200]\ttraining's binary_logloss: 0.109265\ttraining's auc: 0.864258\ttraining's average_precision: 0.22099\tvalid_1's binary_logloss: 0.106759\tvalid_1's auc: 0.846779\tvalid_1's average_precision: 0.163197\n",
      "[300]\ttraining's binary_logloss: 0.107265\ttraining's auc: 0.871403\ttraining's average_precision: 0.239496\tvalid_1's binary_logloss: 0.106132\tvalid_1's auc: 0.849618\tvalid_1's average_precision: 0.166869\n",
      "[400]\ttraining's binary_logloss: 0.105539\ttraining's auc: 0.877336\ttraining's average_precision: 0.25783\tvalid_1's binary_logloss: 0.105793\tvalid_1's auc: 0.851098\tvalid_1's average_precision: 0.169157\n",
      "[500]\ttraining's binary_logloss: 0.104033\ttraining's auc: 0.882352\ttraining's average_precision: 0.274954\tvalid_1's binary_logloss: 0.105636\tvalid_1's auc: 0.851783\tvalid_1's average_precision: 0.170163\n",
      "[600]\ttraining's binary_logloss: 0.102529\ttraining's auc: 0.887346\ttraining's average_precision: 0.292047\tvalid_1's binary_logloss: 0.105458\tvalid_1's auc: 0.852584\tvalid_1's average_precision: 0.171464\n",
      "[700]\ttraining's binary_logloss: 0.101136\ttraining's auc: 0.891654\ttraining's average_precision: 0.308899\tvalid_1's binary_logloss: 0.105381\tvalid_1's auc: 0.853046\tvalid_1's average_precision: 0.172051\n",
      "[800]\ttraining's binary_logloss: 0.0998152\ttraining's auc: 0.895797\ttraining's average_precision: 0.324953\tvalid_1's binary_logloss: 0.105376\tvalid_1's auc: 0.853085\tvalid_1's average_precision: 0.172215\n",
      "[900]\ttraining's binary_logloss: 0.0985765\ttraining's auc: 0.89948\ttraining's average_precision: 0.341703\tvalid_1's binary_logloss: 0.105349\tvalid_1's auc: 0.853241\tvalid_1's average_precision: 0.172273\n",
      "Early stopping, best iteration is:\n",
      "[861]\ttraining's binary_logloss: 0.0990433\ttraining's auc: 0.898099\ttraining's average_precision: 0.335399\tvalid_1's binary_logloss: 0.105329\tvalid_1's auc: 0.853262\tvalid_1's average_precision: 0.172535\n",
      "Fold 5\n",
      "Training until validation scores don't improve for 100 rounds\n",
      "[100]\ttraining's binary_logloss: 0.109348\ttraining's auc: 0.853391\ttraining's average_precision: 0.192355\tvalid_1's binary_logloss: 0.121196\tvalid_1's auc: 0.835644\tvalid_1's average_precision: 0.175147\n",
      "[200]\ttraining's binary_logloss: 0.106184\ttraining's auc: 0.865608\ttraining's average_precision: 0.217413\tvalid_1's binary_logloss: 0.119409\tvalid_1's auc: 0.843059\tvalid_1's average_precision: 0.185045\n",
      "[300]\ttraining's binary_logloss: 0.10413\ttraining's auc: 0.873404\ttraining's average_precision: 0.236592\tvalid_1's binary_logloss: 0.118661\tvalid_1's auc: 0.846331\tvalid_1's average_precision: 0.189375\n",
      "[400]\ttraining's binary_logloss: 0.102385\ttraining's auc: 0.879563\ttraining's average_precision: 0.25531\tvalid_1's binary_logloss: 0.118289\tvalid_1's auc: 0.847715\tvalid_1's average_precision: 0.191825\n",
      "[500]\ttraining's binary_logloss: 0.100762\ttraining's auc: 0.884978\ttraining's average_precision: 0.274538\tvalid_1's binary_logloss: 0.118091\tvalid_1's auc: 0.848561\tvalid_1's average_precision: 0.19315\n",
      "[600]\ttraining's binary_logloss: 0.0992658\ttraining's auc: 0.890132\ttraining's average_precision: 0.292823\tvalid_1's binary_logloss: 0.117925\tvalid_1's auc: 0.849338\tvalid_1's average_precision: 0.193801\n",
      "[700]\ttraining's binary_logloss: 0.0978167\ttraining's auc: 0.894667\ttraining's average_precision: 0.311528\tvalid_1's binary_logloss: 0.117848\tvalid_1's auc: 0.849697\tvalid_1's average_precision: 0.194475\n",
      "Early stopping, best iteration is:\n",
      "[666]\ttraining's binary_logloss: 0.0983186\ttraining's auc: 0.89301\ttraining's average_precision: 0.304997\tvalid_1's binary_logloss: 0.117858\tvalid_1's auc: 0.849606\tvalid_1's average_precision: 0.194644\n"
     ]
    },
    {
     "data": {
      "image/png": "[encoded data removed]",
      "text/plain": [
       "<Figure size 640x480 with 1 Axes>"
      ]
     },
     "metadata": {},
     "output_type": "display_data"
    },
    {
     "data": {
      "image/png": "[encoded data removed]",
      "text/plain": [
       "<Figure size 640x480 with 1 Axes>"
      ]
     },
     "metadata": {},
     "output_type": "display_data"
    },
    {
     "name": "stdout",
     "output_type": "stream",
     "text": [
      "0.6886318308286218\n"
     ]
    },
    {
     "data": {
      "image/png": "[encoded data removed]",
      "text/plain": [
       "<Figure size 640x480 with 1 Axes>"
      ]
     },
     "metadata": {},
     "output_type": "display_data"
    },
    {
     "data": {
      "text/html": [
       "<div>\n",
       "<style scoped>\n",
       "    .dataframe tbody tr th:only-of-type {\n",
       "        vertical-align: middle;\n",
       "    }\n",
       "\n",
       "    .dataframe tbody tr th {\n",
       "        vertical-align: top;\n",
       "    }\n",
       "\n",
       "    .dataframe thead th {\n",
       "        text-align: right;\n",
       "    }\n",
       "</style>\n",
       "<table border=\"1\" class=\"dataframe\">\n",
       "  <thead>\n",
       "    <tr style=\"text-align: right;\">\n",
       "      <th></th>\n",
       "      <th>WEEK_NUM</th>\n",
       "      <th>Gini</th>\n",
       "    </tr>\n",
       "  </thead>\n",
       "  <tbody>\n",
       "    <tr>\n",
       "      <th>0</th>\n",
       "      <td>0</td>\n",
       "      <td>0.617798</td>\n",
       "    </tr>\n",
       "    <tr>\n",
       "      <th>1</th>\n",
       "      <td>1</td>\n",
       "      <td>0.672679</td>\n",
       "    </tr>\n",
       "    <tr>\n",
       "      <th>2</th>\n",
       "      <td>2</td>\n",
       "      <td>0.657392</td>\n",
       "    </tr>\n",
       "    <tr>\n",
       "      <th>3</th>\n",
       "      <td>3</td>\n",
       "      <td>0.663564</td>\n",
       "    </tr>\n",
       "    <tr>\n",
       "      <th>4</th>\n",
       "      <td>4</td>\n",
       "      <td>0.680238</td>\n",
       "    </tr>\n",
       "    <tr>\n",
       "      <th>...</th>\n",
       "      <td>...</td>\n",
       "      <td>...</td>\n",
       "    </tr>\n",
       "    <tr>\n",
       "      <th>87</th>\n",
       "      <td>87</td>\n",
       "      <td>0.776610</td>\n",
       "    </tr>\n",
       "    <tr>\n",
       "      <th>88</th>\n",
       "      <td>88</td>\n",
       "      <td>0.766446</td>\n",
       "    </tr>\n",
       "    <tr>\n",
       "      <th>89</th>\n",
       "      <td>89</td>\n",
       "      <td>0.725012</td>\n",
       "    </tr>\n",
       "    <tr>\n",
       "      <th>90</th>\n",
       "      <td>90</td>\n",
       "      <td>0.739010</td>\n",
       "    </tr>\n",
       "    <tr>\n",
       "      <th>91</th>\n",
       "      <td>91</td>\n",
       "      <td>0.782956</td>\n",
       "    </tr>\n",
       "  </tbody>\n",
       "</table>\n",
       "<p>92 rows × 2 columns</p>\n",
       "</div>"
      ],
      "text/plain": [
       "    WEEK_NUM      Gini\n",
       "0          0  0.617798\n",
       "1          1  0.672679\n",
       "2          2  0.657392\n",
       "3          3  0.663564\n",
       "4          4  0.680238\n",
       "..       ...       ...\n",
       "87        87  0.776610\n",
       "88        88  0.766446\n",
       "89        89  0.725012\n",
       "90        90  0.739010\n",
       "91        91  0.782956\n",
       "\n",
       "[92 rows x 2 columns]"
      ]
     },
     "metadata": {},
     "output_type": "display_data"
    },
    {
     "data": {
      "text/plain": [
       "0.6886318308286218"
      ]
     },
     "metadata": {},
     "output_type": "display_data"
    }
   ],
   "source": [
    "if MODE == 'train':\n",
    "    # study = optimize(X, y, cv=False)\n",
    "    # print(study.best_params)\n",
    "\n",
    "    # # retrain with the best params\n",
    "    # params.update(study.best_params)\n",
    "    oof = train(X, y)\n",
    "    df_gini_weeks, stability = evaluate(y, oof, y.index)\n",
    "    display(df_gini_weeks)\n",
    "    display(stability)\n",
    "\n",
    "else:\n",
    "    models = []\n",
    "    for i in range(5):\n",
    "        model_path = MODEL_DIR.joinpath(f'model_{i}.pkl')\n",
    "        with open(model_path, 'rb') as model_path:\n",
    "            model = pickle.load(model_path)\n",
    "            models.append(model)\n",
    "    submit = pd.read_csv(COMPETITION_DIR.joinpath('sample_submission.csv'))\n",
    "    submit = predict(models, submit, X)\n",
    "    submit.to_csv(Path('submission.csv'), index=False)\n",
    "    display(submit)"
   ]
  },
  {
   "cell_type": "code",
   "execution_count": 6,
   "metadata": {},
   "outputs": [],
   "source": [
    "# reload study from sql\n",
    "study = optuna.load_study(\n",
    "    study_name='lgbm-group-tune',\n",
    "    storage=f'sqlite:///{MODEL_DIR}/study.db',\n",
    ")"
   ]
  },
  {
   "cell_type": "code",
   "execution_count": 7,
   "metadata": {},
   "outputs": [
    {
     "data": {
      "text/plain": [
       "{'feature_fraction': 0.8252389166368176,\n",
       " 'lambda_l1': 9.791900843835457,\n",
       " 'lambda_l2': 7.511904149115363,\n",
       " 'num_leaves': 30,\n",
       " 'bagging_fraction': 0.5628920345673979,\n",
       " 'bagging_freq': 7}"
      ]
     },
     "execution_count": 7,
     "metadata": {},
     "output_type": "execute_result"
    }
   ],
   "source": [
    "study.best_params"
   ]
  },
  {
   "cell_type": "code",
   "execution_count": null,
   "metadata": {},
   "outputs": [
    {
     "data": {
      "application/vnd.plotly.v1+json": {
       "config": {
        "plotlyServerURL": "https://plot.ly"
       },
       "data": [
        {
         "mode": "markers",
         "name": "Objective Value",
         "type": "scatter",
         "x": [
          0,
          1,
          2,
          3,
          4,
          5,
          6,
          7,
          8,
          9,
          10,
          11,
          12,
          13,
          14,
          15,
          16,
          17,
          18,
          19,
          20,
          21,
          22,
          23,
          24,
          25,
          26,
          27,
          28,
          29,
          30,
          31,
          32,
          33,
          34,
          35,
          36,
          37,
          38,
          39,
          40,
          41,
          42,
          43,
          44,
          45,
          46,
          47,
          48,
          49,
          50,
          51,
          52,
          53,
          54,
          55,
          56,
          57,
          58,
          59,
          60,
          61,
          62,
          63,
          64,
          65,
          66,
          67,
          68,
          69,
          70,
          71,
          72,
          73,
          74,
          75,
          76,
          77,
          78,
          79,
          80,
          81,
          82,
          83,
          84,
          85,
          86,
          87,
          88,
          89,
          90,
          91,
          92,
          93,
          94,
          95,
          96,
          97,
          98,
          99
         ],
         "y": [
          0.11300855032768611,
          0.11346710180827918,
          0.11326447147267803,
          0.11057235943637705,
          0.11309320947714253,
          0.11149908291763808,
          0.11310857835647233,
          0.11329821799226639,
          0.11334591671362938,
          0.11280490014960101,
          0.11025675484162617,
          0.11081166545489164,
          0.11083980478515232,
          0.1104134835644495,
          0.11231875931805475,
          0.11174965884591542,
          0.11048957355983777,
          0.11172489288152455,
          0.1128595170803678,
          0.11081818200880617,
          0.11231300789802355,
          0.1106458078291237,
          0.11105478105491128,
          0.11056971694403496,
          0.1112385486474552,
          0.11149299587976484,
          0.1120862780002073,
          0.11144158027708477,
          0.11075921873963929,
          0.11257035636158472,
          0.1118922146871382,
          0.11057384045795172,
          0.11094296769792635,
          0.11093199779317878,
          0.11027271346681958,
          0.11098201109711835,
          0.11132899025282368,
          0.11178598965906815,
          0.1109238373675254,
          0.11185790286682885,
          0.1127817488713133,
          0.11093089538393087,
          0.11049203105594205,
          0.11154893695075112,
          0.11056935042194148,
          0.11151775683732,
          0.11077639559151548,
          0.11153136052141122,
          0.11138352312526563,
          0.11189395758254542,
          0.11108799491752301,
          0.11063160235524686,
          0.11100326589326504,
          0.11105288412698652,
          0.11073942511550018,
          0.11089736422358958,
          0.1118333260715663,
          0.11175146666825332,
          0.11036139276354445,
          0.11054935525729788,
          0.1117507439946854,
          0.11040839182671766,
          0.11073234928747987,
          0.11026187464493624,
          0.11065394023151963,
          0.11114116327828641,
          0.11161417126372629,
          0.11063053442058131,
          0.11115043289021831,
          0.11065958750024701,
          0.11182662443513608,
          0.11052999922122862,
          0.11109668099041103,
          0.11067722537677908,
          0.11107156378370267,
          0.11029668846290462,
          0.11061295996298728,
          0.11121650248017649,
          0.11150128431296176,
          0.1110948388757322,
          0.11132264959386357,
          0.11057008859916309,
          0.11050039984799719,
          0.1108056568192179,
          0.1111188819360631,
          0.11140879793687165,
          0.11085320922819324,
          0.11082421784085682,
          0.11116207001925424,
          0.11190136168216691,
          0.11056191996254665,
          0.11047471719475412,
          0.1119558308433579,
          0.1104674473404311,
          0.11066112864984869,
          0.11032447831004624,
          0.11118295227931635,
          0.11131676267884327,
          0.11051949998973626,
          0.11073954918689148
         ]
        },
        {
         "mode": "lines",
         "name": "Best Value",
         "type": "scatter",
         "x": [
          0,
          1,
          2,
          3,
          4,
          5,
          6,
          7,
          8,
          9,
          10,
          11,
          12,
          13,
          14,
          15,
          16,
          17,
          18,
          19,
          20,
          21,
          22,
          23,
          24,
          25,
          26,
          27,
          28,
          29,
          30,
          31,
          32,
          33,
          34,
          35,
          36,
          37,
          38,
          39,
          40,
          41,
          42,
          43,
          44,
          45,
          46,
          47,
          48,
          49,
          50,
          51,
          52,
          53,
          54,
          55,
          56,
          57,
          58,
          59,
          60,
          61,
          62,
          63,
          64,
          65,
          66,
          67,
          68,
          69,
          70,
          71,
          72,
          73,
          74,
          75,
          76,
          77,
          78,
          79,
          80,
          81,
          82,
          83,
          84,
          85,
          86,
          87,
          88,
          89,
          90,
          91,
          92,
          93,
          94,
          95,
          96,
          97,
          98,
          99
         ],
         "y": [
          0.11300855032768611,
          0.11300855032768611,
          0.11300855032768611,
          0.11057235943637705,
          0.11057235943637705,
          0.11057235943637705,
          0.11057235943637705,
          0.11057235943637705,
          0.11057235943637705,
          0.11057235943637705,
          0.11025675484162617,
          0.11025675484162617,
          0.11025675484162617,
          0.11025675484162617,
          0.11025675484162617,
          0.11025675484162617,
          0.11025675484162617,
          0.11025675484162617,
          0.11025675484162617,
          0.11025675484162617,
          0.11025675484162617,
          0.11025675484162617,
          0.11025675484162617,
          0.11025675484162617,
          0.11025675484162617,
          0.11025675484162617,
          0.11025675484162617,
          0.11025675484162617,
          0.11025675484162617,
          0.11025675484162617,
          0.11025675484162617,
          0.11025675484162617,
          0.11025675484162617,
          0.11025675484162617,
          0.11025675484162617,
          0.11025675484162617,
          0.11025675484162617,
          0.11025675484162617,
          0.11025675484162617,
          0.11025675484162617,
          0.11025675484162617,
          0.11025675484162617,
          0.11025675484162617,
          0.11025675484162617,
          0.11025675484162617,
          0.11025675484162617,
          0.11025675484162617,
          0.11025675484162617,
          0.11025675484162617,
          0.11025675484162617,
          0.11025675484162617,
          0.11025675484162617,
          0.11025675484162617,
          0.11025675484162617,
          0.11025675484162617,
          0.11025675484162617,
          0.11025675484162617,
          0.11025675484162617,
          0.11025675484162617,
          0.11025675484162617,
          0.11025675484162617,
          0.11025675484162617,
          0.11025675484162617,
          0.11025675484162617,
          0.11025675484162617,
          0.11025675484162617,
          0.11025675484162617,
          0.11025675484162617,
          0.11025675484162617,
          0.11025675484162617,
          0.11025675484162617,
          0.11025675484162617,
          0.11025675484162617,
          0.11025675484162617,
          0.11025675484162617,
          0.11025675484162617,
          0.11025675484162617,
          0.11025675484162617,
          0.11025675484162617,
          0.11025675484162617,
          0.11025675484162617,
          0.11025675484162617,
          0.11025675484162617,
          0.11025675484162617,
          0.11025675484162617,
          0.11025675484162617,
          0.11025675484162617,
          0.11025675484162617,
          0.11025675484162617,
          0.11025675484162617,
          0.11025675484162617,
          0.11025675484162617,
          0.11025675484162617,
          0.11025675484162617,
          0.11025675484162617,
          0.11025675484162617,
          0.11025675484162617,
          0.11025675484162617,
          0.11025675484162617,
          0.11025675484162617
         ]
        },
        {
         "marker": {
          "color": "#cccccc"
         },
         "mode": "markers",
         "name": "Infeasible Trial",
         "showlegend": false,
         "type": "scatter",
         "x": [],
         "y": []
        }
       ],
       "layout": {
        "template": {
         "data": {
          "bar": [
           {
            "error_x": {
             "color": "#2a3f5f"
            },
            "error_y": {
             "color": "#2a3f5f"
            },
            "marker": {
             "line": {
              "color": "#E5ECF6",
              "width": 0.5
             },
             "pattern": {
              "fillmode": "overlay",
              "size": 10,
              "solidity": 0.2
             }
            },
            "type": "bar"
           }
          ],
          "barpolar": [
           {
            "marker": {
             "line": {
              "color": "#E5ECF6",
              "width": 0.5
             },
             "pattern": {
              "fillmode": "overlay",
              "size": 10,
              "solidity": 0.2
             }
            },
            "type": "barpolar"
           }
          ],
          "carpet": [
           {
            "aaxis": {
             "endlinecolor": "#2a3f5f",
             "gridcolor": "white",
             "linecolor": "white",
             "minorgridcolor": "white",
             "startlinecolor": "#2a3f5f"
            },
            "baxis": {
             "endlinecolor": "#2a3f5f",
             "gridcolor": "white",
             "linecolor": "white",
             "minorgridcolor": "white",
             "startlinecolor": "#2a3f5f"
            },
            "type": "carpet"
           }
          ],
          "choropleth": [
           {
            "colorbar": {
             "outlinewidth": 0,
             "ticks": ""
            },
            "type": "choropleth"
           }
          ],
          "contour": [
           {
            "colorbar": {
             "outlinewidth": 0,
             "ticks": ""
            },
            "colorscale": [
             [
              0,
              "#0d0887"
             ],
             [
              0.1111111111111111,
              "#46039f"
             ],
             [
              0.2222222222222222,
              "#7201a8"
             ],
             [
              0.3333333333333333,
              "#9c179e"
             ],
             [
              0.4444444444444444,
              "#bd3786"
             ],
             [
              0.5555555555555556,
              "#d8576b"
             ],
             [
              0.6666666666666666,
              "#ed7953"
             ],
             [
              0.7777777777777778,
              "#fb9f3a"
             ],
             [
              0.8888888888888888,
              "#fdca26"
             ],
             [
              1,
              "#f0f921"
             ]
            ],
            "type": "contour"
           }
          ],
          "contourcarpet": [
           {
            "colorbar": {
             "outlinewidth": 0,
             "ticks": ""
            },
            "type": "contourcarpet"
           }
          ],
          "heatmap": [
           {
            "colorbar": {
             "outlinewidth": 0,
             "ticks": ""
            },
            "colorscale": [
             [
              0,
              "#0d0887"
             ],
             [
              0.1111111111111111,
              "#46039f"
             ],
             [
              0.2222222222222222,
              "#7201a8"
             ],
             [
              0.3333333333333333,
              "#9c179e"
             ],
             [
              0.4444444444444444,
              "#bd3786"
             ],
             [
              0.5555555555555556,
              "#d8576b"
             ],
             [
              0.6666666666666666,
              "#ed7953"
             ],
             [
              0.7777777777777778,
              "#fb9f3a"
             ],
             [
              0.8888888888888888,
              "#fdca26"
             ],
             [
              1,
              "#f0f921"
             ]
            ],
            "type": "heatmap"
           }
          ],
          "heatmapgl": [
           {
            "colorbar": {
             "outlinewidth": 0,
             "ticks": ""
            },
            "colorscale": [
             [
              0,
              "#0d0887"
             ],
             [
              0.1111111111111111,
              "#46039f"
             ],
             [
              0.2222222222222222,
              "#7201a8"
             ],
             [
              0.3333333333333333,
              "#9c179e"
             ],
             [
              0.4444444444444444,
              "#bd3786"
             ],
             [
              0.5555555555555556,
              "#d8576b"
             ],
             [
              0.6666666666666666,
              "#ed7953"
             ],
             [
              0.7777777777777778,
              "#fb9f3a"
             ],
             [
              0.8888888888888888,
              "#fdca26"
             ],
             [
              1,
              "#f0f921"
             ]
            ],
            "type": "heatmapgl"
           }
          ],
          "histogram": [
           {
            "marker": {
             "pattern": {
              "fillmode": "overlay",
              "size": 10,
              "solidity": 0.2
             }
            },
            "type": "histogram"
           }
          ],
          "histogram2d": [
           {
            "colorbar": {
             "outlinewidth": 0,
             "ticks": ""
            },
            "colorscale": [
             [
              0,
              "#0d0887"
             ],
             [
              0.1111111111111111,
              "#46039f"
             ],
             [
              0.2222222222222222,
              "#7201a8"
             ],
             [
              0.3333333333333333,
              "#9c179e"
             ],
             [
              0.4444444444444444,
              "#bd3786"
             ],
             [
              0.5555555555555556,
              "#d8576b"
             ],
             [
              0.6666666666666666,
              "#ed7953"
             ],
             [
              0.7777777777777778,
              "#fb9f3a"
             ],
             [
              0.8888888888888888,
              "#fdca26"
             ],
             [
              1,
              "#f0f921"
             ]
            ],
            "type": "histogram2d"
           }
          ],
          "histogram2dcontour": [
           {
            "colorbar": {
             "outlinewidth": 0,
             "ticks": ""
            },
            "colorscale": [
             [
              0,
              "#0d0887"
             ],
             [
              0.1111111111111111,
              "#46039f"
             ],
             [
              0.2222222222222222,
              "#7201a8"
             ],
             [
              0.3333333333333333,
              "#9c179e"
             ],
             [
              0.4444444444444444,
              "#bd3786"
             ],
             [
              0.5555555555555556,
              "#d8576b"
             ],
             [
              0.6666666666666666,
              "#ed7953"
             ],
             [
              0.7777777777777778,
              "#fb9f3a"
             ],
             [
              0.8888888888888888,
              "#fdca26"
             ],
             [
              1,
              "#f0f921"
             ]
            ],
            "type": "histogram2dcontour"
           }
          ],
          "mesh3d": [
           {
            "colorbar": {
             "outlinewidth": 0,
             "ticks": ""
            },
            "type": "mesh3d"
           }
          ],
          "parcoords": [
           {
            "line": {
             "colorbar": {
              "outlinewidth": 0,
              "ticks": ""
             }
            },
            "type": "parcoords"
           }
          ],
          "pie": [
           {
            "automargin": true,
            "type": "pie"
           }
          ],
          "scatter": [
           {
            "fillpattern": {
             "fillmode": "overlay",
             "size": 10,
             "solidity": 0.2
            },
            "type": "scatter"
           }
          ],
          "scatter3d": [
           {
            "line": {
             "colorbar": {
              "outlinewidth": 0,
              "ticks": ""
             }
            },
            "marker": {
             "colorbar": {
              "outlinewidth": 0,
              "ticks": ""
             }
            },
            "type": "scatter3d"
           }
          ],
          "scattercarpet": [
           {
            "marker": {
             "colorbar": {
              "outlinewidth": 0,
              "ticks": ""
             }
            },
            "type": "scattercarpet"
           }
          ],
          "scattergeo": [
           {
            "marker": {
             "colorbar": {
              "outlinewidth": 0,
              "ticks": ""
             }
            },
            "type": "scattergeo"
           }
          ],
          "scattergl": [
           {
            "marker": {
             "colorbar": {
              "outlinewidth": 0,
              "ticks": ""
             }
            },
            "type": "scattergl"
           }
          ],
          "scattermapbox": [
           {
            "marker": {
             "colorbar": {
              "outlinewidth": 0,
              "ticks": ""
             }
            },
            "type": "scattermapbox"
           }
          ],
          "scatterpolar": [
           {
            "marker": {
             "colorbar": {
              "outlinewidth": 0,
              "ticks": ""
             }
            },
            "type": "scatterpolar"
           }
          ],
          "scatterpolargl": [
           {
            "marker": {
             "colorbar": {
              "outlinewidth": 0,
              "ticks": ""
             }
            },
            "type": "scatterpolargl"
           }
          ],
          "scatterternary": [
           {
            "marker": {
             "colorbar": {
              "outlinewidth": 0,
              "ticks": ""
             }
            },
            "type": "scatterternary"
           }
          ],
          "surface": [
           {
            "colorbar": {
             "outlinewidth": 0,
             "ticks": ""
            },
            "colorscale": [
             [
              0,
              "#0d0887"
             ],
             [
              0.1111111111111111,
              "#46039f"
             ],
             [
              0.2222222222222222,
              "#7201a8"
             ],
             [
              0.3333333333333333,
              "#9c179e"
             ],
             [
              0.4444444444444444,
              "#bd3786"
             ],
             [
              0.5555555555555556,
              "#d8576b"
             ],
             [
              0.6666666666666666,
              "#ed7953"
             ],
             [
              0.7777777777777778,
              "#fb9f3a"
             ],
             [
              0.8888888888888888,
              "#fdca26"
             ],
             [
              1,
              "#f0f921"
             ]
            ],
            "type": "surface"
           }
          ],
          "table": [
           {
            "cells": {
             "fill": {
              "color": "#EBF0F8"
             },
             "line": {
              "color": "white"
             }
            },
            "header": {
             "fill": {
              "color": "#C8D4E3"
             },
             "line": {
              "color": "white"
             }
            },
            "type": "table"
           }
          ]
         },
         "layout": {
          "annotationdefaults": {
           "arrowcolor": "#2a3f5f",
           "arrowhead": 0,
           "arrowwidth": 1
          },
          "autotypenumbers": "strict",
          "coloraxis": {
           "colorbar": {
            "outlinewidth": 0,
            "ticks": ""
           }
          },
          "colorscale": {
           "diverging": [
            [
             0,
             "#8e0152"
            ],
            [
             0.1,
             "#c51b7d"
            ],
            [
             0.2,
             "#de77ae"
            ],
            [
             0.3,
             "#f1b6da"
            ],
            [
             0.4,
             "#fde0ef"
            ],
            [
             0.5,
             "#f7f7f7"
            ],
            [
             0.6,
             "#e6f5d0"
            ],
            [
             0.7,
             "#b8e186"
            ],
            [
             0.8,
             "#7fbc41"
            ],
            [
             0.9,
             "#4d9221"
            ],
            [
             1,
             "#276419"
            ]
           ],
           "sequential": [
            [
             0,
             "#0d0887"
            ],
            [
             0.1111111111111111,
             "#46039f"
            ],
            [
             0.2222222222222222,
             "#7201a8"
            ],
            [
             0.3333333333333333,
             "#9c179e"
            ],
            [
             0.4444444444444444,
             "#bd3786"
            ],
            [
             0.5555555555555556,
             "#d8576b"
            ],
            [
             0.6666666666666666,
             "#ed7953"
            ],
            [
             0.7777777777777778,
             "#fb9f3a"
            ],
            [
             0.8888888888888888,
             "#fdca26"
            ],
            [
             1,
             "#f0f921"
            ]
           ],
           "sequentialminus": [
            [
             0,
             "#0d0887"
            ],
            [
             0.1111111111111111,
             "#46039f"
            ],
            [
             0.2222222222222222,
             "#7201a8"
            ],
            [
             0.3333333333333333,
             "#9c179e"
            ],
            [
             0.4444444444444444,
             "#bd3786"
            ],
            [
             0.5555555555555556,
             "#d8576b"
            ],
            [
             0.6666666666666666,
             "#ed7953"
            ],
            [
             0.7777777777777778,
             "#fb9f3a"
            ],
            [
             0.8888888888888888,
             "#fdca26"
            ],
            [
             1,
             "#f0f921"
            ]
           ]
          },
          "colorway": [
           "#636efa",
           "#EF553B",
           "#00cc96",
           "#ab63fa",
           "#FFA15A",
           "#19d3f3",
           "#FF6692",
           "#B6E880",
           "#FF97FF",
           "#FECB52"
          ],
          "font": {
           "color": "#2a3f5f"
          },
          "geo": {
           "bgcolor": "white",
           "lakecolor": "white",
           "landcolor": "#E5ECF6",
           "showlakes": true,
           "showland": true,
           "subunitcolor": "white"
          },
          "hoverlabel": {
           "align": "left"
          },
          "hovermode": "closest",
          "mapbox": {
           "style": "light"
          },
          "paper_bgcolor": "white",
          "plot_bgcolor": "#E5ECF6",
          "polar": {
           "angularaxis": {
            "gridcolor": "white",
            "linecolor": "white",
            "ticks": ""
           },
           "bgcolor": "#E5ECF6",
           "radialaxis": {
            "gridcolor": "white",
            "linecolor": "white",
            "ticks": ""
           }
          },
          "scene": {
           "xaxis": {
            "backgroundcolor": "#E5ECF6",
            "gridcolor": "white",
            "gridwidth": 2,
            "linecolor": "white",
            "showbackground": true,
            "ticks": "",
            "zerolinecolor": "white"
           },
           "yaxis": {
            "backgroundcolor": "#E5ECF6",
            "gridcolor": "white",
            "gridwidth": 2,
            "linecolor": "white",
            "showbackground": true,
            "ticks": "",
            "zerolinecolor": "white"
           },
           "zaxis": {
            "backgroundcolor": "#E5ECF6",
            "gridcolor": "white",
            "gridwidth": 2,
            "linecolor": "white",
            "showbackground": true,
            "ticks": "",
            "zerolinecolor": "white"
           }
          },
          "shapedefaults": {
           "line": {
            "color": "#2a3f5f"
           }
          },
          "ternary": {
           "aaxis": {
            "gridcolor": "white",
            "linecolor": "white",
            "ticks": ""
           },
           "baxis": {
            "gridcolor": "white",
            "linecolor": "white",
            "ticks": ""
           },
           "bgcolor": "#E5ECF6",
           "caxis": {
            "gridcolor": "white",
            "linecolor": "white",
            "ticks": ""
           }
          },
          "title": {
           "x": 0.05
          },
          "xaxis": {
           "automargin": true,
           "gridcolor": "white",
           "linecolor": "white",
           "ticks": "",
           "title": {
            "standoff": 15
           },
           "zerolinecolor": "white",
           "zerolinewidth": 2
          },
          "yaxis": {
           "automargin": true,
           "gridcolor": "white",
           "linecolor": "white",
           "ticks": "",
           "title": {
            "standoff": 15
           },
           "zerolinecolor": "white",
           "zerolinewidth": 2
          }
         }
        },
        "title": {
         "text": "Optimization History Plot"
        },
        "xaxis": {
         "title": {
          "text": "Trial"
         }
        },
        "yaxis": {
         "title": {
          "text": "Objective Value"
         }
        }
       }
      }
     },
     "metadata": {},
     "output_type": "display_data"
    }
   ],
   "source": [
    "optuna.visualization.plot_optimization_history(study)"
   ]
  },
  {
   "cell_type": "code",
   "execution_count": null,
   "metadata": {},
   "outputs": [
    {
     "data": {
      "application/vnd.plotly.v1+json": {
       "config": {
        "plotlyServerURL": "https://plot.ly"
       },
       "data": [
        {
         "cliponaxis": false,
         "hovertemplate": [
          "feature_fraction (FloatDistribution): 0.025062337033148543<extra></extra>",
          "bagging_freq (IntDistribution): 0.02614580457985952<extra></extra>",
          "bagging_fraction (FloatDistribution): 0.047784896861795344<extra></extra>",
          "lambda_l2 (FloatDistribution): 0.0606244056915697<extra></extra>",
          "num_leaves (IntDistribution): 0.38592483330506683<extra></extra>",
          "lambda_l1 (FloatDistribution): 0.45445772252856015<extra></extra>"
         ],
         "name": "Objective Value",
         "orientation": "h",
         "text": [
          "0.03",
          "0.03",
          "0.05",
          "0.06",
          "0.39",
          "0.45"
         ],
         "textposition": "outside",
         "type": "bar",
         "x": [
          0.025062337033148543,
          0.02614580457985952,
          0.047784896861795344,
          0.0606244056915697,
          0.38592483330506683,
          0.45445772252856015
         ],
         "y": [
          "feature_fraction",
          "bagging_freq",
          "bagging_fraction",
          "lambda_l2",
          "num_leaves",
          "lambda_l1"
         ]
        }
       ],
       "layout": {
        "template": {
         "data": {
          "bar": [
           {
            "error_x": {
             "color": "#2a3f5f"
            },
            "error_y": {
             "color": "#2a3f5f"
            },
            "marker": {
             "line": {
              "color": "#E5ECF6",
              "width": 0.5
             },
             "pattern": {
              "fillmode": "overlay",
              "size": 10,
              "solidity": 0.2
             }
            },
            "type": "bar"
           }
          ],
          "barpolar": [
           {
            "marker": {
             "line": {
              "color": "#E5ECF6",
              "width": 0.5
             },
             "pattern": {
              "fillmode": "overlay",
              "size": 10,
              "solidity": 0.2
             }
            },
            "type": "barpolar"
           }
          ],
          "carpet": [
           {
            "aaxis": {
             "endlinecolor": "#2a3f5f",
             "gridcolor": "white",
             "linecolor": "white",
             "minorgridcolor": "white",
             "startlinecolor": "#2a3f5f"
            },
            "baxis": {
             "endlinecolor": "#2a3f5f",
             "gridcolor": "white",
             "linecolor": "white",
             "minorgridcolor": "white",
             "startlinecolor": "#2a3f5f"
            },
            "type": "carpet"
           }
          ],
          "choropleth": [
           {
            "colorbar": {
             "outlinewidth": 0,
             "ticks": ""
            },
            "type": "choropleth"
           }
          ],
          "contour": [
           {
            "colorbar": {
             "outlinewidth": 0,
             "ticks": ""
            },
            "colorscale": [
             [
              0,
              "#0d0887"
             ],
             [
              0.1111111111111111,
              "#46039f"
             ],
             [
              0.2222222222222222,
              "#7201a8"
             ],
             [
              0.3333333333333333,
              "#9c179e"
             ],
             [
              0.4444444444444444,
              "#bd3786"
             ],
             [
              0.5555555555555556,
              "#d8576b"
             ],
             [
              0.6666666666666666,
              "#ed7953"
             ],
             [
              0.7777777777777778,
              "#fb9f3a"
             ],
             [
              0.8888888888888888,
              "#fdca26"
             ],
             [
              1,
              "#f0f921"
             ]
            ],
            "type": "contour"
           }
          ],
          "contourcarpet": [
           {
            "colorbar": {
             "outlinewidth": 0,
             "ticks": ""
            },
            "type": "contourcarpet"
           }
          ],
          "heatmap": [
           {
            "colorbar": {
             "outlinewidth": 0,
             "ticks": ""
            },
            "colorscale": [
             [
              0,
              "#0d0887"
             ],
             [
              0.1111111111111111,
              "#46039f"
             ],
             [
              0.2222222222222222,
              "#7201a8"
             ],
             [
              0.3333333333333333,
              "#9c179e"
             ],
             [
              0.4444444444444444,
              "#bd3786"
             ],
             [
              0.5555555555555556,
              "#d8576b"
             ],
             [
              0.6666666666666666,
              "#ed7953"
             ],
             [
              0.7777777777777778,
              "#fb9f3a"
             ],
             [
              0.8888888888888888,
              "#fdca26"
             ],
             [
              1,
              "#f0f921"
             ]
            ],
            "type": "heatmap"
           }
          ],
          "heatmapgl": [
           {
            "colorbar": {
             "outlinewidth": 0,
             "ticks": ""
            },
            "colorscale": [
             [
              0,
              "#0d0887"
             ],
             [
              0.1111111111111111,
              "#46039f"
             ],
             [
              0.2222222222222222,
              "#7201a8"
             ],
             [
              0.3333333333333333,
              "#9c179e"
             ],
             [
              0.4444444444444444,
              "#bd3786"
             ],
             [
              0.5555555555555556,
              "#d8576b"
             ],
             [
              0.6666666666666666,
              "#ed7953"
             ],
             [
              0.7777777777777778,
              "#fb9f3a"
             ],
             [
              0.8888888888888888,
              "#fdca26"
             ],
             [
              1,
              "#f0f921"
             ]
            ],
            "type": "heatmapgl"
           }
          ],
          "histogram": [
           {
            "marker": {
             "pattern": {
              "fillmode": "overlay",
              "size": 10,
              "solidity": 0.2
             }
            },
            "type": "histogram"
           }
          ],
          "histogram2d": [
           {
            "colorbar": {
             "outlinewidth": 0,
             "ticks": ""
            },
            "colorscale": [
             [
              0,
              "#0d0887"
             ],
             [
              0.1111111111111111,
              "#46039f"
             ],
             [
              0.2222222222222222,
              "#7201a8"
             ],
             [
              0.3333333333333333,
              "#9c179e"
             ],
             [
              0.4444444444444444,
              "#bd3786"
             ],
             [
              0.5555555555555556,
              "#d8576b"
             ],
             [
              0.6666666666666666,
              "#ed7953"
             ],
             [
              0.7777777777777778,
              "#fb9f3a"
             ],
             [
              0.8888888888888888,
              "#fdca26"
             ],
             [
              1,
              "#f0f921"
             ]
            ],
            "type": "histogram2d"
           }
          ],
          "histogram2dcontour": [
           {
            "colorbar": {
             "outlinewidth": 0,
             "ticks": ""
            },
            "colorscale": [
             [
              0,
              "#0d0887"
             ],
             [
              0.1111111111111111,
              "#46039f"
             ],
             [
              0.2222222222222222,
              "#7201a8"
             ],
             [
              0.3333333333333333,
              "#9c179e"
             ],
             [
              0.4444444444444444,
              "#bd3786"
             ],
             [
              0.5555555555555556,
              "#d8576b"
             ],
             [
              0.6666666666666666,
              "#ed7953"
             ],
             [
              0.7777777777777778,
              "#fb9f3a"
             ],
             [
              0.8888888888888888,
              "#fdca26"
             ],
             [
              1,
              "#f0f921"
             ]
            ],
            "type": "histogram2dcontour"
           }
          ],
          "mesh3d": [
           {
            "colorbar": {
             "outlinewidth": 0,
             "ticks": ""
            },
            "type": "mesh3d"
           }
          ],
          "parcoords": [
           {
            "line": {
             "colorbar": {
              "outlinewidth": 0,
              "ticks": ""
             }
            },
            "type": "parcoords"
           }
          ],
          "pie": [
           {
            "automargin": true,
            "type": "pie"
           }
          ],
          "scatter": [
           {
            "fillpattern": {
             "fillmode": "overlay",
             "size": 10,
             "solidity": 0.2
            },
            "type": "scatter"
           }
          ],
          "scatter3d": [
           {
            "line": {
             "colorbar": {
              "outlinewidth": 0,
              "ticks": ""
             }
            },
            "marker": {
             "colorbar": {
              "outlinewidth": 0,
              "ticks": ""
             }
            },
            "type": "scatter3d"
           }
          ],
          "scattercarpet": [
           {
            "marker": {
             "colorbar": {
              "outlinewidth": 0,
              "ticks": ""
             }
            },
            "type": "scattercarpet"
           }
          ],
          "scattergeo": [
           {
            "marker": {
             "colorbar": {
              "outlinewidth": 0,
              "ticks": ""
             }
            },
            "type": "scattergeo"
           }
          ],
          "scattergl": [
           {
            "marker": {
             "colorbar": {
              "outlinewidth": 0,
              "ticks": ""
             }
            },
            "type": "scattergl"
           }
          ],
          "scattermapbox": [
           {
            "marker": {
             "colorbar": {
              "outlinewidth": 0,
              "ticks": ""
             }
            },
            "type": "scattermapbox"
           }
          ],
          "scatterpolar": [
           {
            "marker": {
             "colorbar": {
              "outlinewidth": 0,
              "ticks": ""
             }
            },
            "type": "scatterpolar"
           }
          ],
          "scatterpolargl": [
           {
            "marker": {
             "colorbar": {
              "outlinewidth": 0,
              "ticks": ""
             }
            },
            "type": "scatterpolargl"
           }
          ],
          "scatterternary": [
           {
            "marker": {
             "colorbar": {
              "outlinewidth": 0,
              "ticks": ""
             }
            },
            "type": "scatterternary"
           }
          ],
          "surface": [
           {
            "colorbar": {
             "outlinewidth": 0,
             "ticks": ""
            },
            "colorscale": [
             [
              0,
              "#0d0887"
             ],
             [
              0.1111111111111111,
              "#46039f"
             ],
             [
              0.2222222222222222,
              "#7201a8"
             ],
             [
              0.3333333333333333,
              "#9c179e"
             ],
             [
              0.4444444444444444,
              "#bd3786"
             ],
             [
              0.5555555555555556,
              "#d8576b"
             ],
             [
              0.6666666666666666,
              "#ed7953"
             ],
             [
              0.7777777777777778,
              "#fb9f3a"
             ],
             [
              0.8888888888888888,
              "#fdca26"
             ],
             [
              1,
              "#f0f921"
             ]
            ],
            "type": "surface"
           }
          ],
          "table": [
           {
            "cells": {
             "fill": {
              "color": "#EBF0F8"
             },
             "line": {
              "color": "white"
             }
            },
            "header": {
             "fill": {
              "color": "#C8D4E3"
             },
             "line": {
              "color": "white"
             }
            },
            "type": "table"
           }
          ]
         },
         "layout": {
          "annotationdefaults": {
           "arrowcolor": "#2a3f5f",
           "arrowhead": 0,
           "arrowwidth": 1
          },
          "autotypenumbers": "strict",
          "coloraxis": {
           "colorbar": {
            "outlinewidth": 0,
            "ticks": ""
           }
          },
          "colorscale": {
           "diverging": [
            [
             0,
             "#8e0152"
            ],
            [
             0.1,
             "#c51b7d"
            ],
            [
             0.2,
             "#de77ae"
            ],
            [
             0.3,
             "#f1b6da"
            ],
            [
             0.4,
             "#fde0ef"
            ],
            [
             0.5,
             "#f7f7f7"
            ],
            [
             0.6,
             "#e6f5d0"
            ],
            [
             0.7,
             "#b8e186"
            ],
            [
             0.8,
             "#7fbc41"
            ],
            [
             0.9,
             "#4d9221"
            ],
            [
             1,
             "#276419"
            ]
           ],
           "sequential": [
            [
             0,
             "#0d0887"
            ],
            [
             0.1111111111111111,
             "#46039f"
            ],
            [
             0.2222222222222222,
             "#7201a8"
            ],
            [
             0.3333333333333333,
             "#9c179e"
            ],
            [
             0.4444444444444444,
             "#bd3786"
            ],
            [
             0.5555555555555556,
             "#d8576b"
            ],
            [
             0.6666666666666666,
             "#ed7953"
            ],
            [
             0.7777777777777778,
             "#fb9f3a"
            ],
            [
             0.8888888888888888,
             "#fdca26"
            ],
            [
             1,
             "#f0f921"
            ]
           ],
           "sequentialminus": [
            [
             0,
             "#0d0887"
            ],
            [
             0.1111111111111111,
             "#46039f"
            ],
            [
             0.2222222222222222,
             "#7201a8"
            ],
            [
             0.3333333333333333,
             "#9c179e"
            ],
            [
             0.4444444444444444,
             "#bd3786"
            ],
            [
             0.5555555555555556,
             "#d8576b"
            ],
            [
             0.6666666666666666,
             "#ed7953"
            ],
            [
             0.7777777777777778,
             "#fb9f3a"
            ],
            [
             0.8888888888888888,
             "#fdca26"
            ],
            [
             1,
             "#f0f921"
            ]
           ]
          },
          "colorway": [
           "#636efa",
           "#EF553B",
           "#00cc96",
           "#ab63fa",
           "#FFA15A",
           "#19d3f3",
           "#FF6692",
           "#B6E880",
           "#FF97FF",
           "#FECB52"
          ],
          "font": {
           "color": "#2a3f5f"
          },
          "geo": {
           "bgcolor": "white",
           "lakecolor": "white",
           "landcolor": "#E5ECF6",
           "showlakes": true,
           "showland": true,
           "subunitcolor": "white"
          },
          "hoverlabel": {
           "align": "left"
          },
          "hovermode": "closest",
          "mapbox": {
           "style": "light"
          },
          "paper_bgcolor": "white",
          "plot_bgcolor": "#E5ECF6",
          "polar": {
           "angularaxis": {
            "gridcolor": "white",
            "linecolor": "white",
            "ticks": ""
           },
           "bgcolor": "#E5ECF6",
           "radialaxis": {
            "gridcolor": "white",
            "linecolor": "white",
            "ticks": ""
           }
          },
          "scene": {
           "xaxis": {
            "backgroundcolor": "#E5ECF6",
            "gridcolor": "white",
            "gridwidth": 2,
            "linecolor": "white",
            "showbackground": true,
            "ticks": "",
            "zerolinecolor": "white"
           },
           "yaxis": {
            "backgroundcolor": "#E5ECF6",
            "gridcolor": "white",
            "gridwidth": 2,
            "linecolor": "white",
            "showbackground": true,
            "ticks": "",
            "zerolinecolor": "white"
           },
           "zaxis": {
            "backgroundcolor": "#E5ECF6",
            "gridcolor": "white",
            "gridwidth": 2,
            "linecolor": "white",
            "showbackground": true,
            "ticks": "",
            "zerolinecolor": "white"
           }
          },
          "shapedefaults": {
           "line": {
            "color": "#2a3f5f"
           }
          },
          "ternary": {
           "aaxis": {
            "gridcolor": "white",
            "linecolor": "white",
            "ticks": ""
           },
           "baxis": {
            "gridcolor": "white",
            "linecolor": "white",
            "ticks": ""
           },
           "bgcolor": "#E5ECF6",
           "caxis": {
            "gridcolor": "white",
            "linecolor": "white",
            "ticks": ""
           }
          },
          "title": {
           "x": 0.05
          },
          "xaxis": {
           "automargin": true,
           "gridcolor": "white",
           "linecolor": "white",
           "ticks": "",
           "title": {
            "standoff": 15
           },
           "zerolinecolor": "white",
           "zerolinewidth": 2
          },
          "yaxis": {
           "automargin": true,
           "gridcolor": "white",
           "linecolor": "white",
           "ticks": "",
           "title": {
            "standoff": 15
           },
           "zerolinecolor": "white",
           "zerolinewidth": 2
          }
         }
        },
        "title": {
         "text": "Hyperparameter Importances"
        },
        "xaxis": {
         "title": {
          "text": "Hyperparameter Importance"
         }
        },
        "yaxis": {
         "title": {
          "text": "Hyperparameter"
         }
        }
       }
      }
     },
     "metadata": {},
     "output_type": "display_data"
    }
   ],
   "source": [
    "optuna.visualization.plot_param_importances(study)"
   ]
  },
  {
   "cell_type": "code",
   "execution_count": null,
   "metadata": {},
   "outputs": [
    {
     "data": {
      "application/vnd.plotly.v1+json": {
       "config": {
        "plotlyServerURL": "https://plot.ly"
       },
       "data": [
        {
         "marker": {
          "color": [
           0,
           1,
           2,
           3,
           4,
           5,
           6,
           7,
           8,
           9,
           10,
           11,
           12,
           13,
           14,
           15,
           16,
           17,
           18,
           19,
           20,
           21,
           22,
           23,
           24,
           25,
           26,
           27,
           28,
           29,
           30,
           31,
           32,
           33,
           34,
           35,
           36,
           37,
           38,
           39,
           40,
           41,
           42,
           43,
           44,
           45,
           46,
           47,
           48,
           49,
           50,
           51,
           52,
           53,
           54,
           55,
           56,
           57,
           58,
           59,
           60,
           61,
           62,
           63,
           64,
           65,
           66,
           67,
           68,
           69,
           70,
           71,
           72,
           73,
           74,
           75,
           76,
           77,
           78,
           79,
           80,
           81,
           82,
           83,
           84,
           85,
           86,
           87,
           88,
           89,
           90,
           91,
           92,
           93,
           94,
           95,
           96,
           97,
           98,
           99
          ],
          "colorbar": {
           "title": {
            "text": "Trial"
           },
           "x": 1,
           "xpad": 40
          },
          "colorscale": [
           [
            0,
            "rgb(247,251,255)"
           ],
           [
            0.125,
            "rgb(222,235,247)"
           ],
           [
            0.25,
            "rgb(198,219,239)"
           ],
           [
            0.375,
            "rgb(158,202,225)"
           ],
           [
            0.5,
            "rgb(107,174,214)"
           ],
           [
            0.625,
            "rgb(66,146,198)"
           ],
           [
            0.75,
            "rgb(33,113,181)"
           ],
           [
            0.875,
            "rgb(8,81,156)"
           ],
           [
            1,
            "rgb(8,48,107)"
           ]
          ],
          "line": {
           "color": "Grey",
           "width": 0.5
          },
          "showscale": true
         },
         "mode": "markers",
         "name": "Feasible Trial",
         "showlegend": false,
         "type": "scatter",
         "x": [
          0.6066721591502989,
          0.9512406679331895,
          0.8230028511160352,
          0.5184013913809771,
          0.7858613619514973,
          0.43986584329440026,
          0.8517537342165583,
          0.9055583963573264,
          0.6547208477721069,
          0.4501387755283267,
          0.5628920345673979,
          0.5500686964166205,
          0.5435770575118117,
          0.7212470003575093,
          0.7323842917707483,
          0.689744939507025,
          0.6121202981572978,
          0.7497408992525068,
          0.6476617902816576,
          0.40615974953070066,
          0.4813006793341281,
          0.5940553324046975,
          0.6674647512733491,
          0.6122999227952662,
          0.7157340678559564,
          0.5762898004162672,
          0.6392355900314539,
          0.771452577038785,
          0.5002814645543783,
          0.6108172064588203,
          0.6942560102014885,
          0.5799058432270303,
          0.6214056909424165,
          0.5472376495738919,
          0.6779928439468513,
          0.8050471208622965,
          0.8595016034850592,
          0.979435510588964,
          0.6825413238955844,
          0.7449168779411455,
          0.8388382112494659,
          0.6247512463801616,
          0.521140830204073,
          0.5011510035456053,
          0.5631996068527442,
          0.5306000189601456,
          0.4576258340575922,
          0.7145460406502431,
          0.6612220532751157,
          0.7777103255720951,
          0.5143630281248467,
          0.5673279703190978,
          0.5574341127083162,
          0.5906856765237988,
          0.5296588680050576,
          0.43292711877413803,
          0.4733342293289461,
          0.6446703146220599,
          0.6707431901368138,
          0.6755175081468993,
          0.7102265075566949,
          0.6740410457974133,
          0.730367463823338,
          0.6946975652521846,
          0.7566090989895614,
          0.6401482268316611,
          0.6919118070327548,
          0.667464718727341,
          0.7308440238418832,
          0.5994321780805919,
          0.6261979022959098,
          0.6605738434472319,
          0.7026522847868844,
          0.6824062884102563,
          0.5845844995792095,
          0.6097114197680997,
          0.6095318874697062,
          0.6446886863807764,
          0.6274309000314501,
          0.6986376678792299,
          0.7214492389339313,
          0.7552401700368341,
          0.6741153416875513,
          0.790625312312283,
          0.6027220562964346,
          0.5359881397273903,
          0.657867270929221,
          0.9073233202235443,
          0.5117442082928672,
          0.578807806730142,
          0.6879996227220359,
          0.6756926312123993,
          0.7430073968818733,
          0.627076209141711,
          0.6327448082533786,
          0.6521281171911995,
          0.6486758232227583,
          0.7110692421264106,
          0.6187364945017764,
          0.6727783597164562
         ],
         "xaxis": "x",
         "y": [
          0.11300855032768611,
          0.11346710180827918,
          0.11326447147267803,
          0.11057235943637705,
          0.11309320947714253,
          0.11149908291763808,
          0.11310857835647233,
          0.11329821799226639,
          0.11334591671362938,
          0.11280490014960101,
          0.11025675484162617,
          0.11081166545489164,
          0.11083980478515232,
          0.1104134835644495,
          0.11231875931805475,
          0.11174965884591542,
          0.11048957355983777,
          0.11172489288152455,
          0.1128595170803678,
          0.11081818200880617,
          0.11231300789802355,
          0.1106458078291237,
          0.11105478105491128,
          0.11056971694403496,
          0.1112385486474552,
          0.11149299587976484,
          0.1120862780002073,
          0.11144158027708477,
          0.11075921873963929,
          0.11257035636158472,
          0.1118922146871382,
          0.11057384045795172,
          0.11094296769792635,
          0.11093199779317878,
          0.11027271346681958,
          0.11098201109711835,
          0.11132899025282368,
          0.11178598965906815,
          0.1109238373675254,
          0.11185790286682885,
          0.1127817488713133,
          0.11093089538393087,
          0.11049203105594205,
          0.11154893695075112,
          0.11056935042194148,
          0.11151775683732,
          0.11077639559151548,
          0.11153136052141122,
          0.11138352312526563,
          0.11189395758254542,
          0.11108799491752301,
          0.11063160235524686,
          0.11100326589326504,
          0.11105288412698652,
          0.11073942511550018,
          0.11089736422358958,
          0.1118333260715663,
          0.11175146666825332,
          0.11036139276354445,
          0.11054935525729788,
          0.1117507439946854,
          0.11040839182671766,
          0.11073234928747987,
          0.11026187464493624,
          0.11065394023151963,
          0.11114116327828641,
          0.11161417126372629,
          0.11063053442058131,
          0.11115043289021831,
          0.11065958750024701,
          0.11182662443513608,
          0.11052999922122862,
          0.11109668099041103,
          0.11067722537677908,
          0.11107156378370267,
          0.11029668846290462,
          0.11061295996298728,
          0.11121650248017649,
          0.11150128431296176,
          0.1110948388757322,
          0.11132264959386357,
          0.11057008859916309,
          0.11050039984799719,
          0.1108056568192179,
          0.1111188819360631,
          0.11140879793687165,
          0.11085320922819324,
          0.11082421784085682,
          0.11116207001925424,
          0.11190136168216691,
          0.11056191996254665,
          0.11047471719475412,
          0.1119558308433579,
          0.1104674473404311,
          0.11066112864984869,
          0.11032447831004624,
          0.11118295227931635,
          0.11131676267884327,
          0.11051949998973626,
          0.11073954918689148
         ],
         "yaxis": "y"
        },
        {
         "marker": {
          "color": [
           0,
           1,
           2,
           3,
           4,
           5,
           6,
           7,
           8,
           9,
           10,
           11,
           12,
           13,
           14,
           15,
           16,
           17,
           18,
           19,
           20,
           21,
           22,
           23,
           24,
           25,
           26,
           27,
           28,
           29,
           30,
           31,
           32,
           33,
           34,
           35,
           36,
           37,
           38,
           39,
           40,
           41,
           42,
           43,
           44,
           45,
           46,
           47,
           48,
           49,
           50,
           51,
           52,
           53,
           54,
           55,
           56,
           57,
           58,
           59,
           60,
           61,
           62,
           63,
           64,
           65,
           66,
           67,
           68,
           69,
           70,
           71,
           72,
           73,
           74,
           75,
           76,
           77,
           78,
           79,
           80,
           81,
           82,
           83,
           84,
           85,
           86,
           87,
           88,
           89,
           90,
           91,
           92,
           93,
           94,
           95,
           96,
           97,
           98,
           99
          ],
          "colorbar": {
           "title": {
            "text": "Trial"
           },
           "x": 1,
           "xpad": 40
          },
          "colorscale": [
           [
            0,
            "rgb(247,251,255)"
           ],
           [
            0.125,
            "rgb(222,235,247)"
           ],
           [
            0.25,
            "rgb(198,219,239)"
           ],
           [
            0.375,
            "rgb(158,202,225)"
           ],
           [
            0.5,
            "rgb(107,174,214)"
           ],
           [
            0.625,
            "rgb(66,146,198)"
           ],
           [
            0.75,
            "rgb(33,113,181)"
           ],
           [
            0.875,
            "rgb(8,81,156)"
           ],
           [
            1,
            "rgb(8,48,107)"
           ]
          ],
          "line": {
           "color": "Grey",
           "width": 0.5
          },
          "showscale": false
         },
         "mode": "markers",
         "name": "Feasible Trial",
         "showlegend": false,
         "type": "scatter",
         "x": [
          4,
          5,
          1,
          2,
          3,
          4,
          1,
          3,
          2,
          5,
          7,
          6,
          7,
          7,
          7,
          6,
          7,
          6,
          5,
          7,
          6,
          7,
          7,
          6,
          7,
          6,
          5,
          7,
          6,
          4,
          7,
          6,
          7,
          5,
          6,
          7,
          6,
          5,
          7,
          6,
          3,
          6,
          7,
          7,
          7,
          7,
          7,
          2,
          6,
          5,
          4,
          7,
          7,
          1,
          7,
          7,
          6,
          7,
          6,
          6,
          5,
          6,
          6,
          6,
          5,
          6,
          6,
          6,
          5,
          6,
          3,
          7,
          7,
          7,
          6,
          7,
          6,
          6,
          5,
          7,
          4,
          7,
          7,
          7,
          7,
          6,
          7,
          6,
          7,
          7,
          7,
          7,
          7,
          7,
          7,
          6,
          6,
          6,
          6,
          5
         ],
         "xaxis": "x2",
         "y": [
          0.11300855032768611,
          0.11346710180827918,
          0.11326447147267803,
          0.11057235943637705,
          0.11309320947714253,
          0.11149908291763808,
          0.11310857835647233,
          0.11329821799226639,
          0.11334591671362938,
          0.11280490014960101,
          0.11025675484162617,
          0.11081166545489164,
          0.11083980478515232,
          0.1104134835644495,
          0.11231875931805475,
          0.11174965884591542,
          0.11048957355983777,
          0.11172489288152455,
          0.1128595170803678,
          0.11081818200880617,
          0.11231300789802355,
          0.1106458078291237,
          0.11105478105491128,
          0.11056971694403496,
          0.1112385486474552,
          0.11149299587976484,
          0.1120862780002073,
          0.11144158027708477,
          0.11075921873963929,
          0.11257035636158472,
          0.1118922146871382,
          0.11057384045795172,
          0.11094296769792635,
          0.11093199779317878,
          0.11027271346681958,
          0.11098201109711835,
          0.11132899025282368,
          0.11178598965906815,
          0.1109238373675254,
          0.11185790286682885,
          0.1127817488713133,
          0.11093089538393087,
          0.11049203105594205,
          0.11154893695075112,
          0.11056935042194148,
          0.11151775683732,
          0.11077639559151548,
          0.11153136052141122,
          0.11138352312526563,
          0.11189395758254542,
          0.11108799491752301,
          0.11063160235524686,
          0.11100326589326504,
          0.11105288412698652,
          0.11073942511550018,
          0.11089736422358958,
          0.1118333260715663,
          0.11175146666825332,
          0.11036139276354445,
          0.11054935525729788,
          0.1117507439946854,
          0.11040839182671766,
          0.11073234928747987,
          0.11026187464493624,
          0.11065394023151963,
          0.11114116327828641,
          0.11161417126372629,
          0.11063053442058131,
          0.11115043289021831,
          0.11065958750024701,
          0.11182662443513608,
          0.11052999922122862,
          0.11109668099041103,
          0.11067722537677908,
          0.11107156378370267,
          0.11029668846290462,
          0.11061295996298728,
          0.11121650248017649,
          0.11150128431296176,
          0.1110948388757322,
          0.11132264959386357,
          0.11057008859916309,
          0.11050039984799719,
          0.1108056568192179,
          0.1111188819360631,
          0.11140879793687165,
          0.11085320922819324,
          0.11082421784085682,
          0.11116207001925424,
          0.11190136168216691,
          0.11056191996254665,
          0.11047471719475412,
          0.1119558308433579,
          0.1104674473404311,
          0.11066112864984869,
          0.11032447831004624,
          0.11118295227931635,
          0.11131676267884327,
          0.11051949998973626,
          0.11073954918689148
         ],
         "yaxis": "y2"
        },
        {
         "marker": {
          "color": [
           0,
           1,
           2,
           3,
           4,
           5,
           6,
           7,
           8,
           9,
           10,
           11,
           12,
           13,
           14,
           15,
           16,
           17,
           18,
           19,
           20,
           21,
           22,
           23,
           24,
           25,
           26,
           27,
           28,
           29,
           30,
           31,
           32,
           33,
           34,
           35,
           36,
           37,
           38,
           39,
           40,
           41,
           42,
           43,
           44,
           45,
           46,
           47,
           48,
           49,
           50,
           51,
           52,
           53,
           54,
           55,
           56,
           57,
           58,
           59,
           60,
           61,
           62,
           63,
           64,
           65,
           66,
           67,
           68,
           69,
           70,
           71,
           72,
           73,
           74,
           75,
           76,
           77,
           78,
           79,
           80,
           81,
           82,
           83,
           84,
           85,
           86,
           87,
           88,
           89,
           90,
           91,
           92,
           93,
           94,
           95,
           96,
           97,
           98,
           99
          ],
          "colorbar": {
           "title": {
            "text": "Trial"
           },
           "x": 1,
           "xpad": 40
          },
          "colorscale": [
           [
            0,
            "rgb(247,251,255)"
           ],
           [
            0.125,
            "rgb(222,235,247)"
           ],
           [
            0.25,
            "rgb(198,219,239)"
           ],
           [
            0.375,
            "rgb(158,202,225)"
           ],
           [
            0.5,
            "rgb(107,174,214)"
           ],
           [
            0.625,
            "rgb(66,146,198)"
           ],
           [
            0.75,
            "rgb(33,113,181)"
           ],
           [
            0.875,
            "rgb(8,81,156)"
           ],
           [
            1,
            "rgb(8,48,107)"
           ]
          ],
          "line": {
           "color": "Grey",
           "width": 0.5
          },
          "showscale": false
         },
         "mode": "markers",
         "name": "Feasible Trial",
         "showlegend": false,
         "type": "scatter",
         "x": [
          0.9326584398328479,
          0.6561196396312878,
          0.5739403476577157,
          0.4769802793243531,
          0.5378243419053065,
          0.4094688689191721,
          0.42167711132577,
          0.9285112683042583,
          0.9341290905898565,
          0.6446257700205262,
          0.8252389166368176,
          0.7986848718624044,
          0.8104135195197828,
          0.7878008232318725,
          0.7876028277404908,
          0.7225203857870663,
          0.866480094200747,
          0.7112662547454767,
          0.9979017312658915,
          0.8523834453444056,
          0.7474554777958157,
          0.8644201763484654,
          0.8645253225654167,
          0.7604390599535151,
          0.8415034304285199,
          0.6545091665771937,
          0.9117682089852176,
          0.9870187582167804,
          0.8809351049892195,
          0.8204173062937611,
          0.7649283902438203,
          0.7558411143184743,
          0.6766152433724845,
          0.7799785816114921,
          0.8999020942786378,
          0.8987113469015472,
          0.9576445463899121,
          0.8299263136559909,
          0.6150967606051989,
          0.9565655602183282,
          0.8908505496607186,
          0.7310927556680447,
          0.6852627946193758,
          0.8191754286649222,
          0.5568232478824569,
          0.49349989148140017,
          0.6881932005452225,
          0.6198106179529631,
          0.9265351706409226,
          0.7978251605648018,
          0.7071338175484346,
          0.5473172526170675,
          0.46954768939465663,
          0.5759786806820997,
          0.8595869671526487,
          0.5146078587862872,
          0.45351307923692696,
          0.40069733188507617,
          0.622987222625398,
          0.6693592652605826,
          0.6455076349014786,
          0.6185706876106125,
          0.6099108272024305,
          0.5755979394348042,
          0.5768106604720353,
          0.6285136937194018,
          0.849239033887707,
          0.5889757423673921,
          0.514562110690418,
          0.8791966490819241,
          0.7805557040391108,
          0.595827117644439,
          0.7303082248356599,
          0.6584651508471051,
          0.6363013341243422,
          0.6919597374808836,
          0.8352846767057842,
          0.8009360165426858,
          0.9219582763702805,
          0.7459095073956761,
          0.8749556782020381,
          0.6971651658188258,
          0.6782170239312804,
          0.9069386790898186,
          0.6091044826592529,
          0.5580598097149135,
          0.6529603850786876,
          0.945152320065081,
          0.6919195435145558,
          0.7724766625641198,
          0.7131602625884621,
          0.6760715362291412,
          0.667366046665438,
          0.6380460341372974,
          0.6336310845010106,
          0.605230883182593,
          0.5964722450613474,
          0.6246456982435206,
          0.5337121066089016,
          0.5680790311381422
         ],
         "xaxis": "x3",
         "y": [
          0.11300855032768611,
          0.11346710180827918,
          0.11326447147267803,
          0.11057235943637705,
          0.11309320947714253,
          0.11149908291763808,
          0.11310857835647233,
          0.11329821799226639,
          0.11334591671362938,
          0.11280490014960101,
          0.11025675484162617,
          0.11081166545489164,
          0.11083980478515232,
          0.1104134835644495,
          0.11231875931805475,
          0.11174965884591542,
          0.11048957355983777,
          0.11172489288152455,
          0.1128595170803678,
          0.11081818200880617,
          0.11231300789802355,
          0.1106458078291237,
          0.11105478105491128,
          0.11056971694403496,
          0.1112385486474552,
          0.11149299587976484,
          0.1120862780002073,
          0.11144158027708477,
          0.11075921873963929,
          0.11257035636158472,
          0.1118922146871382,
          0.11057384045795172,
          0.11094296769792635,
          0.11093199779317878,
          0.11027271346681958,
          0.11098201109711835,
          0.11132899025282368,
          0.11178598965906815,
          0.1109238373675254,
          0.11185790286682885,
          0.1127817488713133,
          0.11093089538393087,
          0.11049203105594205,
          0.11154893695075112,
          0.11056935042194148,
          0.11151775683732,
          0.11077639559151548,
          0.11153136052141122,
          0.11138352312526563,
          0.11189395758254542,
          0.11108799491752301,
          0.11063160235524686,
          0.11100326589326504,
          0.11105288412698652,
          0.11073942511550018,
          0.11089736422358958,
          0.1118333260715663,
          0.11175146666825332,
          0.11036139276354445,
          0.11054935525729788,
          0.1117507439946854,
          0.11040839182671766,
          0.11073234928747987,
          0.11026187464493624,
          0.11065394023151963,
          0.11114116327828641,
          0.11161417126372629,
          0.11063053442058131,
          0.11115043289021831,
          0.11065958750024701,
          0.11182662443513608,
          0.11052999922122862,
          0.11109668099041103,
          0.11067722537677908,
          0.11107156378370267,
          0.11029668846290462,
          0.11061295996298728,
          0.11121650248017649,
          0.11150128431296176,
          0.1110948388757322,
          0.11132264959386357,
          0.11057008859916309,
          0.11050039984799719,
          0.1108056568192179,
          0.1111188819360631,
          0.11140879793687165,
          0.11085320922819324,
          0.11082421784085682,
          0.11116207001925424,
          0.11190136168216691,
          0.11056191996254665,
          0.11047471719475412,
          0.1119558308433579,
          0.1104674473404311,
          0.11066112864984869,
          0.11032447831004624,
          0.11118295227931635,
          0.11131676267884327,
          0.11051949998973626,
          0.11073954918689148
         ],
         "yaxis": "y3"
        },
        {
         "marker": {
          "color": [
           0,
           1,
           2,
           3,
           4,
           5,
           6,
           7,
           8,
           9,
           10,
           11,
           12,
           13,
           14,
           15,
           16,
           17,
           18,
           19,
           20,
           21,
           22,
           23,
           24,
           25,
           26,
           27,
           28,
           29,
           30,
           31,
           32,
           33,
           34,
           35,
           36,
           37,
           38,
           39,
           40,
           41,
           42,
           43,
           44,
           45,
           46,
           47,
           48,
           49,
           50,
           51,
           52,
           53,
           54,
           55,
           56,
           57,
           58,
           59,
           60,
           61,
           62,
           63,
           64,
           65,
           66,
           67,
           68,
           69,
           70,
           71,
           72,
           73,
           74,
           75,
           76,
           77,
           78,
           79,
           80,
           81,
           82,
           83,
           84,
           85,
           86,
           87,
           88,
           89,
           90,
           91,
           92,
           93,
           94,
           95,
           96,
           97,
           98,
           99
          ],
          "colorbar": {
           "title": {
            "text": "Trial"
           },
           "x": 1,
           "xpad": 40
          },
          "colorscale": [
           [
            0,
            "rgb(247,251,255)"
           ],
           [
            0.125,
            "rgb(222,235,247)"
           ],
           [
            0.25,
            "rgb(198,219,239)"
           ],
           [
            0.375,
            "rgb(158,202,225)"
           ],
           [
            0.5,
            "rgb(107,174,214)"
           ],
           [
            0.625,
            "rgb(66,146,198)"
           ],
           [
            0.75,
            "rgb(33,113,181)"
           ],
           [
            0.875,
            "rgb(8,81,156)"
           ],
           [
            1,
            "rgb(8,48,107)"
           ]
          ],
          "line": {
           "color": "Grey",
           "width": 0.5
          },
          "showscale": false
         },
         "mode": "markers",
         "name": "Feasible Trial",
         "showlegend": false,
         "type": "scatter",
         "x": [
          0.39233009817501135,
          0.000011392751769807845,
          0.0001012225782676912,
          1.6639294098252972,
          0.021080475758205073,
          0.1364244264856086,
          8.495361441935643e-8,
          0.0029768788042018753,
          0.00003145394962587813,
          1.1641336896350066e-7,
          9.791900843835457,
          2.1731973234791035,
          8.450880815131613,
          6.9060124853045,
          0.0038924718316658133,
          0.07432896694881132,
          7.200440349643826,
          0.0000022271725354243466,
          0.000788480273722254,
          0.44907221531616526,
          0.02308158037022946,
          9.794025174935024,
          1.612536331348741,
          9.449422425012092,
          0.6437862433683421,
          0.10807198228997655,
          0.021607622489757353,
          2.366606653090187,
          0.36151545199537477,
          6.083336547800727e-7,
          0.5510687567630874,
          9.079992919082363,
          3.5410538710928674,
          1.1508129511694296,
          9.705906370167986,
          1.162374137267203e-8,
          0.28016107140125723,
          2.997035401624994,
          0.059136545651060086,
          0.00010031943148640094,
          0.007269232611438774,
          3.84094779849793,
          8.72131682986419,
          1.073253042959094,
          4.231634794135851,
          0.18346167788969603,
          1.0516356801766242,
          5.010236831993464,
          1.451818434851392,
          0.0005262593595204363,
          0.053889877647554596,
          3.4324290884363537,
          5.131640218315894,
          0.6676856129305442,
          6.610494879152197,
          2.097735135999339,
          0.1692067021390638,
          0.000008167847246601005,
          5.042502692643995,
          9.705793090396565,
          0.6858036098921764,
          9.660642025118845,
          1.8696596272724255,
          5.706229249078329,
          2.9447885627343857,
          0.3306418467749019,
          1.0821616467875956,
          5.126526506196961,
          2.3995588638587537,
          5.8103913948649035,
          0.7455113992975857,
          9.879945833582859,
          1.6177976798902851,
          5.969817710422585,
          2.5347678631124166,
          9.543773394868474,
          3.7552461041751566,
          0.4801986392230461,
          0.24540837373208102,
          1.5461539051638458,
          0.0026136252873754416,
          8.532668272099544,
          9.65556075587202,
          4.919803081338084,
          3.287905039674237,
          0.974153051590797,
          5.879255783447995,
          1.9344694150766875,
          3.0570527979696664,
          0.10197640805590494,
          6.267746762724539,
          9.719668208150049,
          0.00012318467191263616,
          9.925614877060449,
          4.334293499449594,
          6.524506828989674,
          2.235445117413912,
          1.3476347550038434,
          6.651290413053569,
          4.14374909972773
         ],
         "xaxis": "x4",
         "y": [
          0.11300855032768611,
          0.11346710180827918,
          0.11326447147267803,
          0.11057235943637705,
          0.11309320947714253,
          0.11149908291763808,
          0.11310857835647233,
          0.11329821799226639,
          0.11334591671362938,
          0.11280490014960101,
          0.11025675484162617,
          0.11081166545489164,
          0.11083980478515232,
          0.1104134835644495,
          0.11231875931805475,
          0.11174965884591542,
          0.11048957355983777,
          0.11172489288152455,
          0.1128595170803678,
          0.11081818200880617,
          0.11231300789802355,
          0.1106458078291237,
          0.11105478105491128,
          0.11056971694403496,
          0.1112385486474552,
          0.11149299587976484,
          0.1120862780002073,
          0.11144158027708477,
          0.11075921873963929,
          0.11257035636158472,
          0.1118922146871382,
          0.11057384045795172,
          0.11094296769792635,
          0.11093199779317878,
          0.11027271346681958,
          0.11098201109711835,
          0.11132899025282368,
          0.11178598965906815,
          0.1109238373675254,
          0.11185790286682885,
          0.1127817488713133,
          0.11093089538393087,
          0.11049203105594205,
          0.11154893695075112,
          0.11056935042194148,
          0.11151775683732,
          0.11077639559151548,
          0.11153136052141122,
          0.11138352312526563,
          0.11189395758254542,
          0.11108799491752301,
          0.11063160235524686,
          0.11100326589326504,
          0.11105288412698652,
          0.11073942511550018,
          0.11089736422358958,
          0.1118333260715663,
          0.11175146666825332,
          0.11036139276354445,
          0.11054935525729788,
          0.1117507439946854,
          0.11040839182671766,
          0.11073234928747987,
          0.11026187464493624,
          0.11065394023151963,
          0.11114116327828641,
          0.11161417126372629,
          0.11063053442058131,
          0.11115043289021831,
          0.11065958750024701,
          0.11182662443513608,
          0.11052999922122862,
          0.11109668099041103,
          0.11067722537677908,
          0.11107156378370267,
          0.11029668846290462,
          0.11061295996298728,
          0.11121650248017649,
          0.11150128431296176,
          0.1110948388757322,
          0.11132264959386357,
          0.11057008859916309,
          0.11050039984799719,
          0.1108056568192179,
          0.1111188819360631,
          0.11140879793687165,
          0.11085320922819324,
          0.11082421784085682,
          0.11116207001925424,
          0.11190136168216691,
          0.11056191996254665,
          0.11047471719475412,
          0.1119558308433579,
          0.1104674473404311,
          0.11066112864984869,
          0.11032447831004624,
          0.11118295227931635,
          0.11131676267884327,
          0.11051949998973626,
          0.11073954918689148
         ],
         "yaxis": "y4"
        },
        {
         "marker": {
          "color": [
           0,
           1,
           2,
           3,
           4,
           5,
           6,
           7,
           8,
           9,
           10,
           11,
           12,
           13,
           14,
           15,
           16,
           17,
           18,
           19,
           20,
           21,
           22,
           23,
           24,
           25,
           26,
           27,
           28,
           29,
           30,
           31,
           32,
           33,
           34,
           35,
           36,
           37,
           38,
           39,
           40,
           41,
           42,
           43,
           44,
           45,
           46,
           47,
           48,
           49,
           50,
           51,
           52,
           53,
           54,
           55,
           56,
           57,
           58,
           59,
           60,
           61,
           62,
           63,
           64,
           65,
           66,
           67,
           68,
           69,
           70,
           71,
           72,
           73,
           74,
           75,
           76,
           77,
           78,
           79,
           80,
           81,
           82,
           83,
           84,
           85,
           86,
           87,
           88,
           89,
           90,
           91,
           92,
           93,
           94,
           95,
           96,
           97,
           98,
           99
          ],
          "colorbar": {
           "title": {
            "text": "Trial"
           },
           "x": 1,
           "xpad": 40
          },
          "colorscale": [
           [
            0,
            "rgb(247,251,255)"
           ],
           [
            0.125,
            "rgb(222,235,247)"
           ],
           [
            0.25,
            "rgb(198,219,239)"
           ],
           [
            0.375,
            "rgb(158,202,225)"
           ],
           [
            0.5,
            "rgb(107,174,214)"
           ],
           [
            0.625,
            "rgb(66,146,198)"
           ],
           [
            0.75,
            "rgb(33,113,181)"
           ],
           [
            0.875,
            "rgb(8,81,156)"
           ],
           [
            1,
            "rgb(8,48,107)"
           ]
          ],
          "line": {
           "color": "Grey",
           "width": 0.5
          },
          "showscale": false
         },
         "mode": "markers",
         "name": "Feasible Trial",
         "showlegend": false,
         "type": "scatter",
         "x": [
          0.000049077218336497575,
          0.00007780476134719482,
          2.0656730309142266e-7,
          7.686879641805749,
          1.2402927290646113e-8,
          0.2299434485610887,
          0.00005493028067031124,
          0.00004321783817701485,
          7.66430833881796e-8,
          0.000005488840982381755,
          7.511904149115363,
          2.4828904241076377,
          0.019595710971166608,
          5.014333280693481,
          0.010314736061465254,
          0.17085755521980142,
          0.003035223807859102,
          0.5635933731772552,
          0.0011923762369562057,
          9.26985103898663,
          0.03313406249419414,
          0.004063327054584796,
          0.8524245063170087,
          0.05116876565281969,
          2.0022984184912267,
          0.001033127001624557,
          0.0000015721384650250985,
          0.07111794042064241,
          1.9367792140824538,
          0.0059838605240724,
          0.27954505004761665,
          0.07318774976600931,
          0.0002900281224112119,
          0.0016294262895561365,
          6.40596069684655,
          8.013673112049242,
          2.160629569343797,
          0.5633997712315013,
          3.6567674363106057,
          0.8160817468640384,
          0.0000023662538428538183,
          0.0002364036902870031,
          0.13126954812009667,
          0.2132350960666313,
          5.207000793997424,
          1.0922157126508363,
          9.89327526758302,
          0.12886736193964737,
          0.011778713066537777,
          0.33226095818229245,
          3.0099253549984164,
          5.428641622044711,
          4.501062932880888,
          1.2526948281775496,
          0.00009138167820195522,
          0.4849383497052368,
          0.00001992455644816824,
          1.0643634603414744e-8,
          0.029358892132630595,
          0.020072533737003597,
          0.0017699086069231755,
          0.024770973897222454,
          0.03199255226200132,
          0.004154817769574635,
          0.0036822601329927567,
          0.0005134694876653332,
          0.006985269351649518,
          0.0024460756944783718,
          0.0007678701588472522,
          0.01427095967671924,
          1.5000603699744225e-7,
          0.027579723651977375,
          0.08372435707322935,
          0.006915473111660452,
          0.13804443826480273,
          0.0408842795753199,
          0.0035456918361297727,
          0.04964164381320937,
          0.00013949523185653574,
          0.00047862587794195963,
          1.6597447022273868,
          0.040790178107324146,
          0.011343307295941976,
          0.09479362011090917,
          0.34074977034699333,
          0.01794670175336432,
          0.7662544728880079,
          2.7440463068170495,
          5.846658334089817,
          0.006393244549186706,
          0.024361895113284585,
          0.011000824520575637,
          0.051234731127224445,
          0.0021873533224738,
          0.002513375738716744,
          0.0014632135903857432,
          0.001129527349519764,
          0.0016135709567682874,
          0.005659059573740686,
          0.008890226159643567
         ],
         "xaxis": "x5",
         "y": [
          0.11300855032768611,
          0.11346710180827918,
          0.11326447147267803,
          0.11057235943637705,
          0.11309320947714253,
          0.11149908291763808,
          0.11310857835647233,
          0.11329821799226639,
          0.11334591671362938,
          0.11280490014960101,
          0.11025675484162617,
          0.11081166545489164,
          0.11083980478515232,
          0.1104134835644495,
          0.11231875931805475,
          0.11174965884591542,
          0.11048957355983777,
          0.11172489288152455,
          0.1128595170803678,
          0.11081818200880617,
          0.11231300789802355,
          0.1106458078291237,
          0.11105478105491128,
          0.11056971694403496,
          0.1112385486474552,
          0.11149299587976484,
          0.1120862780002073,
          0.11144158027708477,
          0.11075921873963929,
          0.11257035636158472,
          0.1118922146871382,
          0.11057384045795172,
          0.11094296769792635,
          0.11093199779317878,
          0.11027271346681958,
          0.11098201109711835,
          0.11132899025282368,
          0.11178598965906815,
          0.1109238373675254,
          0.11185790286682885,
          0.1127817488713133,
          0.11093089538393087,
          0.11049203105594205,
          0.11154893695075112,
          0.11056935042194148,
          0.11151775683732,
          0.11077639559151548,
          0.11153136052141122,
          0.11138352312526563,
          0.11189395758254542,
          0.11108799491752301,
          0.11063160235524686,
          0.11100326589326504,
          0.11105288412698652,
          0.11073942511550018,
          0.11089736422358958,
          0.1118333260715663,
          0.11175146666825332,
          0.11036139276354445,
          0.11054935525729788,
          0.1117507439946854,
          0.11040839182671766,
          0.11073234928747987,
          0.11026187464493624,
          0.11065394023151963,
          0.11114116327828641,
          0.11161417126372629,
          0.11063053442058131,
          0.11115043289021831,
          0.11065958750024701,
          0.11182662443513608,
          0.11052999922122862,
          0.11109668099041103,
          0.11067722537677908,
          0.11107156378370267,
          0.11029668846290462,
          0.11061295996298728,
          0.11121650248017649,
          0.11150128431296176,
          0.1110948388757322,
          0.11132264959386357,
          0.11057008859916309,
          0.11050039984799719,
          0.1108056568192179,
          0.1111188819360631,
          0.11140879793687165,
          0.11085320922819324,
          0.11082421784085682,
          0.11116207001925424,
          0.11190136168216691,
          0.11056191996254665,
          0.11047471719475412,
          0.1119558308433579,
          0.1104674473404311,
          0.11066112864984869,
          0.11032447831004624,
          0.11118295227931635,
          0.11131676267884327,
          0.11051949998973626,
          0.11073954918689148
         ],
         "yaxis": "y5"
        },
        {
         "marker": {
          "color": [
           0,
           1,
           2,
           3,
           4,
           5,
           6,
           7,
           8,
           9,
           10,
           11,
           12,
           13,
           14,
           15,
           16,
           17,
           18,
           19,
           20,
           21,
           22,
           23,
           24,
           25,
           26,
           27,
           28,
           29,
           30,
           31,
           32,
           33,
           34,
           35,
           36,
           37,
           38,
           39,
           40,
           41,
           42,
           43,
           44,
           45,
           46,
           47,
           48,
           49,
           50,
           51,
           52,
           53,
           54,
           55,
           56,
           57,
           58,
           59,
           60,
           61,
           62,
           63,
           64,
           65,
           66,
           67,
           68,
           69,
           70,
           71,
           72,
           73,
           74,
           75,
           76,
           77,
           78,
           79,
           80,
           81,
           82,
           83,
           84,
           85,
           86,
           87,
           88,
           89,
           90,
           91,
           92,
           93,
           94,
           95,
           96,
           97,
           98,
           99
          ],
          "colorbar": {
           "title": {
            "text": "Trial"
           },
           "x": 1,
           "xpad": 40
          },
          "colorscale": [
           [
            0,
            "rgb(247,251,255)"
           ],
           [
            0.125,
            "rgb(222,235,247)"
           ],
           [
            0.25,
            "rgb(198,219,239)"
           ],
           [
            0.375,
            "rgb(158,202,225)"
           ],
           [
            0.5,
            "rgb(107,174,214)"
           ],
           [
            0.625,
            "rgb(66,146,198)"
           ],
           [
            0.75,
            "rgb(33,113,181)"
           ],
           [
            0.875,
            "rgb(8,81,156)"
           ],
           [
            1,
            "rgb(8,48,107)"
           ]
          ],
          "line": {
           "color": "Grey",
           "width": 0.5
          },
          "showscale": false
         },
         "mode": "markers",
         "name": "Feasible Trial",
         "showlegend": false,
         "type": "scatter",
         "x": [
          230,
          236,
          200,
          64,
          180,
          38,
          222,
          238,
          240,
          132,
          30,
          20,
          86,
          66,
          114,
          60,
          14,
          96,
          158,
          54,
          100,
          12,
          36,
          36,
          80,
          16,
          46,
          64,
          28,
          72,
          112,
          42,
          28,
          12,
          56,
          52,
          72,
          178,
          24,
          128,
          148,
          40,
          32,
          54,
          28,
          70,
          92,
          216,
          46,
          84,
          60,
          28,
          256,
          32,
          22,
          20,
          48,
          36,
          12,
          16,
          60,
          14,
          18,
          12,
          14,
          12,
          44,
          22,
          38,
          24,
          52,
          32,
          32,
          40,
          20,
          12,
          12,
          26,
          20,
          12,
          68,
          30,
          34,
          46,
          76,
          26,
          110,
          40,
          170,
          56,
          18,
          36,
          48,
          34,
          24,
          16,
          64,
          38,
          18,
          28
         ],
         "xaxis": "x6",
         "y": [
          0.11300855032768611,
          0.11346710180827918,
          0.11326447147267803,
          0.11057235943637705,
          0.11309320947714253,
          0.11149908291763808,
          0.11310857835647233,
          0.11329821799226639,
          0.11334591671362938,
          0.11280490014960101,
          0.11025675484162617,
          0.11081166545489164,
          0.11083980478515232,
          0.1104134835644495,
          0.11231875931805475,
          0.11174965884591542,
          0.11048957355983777,
          0.11172489288152455,
          0.1128595170803678,
          0.11081818200880617,
          0.11231300789802355,
          0.1106458078291237,
          0.11105478105491128,
          0.11056971694403496,
          0.1112385486474552,
          0.11149299587976484,
          0.1120862780002073,
          0.11144158027708477,
          0.11075921873963929,
          0.11257035636158472,
          0.1118922146871382,
          0.11057384045795172,
          0.11094296769792635,
          0.11093199779317878,
          0.11027271346681958,
          0.11098201109711835,
          0.11132899025282368,
          0.11178598965906815,
          0.1109238373675254,
          0.11185790286682885,
          0.1127817488713133,
          0.11093089538393087,
          0.11049203105594205,
          0.11154893695075112,
          0.11056935042194148,
          0.11151775683732,
          0.11077639559151548,
          0.11153136052141122,
          0.11138352312526563,
          0.11189395758254542,
          0.11108799491752301,
          0.11063160235524686,
          0.11100326589326504,
          0.11105288412698652,
          0.11073942511550018,
          0.11089736422358958,
          0.1118333260715663,
          0.11175146666825332,
          0.11036139276354445,
          0.11054935525729788,
          0.1117507439946854,
          0.11040839182671766,
          0.11073234928747987,
          0.11026187464493624,
          0.11065394023151963,
          0.11114116327828641,
          0.11161417126372629,
          0.11063053442058131,
          0.11115043289021831,
          0.11065958750024701,
          0.11182662443513608,
          0.11052999922122862,
          0.11109668099041103,
          0.11067722537677908,
          0.11107156378370267,
          0.11029668846290462,
          0.11061295996298728,
          0.11121650248017649,
          0.11150128431296176,
          0.1110948388757322,
          0.11132264959386357,
          0.11057008859916309,
          0.11050039984799719,
          0.1108056568192179,
          0.1111188819360631,
          0.11140879793687165,
          0.11085320922819324,
          0.11082421784085682,
          0.11116207001925424,
          0.11190136168216691,
          0.11056191996254665,
          0.11047471719475412,
          0.1119558308433579,
          0.1104674473404311,
          0.11066112864984869,
          0.11032447831004624,
          0.11118295227931635,
          0.11131676267884327,
          0.11051949998973626,
          0.11073954918689148
         ],
         "yaxis": "y6"
        }
       ],
       "layout": {
        "template": {
         "data": {
          "bar": [
           {
            "error_x": {
             "color": "#2a3f5f"
            },
            "error_y": {
             "color": "#2a3f5f"
            },
            "marker": {
             "line": {
              "color": "#E5ECF6",
              "width": 0.5
             },
             "pattern": {
              "fillmode": "overlay",
              "size": 10,
              "solidity": 0.2
             }
            },
            "type": "bar"
           }
          ],
          "barpolar": [
           {
            "marker": {
             "line": {
              "color": "#E5ECF6",
              "width": 0.5
             },
             "pattern": {
              "fillmode": "overlay",
              "size": 10,
              "solidity": 0.2
             }
            },
            "type": "barpolar"
           }
          ],
          "carpet": [
           {
            "aaxis": {
             "endlinecolor": "#2a3f5f",
             "gridcolor": "white",
             "linecolor": "white",
             "minorgridcolor": "white",
             "startlinecolor": "#2a3f5f"
            },
            "baxis": {
             "endlinecolor": "#2a3f5f",
             "gridcolor": "white",
             "linecolor": "white",
             "minorgridcolor": "white",
             "startlinecolor": "#2a3f5f"
            },
            "type": "carpet"
           }
          ],
          "choropleth": [
           {
            "colorbar": {
             "outlinewidth": 0,
             "ticks": ""
            },
            "type": "choropleth"
           }
          ],
          "contour": [
           {
            "colorbar": {
             "outlinewidth": 0,
             "ticks": ""
            },
            "colorscale": [
             [
              0,
              "#0d0887"
             ],
             [
              0.1111111111111111,
              "#46039f"
             ],
             [
              0.2222222222222222,
              "#7201a8"
             ],
             [
              0.3333333333333333,
              "#9c179e"
             ],
             [
              0.4444444444444444,
              "#bd3786"
             ],
             [
              0.5555555555555556,
              "#d8576b"
             ],
             [
              0.6666666666666666,
              "#ed7953"
             ],
             [
              0.7777777777777778,
              "#fb9f3a"
             ],
             [
              0.8888888888888888,
              "#fdca26"
             ],
             [
              1,
              "#f0f921"
             ]
            ],
            "type": "contour"
           }
          ],
          "contourcarpet": [
           {
            "colorbar": {
             "outlinewidth": 0,
             "ticks": ""
            },
            "type": "contourcarpet"
           }
          ],
          "heatmap": [
           {
            "colorbar": {
             "outlinewidth": 0,
             "ticks": ""
            },
            "colorscale": [
             [
              0,
              "#0d0887"
             ],
             [
              0.1111111111111111,
              "#46039f"
             ],
             [
              0.2222222222222222,
              "#7201a8"
             ],
             [
              0.3333333333333333,
              "#9c179e"
             ],
             [
              0.4444444444444444,
              "#bd3786"
             ],
             [
              0.5555555555555556,
              "#d8576b"
             ],
             [
              0.6666666666666666,
              "#ed7953"
             ],
             [
              0.7777777777777778,
              "#fb9f3a"
             ],
             [
              0.8888888888888888,
              "#fdca26"
             ],
             [
              1,
              "#f0f921"
             ]
            ],
            "type": "heatmap"
           }
          ],
          "heatmapgl": [
           {
            "colorbar": {
             "outlinewidth": 0,
             "ticks": ""
            },
            "colorscale": [
             [
              0,
              "#0d0887"
             ],
             [
              0.1111111111111111,
              "#46039f"
             ],
             [
              0.2222222222222222,
              "#7201a8"
             ],
             [
              0.3333333333333333,
              "#9c179e"
             ],
             [
              0.4444444444444444,
              "#bd3786"
             ],
             [
              0.5555555555555556,
              "#d8576b"
             ],
             [
              0.6666666666666666,
              "#ed7953"
             ],
             [
              0.7777777777777778,
              "#fb9f3a"
             ],
             [
              0.8888888888888888,
              "#fdca26"
             ],
             [
              1,
              "#f0f921"
             ]
            ],
            "type": "heatmapgl"
           }
          ],
          "histogram": [
           {
            "marker": {
             "pattern": {
              "fillmode": "overlay",
              "size": 10,
              "solidity": 0.2
             }
            },
            "type": "histogram"
           }
          ],
          "histogram2d": [
           {
            "colorbar": {
             "outlinewidth": 0,
             "ticks": ""
            },
            "colorscale": [
             [
              0,
              "#0d0887"
             ],
             [
              0.1111111111111111,
              "#46039f"
             ],
             [
              0.2222222222222222,
              "#7201a8"
             ],
             [
              0.3333333333333333,
              "#9c179e"
             ],
             [
              0.4444444444444444,
              "#bd3786"
             ],
             [
              0.5555555555555556,
              "#d8576b"
             ],
             [
              0.6666666666666666,
              "#ed7953"
             ],
             [
              0.7777777777777778,
              "#fb9f3a"
             ],
             [
              0.8888888888888888,
              "#fdca26"
             ],
             [
              1,
              "#f0f921"
             ]
            ],
            "type": "histogram2d"
           }
          ],
          "histogram2dcontour": [
           {
            "colorbar": {
             "outlinewidth": 0,
             "ticks": ""
            },
            "colorscale": [
             [
              0,
              "#0d0887"
             ],
             [
              0.1111111111111111,
              "#46039f"
             ],
             [
              0.2222222222222222,
              "#7201a8"
             ],
             [
              0.3333333333333333,
              "#9c179e"
             ],
             [
              0.4444444444444444,
              "#bd3786"
             ],
             [
              0.5555555555555556,
              "#d8576b"
             ],
             [
              0.6666666666666666,
              "#ed7953"
             ],
             [
              0.7777777777777778,
              "#fb9f3a"
             ],
             [
              0.8888888888888888,
              "#fdca26"
             ],
             [
              1,
              "#f0f921"
             ]
            ],
            "type": "histogram2dcontour"
           }
          ],
          "mesh3d": [
           {
            "colorbar": {
             "outlinewidth": 0,
             "ticks": ""
            },
            "type": "mesh3d"
           }
          ],
          "parcoords": [
           {
            "line": {
             "colorbar": {
              "outlinewidth": 0,
              "ticks": ""
             }
            },
            "type": "parcoords"
           }
          ],
          "pie": [
           {
            "automargin": true,
            "type": "pie"
           }
          ],
          "scatter": [
           {
            "fillpattern": {
             "fillmode": "overlay",
             "size": 10,
             "solidity": 0.2
            },
            "type": "scatter"
           }
          ],
          "scatter3d": [
           {
            "line": {
             "colorbar": {
              "outlinewidth": 0,
              "ticks": ""
             }
            },
            "marker": {
             "colorbar": {
              "outlinewidth": 0,
              "ticks": ""
             }
            },
            "type": "scatter3d"
           }
          ],
          "scattercarpet": [
           {
            "marker": {
             "colorbar": {
              "outlinewidth": 0,
              "ticks": ""
             }
            },
            "type": "scattercarpet"
           }
          ],
          "scattergeo": [
           {
            "marker": {
             "colorbar": {
              "outlinewidth": 0,
              "ticks": ""
             }
            },
            "type": "scattergeo"
           }
          ],
          "scattergl": [
           {
            "marker": {
             "colorbar": {
              "outlinewidth": 0,
              "ticks": ""
             }
            },
            "type": "scattergl"
           }
          ],
          "scattermapbox": [
           {
            "marker": {
             "colorbar": {
              "outlinewidth": 0,
              "ticks": ""
             }
            },
            "type": "scattermapbox"
           }
          ],
          "scatterpolar": [
           {
            "marker": {
             "colorbar": {
              "outlinewidth": 0,
              "ticks": ""
             }
            },
            "type": "scatterpolar"
           }
          ],
          "scatterpolargl": [
           {
            "marker": {
             "colorbar": {
              "outlinewidth": 0,
              "ticks": ""
             }
            },
            "type": "scatterpolargl"
           }
          ],
          "scatterternary": [
           {
            "marker": {
             "colorbar": {
              "outlinewidth": 0,
              "ticks": ""
             }
            },
            "type": "scatterternary"
           }
          ],
          "surface": [
           {
            "colorbar": {
             "outlinewidth": 0,
             "ticks": ""
            },
            "colorscale": [
             [
              0,
              "#0d0887"
             ],
             [
              0.1111111111111111,
              "#46039f"
             ],
             [
              0.2222222222222222,
              "#7201a8"
             ],
             [
              0.3333333333333333,
              "#9c179e"
             ],
             [
              0.4444444444444444,
              "#bd3786"
             ],
             [
              0.5555555555555556,
              "#d8576b"
             ],
             [
              0.6666666666666666,
              "#ed7953"
             ],
             [
              0.7777777777777778,
              "#fb9f3a"
             ],
             [
              0.8888888888888888,
              "#fdca26"
             ],
             [
              1,
              "#f0f921"
             ]
            ],
            "type": "surface"
           }
          ],
          "table": [
           {
            "cells": {
             "fill": {
              "color": "#EBF0F8"
             },
             "line": {
              "color": "white"
             }
            },
            "header": {
             "fill": {
              "color": "#C8D4E3"
             },
             "line": {
              "color": "white"
             }
            },
            "type": "table"
           }
          ]
         },
         "layout": {
          "annotationdefaults": {
           "arrowcolor": "#2a3f5f",
           "arrowhead": 0,
           "arrowwidth": 1
          },
          "autotypenumbers": "strict",
          "coloraxis": {
           "colorbar": {
            "outlinewidth": 0,
            "ticks": ""
           }
          },
          "colorscale": {
           "diverging": [
            [
             0,
             "#8e0152"
            ],
            [
             0.1,
             "#c51b7d"
            ],
            [
             0.2,
             "#de77ae"
            ],
            [
             0.3,
             "#f1b6da"
            ],
            [
             0.4,
             "#fde0ef"
            ],
            [
             0.5,
             "#f7f7f7"
            ],
            [
             0.6,
             "#e6f5d0"
            ],
            [
             0.7,
             "#b8e186"
            ],
            [
             0.8,
             "#7fbc41"
            ],
            [
             0.9,
             "#4d9221"
            ],
            [
             1,
             "#276419"
            ]
           ],
           "sequential": [
            [
             0,
             "#0d0887"
            ],
            [
             0.1111111111111111,
             "#46039f"
            ],
            [
             0.2222222222222222,
             "#7201a8"
            ],
            [
             0.3333333333333333,
             "#9c179e"
            ],
            [
             0.4444444444444444,
             "#bd3786"
            ],
            [
             0.5555555555555556,
             "#d8576b"
            ],
            [
             0.6666666666666666,
             "#ed7953"
            ],
            [
             0.7777777777777778,
             "#fb9f3a"
            ],
            [
             0.8888888888888888,
             "#fdca26"
            ],
            [
             1,
             "#f0f921"
            ]
           ],
           "sequentialminus": [
            [
             0,
             "#0d0887"
            ],
            [
             0.1111111111111111,
             "#46039f"
            ],
            [
             0.2222222222222222,
             "#7201a8"
            ],
            [
             0.3333333333333333,
             "#9c179e"
            ],
            [
             0.4444444444444444,
             "#bd3786"
            ],
            [
             0.5555555555555556,
             "#d8576b"
            ],
            [
             0.6666666666666666,
             "#ed7953"
            ],
            [
             0.7777777777777778,
             "#fb9f3a"
            ],
            [
             0.8888888888888888,
             "#fdca26"
            ],
            [
             1,
             "#f0f921"
            ]
           ]
          },
          "colorway": [
           "#636efa",
           "#EF553B",
           "#00cc96",
           "#ab63fa",
           "#FFA15A",
           "#19d3f3",
           "#FF6692",
           "#B6E880",
           "#FF97FF",
           "#FECB52"
          ],
          "font": {
           "color": "#2a3f5f"
          },
          "geo": {
           "bgcolor": "white",
           "lakecolor": "white",
           "landcolor": "#E5ECF6",
           "showlakes": true,
           "showland": true,
           "subunitcolor": "white"
          },
          "hoverlabel": {
           "align": "left"
          },
          "hovermode": "closest",
          "mapbox": {
           "style": "light"
          },
          "paper_bgcolor": "white",
          "plot_bgcolor": "#E5ECF6",
          "polar": {
           "angularaxis": {
            "gridcolor": "white",
            "linecolor": "white",
            "ticks": ""
           },
           "bgcolor": "#E5ECF6",
           "radialaxis": {
            "gridcolor": "white",
            "linecolor": "white",
            "ticks": ""
           }
          },
          "scene": {
           "xaxis": {
            "backgroundcolor": "#E5ECF6",
            "gridcolor": "white",
            "gridwidth": 2,
            "linecolor": "white",
            "showbackground": true,
            "ticks": "",
            "zerolinecolor": "white"
           },
           "yaxis": {
            "backgroundcolor": "#E5ECF6",
            "gridcolor": "white",
            "gridwidth": 2,
            "linecolor": "white",
            "showbackground": true,
            "ticks": "",
            "zerolinecolor": "white"
           },
           "zaxis": {
            "backgroundcolor": "#E5ECF6",
            "gridcolor": "white",
            "gridwidth": 2,
            "linecolor": "white",
            "showbackground": true,
            "ticks": "",
            "zerolinecolor": "white"
           }
          },
          "shapedefaults": {
           "line": {
            "color": "#2a3f5f"
           }
          },
          "ternary": {
           "aaxis": {
            "gridcolor": "white",
            "linecolor": "white",
            "ticks": ""
           },
           "baxis": {
            "gridcolor": "white",
            "linecolor": "white",
            "ticks": ""
           },
           "bgcolor": "#E5ECF6",
           "caxis": {
            "gridcolor": "white",
            "linecolor": "white",
            "ticks": ""
           }
          },
          "title": {
           "x": 0.05
          },
          "xaxis": {
           "automargin": true,
           "gridcolor": "white",
           "linecolor": "white",
           "ticks": "",
           "title": {
            "standoff": 15
           },
           "zerolinecolor": "white",
           "zerolinewidth": 2
          },
          "yaxis": {
           "automargin": true,
           "gridcolor": "white",
           "linecolor": "white",
           "ticks": "",
           "title": {
            "standoff": 15
           },
           "zerolinecolor": "white",
           "zerolinewidth": 2
          }
         }
        },
        "title": {
         "text": "Slice Plot"
        },
        "width": 1800,
        "xaxis": {
         "anchor": "y",
         "domain": [
          0,
          0.1388888888888889
         ],
         "title": {
          "text": "bagging_fraction"
         }
        },
        "xaxis2": {
         "anchor": "y2",
         "domain": [
          0.17222222222222222,
          0.3111111111111111
         ],
         "title": {
          "text": "bagging_freq"
         }
        },
        "xaxis3": {
         "anchor": "y3",
         "domain": [
          0.34444444444444444,
          0.48333333333333334
         ],
         "title": {
          "text": "feature_fraction"
         }
        },
        "xaxis4": {
         "anchor": "y4",
         "domain": [
          0.5166666666666667,
          0.6555555555555557
         ],
         "title": {
          "text": "lambda_l1"
         },
         "type": "log"
        },
        "xaxis5": {
         "anchor": "y5",
         "domain": [
          0.6888888888888889,
          0.8277777777777777
         ],
         "title": {
          "text": "lambda_l2"
         },
         "type": "log"
        },
        "xaxis6": {
         "anchor": "y6",
         "domain": [
          0.861111111111111,
          1
         ],
         "title": {
          "text": "num_leaves"
         }
        },
        "yaxis": {
         "anchor": "x",
         "domain": [
          0,
          1
         ],
         "title": {
          "text": "Objective Value"
         }
        },
        "yaxis2": {
         "anchor": "x2",
         "domain": [
          0,
          1
         ],
         "matches": "y",
         "showticklabels": false
        },
        "yaxis3": {
         "anchor": "x3",
         "domain": [
          0,
          1
         ],
         "matches": "y",
         "showticklabels": false
        },
        "yaxis4": {
         "anchor": "x4",
         "domain": [
          0,
          1
         ],
         "matches": "y",
         "showticklabels": false
        },
        "yaxis5": {
         "anchor": "x5",
         "domain": [
          0,
          1
         ],
         "matches": "y",
         "showticklabels": false
        },
        "yaxis6": {
         "anchor": "x6",
         "domain": [
          0,
          1
         ],
         "matches": "y",
         "showticklabels": false
        }
       }
      }
     },
     "metadata": {},
     "output_type": "display_data"
    }
   ],
   "source": [
    "optuna.visualization.plot_slice(study)"
   ]
  },
  {
   "cell_type": "code",
   "execution_count": null,
   "metadata": {},
   "outputs": [
    {
     "data": {
      "application/vnd.plotly.v1+json": {
       "config": {
        "plotlyServerURL": "https://plot.ly"
       },
       "data": [
        {
         "dimensions": [
          {
           "label": "Objective Value",
           "range": [
            0.11025675484162617,
            0.11346710180827918
           ],
           "values": [
            0.11300855032768611,
            0.11346710180827918,
            0.11326447147267803,
            0.11057235943637705,
            0.11309320947714253,
            0.11149908291763808,
            0.11310857835647233,
            0.11329821799226639,
            0.11334591671362938,
            0.11280490014960101,
            0.11025675484162617,
            0.11081166545489164,
            0.11083980478515232,
            0.1104134835644495,
            0.11231875931805475,
            0.11174965884591542,
            0.11048957355983777,
            0.11172489288152455,
            0.1128595170803678,
            0.11081818200880617,
            0.11231300789802355,
            0.1106458078291237,
            0.11105478105491128,
            0.11056971694403496,
            0.1112385486474552,
            0.11149299587976484,
            0.1120862780002073,
            0.11144158027708477,
            0.11075921873963929,
            0.11257035636158472,
            0.1118922146871382,
            0.11057384045795172,
            0.11094296769792635,
            0.11093199779317878,
            0.11027271346681958,
            0.11098201109711835,
            0.11132899025282368,
            0.11178598965906815,
            0.1109238373675254,
            0.11185790286682885,
            0.1127817488713133,
            0.11093089538393087,
            0.11049203105594205,
            0.11154893695075112,
            0.11056935042194148,
            0.11151775683732,
            0.11077639559151548,
            0.11153136052141122,
            0.11138352312526563,
            0.11189395758254542,
            0.11108799491752301,
            0.11063160235524686,
            0.11100326589326504,
            0.11105288412698652,
            0.11073942511550018,
            0.11089736422358958,
            0.1118333260715663,
            0.11175146666825332,
            0.11036139276354445,
            0.11054935525729788,
            0.1117507439946854,
            0.11040839182671766,
            0.11073234928747987,
            0.11026187464493624,
            0.11065394023151963,
            0.11114116327828641,
            0.11161417126372629,
            0.11063053442058131,
            0.11115043289021831,
            0.11065958750024701,
            0.11182662443513608,
            0.11052999922122862,
            0.11109668099041103,
            0.11067722537677908,
            0.11107156378370267,
            0.11029668846290462,
            0.11061295996298728,
            0.11121650248017649,
            0.11150128431296176,
            0.1110948388757322,
            0.11132264959386357,
            0.11057008859916309,
            0.11050039984799719,
            0.1108056568192179,
            0.1111188819360631,
            0.11140879793687165,
            0.11085320922819324,
            0.11082421784085682,
            0.11116207001925424,
            0.11190136168216691,
            0.11056191996254665,
            0.11047471719475412,
            0.1119558308433579,
            0.1104674473404311,
            0.11066112864984869,
            0.11032447831004624,
            0.11118295227931635,
            0.11131676267884327,
            0.11051949998973626,
            0.11073954918689148
           ]
          },
          {
           "label": "bagging_fraction",
           "range": [
            0.40615974953070066,
            0.979435510588964
           ],
           "values": [
            0.6066721591502989,
            0.9512406679331895,
            0.8230028511160352,
            0.5184013913809771,
            0.7858613619514973,
            0.43986584329440026,
            0.8517537342165583,
            0.9055583963573264,
            0.6547208477721069,
            0.4501387755283267,
            0.5628920345673979,
            0.5500686964166205,
            0.5435770575118117,
            0.7212470003575093,
            0.7323842917707483,
            0.689744939507025,
            0.6121202981572978,
            0.7497408992525068,
            0.6476617902816576,
            0.40615974953070066,
            0.4813006793341281,
            0.5940553324046975,
            0.6674647512733491,
            0.6122999227952662,
            0.7157340678559564,
            0.5762898004162672,
            0.6392355900314539,
            0.771452577038785,
            0.5002814645543783,
            0.6108172064588203,
            0.6942560102014885,
            0.5799058432270303,
            0.6214056909424165,
            0.5472376495738919,
            0.6779928439468513,
            0.8050471208622965,
            0.8595016034850592,
            0.979435510588964,
            0.6825413238955844,
            0.7449168779411455,
            0.8388382112494659,
            0.6247512463801616,
            0.521140830204073,
            0.5011510035456053,
            0.5631996068527442,
            0.5306000189601456,
            0.4576258340575922,
            0.7145460406502431,
            0.6612220532751157,
            0.7777103255720951,
            0.5143630281248467,
            0.5673279703190978,
            0.5574341127083162,
            0.5906856765237988,
            0.5296588680050576,
            0.43292711877413803,
            0.4733342293289461,
            0.6446703146220599,
            0.6707431901368138,
            0.6755175081468993,
            0.7102265075566949,
            0.6740410457974133,
            0.730367463823338,
            0.6946975652521846,
            0.7566090989895614,
            0.6401482268316611,
            0.6919118070327548,
            0.667464718727341,
            0.7308440238418832,
            0.5994321780805919,
            0.6261979022959098,
            0.6605738434472319,
            0.7026522847868844,
            0.6824062884102563,
            0.5845844995792095,
            0.6097114197680997,
            0.6095318874697062,
            0.6446886863807764,
            0.6274309000314501,
            0.6986376678792299,
            0.7214492389339313,
            0.7552401700368341,
            0.6741153416875513,
            0.790625312312283,
            0.6027220562964346,
            0.5359881397273903,
            0.657867270929221,
            0.9073233202235443,
            0.5117442082928672,
            0.578807806730142,
            0.6879996227220359,
            0.6756926312123993,
            0.7430073968818733,
            0.627076209141711,
            0.6327448082533786,
            0.6521281171911995,
            0.6486758232227583,
            0.7110692421264106,
            0.6187364945017764,
            0.6727783597164562
           ]
          },
          {
           "label": "bagging_freq",
           "range": [
            1,
            7
           ],
           "values": [
            4,
            5,
            1,
            2,
            3,
            4,
            1,
            3,
            2,
            5,
            7,
            6,
            7,
            7,
            7,
            6,
            7,
            6,
            5,
            7,
            6,
            7,
            7,
            6,
            7,
            6,
            5,
            7,
            6,
            4,
            7,
            6,
            7,
            5,
            6,
            7,
            6,
            5,
            7,
            6,
            3,
            6,
            7,
            7,
            7,
            7,
            7,
            2,
            6,
            5,
            4,
            7,
            7,
            1,
            7,
            7,
            6,
            7,
            6,
            6,
            5,
            6,
            6,
            6,
            5,
            6,
            6,
            6,
            5,
            6,
            3,
            7,
            7,
            7,
            6,
            7,
            6,
            6,
            5,
            7,
            4,
            7,
            7,
            7,
            7,
            6,
            7,
            6,
            7,
            7,
            7,
            7,
            7,
            7,
            7,
            6,
            6,
            6,
            6,
            5
           ]
          },
          {
           "label": "feature_fraction",
           "range": [
            0.40069733188507617,
            0.9979017312658915
           ],
           "values": [
            0.9326584398328479,
            0.6561196396312878,
            0.5739403476577157,
            0.4769802793243531,
            0.5378243419053065,
            0.4094688689191721,
            0.42167711132577,
            0.9285112683042583,
            0.9341290905898565,
            0.6446257700205262,
            0.8252389166368176,
            0.7986848718624044,
            0.8104135195197828,
            0.7878008232318725,
            0.7876028277404908,
            0.7225203857870663,
            0.866480094200747,
            0.7112662547454767,
            0.9979017312658915,
            0.8523834453444056,
            0.7474554777958157,
            0.8644201763484654,
            0.8645253225654167,
            0.7604390599535151,
            0.8415034304285199,
            0.6545091665771937,
            0.9117682089852176,
            0.9870187582167804,
            0.8809351049892195,
            0.8204173062937611,
            0.7649283902438203,
            0.7558411143184743,
            0.6766152433724845,
            0.7799785816114921,
            0.8999020942786378,
            0.8987113469015472,
            0.9576445463899121,
            0.8299263136559909,
            0.6150967606051989,
            0.9565655602183282,
            0.8908505496607186,
            0.7310927556680447,
            0.6852627946193758,
            0.8191754286649222,
            0.5568232478824569,
            0.49349989148140017,
            0.6881932005452225,
            0.6198106179529631,
            0.9265351706409226,
            0.7978251605648018,
            0.7071338175484346,
            0.5473172526170675,
            0.46954768939465663,
            0.5759786806820997,
            0.8595869671526487,
            0.5146078587862872,
            0.45351307923692696,
            0.40069733188507617,
            0.622987222625398,
            0.6693592652605826,
            0.6455076349014786,
            0.6185706876106125,
            0.6099108272024305,
            0.5755979394348042,
            0.5768106604720353,
            0.6285136937194018,
            0.849239033887707,
            0.5889757423673921,
            0.514562110690418,
            0.8791966490819241,
            0.7805557040391108,
            0.595827117644439,
            0.7303082248356599,
            0.6584651508471051,
            0.6363013341243422,
            0.6919597374808836,
            0.8352846767057842,
            0.8009360165426858,
            0.9219582763702805,
            0.7459095073956761,
            0.8749556782020381,
            0.6971651658188258,
            0.6782170239312804,
            0.9069386790898186,
            0.6091044826592529,
            0.5580598097149135,
            0.6529603850786876,
            0.945152320065081,
            0.6919195435145558,
            0.7724766625641198,
            0.7131602625884621,
            0.6760715362291412,
            0.667366046665438,
            0.6380460341372974,
            0.6336310845010106,
            0.605230883182593,
            0.5964722450613474,
            0.6246456982435206,
            0.5337121066089016,
            0.5680790311381422
           ]
          },
          {
           "label": "lambda_l1",
           "range": [
            -7.934654061620475,
            0.9967574201649196
           ],
           "ticktext": [
            "1.16e-08",
            "1e-07",
            "1e-06",
            "1e-05",
            "0.0001",
            "0.001",
            "0.01",
            "0.1",
            "1",
            "9.93"
           ],
           "tickvals": [
            -7.934654061620475,
            -7,
            -6,
            -5,
            -4,
            -3,
            -2,
            -1,
            0,
            0.9967574201649196
           ],
           "values": [
            -0.40634837305855614,
            -4.943371365112855,
            -3.9947226048540383,
            0.2211348979320897,
            -1.6761195919020144,
            -0.8651078632707392,
            -7.070818138996363,
            -2.5262388461519927,
            -4.502324813079569,
            -6.933997142249028,
            0.9908670070080686,
            0.3370991614827159,
            0.9269019767858208,
            0.8392273591703928,
            -2.4097745215720106,
            -1.1288419031387766,
            0.8573590569274531,
            -5.652246137577433,
            -3.10320916742162,
            -0.3476838144722562,
            -1.6367344588363753,
            0.9909612160106975,
            0.20750950831600476,
            0.9754052640335037,
            -0.19125830769552785,
            -0.9662868824943679,
            -1.6653930163829638,
            0.37412608108579254,
            -0.4418731352355418,
            -6.215858156443594,
            -0.25879421091251886,
            0.9580855098421582,
            0.5491325338579137,
            0.0610047407658795,
            0.9870360974969346,
            -7.934654061620475,
            -0.5525922104140978,
            0.4766918729555147,
            -1.2281440475558958,
            -3.99861493766785,
            -2.138511433736318,
            0.5844384048016373,
            0.9405820639195541,
            0.03070212849409905,
            0.6265081794109798,
            -0.7364546388732056,
            0.021865312543631957,
            0.699858255287786,
            0.16191230667218595,
            -3.2788001671621045,
            -1.2684928024320357,
            0.5356015737838373,
            0.7102562001819651,
            -0.1754279817000089,
            0.8202339731376742,
            0.3217506524774037,
            -0.7715824389071233,
            -5.08789239293126,
            0.7026461387936016,
            0.9870310287207834,
            -0.16380023320164283,
            0.985005989635059,
            0.2717625501449995,
            0.756349215552694,
            0.4690541176853536,
            -0.4806421820007575,
            0.03429213790956188,
            0.7098232071923013,
            0.3801314081277767,
            0.7642053879677655,
            -0.12754571154808966,
            0.9947545635916206,
            0.20892420825199787,
            0.7759610700629933,
            0.4039381923140911,
            0.979720118997728,
            0.5746384042384197,
            -0.31857907497195176,
            -0.6101106225234785,
            0.18925272168879226,
            -2.5827566766216576,
            0.9310848617234495,
            0.984777500912831,
            0.6919477201657862,
            0.5169192658810832,
            -0.011372804682508088,
            0.769322355056159,
            0.2865618676998443,
            0.48530293943556585,
            -0.9915002893774975,
            0.7971114412469227,
            0.9876514400467503,
            -3.9094433288429267,
            0.9967574201649196,
            0.6369183165074747,
            0.8145476900267273,
            0.34936401193749805,
            0.12957220274819875,
            0.8229059107018586,
            0.6173934513938989
           ]
          },
          {
           "label": "lambda_l2",
           "range": [
            -7.972910043219161,
            0.9953400929275272
           ],
           "ticktext": [
            "1.06e-08",
            "1e-07",
            "1e-06",
            "1e-05",
            "0.0001",
            "0.001",
            "0.01",
            "0.1",
            "1",
            "9.89"
           ],
           "tickvals": [
            -7.972910043219161,
            -7,
            -6,
            -5,
            -4,
            -3,
            -2,
            -1,
            0,
            0.9953400929275272
           ],
           "values": [
            -4.309120060764614,
            -4.1089938250727736,
            -6.684938420525766,
            0.8857500811071454,
            -7.906475802245962,
            -0.6383789596246255,
            -4.2601881819133585,
            -4.364336960989907,
            -7.115527031701755,
            -5.260519351013703,
            0.8757500377543453,
            0.39495755352336104,
            -1.7078389748369134,
            0.7002131962268678,
            -1.9865418804892547,
            -0.7673658121960811,
            -2.5178092798985854,
            -0.24903412203796596,
            -2.923586687672641,
            0.9670727553455855,
            -1.4797253129665988,
            -2.3911182201828103,
            -0.06934407326419391,
            -1.2909950594131658,
            0.3015288043350008,
            -2.985846287662909,
            -5.803509206421228,
            -1.1480208290471479,
            0.28708011551993606,
            -2.2230185378594465,
            -0.5535481934644696,
            -1.1355616054750797,
            -3.5375598889429236,
            -2.787965280957096,
            0.8065842697641084,
            0.9038316230319623,
            0.33458031534234484,
            -0.24918333369550066,
            0.5630973408853044,
            -0.08826633581258726,
            -5.625938667722768,
            -3.626345748354348,
            -0.8818360097617234,
            -0.6711413138402421,
            0.716587643899751,
            0.03830842001903519,
            0.9953400929275272,
            -0.889857061888967,
            -1.9289021576501948,
            -0.4785206868348265,
            0.4785557253897696,
            0.7346911721574789,
            0.6533150851917178,
            0.09784528441735904,
            -4.0391408704961576,
            -0.3143134698197305,
            -4.700611337899584,
            -7.972910043219161,
            -1.5322603366906775,
            -1.6973978034693722,
            -2.7520491587984814,
            -1.606056918328373,
            -1.4949511119293735,
            -2.3814480196304655,
            -2.4338855340469174,
            -3.2894853587508135,
            -2.1558168428526314,
            -2.6115301077307964,
            -3.11471220973854,
            -1.8455468209785821,
            -6.8238912623982,
            -1.559410089756347,
            -1.077148178761172,
            -2.1601781029364715,
            -0.8599810861602741,
            -1.388443650577151,
            -2.4502990125828426,
            -1.304153845884305,
            -3.855440636933653,
            -3.3200038240185075,
            0.22004129108784834,
            -1.3894443983637295,
            -1.9452603025008763,
            -1.0232208909727465,
            -0.4675644281919452,
            -1.7460153544355241,
            -0.11562697734150858,
            0.4383914359798415,
            0.7669077153602923,
            -2.194278682969381,
            -1.6132889309312317,
            -1.9585747629039103,
            -1.2904355385687891,
            -2.660081059848968,
            -2.5997425814220407,
            -2.8346922737685687,
            -2.9471032489386464,
            -2.7922119317442156,
            -2.2472557341596247,
            -2.051087190814274
           ]
          },
          {
           "label": "num_leaves",
           "range": [
            12,
            256
           ],
           "values": [
            230,
            236,
            200,
            64,
            180,
            38,
            222,
            238,
            240,
            132,
            30,
            20,
            86,
            66,
            114,
            60,
            14,
            96,
            158,
            54,
            100,
            12,
            36,
            36,
            80,
            16,
            46,
            64,
            28,
            72,
            112,
            42,
            28,
            12,
            56,
            52,
            72,
            178,
            24,
            128,
            148,
            40,
            32,
            54,
            28,
            70,
            92,
            216,
            46,
            84,
            60,
            28,
            256,
            32,
            22,
            20,
            48,
            36,
            12,
            16,
            60,
            14,
            18,
            12,
            14,
            12,
            44,
            22,
            38,
            24,
            52,
            32,
            32,
            40,
            20,
            12,
            12,
            26,
            20,
            12,
            68,
            30,
            34,
            46,
            76,
            26,
            110,
            40,
            170,
            56,
            18,
            36,
            48,
            34,
            24,
            16,
            64,
            38,
            18,
            28
           ]
          }
         ],
         "labelangle": 30,
         "labelside": "bottom",
         "line": {
          "color": [
           0.11300855032768611,
           0.11346710180827918,
           0.11326447147267803,
           0.11057235943637705,
           0.11309320947714253,
           0.11149908291763808,
           0.11310857835647233,
           0.11329821799226639,
           0.11334591671362938,
           0.11280490014960101,
           0.11025675484162617,
           0.11081166545489164,
           0.11083980478515232,
           0.1104134835644495,
           0.11231875931805475,
           0.11174965884591542,
           0.11048957355983777,
           0.11172489288152455,
           0.1128595170803678,
           0.11081818200880617,
           0.11231300789802355,
           0.1106458078291237,
           0.11105478105491128,
           0.11056971694403496,
           0.1112385486474552,
           0.11149299587976484,
           0.1120862780002073,
           0.11144158027708477,
           0.11075921873963929,
           0.11257035636158472,
           0.1118922146871382,
           0.11057384045795172,
           0.11094296769792635,
           0.11093199779317878,
           0.11027271346681958,
           0.11098201109711835,
           0.11132899025282368,
           0.11178598965906815,
           0.1109238373675254,
           0.11185790286682885,
           0.1127817488713133,
           0.11093089538393087,
           0.11049203105594205,
           0.11154893695075112,
           0.11056935042194148,
           0.11151775683732,
           0.11077639559151548,
           0.11153136052141122,
           0.11138352312526563,
           0.11189395758254542,
           0.11108799491752301,
           0.11063160235524686,
           0.11100326589326504,
           0.11105288412698652,
           0.11073942511550018,
           0.11089736422358958,
           0.1118333260715663,
           0.11175146666825332,
           0.11036139276354445,
           0.11054935525729788,
           0.1117507439946854,
           0.11040839182671766,
           0.11073234928747987,
           0.11026187464493624,
           0.11065394023151963,
           0.11114116327828641,
           0.11161417126372629,
           0.11063053442058131,
           0.11115043289021831,
           0.11065958750024701,
           0.11182662443513608,
           0.11052999922122862,
           0.11109668099041103,
           0.11067722537677908,
           0.11107156378370267,
           0.11029668846290462,
           0.11061295996298728,
           0.11121650248017649,
           0.11150128431296176,
           0.1110948388757322,
           0.11132264959386357,
           0.11057008859916309,
           0.11050039984799719,
           0.1108056568192179,
           0.1111188819360631,
           0.11140879793687165,
           0.11085320922819324,
           0.11082421784085682,
           0.11116207001925424,
           0.11190136168216691,
           0.11056191996254665,
           0.11047471719475412,
           0.1119558308433579,
           0.1104674473404311,
           0.11066112864984869,
           0.11032447831004624,
           0.11118295227931635,
           0.11131676267884327,
           0.11051949998973626,
           0.11073954918689148
          ],
          "colorbar": {
           "title": {
            "text": "Objective Value"
           }
          },
          "colorscale": [
           [
            0,
            "rgb(247,251,255)"
           ],
           [
            0.125,
            "rgb(222,235,247)"
           ],
           [
            0.25,
            "rgb(198,219,239)"
           ],
           [
            0.375,
            "rgb(158,202,225)"
           ],
           [
            0.5,
            "rgb(107,174,214)"
           ],
           [
            0.625,
            "rgb(66,146,198)"
           ],
           [
            0.75,
            "rgb(33,113,181)"
           ],
           [
            0.875,
            "rgb(8,81,156)"
           ],
           [
            1,
            "rgb(8,48,107)"
           ]
          ],
          "reversescale": true,
          "showscale": true
         },
         "type": "parcoords"
        }
       ],
       "layout": {
        "template": {
         "data": {
          "bar": [
           {
            "error_x": {
             "color": "#2a3f5f"
            },
            "error_y": {
             "color": "#2a3f5f"
            },
            "marker": {
             "line": {
              "color": "#E5ECF6",
              "width": 0.5
             },
             "pattern": {
              "fillmode": "overlay",
              "size": 10,
              "solidity": 0.2
             }
            },
            "type": "bar"
           }
          ],
          "barpolar": [
           {
            "marker": {
             "line": {
              "color": "#E5ECF6",
              "width": 0.5
             },
             "pattern": {
              "fillmode": "overlay",
              "size": 10,
              "solidity": 0.2
             }
            },
            "type": "barpolar"
           }
          ],
          "carpet": [
           {
            "aaxis": {
             "endlinecolor": "#2a3f5f",
             "gridcolor": "white",
             "linecolor": "white",
             "minorgridcolor": "white",
             "startlinecolor": "#2a3f5f"
            },
            "baxis": {
             "endlinecolor": "#2a3f5f",
             "gridcolor": "white",
             "linecolor": "white",
             "minorgridcolor": "white",
             "startlinecolor": "#2a3f5f"
            },
            "type": "carpet"
           }
          ],
          "choropleth": [
           {
            "colorbar": {
             "outlinewidth": 0,
             "ticks": ""
            },
            "type": "choropleth"
           }
          ],
          "contour": [
           {
            "colorbar": {
             "outlinewidth": 0,
             "ticks": ""
            },
            "colorscale": [
             [
              0,
              "#0d0887"
             ],
             [
              0.1111111111111111,
              "#46039f"
             ],
             [
              0.2222222222222222,
              "#7201a8"
             ],
             [
              0.3333333333333333,
              "#9c179e"
             ],
             [
              0.4444444444444444,
              "#bd3786"
             ],
             [
              0.5555555555555556,
              "#d8576b"
             ],
             [
              0.6666666666666666,
              "#ed7953"
             ],
             [
              0.7777777777777778,
              "#fb9f3a"
             ],
             [
              0.8888888888888888,
              "#fdca26"
             ],
             [
              1,
              "#f0f921"
             ]
            ],
            "type": "contour"
           }
          ],
          "contourcarpet": [
           {
            "colorbar": {
             "outlinewidth": 0,
             "ticks": ""
            },
            "type": "contourcarpet"
           }
          ],
          "heatmap": [
           {
            "colorbar": {
             "outlinewidth": 0,
             "ticks": ""
            },
            "colorscale": [
             [
              0,
              "#0d0887"
             ],
             [
              0.1111111111111111,
              "#46039f"
             ],
             [
              0.2222222222222222,
              "#7201a8"
             ],
             [
              0.3333333333333333,
              "#9c179e"
             ],
             [
              0.4444444444444444,
              "#bd3786"
             ],
             [
              0.5555555555555556,
              "#d8576b"
             ],
             [
              0.6666666666666666,
              "#ed7953"
             ],
             [
              0.7777777777777778,
              "#fb9f3a"
             ],
             [
              0.8888888888888888,
              "#fdca26"
             ],
             [
              1,
              "#f0f921"
             ]
            ],
            "type": "heatmap"
           }
          ],
          "heatmapgl": [
           {
            "colorbar": {
             "outlinewidth": 0,
             "ticks": ""
            },
            "colorscale": [
             [
              0,
              "#0d0887"
             ],
             [
              0.1111111111111111,
              "#46039f"
             ],
             [
              0.2222222222222222,
              "#7201a8"
             ],
             [
              0.3333333333333333,
              "#9c179e"
             ],
             [
              0.4444444444444444,
              "#bd3786"
             ],
             [
              0.5555555555555556,
              "#d8576b"
             ],
             [
              0.6666666666666666,
              "#ed7953"
             ],
             [
              0.7777777777777778,
              "#fb9f3a"
             ],
             [
              0.8888888888888888,
              "#fdca26"
             ],
             [
              1,
              "#f0f921"
             ]
            ],
            "type": "heatmapgl"
           }
          ],
          "histogram": [
           {
            "marker": {
             "pattern": {
              "fillmode": "overlay",
              "size": 10,
              "solidity": 0.2
             }
            },
            "type": "histogram"
           }
          ],
          "histogram2d": [
           {
            "colorbar": {
             "outlinewidth": 0,
             "ticks": ""
            },
            "colorscale": [
             [
              0,
              "#0d0887"
             ],
             [
              0.1111111111111111,
              "#46039f"
             ],
             [
              0.2222222222222222,
              "#7201a8"
             ],
             [
              0.3333333333333333,
              "#9c179e"
             ],
             [
              0.4444444444444444,
              "#bd3786"
             ],
             [
              0.5555555555555556,
              "#d8576b"
             ],
             [
              0.6666666666666666,
              "#ed7953"
             ],
             [
              0.7777777777777778,
              "#fb9f3a"
             ],
             [
              0.8888888888888888,
              "#fdca26"
             ],
             [
              1,
              "#f0f921"
             ]
            ],
            "type": "histogram2d"
           }
          ],
          "histogram2dcontour": [
           {
            "colorbar": {
             "outlinewidth": 0,
             "ticks": ""
            },
            "colorscale": [
             [
              0,
              "#0d0887"
             ],
             [
              0.1111111111111111,
              "#46039f"
             ],
             [
              0.2222222222222222,
              "#7201a8"
             ],
             [
              0.3333333333333333,
              "#9c179e"
             ],
             [
              0.4444444444444444,
              "#bd3786"
             ],
             [
              0.5555555555555556,
              "#d8576b"
             ],
             [
              0.6666666666666666,
              "#ed7953"
             ],
             [
              0.7777777777777778,
              "#fb9f3a"
             ],
             [
              0.8888888888888888,
              "#fdca26"
             ],
             [
              1,
              "#f0f921"
             ]
            ],
            "type": "histogram2dcontour"
           }
          ],
          "mesh3d": [
           {
            "colorbar": {
             "outlinewidth": 0,
             "ticks": ""
            },
            "type": "mesh3d"
           }
          ],
          "parcoords": [
           {
            "line": {
             "colorbar": {
              "outlinewidth": 0,
              "ticks": ""
             }
            },
            "type": "parcoords"
           }
          ],
          "pie": [
           {
            "automargin": true,
            "type": "pie"
           }
          ],
          "scatter": [
           {
            "fillpattern": {
             "fillmode": "overlay",
             "size": 10,
             "solidity": 0.2
            },
            "type": "scatter"
           }
          ],
          "scatter3d": [
           {
            "line": {
             "colorbar": {
              "outlinewidth": 0,
              "ticks": ""
             }
            },
            "marker": {
             "colorbar": {
              "outlinewidth": 0,
              "ticks": ""
             }
            },
            "type": "scatter3d"
           }
          ],
          "scattercarpet": [
           {
            "marker": {
             "colorbar": {
              "outlinewidth": 0,
              "ticks": ""
             }
            },
            "type": "scattercarpet"
           }
          ],
          "scattergeo": [
           {
            "marker": {
             "colorbar": {
              "outlinewidth": 0,
              "ticks": ""
             }
            },
            "type": "scattergeo"
           }
          ],
          "scattergl": [
           {
            "marker": {
             "colorbar": {
              "outlinewidth": 0,
              "ticks": ""
             }
            },
            "type": "scattergl"
           }
          ],
          "scattermapbox": [
           {
            "marker": {
             "colorbar": {
              "outlinewidth": 0,
              "ticks": ""
             }
            },
            "type": "scattermapbox"
           }
          ],
          "scatterpolar": [
           {
            "marker": {
             "colorbar": {
              "outlinewidth": 0,
              "ticks": ""
             }
            },
            "type": "scatterpolar"
           }
          ],
          "scatterpolargl": [
           {
            "marker": {
             "colorbar": {
              "outlinewidth": 0,
              "ticks": ""
             }
            },
            "type": "scatterpolargl"
           }
          ],
          "scatterternary": [
           {
            "marker": {
             "colorbar": {
              "outlinewidth": 0,
              "ticks": ""
             }
            },
            "type": "scatterternary"
           }
          ],
          "surface": [
           {
            "colorbar": {
             "outlinewidth": 0,
             "ticks": ""
            },
            "colorscale": [
             [
              0,
              "#0d0887"
             ],
             [
              0.1111111111111111,
              "#46039f"
             ],
             [
              0.2222222222222222,
              "#7201a8"
             ],
             [
              0.3333333333333333,
              "#9c179e"
             ],
             [
              0.4444444444444444,
              "#bd3786"
             ],
             [
              0.5555555555555556,
              "#d8576b"
             ],
             [
              0.6666666666666666,
              "#ed7953"
             ],
             [
              0.7777777777777778,
              "#fb9f3a"
             ],
             [
              0.8888888888888888,
              "#fdca26"
             ],
             [
              1,
              "#f0f921"
             ]
            ],
            "type": "surface"
           }
          ],
          "table": [
           {
            "cells": {
             "fill": {
              "color": "#EBF0F8"
             },
             "line": {
              "color": "white"
             }
            },
            "header": {
             "fill": {
              "color": "#C8D4E3"
             },
             "line": {
              "color": "white"
             }
            },
            "type": "table"
           }
          ]
         },
         "layout": {
          "annotationdefaults": {
           "arrowcolor": "#2a3f5f",
           "arrowhead": 0,
           "arrowwidth": 1
          },
          "autotypenumbers": "strict",
          "coloraxis": {
           "colorbar": {
            "outlinewidth": 0,
            "ticks": ""
           }
          },
          "colorscale": {
           "diverging": [
            [
             0,
             "#8e0152"
            ],
            [
             0.1,
             "#c51b7d"
            ],
            [
             0.2,
             "#de77ae"
            ],
            [
             0.3,
             "#f1b6da"
            ],
            [
             0.4,
             "#fde0ef"
            ],
            [
             0.5,
             "#f7f7f7"
            ],
            [
             0.6,
             "#e6f5d0"
            ],
            [
             0.7,
             "#b8e186"
            ],
            [
             0.8,
             "#7fbc41"
            ],
            [
             0.9,
             "#4d9221"
            ],
            [
             1,
             "#276419"
            ]
           ],
           "sequential": [
            [
             0,
             "#0d0887"
            ],
            [
             0.1111111111111111,
             "#46039f"
            ],
            [
             0.2222222222222222,
             "#7201a8"
            ],
            [
             0.3333333333333333,
             "#9c179e"
            ],
            [
             0.4444444444444444,
             "#bd3786"
            ],
            [
             0.5555555555555556,
             "#d8576b"
            ],
            [
             0.6666666666666666,
             "#ed7953"
            ],
            [
             0.7777777777777778,
             "#fb9f3a"
            ],
            [
             0.8888888888888888,
             "#fdca26"
            ],
            [
             1,
             "#f0f921"
            ]
           ],
           "sequentialminus": [
            [
             0,
             "#0d0887"
            ],
            [
             0.1111111111111111,
             "#46039f"
            ],
            [
             0.2222222222222222,
             "#7201a8"
            ],
            [
             0.3333333333333333,
             "#9c179e"
            ],
            [
             0.4444444444444444,
             "#bd3786"
            ],
            [
             0.5555555555555556,
             "#d8576b"
            ],
            [
             0.6666666666666666,
             "#ed7953"
            ],
            [
             0.7777777777777778,
             "#fb9f3a"
            ],
            [
             0.8888888888888888,
             "#fdca26"
            ],
            [
             1,
             "#f0f921"
            ]
           ]
          },
          "colorway": [
           "#636efa",
           "#EF553B",
           "#00cc96",
           "#ab63fa",
           "#FFA15A",
           "#19d3f3",
           "#FF6692",
           "#B6E880",
           "#FF97FF",
           "#FECB52"
          ],
          "font": {
           "color": "#2a3f5f"
          },
          "geo": {
           "bgcolor": "white",
           "lakecolor": "white",
           "landcolor": "#E5ECF6",
           "showlakes": true,
           "showland": true,
           "subunitcolor": "white"
          },
          "hoverlabel": {
           "align": "left"
          },
          "hovermode": "closest",
          "mapbox": {
           "style": "light"
          },
          "paper_bgcolor": "white",
          "plot_bgcolor": "#E5ECF6",
          "polar": {
           "angularaxis": {
            "gridcolor": "white",
            "linecolor": "white",
            "ticks": ""
           },
           "bgcolor": "#E5ECF6",
           "radialaxis": {
            "gridcolor": "white",
            "linecolor": "white",
            "ticks": ""
           }
          },
          "scene": {
           "xaxis": {
            "backgroundcolor": "#E5ECF6",
            "gridcolor": "white",
            "gridwidth": 2,
            "linecolor": "white",
            "showbackground": true,
            "ticks": "",
            "zerolinecolor": "white"
           },
           "yaxis": {
            "backgroundcolor": "#E5ECF6",
            "gridcolor": "white",
            "gridwidth": 2,
            "linecolor": "white",
            "showbackground": true,
            "ticks": "",
            "zerolinecolor": "white"
           },
           "zaxis": {
            "backgroundcolor": "#E5ECF6",
            "gridcolor": "white",
            "gridwidth": 2,
            "linecolor": "white",
            "showbackground": true,
            "ticks": "",
            "zerolinecolor": "white"
           }
          },
          "shapedefaults": {
           "line": {
            "color": "#2a3f5f"
           }
          },
          "ternary": {
           "aaxis": {
            "gridcolor": "white",
            "linecolor": "white",
            "ticks": ""
           },
           "baxis": {
            "gridcolor": "white",
            "linecolor": "white",
            "ticks": ""
           },
           "bgcolor": "#E5ECF6",
           "caxis": {
            "gridcolor": "white",
            "linecolor": "white",
            "ticks": ""
           }
          },
          "title": {
           "x": 0.05
          },
          "xaxis": {
           "automargin": true,
           "gridcolor": "white",
           "linecolor": "white",
           "ticks": "",
           "title": {
            "standoff": 15
           },
           "zerolinecolor": "white",
           "zerolinewidth": 2
          },
          "yaxis": {
           "automargin": true,
           "gridcolor": "white",
           "linecolor": "white",
           "ticks": "",
           "title": {
            "standoff": 15
           },
           "zerolinecolor": "white",
           "zerolinewidth": 2
          }
         }
        },
        "title": {
         "text": "Parallel Coordinate Plot"
        }
       }
      }
     },
     "metadata": {},
     "output_type": "display_data"
    }
   ],
   "source": [
    "optuna.visualization.plot_parallel_coordinate(study)"
   ]
  },
  {
   "cell_type": "code",
   "execution_count": null,
   "metadata": {},
   "outputs": [
    {
     "data": {
      "application/vnd.plotly.v1+json": {
       "config": {
        "plotlyServerURL": "https://plot.ly"
       },
       "data": [
        {
         "mode": "lines",
         "name": "lgbm-group-tune",
         "type": "scatter",
         "x": [
          0.11025675484162617,
          0.11028918258876408,
          0.11032161033590199,
          0.1103540380830399,
          0.1103864658301778,
          0.11041889357731571,
          0.11045132132445362,
          0.11048374907159153,
          0.11051617681872944,
          0.11054860456586735,
          0.11058103231300526,
          0.11061346006014317,
          0.11064588780728107,
          0.110678315554419,
          0.1107107433015569,
          0.11074317104869481,
          0.11077559879583272,
          0.11080802654297063,
          0.11084045429010854,
          0.11087288203724645,
          0.11090530978438436,
          0.11093773753152227,
          0.11097016527866017,
          0.11100259302579808,
          0.11103502077293599,
          0.1110674485200739,
          0.11109987626721181,
          0.11113230401434972,
          0.11116473176148763,
          0.11119715950862553,
          0.11122958725576344,
          0.11126201500290135,
          0.11129444275003926,
          0.11132687049717717,
          0.11135929824431508,
          0.11139172599145299,
          0.1114241537385909,
          0.11145658148572882,
          0.11148900923286673,
          0.11152143698000463,
          0.11155386472714254,
          0.11158629247428045,
          0.11161872022141836,
          0.11165114796855627,
          0.11168357571569418,
          0.11171600346283209,
          0.11174843120997,
          0.1117808589571079,
          0.11181328670424581,
          0.11184571445138372,
          0.11187814219852163,
          0.11191056994565954,
          0.11194299769279745,
          0.11197542543993536,
          0.11200785318707326,
          0.11204028093421117,
          0.11207270868134908,
          0.11210513642848699,
          0.1121375641756249,
          0.11216999192276281,
          0.11220241966990072,
          0.11223484741703862,
          0.11226727516417653,
          0.11229970291131446,
          0.11233213065845236,
          0.11236455840559027,
          0.11239698615272818,
          0.11242941389986609,
          0.112461841647004,
          0.11249426939414191,
          0.11252669714127982,
          0.11255912488841772,
          0.11259155263555563,
          0.11262398038269354,
          0.11265640812983145,
          0.11268883587696936,
          0.11272126362410727,
          0.11275369137124518,
          0.11278611911838309,
          0.112818546865521,
          0.1128509746126589,
          0.11288340235979681,
          0.11291583010693472,
          0.11294825785407263,
          0.11298068560121054,
          0.11301311334834845,
          0.11304554109548637,
          0.11307796884262428,
          0.11311039658976219,
          0.1131428243369001,
          0.113175252084038,
          0.11320767983117591,
          0.11324010757831382,
          0.11327253532545173,
          0.11330496307258964,
          0.11333739081972755,
          0.11336981856686545,
          0.11340224631400336,
          0.11343467406114127,
          0.11346710180827918
         ],
         "y": [
          0.01,
          0.03,
          0.04,
          0.05,
          0.06,
          0.08,
          0.08,
          0.1,
          0.13,
          0.15,
          0.22,
          0.23,
          0.26,
          0.3,
          0.3,
          0.33,
          0.34,
          0.36,
          0.4,
          0.41,
          0.42,
          0.45,
          0.46,
          0.47,
          0.48,
          0.5,
          0.54,
          0.55,
          0.58,
          0.59,
          0.6,
          0.61,
          0.61,
          0.63,
          0.64,
          0.65,
          0.66,
          0.67,
          0.67,
          0.71,
          0.73,
          0.73,
          0.74,
          0.74,
          0.74,
          0.74,
          0.75,
          0.78,
          0.79,
          0.81,
          0.82,
          0.85,
          0.85,
          0.86,
          0.86,
          0.86,
          0.86,
          0.87,
          0.87,
          0.87,
          0.87,
          0.87,
          0.87,
          0.87,
          0.89,
          0.89,
          0.89,
          0.89,
          0.89,
          0.89,
          0.89,
          0.89,
          0.9,
          0.9,
          0.9,
          0.9,
          0.9,
          0.9,
          0.91,
          0.92,
          0.92,
          0.93,
          0.93,
          0.93,
          0.93,
          0.94,
          0.94,
          0.94,
          0.96,
          0.96,
          0.96,
          0.96,
          0.96,
          0.97,
          0.98,
          0.98,
          0.99,
          0.99,
          0.99,
          1
         ]
        }
       ],
       "layout": {
        "template": {
         "data": {
          "bar": [
           {
            "error_x": {
             "color": "#2a3f5f"
            },
            "error_y": {
             "color": "#2a3f5f"
            },
            "marker": {
             "line": {
              "color": "#E5ECF6",
              "width": 0.5
             },
             "pattern": {
              "fillmode": "overlay",
              "size": 10,
              "solidity": 0.2
             }
            },
            "type": "bar"
           }
          ],
          "barpolar": [
           {
            "marker": {
             "line": {
              "color": "#E5ECF6",
              "width": 0.5
             },
             "pattern": {
              "fillmode": "overlay",
              "size": 10,
              "solidity": 0.2
             }
            },
            "type": "barpolar"
           }
          ],
          "carpet": [
           {
            "aaxis": {
             "endlinecolor": "#2a3f5f",
             "gridcolor": "white",
             "linecolor": "white",
             "minorgridcolor": "white",
             "startlinecolor": "#2a3f5f"
            },
            "baxis": {
             "endlinecolor": "#2a3f5f",
             "gridcolor": "white",
             "linecolor": "white",
             "minorgridcolor": "white",
             "startlinecolor": "#2a3f5f"
            },
            "type": "carpet"
           }
          ],
          "choropleth": [
           {
            "colorbar": {
             "outlinewidth": 0,
             "ticks": ""
            },
            "type": "choropleth"
           }
          ],
          "contour": [
           {
            "colorbar": {
             "outlinewidth": 0,
             "ticks": ""
            },
            "colorscale": [
             [
              0,
              "#0d0887"
             ],
             [
              0.1111111111111111,
              "#46039f"
             ],
             [
              0.2222222222222222,
              "#7201a8"
             ],
             [
              0.3333333333333333,
              "#9c179e"
             ],
             [
              0.4444444444444444,
              "#bd3786"
             ],
             [
              0.5555555555555556,
              "#d8576b"
             ],
             [
              0.6666666666666666,
              "#ed7953"
             ],
             [
              0.7777777777777778,
              "#fb9f3a"
             ],
             [
              0.8888888888888888,
              "#fdca26"
             ],
             [
              1,
              "#f0f921"
             ]
            ],
            "type": "contour"
           }
          ],
          "contourcarpet": [
           {
            "colorbar": {
             "outlinewidth": 0,
             "ticks": ""
            },
            "type": "contourcarpet"
           }
          ],
          "heatmap": [
           {
            "colorbar": {
             "outlinewidth": 0,
             "ticks": ""
            },
            "colorscale": [
             [
              0,
              "#0d0887"
             ],
             [
              0.1111111111111111,
              "#46039f"
             ],
             [
              0.2222222222222222,
              "#7201a8"
             ],
             [
              0.3333333333333333,
              "#9c179e"
             ],
             [
              0.4444444444444444,
              "#bd3786"
             ],
             [
              0.5555555555555556,
              "#d8576b"
             ],
             [
              0.6666666666666666,
              "#ed7953"
             ],
             [
              0.7777777777777778,
              "#fb9f3a"
             ],
             [
              0.8888888888888888,
              "#fdca26"
             ],
             [
              1,
              "#f0f921"
             ]
            ],
            "type": "heatmap"
           }
          ],
          "heatmapgl": [
           {
            "colorbar": {
             "outlinewidth": 0,
             "ticks": ""
            },
            "colorscale": [
             [
              0,
              "#0d0887"
             ],
             [
              0.1111111111111111,
              "#46039f"
             ],
             [
              0.2222222222222222,
              "#7201a8"
             ],
             [
              0.3333333333333333,
              "#9c179e"
             ],
             [
              0.4444444444444444,
              "#bd3786"
             ],
             [
              0.5555555555555556,
              "#d8576b"
             ],
             [
              0.6666666666666666,
              "#ed7953"
             ],
             [
              0.7777777777777778,
              "#fb9f3a"
             ],
             [
              0.8888888888888888,
              "#fdca26"
             ],
             [
              1,
              "#f0f921"
             ]
            ],
            "type": "heatmapgl"
           }
          ],
          "histogram": [
           {
            "marker": {
             "pattern": {
              "fillmode": "overlay",
              "size": 10,
              "solidity": 0.2
             }
            },
            "type": "histogram"
           }
          ],
          "histogram2d": [
           {
            "colorbar": {
             "outlinewidth": 0,
             "ticks": ""
            },
            "colorscale": [
             [
              0,
              "#0d0887"
             ],
             [
              0.1111111111111111,
              "#46039f"
             ],
             [
              0.2222222222222222,
              "#7201a8"
             ],
             [
              0.3333333333333333,
              "#9c179e"
             ],
             [
              0.4444444444444444,
              "#bd3786"
             ],
             [
              0.5555555555555556,
              "#d8576b"
             ],
             [
              0.6666666666666666,
              "#ed7953"
             ],
             [
              0.7777777777777778,
              "#fb9f3a"
             ],
             [
              0.8888888888888888,
              "#fdca26"
             ],
             [
              1,
              "#f0f921"
             ]
            ],
            "type": "histogram2d"
           }
          ],
          "histogram2dcontour": [
           {
            "colorbar": {
             "outlinewidth": 0,
             "ticks": ""
            },
            "colorscale": [
             [
              0,
              "#0d0887"
             ],
             [
              0.1111111111111111,
              "#46039f"
             ],
             [
              0.2222222222222222,
              "#7201a8"
             ],
             [
              0.3333333333333333,
              "#9c179e"
             ],
             [
              0.4444444444444444,
              "#bd3786"
             ],
             [
              0.5555555555555556,
              "#d8576b"
             ],
             [
              0.6666666666666666,
              "#ed7953"
             ],
             [
              0.7777777777777778,
              "#fb9f3a"
             ],
             [
              0.8888888888888888,
              "#fdca26"
             ],
             [
              1,
              "#f0f921"
             ]
            ],
            "type": "histogram2dcontour"
           }
          ],
          "mesh3d": [
           {
            "colorbar": {
             "outlinewidth": 0,
             "ticks": ""
            },
            "type": "mesh3d"
           }
          ],
          "parcoords": [
           {
            "line": {
             "colorbar": {
              "outlinewidth": 0,
              "ticks": ""
             }
            },
            "type": "parcoords"
           }
          ],
          "pie": [
           {
            "automargin": true,
            "type": "pie"
           }
          ],
          "scatter": [
           {
            "fillpattern": {
             "fillmode": "overlay",
             "size": 10,
             "solidity": 0.2
            },
            "type": "scatter"
           }
          ],
          "scatter3d": [
           {
            "line": {
             "colorbar": {
              "outlinewidth": 0,
              "ticks": ""
             }
            },
            "marker": {
             "colorbar": {
              "outlinewidth": 0,
              "ticks": ""
             }
            },
            "type": "scatter3d"
           }
          ],
          "scattercarpet": [
           {
            "marker": {
             "colorbar": {
              "outlinewidth": 0,
              "ticks": ""
             }
            },
            "type": "scattercarpet"
           }
          ],
          "scattergeo": [
           {
            "marker": {
             "colorbar": {
              "outlinewidth": 0,
              "ticks": ""
             }
            },
            "type": "scattergeo"
           }
          ],
          "scattergl": [
           {
            "marker": {
             "colorbar": {
              "outlinewidth": 0,
              "ticks": ""
             }
            },
            "type": "scattergl"
           }
          ],
          "scattermapbox": [
           {
            "marker": {
             "colorbar": {
              "outlinewidth": 0,
              "ticks": ""
             }
            },
            "type": "scattermapbox"
           }
          ],
          "scatterpolar": [
           {
            "marker": {
             "colorbar": {
              "outlinewidth": 0,
              "ticks": ""
             }
            },
            "type": "scatterpolar"
           }
          ],
          "scatterpolargl": [
           {
            "marker": {
             "colorbar": {
              "outlinewidth": 0,
              "ticks": ""
             }
            },
            "type": "scatterpolargl"
           }
          ],
          "scatterternary": [
           {
            "marker": {
             "colorbar": {
              "outlinewidth": 0,
              "ticks": ""
             }
            },
            "type": "scatterternary"
           }
          ],
          "surface": [
           {
            "colorbar": {
             "outlinewidth": 0,
             "ticks": ""
            },
            "colorscale": [
             [
              0,
              "#0d0887"
             ],
             [
              0.1111111111111111,
              "#46039f"
             ],
             [
              0.2222222222222222,
              "#7201a8"
             ],
             [
              0.3333333333333333,
              "#9c179e"
             ],
             [
              0.4444444444444444,
              "#bd3786"
             ],
             [
              0.5555555555555556,
              "#d8576b"
             ],
             [
              0.6666666666666666,
              "#ed7953"
             ],
             [
              0.7777777777777778,
              "#fb9f3a"
             ],
             [
              0.8888888888888888,
              "#fdca26"
             ],
             [
              1,
              "#f0f921"
             ]
            ],
            "type": "surface"
           }
          ],
          "table": [
           {
            "cells": {
             "fill": {
              "color": "#EBF0F8"
             },
             "line": {
              "color": "white"
             }
            },
            "header": {
             "fill": {
              "color": "#C8D4E3"
             },
             "line": {
              "color": "white"
             }
            },
            "type": "table"
           }
          ]
         },
         "layout": {
          "annotationdefaults": {
           "arrowcolor": "#2a3f5f",
           "arrowhead": 0,
           "arrowwidth": 1
          },
          "autotypenumbers": "strict",
          "coloraxis": {
           "colorbar": {
            "outlinewidth": 0,
            "ticks": ""
           }
          },
          "colorscale": {
           "diverging": [
            [
             0,
             "#8e0152"
            ],
            [
             0.1,
             "#c51b7d"
            ],
            [
             0.2,
             "#de77ae"
            ],
            [
             0.3,
             "#f1b6da"
            ],
            [
             0.4,
             "#fde0ef"
            ],
            [
             0.5,
             "#f7f7f7"
            ],
            [
             0.6,
             "#e6f5d0"
            ],
            [
             0.7,
             "#b8e186"
            ],
            [
             0.8,
             "#7fbc41"
            ],
            [
             0.9,
             "#4d9221"
            ],
            [
             1,
             "#276419"
            ]
           ],
           "sequential": [
            [
             0,
             "#0d0887"
            ],
            [
             0.1111111111111111,
             "#46039f"
            ],
            [
             0.2222222222222222,
             "#7201a8"
            ],
            [
             0.3333333333333333,
             "#9c179e"
            ],
            [
             0.4444444444444444,
             "#bd3786"
            ],
            [
             0.5555555555555556,
             "#d8576b"
            ],
            [
             0.6666666666666666,
             "#ed7953"
            ],
            [
             0.7777777777777778,
             "#fb9f3a"
            ],
            [
             0.8888888888888888,
             "#fdca26"
            ],
            [
             1,
             "#f0f921"
            ]
           ],
           "sequentialminus": [
            [
             0,
             "#0d0887"
            ],
            [
             0.1111111111111111,
             "#46039f"
            ],
            [
             0.2222222222222222,
             "#7201a8"
            ],
            [
             0.3333333333333333,
             "#9c179e"
            ],
            [
             0.4444444444444444,
             "#bd3786"
            ],
            [
             0.5555555555555556,
             "#d8576b"
            ],
            [
             0.6666666666666666,
             "#ed7953"
            ],
            [
             0.7777777777777778,
             "#fb9f3a"
            ],
            [
             0.8888888888888888,
             "#fdca26"
            ],
            [
             1,
             "#f0f921"
            ]
           ]
          },
          "colorway": [
           "#636efa",
           "#EF553B",
           "#00cc96",
           "#ab63fa",
           "#FFA15A",
           "#19d3f3",
           "#FF6692",
           "#B6E880",
           "#FF97FF",
           "#FECB52"
          ],
          "font": {
           "color": "#2a3f5f"
          },
          "geo": {
           "bgcolor": "white",
           "lakecolor": "white",
           "landcolor": "#E5ECF6",
           "showlakes": true,
           "showland": true,
           "subunitcolor": "white"
          },
          "hoverlabel": {
           "align": "left"
          },
          "hovermode": "closest",
          "mapbox": {
           "style": "light"
          },
          "paper_bgcolor": "white",
          "plot_bgcolor": "#E5ECF6",
          "polar": {
           "angularaxis": {
            "gridcolor": "white",
            "linecolor": "white",
            "ticks": ""
           },
           "bgcolor": "#E5ECF6",
           "radialaxis": {
            "gridcolor": "white",
            "linecolor": "white",
            "ticks": ""
           }
          },
          "scene": {
           "xaxis": {
            "backgroundcolor": "#E5ECF6",
            "gridcolor": "white",
            "gridwidth": 2,
            "linecolor": "white",
            "showbackground": true,
            "ticks": "",
            "zerolinecolor": "white"
           },
           "yaxis": {
            "backgroundcolor": "#E5ECF6",
            "gridcolor": "white",
            "gridwidth": 2,
            "linecolor": "white",
            "showbackground": true,
            "ticks": "",
            "zerolinecolor": "white"
           },
           "zaxis": {
            "backgroundcolor": "#E5ECF6",
            "gridcolor": "white",
            "gridwidth": 2,
            "linecolor": "white",
            "showbackground": true,
            "ticks": "",
            "zerolinecolor": "white"
           }
          },
          "shapedefaults": {
           "line": {
            "color": "#2a3f5f"
           }
          },
          "ternary": {
           "aaxis": {
            "gridcolor": "white",
            "linecolor": "white",
            "ticks": ""
           },
           "baxis": {
            "gridcolor": "white",
            "linecolor": "white",
            "ticks": ""
           },
           "bgcolor": "#E5ECF6",
           "caxis": {
            "gridcolor": "white",
            "linecolor": "white",
            "ticks": ""
           }
          },
          "title": {
           "x": 0.05
          },
          "xaxis": {
           "automargin": true,
           "gridcolor": "white",
           "linecolor": "white",
           "ticks": "",
           "title": {
            "standoff": 15
           },
           "zerolinecolor": "white",
           "zerolinewidth": 2
          },
          "yaxis": {
           "automargin": true,
           "gridcolor": "white",
           "linecolor": "white",
           "ticks": "",
           "title": {
            "standoff": 15
           },
           "zerolinecolor": "white",
           "zerolinewidth": 2
          }
         }
        },
        "title": {
         "text": "Empirical Distribution Function Plot"
        },
        "xaxis": {
         "title": {
          "text": "Objective Value"
         }
        },
        "yaxis": {
         "range": [
          0,
          1
         ],
         "title": {
          "text": "Cumulative Probability"
         }
        }
       }
      }
     },
     "metadata": {},
     "output_type": "display_data"
    }
   ],
   "source": [
    "optuna.visualization.plot_edf(study)"
   ]
  }
 ],
 "metadata": {
  "kernelspec": {
   "display_name": "kaggle",
   "language": "python",
   "name": "python3"
  },
  "language_info": {
   "codemirror_mode": {
    "name": "ipython",
    "version": 3
   },
   "file_extension": ".py",
   "mimetype": "text/x-python",
   "name": "python",
   "nbconvert_exporter": "python",
   "pygments_lexer": "ipython3",
   "version": "3.10.13"
  }
 },
 "nbformat": 4,
 "nbformat_minor": 2
}
