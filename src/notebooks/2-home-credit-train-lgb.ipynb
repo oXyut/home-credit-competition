{
 "cells": [
  {
   "cell_type": "code",
   "execution_count": null,
   "id": "43ab737e",
   "metadata": {
    "execution": {
     "iopub.execute_input": "2024-04-07T07:08:47.161836Z",
     "iopub.status.busy": "2024-04-07T07:08:47.160904Z",
     "iopub.status.idle": "2024-04-07T07:08:53.556637Z",
     "shell.execute_reply": "2024-04-07T07:08:53.555783Z"
    },
    "papermill": {
     "duration": 6.407395,
     "end_time": "2024-04-07T07:08:53.559076",
     "exception": false,
     "start_time": "2024-04-07T07:08:47.151681",
     "status": "completed"
    },
    "tags": []
   },
   "outputs": [],
   "source": [
    "import datetime\n",
    "import gc\n",
    "import pathlib\n",
    "import random\n",
    "from typing import Dict, List, Tuple, Union\n",
    "import sys\n",
    "\n",
    "from joblib import dump\n",
    "import lightgbm as lgb\n",
    "import matplotlib.pyplot as plt\n",
    "import numpy as np\n",
    "import pandas as pd\n",
    "import polars as pl\n",
    "import seaborn as sns\n",
    "from sklearn.model_selection import StratifiedGroupKFold, TimeSeriesSplit\n",
    "from sklearn.preprocessing import OrdinalEncoder\n",
    "\n",
    "sys.path.append('..')\n",
    "\n",
    "from scripts.evaluate import Evaluator\n",
    "from scripts.get_depth_paths import get_depth_paths\n",
    "from scripts.get_logger import get_logger\n",
    "from scripts.merge_dataset import merge_dataset\n",
    "\n",
    "\n",
    "gc.enable()"
   ]
  },
  {
   "cell_type": "code",
   "execution_count": null,
   "id": "7c543fa3",
   "metadata": {
    "execution": {
     "iopub.execute_input": "2024-04-07T07:08:54.558144Z",
     "iopub.status.busy": "2024-04-07T07:08:54.557752Z",
     "iopub.status.idle": "2024-04-07T07:08:54.562733Z",
     "shell.execute_reply": "2024-04-07T07:08:54.561824Z"
    },
    "papermill": {
     "duration": 0.015758,
     "end_time": "2024-04-07T07:08:54.564766",
     "exception": false,
     "start_time": "2024-04-07T07:08:54.549008",
     "status": "completed"
    },
    "tags": []
   },
   "outputs": [],
   "source": [
    "class PathHandler:\n",
    "    competition_dir = pathlib.Path('../../inputs')\n",
    "    parquet_files_dir = competition_dir.joinpath('parquet_files')\n",
    "    feature_dir = pathlib.Path('../../outputs/features')\n",
    "    now_time = datetime.datetime.now()\n",
    "    output_dir = pathlib.Path(\n",
    "        f'../../outputs/output_lgb/model_outputs_{now_time.date()}-{now_time.hour:02}-{now_time.minute:02}'\n",
    "    )\n",
    "    if not output_dir.is_dir():\n",
    "        output_dir.mkdir(parents=True)\n",
    "\n",
    "\n",
    "paths = PathHandler()"
   ]
  },
  {
   "cell_type": "markdown",
   "id": "521bf7b6",
   "metadata": {},
   "source": [
    "### load cast type features\n",
    "- cast bool types into pl.Int8 because of NoneType and NaN."
   ]
  },
  {
   "cell_type": "code",
   "execution_count": null,
   "id": "f4eb9160",
   "metadata": {
    "execution": {
     "iopub.execute_input": "2024-04-07T07:08:54.581349Z",
     "iopub.status.busy": "2024-04-07T07:08:54.581000Z",
     "iopub.status.idle": "2024-04-07T07:08:54.649688Z",
     "shell.execute_reply": "2024-04-07T07:08:54.648820Z"
    },
    "papermill": {
     "duration": 0.079397,
     "end_time": "2024-04-07T07:08:54.651744",
     "exception": false,
     "start_time": "2024-04-07T07:08:54.572347",
     "status": "completed"
    },
    "tags": []
   },
   "outputs": [],
   "source": [
    "bool_features = pd.read_csv(paths.feature_dir.joinpath('bool_features.csv'))\n",
    "float64_features = pd.read_csv(paths.feature_dir.joinpath('float64_features.csv'))\n",
    "string_features = pd.read_csv(paths.feature_dir.joinpath('string_features.csv'))\n",
    "date_features = pd.read_csv(paths.feature_dir.joinpath('date_features.csv'))\n",
    "\n",
    "bool_features['cast_dtype'] = pl.Int8\n",
    "float64_features['cast_dtype'] = pl.Float32\n",
    "string_features['cast_dtype'] = pl.String\n",
    "date_features['cast_dtype'] = pl.Date\n",
    "if paths.feature_dir.joinpath('useful_features.csv').is_file():\n",
    "    useful_features = pd.read_csv(paths.feature_dir.joinpath('useful_features.csv'))\n",
    "else:\n",
    "    useful_features = None\n",
    "#useful_features = None\n",
    "display(useful_features)"
   ]
  },
  {
   "cell_type": "code",
   "execution_count": null,
   "id": "728a7515",
   "metadata": {},
   "outputs": [],
   "source": [
    "train_depth_paths = get_depth_paths(paths.parquet_files_dir, 'train')\n",
    "print(f'number of test paths: {sum(len(v1) for v1 in train_depth_paths.values())}')"
   ]
  },
  {
   "cell_type": "code",
   "execution_count": null,
   "id": "6e0872cf",
   "metadata": {
    "execution": {
     "iopub.execute_input": "2024-04-07T07:08:54.772900Z",
     "iopub.status.busy": "2024-04-07T07:08:54.772179Z",
     "iopub.status.idle": "2024-04-07T07:08:55.084351Z",
     "shell.execute_reply": "2024-04-07T07:08:55.083305Z"
    },
    "papermill": {
     "duration": 0.323053,
     "end_time": "2024-04-07T07:08:55.086357",
     "exception": false,
     "start_time": "2024-04-07T07:08:54.763304",
     "status": "completed"
    },
    "tags": []
   },
   "outputs": [],
   "source": [
    "train_base_data = pl.read_parquet(\n",
    "    paths.parquet_files_dir.joinpath('train/train_base.parquet')\n",
    ")\n",
    "train_base_data = train_base_data.cast(\n",
    "    {\n",
    "        'case_id': pl.Int64,\n",
    "        'date_decision': pl.String,\n",
    "        'MONTH': pl.Int64,\n",
    "        'WEEK_NUM': pl.Int64,\n",
    "        'target': pl.Int64,\n",
    "    }\n",
    ")\n",
    "display(train_base_data)"
   ]
  },
  {
   "cell_type": "code",
   "execution_count": null,
   "id": "02cc2be5",
   "metadata": {
    "execution": {
     "iopub.execute_input": "2024-04-07T07:08:55.103949Z",
     "iopub.status.busy": "2024-04-07T07:08:55.103610Z",
     "iopub.status.idle": "2024-04-07T07:11:13.897658Z",
     "shell.execute_reply": "2024-04-07T07:11:13.896738Z"
    },
    "papermill": {
     "duration": 138.818965,
     "end_time": "2024-04-07T07:11:13.913483",
     "exception": false,
     "start_time": "2024-04-07T07:08:55.094518",
     "status": "completed"
    },
    "tags": []
   },
   "outputs": [],
   "source": [
    "%%time\n",
    "\n",
    "\n",
    "depth_data = merge_dataset(\n",
    "    train_base_data,\n",
    "    train_depth_paths,\n",
    "    bool_features,\n",
    "    float64_features,\n",
    "    string_features,\n",
    "    date_features,\n",
    "    useful_features,\n",
    "    '012'\n",
    ")\n",
    "display(depth_data)\n",
    "display(depth_data.dtypes.value_counts())"
   ]
  },
  {
   "cell_type": "code",
   "execution_count": null,
   "id": "7fa199e4",
   "metadata": {},
   "outputs": [],
   "source": [
    "display(depth_data[depth_data.dtypes.index[depth_data.dtypes=='float64']])"
   ]
  },
  {
   "cell_type": "markdown",
   "id": "0e4efeda",
   "metadata": {},
   "source": [
    "### drop columns which have many nans"
   ]
  },
  {
   "cell_type": "code",
   "execution_count": null,
   "id": "daa695ff",
   "metadata": {},
   "outputs": [],
   "source": [
    "ratio_nan = depth_data.isna().sum() / len(depth_data)\n",
    "display(ratio_nan)\n",
    "\n",
    "depth_data = depth_data[ratio_nan[ratio_nan < 0.5].index]\n",
    "display(depth_data)"
   ]
  },
  {
   "cell_type": "markdown",
   "id": "eb745b4e",
   "metadata": {
    "papermill": {
     "duration": 0.011247,
     "end_time": "2024-04-07T07:11:13.974695",
     "exception": false,
     "start_time": "2024-04-07T07:11:13.963448",
     "status": "completed"
    },
    "tags": []
   },
   "source": [
    "### encoding"
   ]
  },
  {
   "cell_type": "code",
   "execution_count": null,
   "id": "64a66526",
   "metadata": {
    "execution": {
     "iopub.execute_input": "2024-04-07T07:11:13.999732Z",
     "iopub.status.busy": "2024-04-07T07:11:13.999135Z",
     "iopub.status.idle": "2024-04-07T07:11:14.006880Z",
     "shell.execute_reply": "2024-04-07T07:11:14.006000Z"
    },
    "papermill": {
     "duration": 0.022415,
     "end_time": "2024-04-07T07:11:14.008902",
     "exception": false,
     "start_time": "2024-04-07T07:11:13.986487",
     "status": "completed"
    },
    "tags": []
   },
   "outputs": [],
   "source": [
    "def encode_objects(\n",
    "        depth_data: pd.DataFrame,\n",
    "        output_dir: pathlib.Path\n",
    "    ) -> pd.DataFrame:\n",
    "\n",
    "    if not output_dir.is_dir():\n",
    "        output_dir.mkdir(parents=True)\n",
    "\n",
    "    object_columns = depth_data.dtypes.index[depth_data.dtypes==object].to_list()\n",
    "    if 'date_decision' in object_columns:\n",
    "        object_columns.remove('date_decision')\n",
    "    print(len(object_columns))\n",
    "    \n",
    "    object_data = []\n",
    "    for col in object_columns:\n",
    "        encoder = OrdinalEncoder(handle_unknown='use_encoded_value', unknown_value=-1)\n",
    "        encoded_class = encoder.fit_transform(depth_data[col].values.reshape(-1, 1))\n",
    "        object_data.append(encoded_class.astype(np.float32))\n",
    "        dump(encoder, output_dir.joinpath(f'encoder_{col}.joblib'))\n",
    "    depth_data.drop(columns=object_columns, inplace=True)\n",
    "    object_data = np.concatenate(object_data, axis=1)\n",
    "    object_data = pd.DataFrame(object_data, columns=object_columns)\n",
    "    \n",
    "    return pd.concat([depth_data, object_data], axis=1)"
   ]
  },
  {
   "cell_type": "code",
   "execution_count": null,
   "id": "b9a259b6",
   "metadata": {
    "execution": {
     "iopub.execute_input": "2024-04-07T07:11:14.033639Z",
     "iopub.status.busy": "2024-04-07T07:11:14.032890Z",
     "iopub.status.idle": "2024-04-07T07:12:00.549745Z",
     "shell.execute_reply": "2024-04-07T07:12:00.548714Z"
    },
    "papermill": {
     "duration": 46.545955,
     "end_time": "2024-04-07T07:12:00.566375",
     "exception": false,
     "start_time": "2024-04-07T07:11:14.020420",
     "status": "completed"
    },
    "tags": []
   },
   "outputs": [],
   "source": [
    "%%time\n",
    "\n",
    "\n",
    "depth_data = encode_objects(\n",
    "    depth_data,\n",
    "    paths.output_dir.joinpath('encoders')\n",
    ")\n",
    "display(depth_data)"
   ]
  },
  {
   "cell_type": "markdown",
   "id": "7d1630f4",
   "metadata": {
    "papermill": {
     "duration": 0.012679,
     "end_time": "2024-04-07T07:12:00.841771",
     "exception": false,
     "start_time": "2024-04-07T07:12:00.829092",
     "status": "completed"
    },
    "tags": []
   },
   "source": [
    "### training"
   ]
  },
  {
   "cell_type": "code",
   "execution_count": null,
   "id": "4a516653",
   "metadata": {
    "execution": {
     "iopub.execute_input": "2024-04-07T07:12:00.869083Z",
     "iopub.status.busy": "2024-04-07T07:12:00.868705Z",
     "iopub.status.idle": "2024-04-07T07:12:00.876891Z",
     "shell.execute_reply": "2024-04-07T07:12:00.876047Z"
    },
    "papermill": {
     "duration": 0.024299,
     "end_time": "2024-04-07T07:12:00.878843",
     "exception": false,
     "start_time": "2024-04-07T07:12:00.854544",
     "status": "completed"
    },
    "tags": []
   },
   "outputs": [],
   "source": [
    "class CFG:\n",
    "    def __init__(\n",
    "            self,\n",
    "            outputs_dir: pathlib.Path,\n",
    "            n_splits: int = 5,\n",
    "            lr: float = 0.1,\n",
    "            max_depth: int = -1,\n",
    "            num_leaves: int = 31,\n",
    "            min_data_in_leaf: int = 20,\n",
    "            bagging_fraction: float = 1.0,\n",
    "            feature_fraction_bynode: float = 1.0,\n",
    "            num_boost_round: int = 1000,\n",
    "            seed: int = 42,\n",
    "            device: str = 'cpu',\n",
    "            debag: bool = False,\n",
    "        ):\n",
    "        \n",
    "        self.outputs_dir = outputs_dir\n",
    "        self.n_splits = n_splits\n",
    "        self.lr = lr\n",
    "        self.max_depth = max_depth\n",
    "        self.num_leaves = num_leaves\n",
    "        self.min_data_in_leaf = min_data_in_leaf\n",
    "        self.bagging_fraction = bagging_fraction\n",
    "        self.feature_fraction_bynode = feature_fraction_bynode\n",
    "        self.num_boost_round = num_boost_round\n",
    "        self.seed = seed\n",
    "        self.device = device\n",
    "        self.debag = debag\n",
    "        \n",
    "    def seed_everything(self):\n",
    "        random.seed(self.seed)\n",
    "        np.random.seed(self.seed)"
   ]
  },
  {
   "cell_type": "code",
   "execution_count": null,
   "id": "f606c6cf",
   "metadata": {
    "execution": {
     "iopub.execute_input": "2024-04-07T07:12:00.906072Z",
     "iopub.status.busy": "2024-04-07T07:12:00.905727Z",
     "iopub.status.idle": "2024-04-07T07:12:00.921597Z",
     "shell.execute_reply": "2024-04-07T07:12:00.920708Z"
    },
    "papermill": {
     "duration": 0.03172,
     "end_time": "2024-04-07T07:12:00.923474",
     "exception": false,
     "start_time": "2024-04-07T07:12:00.891754",
     "status": "completed"
    },
    "tags": []
   },
   "outputs": [],
   "source": [
    "def train(config, logger, Xy):\n",
    "    \n",
    "    kfold = StratifiedGroupKFold(\n",
    "        n_splits=config.n_splits,\n",
    "        shuffle=True,\n",
    "        random_state=config.seed,\n",
    "    )\n",
    "    \n",
    "    y = Xy['target'].copy()\n",
    "    groups = Xy['WEEK_NUM'].copy()\n",
    "    oof = Xy[['case_id', 'date_decision', 'MONTH', 'WEEK_NUM', 'target']].copy()\n",
    "    oof_probas = -1 * np.ones(len(oof))\n",
    "    folds = -1 * np.ones(len(oof))\n",
    "    X = Xy[[col for col in Xy.columns if col not in ['case_id', 'date_decision', 'MONTH', 'WEEK_NUM', 'target']]].copy()\n",
    "    display(X)\n",
    "    display(X.dtypes.value_counts())\n",
    "    display(oof)\n",
    "\n",
    "    logger.info(f'number of features: {X.shape}')\n",
    "    \n",
    "    np.save(config.outputs_dir.joinpath('training_features.npy'), X.columns.to_numpy())\n",
    "    \n",
    "    del Xy\n",
    "    gc.collect()\n",
    "    \n",
    "    fimps = pd.DataFrame(\n",
    "        index=X.columns,\n",
    "        columns=[f'fold_{k+1}_fimp' for k in range(config.n_splits)]\n",
    "    )\n",
    "    \n",
    "    model_params = {\n",
    "        'task': 'train',\n",
    "        'boosting_type': 'gbdt',\n",
    "        'objective': 'binary',\n",
    "        'metric': ['average_precision', 'auc', 'binary_logloss'],\n",
    "        'learning_rate': config.lr,\n",
    "        'seed': config.seed,\n",
    "        'max_depth': config.max_depth,\n",
    "        'num_leaves': config.num_leaves,\n",
    "        'min_data_in_leaf': config.min_data_in_leaf,\n",
    "        'bagging_fraction': config.bagging_fraction,\n",
    "        'feature_fraction_bynode': config.feature_fraction_bynode,\n",
    "        'device': config.device,\n",
    "    }\n",
    "    \n",
    "    lgb.register_logger(logger) \n",
    "    \n",
    "    for k, (train_indices, valid_indices) in enumerate(kfold.split(X=X, y=y, groups=groups)):\n",
    "        logger.info(f'fold: {k+1}')\n",
    "        logger.info(f'# of train: {len(train_indices)}')\n",
    "        logger.info(f'# of valid: {len(valid_indices)}')\n",
    "\n",
    "        logger.info(f'train WEEK_NUM: {oof.iloc[train_indices][\"WEEK_NUM\"].unique()}')\n",
    "        logger.info(f'valid WEEK_NUM: {oof.iloc[valid_indices][\"WEEK_NUM\"].unique()}')\n",
    "        \n",
    "        train_X = X.iloc[train_indices]\n",
    "        valid_X = X.iloc[valid_indices]\n",
    "        \n",
    "        train_y = y.iloc[train_indices]\n",
    "        valid_y = y.iloc[valid_indices]\n",
    "        \n",
    "        train_dataset = lgb.Dataset(data=train_X, label=train_y)\n",
    "        valid_dataset = lgb.Dataset(data=valid_X, label=valid_y, reference=train_dataset)\n",
    "        \n",
    "        callbacks = [\n",
    "            lgb.early_stopping(stopping_rounds=100, first_metric_only=True, verbose=True),\n",
    "            lgb.log_evaluation(100),\n",
    "        ]\n",
    "        \n",
    "        model = lgb.train(\n",
    "            params=model_params,\n",
    "            train_set=train_dataset,\n",
    "            valid_sets=[train_dataset, valid_dataset],\n",
    "            valid_names=['train', 'valid'],\n",
    "            callbacks=callbacks,\n",
    "            num_boost_round=config.num_boost_round,\n",
    "        )\n",
    "\n",
    "        date = ''.join(config.outputs_dir.stem.split('-')[-4:])\n",
    "        model.save_model(\n",
    "            config.outputs_dir.joinpath(f'lgb_fold{k+1}_{date}.txt'),\n",
    "            num_iteration=model.best_iteration\n",
    "        )\n",
    "        \n",
    "        fimps.loc[train_X.columns, f'fold_{k+1}_fimp'] = model.feature_importance(importance_type='gain')\n",
    "        \n",
    "        oof_probas[valid_indices] = model.predict(valid_X, num_iteration=model.best_iteration)\n",
    "        folds[valid_indices] = k\n",
    "        \n",
    "        del train_X, train_y, valid_X, valid_y\n",
    "        del train_dataset, valid_dataset\n",
    "        del model\n",
    "        gc.collect()\n",
    "        \n",
    "    oof.loc[:, 'probability'] = oof_probas\n",
    "    oof.loc[:, 'fold'] = folds\n",
    "    \n",
    "    del oof_probas, folds\n",
    "    gc.collect()\n",
    "\n",
    "    logger.info('Done!\\n')\n",
    "    \n",
    "    return oof, fimps"
   ]
  },
  {
   "cell_type": "code",
   "execution_count": null,
   "id": "8d1a49e6",
   "metadata": {
    "execution": {
     "iopub.execute_input": "2024-04-07T07:12:00.950825Z",
     "iopub.status.busy": "2024-04-07T07:12:00.950516Z",
     "iopub.status.idle": "2024-04-07T07:36:00.957458Z",
     "shell.execute_reply": "2024-04-07T07:36:00.956483Z"
    },
    "papermill": {
     "duration": 1440.023208,
     "end_time": "2024-04-07T07:36:00.959735",
     "exception": false,
     "start_time": "2024-04-07T07:12:00.936527",
     "status": "completed"
    },
    "tags": []
   },
   "outputs": [],
   "source": [
    "%%time\n",
    "\n",
    "\n",
    "config = CFG(\n",
    "    outputs_dir=paths.output_dir,\n",
    "    n_splits=5,\n",
    "    lr=1e-02,\n",
    "    max_depth=-1,\n",
    "    min_data_in_leaf=100,\n",
    "    bagging_fraction=0.8,\n",
    "    feature_fraction_bynode=1.0,\n",
    "    num_boost_round=10000,\n",
    "    seed=42,\n",
    "    device='CPU',\n",
    "    debag=False,\n",
    ")\n",
    "config.seed_everything()\n",
    "\n",
    "logger = get_logger(paths.output_dir.joinpath('output.log'))\n",
    "\n",
    "log = [f'{k} = {config.__dict__[k]}' for k, v in config.__dict__.items() if not k.startswith('__')]\n",
    "logger.info('\\n'.join(log))\n",
    "logger.info('\\n')\n",
    "\n",
    "if config.debag:\n",
    "    oof, fimps = train(config, logger, depth_data.iloc[:10000])\n",
    "else:\n",
    "    oof, fimps = train(config, logger, depth_data.query('WEEK_NUM < 63'))"
   ]
  },
  {
   "cell_type": "code",
   "execution_count": null,
   "id": "8a17ad56",
   "metadata": {
    "execution": {
     "iopub.execute_input": "2024-04-07T07:36:01.005674Z",
     "iopub.status.busy": "2024-04-07T07:36:01.005338Z",
     "iopub.status.idle": "2024-04-07T07:36:02.859645Z",
     "shell.execute_reply": "2024-04-07T07:36:02.858713Z"
    },
    "papermill": {
     "duration": 1.879495,
     "end_time": "2024-04-07T07:36:02.861766",
     "exception": false,
     "start_time": "2024-04-07T07:36:00.982271",
     "status": "completed"
    },
    "tags": []
   },
   "outputs": [],
   "source": [
    "display(oof)\n",
    "print(oof['probability'].describe())\n",
    "\n",
    "_, ax = plt.subplots()\n",
    "sns.histplot(data=oof, x='probability', hue='target', bins=50, ax=ax)\n",
    "plt.yscale('log')\n",
    "plt.show()"
   ]
  },
  {
   "cell_type": "code",
   "execution_count": null,
   "id": "82e02df5",
   "metadata": {
    "execution": {
     "iopub.execute_input": "2024-04-07T07:36:02.909667Z",
     "iopub.status.busy": "2024-04-07T07:36:02.908860Z",
     "iopub.status.idle": "2024-04-07T07:36:08.875460Z",
     "shell.execute_reply": "2024-04-07T07:36:08.874375Z"
    },
    "papermill": {
     "duration": 6.015796,
     "end_time": "2024-04-07T07:36:08.900620",
     "exception": false,
     "start_time": "2024-04-07T07:36:02.884824",
     "status": "completed"
    },
    "tags": []
   },
   "outputs": [],
   "source": [
    "fimps['fimp_mean'] = fimps.mean(axis=1)\n",
    "fimps['fimp_std'] = fimps.std(axis=1)\n",
    "fimps.sort_values('fimp_mean', inplace=True)\n",
    "display(fimps)\n",
    "\n",
    "_, ax = plt.subplots(figsize=(8, 16*(len(fimps)//100)))\n",
    "ax.barh(y=fimps.index, width=fimps['fimp_mean'], xerr=fimps['fimp_std'], capsize=3)\n",
    "plt.tight_layout()\n",
    "plt.show()"
   ]
  },
  {
   "cell_type": "code",
   "execution_count": null,
   "id": "9b06a4a9",
   "metadata": {
    "execution": {
     "iopub.execute_input": "2024-04-07T07:36:09.006149Z",
     "iopub.status.busy": "2024-04-07T07:36:09.005763Z",
     "iopub.status.idle": "2024-04-07T07:36:17.611621Z",
     "shell.execute_reply": "2024-04-07T07:36:17.610812Z"
    },
    "papermill": {
     "duration": 8.660633,
     "end_time": "2024-04-07T07:36:17.613909",
     "exception": false,
     "start_time": "2024-04-07T07:36:08.953276",
     "status": "completed"
    },
    "tags": []
   },
   "outputs": [],
   "source": [
    "oof.to_csv(paths.output_dir.joinpath('oof.csv'), index=False)\n",
    "\n",
    "fimps = fimps.reset_index(names=['processed_Variable'])\n",
    "fimps.to_csv(paths.output_dir.joinpath('feature_importances.csv'), index=False)"
   ]
  },
  {
   "cell_type": "markdown",
   "id": "28053915",
   "metadata": {},
   "source": [
    "$$\n",
    "\\mathrm{stability metric}=mean(gini)+88.0⋅min(0,a)−0.5⋅std(residuals)\n",
    "$$"
   ]
  },
  {
   "cell_type": "code",
   "execution_count": null,
   "id": "adbc492d",
   "metadata": {},
   "outputs": [],
   "source": [
    "evaluater = Evaluator(oof)\n",
    "gini_per_week, outcome = evaluater.plot_gini()\n",
    "display(gini_per_week)\n",
    "print(outcome)\n",
    "\n",
    "logger.info(\n",
    "    f'stability: {outcome[\"stability\"].item()}\\n'\n",
    "    + f'slope: {outcome[\"slope\"].item()}\\n'\n",
    "    + f'intercept: {outcome[\"intercept\"].item()}\\n'\n",
    ")\n",
    "\n",
    "outcome.to_csv(paths.output_dir.joinpath('outcome.csv'), index=False)"
   ]
  },
  {
   "cell_type": "code",
   "execution_count": null,
   "id": "794c214d",
   "metadata": {},
   "outputs": [],
   "source": []
  }
 ],
 "metadata": {
  "kaggle": {
   "accelerator": "gpu",
   "dataSources": [
    {
     "databundleVersionId": 7921029,
     "sourceId": 50160,
     "sourceType": "competition"
    },
    {
     "sourceId": 170742013,
     "sourceType": "kernelVersion"
    }
   ],
   "dockerImageVersionId": 30664,
   "isGpuEnabled": true,
   "isInternetEnabled": true,
   "language": "python",
   "sourceType": "notebook"
  },
  "kernelspec": {
   "display_name": "Python 3",
   "language": "python",
   "name": "python3"
  },
  "language_info": {
   "codemirror_mode": {
    "name": "ipython",
    "version": 3
   },
   "file_extension": ".py",
   "mimetype": "text/x-python",
   "name": "python",
   "nbconvert_exporter": "python",
   "pygments_lexer": "ipython3",
   "version": "3.10.12"
  },
  "papermill": {
   "default_parameters": {},
   "duration": 1656.137138,
   "end_time": "2024-04-07T07:36:20.485386",
   "environment_variables": {},
   "exception": null,
   "input_path": "__notebook__.ipynb",
   "output_path": "__notebook__.ipynb",
   "parameters": {},
   "start_time": "2024-04-07T07:08:44.348248",
   "version": "2.5.0"
  }
 },
 "nbformat": 4,
 "nbformat_minor": 5
}
