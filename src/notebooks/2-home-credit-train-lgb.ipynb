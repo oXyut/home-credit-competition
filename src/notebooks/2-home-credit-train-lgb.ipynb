{
 "cells": [
  {
   "cell_type": "code",
   "execution_count": 1,
   "id": "30d7e59f",
   "metadata": {
    "_cell_guid": "b1076dfc-b9ad-4769-8c92-a6c4dae69d19",
    "_uuid": "8f2839f25d086af736a60e9eeb907d3b93b6e0e5",
    "execution": {
     "iopub.execute_input": "2024-05-02T02:06:12.588743Z",
     "iopub.status.busy": "2024-05-02T02:06:12.588430Z",
     "iopub.status.idle": "2024-05-02T02:06:18.127797Z",
     "shell.execute_reply": "2024-05-02T02:06:18.126821Z"
    },
    "papermill": {
     "duration": 5.551096,
     "end_time": "2024-05-02T02:06:18.130190",
     "exception": false,
     "start_time": "2024-05-02T02:06:12.579094",
     "status": "completed"
    },
    "tags": []
   },
   "outputs": [],
   "source": [
    "import datetime\n",
    "import gc\n",
    "import os\n",
    "import pathlib\n",
    "import random\n",
    "import sys\n",
    "sys.path.append('..')\n",
    "from typing import Dict, List, Tuple, Union\n",
    "\n",
    "from joblib import load\n",
    "import lightgbm as lgb\n",
    "import matplotlib.pyplot as plt\n",
    "import numpy as np\n",
    "import pandas as pd\n",
    "import polars as pl\n",
    "import seaborn as sns\n",
    "from sklearn.model_selection import StratifiedGroupKFold, TimeSeriesSplit\n",
    "from sklearn.preprocessing import OrdinalEncoder\n",
    "\n",
    "from scripts.evaluate import Evaluator\n",
    "from scripts.get_logger import get_logger\n",
    "\n",
    "\n",
    "gc.enable()"
   ]
  },
  {
   "cell_type": "code",
   "execution_count": 2,
   "id": "eb928e8e",
   "metadata": {
    "execution": {
     "iopub.execute_input": "2024-05-02T02:06:18.147245Z",
     "iopub.status.busy": "2024-05-02T02:06:18.146954Z",
     "iopub.status.idle": "2024-05-02T02:06:18.152541Z",
     "shell.execute_reply": "2024-05-02T02:06:18.151679Z"
    },
    "papermill": {
     "duration": 0.016109,
     "end_time": "2024-05-02T02:06:18.154302",
     "exception": false,
     "start_time": "2024-05-02T02:06:18.138193",
     "status": "completed"
    },
    "tags": []
   },
   "outputs": [],
   "source": [
    "class PathHandler:\n",
    "    competition_dir = pathlib.Path('../../inputs')\n",
    "    parquet_files_dir = competition_dir.joinpath('parquet_files')\n",
    "    feature_dir = pathlib.Path('../../outputs/features')\n",
    "    now_time = datetime.datetime.now()\n",
    "    dataset_dir = pathlib.Path('../../dataset')\n",
    "    output_dir = pathlib.Path(\n",
    "        '../../outputs/output_lgb/'\n",
    "        + f'model_outputs_{now_time.date()}-{now_time.hour:02}-{now_time.minute:02}'\n",
    "    )\n",
    "    if not output_dir.is_dir():\n",
    "        output_dir.mkdir(parents=True)\n",
    "\n",
    "\n",
    "paths = PathHandler()"
   ]
  },
  {
   "cell_type": "markdown",
   "id": "00f40fe7",
   "metadata": {},
   "source": [
    "### load depth_data"
   ]
  },
  {
   "cell_type": "code",
   "execution_count": 3,
   "id": "8f268841",
   "metadata": {},
   "outputs": [
    {
     "ename": "KeyboardInterrupt",
     "evalue": "",
     "output_type": "error",
     "traceback": [
      "\u001b[0;31m---------------------------------------------------------------------------\u001b[0m",
      "\u001b[0;31mKeyboardInterrupt\u001b[0m                         Traceback (most recent call last)",
      "Cell \u001b[0;32mIn[3], line 2\u001b[0m\n\u001b[1;32m      1\u001b[0m depth_data \u001b[38;5;241m=\u001b[39m pd\u001b[38;5;241m.\u001b[39mread_parquet(paths\u001b[38;5;241m.\u001b[39mdataset_dir\u001b[38;5;241m.\u001b[39mjoinpath(\u001b[38;5;124m'\u001b[39m\u001b[38;5;124mdepth_data.parquet\u001b[39m\u001b[38;5;124m'\u001b[39m))\n\u001b[0;32m----> 2\u001b[0m depth_data \u001b[38;5;241m=\u001b[39m \u001b[43mdepth_data\u001b[49m\u001b[38;5;241;43m.\u001b[39;49m\u001b[43mquery\u001b[49m\u001b[43m(\u001b[49m\u001b[38;5;124;43m'\u001b[39;49m\u001b[38;5;124;43mis_test==0\u001b[39;49m\u001b[38;5;124;43m'\u001b[39;49m\u001b[43m)\u001b[49m\n\u001b[1;32m      3\u001b[0m depth_data\u001b[38;5;241m.\u001b[39mdrop(columns\u001b[38;5;241m=\u001b[39m[\u001b[38;5;124m'\u001b[39m\u001b[38;5;124mis_test\u001b[39m\u001b[38;5;124m'\u001b[39m], inplace\u001b[38;5;241m=\u001b[39m\u001b[38;5;28;01mTrue\u001b[39;00m)\n\u001b[1;32m      4\u001b[0m categorical_features \u001b[38;5;241m=\u001b[39m \u001b[38;5;28mlist\u001b[39m(np\u001b[38;5;241m.\u001b[39mload(paths\u001b[38;5;241m.\u001b[39mdataset_dir\u001b[38;5;241m.\u001b[39mjoinpath(\u001b[38;5;124m'\u001b[39m\u001b[38;5;124mcategorical_features.npy\u001b[39m\u001b[38;5;124m'\u001b[39m), allow_pickle\u001b[38;5;241m=\u001b[39m\u001b[38;5;28;01mTrue\u001b[39;00m))\n",
      "File \u001b[0;32m~/miniconda3/envs/home_credit/lib/python3.10/site-packages/pandas/core/frame.py:4826\u001b[0m, in \u001b[0;36mDataFrame.query\u001b[0;34m(self, expr, inplace, **kwargs)\u001b[0m\n\u001b[1;32m   4823\u001b[0m res \u001b[38;5;241m=\u001b[39m \u001b[38;5;28mself\u001b[39m\u001b[38;5;241m.\u001b[39meval(expr, \u001b[38;5;241m*\u001b[39m\u001b[38;5;241m*\u001b[39mkwargs)\n\u001b[1;32m   4825\u001b[0m \u001b[38;5;28;01mtry\u001b[39;00m:\n\u001b[0;32m-> 4826\u001b[0m     result \u001b[38;5;241m=\u001b[39m \u001b[38;5;28;43mself\u001b[39;49m\u001b[38;5;241;43m.\u001b[39;49m\u001b[43mloc\u001b[49m\u001b[43m[\u001b[49m\u001b[43mres\u001b[49m\u001b[43m]\u001b[49m\n\u001b[1;32m   4827\u001b[0m \u001b[38;5;28;01mexcept\u001b[39;00m \u001b[38;5;167;01mValueError\u001b[39;00m:\n\u001b[1;32m   4828\u001b[0m     \u001b[38;5;66;03m# when res is multi-dimensional loc raises, but this is sometimes a\u001b[39;00m\n\u001b[1;32m   4829\u001b[0m     \u001b[38;5;66;03m# valid query\u001b[39;00m\n\u001b[1;32m   4830\u001b[0m     result \u001b[38;5;241m=\u001b[39m \u001b[38;5;28mself\u001b[39m[res]\n",
      "File \u001b[0;32m~/miniconda3/envs/home_credit/lib/python3.10/site-packages/pandas/core/indexing.py:1191\u001b[0m, in \u001b[0;36m_LocationIndexer.__getitem__\u001b[0;34m(self, key)\u001b[0m\n\u001b[1;32m   1189\u001b[0m maybe_callable \u001b[38;5;241m=\u001b[39m com\u001b[38;5;241m.\u001b[39mapply_if_callable(key, \u001b[38;5;28mself\u001b[39m\u001b[38;5;241m.\u001b[39mobj)\n\u001b[1;32m   1190\u001b[0m maybe_callable \u001b[38;5;241m=\u001b[39m \u001b[38;5;28mself\u001b[39m\u001b[38;5;241m.\u001b[39m_check_deprecated_callable_usage(key, maybe_callable)\n\u001b[0;32m-> 1191\u001b[0m \u001b[38;5;28;01mreturn\u001b[39;00m \u001b[38;5;28;43mself\u001b[39;49m\u001b[38;5;241;43m.\u001b[39;49m\u001b[43m_getitem_axis\u001b[49m\u001b[43m(\u001b[49m\u001b[43mmaybe_callable\u001b[49m\u001b[43m,\u001b[49m\u001b[43m \u001b[49m\u001b[43maxis\u001b[49m\u001b[38;5;241;43m=\u001b[39;49m\u001b[43maxis\u001b[49m\u001b[43m)\u001b[49m\n",
      "File \u001b[0;32m~/miniconda3/envs/home_credit/lib/python3.10/site-packages/pandas/core/indexing.py:1413\u001b[0m, in \u001b[0;36m_LocIndexer._getitem_axis\u001b[0;34m(self, key, axis)\u001b[0m\n\u001b[1;32m   1411\u001b[0m     \u001b[38;5;28;01mreturn\u001b[39;00m \u001b[38;5;28mself\u001b[39m\u001b[38;5;241m.\u001b[39m_get_slice_axis(key, axis\u001b[38;5;241m=\u001b[39maxis)\n\u001b[1;32m   1412\u001b[0m \u001b[38;5;28;01melif\u001b[39;00m com\u001b[38;5;241m.\u001b[39mis_bool_indexer(key):\n\u001b[0;32m-> 1413\u001b[0m     \u001b[38;5;28;01mreturn\u001b[39;00m \u001b[38;5;28;43mself\u001b[39;49m\u001b[38;5;241;43m.\u001b[39;49m\u001b[43m_getbool_axis\u001b[49m\u001b[43m(\u001b[49m\u001b[43mkey\u001b[49m\u001b[43m,\u001b[49m\u001b[43m \u001b[49m\u001b[43maxis\u001b[49m\u001b[38;5;241;43m=\u001b[39;49m\u001b[43maxis\u001b[49m\u001b[43m)\u001b[49m\n\u001b[1;32m   1414\u001b[0m \u001b[38;5;28;01melif\u001b[39;00m is_list_like_indexer(key):\n\u001b[1;32m   1415\u001b[0m     \u001b[38;5;66;03m# an iterable multi-selection\u001b[39;00m\n\u001b[1;32m   1416\u001b[0m     \u001b[38;5;28;01mif\u001b[39;00m \u001b[38;5;129;01mnot\u001b[39;00m (\u001b[38;5;28misinstance\u001b[39m(key, \u001b[38;5;28mtuple\u001b[39m) \u001b[38;5;129;01mand\u001b[39;00m \u001b[38;5;28misinstance\u001b[39m(labels, MultiIndex)):\n",
      "File \u001b[0;32m~/miniconda3/envs/home_credit/lib/python3.10/site-packages/pandas/core/indexing.py:1211\u001b[0m, in \u001b[0;36m_LocationIndexer._getbool_axis\u001b[0;34m(self, key, axis)\u001b[0m\n\u001b[1;32m   1209\u001b[0m key \u001b[38;5;241m=\u001b[39m check_bool_indexer(labels, key)\n\u001b[1;32m   1210\u001b[0m inds \u001b[38;5;241m=\u001b[39m key\u001b[38;5;241m.\u001b[39mnonzero()[\u001b[38;5;241m0\u001b[39m]\n\u001b[0;32m-> 1211\u001b[0m \u001b[38;5;28;01mreturn\u001b[39;00m \u001b[38;5;28;43mself\u001b[39;49m\u001b[38;5;241;43m.\u001b[39;49m\u001b[43mobj\u001b[49m\u001b[38;5;241;43m.\u001b[39;49m\u001b[43m_take_with_is_copy\u001b[49m\u001b[43m(\u001b[49m\u001b[43minds\u001b[49m\u001b[43m,\u001b[49m\u001b[43m \u001b[49m\u001b[43maxis\u001b[49m\u001b[38;5;241;43m=\u001b[39;49m\u001b[43maxis\u001b[49m\u001b[43m)\u001b[49m\n",
      "File \u001b[0;32m~/miniconda3/envs/home_credit/lib/python3.10/site-packages/pandas/core/generic.py:4153\u001b[0m, in \u001b[0;36mNDFrame._take_with_is_copy\u001b[0;34m(self, indices, axis)\u001b[0m\n\u001b[1;32m   4142\u001b[0m \u001b[38;5;129m@final\u001b[39m\n\u001b[1;32m   4143\u001b[0m \u001b[38;5;28;01mdef\u001b[39;00m \u001b[38;5;21m_take_with_is_copy\u001b[39m(\u001b[38;5;28mself\u001b[39m, indices, axis: Axis \u001b[38;5;241m=\u001b[39m \u001b[38;5;241m0\u001b[39m) \u001b[38;5;241m-\u001b[39m\u001b[38;5;241m>\u001b[39m Self:\n\u001b[1;32m   4144\u001b[0m \u001b[38;5;250m    \u001b[39m\u001b[38;5;124;03m\"\"\"\u001b[39;00m\n\u001b[1;32m   4145\u001b[0m \u001b[38;5;124;03m    Internal version of the `take` method that sets the `_is_copy`\u001b[39;00m\n\u001b[1;32m   4146\u001b[0m \u001b[38;5;124;03m    attribute to keep track of the parent dataframe (using in indexing\u001b[39;00m\n\u001b[0;32m   (...)\u001b[0m\n\u001b[1;32m   4151\u001b[0m \u001b[38;5;124;03m    See the docstring of `take` for full explanation of the parameters.\u001b[39;00m\n\u001b[1;32m   4152\u001b[0m \u001b[38;5;124;03m    \"\"\"\u001b[39;00m\n\u001b[0;32m-> 4153\u001b[0m     result \u001b[38;5;241m=\u001b[39m \u001b[38;5;28;43mself\u001b[39;49m\u001b[38;5;241;43m.\u001b[39;49m\u001b[43mtake\u001b[49m\u001b[43m(\u001b[49m\u001b[43mindices\u001b[49m\u001b[38;5;241;43m=\u001b[39;49m\u001b[43mindices\u001b[49m\u001b[43m,\u001b[49m\u001b[43m \u001b[49m\u001b[43maxis\u001b[49m\u001b[38;5;241;43m=\u001b[39;49m\u001b[43maxis\u001b[49m\u001b[43m)\u001b[49m\n\u001b[1;32m   4154\u001b[0m     \u001b[38;5;66;03m# Maybe set copy if we didn't actually change the index.\u001b[39;00m\n\u001b[1;32m   4155\u001b[0m     \u001b[38;5;28;01mif\u001b[39;00m \u001b[38;5;28mself\u001b[39m\u001b[38;5;241m.\u001b[39mndim \u001b[38;5;241m==\u001b[39m \u001b[38;5;241m2\u001b[39m \u001b[38;5;129;01mand\u001b[39;00m \u001b[38;5;129;01mnot\u001b[39;00m result\u001b[38;5;241m.\u001b[39m_get_axis(axis)\u001b[38;5;241m.\u001b[39mequals(\u001b[38;5;28mself\u001b[39m\u001b[38;5;241m.\u001b[39m_get_axis(axis)):\n",
      "File \u001b[0;32m~/miniconda3/envs/home_credit/lib/python3.10/site-packages/pandas/core/generic.py:4133\u001b[0m, in \u001b[0;36mNDFrame.take\u001b[0;34m(self, indices, axis, **kwargs)\u001b[0m\n\u001b[1;32m   4128\u001b[0m     \u001b[38;5;66;03m# We can get here with a slice via DataFrame.__getitem__\u001b[39;00m\n\u001b[1;32m   4129\u001b[0m     indices \u001b[38;5;241m=\u001b[39m np\u001b[38;5;241m.\u001b[39marange(\n\u001b[1;32m   4130\u001b[0m         indices\u001b[38;5;241m.\u001b[39mstart, indices\u001b[38;5;241m.\u001b[39mstop, indices\u001b[38;5;241m.\u001b[39mstep, dtype\u001b[38;5;241m=\u001b[39mnp\u001b[38;5;241m.\u001b[39mintp\n\u001b[1;32m   4131\u001b[0m     )\n\u001b[0;32m-> 4133\u001b[0m new_data \u001b[38;5;241m=\u001b[39m \u001b[38;5;28;43mself\u001b[39;49m\u001b[38;5;241;43m.\u001b[39;49m\u001b[43m_mgr\u001b[49m\u001b[38;5;241;43m.\u001b[39;49m\u001b[43mtake\u001b[49m\u001b[43m(\u001b[49m\n\u001b[1;32m   4134\u001b[0m \u001b[43m    \u001b[49m\u001b[43mindices\u001b[49m\u001b[43m,\u001b[49m\n\u001b[1;32m   4135\u001b[0m \u001b[43m    \u001b[49m\u001b[43maxis\u001b[49m\u001b[38;5;241;43m=\u001b[39;49m\u001b[38;5;28;43mself\u001b[39;49m\u001b[38;5;241;43m.\u001b[39;49m\u001b[43m_get_block_manager_axis\u001b[49m\u001b[43m(\u001b[49m\u001b[43maxis\u001b[49m\u001b[43m)\u001b[49m\u001b[43m,\u001b[49m\n\u001b[1;32m   4136\u001b[0m \u001b[43m    \u001b[49m\u001b[43mverify\u001b[49m\u001b[38;5;241;43m=\u001b[39;49m\u001b[38;5;28;43;01mTrue\u001b[39;49;00m\u001b[43m,\u001b[49m\n\u001b[1;32m   4137\u001b[0m \u001b[43m\u001b[49m\u001b[43m)\u001b[49m\n\u001b[1;32m   4138\u001b[0m \u001b[38;5;28;01mreturn\u001b[39;00m \u001b[38;5;28mself\u001b[39m\u001b[38;5;241m.\u001b[39m_constructor_from_mgr(new_data, axes\u001b[38;5;241m=\u001b[39mnew_data\u001b[38;5;241m.\u001b[39maxes)\u001b[38;5;241m.\u001b[39m__finalize__(\n\u001b[1;32m   4139\u001b[0m     \u001b[38;5;28mself\u001b[39m, method\u001b[38;5;241m=\u001b[39m\u001b[38;5;124m\"\u001b[39m\u001b[38;5;124mtake\u001b[39m\u001b[38;5;124m\"\u001b[39m\n\u001b[1;32m   4140\u001b[0m )\n",
      "File \u001b[0;32m~/miniconda3/envs/home_credit/lib/python3.10/site-packages/pandas/core/internals/managers.py:894\u001b[0m, in \u001b[0;36mBaseBlockManager.take\u001b[0;34m(self, indexer, axis, verify)\u001b[0m\n\u001b[1;32m    891\u001b[0m indexer \u001b[38;5;241m=\u001b[39m maybe_convert_indices(indexer, n, verify\u001b[38;5;241m=\u001b[39mverify)\n\u001b[1;32m    893\u001b[0m new_labels \u001b[38;5;241m=\u001b[39m \u001b[38;5;28mself\u001b[39m\u001b[38;5;241m.\u001b[39maxes[axis]\u001b[38;5;241m.\u001b[39mtake(indexer)\n\u001b[0;32m--> 894\u001b[0m \u001b[38;5;28;01mreturn\u001b[39;00m \u001b[38;5;28;43mself\u001b[39;49m\u001b[38;5;241;43m.\u001b[39;49m\u001b[43mreindex_indexer\u001b[49m\u001b[43m(\u001b[49m\n\u001b[1;32m    895\u001b[0m \u001b[43m    \u001b[49m\u001b[43mnew_axis\u001b[49m\u001b[38;5;241;43m=\u001b[39;49m\u001b[43mnew_labels\u001b[49m\u001b[43m,\u001b[49m\n\u001b[1;32m    896\u001b[0m \u001b[43m    \u001b[49m\u001b[43mindexer\u001b[49m\u001b[38;5;241;43m=\u001b[39;49m\u001b[43mindexer\u001b[49m\u001b[43m,\u001b[49m\n\u001b[1;32m    897\u001b[0m \u001b[43m    \u001b[49m\u001b[43maxis\u001b[49m\u001b[38;5;241;43m=\u001b[39;49m\u001b[43maxis\u001b[49m\u001b[43m,\u001b[49m\n\u001b[1;32m    898\u001b[0m \u001b[43m    \u001b[49m\u001b[43mallow_dups\u001b[49m\u001b[38;5;241;43m=\u001b[39;49m\u001b[38;5;28;43;01mTrue\u001b[39;49;00m\u001b[43m,\u001b[49m\n\u001b[1;32m    899\u001b[0m \u001b[43m    \u001b[49m\u001b[43mcopy\u001b[49m\u001b[38;5;241;43m=\u001b[39;49m\u001b[38;5;28;43;01mNone\u001b[39;49;00m\u001b[43m,\u001b[49m\n\u001b[1;32m    900\u001b[0m \u001b[43m\u001b[49m\u001b[43m)\u001b[49m\n",
      "File \u001b[0;32m~/miniconda3/envs/home_credit/lib/python3.10/site-packages/pandas/core/internals/managers.py:687\u001b[0m, in \u001b[0;36mBaseBlockManager.reindex_indexer\u001b[0;34m(self, new_axis, indexer, axis, fill_value, allow_dups, copy, only_slice, use_na_proxy)\u001b[0m\n\u001b[1;32m    680\u001b[0m     new_blocks \u001b[38;5;241m=\u001b[39m \u001b[38;5;28mself\u001b[39m\u001b[38;5;241m.\u001b[39m_slice_take_blocks_ax0(\n\u001b[1;32m    681\u001b[0m         indexer,\n\u001b[1;32m    682\u001b[0m         fill_value\u001b[38;5;241m=\u001b[39mfill_value,\n\u001b[1;32m    683\u001b[0m         only_slice\u001b[38;5;241m=\u001b[39monly_slice,\n\u001b[1;32m    684\u001b[0m         use_na_proxy\u001b[38;5;241m=\u001b[39muse_na_proxy,\n\u001b[1;32m    685\u001b[0m     )\n\u001b[1;32m    686\u001b[0m \u001b[38;5;28;01melse\u001b[39;00m:\n\u001b[0;32m--> 687\u001b[0m     new_blocks \u001b[38;5;241m=\u001b[39m [\n\u001b[1;32m    688\u001b[0m         blk\u001b[38;5;241m.\u001b[39mtake_nd(\n\u001b[1;32m    689\u001b[0m             indexer,\n\u001b[1;32m    690\u001b[0m             axis\u001b[38;5;241m=\u001b[39m\u001b[38;5;241m1\u001b[39m,\n\u001b[1;32m    691\u001b[0m             fill_value\u001b[38;5;241m=\u001b[39m(\n\u001b[1;32m    692\u001b[0m                 fill_value \u001b[38;5;28;01mif\u001b[39;00m fill_value \u001b[38;5;129;01mis\u001b[39;00m \u001b[38;5;129;01mnot\u001b[39;00m \u001b[38;5;28;01mNone\u001b[39;00m \u001b[38;5;28;01melse\u001b[39;00m blk\u001b[38;5;241m.\u001b[39mfill_value\n\u001b[1;32m    693\u001b[0m             ),\n\u001b[1;32m    694\u001b[0m         )\n\u001b[1;32m    695\u001b[0m         \u001b[38;5;28;01mfor\u001b[39;00m blk \u001b[38;5;129;01min\u001b[39;00m \u001b[38;5;28mself\u001b[39m\u001b[38;5;241m.\u001b[39mblocks\n\u001b[1;32m    696\u001b[0m     ]\n\u001b[1;32m    698\u001b[0m new_axes \u001b[38;5;241m=\u001b[39m \u001b[38;5;28mlist\u001b[39m(\u001b[38;5;28mself\u001b[39m\u001b[38;5;241m.\u001b[39maxes)\n\u001b[1;32m    699\u001b[0m new_axes[axis] \u001b[38;5;241m=\u001b[39m new_axis\n",
      "File \u001b[0;32m~/miniconda3/envs/home_credit/lib/python3.10/site-packages/pandas/core/internals/managers.py:688\u001b[0m, in \u001b[0;36m<listcomp>\u001b[0;34m(.0)\u001b[0m\n\u001b[1;32m    680\u001b[0m     new_blocks \u001b[38;5;241m=\u001b[39m \u001b[38;5;28mself\u001b[39m\u001b[38;5;241m.\u001b[39m_slice_take_blocks_ax0(\n\u001b[1;32m    681\u001b[0m         indexer,\n\u001b[1;32m    682\u001b[0m         fill_value\u001b[38;5;241m=\u001b[39mfill_value,\n\u001b[1;32m    683\u001b[0m         only_slice\u001b[38;5;241m=\u001b[39monly_slice,\n\u001b[1;32m    684\u001b[0m         use_na_proxy\u001b[38;5;241m=\u001b[39muse_na_proxy,\n\u001b[1;32m    685\u001b[0m     )\n\u001b[1;32m    686\u001b[0m \u001b[38;5;28;01melse\u001b[39;00m:\n\u001b[1;32m    687\u001b[0m     new_blocks \u001b[38;5;241m=\u001b[39m [\n\u001b[0;32m--> 688\u001b[0m         \u001b[43mblk\u001b[49m\u001b[38;5;241;43m.\u001b[39;49m\u001b[43mtake_nd\u001b[49m\u001b[43m(\u001b[49m\n\u001b[1;32m    689\u001b[0m \u001b[43m            \u001b[49m\u001b[43mindexer\u001b[49m\u001b[43m,\u001b[49m\n\u001b[1;32m    690\u001b[0m \u001b[43m            \u001b[49m\u001b[43maxis\u001b[49m\u001b[38;5;241;43m=\u001b[39;49m\u001b[38;5;241;43m1\u001b[39;49m\u001b[43m,\u001b[49m\n\u001b[1;32m    691\u001b[0m \u001b[43m            \u001b[49m\u001b[43mfill_value\u001b[49m\u001b[38;5;241;43m=\u001b[39;49m\u001b[43m(\u001b[49m\n\u001b[1;32m    692\u001b[0m \u001b[43m                \u001b[49m\u001b[43mfill_value\u001b[49m\u001b[43m \u001b[49m\u001b[38;5;28;43;01mif\u001b[39;49;00m\u001b[43m \u001b[49m\u001b[43mfill_value\u001b[49m\u001b[43m \u001b[49m\u001b[38;5;129;43;01mis\u001b[39;49;00m\u001b[43m \u001b[49m\u001b[38;5;129;43;01mnot\u001b[39;49;00m\u001b[43m \u001b[49m\u001b[38;5;28;43;01mNone\u001b[39;49;00m\u001b[43m \u001b[49m\u001b[38;5;28;43;01melse\u001b[39;49;00m\u001b[43m \u001b[49m\u001b[43mblk\u001b[49m\u001b[38;5;241;43m.\u001b[39;49m\u001b[43mfill_value\u001b[49m\n\u001b[1;32m    693\u001b[0m \u001b[43m            \u001b[49m\u001b[43m)\u001b[49m\u001b[43m,\u001b[49m\n\u001b[1;32m    694\u001b[0m \u001b[43m        \u001b[49m\u001b[43m)\u001b[49m\n\u001b[1;32m    695\u001b[0m         \u001b[38;5;28;01mfor\u001b[39;00m blk \u001b[38;5;129;01min\u001b[39;00m \u001b[38;5;28mself\u001b[39m\u001b[38;5;241m.\u001b[39mblocks\n\u001b[1;32m    696\u001b[0m     ]\n\u001b[1;32m    698\u001b[0m new_axes \u001b[38;5;241m=\u001b[39m \u001b[38;5;28mlist\u001b[39m(\u001b[38;5;28mself\u001b[39m\u001b[38;5;241m.\u001b[39maxes)\n\u001b[1;32m    699\u001b[0m new_axes[axis] \u001b[38;5;241m=\u001b[39m new_axis\n",
      "File \u001b[0;32m~/miniconda3/envs/home_credit/lib/python3.10/site-packages/pandas/core/internals/blocks.py:1307\u001b[0m, in \u001b[0;36mBlock.take_nd\u001b[0;34m(self, indexer, axis, new_mgr_locs, fill_value)\u001b[0m\n\u001b[1;32m   1304\u001b[0m     allow_fill \u001b[38;5;241m=\u001b[39m \u001b[38;5;28;01mTrue\u001b[39;00m\n\u001b[1;32m   1306\u001b[0m \u001b[38;5;66;03m# Note: algos.take_nd has upcast logic similar to coerce_to_target_dtype\u001b[39;00m\n\u001b[0;32m-> 1307\u001b[0m new_values \u001b[38;5;241m=\u001b[39m \u001b[43malgos\u001b[49m\u001b[38;5;241;43m.\u001b[39;49m\u001b[43mtake_nd\u001b[49m\u001b[43m(\u001b[49m\n\u001b[1;32m   1308\u001b[0m \u001b[43m    \u001b[49m\u001b[43mvalues\u001b[49m\u001b[43m,\u001b[49m\u001b[43m \u001b[49m\u001b[43mindexer\u001b[49m\u001b[43m,\u001b[49m\u001b[43m \u001b[49m\u001b[43maxis\u001b[49m\u001b[38;5;241;43m=\u001b[39;49m\u001b[43maxis\u001b[49m\u001b[43m,\u001b[49m\u001b[43m \u001b[49m\u001b[43mallow_fill\u001b[49m\u001b[38;5;241;43m=\u001b[39;49m\u001b[43mallow_fill\u001b[49m\u001b[43m,\u001b[49m\u001b[43m \u001b[49m\u001b[43mfill_value\u001b[49m\u001b[38;5;241;43m=\u001b[39;49m\u001b[43mfill_value\u001b[49m\n\u001b[1;32m   1309\u001b[0m \u001b[43m\u001b[49m\u001b[43m)\u001b[49m\n\u001b[1;32m   1311\u001b[0m \u001b[38;5;66;03m# Called from three places in managers, all of which satisfy\u001b[39;00m\n\u001b[1;32m   1312\u001b[0m \u001b[38;5;66;03m#  these assertions\u001b[39;00m\n\u001b[1;32m   1313\u001b[0m \u001b[38;5;28;01mif\u001b[39;00m \u001b[38;5;28misinstance\u001b[39m(\u001b[38;5;28mself\u001b[39m, ExtensionBlock):\n\u001b[1;32m   1314\u001b[0m     \u001b[38;5;66;03m# NB: in this case, the 'axis' kwarg will be ignored in the\u001b[39;00m\n\u001b[1;32m   1315\u001b[0m     \u001b[38;5;66;03m#  algos.take_nd call above.\u001b[39;00m\n",
      "File \u001b[0;32m~/miniconda3/envs/home_credit/lib/python3.10/site-packages/pandas/core/array_algos/take.py:117\u001b[0m, in \u001b[0;36mtake_nd\u001b[0;34m(arr, indexer, axis, fill_value, allow_fill)\u001b[0m\n\u001b[1;32m    114\u001b[0m     \u001b[38;5;28;01mreturn\u001b[39;00m arr\u001b[38;5;241m.\u001b[39mtake(indexer, fill_value\u001b[38;5;241m=\u001b[39mfill_value, allow_fill\u001b[38;5;241m=\u001b[39mallow_fill)\n\u001b[1;32m    116\u001b[0m arr \u001b[38;5;241m=\u001b[39m np\u001b[38;5;241m.\u001b[39masarray(arr)\n\u001b[0;32m--> 117\u001b[0m \u001b[38;5;28;01mreturn\u001b[39;00m \u001b[43m_take_nd_ndarray\u001b[49m\u001b[43m(\u001b[49m\u001b[43marr\u001b[49m\u001b[43m,\u001b[49m\u001b[43m \u001b[49m\u001b[43mindexer\u001b[49m\u001b[43m,\u001b[49m\u001b[43m \u001b[49m\u001b[43maxis\u001b[49m\u001b[43m,\u001b[49m\u001b[43m \u001b[49m\u001b[43mfill_value\u001b[49m\u001b[43m,\u001b[49m\u001b[43m \u001b[49m\u001b[43mallow_fill\u001b[49m\u001b[43m)\u001b[49m\n",
      "File \u001b[0;32m~/miniconda3/envs/home_credit/lib/python3.10/site-packages/pandas/core/array_algos/take.py:162\u001b[0m, in \u001b[0;36m_take_nd_ndarray\u001b[0;34m(arr, indexer, axis, fill_value, allow_fill)\u001b[0m\n\u001b[1;32m    157\u001b[0m     out \u001b[38;5;241m=\u001b[39m np\u001b[38;5;241m.\u001b[39mempty(out_shape, dtype\u001b[38;5;241m=\u001b[39mdtype)\n\u001b[1;32m    159\u001b[0m func \u001b[38;5;241m=\u001b[39m _get_take_nd_function(\n\u001b[1;32m    160\u001b[0m     arr\u001b[38;5;241m.\u001b[39mndim, arr\u001b[38;5;241m.\u001b[39mdtype, out\u001b[38;5;241m.\u001b[39mdtype, axis\u001b[38;5;241m=\u001b[39maxis, mask_info\u001b[38;5;241m=\u001b[39mmask_info\n\u001b[1;32m    161\u001b[0m )\n\u001b[0;32m--> 162\u001b[0m \u001b[43mfunc\u001b[49m\u001b[43m(\u001b[49m\u001b[43marr\u001b[49m\u001b[43m,\u001b[49m\u001b[43m \u001b[49m\u001b[43mindexer\u001b[49m\u001b[43m,\u001b[49m\u001b[43m \u001b[49m\u001b[43mout\u001b[49m\u001b[43m,\u001b[49m\u001b[43m \u001b[49m\u001b[43mfill_value\u001b[49m\u001b[43m)\u001b[49m\n\u001b[1;32m    164\u001b[0m \u001b[38;5;28;01mif\u001b[39;00m flip_order:\n\u001b[1;32m    165\u001b[0m     out \u001b[38;5;241m=\u001b[39m out\u001b[38;5;241m.\u001b[39mT\n",
      "\u001b[0;31mKeyboardInterrupt\u001b[0m: "
     ]
    }
   ],
   "source": [
    "depth_data = pd.read_parquet(paths.dataset_dir.joinpath('depth_data.parquet'))\n",
    "depth_data = depth_data.query('is_test==0')\n",
    "depth_data.drop(columns=['is_test'], inplace=True)\n",
    "categorical_features = list(np.load(paths.dataset_dir.joinpath('categorical_features.npy'), allow_pickle=True))\n",
    "\n",
    "depth_data[categorical_features] = depth_data[categorical_features].astype('category')\n",
    "\n",
    "display(depth_data)\n",
    "print(len(categorical_features))\n",
    "\n",
    "display(depth_data.dtypes.value_counts())"
   ]
  },
  {
   "cell_type": "code",
   "execution_count": null,
   "id": "269f1720",
   "metadata": {
    "execution": {
     "iopub.execute_input": "2024-05-02T02:12:10.898652Z",
     "iopub.status.busy": "2024-05-02T02:12:10.898372Z",
     "iopub.status.idle": "2024-05-02T02:12:10.908102Z",
     "shell.execute_reply": "2024-05-02T02:12:10.907443Z"
    },
    "papermill": {
     "duration": 0.025955,
     "end_time": "2024-05-02T02:12:10.909941",
     "exception": false,
     "start_time": "2024-05-02T02:12:10.883986",
     "status": "completed"
    },
    "tags": []
   },
   "outputs": [],
   "source": [
    "class CFG:\n",
    "    def __init__(\n",
    "            self,\n",
    "            outputs_dir: pathlib.Path,\n",
    "            n_splits: int = 5,\n",
    "            boosting: str = 'gbdt',\n",
    "            lr: float = 0.1,\n",
    "            max_depth: int = -1,\n",
    "            num_leaves: int = 31,\n",
    "            min_data_in_leaf: int = 20,\n",
    "            min_sum_hessian_in_leaf: float = 1e-03,\n",
    "            bagging_fraction: float = 1.0,\n",
    "            feature_fraction: float = 1.0,\n",
    "            feature_fraction_bynode: float = 1.0,\n",
    "            num_boost_round: int = 1000,\n",
    "            lambda_l1: float = 0.0,\n",
    "            lambda_l2: float = 0.0,\n",
    "            seed: int = 42,\n",
    "            device: str = 'cpu',\n",
    "            num_threads: int = 0,\n",
    "            is_unbalance: bool = False,\n",
    "            drop_rate: float = 0.1,\n",
    "            max_drop: int = 50,\n",
    "            skip_drop: float = 0.5,\n",
    "            extra_trees: bool = False,\n",
    "            debag: bool = False,\n",
    "        ):\n",
    "        \n",
    "        self.outputs_dir = outputs_dir\n",
    "        self.n_splits = n_splits\n",
    "        self.boosting = boosting\n",
    "        self.lr = lr\n",
    "        self.max_depth = max_depth\n",
    "        self.num_leaves = num_leaves\n",
    "        self.min_data_in_leaf = min_data_in_leaf\n",
    "        self.min_sum_hessian_in_leaf = min_sum_hessian_in_leaf\n",
    "        self.bagging_fraction = bagging_fraction\n",
    "        self.feature_fraction = feature_fraction\n",
    "        self.feature_fraction_bynode = feature_fraction_bynode\n",
    "        self.num_boost_round = num_boost_round\n",
    "        self.lambda_l1 = lambda_l1\n",
    "        self.lambda_l2 = lambda_l2\n",
    "        self.seed = seed\n",
    "        self.device = device\n",
    "        self.num_threads = num_threads\n",
    "        self.is_unbalance = is_unbalance\n",
    "        self.drop_rate = drop_rate\n",
    "        self.max_drop = max_drop\n",
    "        self.skip_drop = skip_drop\n",
    "        self.extra_trees = extra_trees\n",
    "        self.debag = debag\n",
    "        \n",
    "    def seed_everything(self):\n",
    "        random.seed(self.seed)\n",
    "        np.random.seed(self.seed)"
   ]
  },
  {
   "cell_type": "code",
   "execution_count": null,
   "id": "27accc53",
   "metadata": {
    "execution": {
     "iopub.execute_input": "2024-05-02T02:12:10.938241Z",
     "iopub.status.busy": "2024-05-02T02:12:10.937987Z",
     "iopub.status.idle": "2024-05-02T02:12:10.956556Z",
     "shell.execute_reply": "2024-05-02T02:12:10.955673Z"
    },
    "papermill": {
     "duration": 0.034831,
     "end_time": "2024-05-02T02:12:10.958424",
     "exception": false,
     "start_time": "2024-05-02T02:12:10.923593",
     "status": "completed"
    },
    "tags": []
   },
   "outputs": [],
   "source": [
    "def train(config, logger, X, categorical_features):\n",
    "    \n",
    "    kfold = StratifiedGroupKFold(\n",
    "        n_splits=config.n_splits,\n",
    "        shuffle=True,\n",
    "        random_state=config.seed,\n",
    "    )\n",
    "\n",
    "    y = X['target'].copy()\n",
    "    weeks = X[['WEEK_NUM']].copy()\n",
    "    oof = X[['case_id', 'date_decision', 'WEEK_NUM', 'MONTH', 'target']].copy()\n",
    "    oof_probas = -1 * np.ones(len(oof))\n",
    "    folds = -1 * np.ones(len(oof))\n",
    "    X.drop(columns=['case_id', 'date_decision', 'MONTH', 'WEEK_NUM', 'target'], inplace=True)\n",
    "    display(X.dtypes.value_counts())\n",
    "    display(oof)\n",
    "\n",
    "    logger.info(f'number of features: {X.shape}')\n",
    "    \n",
    "    np.save(config.outputs_dir.joinpath('training_features.npy'), X.columns.to_numpy())\n",
    "    np.save(config.outputs_dir.joinpath('categorical_features.npy'), categorical_features)\n",
    "    \n",
    "    fimps = pd.DataFrame(\n",
    "        index=X.columns,\n",
    "        columns=[f'fold_{k+1}_fimp' for k in range(config.n_splits)]\n",
    "    )\n",
    "\n",
    "    model_params = {\n",
    "        'task': 'train',\n",
    "        'boosting': config.boosting,\n",
    "        'objective': 'binary',\n",
    "        'metric': ['auc', 'average_precision', 'binary_logloss'],\n",
    "        'learning_rate': config.lr,\n",
    "        'seed': config.seed,\n",
    "        'max_depth': config.max_depth,\n",
    "        'num_leaves': config.num_leaves,\n",
    "        'min_data_in_leaf': config.min_data_in_leaf,\n",
    "        'min_sum_hessian_in_leaf': config.min_sum_hessian_in_leaf,\n",
    "        'bagging_fraction': config.bagging_fraction,\n",
    "        'feature_fraction': config.feature_fraction,\n",
    "        'feature_fraction_bynode': config.feature_fraction_bynode,\n",
    "        'lambda_l1': config.lambda_l1,\n",
    "        'lambda_l2': config.lambda_l2,\n",
    "        'device': config.device,\n",
    "        #'max_bin': 100,\n",
    "        'num_threads': config.num_threads,\n",
    "        'extra_trees': config.extra_trees,\n",
    "        'is_unbalance': config.is_unbalance,\n",
    "    }\n",
    "    if config.boosting == 'dart':\n",
    "        model_params['drop_rate'] = config.drop_rate\n",
    "        model_params['max_drop'] = config.max_drop\n",
    "        model_params['skip_drop'] = config.skip_drop\n",
    "    \n",
    "    lgb.register_logger(logger) \n",
    "    \n",
    "    for k, (train_indices, valid_indices) in enumerate(kfold.split(X=X, y=y, groups=weeks)):\n",
    "\n",
    "        logger.info(f'fold: {k+1}')\n",
    "        logger.info(f'# of train: {len(train_indices)}')\n",
    "        logger.info(f'# of valid: {len(valid_indices)}')\n",
    "\n",
    "        logger.info(f'train WEEK_NUM: {oof.iloc[train_indices][\"WEEK_NUM\"].unique()}')\n",
    "        logger.info(f'valid WEEK_NUM: {oof.iloc[valid_indices][\"WEEK_NUM\"].unique()}')\n",
    "        \n",
    "        train_X = X.iloc[train_indices]\n",
    "        valid_X = X.iloc[valid_indices]\n",
    "        \n",
    "        train_y = y.iloc[train_indices]\n",
    "        valid_y = y.iloc[valid_indices]\n",
    "        \n",
    "        train_dataset = lgb.Dataset(\n",
    "            data=train_X,\n",
    "            label=train_y,\n",
    "            categorical_feature=categorical_features,\n",
    "        )\n",
    "        valid_dataset = lgb.Dataset(\n",
    "            data=valid_X,\n",
    "            label=valid_y,\n",
    "            categorical_feature=categorical_features,\n",
    "            reference=train_dataset,\n",
    "        )\n",
    "        \n",
    "        callbacks = [\n",
    "            lgb.early_stopping(stopping_rounds=100, first_metric_only=True, verbose=True),\n",
    "            lgb.log_evaluation(100),\n",
    "        ]\n",
    "        \n",
    "        model = lgb.train(\n",
    "            params=model_params,\n",
    "            train_set=train_dataset,\n",
    "            valid_sets=[train_dataset, valid_dataset],\n",
    "            valid_names=['train', 'valid'],\n",
    "            callbacks=callbacks,\n",
    "            num_boost_round=config.num_boost_round,\n",
    "        )\n",
    "\n",
    "        date = ''.join(config.outputs_dir.stem.split('-')[-4:])\n",
    "        model.save_model(\n",
    "            config.outputs_dir.joinpath(f'lgb_fold{k+1}_{date}.txt'),\n",
    "            num_iteration=model.best_iteration\n",
    "        )\n",
    "        \n",
    "        fimps.loc[X.columns, f'fold_{k+1}_fimp']  = model.feature_importance(\n",
    "            importance_type='gain'\n",
    "        )\n",
    "        \n",
    "        oof_probas[valid_indices] = model.predict(\n",
    "            valid_X,\n",
    "            num_iteration=model.best_iteration\n",
    "        )\n",
    "        folds[valid_indices] = k\n",
    "        \n",
    "        del train_X, train_y, valid_X, valid_y\n",
    "        del train_dataset, valid_dataset\n",
    "        del model\n",
    "        gc.collect()\n",
    "        \n",
    "    oof.loc[:, 'probability'] = oof_probas\n",
    "    oof.loc[:, 'fold'] = folds\n",
    "    \n",
    "    del oof_probas, folds\n",
    "    gc.collect()\n",
    "\n",
    "    logger.info('Done!\\n')\n",
    "    \n",
    "    return oof, fimps"
   ]
  },
  {
   "cell_type": "code",
   "execution_count": null,
   "id": "d8c29238",
   "metadata": {
    "execution": {
     "iopub.execute_input": "2024-05-02T02:12:11.023309Z",
     "iopub.status.busy": "2024-05-02T02:12:11.022585Z",
     "iopub.status.idle": "2024-05-02T07:47:36.168558Z",
     "shell.execute_reply": "2024-05-02T07:47:36.167636Z"
    },
    "papermill": {
     "duration": 20125.215491,
     "end_time": "2024-05-02T07:47:36.224199",
     "exception": false,
     "start_time": "2024-05-02T02:12:11.008708",
     "status": "completed"
    },
    "tags": []
   },
   "outputs": [],
   "source": [
    "%%time\n",
    "\n",
    "\n",
    "config = CFG(\n",
    "    outputs_dir=paths.output_dir,\n",
    "    boosting='gbdt',\n",
    "    n_splits=5,\n",
    "    lr=5e-02,\n",
    "    max_depth=10,\n",
    "    num_leaves=64,\n",
    "    min_data_in_leaf=100,\n",
    "    min_sum_hessian_in_leaf=1.0,\n",
    "    bagging_fraction=0.8,\n",
    "    feature_fraction=0.8,\n",
    "    feature_fraction_bynode=0.8,\n",
    "    num_boost_round=10000,\n",
    "    lambda_l1=0.1,\n",
    "    lambda_l2=10,\n",
    "    seed=42,\n",
    "    device='CPU',\n",
    "    num_threads=int(os.cpu_count()*0.8),\n",
    "    # drop_rate=0.3,\n",
    "    # max_drop=50,\n",
    "    # skip_drop=0.5,\n",
    "    extra_trees=True,\n",
    "    debag=False,\n",
    ")\n",
    "config.seed_everything()\n",
    "\n",
    "logger = get_logger(paths.output_dir.joinpath('output.log'))\n",
    "\n",
    "log = [\n",
    "    f'{k} = {config.__dict__[k]}'\n",
    "    for k, v in config.__dict__.items()\n",
    "    if not k.startswith('__')\n",
    "]\n",
    "logger.info('\\n'.join(log))\n",
    "logger.info('\\n')\n",
    "\n",
    "if config.debag:\n",
    "    depth_data = depth_data.sample(n=10000, random_state=config.seed)\n",
    "    depth_data = depth_data.reset_index(drop=True)\n",
    "    \n",
    "oof, fimps = train(config, logger, depth_data, categorical_features)"
   ]
  },
  {
   "cell_type": "code",
   "execution_count": null,
   "id": "0034f3ad",
   "metadata": {},
   "outputs": [],
   "source": [
    "np.save(config.outputs_dir.joinpath('categorical_features.npy'), categorical_features)"
   ]
  },
  {
   "cell_type": "code",
   "execution_count": null,
   "id": "404b7c6b",
   "metadata": {
    "execution": {
     "iopub.execute_input": "2024-05-02T07:47:36.330615Z",
     "iopub.status.busy": "2024-05-02T07:47:36.330252Z",
     "iopub.status.idle": "2024-05-02T07:47:38.337684Z",
     "shell.execute_reply": "2024-05-02T07:47:38.336703Z"
    },
    "papermill": {
     "duration": 2.063579,
     "end_time": "2024-05-02T07:47:38.339800",
     "exception": false,
     "start_time": "2024-05-02T07:47:36.276221",
     "status": "completed"
    },
    "tags": []
   },
   "outputs": [],
   "source": [
    "display(oof)\n",
    "print(oof.query('probability != -1')['probability'].describe())\n",
    "\n",
    "_, ax = plt.subplots()\n",
    "sns.histplot(\n",
    "    data=oof.query('probability != -1'),\n",
    "    x='probability',\n",
    "    hue='target',\n",
    "    bins=50,\n",
    "    ax=ax\n",
    ")\n",
    "plt.yscale('log')\n",
    "plt.show()"
   ]
  },
  {
   "cell_type": "code",
   "execution_count": null,
   "id": "d5397f30",
   "metadata": {
    "execution": {
     "iopub.execute_input": "2024-05-02T07:47:38.451303Z",
     "iopub.status.busy": "2024-05-02T07:47:38.450512Z",
     "iopub.status.idle": "2024-05-02T07:47:45.841188Z",
     "shell.execute_reply": "2024-05-02T07:47:45.840213Z"
    },
    "papermill": {
     "duration": 7.484113,
     "end_time": "2024-05-02T07:47:45.877933",
     "exception": false,
     "start_time": "2024-05-02T07:47:38.393820",
     "status": "completed"
    },
    "tags": []
   },
   "outputs": [],
   "source": [
    "fimps['fimp_mean'] = fimps.mean(axis=1)\n",
    "fimps['fimp_std'] = fimps.std(axis=1)\n",
    "fimps.sort_values('fimp_mean', inplace=True)\n",
    "display(fimps)\n",
    "\n",
    "_, ax = plt.subplots(figsize=(8, 16*(len(fimps)//100)))\n",
    "ax.barh(y=fimps.index, width=fimps['fimp_mean'], xerr=fimps['fimp_std'], capsize=3)\n",
    "plt.tight_layout()\n",
    "plt.show()"
   ]
  },
  {
   "cell_type": "code",
   "execution_count": null,
   "id": "13cd3910",
   "metadata": {
    "execution": {
     "iopub.execute_input": "2024-05-02T07:47:46.068709Z",
     "iopub.status.busy": "2024-05-02T07:47:46.068348Z",
     "iopub.status.idle": "2024-05-02T07:47:54.535830Z",
     "shell.execute_reply": "2024-05-02T07:47:54.534859Z"
    },
    "papermill": {
     "duration": 8.564737,
     "end_time": "2024-05-02T07:47:54.538186",
     "exception": false,
     "start_time": "2024-05-02T07:47:45.973449",
     "status": "completed"
    },
    "tags": []
   },
   "outputs": [],
   "source": [
    "oof.to_csv(paths.output_dir.joinpath('oof.csv'), index=False)\n",
    "\n",
    "fimps = fimps.reset_index(names=['processed_Variable'])\n",
    "fimps.to_csv(paths.output_dir.joinpath('feature_importances.csv'), index=False)"
   ]
  },
  {
   "cell_type": "code",
   "execution_count": null,
   "id": "a2654a03",
   "metadata": {
    "execution": {
     "iopub.execute_input": "2024-05-02T07:47:55.018333Z",
     "iopub.status.busy": "2024-05-02T07:47:55.017951Z",
     "iopub.status.idle": "2024-05-02T07:47:56.072701Z",
     "shell.execute_reply": "2024-05-02T07:47:56.071728Z"
    },
    "papermill": {
     "duration": 1.150591,
     "end_time": "2024-05-02T07:47:56.074755",
     "exception": false,
     "start_time": "2024-05-02T07:47:54.924164",
     "status": "completed"
    },
    "tags": []
   },
   "outputs": [],
   "source": [
    "evaluater = Evaluator(oof.query('probability!=-1'))\n",
    "gini_per_week, outcome = evaluater.plot_gini()\n",
    "display(gini_per_week)\n",
    "print(outcome)\n",
    "\n",
    "logger.info(\n",
    "    f'stability: {outcome[\"stability\"].item()}\\n'\n",
    "    + f'slope: {outcome[\"slope\"].item()}\\n'\n",
    "    + f'intercept: {outcome[\"intercept\"].item()}\\n'\n",
    ")\n",
    "\n",
    "outcome.to_csv(paths.output_dir.joinpath('outcome.csv'), index=False)\n",
    "\n",
    "print(f'std(residuals) = {gini_per_week[\"residuals\"].std():.4f}')"
   ]
  },
  {
   "cell_type": "code",
   "execution_count": null,
   "id": "f50a28d5",
   "metadata": {},
   "outputs": [],
   "source": [
    "from sklearn.metrics import roc_auc_score\n",
    "\n",
    "\n",
    "oof_ = oof.copy()\n",
    "display(oof_.groupby('WEEK_NUM')[['probability', 'target']].apply(lambda x: roc_auc_score(x['target'], x['probability'])))"
   ]
  },
  {
   "cell_type": "code",
   "execution_count": null,
   "id": "dd136e80",
   "metadata": {},
   "outputs": [],
   "source": []
  }
 ],
 "metadata": {
  "kaggle": {
   "accelerator": "gpu",
   "dataSources": [
    {
     "databundleVersionId": 7921029,
     "sourceId": 50160,
     "sourceType": "competition"
    },
    {
     "sourceId": 172539754,
     "sourceType": "kernelVersion"
    }
   ],
   "dockerImageVersionId": 30698,
   "isGpuEnabled": true,
   "isInternetEnabled": true,
   "language": "python",
   "sourceType": "notebook"
  },
  "kernelspec": {
   "display_name": "Python 3",
   "language": "python",
   "name": "python3"
  },
  "language_info": {
   "codemirror_mode": {
    "name": "ipython",
    "version": 3
   },
   "file_extension": ".py",
   "mimetype": "text/x-python",
   "name": "python",
   "nbconvert_exporter": "python",
   "pygments_lexer": "ipython3",
   "version": "3.10.12"
  },
  "papermill": {
   "default_parameters": {},
   "duration": 20508.009781,
   "end_time": "2024-05-02T07:47:57.817663",
   "environment_variables": {},
   "exception": null,
   "input_path": "__notebook__.ipynb",
   "output_path": "__notebook__.ipynb",
   "parameters": {},
   "start_time": "2024-05-02T02:06:09.807882",
   "version": "2.5.0"
  }
 },
 "nbformat": 4,
 "nbformat_minor": 5
}
