{
 "cells": [
  {
   "cell_type": "code",
   "execution_count": 18,
   "metadata": {},
   "outputs": [],
   "source": [
    "from collections import OrderedDict\n",
    "import gc\n",
    "from pathlib import Path\n",
    "import pickle\n",
    "import sys\n",
    "sys.path.append('..')\n",
    "from typing import Dict, List, Tuple, Union, Literal\n",
    "import warnings\n",
    "import joblib\n",
    "import lightgbm as lgb\n",
    "import numpy as np\n",
    "import optuna\n",
    "import pandas as pd\n",
    "import polars as pl\n",
    "from sklearn.preprocessing import OrdinalEncoder\n",
    "from sklearn.model_selection import StratifiedGroupKFold, train_test_split\n",
    "\n",
    "gc.enable()"
   ]
  },
  {
   "cell_type": "code",
   "execution_count": 19,
   "metadata": {},
   "outputs": [],
   "source": [
    "KAGGLE = False\n",
    "MODE:Literal['train', 'test'] = 'train'"
   ]
  },
  {
   "cell_type": "code",
   "execution_count": 20,
   "metadata": {},
   "outputs": [],
   "source": [
    "if KAGGLE:\n",
    "    COMPETITION_DIR = Path('/kaggle/input/home-credit-credit-risk-model-stability')\n",
    "    MODEL_DIR = Path('/kaggle/input/240407-home-credit-test-submit')\n",
    "    FEATURE_DTYPE_DIR = Path('/kaggle/input/home-credit-enhanced-feature-definitions')\n",
    "else:\n",
    "    COMPETITION_DIR = Path('../../data/inputs')\n",
    "    MODEL_DIR = Path('../../data/models/lgbm-group-tune')\n",
    "    if not MODEL_DIR.exists():\n",
    "        MODEL_DIR.mkdir(parents=True)\n",
    "        MODEL_DIR.joinpath('encoders').mkdir()\n",
    "        print(MODEL_DIR, 'created')\n",
    "    FEATURE_DTYPE_DIR = Path('../../data/configs/feature_definitions_dtypes_tables.parquet')"
   ]
  },
  {
   "cell_type": "code",
   "execution_count": 21,
   "metadata": {},
   "outputs": [
    {
     "data": {
      "text/html": [
       "<div>\n",
       "<style scoped>\n",
       "    .dataframe tbody tr th:only-of-type {\n",
       "        vertical-align: middle;\n",
       "    }\n",
       "\n",
       "    .dataframe tbody tr th {\n",
       "        vertical-align: top;\n",
       "    }\n",
       "\n",
       "    .dataframe thead th {\n",
       "        text-align: right;\n",
       "    }\n",
       "</style>\n",
       "<table border=\"1\" class=\"dataframe\">\n",
       "  <thead>\n",
       "    <tr style=\"text-align: right;\">\n",
       "      <th></th>\n",
       "      <th>Variable</th>\n",
       "      <th>Description</th>\n",
       "      <th>dtype</th>\n",
       "      <th>tables</th>\n",
       "    </tr>\n",
       "  </thead>\n",
       "  <tbody>\n",
       "    <tr>\n",
       "      <th>0</th>\n",
       "      <td>actualdpd_943P</td>\n",
       "      <td>Days Past Due (DPD) of previous contract (actu...</td>\n",
       "      <td>Float64</td>\n",
       "      <td>[train_applprev_1_0, train_applprev_1_1]</td>\n",
       "    </tr>\n",
       "    <tr>\n",
       "      <th>1</th>\n",
       "      <td>actualdpdtolerance_344P</td>\n",
       "      <td>DPD of client with tolerance.</td>\n",
       "      <td>Float64</td>\n",
       "      <td>[train_static_0_0, train_static_0_1]</td>\n",
       "    </tr>\n",
       "    <tr>\n",
       "      <th>2</th>\n",
       "      <td>addres_district_368M</td>\n",
       "      <td>District of the person's address.</td>\n",
       "      <td>String</td>\n",
       "      <td>[train_person_2]</td>\n",
       "    </tr>\n",
       "    <tr>\n",
       "      <th>3</th>\n",
       "      <td>addres_role_871L</td>\n",
       "      <td>Role of person's address.</td>\n",
       "      <td>String</td>\n",
       "      <td>[train_person_2]</td>\n",
       "    </tr>\n",
       "    <tr>\n",
       "      <th>4</th>\n",
       "      <td>addres_zip_823M</td>\n",
       "      <td>Zip code of the address.</td>\n",
       "      <td>String</td>\n",
       "      <td>[train_person_2]</td>\n",
       "    </tr>\n",
       "    <tr>\n",
       "      <th>...</th>\n",
       "      <td>...</td>\n",
       "      <td>...</td>\n",
       "      <td>...</td>\n",
       "      <td>...</td>\n",
       "    </tr>\n",
       "    <tr>\n",
       "      <th>460</th>\n",
       "      <td>totinstallast1m_4525188A</td>\n",
       "      <td>Total amount of monthly instalments paid in th...</td>\n",
       "      <td>Float64</td>\n",
       "      <td>[train_static_0_0, train_static_0_1]</td>\n",
       "    </tr>\n",
       "    <tr>\n",
       "      <th>461</th>\n",
       "      <td>twobodfilling_608L</td>\n",
       "      <td>Type of application process.</td>\n",
       "      <td>String</td>\n",
       "      <td>[train_static_0_0, train_static_0_1]</td>\n",
       "    </tr>\n",
       "    <tr>\n",
       "      <th>462</th>\n",
       "      <td>type_25L</td>\n",
       "      <td>Contact type of a person.</td>\n",
       "      <td>String</td>\n",
       "      <td>[train_person_1]</td>\n",
       "    </tr>\n",
       "    <tr>\n",
       "      <th>463</th>\n",
       "      <td>typesuite_864L</td>\n",
       "      <td>Persons accompanying the client during the loa...</td>\n",
       "      <td>String</td>\n",
       "      <td>[train_static_0_0, train_static_0_1]</td>\n",
       "    </tr>\n",
       "    <tr>\n",
       "      <th>464</th>\n",
       "      <td>validfrom_1069D</td>\n",
       "      <td>Date since the client has an active campaign.</td>\n",
       "      <td>Date</td>\n",
       "      <td>[train_static_0_0, train_static_0_1]</td>\n",
       "    </tr>\n",
       "  </tbody>\n",
       "</table>\n",
       "<p>465 rows × 4 columns</p>\n",
       "</div>"
      ],
      "text/plain": [
       "                     Variable  \\\n",
       "0              actualdpd_943P   \n",
       "1     actualdpdtolerance_344P   \n",
       "2        addres_district_368M   \n",
       "3            addres_role_871L   \n",
       "4             addres_zip_823M   \n",
       "..                        ...   \n",
       "460  totinstallast1m_4525188A   \n",
       "461        twobodfilling_608L   \n",
       "462                  type_25L   \n",
       "463            typesuite_864L   \n",
       "464           validfrom_1069D   \n",
       "\n",
       "                                           Description    dtype  \\\n",
       "0    Days Past Due (DPD) of previous contract (actu...  Float64   \n",
       "1                        DPD of client with tolerance.  Float64   \n",
       "2                    District of the person's address.   String   \n",
       "3                            Role of person's address.   String   \n",
       "4                             Zip code of the address.   String   \n",
       "..                                                 ...      ...   \n",
       "460  Total amount of monthly instalments paid in th...  Float64   \n",
       "461                       Type of application process.   String   \n",
       "462                          Contact type of a person.   String   \n",
       "463  Persons accompanying the client during the loa...   String   \n",
       "464      Date since the client has an active campaign.     Date   \n",
       "\n",
       "                                       tables  \n",
       "0    [train_applprev_1_0, train_applprev_1_1]  \n",
       "1        [train_static_0_0, train_static_0_1]  \n",
       "2                            [train_person_2]  \n",
       "3                            [train_person_2]  \n",
       "4                            [train_person_2]  \n",
       "..                                        ...  \n",
       "460      [train_static_0_0, train_static_0_1]  \n",
       "461      [train_static_0_0, train_static_0_1]  \n",
       "462                          [train_person_1]  \n",
       "463      [train_static_0_0, train_static_0_1]  \n",
       "464      [train_static_0_0, train_static_0_1]  \n",
       "\n",
       "[465 rows x 4 columns]"
      ]
     },
     "metadata": {},
     "output_type": "display_data"
    },
    {
     "data": {
      "text/html": [
       "<div>\n",
       "<style scoped>\n",
       "    .dataframe tbody tr th:only-of-type {\n",
       "        vertical-align: middle;\n",
       "    }\n",
       "\n",
       "    .dataframe tbody tr th {\n",
       "        vertical-align: top;\n",
       "    }\n",
       "\n",
       "    .dataframe thead th {\n",
       "        text-align: right;\n",
       "    }\n",
       "</style>\n",
       "<table border=\"1\" class=\"dataframe\">\n",
       "  <thead>\n",
       "    <tr style=\"text-align: right;\">\n",
       "      <th></th>\n",
       "      <th>Variable</th>\n",
       "      <th>Description</th>\n",
       "      <th>dtype</th>\n",
       "      <th>tables</th>\n",
       "      <th>cast_dtype</th>\n",
       "    </tr>\n",
       "  </thead>\n",
       "  <tbody>\n",
       "    <tr>\n",
       "      <th>78</th>\n",
       "      <td>contaddr_matchlist_1032L</td>\n",
       "      <td>Indicates whether the contact address is found...</td>\n",
       "      <td>Boolean</td>\n",
       "      <td>[train_person_1]</td>\n",
       "      <td>Boolean</td>\n",
       "    </tr>\n",
       "    <tr>\n",
       "      <th>79</th>\n",
       "      <td>contaddr_smempladdr_334L</td>\n",
       "      <td>Indicates whether the contact address is the s...</td>\n",
       "      <td>Boolean</td>\n",
       "      <td>[train_person_1]</td>\n",
       "      <td>Boolean</td>\n",
       "    </tr>\n",
       "    <tr>\n",
       "      <th>174</th>\n",
       "      <td>equalitydataagreement_891L</td>\n",
       "      <td>Flag indicating sudden changes in client's soc...</td>\n",
       "      <td>Boolean</td>\n",
       "      <td>[train_static_0_0, train_static_0_1]</td>\n",
       "      <td>Boolean</td>\n",
       "    </tr>\n",
       "    <tr>\n",
       "      <th>175</th>\n",
       "      <td>equalityempfrom_62L</td>\n",
       "      <td>Flag indicating a sudden change in the client'...</td>\n",
       "      <td>Boolean</td>\n",
       "      <td>[train_static_0_0, train_static_0_1]</td>\n",
       "      <td>Boolean</td>\n",
       "    </tr>\n",
       "    <tr>\n",
       "      <th>219</th>\n",
       "      <td>isbidproduct_1095L</td>\n",
       "      <td>Flag indicating if the product is a cross-sell.</td>\n",
       "      <td>Boolean</td>\n",
       "      <td>[train_static_0_0, train_static_0_1]</td>\n",
       "      <td>Boolean</td>\n",
       "    </tr>\n",
       "    <tr>\n",
       "      <th>...</th>\n",
       "      <td>...</td>\n",
       "      <td>...</td>\n",
       "      <td>...</td>\n",
       "      <td>...</td>\n",
       "      <td>...</td>\n",
       "    </tr>\n",
       "    <tr>\n",
       "      <th>444</th>\n",
       "      <td>subjectroles_name_541M</td>\n",
       "      <td>Name of subject role in closed credit contract...</td>\n",
       "      <td>String</td>\n",
       "      <td>[train_credit_bureau_a_2_0, train_credit_burea...</td>\n",
       "      <td>String</td>\n",
       "    </tr>\n",
       "    <tr>\n",
       "      <th>445</th>\n",
       "      <td>subjectroles_name_838M</td>\n",
       "      <td>Name of subject role in active credit contract...</td>\n",
       "      <td>String</td>\n",
       "      <td>[train_credit_bureau_a_2_0, train_credit_burea...</td>\n",
       "      <td>String</td>\n",
       "    </tr>\n",
       "    <tr>\n",
       "      <th>461</th>\n",
       "      <td>twobodfilling_608L</td>\n",
       "      <td>Type of application process.</td>\n",
       "      <td>String</td>\n",
       "      <td>[train_static_0_0, train_static_0_1]</td>\n",
       "      <td>String</td>\n",
       "    </tr>\n",
       "    <tr>\n",
       "      <th>462</th>\n",
       "      <td>type_25L</td>\n",
       "      <td>Contact type of a person.</td>\n",
       "      <td>String</td>\n",
       "      <td>[train_person_1]</td>\n",
       "      <td>String</td>\n",
       "    </tr>\n",
       "    <tr>\n",
       "      <th>463</th>\n",
       "      <td>typesuite_864L</td>\n",
       "      <td>Persons accompanying the client during the loa...</td>\n",
       "      <td>String</td>\n",
       "      <td>[train_static_0_0, train_static_0_1]</td>\n",
       "      <td>String</td>\n",
       "    </tr>\n",
       "  </tbody>\n",
       "</table>\n",
       "<p>407 rows × 5 columns</p>\n",
       "</div>"
      ],
      "text/plain": [
       "                       Variable  \\\n",
       "78     contaddr_matchlist_1032L   \n",
       "79     contaddr_smempladdr_334L   \n",
       "174  equalitydataagreement_891L   \n",
       "175         equalityempfrom_62L   \n",
       "219          isbidproduct_1095L   \n",
       "..                          ...   \n",
       "444      subjectroles_name_541M   \n",
       "445      subjectroles_name_838M   \n",
       "461          twobodfilling_608L   \n",
       "462                    type_25L   \n",
       "463              typesuite_864L   \n",
       "\n",
       "                                           Description    dtype  \\\n",
       "78   Indicates whether the contact address is found...  Boolean   \n",
       "79   Indicates whether the contact address is the s...  Boolean   \n",
       "174  Flag indicating sudden changes in client's soc...  Boolean   \n",
       "175  Flag indicating a sudden change in the client'...  Boolean   \n",
       "219    Flag indicating if the product is a cross-sell.  Boolean   \n",
       "..                                                 ...      ...   \n",
       "444  Name of subject role in closed credit contract...   String   \n",
       "445  Name of subject role in active credit contract...   String   \n",
       "461                       Type of application process.   String   \n",
       "462                          Contact type of a person.   String   \n",
       "463  Persons accompanying the client during the loa...   String   \n",
       "\n",
       "                                                tables cast_dtype  \n",
       "78                                    [train_person_1]    Boolean  \n",
       "79                                    [train_person_1]    Boolean  \n",
       "174               [train_static_0_0, train_static_0_1]    Boolean  \n",
       "175               [train_static_0_0, train_static_0_1]    Boolean  \n",
       "219               [train_static_0_0, train_static_0_1]    Boolean  \n",
       "..                                                 ...        ...  \n",
       "444  [train_credit_bureau_a_2_0, train_credit_burea...     String  \n",
       "445  [train_credit_bureau_a_2_0, train_credit_burea...     String  \n",
       "461               [train_static_0_0, train_static_0_1]     String  \n",
       "462                                   [train_person_1]     String  \n",
       "463               [train_static_0_0, train_static_0_1]     String  \n",
       "\n",
       "[407 rows x 5 columns]"
      ]
     },
     "metadata": {},
     "output_type": "display_data"
    }
   ],
   "source": [
    "df_features = pd.read_parquet(FEATURE_DTYPE_DIR)\n",
    "display(df_features)\n",
    "\n",
    "bool_features = df_features.query('dtype == \"Boolean\"')\n",
    "float64_features = df_features.query('dtype == \"Float64\"')\n",
    "string_features = df_features.query('dtype == \"String\"')\n",
    "date_features = df_features.query('dtype == \"Date\"')\n",
    "\n",
    "with warnings.catch_warnings():\n",
    "    warnings.simplefilter('ignore')\n",
    "    bool_features['cast_dtype'] = pl.Boolean\n",
    "    float64_features['cast_dtype'] = pl.Float32\n",
    "    string_features['cast_dtype'] = pl.String\n",
    "\n",
    "cast_features = pd.concat([bool_features, float64_features, string_features])\n",
    "display(cast_features)"
   ]
  },
  {
   "cell_type": "code",
   "execution_count": 22,
   "metadata": {},
   "outputs": [],
   "source": [
    "def get_depth_paths(load_dir: Path, prefix: Literal['test', 'train']):\n",
    "    \n",
    "    assert prefix in ['test', 'train']\n",
    "    \n",
    "    depth_paths = OrderedDict()\n",
    "\n",
    "    depth_paths['static_0'] = []\n",
    "    depth_paths['static_cb_0'] = []\n",
    "    depth_paths['applprev_1'] = []\n",
    "    depth_paths['other_1'] = []\n",
    "    depth_paths['tax_registry_a_1'] = []\n",
    "    depth_paths['tax_registry_b_1'] = []\n",
    "    depth_paths['tax_registry_c_1'] = []\n",
    "    depth_paths['credit_bureau_a_1'] = []\n",
    "    depth_paths['credit_bureau_b_1'] = []\n",
    "    depth_paths['deposit_1'] = []\n",
    "    depth_paths['person_1'] = []\n",
    "    depth_paths['debitcard_1'] = []\n",
    "    depth_paths['applprev_2'] = []\n",
    "    depth_paths['person_2'] = []\n",
    "    depth_paths['credit_bureau_a_2'] = []\n",
    "    depth_paths['credit_bureau_b_2'] = []\n",
    "\n",
    "    for k in depth_paths.keys():\n",
    "        depth_paths[k] = sorted(\n",
    "            [p for p in load_dir.joinpath(f'parquet_files/{prefix}').glob(f'{prefix}_{k}*.parquet')]\n",
    "        )\n",
    "    return depth_paths"
   ]
  },
  {
   "cell_type": "code",
   "execution_count": 23,
   "metadata": {},
   "outputs": [
    {
     "name": "stdout",
     "output_type": "stream",
     "text": [
      "the number of train paths: 31\n"
     ]
    }
   ],
   "source": [
    "depth_paths = get_depth_paths(COMPETITION_DIR, MODE)\n",
    "\n",
    "print(f'the number of {MODE} paths: {sum(len(v1) for v1 in depth_paths.values())}')"
   ]
  },
  {
   "cell_type": "code",
   "execution_count": 24,
   "metadata": {},
   "outputs": [],
   "source": [
    "def process_D_features(data: pl.DataFrame, D_columns: List[str]):\n",
    "    for col in D_columns:\n",
    "        data = data.with_columns(\n",
    "            pl.col(col)\n",
    "            .fill_null('0000-00-00')\n",
    "            .str.split_exact('-', n=2)\n",
    "            .struct.rename_fields(['year_' + col, 'month_' + col, 'day_' + col])\n",
    "            .cast(pl.Int16)\n",
    "            .alias('fields')\n",
    "        )\n",
    "        data = data.drop(col).unnest('fields')\n",
    "    return data"
   ]
  },
  {
   "cell_type": "code",
   "execution_count": 25,
   "metadata": {},
   "outputs": [],
   "source": [
    "def merge_dataset(\n",
    "        base_data: pl.DataFrame,\n",
    "        depth_paths: Dict[str, List[Path]],\n",
    "        bool_features: pd.DataFrame,\n",
    "        float64_features: pd.DataFrame,\n",
    "        string_features: pd.DataFrame,\n",
    "        depth: Literal['0', '1', '2', '012'],\n",
    "    ) -> pd.DataFrame:\n",
    "    \n",
    "    assert depth in ['0', '1', '2', '012']\n",
    "    \n",
    "    for i, (k, path_list) in enumerate(depth_paths.items()):\n",
    "        \n",
    "        if depth == '012':\n",
    "            pass\n",
    "        elif depth != k[-1]:\n",
    "            continue\n",
    "            \n",
    "        print(f'loading `{k}`')\n",
    "        depth_data = []\n",
    "        for p in path_list:\n",
    "            sub_data = pl.read_parquet(p).cast({'case_id': pl.Int64})\n",
    "            if k[-1] == '1':\n",
    "                sub_data = sub_data.drop('num_group1').group_by('case_id').max().sort('case_id')\n",
    "            elif k[-1] == '2':\n",
    "                sub_data = sub_data.drop(['num_group1', 'num_group2']).group_by('case_id').max().sort('case_id')\n",
    "                \n",
    "            depth_data.append(sub_data)\n",
    "            \n",
    "            print(f'\\t{p.stem}: {sub_data.shape}')\n",
    "            \n",
    "            del sub_data\n",
    "            gc.collect()\n",
    "        \n",
    "        depth_data = pl.concat(depth_data, how='vertical_relaxed')\n",
    "        base_data = base_data.join(depth_data, how='left', on='case_id', suffix=f'_{i}')\n",
    "        \n",
    "        del depth_data\n",
    "        gc.collect()\n",
    "    \n",
    "    '''\n",
    "    cast dtypes\n",
    "    '''\n",
    "    for _, row in bool_features[['Variable', 'cast_dtype']].iterrows():\n",
    "        col = row['Variable']\n",
    "        cast_dtype = row['cast_dtype']\n",
    "        if col in base_data.columns:\n",
    "            base_data = base_data.with_columns(pl.col(col).fill_null(np.nan).cast(cast_dtype))\n",
    "        \n",
    "    for _, row in float64_features[['Variable', 'cast_dtype']].iterrows():\n",
    "        col = row['Variable']\n",
    "        cast_dtype = row['cast_dtype']\n",
    "        if col in base_data.columns:\n",
    "            base_data = base_data.with_columns(pl.col(col).cast(cast_dtype))\n",
    "            \n",
    "    for _, row in string_features[['Variable', 'cast_dtype']].iterrows():\n",
    "        col = row['Variable']\n",
    "        cast_dtype = row['cast_dtype']\n",
    "        if col in base_data.columns:\n",
    "            base_data = base_data.with_columns(pl.col(col).cast(cast_dtype))\n",
    "    \n",
    "    '''\n",
    "    process D features\n",
    "    '''\n",
    "    D_features = [col for col in base_data.columns if col[-1] == 'D']\n",
    "    base_data = process_D_features(base_data, D_features)\n",
    "    base_data = base_data.to_pandas()\n",
    "    return base_data\n",
    "\n",
    "\n",
    "def encode(depth_data:pd.DataFrame, mode:Literal['train', 'test'], save_dir:Path) -> pd.DataFrame:\n",
    "\n",
    "    assert mode in ['train', 'test']\n",
    "\n",
    "    object_columns = depth_data.dtypes.index[depth_data.dtypes==object].to_list()\n",
    "    if 'date_decision' in object_columns:\n",
    "        object_columns.remove('date_decision')\n",
    "\n",
    "    if mode == 'train':\n",
    "        object_data = []\n",
    "        print(f'num of object columns: {len(object_columns)}')\n",
    "        for col in object_columns:\n",
    "            encoder = OrdinalEncoder(handle_unknown='use_encoded_value', unknown_value=-1)\n",
    "            encoder.fit(depth_data[col].values.reshape(-1, 1))\n",
    "            # save encoder as joblib\n",
    "            save_path = save_dir.joinpath(f'encoder_{col}.joblib')\n",
    "            joblib.dump(encoder, save_path)\n",
    "            object_data.append(encoder.transform(depth_data[col].values.reshape(-1, 1)).astype(np.float32))\n",
    "        depth_data.drop(columns=object_columns, inplace=True)\n",
    "        print(f'num of object columns: {len(object_data)}')\n",
    "        object_data = np.concatenate(object_data, axis=1)\n",
    "        object_data = pd.DataFrame(object_data, columns=object_columns)\n",
    "    else:\n",
    "        object_data = []\n",
    "        for col in object_columns:\n",
    "            # load encoder\n",
    "            load_path = save_dir.joinpath(f'encoder_{col}.joblib')\n",
    "            encoder = joblib.load(load_path)\n",
    "            object_data.append(encoder.transform(depth_data[col].values.reshape(-1, 1)).astype(np.float32))\n",
    "        depth_data.drop(columns=object_columns, inplace=True)\n",
    "        object_data = np.concatenate(object_data, axis=1)\n",
    "        object_data = pd.DataFrame(object_data, columns=object_columns)\n",
    "\n",
    "    return pd.concat([depth_data, object_data], axis=1)\n"
   ]
  },
  {
   "cell_type": "code",
   "execution_count": 26,
   "metadata": {},
   "outputs": [
    {
     "name": "stdout",
     "output_type": "stream",
     "text": [
      "train\n"
     ]
    },
    {
     "data": {
      "text/html": [
       "<div><style>\n",
       ".dataframe > thead > tr,\n",
       ".dataframe > tbody > tr {\n",
       "  text-align: right;\n",
       "  white-space: pre-wrap;\n",
       "}\n",
       "</style>\n",
       "<small>shape: (1_526_659, 5)</small><table border=\"1\" class=\"dataframe\"><thead><tr><th>case_id</th><th>date_decision</th><th>MONTH</th><th>WEEK_NUM</th><th>target</th></tr><tr><td>i64</td><td>str</td><td>i64</td><td>i64</td><td>i64</td></tr></thead><tbody><tr><td>0</td><td>&quot;2019-01-03&quot;</td><td>201901</td><td>0</td><td>0</td></tr><tr><td>1</td><td>&quot;2019-01-03&quot;</td><td>201901</td><td>0</td><td>0</td></tr><tr><td>2</td><td>&quot;2019-01-04&quot;</td><td>201901</td><td>0</td><td>0</td></tr><tr><td>3</td><td>&quot;2019-01-03&quot;</td><td>201901</td><td>0</td><td>0</td></tr><tr><td>4</td><td>&quot;2019-01-04&quot;</td><td>201901</td><td>0</td><td>1</td></tr><tr><td>&hellip;</td><td>&hellip;</td><td>&hellip;</td><td>&hellip;</td><td>&hellip;</td></tr><tr><td>2703450</td><td>&quot;2020-10-05&quot;</td><td>202010</td><td>91</td><td>0</td></tr><tr><td>2703451</td><td>&quot;2020-10-05&quot;</td><td>202010</td><td>91</td><td>0</td></tr><tr><td>2703452</td><td>&quot;2020-10-05&quot;</td><td>202010</td><td>91</td><td>0</td></tr><tr><td>2703453</td><td>&quot;2020-10-05&quot;</td><td>202010</td><td>91</td><td>0</td></tr><tr><td>2703454</td><td>&quot;2020-10-05&quot;</td><td>202010</td><td>91</td><td>0</td></tr></tbody></table></div>"
      ],
      "text/plain": [
       "shape: (1_526_659, 5)\n",
       "┌─────────┬───────────────┬────────┬──────────┬────────┐\n",
       "│ case_id ┆ date_decision ┆ MONTH  ┆ WEEK_NUM ┆ target │\n",
       "│ ---     ┆ ---           ┆ ---    ┆ ---      ┆ ---    │\n",
       "│ i64     ┆ str           ┆ i64    ┆ i64      ┆ i64    │\n",
       "╞═════════╪═══════════════╪════════╪══════════╪════════╡\n",
       "│ 0       ┆ 2019-01-03    ┆ 201901 ┆ 0        ┆ 0      │\n",
       "│ 1       ┆ 2019-01-03    ┆ 201901 ┆ 0        ┆ 0      │\n",
       "│ 2       ┆ 2019-01-04    ┆ 201901 ┆ 0        ┆ 0      │\n",
       "│ 3       ┆ 2019-01-03    ┆ 201901 ┆ 0        ┆ 0      │\n",
       "│ 4       ┆ 2019-01-04    ┆ 201901 ┆ 0        ┆ 1      │\n",
       "│ …       ┆ …             ┆ …      ┆ …        ┆ …      │\n",
       "│ 2703450 ┆ 2020-10-05    ┆ 202010 ┆ 91       ┆ 0      │\n",
       "│ 2703451 ┆ 2020-10-05    ┆ 202010 ┆ 91       ┆ 0      │\n",
       "│ 2703452 ┆ 2020-10-05    ┆ 202010 ┆ 91       ┆ 0      │\n",
       "│ 2703453 ┆ 2020-10-05    ┆ 202010 ┆ 91       ┆ 0      │\n",
       "│ 2703454 ┆ 2020-10-05    ┆ 202010 ┆ 91       ┆ 0      │\n",
       "└─────────┴───────────────┴────────┴──────────┴────────┘"
      ]
     },
     "metadata": {},
     "output_type": "display_data"
    }
   ],
   "source": [
    "base_data = pl.read_parquet(\n",
    "    COMPETITION_DIR.joinpath(f'parquet_files/{MODE}/{MODE}_base.parquet')\n",
    ").cast(\n",
    "    {\n",
    "        'case_id': pl.Int64,\n",
    "        'date_decision': pl.String,\n",
    "        'MONTH': pl.Int64,\n",
    "        'WEEK_NUM': pl.Int64,\n",
    "    }\n",
    ")\n",
    "\n",
    "print(MODE)\n",
    "display(base_data)"
   ]
  },
  {
   "cell_type": "code",
   "execution_count": 27,
   "metadata": {},
   "outputs": [
    {
     "name": "stdout",
     "output_type": "stream",
     "text": [
      "loading `static_0`\n",
      "\ttrain_static_0_0: (1003757, 168)\n",
      "\ttrain_static_0_1: (522902, 168)\n",
      "loading `static_cb_0`\n",
      "\ttrain_static_cb_0: (1500476, 53)\n",
      "loading `applprev_1`\n",
      "\ttrain_applprev_1_0: (782997, 40)\n",
      "\ttrain_applprev_1_1: (438525, 40)\n",
      "loading `other_1`\n",
      "\ttrain_other_1: (51109, 6)\n",
      "loading `tax_registry_a_1`\n",
      "\ttrain_tax_registry_a_1: (457934, 4)\n",
      "loading `tax_registry_b_1`\n",
      "\ttrain_tax_registry_b_1: (150732, 4)\n",
      "loading `tax_registry_c_1`\n",
      "\ttrain_tax_registry_c_1: (482265, 4)\n",
      "loading `credit_bureau_a_1`\n",
      "\ttrain_credit_bureau_a_1_0: (335275, 78)\n",
      "\ttrain_credit_bureau_a_1_1: (549263, 78)\n",
      "\ttrain_credit_bureau_a_1_2: (325127, 78)\n",
      "\ttrain_credit_bureau_a_1_3: (176608, 78)\n",
      "loading `credit_bureau_b_1`\n",
      "\ttrain_credit_bureau_b_1: (36500, 44)\n",
      "loading `deposit_1`\n",
      "\ttrain_deposit_1: (105111, 4)\n",
      "loading `person_1`\n",
      "\ttrain_person_1: (1526659, 36)\n",
      "loading `debitcard_1`\n",
      "\ttrain_debitcard_1: (111772, 5)\n",
      "loading `applprev_2`\n",
      "\ttrain_applprev_2: (1221522, 4)\n",
      "loading `person_2`\n",
      "\ttrain_person_2: (1435105, 9)\n",
      "loading `credit_bureau_a_2`\n",
      "\ttrain_credit_bureau_a_2_0: (98303, 17)\n",
      "\ttrain_credit_bureau_a_2_1: (118481, 17)\n",
      "\ttrain_credit_bureau_a_2_10: (23734, 17)\n",
      "\ttrain_credit_bureau_a_2_2: (156749, 17)\n",
      "\ttrain_credit_bureau_a_2_3: (190486, 17)\n",
      "\ttrain_credit_bureau_a_2_4: (190313, 17)\n",
      "\ttrain_credit_bureau_a_2_5: (231250, 17)\n",
      "\ttrain_credit_bureau_a_2_6: (150426, 17)\n",
      "\ttrain_credit_bureau_a_2_7: (45056, 17)\n",
      "\ttrain_credit_bureau_a_2_8: (77457, 17)\n",
      "\ttrain_credit_bureau_a_2_9: (103033, 17)\n",
      "loading `credit_bureau_b_2`\n",
      "\ttrain_credit_bureau_b_2: (36447, 4)\n"
     ]
    },
    {
     "data": {
      "text/html": [
       "<div>\n",
       "<style scoped>\n",
       "    .dataframe tbody tr th:only-of-type {\n",
       "        vertical-align: middle;\n",
       "    }\n",
       "\n",
       "    .dataframe tbody tr th {\n",
       "        vertical-align: top;\n",
       "    }\n",
       "\n",
       "    .dataframe thead th {\n",
       "        text-align: right;\n",
       "    }\n",
       "</style>\n",
       "<table border=\"1\" class=\"dataframe\">\n",
       "  <thead>\n",
       "    <tr style=\"text-align: right;\">\n",
       "      <th></th>\n",
       "      <th>case_id</th>\n",
       "      <th>date_decision</th>\n",
       "      <th>MONTH</th>\n",
       "      <th>WEEK_NUM</th>\n",
       "      <th>target</th>\n",
       "      <th>actualdpdtolerance_344P</th>\n",
       "      <th>amtinstpaidbefduel24m_4187115A</th>\n",
       "      <th>annuity_780A</th>\n",
       "      <th>annuitynextmonth_57A</th>\n",
       "      <th>applicationcnt_361L</th>\n",
       "      <th>...</th>\n",
       "      <th>day_empl_employedfrom_271D</th>\n",
       "      <th>year_openingdate_857D</th>\n",
       "      <th>month_openingdate_857D</th>\n",
       "      <th>day_openingdate_857D</th>\n",
       "      <th>year_empls_employedfrom_796D</th>\n",
       "      <th>month_empls_employedfrom_796D</th>\n",
       "      <th>day_empls_employedfrom_796D</th>\n",
       "      <th>year_pmts_date_1107D</th>\n",
       "      <th>month_pmts_date_1107D</th>\n",
       "      <th>day_pmts_date_1107D</th>\n",
       "    </tr>\n",
       "  </thead>\n",
       "  <tbody>\n",
       "    <tr>\n",
       "      <th>0</th>\n",
       "      <td>0</td>\n",
       "      <td>2019-01-03</td>\n",
       "      <td>201901</td>\n",
       "      <td>0</td>\n",
       "      <td>0</td>\n",
       "      <td>NaN</td>\n",
       "      <td>NaN</td>\n",
       "      <td>1917.599976</td>\n",
       "      <td>0.000000</td>\n",
       "      <td>0.0</td>\n",
       "      <td>...</td>\n",
       "      <td>15</td>\n",
       "      <td>0</td>\n",
       "      <td>0</td>\n",
       "      <td>0</td>\n",
       "      <td>0</td>\n",
       "      <td>0</td>\n",
       "      <td>0</td>\n",
       "      <td>0</td>\n",
       "      <td>0</td>\n",
       "      <td>0</td>\n",
       "    </tr>\n",
       "    <tr>\n",
       "      <th>1</th>\n",
       "      <td>1</td>\n",
       "      <td>2019-01-03</td>\n",
       "      <td>201901</td>\n",
       "      <td>0</td>\n",
       "      <td>0</td>\n",
       "      <td>NaN</td>\n",
       "      <td>NaN</td>\n",
       "      <td>3134.000000</td>\n",
       "      <td>0.000000</td>\n",
       "      <td>0.0</td>\n",
       "      <td>...</td>\n",
       "      <td>29</td>\n",
       "      <td>0</td>\n",
       "      <td>0</td>\n",
       "      <td>0</td>\n",
       "      <td>0</td>\n",
       "      <td>0</td>\n",
       "      <td>0</td>\n",
       "      <td>0</td>\n",
       "      <td>0</td>\n",
       "      <td>0</td>\n",
       "    </tr>\n",
       "    <tr>\n",
       "      <th>2</th>\n",
       "      <td>2</td>\n",
       "      <td>2019-01-04</td>\n",
       "      <td>201901</td>\n",
       "      <td>0</td>\n",
       "      <td>0</td>\n",
       "      <td>NaN</td>\n",
       "      <td>NaN</td>\n",
       "      <td>4937.000000</td>\n",
       "      <td>0.000000</td>\n",
       "      <td>0.0</td>\n",
       "      <td>...</td>\n",
       "      <td>15</td>\n",
       "      <td>0</td>\n",
       "      <td>0</td>\n",
       "      <td>0</td>\n",
       "      <td>0</td>\n",
       "      <td>0</td>\n",
       "      <td>0</td>\n",
       "      <td>0</td>\n",
       "      <td>0</td>\n",
       "      <td>0</td>\n",
       "    </tr>\n",
       "    <tr>\n",
       "      <th>3</th>\n",
       "      <td>3</td>\n",
       "      <td>2019-01-03</td>\n",
       "      <td>201901</td>\n",
       "      <td>0</td>\n",
       "      <td>0</td>\n",
       "      <td>NaN</td>\n",
       "      <td>NaN</td>\n",
       "      <td>4643.600098</td>\n",
       "      <td>0.000000</td>\n",
       "      <td>0.0</td>\n",
       "      <td>...</td>\n",
       "      <td>15</td>\n",
       "      <td>0</td>\n",
       "      <td>0</td>\n",
       "      <td>0</td>\n",
       "      <td>0</td>\n",
       "      <td>0</td>\n",
       "      <td>0</td>\n",
       "      <td>0</td>\n",
       "      <td>0</td>\n",
       "      <td>0</td>\n",
       "    </tr>\n",
       "    <tr>\n",
       "      <th>4</th>\n",
       "      <td>4</td>\n",
       "      <td>2019-01-04</td>\n",
       "      <td>201901</td>\n",
       "      <td>0</td>\n",
       "      <td>1</td>\n",
       "      <td>NaN</td>\n",
       "      <td>NaN</td>\n",
       "      <td>3390.199951</td>\n",
       "      <td>0.000000</td>\n",
       "      <td>0.0</td>\n",
       "      <td>...</td>\n",
       "      <td>15</td>\n",
       "      <td>0</td>\n",
       "      <td>0</td>\n",
       "      <td>0</td>\n",
       "      <td>0</td>\n",
       "      <td>0</td>\n",
       "      <td>0</td>\n",
       "      <td>0</td>\n",
       "      <td>0</td>\n",
       "      <td>0</td>\n",
       "    </tr>\n",
       "    <tr>\n",
       "      <th>...</th>\n",
       "      <td>...</td>\n",
       "      <td>...</td>\n",
       "      <td>...</td>\n",
       "      <td>...</td>\n",
       "      <td>...</td>\n",
       "      <td>...</td>\n",
       "      <td>...</td>\n",
       "      <td>...</td>\n",
       "      <td>...</td>\n",
       "      <td>...</td>\n",
       "      <td>...</td>\n",
       "      <td>...</td>\n",
       "      <td>...</td>\n",
       "      <td>...</td>\n",
       "      <td>...</td>\n",
       "      <td>...</td>\n",
       "      <td>...</td>\n",
       "      <td>...</td>\n",
       "      <td>...</td>\n",
       "      <td>...</td>\n",
       "      <td>...</td>\n",
       "    </tr>\n",
       "    <tr>\n",
       "      <th>1526654</th>\n",
       "      <td>2703450</td>\n",
       "      <td>2020-10-05</td>\n",
       "      <td>202010</td>\n",
       "      <td>91</td>\n",
       "      <td>0</td>\n",
       "      <td>0.0</td>\n",
       "      <td>176561.359375</td>\n",
       "      <td>3675.400146</td>\n",
       "      <td>0.000000</td>\n",
       "      <td>0.0</td>\n",
       "      <td>...</td>\n",
       "      <td>0</td>\n",
       "      <td>0</td>\n",
       "      <td>0</td>\n",
       "      <td>0</td>\n",
       "      <td>0</td>\n",
       "      <td>0</td>\n",
       "      <td>0</td>\n",
       "      <td>0</td>\n",
       "      <td>0</td>\n",
       "      <td>0</td>\n",
       "    </tr>\n",
       "    <tr>\n",
       "      <th>1526655</th>\n",
       "      <td>2703451</td>\n",
       "      <td>2020-10-05</td>\n",
       "      <td>202010</td>\n",
       "      <td>91</td>\n",
       "      <td>0</td>\n",
       "      <td>0.0</td>\n",
       "      <td>301276.468750</td>\n",
       "      <td>7088.600098</td>\n",
       "      <td>6191.600098</td>\n",
       "      <td>0.0</td>\n",
       "      <td>...</td>\n",
       "      <td>0</td>\n",
       "      <td>0</td>\n",
       "      <td>0</td>\n",
       "      <td>0</td>\n",
       "      <td>0</td>\n",
       "      <td>0</td>\n",
       "      <td>0</td>\n",
       "      <td>0</td>\n",
       "      <td>0</td>\n",
       "      <td>0</td>\n",
       "    </tr>\n",
       "    <tr>\n",
       "      <th>1526656</th>\n",
       "      <td>2703452</td>\n",
       "      <td>2020-10-05</td>\n",
       "      <td>202010</td>\n",
       "      <td>91</td>\n",
       "      <td>0</td>\n",
       "      <td>0.0</td>\n",
       "      <td>14232.400391</td>\n",
       "      <td>7788.800293</td>\n",
       "      <td>0.000000</td>\n",
       "      <td>0.0</td>\n",
       "      <td>...</td>\n",
       "      <td>0</td>\n",
       "      <td>0</td>\n",
       "      <td>0</td>\n",
       "      <td>0</td>\n",
       "      <td>0</td>\n",
       "      <td>0</td>\n",
       "      <td>0</td>\n",
       "      <td>0</td>\n",
       "      <td>0</td>\n",
       "      <td>0</td>\n",
       "    </tr>\n",
       "    <tr>\n",
       "      <th>1526657</th>\n",
       "      <td>2703453</td>\n",
       "      <td>2020-10-05</td>\n",
       "      <td>202010</td>\n",
       "      <td>91</td>\n",
       "      <td>0</td>\n",
       "      <td>0.0</td>\n",
       "      <td>197371.578125</td>\n",
       "      <td>1195.400024</td>\n",
       "      <td>2827.199951</td>\n",
       "      <td>0.0</td>\n",
       "      <td>...</td>\n",
       "      <td>0</td>\n",
       "      <td>2015</td>\n",
       "      <td>5</td>\n",
       "      <td>29</td>\n",
       "      <td>0</td>\n",
       "      <td>0</td>\n",
       "      <td>0</td>\n",
       "      <td>0</td>\n",
       "      <td>0</td>\n",
       "      <td>0</td>\n",
       "    </tr>\n",
       "    <tr>\n",
       "      <th>1526658</th>\n",
       "      <td>2703454</td>\n",
       "      <td>2020-10-05</td>\n",
       "      <td>202010</td>\n",
       "      <td>91</td>\n",
       "      <td>0</td>\n",
       "      <td>0.0</td>\n",
       "      <td>82949.601562</td>\n",
       "      <td>4533.800293</td>\n",
       "      <td>2986.800049</td>\n",
       "      <td>0.0</td>\n",
       "      <td>...</td>\n",
       "      <td>0</td>\n",
       "      <td>0</td>\n",
       "      <td>0</td>\n",
       "      <td>0</td>\n",
       "      <td>0</td>\n",
       "      <td>0</td>\n",
       "      <td>0</td>\n",
       "      <td>0</td>\n",
       "      <td>0</td>\n",
       "      <td>0</td>\n",
       "    </tr>\n",
       "  </tbody>\n",
       "</table>\n",
       "<p>1526659 rows × 583 columns</p>\n",
       "</div>"
      ],
      "text/plain": [
       "         case_id date_decision   MONTH  WEEK_NUM  target  \\\n",
       "0              0    2019-01-03  201901         0       0   \n",
       "1              1    2019-01-03  201901         0       0   \n",
       "2              2    2019-01-04  201901         0       0   \n",
       "3              3    2019-01-03  201901         0       0   \n",
       "4              4    2019-01-04  201901         0       1   \n",
       "...          ...           ...     ...       ...     ...   \n",
       "1526654  2703450    2020-10-05  202010        91       0   \n",
       "1526655  2703451    2020-10-05  202010        91       0   \n",
       "1526656  2703452    2020-10-05  202010        91       0   \n",
       "1526657  2703453    2020-10-05  202010        91       0   \n",
       "1526658  2703454    2020-10-05  202010        91       0   \n",
       "\n",
       "         actualdpdtolerance_344P  amtinstpaidbefduel24m_4187115A  \\\n",
       "0                            NaN                             NaN   \n",
       "1                            NaN                             NaN   \n",
       "2                            NaN                             NaN   \n",
       "3                            NaN                             NaN   \n",
       "4                            NaN                             NaN   \n",
       "...                          ...                             ...   \n",
       "1526654                      0.0                   176561.359375   \n",
       "1526655                      0.0                   301276.468750   \n",
       "1526656                      0.0                    14232.400391   \n",
       "1526657                      0.0                   197371.578125   \n",
       "1526658                      0.0                    82949.601562   \n",
       "\n",
       "         annuity_780A  annuitynextmonth_57A  applicationcnt_361L  ...  \\\n",
       "0         1917.599976              0.000000                  0.0  ...   \n",
       "1         3134.000000              0.000000                  0.0  ...   \n",
       "2         4937.000000              0.000000                  0.0  ...   \n",
       "3         4643.600098              0.000000                  0.0  ...   \n",
       "4         3390.199951              0.000000                  0.0  ...   \n",
       "...               ...                   ...                  ...  ...   \n",
       "1526654   3675.400146              0.000000                  0.0  ...   \n",
       "1526655   7088.600098           6191.600098                  0.0  ...   \n",
       "1526656   7788.800293              0.000000                  0.0  ...   \n",
       "1526657   1195.400024           2827.199951                  0.0  ...   \n",
       "1526658   4533.800293           2986.800049                  0.0  ...   \n",
       "\n",
       "         day_empl_employedfrom_271D  year_openingdate_857D  \\\n",
       "0                                15                      0   \n",
       "1                                29                      0   \n",
       "2                                15                      0   \n",
       "3                                15                      0   \n",
       "4                                15                      0   \n",
       "...                             ...                    ...   \n",
       "1526654                           0                      0   \n",
       "1526655                           0                      0   \n",
       "1526656                           0                      0   \n",
       "1526657                           0                   2015   \n",
       "1526658                           0                      0   \n",
       "\n",
       "         month_openingdate_857D  day_openingdate_857D  \\\n",
       "0                             0                     0   \n",
       "1                             0                     0   \n",
       "2                             0                     0   \n",
       "3                             0                     0   \n",
       "4                             0                     0   \n",
       "...                         ...                   ...   \n",
       "1526654                       0                     0   \n",
       "1526655                       0                     0   \n",
       "1526656                       0                     0   \n",
       "1526657                       5                    29   \n",
       "1526658                       0                     0   \n",
       "\n",
       "         year_empls_employedfrom_796D  month_empls_employedfrom_796D  \\\n",
       "0                                   0                              0   \n",
       "1                                   0                              0   \n",
       "2                                   0                              0   \n",
       "3                                   0                              0   \n",
       "4                                   0                              0   \n",
       "...                               ...                            ...   \n",
       "1526654                             0                              0   \n",
       "1526655                             0                              0   \n",
       "1526656                             0                              0   \n",
       "1526657                             0                              0   \n",
       "1526658                             0                              0   \n",
       "\n",
       "         day_empls_employedfrom_796D  year_pmts_date_1107D  \\\n",
       "0                                  0                     0   \n",
       "1                                  0                     0   \n",
       "2                                  0                     0   \n",
       "3                                  0                     0   \n",
       "4                                  0                     0   \n",
       "...                              ...                   ...   \n",
       "1526654                            0                     0   \n",
       "1526655                            0                     0   \n",
       "1526656                            0                     0   \n",
       "1526657                            0                     0   \n",
       "1526658                            0                     0   \n",
       "\n",
       "         month_pmts_date_1107D  day_pmts_date_1107D  \n",
       "0                            0                    0  \n",
       "1                            0                    0  \n",
       "2                            0                    0  \n",
       "3                            0                    0  \n",
       "4                            0                    0  \n",
       "...                        ...                  ...  \n",
       "1526654                      0                    0  \n",
       "1526655                      0                    0  \n",
       "1526656                      0                    0  \n",
       "1526657                      0                    0  \n",
       "1526658                      0                    0  \n",
       "\n",
       "[1526659 rows x 583 columns]"
      ]
     },
     "metadata": {},
     "output_type": "display_data"
    }
   ],
   "source": [
    "depth_data = merge_dataset(\n",
    "    base_data,\n",
    "    depth_paths,\n",
    "    bool_features,\n",
    "    float64_features,\n",
    "    string_features,\n",
    "    '012'\n",
    ")\n",
    "display(depth_data)"
   ]
  },
  {
   "cell_type": "code",
   "execution_count": 28,
   "metadata": {},
   "outputs": [
    {
     "name": "stdout",
     "output_type": "stream",
     "text": [
      "num of object columns: 99\n",
      "num of object columns: 99\n"
     ]
    },
    {
     "data": {
      "text/html": [
       "<div>\n",
       "<style scoped>\n",
       "    .dataframe tbody tr th:only-of-type {\n",
       "        vertical-align: middle;\n",
       "    }\n",
       "\n",
       "    .dataframe tbody tr th {\n",
       "        vertical-align: top;\n",
       "    }\n",
       "\n",
       "    .dataframe thead th {\n",
       "        text-align: right;\n",
       "    }\n",
       "</style>\n",
       "<table border=\"1\" class=\"dataframe\">\n",
       "  <thead>\n",
       "    <tr style=\"text-align: right;\">\n",
       "      <th></th>\n",
       "      <th>case_id</th>\n",
       "      <th>date_decision</th>\n",
       "      <th>MONTH</th>\n",
       "      <th>WEEK_NUM</th>\n",
       "      <th>target</th>\n",
       "      <th>actualdpdtolerance_344P</th>\n",
       "      <th>amtinstpaidbefduel24m_4187115A</th>\n",
       "      <th>annuity_780A</th>\n",
       "      <th>annuitynextmonth_57A</th>\n",
       "      <th>applicationcnt_361L</th>\n",
       "      <th>...</th>\n",
       "      <th>conts_role_79M</th>\n",
       "      <th>empls_economicalst_849M</th>\n",
       "      <th>empls_employer_name_740M</th>\n",
       "      <th>relatedpersons_role_762T</th>\n",
       "      <th>collater_typofvalofguarant_298M</th>\n",
       "      <th>collater_typofvalofguarant_407M</th>\n",
       "      <th>collaterals_typeofguarante_359M</th>\n",
       "      <th>collaterals_typeofguarante_669M</th>\n",
       "      <th>subjectroles_name_541M</th>\n",
       "      <th>subjectroles_name_838M</th>\n",
       "    </tr>\n",
       "  </thead>\n",
       "  <tbody>\n",
       "    <tr>\n",
       "      <th>0</th>\n",
       "      <td>0</td>\n",
       "      <td>2019-01-03</td>\n",
       "      <td>201901</td>\n",
       "      <td>0</td>\n",
       "      <td>0</td>\n",
       "      <td>NaN</td>\n",
       "      <td>NaN</td>\n",
       "      <td>1917.599976</td>\n",
       "      <td>0.000000</td>\n",
       "      <td>0.0</td>\n",
       "      <td>...</td>\n",
       "      <td>5.0</td>\n",
       "      <td>6.0</td>\n",
       "      <td>1.0</td>\n",
       "      <td>10.0</td>\n",
       "      <td>2.0</td>\n",
       "      <td>5.0</td>\n",
       "      <td>5.0</td>\n",
       "      <td>5.0</td>\n",
       "      <td>4.0</td>\n",
       "      <td>4.0</td>\n",
       "    </tr>\n",
       "    <tr>\n",
       "      <th>1</th>\n",
       "      <td>1</td>\n",
       "      <td>2019-01-03</td>\n",
       "      <td>201901</td>\n",
       "      <td>0</td>\n",
       "      <td>0</td>\n",
       "      <td>NaN</td>\n",
       "      <td>NaN</td>\n",
       "      <td>3134.000000</td>\n",
       "      <td>0.000000</td>\n",
       "      <td>0.0</td>\n",
       "      <td>...</td>\n",
       "      <td>5.0</td>\n",
       "      <td>6.0</td>\n",
       "      <td>1.0</td>\n",
       "      <td>10.0</td>\n",
       "      <td>2.0</td>\n",
       "      <td>5.0</td>\n",
       "      <td>5.0</td>\n",
       "      <td>5.0</td>\n",
       "      <td>4.0</td>\n",
       "      <td>4.0</td>\n",
       "    </tr>\n",
       "    <tr>\n",
       "      <th>2</th>\n",
       "      <td>2</td>\n",
       "      <td>2019-01-04</td>\n",
       "      <td>201901</td>\n",
       "      <td>0</td>\n",
       "      <td>0</td>\n",
       "      <td>NaN</td>\n",
       "      <td>NaN</td>\n",
       "      <td>4937.000000</td>\n",
       "      <td>0.000000</td>\n",
       "      <td>0.0</td>\n",
       "      <td>...</td>\n",
       "      <td>5.0</td>\n",
       "      <td>6.0</td>\n",
       "      <td>1.0</td>\n",
       "      <td>10.0</td>\n",
       "      <td>2.0</td>\n",
       "      <td>5.0</td>\n",
       "      <td>5.0</td>\n",
       "      <td>5.0</td>\n",
       "      <td>4.0</td>\n",
       "      <td>4.0</td>\n",
       "    </tr>\n",
       "    <tr>\n",
       "      <th>3</th>\n",
       "      <td>3</td>\n",
       "      <td>2019-01-03</td>\n",
       "      <td>201901</td>\n",
       "      <td>0</td>\n",
       "      <td>0</td>\n",
       "      <td>NaN</td>\n",
       "      <td>NaN</td>\n",
       "      <td>4643.600098</td>\n",
       "      <td>0.000000</td>\n",
       "      <td>0.0</td>\n",
       "      <td>...</td>\n",
       "      <td>5.0</td>\n",
       "      <td>6.0</td>\n",
       "      <td>1.0</td>\n",
       "      <td>10.0</td>\n",
       "      <td>2.0</td>\n",
       "      <td>5.0</td>\n",
       "      <td>5.0</td>\n",
       "      <td>5.0</td>\n",
       "      <td>4.0</td>\n",
       "      <td>4.0</td>\n",
       "    </tr>\n",
       "    <tr>\n",
       "      <th>4</th>\n",
       "      <td>4</td>\n",
       "      <td>2019-01-04</td>\n",
       "      <td>201901</td>\n",
       "      <td>0</td>\n",
       "      <td>1</td>\n",
       "      <td>NaN</td>\n",
       "      <td>NaN</td>\n",
       "      <td>3390.199951</td>\n",
       "      <td>0.000000</td>\n",
       "      <td>0.0</td>\n",
       "      <td>...</td>\n",
       "      <td>5.0</td>\n",
       "      <td>6.0</td>\n",
       "      <td>1.0</td>\n",
       "      <td>10.0</td>\n",
       "      <td>2.0</td>\n",
       "      <td>5.0</td>\n",
       "      <td>5.0</td>\n",
       "      <td>5.0</td>\n",
       "      <td>4.0</td>\n",
       "      <td>4.0</td>\n",
       "    </tr>\n",
       "    <tr>\n",
       "      <th>...</th>\n",
       "      <td>...</td>\n",
       "      <td>...</td>\n",
       "      <td>...</td>\n",
       "      <td>...</td>\n",
       "      <td>...</td>\n",
       "      <td>...</td>\n",
       "      <td>...</td>\n",
       "      <td>...</td>\n",
       "      <td>...</td>\n",
       "      <td>...</td>\n",
       "      <td>...</td>\n",
       "      <td>...</td>\n",
       "      <td>...</td>\n",
       "      <td>...</td>\n",
       "      <td>...</td>\n",
       "      <td>...</td>\n",
       "      <td>...</td>\n",
       "      <td>...</td>\n",
       "      <td>...</td>\n",
       "      <td>...</td>\n",
       "      <td>...</td>\n",
       "    </tr>\n",
       "    <tr>\n",
       "      <th>1526654</th>\n",
       "      <td>2703450</td>\n",
       "      <td>2020-10-05</td>\n",
       "      <td>202010</td>\n",
       "      <td>91</td>\n",
       "      <td>0</td>\n",
       "      <td>0.0</td>\n",
       "      <td>176561.359375</td>\n",
       "      <td>3675.400146</td>\n",
       "      <td>0.000000</td>\n",
       "      <td>0.0</td>\n",
       "      <td>...</td>\n",
       "      <td>4.0</td>\n",
       "      <td>5.0</td>\n",
       "      <td>0.0</td>\n",
       "      <td>10.0</td>\n",
       "      <td>1.0</td>\n",
       "      <td>2.0</td>\n",
       "      <td>3.0</td>\n",
       "      <td>3.0</td>\n",
       "      <td>1.0</td>\n",
       "      <td>1.0</td>\n",
       "    </tr>\n",
       "    <tr>\n",
       "      <th>1526655</th>\n",
       "      <td>2703451</td>\n",
       "      <td>2020-10-05</td>\n",
       "      <td>202010</td>\n",
       "      <td>91</td>\n",
       "      <td>0</td>\n",
       "      <td>0.0</td>\n",
       "      <td>301276.468750</td>\n",
       "      <td>7088.600098</td>\n",
       "      <td>6191.600098</td>\n",
       "      <td>0.0</td>\n",
       "      <td>...</td>\n",
       "      <td>4.0</td>\n",
       "      <td>5.0</td>\n",
       "      <td>0.0</td>\n",
       "      <td>10.0</td>\n",
       "      <td>1.0</td>\n",
       "      <td>2.0</td>\n",
       "      <td>3.0</td>\n",
       "      <td>3.0</td>\n",
       "      <td>1.0</td>\n",
       "      <td>1.0</td>\n",
       "    </tr>\n",
       "    <tr>\n",
       "      <th>1526656</th>\n",
       "      <td>2703452</td>\n",
       "      <td>2020-10-05</td>\n",
       "      <td>202010</td>\n",
       "      <td>91</td>\n",
       "      <td>0</td>\n",
       "      <td>0.0</td>\n",
       "      <td>14232.400391</td>\n",
       "      <td>7788.800293</td>\n",
       "      <td>0.000000</td>\n",
       "      <td>0.0</td>\n",
       "      <td>...</td>\n",
       "      <td>4.0</td>\n",
       "      <td>5.0</td>\n",
       "      <td>0.0</td>\n",
       "      <td>10.0</td>\n",
       "      <td>1.0</td>\n",
       "      <td>2.0</td>\n",
       "      <td>3.0</td>\n",
       "      <td>3.0</td>\n",
       "      <td>1.0</td>\n",
       "      <td>1.0</td>\n",
       "    </tr>\n",
       "    <tr>\n",
       "      <th>1526657</th>\n",
       "      <td>2703453</td>\n",
       "      <td>2020-10-05</td>\n",
       "      <td>202010</td>\n",
       "      <td>91</td>\n",
       "      <td>0</td>\n",
       "      <td>0.0</td>\n",
       "      <td>197371.578125</td>\n",
       "      <td>1195.400024</td>\n",
       "      <td>2827.199951</td>\n",
       "      <td>0.0</td>\n",
       "      <td>...</td>\n",
       "      <td>4.0</td>\n",
       "      <td>5.0</td>\n",
       "      <td>0.0</td>\n",
       "      <td>10.0</td>\n",
       "      <td>1.0</td>\n",
       "      <td>2.0</td>\n",
       "      <td>3.0</td>\n",
       "      <td>3.0</td>\n",
       "      <td>1.0</td>\n",
       "      <td>1.0</td>\n",
       "    </tr>\n",
       "    <tr>\n",
       "      <th>1526658</th>\n",
       "      <td>2703454</td>\n",
       "      <td>2020-10-05</td>\n",
       "      <td>202010</td>\n",
       "      <td>91</td>\n",
       "      <td>0</td>\n",
       "      <td>0.0</td>\n",
       "      <td>82949.601562</td>\n",
       "      <td>4533.800293</td>\n",
       "      <td>2986.800049</td>\n",
       "      <td>0.0</td>\n",
       "      <td>...</td>\n",
       "      <td>4.0</td>\n",
       "      <td>5.0</td>\n",
       "      <td>0.0</td>\n",
       "      <td>10.0</td>\n",
       "      <td>1.0</td>\n",
       "      <td>2.0</td>\n",
       "      <td>3.0</td>\n",
       "      <td>3.0</td>\n",
       "      <td>1.0</td>\n",
       "      <td>1.0</td>\n",
       "    </tr>\n",
       "  </tbody>\n",
       "</table>\n",
       "<p>1526659 rows × 583 columns</p>\n",
       "</div>"
      ],
      "text/plain": [
       "         case_id date_decision   MONTH  WEEK_NUM  target  \\\n",
       "0              0    2019-01-03  201901         0       0   \n",
       "1              1    2019-01-03  201901         0       0   \n",
       "2              2    2019-01-04  201901         0       0   \n",
       "3              3    2019-01-03  201901         0       0   \n",
       "4              4    2019-01-04  201901         0       1   \n",
       "...          ...           ...     ...       ...     ...   \n",
       "1526654  2703450    2020-10-05  202010        91       0   \n",
       "1526655  2703451    2020-10-05  202010        91       0   \n",
       "1526656  2703452    2020-10-05  202010        91       0   \n",
       "1526657  2703453    2020-10-05  202010        91       0   \n",
       "1526658  2703454    2020-10-05  202010        91       0   \n",
       "\n",
       "         actualdpdtolerance_344P  amtinstpaidbefduel24m_4187115A  \\\n",
       "0                            NaN                             NaN   \n",
       "1                            NaN                             NaN   \n",
       "2                            NaN                             NaN   \n",
       "3                            NaN                             NaN   \n",
       "4                            NaN                             NaN   \n",
       "...                          ...                             ...   \n",
       "1526654                      0.0                   176561.359375   \n",
       "1526655                      0.0                   301276.468750   \n",
       "1526656                      0.0                    14232.400391   \n",
       "1526657                      0.0                   197371.578125   \n",
       "1526658                      0.0                    82949.601562   \n",
       "\n",
       "         annuity_780A  annuitynextmonth_57A  applicationcnt_361L  ...  \\\n",
       "0         1917.599976              0.000000                  0.0  ...   \n",
       "1         3134.000000              0.000000                  0.0  ...   \n",
       "2         4937.000000              0.000000                  0.0  ...   \n",
       "3         4643.600098              0.000000                  0.0  ...   \n",
       "4         3390.199951              0.000000                  0.0  ...   \n",
       "...               ...                   ...                  ...  ...   \n",
       "1526654   3675.400146              0.000000                  0.0  ...   \n",
       "1526655   7088.600098           6191.600098                  0.0  ...   \n",
       "1526656   7788.800293              0.000000                  0.0  ...   \n",
       "1526657   1195.400024           2827.199951                  0.0  ...   \n",
       "1526658   4533.800293           2986.800049                  0.0  ...   \n",
       "\n",
       "         conts_role_79M  empls_economicalst_849M  empls_employer_name_740M  \\\n",
       "0                   5.0                      6.0                       1.0   \n",
       "1                   5.0                      6.0                       1.0   \n",
       "2                   5.0                      6.0                       1.0   \n",
       "3                   5.0                      6.0                       1.0   \n",
       "4                   5.0                      6.0                       1.0   \n",
       "...                 ...                      ...                       ...   \n",
       "1526654             4.0                      5.0                       0.0   \n",
       "1526655             4.0                      5.0                       0.0   \n",
       "1526656             4.0                      5.0                       0.0   \n",
       "1526657             4.0                      5.0                       0.0   \n",
       "1526658             4.0                      5.0                       0.0   \n",
       "\n",
       "         relatedpersons_role_762T  collater_typofvalofguarant_298M  \\\n",
       "0                            10.0                              2.0   \n",
       "1                            10.0                              2.0   \n",
       "2                            10.0                              2.0   \n",
       "3                            10.0                              2.0   \n",
       "4                            10.0                              2.0   \n",
       "...                           ...                              ...   \n",
       "1526654                      10.0                              1.0   \n",
       "1526655                      10.0                              1.0   \n",
       "1526656                      10.0                              1.0   \n",
       "1526657                      10.0                              1.0   \n",
       "1526658                      10.0                              1.0   \n",
       "\n",
       "         collater_typofvalofguarant_407M  collaterals_typeofguarante_359M  \\\n",
       "0                                    5.0                              5.0   \n",
       "1                                    5.0                              5.0   \n",
       "2                                    5.0                              5.0   \n",
       "3                                    5.0                              5.0   \n",
       "4                                    5.0                              5.0   \n",
       "...                                  ...                              ...   \n",
       "1526654                              2.0                              3.0   \n",
       "1526655                              2.0                              3.0   \n",
       "1526656                              2.0                              3.0   \n",
       "1526657                              2.0                              3.0   \n",
       "1526658                              2.0                              3.0   \n",
       "\n",
       "         collaterals_typeofguarante_669M  subjectroles_name_541M  \\\n",
       "0                                    5.0                     4.0   \n",
       "1                                    5.0                     4.0   \n",
       "2                                    5.0                     4.0   \n",
       "3                                    5.0                     4.0   \n",
       "4                                    5.0                     4.0   \n",
       "...                                  ...                     ...   \n",
       "1526654                              3.0                     1.0   \n",
       "1526655                              3.0                     1.0   \n",
       "1526656                              3.0                     1.0   \n",
       "1526657                              3.0                     1.0   \n",
       "1526658                              3.0                     1.0   \n",
       "\n",
       "         subjectroles_name_838M  \n",
       "0                           4.0  \n",
       "1                           4.0  \n",
       "2                           4.0  \n",
       "3                           4.0  \n",
       "4                           4.0  \n",
       "...                         ...  \n",
       "1526654                     1.0  \n",
       "1526655                     1.0  \n",
       "1526656                     1.0  \n",
       "1526657                     1.0  \n",
       "1526658                     1.0  \n",
       "\n",
       "[1526659 rows x 583 columns]"
      ]
     },
     "metadata": {},
     "output_type": "display_data"
    }
   ],
   "source": [
    "depth_data = encode(depth_data, MODE, MODEL_DIR.joinpath('encoders'))\n",
    "display(depth_data)"
   ]
  },
  {
   "cell_type": "code",
   "execution_count": 29,
   "metadata": {},
   "outputs": [
    {
     "data": {
      "text/html": [
       "<div>\n",
       "<style scoped>\n",
       "    .dataframe tbody tr th:only-of-type {\n",
       "        vertical-align: middle;\n",
       "    }\n",
       "\n",
       "    .dataframe tbody tr th {\n",
       "        vertical-align: top;\n",
       "    }\n",
       "\n",
       "    .dataframe thead th {\n",
       "        text-align: right;\n",
       "    }\n",
       "</style>\n",
       "<table border=\"1\" class=\"dataframe\">\n",
       "  <thead>\n",
       "    <tr style=\"text-align: right;\">\n",
       "      <th></th>\n",
       "      <th>case_id</th>\n",
       "      <th>date_decision</th>\n",
       "      <th>MONTH</th>\n",
       "      <th>WEEK_NUM</th>\n",
       "      <th>target</th>\n",
       "      <th>actualdpdtolerance_344P</th>\n",
       "      <th>amtinstpaidbefduel24m_4187115A</th>\n",
       "      <th>annuity_780A</th>\n",
       "      <th>annuitynextmonth_57A</th>\n",
       "      <th>applicationcnt_361L</th>\n",
       "      <th>...</th>\n",
       "      <th>conts_role_79M</th>\n",
       "      <th>empls_economicalst_849M</th>\n",
       "      <th>empls_employer_name_740M</th>\n",
       "      <th>relatedpersons_role_762T</th>\n",
       "      <th>collater_typofvalofguarant_298M</th>\n",
       "      <th>collater_typofvalofguarant_407M</th>\n",
       "      <th>collaterals_typeofguarante_359M</th>\n",
       "      <th>collaterals_typeofguarante_669M</th>\n",
       "      <th>subjectroles_name_541M</th>\n",
       "      <th>subjectroles_name_838M</th>\n",
       "    </tr>\n",
       "  </thead>\n",
       "  <tbody>\n",
       "    <tr>\n",
       "      <th>0</th>\n",
       "      <td>0</td>\n",
       "      <td>2019-01-03</td>\n",
       "      <td>201901</td>\n",
       "      <td>0</td>\n",
       "      <td>0</td>\n",
       "      <td>NaN</td>\n",
       "      <td>NaN</td>\n",
       "      <td>1917.599976</td>\n",
       "      <td>0.000000</td>\n",
       "      <td>0.0</td>\n",
       "      <td>...</td>\n",
       "      <td>5.0</td>\n",
       "      <td>6.0</td>\n",
       "      <td>1.0</td>\n",
       "      <td>10.0</td>\n",
       "      <td>2.0</td>\n",
       "      <td>5.0</td>\n",
       "      <td>5.0</td>\n",
       "      <td>5.0</td>\n",
       "      <td>4.0</td>\n",
       "      <td>4.0</td>\n",
       "    </tr>\n",
       "    <tr>\n",
       "      <th>1</th>\n",
       "      <td>1</td>\n",
       "      <td>2019-01-03</td>\n",
       "      <td>201901</td>\n",
       "      <td>0</td>\n",
       "      <td>0</td>\n",
       "      <td>NaN</td>\n",
       "      <td>NaN</td>\n",
       "      <td>3134.000000</td>\n",
       "      <td>0.000000</td>\n",
       "      <td>0.0</td>\n",
       "      <td>...</td>\n",
       "      <td>5.0</td>\n",
       "      <td>6.0</td>\n",
       "      <td>1.0</td>\n",
       "      <td>10.0</td>\n",
       "      <td>2.0</td>\n",
       "      <td>5.0</td>\n",
       "      <td>5.0</td>\n",
       "      <td>5.0</td>\n",
       "      <td>4.0</td>\n",
       "      <td>4.0</td>\n",
       "    </tr>\n",
       "    <tr>\n",
       "      <th>2</th>\n",
       "      <td>2</td>\n",
       "      <td>2019-01-04</td>\n",
       "      <td>201901</td>\n",
       "      <td>0</td>\n",
       "      <td>0</td>\n",
       "      <td>NaN</td>\n",
       "      <td>NaN</td>\n",
       "      <td>4937.000000</td>\n",
       "      <td>0.000000</td>\n",
       "      <td>0.0</td>\n",
       "      <td>...</td>\n",
       "      <td>5.0</td>\n",
       "      <td>6.0</td>\n",
       "      <td>1.0</td>\n",
       "      <td>10.0</td>\n",
       "      <td>2.0</td>\n",
       "      <td>5.0</td>\n",
       "      <td>5.0</td>\n",
       "      <td>5.0</td>\n",
       "      <td>4.0</td>\n",
       "      <td>4.0</td>\n",
       "    </tr>\n",
       "    <tr>\n",
       "      <th>3</th>\n",
       "      <td>3</td>\n",
       "      <td>2019-01-03</td>\n",
       "      <td>201901</td>\n",
       "      <td>0</td>\n",
       "      <td>0</td>\n",
       "      <td>NaN</td>\n",
       "      <td>NaN</td>\n",
       "      <td>4643.600098</td>\n",
       "      <td>0.000000</td>\n",
       "      <td>0.0</td>\n",
       "      <td>...</td>\n",
       "      <td>5.0</td>\n",
       "      <td>6.0</td>\n",
       "      <td>1.0</td>\n",
       "      <td>10.0</td>\n",
       "      <td>2.0</td>\n",
       "      <td>5.0</td>\n",
       "      <td>5.0</td>\n",
       "      <td>5.0</td>\n",
       "      <td>4.0</td>\n",
       "      <td>4.0</td>\n",
       "    </tr>\n",
       "    <tr>\n",
       "      <th>4</th>\n",
       "      <td>4</td>\n",
       "      <td>2019-01-04</td>\n",
       "      <td>201901</td>\n",
       "      <td>0</td>\n",
       "      <td>1</td>\n",
       "      <td>NaN</td>\n",
       "      <td>NaN</td>\n",
       "      <td>3390.199951</td>\n",
       "      <td>0.000000</td>\n",
       "      <td>0.0</td>\n",
       "      <td>...</td>\n",
       "      <td>5.0</td>\n",
       "      <td>6.0</td>\n",
       "      <td>1.0</td>\n",
       "      <td>10.0</td>\n",
       "      <td>2.0</td>\n",
       "      <td>5.0</td>\n",
       "      <td>5.0</td>\n",
       "      <td>5.0</td>\n",
       "      <td>4.0</td>\n",
       "      <td>4.0</td>\n",
       "    </tr>\n",
       "    <tr>\n",
       "      <th>...</th>\n",
       "      <td>...</td>\n",
       "      <td>...</td>\n",
       "      <td>...</td>\n",
       "      <td>...</td>\n",
       "      <td>...</td>\n",
       "      <td>...</td>\n",
       "      <td>...</td>\n",
       "      <td>...</td>\n",
       "      <td>...</td>\n",
       "      <td>...</td>\n",
       "      <td>...</td>\n",
       "      <td>...</td>\n",
       "      <td>...</td>\n",
       "      <td>...</td>\n",
       "      <td>...</td>\n",
       "      <td>...</td>\n",
       "      <td>...</td>\n",
       "      <td>...</td>\n",
       "      <td>...</td>\n",
       "      <td>...</td>\n",
       "      <td>...</td>\n",
       "    </tr>\n",
       "    <tr>\n",
       "      <th>1526654</th>\n",
       "      <td>2703450</td>\n",
       "      <td>2020-10-05</td>\n",
       "      <td>202010</td>\n",
       "      <td>91</td>\n",
       "      <td>0</td>\n",
       "      <td>0.0</td>\n",
       "      <td>176561.359375</td>\n",
       "      <td>3675.400146</td>\n",
       "      <td>0.000000</td>\n",
       "      <td>0.0</td>\n",
       "      <td>...</td>\n",
       "      <td>4.0</td>\n",
       "      <td>5.0</td>\n",
       "      <td>0.0</td>\n",
       "      <td>10.0</td>\n",
       "      <td>1.0</td>\n",
       "      <td>2.0</td>\n",
       "      <td>3.0</td>\n",
       "      <td>3.0</td>\n",
       "      <td>1.0</td>\n",
       "      <td>1.0</td>\n",
       "    </tr>\n",
       "    <tr>\n",
       "      <th>1526655</th>\n",
       "      <td>2703451</td>\n",
       "      <td>2020-10-05</td>\n",
       "      <td>202010</td>\n",
       "      <td>91</td>\n",
       "      <td>0</td>\n",
       "      <td>0.0</td>\n",
       "      <td>301276.468750</td>\n",
       "      <td>7088.600098</td>\n",
       "      <td>6191.600098</td>\n",
       "      <td>0.0</td>\n",
       "      <td>...</td>\n",
       "      <td>4.0</td>\n",
       "      <td>5.0</td>\n",
       "      <td>0.0</td>\n",
       "      <td>10.0</td>\n",
       "      <td>1.0</td>\n",
       "      <td>2.0</td>\n",
       "      <td>3.0</td>\n",
       "      <td>3.0</td>\n",
       "      <td>1.0</td>\n",
       "      <td>1.0</td>\n",
       "    </tr>\n",
       "    <tr>\n",
       "      <th>1526656</th>\n",
       "      <td>2703452</td>\n",
       "      <td>2020-10-05</td>\n",
       "      <td>202010</td>\n",
       "      <td>91</td>\n",
       "      <td>0</td>\n",
       "      <td>0.0</td>\n",
       "      <td>14232.400391</td>\n",
       "      <td>7788.800293</td>\n",
       "      <td>0.000000</td>\n",
       "      <td>0.0</td>\n",
       "      <td>...</td>\n",
       "      <td>4.0</td>\n",
       "      <td>5.0</td>\n",
       "      <td>0.0</td>\n",
       "      <td>10.0</td>\n",
       "      <td>1.0</td>\n",
       "      <td>2.0</td>\n",
       "      <td>3.0</td>\n",
       "      <td>3.0</td>\n",
       "      <td>1.0</td>\n",
       "      <td>1.0</td>\n",
       "    </tr>\n",
       "    <tr>\n",
       "      <th>1526657</th>\n",
       "      <td>2703453</td>\n",
       "      <td>2020-10-05</td>\n",
       "      <td>202010</td>\n",
       "      <td>91</td>\n",
       "      <td>0</td>\n",
       "      <td>0.0</td>\n",
       "      <td>197371.578125</td>\n",
       "      <td>1195.400024</td>\n",
       "      <td>2827.199951</td>\n",
       "      <td>0.0</td>\n",
       "      <td>...</td>\n",
       "      <td>4.0</td>\n",
       "      <td>5.0</td>\n",
       "      <td>0.0</td>\n",
       "      <td>10.0</td>\n",
       "      <td>1.0</td>\n",
       "      <td>2.0</td>\n",
       "      <td>3.0</td>\n",
       "      <td>3.0</td>\n",
       "      <td>1.0</td>\n",
       "      <td>1.0</td>\n",
       "    </tr>\n",
       "    <tr>\n",
       "      <th>1526658</th>\n",
       "      <td>2703454</td>\n",
       "      <td>2020-10-05</td>\n",
       "      <td>202010</td>\n",
       "      <td>91</td>\n",
       "      <td>0</td>\n",
       "      <td>0.0</td>\n",
       "      <td>82949.601562</td>\n",
       "      <td>4533.800293</td>\n",
       "      <td>2986.800049</td>\n",
       "      <td>0.0</td>\n",
       "      <td>...</td>\n",
       "      <td>4.0</td>\n",
       "      <td>5.0</td>\n",
       "      <td>0.0</td>\n",
       "      <td>10.0</td>\n",
       "      <td>1.0</td>\n",
       "      <td>2.0</td>\n",
       "      <td>3.0</td>\n",
       "      <td>3.0</td>\n",
       "      <td>1.0</td>\n",
       "      <td>1.0</td>\n",
       "    </tr>\n",
       "  </tbody>\n",
       "</table>\n",
       "<p>1526659 rows × 465 columns</p>\n",
       "</div>"
      ],
      "text/plain": [
       "         case_id date_decision   MONTH  WEEK_NUM  target  \\\n",
       "0              0    2019-01-03  201901         0       0   \n",
       "1              1    2019-01-03  201901         0       0   \n",
       "2              2    2019-01-04  201901         0       0   \n",
       "3              3    2019-01-03  201901         0       0   \n",
       "4              4    2019-01-04  201901         0       1   \n",
       "...          ...           ...     ...       ...     ...   \n",
       "1526654  2703450    2020-10-05  202010        91       0   \n",
       "1526655  2703451    2020-10-05  202010        91       0   \n",
       "1526656  2703452    2020-10-05  202010        91       0   \n",
       "1526657  2703453    2020-10-05  202010        91       0   \n",
       "1526658  2703454    2020-10-05  202010        91       0   \n",
       "\n",
       "         actualdpdtolerance_344P  amtinstpaidbefduel24m_4187115A  \\\n",
       "0                            NaN                             NaN   \n",
       "1                            NaN                             NaN   \n",
       "2                            NaN                             NaN   \n",
       "3                            NaN                             NaN   \n",
       "4                            NaN                             NaN   \n",
       "...                          ...                             ...   \n",
       "1526654                      0.0                   176561.359375   \n",
       "1526655                      0.0                   301276.468750   \n",
       "1526656                      0.0                    14232.400391   \n",
       "1526657                      0.0                   197371.578125   \n",
       "1526658                      0.0                    82949.601562   \n",
       "\n",
       "         annuity_780A  annuitynextmonth_57A  applicationcnt_361L  ...  \\\n",
       "0         1917.599976              0.000000                  0.0  ...   \n",
       "1         3134.000000              0.000000                  0.0  ...   \n",
       "2         4937.000000              0.000000                  0.0  ...   \n",
       "3         4643.600098              0.000000                  0.0  ...   \n",
       "4         3390.199951              0.000000                  0.0  ...   \n",
       "...               ...                   ...                  ...  ...   \n",
       "1526654   3675.400146              0.000000                  0.0  ...   \n",
       "1526655   7088.600098           6191.600098                  0.0  ...   \n",
       "1526656   7788.800293              0.000000                  0.0  ...   \n",
       "1526657   1195.400024           2827.199951                  0.0  ...   \n",
       "1526658   4533.800293           2986.800049                  0.0  ...   \n",
       "\n",
       "         conts_role_79M  empls_economicalst_849M  empls_employer_name_740M  \\\n",
       "0                   5.0                      6.0                       1.0   \n",
       "1                   5.0                      6.0                       1.0   \n",
       "2                   5.0                      6.0                       1.0   \n",
       "3                   5.0                      6.0                       1.0   \n",
       "4                   5.0                      6.0                       1.0   \n",
       "...                 ...                      ...                       ...   \n",
       "1526654             4.0                      5.0                       0.0   \n",
       "1526655             4.0                      5.0                       0.0   \n",
       "1526656             4.0                      5.0                       0.0   \n",
       "1526657             4.0                      5.0                       0.0   \n",
       "1526658             4.0                      5.0                       0.0   \n",
       "\n",
       "         relatedpersons_role_762T  collater_typofvalofguarant_298M  \\\n",
       "0                            10.0                              2.0   \n",
       "1                            10.0                              2.0   \n",
       "2                            10.0                              2.0   \n",
       "3                            10.0                              2.0   \n",
       "4                            10.0                              2.0   \n",
       "...                           ...                              ...   \n",
       "1526654                      10.0                              1.0   \n",
       "1526655                      10.0                              1.0   \n",
       "1526656                      10.0                              1.0   \n",
       "1526657                      10.0                              1.0   \n",
       "1526658                      10.0                              1.0   \n",
       "\n",
       "         collater_typofvalofguarant_407M  collaterals_typeofguarante_359M  \\\n",
       "0                                    5.0                              5.0   \n",
       "1                                    5.0                              5.0   \n",
       "2                                    5.0                              5.0   \n",
       "3                                    5.0                              5.0   \n",
       "4                                    5.0                              5.0   \n",
       "...                                  ...                              ...   \n",
       "1526654                              2.0                              3.0   \n",
       "1526655                              2.0                              3.0   \n",
       "1526656                              2.0                              3.0   \n",
       "1526657                              2.0                              3.0   \n",
       "1526658                              2.0                              3.0   \n",
       "\n",
       "         collaterals_typeofguarante_669M  subjectroles_name_541M  \\\n",
       "0                                    5.0                     4.0   \n",
       "1                                    5.0                     4.0   \n",
       "2                                    5.0                     4.0   \n",
       "3                                    5.0                     4.0   \n",
       "4                                    5.0                     4.0   \n",
       "...                                  ...                     ...   \n",
       "1526654                              3.0                     1.0   \n",
       "1526655                              3.0                     1.0   \n",
       "1526656                              3.0                     1.0   \n",
       "1526657                              3.0                     1.0   \n",
       "1526658                              3.0                     1.0   \n",
       "\n",
       "         subjectroles_name_838M  \n",
       "0                           4.0  \n",
       "1                           4.0  \n",
       "2                           4.0  \n",
       "3                           4.0  \n",
       "4                           4.0  \n",
       "...                         ...  \n",
       "1526654                     1.0  \n",
       "1526655                     1.0  \n",
       "1526656                     1.0  \n",
       "1526657                     1.0  \n",
       "1526658                     1.0  \n",
       "\n",
       "[1526659 rows x 465 columns]"
      ]
     },
     "metadata": {},
     "output_type": "display_data"
    }
   ],
   "source": [
    "# cut columns where NaN ratio is over 0.5\n",
    "nan_ratio = depth_data.isnull().mean()\n",
    "cut_columns = nan_ratio[nan_ratio > 0.5].index\n",
    "depth_data.drop(columns=cut_columns, inplace=True)\n",
    "\n",
    "display(depth_data)"
   ]
  },
  {
   "cell_type": "code",
   "execution_count": 31,
   "metadata": {},
   "outputs": [],
   "source": [
    "# save cut_columns\n",
    "with open(MODEL_DIR.joinpath('cut_columns.pkl'), 'wb') as f:\n",
    "    pickle.dump(cut_columns, f)"
   ]
  },
  {
   "cell_type": "code",
   "execution_count": null,
   "metadata": {},
   "outputs": [],
   "source": [
    "# load cut_columns\n",
    "with open(MODEL_DIR.joinpath('cut_columns.pkl'), 'rb') as f:\n",
    "    cut_columns = pickle.load(f)"
   ]
  },
  {
   "cell_type": "code",
   "execution_count": 14,
   "metadata": {},
   "outputs": [],
   "source": [
    "if MODE == 'train':\n",
    "    X, y= (\n",
    "        depth_data.drop(columns=['case_id', 'target', 'date_decision']),\n",
    "        depth_data[['case_id', 'target', 'WEEK_NUM']],\n",
    "    )\n",
    "else:\n",
    "    X = depth_data.drop(columns=['case_id', 'date_decision'])\n",
    "    y = depth_data[['case_id', 'WEEK_NUM']]"
   ]
  },
  {
   "cell_type": "code",
   "execution_count": 15,
   "metadata": {},
   "outputs": [],
   "source": [
    "# https://zenn.dev/nishimoto/articles/8d575924cc619d に従いoptunaによるチューニングを行う\n",
    "\n",
    "params = {\n",
    "    'objective': 'binary',\n",
    "    'metric': ['binary_logloss', 'auc', 'average_precision'],\n",
    "    'verbosity': -1,\n",
    "    'boosting_type': 'gbdt',\n",
    "    'seed': 42,\n",
    "    'max_depth': 5,\n",
    "    'num_leaves': 31,\n",
    "}"
   ]
  },
  {
   "cell_type": "code",
   "execution_count": 16,
   "metadata": {},
   "outputs": [],
   "source": [
    "# return logloss\n",
    "def log_loss(y_true: np.ndarray, y_pred: np.ndarray) -> np.ndarray:\n",
    "    return -np.mean(y_true * np.log(y_pred) + (1 - y_true) * np.log(1 - y_pred))\n",
    "\n",
    "def objective(trial: optuna.Trial, X: pd.DataFrame, y: pd.DataFrame):\n",
    "    params = {\n",
    "        'objective': 'binary',\n",
    "        'metric': ['binary_logloss', 'auc', 'average_precision'],\n",
    "        'verbosity': -1,\n",
    "        'boosting_type': 'gbdt',\n",
    "        'seed': 42,\n",
    "        'feature_fraction': trial.suggest_float('feature_fraction', 0.4, 1.0),\n",
    "        'lambda_l1': trial.suggest_float('lambda_l1', 1e-8, 10.0, log=True),\n",
    "        'lambda_l2': trial.suggest_float('lambda_l2', 1e-8, 10.0, log=True),\n",
    "        'num_leaves': trial.suggest_int('num_leaves', 12, 256, 2),\n",
    "        'baggig_fraction': trial.suggest_float('bagging_fraction', 0.4, 1.0),\n",
    "        'bagging_freq': trial.suggest_int('bagging_freq', 1, 7),\n",
    "        # 'min_child_samples': trial.suggest_int('min_child_samples', 5, 100),\n",
    "    }\n",
    "\n",
    "    n_splits = 5\n",
    "    skf = StratifiedGroupKFold(n_splits=n_splits, shuffle=True, random_state=42)\n",
    "    oof = np.zeros(X.shape[0])\n",
    "\n",
    "    for fold, (train_idx, valid_idx) in enumerate(skf.split(X, y['target'], y['WEEK_NUM'])):\n",
    "        print(f'Fold {fold+1}')\n",
    "\n",
    "        X_train, X_valid = X.iloc[train_idx], X.iloc[valid_idx]\n",
    "        y_train, y_valid = y.iloc[train_idx], y.iloc[valid_idx]\n",
    "\n",
    "        train_data = lgb.Dataset(X_train, label=y_train['target'])\n",
    "        valid_data = lgb.Dataset(X_valid, label=y_valid['target'])\n",
    "\n",
    "        model:lgb.Booster = lgb.train(\n",
    "            params,\n",
    "            train_data,\n",
    "            num_boost_round=100_000,\n",
    "            valid_sets=[train_data, valid_data],\n",
    "            callbacks=[\n",
    "                lgb.early_stopping(stopping_rounds=100),\n",
    "                # lgb.log_evaluation(period=100),\n",
    "            ]\n",
    "        )\n",
    "\n",
    "        oof[valid_idx] = model.predict(X_valid)\n",
    "\n",
    "        # model_path = MODEL_DIR.joinpath(f'model_{fold}.pkl')\n",
    "        # with open(model_path, 'wb') as model_path:\n",
    "        #     pickle.dump(model, model_path)\n",
    "\n",
    "    return log_loss(y['target'], oof)\n",
    "\n",
    "def objective_no_cv(trial: optuna.Trial, train_data: lgb.Dataset, valid_data: lgb.Dataset):\n",
    "    params = {\n",
    "        'objective': 'binary',\n",
    "        'metric': ['binary_logloss', 'auc', 'average_precision'],\n",
    "        'verbosity': -1,\n",
    "        'boosting_type': 'gbdt',\n",
    "        'seed': 42,\n",
    "        'feature_fraction': trial.suggest_float('feature_fraction', 0.4, 1.0),\n",
    "        'lambda_l1': trial.suggest_float('lambda_l1', 1e-8, 10.0, log=True),\n",
    "        'lambda_l2': trial.suggest_float('lambda_l2', 1e-8, 10.0, log=True),\n",
    "        'num_leaves': trial.suggest_int('num_leaves', 12, 256, 2),\n",
    "        'baggig_fraction': trial.suggest_float('bagging_fraction', 0.4, 1.0),\n",
    "        'bagging_freq': trial.suggest_int('bagging_freq', 1, 7),\n",
    "        # 'min_child_samples': trial.suggest_int('min_child_samples', 5, 100),\n",
    "    }\n",
    "\n",
    "    model = lgb.train(\n",
    "        params,\n",
    "        train_data,\n",
    "        num_boost_round=100_000,\n",
    "        valid_sets=[train_data, valid_data],\n",
    "        callbacks=[\n",
    "            lgb.early_stopping(stopping_rounds=100),\n",
    "            # lgb.log_evaluation(period=100),\n",
    "        ]\n",
    "    )\n",
    "    log_loss = model.best_score['valid_1']['binary_logloss']\n",
    "\n",
    "    return log_loss\n",
    "    \n",
    "\n",
    "def optimize(X: pd.DataFrame, y: pd.DataFrame, cv: bool = True)-> optuna.study.Study:\n",
    "    study = optuna.create_study(\n",
    "        direction='minimize',\n",
    "        study_name='lgbm-group-tune',\n",
    "        storage=f'sqlite:///{MODEL_DIR}/study.db',\n",
    "        load_if_exists=True,\n",
    "    )\n",
    "    if cv:\n",
    "        study.optimize(lambda trial: objective(trial, X, y), n_trials=100)\n",
    "    else: \n",
    "        X_, _, y_, _ = train_test_split(X, y, test_size=0.2, random_state=42, stratify=y['target']) # reduce data size\n",
    "        X_train, X_valid, y_train, y_valid = train_test_split(X_, y_, test_size=0.2, random_state=42, stratify=y_['target'])\n",
    "        train_data = lgb.Dataset(X_train, label=y_train['target'])\n",
    "        valid_data = lgb.Dataset(X_valid, label=y_valid['target'])\n",
    "        study.optimize(lambda trial: objective_no_cv(trial, train_data, valid_data), n_trials=100)\n",
    "\n",
    "    # save study data\n",
    "    study_path = MODEL_DIR.joinpath('study.pkl')\n",
    "    with open(study_path, 'wb') as study_path:\n",
    "        pickle.dump(study, study_path)\n",
    "\n",
    "    return study\n",
    "\n",
    "def train(X, y):\n",
    "    \"\"\"Train without tuning.\"\"\"\n",
    "    n_splits = 5\n",
    "    skf = StratifiedGroupKFold(n_splits=n_splits, shuffle=True, random_state=42)\n",
    "    oof = np.zeros(X.shape[0])\n",
    "\n",
    "    for fold, (train_idx, valid_idx) in enumerate(skf.split(X, y['target'], y['WEEK_NUM'])):\n",
    "        print(f'Fold {fold+1}')\n",
    "\n",
    "        X_train, X_valid = X.iloc[train_idx], X.iloc[valid_idx]\n",
    "        y_train, y_valid = y.iloc[train_idx], y.iloc[valid_idx]\n",
    "\n",
    "        train_data = lgb.Dataset(X_train, label=y_train['target'])\n",
    "        valid_data = lgb.Dataset(X_valid, label=y_valid['target'])\n",
    "\n",
    "        model:lgb.Booster = lgb.train(\n",
    "            params,\n",
    "            train_data,\n",
    "            num_boost_round=100_000,\n",
    "            valid_sets=[train_data, valid_data],\n",
    "            callbacks=[\n",
    "                lgb.early_stopping(stopping_rounds=100),\n",
    "                lgb.log_evaluation(period=100),\n",
    "            ]\n",
    "        )\n",
    "\n",
    "        oof[valid_idx] = model.predict(X_valid)\n",
    "\n",
    "        model_path = MODEL_DIR.joinpath(f'model_{fold}.pkl')\n",
    "        with open(model_path, 'wb') as model_path:\n",
    "            pickle.dump(model, model_path)\n",
    "\n",
    "    return oof\n",
    "\n",
    "\n",
    "def evaluate(y_true:pd.DataFrame, y_pred, idx_valid):\n",
    "    from scripts import data\n",
    "    evaluator = data.Evaluator(y_true.iloc[idx_valid], y_pred, save_path=MODEL_DIR)\n",
    "\n",
    "    evaluator.plot_pred(is_log=True)\n",
    "    evaluator.plot_roc()\n",
    "    df_gini_weeks, stability = evaluator.plot_gini()\n",
    "    return df_gini_weeks, stability\n",
    "\n",
    "\n",
    "def predict(\n",
    "        models: List[lgb.Booster],\n",
    "        submit: pd.DataFrame,\n",
    "        X: pd.DataFrame,\n",
    "        batch_size: int = 128,\n",
    "    ) -> pd.DataFrame:\n",
    "    \n",
    "    probas = np.zeros(len(X), dtype=np.float32)\n",
    "    for i in range(0, len(X), batch_size):\n",
    "        limit = i + batch_size if i + batch_size < len(X) else len(X)\n",
    "        batch_X = X.iloc[i:limit]\n",
    "        \n",
    "        for model in models:\n",
    "            proba = model.predict(batch_X, num_iteration=model.best_iteration)\n",
    "            probas[i:limit] += proba.astype(np.float32)\n",
    "            \n",
    "            del proba\n",
    "            gc.collect()\n",
    "            \n",
    "        del batch_X\n",
    "        gc.collect()\n",
    "    \n",
    "    probas /= len(models)\n",
    "    \n",
    "    submit['score'] = probas\n",
    "    \n",
    "    return submit"
   ]
  },
  {
   "cell_type": "code",
   "execution_count": 17,
   "metadata": {},
   "outputs": [
    {
     "name": "stderr",
     "output_type": "stream",
     "text": [
      "[I 2024-04-15 09:27:16,446] A new study created in RDB with name: lgbm-group-tune\n",
      "/var/folders/0z/vv1q7cj15z3gt17m3sp5qcn40000gn/T/ipykernel_17112/3405633267.py:63: FutureWarning: suggest_int() got {'step'} as positional arguments but they were expected to be given as keyword arguments.\n",
      "  'num_leaves': trial.suggest_int('num_leaves', 12, 256, 2),\n"
     ]
    },
    {
     "name": "stdout",
     "output_type": "stream",
     "text": [
      "Training until validation scores don't improve for 100 rounds\n"
     ]
    },
    {
     "name": "stderr",
     "output_type": "stream",
     "text": [
      "[I 2024-04-15 09:29:14,193] Trial 0 finished with value: 0.11300855032768611 and parameters: {'feature_fraction': 0.9326584398328479, 'lambda_l1': 0.39233009817501135, 'lambda_l2': 4.9077218336497575e-05, 'num_leaves': 230, 'bagging_fraction': 0.6066721591502989, 'bagging_freq': 4}. Best is trial 0 with value: 0.11300855032768611.\n"
     ]
    },
    {
     "name": "stdout",
     "output_type": "stream",
     "text": [
      "Early stopping, best iteration is:\n",
      "[149]\ttraining's binary_logloss: 0.0680544\ttraining's auc: 0.97432\ttraining's average_precision: 0.77096\tvalid_1's binary_logloss: 0.113009\tvalid_1's auc: 0.845326\tvalid_1's average_precision: 0.174447\n"
     ]
    },
    {
     "name": "stderr",
     "output_type": "stream",
     "text": [
      "/var/folders/0z/vv1q7cj15z3gt17m3sp5qcn40000gn/T/ipykernel_17112/3405633267.py:63: FutureWarning: suggest_int() got {'step'} as positional arguments but they were expected to be given as keyword arguments.\n",
      "  'num_leaves': trial.suggest_int('num_leaves', 12, 256, 2),\n"
     ]
    },
    {
     "name": "stdout",
     "output_type": "stream",
     "text": [
      "Training until validation scores don't improve for 100 rounds\n"
     ]
    },
    {
     "name": "stderr",
     "output_type": "stream",
     "text": [
      "[I 2024-04-15 09:30:35,063] Trial 1 finished with value: 0.11346710180827918 and parameters: {'feature_fraction': 0.6561196396312878, 'lambda_l1': 1.1392751769807845e-05, 'lambda_l2': 7.780476134719482e-05, 'num_leaves': 236, 'bagging_fraction': 0.9512406679331895, 'bagging_freq': 5}. Best is trial 0 with value: 0.11300855032768611.\n"
     ]
    },
    {
     "name": "stdout",
     "output_type": "stream",
     "text": [
      "Early stopping, best iteration is:\n",
      "[101]\ttraining's binary_logloss: 0.0784059\ttraining's auc: 0.954067\ttraining's average_precision: 0.640952\tvalid_1's binary_logloss: 0.113467\tvalid_1's auc: 0.843271\tvalid_1's average_precision: 0.169434\n",
      "Training until validation scores don't improve for 100 rounds\n"
     ]
    },
    {
     "name": "stderr",
     "output_type": "stream",
     "text": [
      "[I 2024-04-15 09:32:37,772] Trial 2 finished with value: 0.11326447147267803 and parameters: {'feature_fraction': 0.5739403476577157, 'lambda_l1': 0.0001012225782676912, 'lambda_l2': 2.0656730309142266e-07, 'num_leaves': 200, 'bagging_fraction': 0.8230028511160352, 'bagging_freq': 1}. Best is trial 0 with value: 0.11300855032768611.\n"
     ]
    },
    {
     "name": "stdout",
     "output_type": "stream",
     "text": [
      "Early stopping, best iteration is:\n",
      "[126]\ttraining's binary_logloss: 0.0777242\ttraining's auc: 0.955749\ttraining's average_precision: 0.648101\tvalid_1's binary_logloss: 0.113264\tvalid_1's auc: 0.843488\tvalid_1's average_precision: 0.173491\n",
      "Training until validation scores don't improve for 100 rounds\n"
     ]
    },
    {
     "name": "stderr",
     "output_type": "stream",
     "text": [
      "[I 2024-04-15 09:37:13,178] Trial 3 finished with value: 0.11057235943637705 and parameters: {'feature_fraction': 0.4769802793243531, 'lambda_l1': 1.6639294098252972, 'lambda_l2': 7.686879641805749, 'num_leaves': 64, 'bagging_fraction': 0.5184013913809771, 'bagging_freq': 2}. Best is trial 3 with value: 0.11057235943637705.\n"
     ]
    },
    {
     "name": "stdout",
     "output_type": "stream",
     "text": [
      "Early stopping, best iteration is:\n",
      "[489]\ttraining's binary_logloss: 0.08704\ttraining's auc: 0.93194\ttraining's average_precision: 0.515955\tvalid_1's binary_logloss: 0.110572\tvalid_1's auc: 0.852682\tvalid_1's average_precision: 0.194848\n",
      "Training until validation scores don't improve for 100 rounds\n"
     ]
    },
    {
     "name": "stderr",
     "output_type": "stream",
     "text": [
      "[I 2024-04-15 09:39:15,487] Trial 4 finished with value: 0.11309320947714253 and parameters: {'feature_fraction': 0.5378243419053065, 'lambda_l1': 0.021080475758205073, 'lambda_l2': 1.2402927290646113e-08, 'num_leaves': 180, 'bagging_fraction': 0.7858613619514973, 'bagging_freq': 3}. Best is trial 3 with value: 0.11057235943637705.\n"
     ]
    },
    {
     "name": "stdout",
     "output_type": "stream",
     "text": [
      "Early stopping, best iteration is:\n",
      "[124]\ttraining's binary_logloss: 0.0810206\ttraining's auc: 0.948479\ttraining's average_precision: 0.601363\tvalid_1's binary_logloss: 0.113093\tvalid_1's auc: 0.84399\tvalid_1's average_precision: 0.173539\n",
      "Training until validation scores don't improve for 100 rounds\n"
     ]
    },
    {
     "name": "stderr",
     "output_type": "stream",
     "text": [
      "[I 2024-04-15 09:43:27,260] Trial 5 finished with value: 0.11149908291763808 and parameters: {'feature_fraction': 0.4094688689191721, 'lambda_l1': 0.1364244264856086, 'lambda_l2': 0.2299434485610887, 'num_leaves': 38, 'bagging_fraction': 0.43986584329440026, 'bagging_freq': 4}. Best is trial 3 with value: 0.11057235943637705.\n"
     ]
    },
    {
     "name": "stdout",
     "output_type": "stream",
     "text": [
      "Early stopping, best iteration is:\n",
      "[517]\ttraining's binary_logloss: 0.0898202\ttraining's auc: 0.927061\ttraining's average_precision: 0.46241\tvalid_1's binary_logloss: 0.111499\tvalid_1's auc: 0.84926\tvalid_1's average_precision: 0.186476\n",
      "Training until validation scores don't improve for 100 rounds\n"
     ]
    },
    {
     "name": "stderr",
     "output_type": "stream",
     "text": [
      "[I 2024-04-15 09:45:24,870] Trial 6 finished with value: 0.11310857835647233 and parameters: {'feature_fraction': 0.42167711132577, 'lambda_l1': 8.495361441935643e-08, 'lambda_l2': 5.493028067031124e-05, 'num_leaves': 222, 'bagging_fraction': 0.8517537342165583, 'bagging_freq': 1}. Best is trial 3 with value: 0.11057235943637705.\n"
     ]
    },
    {
     "name": "stdout",
     "output_type": "stream",
     "text": [
      "Early stopping, best iteration is:\n",
      "[129]\ttraining's binary_logloss: 0.0754465\ttraining's auc: 0.960453\ttraining's average_precision: 0.68043\tvalid_1's binary_logloss: 0.113109\tvalid_1's auc: 0.844514\tvalid_1's average_precision: 0.172024\n",
      "Training until validation scores don't improve for 100 rounds\n"
     ]
    },
    {
     "name": "stderr",
     "output_type": "stream",
     "text": [
      "[I 2024-04-15 09:46:59,240] Trial 7 finished with value: 0.11329821799226639 and parameters: {'feature_fraction': 0.9285112683042583, 'lambda_l1': 0.0029768788042018753, 'lambda_l2': 4.321783817701485e-05, 'num_leaves': 238, 'bagging_fraction': 0.9055583963573264, 'bagging_freq': 3}. Best is trial 3 with value: 0.11057235943637705.\n"
     ]
    },
    {
     "name": "stdout",
     "output_type": "stream",
     "text": [
      "Early stopping, best iteration is:\n",
      "[136]\ttraining's binary_logloss: 0.0690465\ttraining's auc: 0.972303\ttraining's average_precision: 0.757371\tvalid_1's binary_logloss: 0.113298\tvalid_1's auc: 0.844693\tvalid_1's average_precision: 0.172425\n",
      "Training until validation scores don't improve for 100 rounds\n"
     ]
    },
    {
     "name": "stderr",
     "output_type": "stream",
     "text": [
      "[I 2024-04-15 09:48:30,920] Trial 8 finished with value: 0.11334591671362938 and parameters: {'feature_fraction': 0.9341290905898565, 'lambda_l1': 3.145394962587813e-05, 'lambda_l2': 7.66430833881796e-08, 'num_leaves': 240, 'bagging_fraction': 0.6547208477721069, 'bagging_freq': 2}. Best is trial 3 with value: 0.11057235943637705.\n"
     ]
    },
    {
     "name": "stdout",
     "output_type": "stream",
     "text": [
      "Early stopping, best iteration is:\n",
      "[126]\ttraining's binary_logloss: 0.0706594\ttraining's auc: 0.969056\ttraining's average_precision: 0.739549\tvalid_1's binary_logloss: 0.113346\tvalid_1's auc: 0.844357\tvalid_1's average_precision: 0.171983\n",
      "Training until validation scores don't improve for 100 rounds\n"
     ]
    },
    {
     "name": "stderr",
     "output_type": "stream",
     "text": [
      "[I 2024-04-15 09:49:49,374] Trial 9 finished with value: 0.11280490014960101 and parameters: {'feature_fraction': 0.6446257700205262, 'lambda_l1': 1.1641336896350066e-07, 'lambda_l2': 5.488840982381755e-06, 'num_leaves': 132, 'bagging_fraction': 0.4501387755283267, 'bagging_freq': 5}. Best is trial 3 with value: 0.11057235943637705.\n"
     ]
    },
    {
     "name": "stdout",
     "output_type": "stream",
     "text": [
      "Early stopping, best iteration is:\n",
      "[133]\ttraining's binary_logloss: 0.0864567\ttraining's auc: 0.93491\ttraining's average_precision: 0.518624\tvalid_1's binary_logloss: 0.112805\tvalid_1's auc: 0.8447\tvalid_1's average_precision: 0.175854\n",
      "Training until validation scores don't improve for 100 rounds\n"
     ]
    },
    {
     "name": "stderr",
     "output_type": "stream",
     "text": [
      "[I 2024-04-15 09:53:39,857] Trial 10 finished with value: 0.11025675484162617 and parameters: {'feature_fraction': 0.8252389166368176, 'lambda_l1': 9.791900843835457, 'lambda_l2': 7.511904149115363, 'num_leaves': 30, 'bagging_fraction': 0.5628920345673979, 'bagging_freq': 7}. Best is trial 10 with value: 0.11025675484162617.\n"
     ]
    },
    {
     "name": "stdout",
     "output_type": "stream",
     "text": [
      "Early stopping, best iteration is:\n",
      "[805]\ttraining's binary_logloss: 0.0938515\ttraining's auc: 0.912531\ttraining's average_precision: 0.405053\tvalid_1's binary_logloss: 0.110257\tvalid_1's auc: 0.853906\tvalid_1's average_precision: 0.196328\n",
      "Training until validation scores don't improve for 100 rounds\n"
     ]
    },
    {
     "name": "stderr",
     "output_type": "stream",
     "text": [
      "[I 2024-04-15 09:56:38,333] Trial 11 finished with value: 0.11081166545489164 and parameters: {'feature_fraction': 0.7986848718624044, 'lambda_l1': 2.1731973234791035, 'lambda_l2': 2.4828904241076377, 'num_leaves': 20, 'bagging_fraction': 0.5500686964166205, 'bagging_freq': 6}. Best is trial 10 with value: 0.11025675484162617.\n"
     ]
    },
    {
     "name": "stdout",
     "output_type": "stream",
     "text": [
      "Early stopping, best iteration is:\n",
      "[665]\ttraining's binary_logloss: 0.0990787\ttraining's auc: 0.89676\ttraining's average_precision: 0.332694\tvalid_1's binary_logloss: 0.110812\tvalid_1's auc: 0.851963\tvalid_1's average_precision: 0.191336\n",
      "Training until validation scores don't improve for 100 rounds\n"
     ]
    },
    {
     "name": "stderr",
     "output_type": "stream",
     "text": [
      "[I 2024-04-15 09:58:52,002] Trial 12 finished with value: 0.11083980478515232 and parameters: {'feature_fraction': 0.8104135195197828, 'lambda_l1': 8.450880815131613, 'lambda_l2': 0.019595710971166608, 'num_leaves': 86, 'bagging_fraction': 0.5435770575118117, 'bagging_freq': 7}. Best is trial 10 with value: 0.11025675484162617.\n"
     ]
    },
    {
     "name": "stdout",
     "output_type": "stream",
     "text": [
      "Early stopping, best iteration is:\n",
      "[303]\ttraining's binary_logloss: 0.089421\ttraining's auc: 0.925912\ttraining's average_precision: 0.471203\tvalid_1's binary_logloss: 0.11084\tvalid_1's auc: 0.851902\tvalid_1's average_precision: 0.190494\n",
      "Training until validation scores don't improve for 100 rounds\n"
     ]
    },
    {
     "name": "stderr",
     "output_type": "stream",
     "text": [
      "[I 2024-04-15 10:01:59,415] Trial 13 finished with value: 0.1104134835644495 and parameters: {'feature_fraction': 0.7878008232318725, 'lambda_l1': 6.9060124853045, 'lambda_l2': 5.014333280693481, 'num_leaves': 66, 'bagging_fraction': 0.7212470003575093, 'bagging_freq': 7}. Best is trial 10 with value: 0.11025675484162617.\n"
     ]
    },
    {
     "name": "stdout",
     "output_type": "stream",
     "text": [
      "Early stopping, best iteration is:\n",
      "[546]\ttraining's binary_logloss: 0.0848736\ttraining's auc: 0.936485\ttraining's average_precision: 0.546214\tvalid_1's binary_logloss: 0.110413\tvalid_1's auc: 0.854038\tvalid_1's average_precision: 0.193443\n",
      "Training until validation scores don't improve for 100 rounds\n"
     ]
    },
    {
     "name": "stderr",
     "output_type": "stream",
     "text": [
      "[I 2024-04-15 10:03:26,571] Trial 14 finished with value: 0.11231875931805475 and parameters: {'feature_fraction': 0.7876028277404908, 'lambda_l1': 0.0038924718316658133, 'lambda_l2': 0.010314736061465254, 'num_leaves': 114, 'bagging_fraction': 0.7323842917707483, 'bagging_freq': 7}. Best is trial 10 with value: 0.11025675484162617.\n"
     ]
    },
    {
     "name": "stdout",
     "output_type": "stream",
     "text": [
      "Early stopping, best iteration is:\n",
      "[169]\ttraining's binary_logloss: 0.084595\ttraining's auc: 0.939432\ttraining's average_precision: 0.544953\tvalid_1's binary_logloss: 0.112319\tvalid_1's auc: 0.846879\tvalid_1's average_precision: 0.178489\n",
      "Training until validation scores don't improve for 100 rounds\n"
     ]
    },
    {
     "name": "stderr",
     "output_type": "stream",
     "text": [
      "[I 2024-04-15 10:05:18,831] Trial 15 finished with value: 0.11174965884591542 and parameters: {'feature_fraction': 0.7225203857870663, 'lambda_l1': 0.07432896694881132, 'lambda_l2': 0.17085755521980142, 'num_leaves': 60, 'bagging_fraction': 0.689744939507025, 'bagging_freq': 6}. Best is trial 10 with value: 0.11025675484162617.\n"
     ]
    },
    {
     "name": "stdout",
     "output_type": "stream",
     "text": [
      "Early stopping, best iteration is:\n",
      "[318]\ttraining's binary_logloss: 0.0877998\ttraining's auc: 0.932898\ttraining's average_precision: 0.492797\tvalid_1's binary_logloss: 0.11175\tvalid_1's auc: 0.84854\tvalid_1's average_precision: 0.183951\n",
      "Training until validation scores don't improve for 100 rounds\n"
     ]
    },
    {
     "name": "stderr",
     "output_type": "stream",
     "text": [
      "[I 2024-04-15 10:08:40,150] Trial 16 finished with value: 0.11048957355983777 and parameters: {'feature_fraction': 0.866480094200747, 'lambda_l1': 7.200440349643826, 'lambda_l2': 0.003035223807859102, 'num_leaves': 14, 'bagging_fraction': 0.6121202981572978, 'bagging_freq': 7}. Best is trial 10 with value: 0.11025675484162617.\n"
     ]
    },
    {
     "name": "stdout",
     "output_type": "stream",
     "text": [
      "Early stopping, best iteration is:\n",
      "[779]\ttraining's binary_logloss: 0.102233\ttraining's auc: 0.886356\ttraining's average_precision: 0.286548\tvalid_1's binary_logloss: 0.11049\tvalid_1's auc: 0.853226\tvalid_1's average_precision: 0.194225\n",
      "Training until validation scores don't improve for 100 rounds\n"
     ]
    },
    {
     "name": "stderr",
     "output_type": "stream",
     "text": [
      "[I 2024-04-15 10:10:26,975] Trial 17 finished with value: 0.11172489288152455 and parameters: {'feature_fraction': 0.7112662547454767, 'lambda_l1': 2.2271725354243466e-06, 'lambda_l2': 0.5635933731772552, 'num_leaves': 96, 'bagging_fraction': 0.7497408992525068, 'bagging_freq': 6}. Best is trial 10 with value: 0.11025675484162617.\n"
     ]
    },
    {
     "name": "stdout",
     "output_type": "stream",
     "text": [
      "Early stopping, best iteration is:\n",
      "[254]\ttraining's binary_logloss: 0.0837256\ttraining's auc: 0.941686\ttraining's average_precision: 0.562612\tvalid_1's binary_logloss: 0.111725\tvalid_1's auc: 0.8481\tvalid_1's average_precision: 0.187047\n",
      "Training until validation scores don't improve for 100 rounds\n"
     ]
    },
    {
     "name": "stderr",
     "output_type": "stream",
     "text": [
      "[I 2024-04-15 10:11:54,819] Trial 18 finished with value: 0.1128595170803678 and parameters: {'feature_fraction': 0.9979017312658915, 'lambda_l1': 0.000788480273722254, 'lambda_l2': 0.0011923762369562057, 'num_leaves': 158, 'bagging_fraction': 0.6476617902816576, 'bagging_freq': 5}. Best is trial 10 with value: 0.11025675484162617.\n"
     ]
    },
    {
     "name": "stdout",
     "output_type": "stream",
     "text": [
      "Early stopping, best iteration is:\n",
      "[148]\ttraining's binary_logloss: 0.078536\ttraining's auc: 0.953739\ttraining's average_precision: 0.631579\tvalid_1's binary_logloss: 0.11286\tvalid_1's auc: 0.844897\tvalid_1's average_precision: 0.176458\n",
      "Training until validation scores don't improve for 100 rounds\n"
     ]
    },
    {
     "name": "stderr",
     "output_type": "stream",
     "text": [
      "[I 2024-04-15 10:14:01,518] Trial 19 finished with value: 0.11081818200880617 and parameters: {'feature_fraction': 0.8523834453444056, 'lambda_l1': 0.44907221531616526, 'lambda_l2': 9.26985103898663, 'num_leaves': 54, 'bagging_fraction': 0.40615974953070066, 'bagging_freq': 7}. Best is trial 10 with value: 0.11025675484162617.\n"
     ]
    },
    {
     "name": "stdout",
     "output_type": "stream",
     "text": [
      "Early stopping, best iteration is:\n",
      "[339]\ttraining's binary_logloss: 0.09463\ttraining's auc: 0.911454\ttraining's average_precision: 0.396432\tvalid_1's binary_logloss: 0.110818\tvalid_1's auc: 0.852182\tvalid_1's average_precision: 0.190953\n",
      "Training until validation scores don't improve for 100 rounds\n"
     ]
    },
    {
     "name": "stderr",
     "output_type": "stream",
     "text": [
      "[I 2024-04-15 10:15:24,438] Trial 20 finished with value: 0.11231300789802355 and parameters: {'feature_fraction': 0.7474554777958157, 'lambda_l1': 0.02308158037022946, 'lambda_l2': 0.03313406249419414, 'num_leaves': 100, 'bagging_fraction': 0.4813006793341281, 'bagging_freq': 6}. Best is trial 10 with value: 0.11025675484162617.\n"
     ]
    },
    {
     "name": "stdout",
     "output_type": "stream",
     "text": [
      "Early stopping, best iteration is:\n",
      "[151]\ttraining's binary_logloss: 0.089931\ttraining's auc: 0.92531\ttraining's average_precision: 0.467772\tvalid_1's binary_logloss: 0.112313\tvalid_1's auc: 0.846075\tvalid_1's average_precision: 0.180531\n",
      "Training until validation scores don't improve for 100 rounds\n"
     ]
    },
    {
     "name": "stderr",
     "output_type": "stream",
     "text": [
      "[I 2024-04-15 10:18:48,961] Trial 21 finished with value: 0.1106458078291237 and parameters: {'feature_fraction': 0.8644201763484654, 'lambda_l1': 9.794025174935024, 'lambda_l2': 0.004063327054584796, 'num_leaves': 12, 'bagging_fraction': 0.5940553324046975, 'bagging_freq': 7}. Best is trial 10 with value: 0.11025675484162617.\n"
     ]
    },
    {
     "name": "stdout",
     "output_type": "stream",
     "text": [
      "Early stopping, best iteration is:\n",
      "[797]\ttraining's binary_logloss: 0.104052\ttraining's auc: 0.879808\ttraining's average_precision: 0.263601\tvalid_1's binary_logloss: 0.110646\tvalid_1's auc: 0.852627\tvalid_1's average_precision: 0.194009\n",
      "Training until validation scores don't improve for 100 rounds\n"
     ]
    },
    {
     "name": "stderr",
     "output_type": "stream",
     "text": [
      "[I 2024-04-15 10:21:47,039] Trial 22 finished with value: 0.11105478105491128 and parameters: {'feature_fraction': 0.8645253225654167, 'lambda_l1': 1.612536331348741, 'lambda_l2': 0.8524245063170087, 'num_leaves': 36, 'bagging_fraction': 0.6674647512733491, 'bagging_freq': 7}. Best is trial 10 with value: 0.11025675484162617.\n"
     ]
    },
    {
     "name": "stdout",
     "output_type": "stream",
     "text": [
      "Early stopping, best iteration is:\n",
      "[625]\ttraining's binary_logloss: 0.0887982\ttraining's auc: 0.927682\ttraining's average_precision: 0.484444\tvalid_1's binary_logloss: 0.111055\tvalid_1's auc: 0.851043\tvalid_1's average_precision: 0.189489\n",
      "Training until validation scores don't improve for 100 rounds\n"
     ]
    },
    {
     "name": "stderr",
     "output_type": "stream",
     "text": [
      "[I 2024-04-15 10:24:45,710] Trial 23 finished with value: 0.11056971694403496 and parameters: {'feature_fraction': 0.7604390599535151, 'lambda_l1': 9.449422425012092, 'lambda_l2': 0.05116876565281969, 'num_leaves': 36, 'bagging_fraction': 0.6122999227952662, 'bagging_freq': 6}. Best is trial 10 with value: 0.11025675484162617.\n"
     ]
    },
    {
     "name": "stdout",
     "output_type": "stream",
     "text": [
      "Early stopping, best iteration is:\n",
      "[574]\ttraining's binary_logloss: 0.0946944\ttraining's auc: 0.910629\ttraining's average_precision: 0.390642\tvalid_1's binary_logloss: 0.11057\tvalid_1's auc: 0.853109\tvalid_1's average_precision: 0.192837\n",
      "Training until validation scores don't improve for 100 rounds\n"
     ]
    },
    {
     "name": "stderr",
     "output_type": "stream",
     "text": [
      "[I 2024-04-15 10:26:44,682] Trial 24 finished with value: 0.1112385486474552 and parameters: {'feature_fraction': 0.8415034304285199, 'lambda_l1': 0.6437862433683421, 'lambda_l2': 2.0022984184912267, 'num_leaves': 80, 'bagging_fraction': 0.7157340678559564, 'bagging_freq': 7}. Best is trial 10 with value: 0.11025675484162617.\n"
     ]
    },
    {
     "name": "stdout",
     "output_type": "stream",
     "text": [
      "Early stopping, best iteration is:\n",
      "[296]\ttraining's binary_logloss: 0.0872433\ttraining's auc: 0.932704\ttraining's average_precision: 0.507268\tvalid_1's binary_logloss: 0.111239\tvalid_1's auc: 0.850139\tvalid_1's average_precision: 0.188794\n",
      "Training until validation scores don't improve for 100 rounds\n"
     ]
    },
    {
     "name": "stderr",
     "output_type": "stream",
     "text": [
      "[I 2024-04-15 10:29:56,540] Trial 25 finished with value: 0.11149299587976484 and parameters: {'feature_fraction': 0.6545091665771937, 'lambda_l1': 0.10807198228997655, 'lambda_l2': 0.001033127001624557, 'num_leaves': 16, 'bagging_fraction': 0.5762898004162672, 'bagging_freq': 6}. Best is trial 10 with value: 0.11025675484162617.\n"
     ]
    },
    {
     "name": "stdout",
     "output_type": "stream",
     "text": [
      "Early stopping, best iteration is:\n",
      "[780]\ttraining's binary_logloss: 0.0967218\ttraining's auc: 0.90471\ttraining's average_precision: 0.36545\tvalid_1's binary_logloss: 0.111493\tvalid_1's auc: 0.849131\tvalid_1's average_precision: 0.18635\n",
      "Training until validation scores don't improve for 100 rounds\n"
     ]
    },
    {
     "name": "stderr",
     "output_type": "stream",
     "text": [
      "[I 2024-04-15 10:31:19,898] Trial 26 finished with value: 0.1120862780002073 and parameters: {'feature_fraction': 0.9117682089852176, 'lambda_l1': 0.021607622489757353, 'lambda_l2': 1.5721384650250985e-06, 'num_leaves': 46, 'bagging_fraction': 0.6392355900314539, 'bagging_freq': 5}. Best is trial 10 with value: 0.11025675484162617.\n"
     ]
    },
    {
     "name": "stdout",
     "output_type": "stream",
     "text": [
      "Early stopping, best iteration is:\n",
      "[198]\ttraining's binary_logloss: 0.0984863\ttraining's auc: 0.89997\ttraining's average_precision: 0.339632\tvalid_1's binary_logloss: 0.112086\tvalid_1's auc: 0.847548\tvalid_1's average_precision: 0.180033\n",
      "Training until validation scores don't improve for 100 rounds\n"
     ]
    },
    {
     "name": "stderr",
     "output_type": "stream",
     "text": [
      "[I 2024-04-15 10:32:58,209] Trial 27 finished with value: 0.11144158027708477 and parameters: {'feature_fraction': 0.9870187582167804, 'lambda_l1': 2.366606653090187, 'lambda_l2': 0.07111794042064241, 'num_leaves': 64, 'bagging_fraction': 0.771452577038785, 'bagging_freq': 7}. Best is trial 10 with value: 0.11025675484162617.\n"
     ]
    },
    {
     "name": "stdout",
     "output_type": "stream",
     "text": [
      "Early stopping, best iteration is:\n",
      "[223]\ttraining's binary_logloss: 0.0942664\ttraining's auc: 0.913736\ttraining's average_precision: 0.395269\tvalid_1's binary_logloss: 0.111442\tvalid_1's auc: 0.849369\tvalid_1's average_precision: 0.186904\n",
      "Training until validation scores don't improve for 100 rounds\n"
     ]
    },
    {
     "name": "stderr",
     "output_type": "stream",
     "text": [
      "[I 2024-04-15 10:37:06,522] Trial 28 finished with value: 0.11075921873963929 and parameters: {'feature_fraction': 0.8809351049892195, 'lambda_l1': 0.36151545199537477, 'lambda_l2': 1.9367792140824538, 'num_leaves': 28, 'bagging_fraction': 0.5002814645543783, 'bagging_freq': 6}. Best is trial 10 with value: 0.11025675484162617.\n"
     ]
    },
    {
     "name": "stdout",
     "output_type": "stream",
     "text": [
      "Early stopping, best iteration is:\n",
      "[1009]\ttraining's binary_logloss: 0.0854061\ttraining's auc: 0.935419\ttraining's average_precision: 0.538612\tvalid_1's binary_logloss: 0.110759\tvalid_1's auc: 0.852383\tvalid_1's average_precision: 0.191884\n",
      "Training until validation scores don't improve for 100 rounds\n"
     ]
    },
    {
     "name": "stderr",
     "output_type": "stream",
     "text": [
      "[I 2024-04-15 10:38:54,076] Trial 29 finished with value: 0.11257035636158472 and parameters: {'feature_fraction': 0.8204173062937611, 'lambda_l1': 6.083336547800727e-07, 'lambda_l2': 0.0059838605240724, 'num_leaves': 72, 'bagging_fraction': 0.6108172064588203, 'bagging_freq': 4}. Best is trial 10 with value: 0.11025675484162617.\n"
     ]
    },
    {
     "name": "stdout",
     "output_type": "stream",
     "text": [
      "Early stopping, best iteration is:\n",
      "[125]\ttraining's binary_logloss: 0.0982892\ttraining's auc: 0.900224\ttraining's average_precision: 0.347783\tvalid_1's binary_logloss: 0.11257\tvalid_1's auc: 0.845807\tvalid_1's average_precision: 0.176312\n",
      "Training until validation scores don't improve for 100 rounds\n"
     ]
    },
    {
     "name": "stderr",
     "output_type": "stream",
     "text": [
      "[I 2024-04-15 10:40:36,455] Trial 30 finished with value: 0.1118922146871382 and parameters: {'feature_fraction': 0.7649283902438203, 'lambda_l1': 0.5510687567630874, 'lambda_l2': 0.27954505004761665, 'num_leaves': 112, 'bagging_fraction': 0.6942560102014885, 'bagging_freq': 7}. Best is trial 10 with value: 0.11025675484162617.\n"
     ]
    },
    {
     "name": "stdout",
     "output_type": "stream",
     "text": [
      "Early stopping, best iteration is:\n",
      "[245]\ttraining's binary_logloss: 0.0797086\ttraining's auc: 0.952227\ttraining's average_precision: 0.616861\tvalid_1's binary_logloss: 0.111892\tvalid_1's auc: 0.848372\tvalid_1's average_precision: 0.18337\n",
      "Training until validation scores don't improve for 100 rounds\n"
     ]
    },
    {
     "name": "stderr",
     "output_type": "stream",
     "text": [
      "[I 2024-04-15 10:42:48,671] Trial 31 finished with value: 0.11057384045795172 and parameters: {'feature_fraction': 0.7558411143184743, 'lambda_l1': 9.079992919082363, 'lambda_l2': 0.07318774976600931, 'num_leaves': 42, 'bagging_fraction': 0.5799058432270303, 'bagging_freq': 6}. Best is trial 10 with value: 0.11025675484162617.\n"
     ]
    },
    {
     "name": "stdout",
     "output_type": "stream",
     "text": [
      "Early stopping, best iteration is:\n",
      "[403]\ttraining's binary_logloss: 0.0969605\ttraining's auc: 0.903811\ttraining's average_precision: 0.359264\tvalid_1's binary_logloss: 0.110574\tvalid_1's auc: 0.852914\tvalid_1's average_precision: 0.19376\n",
      "Training until validation scores don't improve for 100 rounds\n"
     ]
    },
    {
     "name": "stderr",
     "output_type": "stream",
     "text": [
      "[I 2024-04-15 10:45:42,027] Trial 32 finished with value: 0.11094296769792635 and parameters: {'feature_fraction': 0.6766152433724845, 'lambda_l1': 3.5410538710928674, 'lambda_l2': 0.0002900281224112119, 'num_leaves': 28, 'bagging_fraction': 0.6214056909424165, 'bagging_freq': 7}. Best is trial 10 with value: 0.11025675484162617.\n"
     ]
    },
    {
     "name": "stdout",
     "output_type": "stream",
     "text": [
      "Early stopping, best iteration is:\n",
      "[671]\ttraining's binary_logloss: 0.0929721\ttraining's auc: 0.916531\ttraining's average_precision: 0.416893\tvalid_1's binary_logloss: 0.110943\tvalid_1's auc: 0.851579\tvalid_1's average_precision: 0.190257\n",
      "Training until validation scores don't improve for 100 rounds\n"
     ]
    },
    {
     "name": "stderr",
     "output_type": "stream",
     "text": [
      "[I 2024-04-15 10:49:49,991] Trial 33 finished with value: 0.11093199779317878 and parameters: {'feature_fraction': 0.7799785816114921, 'lambda_l1': 1.1508129511694296, 'lambda_l2': 0.0016294262895561365, 'num_leaves': 12, 'bagging_fraction': 0.5472376495738919, 'bagging_freq': 5}. Best is trial 10 with value: 0.11025675484162617.\n"
     ]
    },
    {
     "name": "stdout",
     "output_type": "stream",
     "text": [
      "Early stopping, best iteration is:\n",
      "[1156]\ttraining's binary_logloss: 0.0965918\ttraining's auc: 0.904926\ttraining's average_precision: 0.366804\tvalid_1's binary_logloss: 0.110932\tvalid_1's auc: 0.851747\tvalid_1's average_precision: 0.189083\n",
      "Training until validation scores don't improve for 100 rounds\n"
     ]
    },
    {
     "name": "stderr",
     "output_type": "stream",
     "text": [
      "[I 2024-04-15 10:52:18,235] Trial 34 finished with value: 0.11027271346681958 and parameters: {'feature_fraction': 0.8999020942786378, 'lambda_l1': 9.705906370167986, 'lambda_l2': 6.40596069684655, 'num_leaves': 56, 'bagging_fraction': 0.6779928439468513, 'bagging_freq': 6}. Best is trial 10 with value: 0.11025675484162617.\n"
     ]
    },
    {
     "name": "stdout",
     "output_type": "stream",
     "text": [
      "Early stopping, best iteration is:\n",
      "[430]\ttraining's binary_logloss: 0.0928415\ttraining's auc: 0.915889\ttraining's average_precision: 0.420034\tvalid_1's binary_logloss: 0.110273\tvalid_1's auc: 0.854225\tvalid_1's average_precision: 0.195434\n",
      "Training until validation scores don't improve for 100 rounds\n"
     ]
    },
    {
     "name": "stderr",
     "output_type": "stream",
     "text": [
      "[I 2024-04-15 10:53:56,068] Trial 35 finished with value: 0.11098201109711835 and parameters: {'feature_fraction': 0.8987113469015472, 'lambda_l1': 1.162374137267203e-08, 'lambda_l2': 8.013673112049242, 'num_leaves': 52, 'bagging_fraction': 0.8050471208622965, 'bagging_freq': 7}. Best is trial 10 with value: 0.11025675484162617.\n"
     ]
    },
    {
     "name": "stdout",
     "output_type": "stream",
     "text": [
      "Early stopping, best iteration is:\n",
      "[252]\ttraining's binary_logloss: 0.0985858\ttraining's auc: 0.899334\ttraining's average_precision: 0.338492\tvalid_1's binary_logloss: 0.110982\tvalid_1's auc: 0.851187\tvalid_1's average_precision: 0.190073\n",
      "Training until validation scores don't improve for 100 rounds\n"
     ]
    },
    {
     "name": "stderr",
     "output_type": "stream",
     "text": [
      "[I 2024-04-15 10:55:50,161] Trial 36 finished with value: 0.11132899025282368 and parameters: {'feature_fraction': 0.9576445463899121, 'lambda_l1': 0.28016107140125723, 'lambda_l2': 2.160629569343797, 'num_leaves': 72, 'bagging_fraction': 0.8595016034850592, 'bagging_freq': 6}. Best is trial 10 with value: 0.11025675484162617.\n"
     ]
    },
    {
     "name": "stdout",
     "output_type": "stream",
     "text": [
      "Early stopping, best iteration is:\n",
      "[313]\ttraining's binary_logloss: 0.088016\ttraining's auc: 0.930331\ttraining's average_precision: 0.497616\tvalid_1's binary_logloss: 0.111329\tvalid_1's auc: 0.849864\tvalid_1's average_precision: 0.187915\n",
      "Training until validation scores don't improve for 100 rounds\n"
     ]
    },
    {
     "name": "stderr",
     "output_type": "stream",
     "text": [
      "[I 2024-04-15 10:57:19,599] Trial 37 finished with value: 0.11178598965906815 and parameters: {'feature_fraction': 0.8299263136559909, 'lambda_l1': 2.997035401624994, 'lambda_l2': 0.5633997712315013, 'num_leaves': 178, 'bagging_fraction': 0.979435510588964, 'bagging_freq': 5}. Best is trial 10 with value: 0.11025675484162617.\n"
     ]
    },
    {
     "name": "stdout",
     "output_type": "stream",
     "text": [
      "Early stopping, best iteration is:\n",
      "[136]\ttraining's binary_logloss: 0.0856682\ttraining's auc: 0.936546\ttraining's average_precision: 0.531885\tvalid_1's binary_logloss: 0.111786\tvalid_1's auc: 0.84763\tvalid_1's average_precision: 0.186691\n",
      "Training until validation scores don't improve for 100 rounds\n"
     ]
    },
    {
     "name": "stderr",
     "output_type": "stream",
     "text": [
      "[I 2024-04-15 11:00:26,757] Trial 38 finished with value: 0.1109238373675254 and parameters: {'feature_fraction': 0.6150967606051989, 'lambda_l1': 0.059136545651060086, 'lambda_l2': 3.6567674363106057, 'num_leaves': 24, 'bagging_fraction': 0.6825413238955844, 'bagging_freq': 7}. Best is trial 10 with value: 0.11025675484162617.\n"
     ]
    },
    {
     "name": "stdout",
     "output_type": "stream",
     "text": [
      "Early stopping, best iteration is:\n",
      "[719]\ttraining's binary_logloss: 0.0958588\ttraining's auc: 0.906816\ttraining's average_precision: 0.382001\tvalid_1's binary_logloss: 0.110924\tvalid_1's auc: 0.851537\tvalid_1's average_precision: 0.19012\n",
      "Training until validation scores don't improve for 100 rounds\n"
     ]
    },
    {
     "name": "stderr",
     "output_type": "stream",
     "text": [
      "[I 2024-04-15 11:02:13,419] Trial 39 finished with value: 0.11185790286682885 and parameters: {'feature_fraction': 0.9565655602183282, 'lambda_l1': 0.00010031943148640094, 'lambda_l2': 0.8160817468640384, 'num_leaves': 128, 'bagging_fraction': 0.7449168779411455, 'bagging_freq': 6}. Best is trial 10 with value: 0.11025675484162617.\n"
     ]
    },
    {
     "name": "stdout",
     "output_type": "stream",
     "text": [
      "Early stopping, best iteration is:\n",
      "[221]\ttraining's binary_logloss: 0.0797796\ttraining's auc: 0.951286\ttraining's average_precision: 0.616679\tvalid_1's binary_logloss: 0.111858\tvalid_1's auc: 0.84822\tvalid_1's average_precision: 0.184356\n",
      "Training until validation scores don't improve for 100 rounds\n"
     ]
    },
    {
     "name": "stderr",
     "output_type": "stream",
     "text": [
      "[I 2024-04-15 11:03:45,686] Trial 40 finished with value: 0.1127817488713133 and parameters: {'feature_fraction': 0.8908505496607186, 'lambda_l1': 0.007269232611438774, 'lambda_l2': 2.3662538428538183e-06, 'num_leaves': 148, 'bagging_fraction': 0.8388382112494659, 'bagging_freq': 3}. Best is trial 10 with value: 0.11025675484162617.\n"
     ]
    },
    {
     "name": "stdout",
     "output_type": "stream",
     "text": [
      "Early stopping, best iteration is:\n",
      "[170]\ttraining's binary_logloss: 0.0771004\ttraining's auc: 0.957099\ttraining's average_precision: 0.651313\tvalid_1's binary_logloss: 0.112782\tvalid_1's auc: 0.845654\tvalid_1's average_precision: 0.176038\n",
      "Training until validation scores don't improve for 100 rounds\n"
     ]
    },
    {
     "name": "stderr",
     "output_type": "stream",
     "text": [
      "[I 2024-04-15 11:05:56,974] Trial 41 finished with value: 0.11093089538393087 and parameters: {'feature_fraction': 0.7310927556680447, 'lambda_l1': 3.84094779849793, 'lambda_l2': 0.0002364036902870031, 'num_leaves': 40, 'bagging_fraction': 0.6247512463801616, 'bagging_freq': 6}. Best is trial 10 with value: 0.11025675484162617.\n"
     ]
    },
    {
     "name": "stdout",
     "output_type": "stream",
     "text": [
      "Early stopping, best iteration is:\n",
      "[395]\ttraining's binary_logloss: 0.0953457\ttraining's auc: 0.909701\ttraining's average_precision: 0.381215\tvalid_1's binary_logloss: 0.110931\tvalid_1's auc: 0.851501\tvalid_1's average_precision: 0.191018\n",
      "Training until validation scores don't improve for 100 rounds\n"
     ]
    },
    {
     "name": "stderr",
     "output_type": "stream",
     "text": [
      "[I 2024-04-15 11:08:46,408] Trial 42 finished with value: 0.11049203105594205 and parameters: {'feature_fraction': 0.6852627946193758, 'lambda_l1': 8.72131682986419, 'lambda_l2': 0.13126954812009667, 'num_leaves': 32, 'bagging_fraction': 0.521140830204073, 'bagging_freq': 7}. Best is trial 10 with value: 0.11025675484162617.\n"
     ]
    },
    {
     "name": "stdout",
     "output_type": "stream",
     "text": [
      "Early stopping, best iteration is:\n",
      "[550]\ttraining's binary_logloss: 0.0968052\ttraining's auc: 0.904166\ttraining's average_precision: 0.361292\tvalid_1's binary_logloss: 0.110492\tvalid_1's auc: 0.853471\tvalid_1's average_precision: 0.193337\n",
      "Training until validation scores don't improve for 100 rounds\n"
     ]
    },
    {
     "name": "stderr",
     "output_type": "stream",
     "text": [
      "[I 2024-04-15 11:10:19,864] Trial 43 finished with value: 0.11154893695075112 and parameters: {'feature_fraction': 0.8191754286649222, 'lambda_l1': 1.073253042959094, 'lambda_l2': 0.2132350960666313, 'num_leaves': 54, 'bagging_fraction': 0.5011510035456053, 'bagging_freq': 7}. Best is trial 10 with value: 0.11025675484162617.\n"
     ]
    },
    {
     "name": "stdout",
     "output_type": "stream",
     "text": [
      "Early stopping, best iteration is:\n",
      "[226]\ttraining's binary_logloss: 0.0963813\ttraining's auc: 0.907044\ttraining's average_precision: 0.367651\tvalid_1's binary_logloss: 0.111549\tvalid_1's auc: 0.849212\tvalid_1's average_precision: 0.184732\n",
      "Training until validation scores don't improve for 100 rounds\n"
     ]
    },
    {
     "name": "stderr",
     "output_type": "stream",
     "text": [
      "[I 2024-04-15 11:16:05,514] Trial 44 finished with value: 0.11056935042194148 and parameters: {'feature_fraction': 0.5568232478824569, 'lambda_l1': 4.231634794135851, 'lambda_l2': 5.207000793997424, 'num_leaves': 28, 'bagging_fraction': 0.5631996068527442, 'bagging_freq': 7}. Best is trial 10 with value: 0.11025675484162617.\n"
     ]
    },
    {
     "name": "stdout",
     "output_type": "stream",
     "text": [
      "Early stopping, best iteration is:\n",
      "[690]\ttraining's binary_logloss: 0.0958842\ttraining's auc: 0.906822\ttraining's average_precision: 0.377719\tvalid_1's binary_logloss: 0.110569\tvalid_1's auc: 0.852721\tvalid_1's average_precision: 0.193534\n",
      "Training until validation scores don't improve for 100 rounds\n"
     ]
    },
    {
     "name": "stderr",
     "output_type": "stream",
     "text": [
      "[I 2024-04-15 11:18:31,349] Trial 45 finished with value: 0.11151775683732 and parameters: {'feature_fraction': 0.49349989148140017, 'lambda_l1': 0.18346167788969603, 'lambda_l2': 1.0922157126508363, 'num_leaves': 70, 'bagging_fraction': 0.5306000189601456, 'bagging_freq': 7}. Best is trial 10 with value: 0.11025675484162617.\n"
     ]
    },
    {
     "name": "stdout",
     "output_type": "stream",
     "text": [
      "Early stopping, best iteration is:\n",
      "[206]\ttraining's binary_logloss: 0.0956291\ttraining's auc: 0.908568\ttraining's average_precision: 0.383986\tvalid_1's binary_logloss: 0.111518\tvalid_1's auc: 0.849516\tvalid_1's average_precision: 0.184857\n",
      "Training until validation scores don't improve for 100 rounds\n"
     ]
    },
    {
     "name": "stderr",
     "output_type": "stream",
     "text": [
      "[I 2024-04-15 11:20:31,332] Trial 46 finished with value: 0.11077639559151548 and parameters: {'feature_fraction': 0.6881932005452225, 'lambda_l1': 1.0516356801766242, 'lambda_l2': 9.89327526758302, 'num_leaves': 92, 'bagging_fraction': 0.4576258340575922, 'bagging_freq': 7}. Best is trial 10 with value: 0.11025675484162617.\n"
     ]
    },
    {
     "name": "stdout",
     "output_type": "stream",
     "text": [
      "Early stopping, best iteration is:\n",
      "[258]\ttraining's binary_logloss: 0.0905011\ttraining's auc: 0.922622\ttraining's average_precision: 0.462909\tvalid_1's binary_logloss: 0.110776\tvalid_1's auc: 0.851977\tvalid_1's average_precision: 0.191458\n",
      "Training until validation scores don't improve for 100 rounds\n"
     ]
    },
    {
     "name": "stderr",
     "output_type": "stream",
     "text": [
      "[I 2024-04-15 11:22:43,742] Trial 47 finished with value: 0.11153136052141122 and parameters: {'feature_fraction': 0.6198106179529631, 'lambda_l1': 5.010236831993464, 'lambda_l2': 0.12886736193964737, 'num_leaves': 216, 'bagging_fraction': 0.7145460406502431, 'bagging_freq': 2}. Best is trial 10 with value: 0.11025675484162617.\n"
     ]
    },
    {
     "name": "stdout",
     "output_type": "stream",
     "text": [
      "Early stopping, best iteration is:\n",
      "[211]\ttraining's binary_logloss: 0.0737976\ttraining's auc: 0.961357\ttraining's average_precision: 0.701077\tvalid_1's binary_logloss: 0.111531\tvalid_1's auc: 0.849916\tvalid_1's average_precision: 0.185576\n",
      "Training until validation scores don't improve for 100 rounds\n"
     ]
    },
    {
     "name": "stderr",
     "output_type": "stream",
     "text": [
      "[I 2024-04-15 11:24:39,023] Trial 48 finished with value: 0.11138352312526563 and parameters: {'feature_fraction': 0.9265351706409226, 'lambda_l1': 1.451818434851392, 'lambda_l2': 0.011778713066537777, 'num_leaves': 46, 'bagging_fraction': 0.6612220532751157, 'bagging_freq': 6}. Best is trial 10 with value: 0.11025675484162617.\n"
     ]
    },
    {
     "name": "stdout",
     "output_type": "stream",
     "text": [
      "Early stopping, best iteration is:\n",
      "[329]\ttraining's binary_logloss: 0.0923968\ttraining's auc: 0.919828\ttraining's average_precision: 0.420203\tvalid_1's binary_logloss: 0.111384\tvalid_1's auc: 0.849953\tvalid_1's average_precision: 0.186196\n",
      "Training until validation scores don't improve for 100 rounds\n"
     ]
    },
    {
     "name": "stderr",
     "output_type": "stream",
     "text": [
      "[I 2024-04-15 11:26:25,968] Trial 49 finished with value: 0.11189395758254542 and parameters: {'feature_fraction': 0.7978251605648018, 'lambda_l1': 0.0005262593595204363, 'lambda_l2': 0.33226095818229245, 'num_leaves': 84, 'bagging_fraction': 0.7777103255720951, 'bagging_freq': 5}. Best is trial 10 with value: 0.11025675484162617.\n"
     ]
    },
    {
     "name": "stdout",
     "output_type": "stream",
     "text": [
      "Early stopping, best iteration is:\n",
      "[259]\ttraining's binary_logloss: 0.0850922\ttraining's auc: 0.939451\ttraining's average_precision: 0.536128\tvalid_1's binary_logloss: 0.111894\tvalid_1's auc: 0.848142\tvalid_1's average_precision: 0.182831\n",
      "Training until validation scores don't improve for 100 rounds\n"
     ]
    },
    {
     "name": "stderr",
     "output_type": "stream",
     "text": [
      "[I 2024-04-15 11:28:22,318] Trial 50 finished with value: 0.11108799491752301 and parameters: {'feature_fraction': 0.7071338175484346, 'lambda_l1': 0.053889877647554596, 'lambda_l2': 3.0099253549984164, 'num_leaves': 60, 'bagging_fraction': 0.5143630281248467, 'bagging_freq': 4}. Best is trial 10 with value: 0.11025675484162617.\n"
     ]
    },
    {
     "name": "stdout",
     "output_type": "stream",
     "text": [
      "Early stopping, best iteration is:\n",
      "[305]\ttraining's binary_logloss: 0.0929207\ttraining's auc: 0.916735\ttraining's average_precision: 0.425507\tvalid_1's binary_logloss: 0.111088\tvalid_1's auc: 0.850539\tvalid_1's average_precision: 0.190785\n",
      "Training until validation scores don't improve for 100 rounds\n"
     ]
    },
    {
     "name": "stderr",
     "output_type": "stream",
     "text": [
      "[I 2024-04-15 11:33:27,563] Trial 51 finished with value: 0.11063160235524686 and parameters: {'feature_fraction': 0.5473172526170675, 'lambda_l1': 3.4324290884363537, 'lambda_l2': 5.428641622044711, 'num_leaves': 28, 'bagging_fraction': 0.5673279703190978, 'bagging_freq': 7}. Best is trial 10 with value: 0.11025675484162617.\n"
     ]
    },
    {
     "name": "stdout",
     "output_type": "stream",
     "text": [
      "Early stopping, best iteration is:\n",
      "[590]\ttraining's binary_logloss: 0.0976658\ttraining's auc: 0.901307\ttraining's average_precision: 0.35141\tvalid_1's binary_logloss: 0.110632\tvalid_1's auc: 0.852782\tvalid_1's average_precision: 0.1925\n",
      "Training until validation scores don't improve for 100 rounds\n"
     ]
    },
    {
     "name": "stderr",
     "output_type": "stream",
     "text": [
      "[I 2024-04-15 11:36:27,126] Trial 52 finished with value: 0.11100326589326504 and parameters: {'feature_fraction': 0.46954768939465663, 'lambda_l1': 5.131640218315894, 'lambda_l2': 4.501062932880888, 'num_leaves': 256, 'bagging_fraction': 0.5574341127083162, 'bagging_freq': 7}. Best is trial 10 with value: 0.11025675484162617.\n"
     ]
    },
    {
     "name": "stdout",
     "output_type": "stream",
     "text": [
      "Early stopping, best iteration is:\n",
      "[200]\ttraining's binary_logloss: 0.0753947\ttraining's auc: 0.958237\ttraining's average_precision: 0.685458\tvalid_1's binary_logloss: 0.111003\tvalid_1's auc: 0.851517\tvalid_1's average_precision: 0.190668\n",
      "Training until validation scores don't improve for 100 rounds\n"
     ]
    },
    {
     "name": "stderr",
     "output_type": "stream",
     "text": [
      "[I 2024-04-15 11:39:44,989] Trial 53 finished with value: 0.11105288412698652 and parameters: {'feature_fraction': 0.5759786806820997, 'lambda_l1': 0.6676856129305442, 'lambda_l2': 1.2526948281775496, 'num_leaves': 32, 'bagging_fraction': 0.5906856765237988, 'bagging_freq': 1}. Best is trial 10 with value: 0.11025675484162617.\n"
     ]
    },
    {
     "name": "stdout",
     "output_type": "stream",
     "text": [
      "Early stopping, best iteration is:\n",
      "[390]\ttraining's binary_logloss: 0.0985911\ttraining's auc: 0.899176\ttraining's average_precision: 0.339241\tvalid_1's binary_logloss: 0.111053\tvalid_1's auc: 0.851461\tvalid_1's average_precision: 0.189318\n",
      "Training until validation scores don't improve for 100 rounds\n"
     ]
    },
    {
     "name": "stderr",
     "output_type": "stream",
     "text": [
      "[I 2024-04-15 11:42:30,787] Trial 54 finished with value: 0.11073942511550018 and parameters: {'feature_fraction': 0.8595869671526487, 'lambda_l1': 6.610494879152197, 'lambda_l2': 9.138167820195522e-05, 'num_leaves': 22, 'bagging_fraction': 0.5296588680050576, 'bagging_freq': 7}. Best is trial 10 with value: 0.11025675484162617.\n"
     ]
    },
    {
     "name": "stdout",
     "output_type": "stream",
     "text": [
      "Early stopping, best iteration is:\n",
      "[581]\ttraining's binary_logloss: 0.0997458\ttraining's auc: 0.895167\ttraining's average_precision: 0.318423\tvalid_1's binary_logloss: 0.110739\tvalid_1's auc: 0.852328\tvalid_1's average_precision: 0.192343\n",
      "Training until validation scores don't improve for 100 rounds\n"
     ]
    },
    {
     "name": "stderr",
     "output_type": "stream",
     "text": [
      "[I 2024-04-15 11:48:37,881] Trial 55 finished with value: 0.11089736422358958 and parameters: {'feature_fraction': 0.5146078587862872, 'lambda_l1': 2.097735135999339, 'lambda_l2': 0.4849383497052368, 'num_leaves': 20, 'bagging_fraction': 0.43292711877413803, 'bagging_freq': 7}. Best is trial 10 with value: 0.11025675484162617.\n"
     ]
    },
    {
     "name": "stdout",
     "output_type": "stream",
     "text": [
      "Early stopping, best iteration is:\n",
      "[763]\ttraining's binary_logloss: 0.0969905\ttraining's auc: 0.903465\ttraining's average_precision: 0.363258\tvalid_1's binary_logloss: 0.110897\tvalid_1's auc: 0.851796\tvalid_1's average_precision: 0.189832\n",
      "Training until validation scores don't improve for 100 rounds\n"
     ]
    },
    {
     "name": "stderr",
     "output_type": "stream",
     "text": [
      "[I 2024-04-15 11:52:28,007] Trial 56 finished with value: 0.1118333260715663 and parameters: {'feature_fraction': 0.45351307923692696, 'lambda_l1': 0.1692067021390638, 'lambda_l2': 1.992455644816824e-05, 'num_leaves': 48, 'bagging_fraction': 0.4733342293289461, 'bagging_freq': 6}. Best is trial 10 with value: 0.11025675484162617.\n"
     ]
    },
    {
     "name": "stdout",
     "output_type": "stream",
     "text": [
      "Early stopping, best iteration is:\n",
      "[438]\ttraining's binary_logloss: 0.0863398\ttraining's auc: 0.935856\ttraining's average_precision: 0.514403\tvalid_1's binary_logloss: 0.111833\tvalid_1's auc: 0.848654\tvalid_1's average_precision: 0.182003\n",
      "Training until validation scores don't improve for 100 rounds\n"
     ]
    },
    {
     "name": "stderr",
     "output_type": "stream",
     "text": [
      "[I 2024-04-15 11:54:56,839] Trial 57 finished with value: 0.11175146666825332 and parameters: {'feature_fraction': 0.40069733188507617, 'lambda_l1': 8.167847246601005e-06, 'lambda_l2': 1.0643634603414744e-08, 'num_leaves': 36, 'bagging_fraction': 0.6446703146220599, 'bagging_freq': 7}. Best is trial 10 with value: 0.11025675484162617.\n"
     ]
    },
    {
     "name": "stdout",
     "output_type": "stream",
     "text": [
      "Early stopping, best iteration is:\n",
      "[260]\ttraining's binary_logloss: 0.0997681\ttraining's auc: 0.895455\ttraining's average_precision: 0.323639\tvalid_1's binary_logloss: 0.111751\tvalid_1's auc: 0.848015\tvalid_1's average_precision: 0.185616\n",
      "Training until validation scores don't improve for 100 rounds\n"
     ]
    },
    {
     "name": "stderr",
     "output_type": "stream",
     "text": [
      "[I 2024-04-15 12:01:03,064] Trial 58 finished with value: 0.11036139276354445 and parameters: {'feature_fraction': 0.622987222625398, 'lambda_l1': 5.042502692643995, 'lambda_l2': 0.029358892132630595, 'num_leaves': 12, 'bagging_fraction': 0.6707431901368138, 'bagging_freq': 6}. Best is trial 10 with value: 0.11025675484162617.\n"
     ]
    },
    {
     "name": "stdout",
     "output_type": "stream",
     "text": [
      "Early stopping, best iteration is:\n",
      "[1577]\ttraining's binary_logloss: 0.096093\ttraining's auc: 0.905567\ttraining's average_precision: 0.374602\tvalid_1's binary_logloss: 0.110361\tvalid_1's auc: 0.85351\tvalid_1's average_precision: 0.195727\n",
      "Training until validation scores don't improve for 100 rounds\n"
     ]
    },
    {
     "name": "stderr",
     "output_type": "stream",
     "text": [
      "[I 2024-04-15 12:03:58,700] Trial 59 finished with value: 0.11054935525729788 and parameters: {'feature_fraction': 0.6693592652605826, 'lambda_l1': 9.705793090396565, 'lambda_l2': 0.020072533737003597, 'num_leaves': 16, 'bagging_fraction': 0.6755175081468993, 'bagging_freq': 6}. Best is trial 10 with value: 0.11025675484162617.\n"
     ]
    },
    {
     "name": "stdout",
     "output_type": "stream",
     "text": [
      "Early stopping, best iteration is:\n",
      "[683]\ttraining's binary_logloss: 0.102821\ttraining's auc: 0.884229\ttraining's average_precision: 0.279196\tvalid_1's binary_logloss: 0.110549\tvalid_1's auc: 0.852885\tvalid_1's average_precision: 0.194738\n",
      "Training until validation scores don't improve for 100 rounds\n"
     ]
    },
    {
     "name": "stderr",
     "output_type": "stream",
     "text": [
      "[I 2024-04-15 12:05:36,596] Trial 60 finished with value: 0.1117507439946854 and parameters: {'feature_fraction': 0.6455076349014786, 'lambda_l1': 0.6858036098921764, 'lambda_l2': 0.0017699086069231755, 'num_leaves': 60, 'bagging_fraction': 0.7102265075566949, 'bagging_freq': 5}. Best is trial 10 with value: 0.11025675484162617.\n"
     ]
    },
    {
     "name": "stdout",
     "output_type": "stream",
     "text": [
      "Early stopping, best iteration is:\n",
      "[260]\ttraining's binary_logloss: 0.0910608\ttraining's auc: 0.923337\ttraining's average_precision: 0.442538\tvalid_1's binary_logloss: 0.111751\tvalid_1's auc: 0.848375\tvalid_1's average_precision: 0.184292\n",
      "Training until validation scores don't improve for 100 rounds\n"
     ]
    },
    {
     "name": "stderr",
     "output_type": "stream",
     "text": [
      "[I 2024-04-15 12:09:35,988] Trial 61 finished with value: 0.11040839182671766 and parameters: {'feature_fraction': 0.6185706876106125, 'lambda_l1': 9.660642025118845, 'lambda_l2': 0.024770973897222454, 'num_leaves': 14, 'bagging_fraction': 0.6740410457974133, 'bagging_freq': 6}. Best is trial 10 with value: 0.11025675484162617.\n"
     ]
    },
    {
     "name": "stdout",
     "output_type": "stream",
     "text": [
      "Early stopping, best iteration is:\n",
      "[950]\ttraining's binary_logloss: 0.101339\ttraining's auc: 0.889092\ttraining's average_precision: 0.298823\tvalid_1's binary_logloss: 0.110408\tvalid_1's auc: 0.8532\tvalid_1's average_precision: 0.196041\n",
      "Training until validation scores don't improve for 100 rounds\n"
     ]
    },
    {
     "name": "stderr",
     "output_type": "stream",
     "text": [
      "[I 2024-04-15 12:14:48,305] Trial 62 finished with value: 0.11073234928747987 and parameters: {'feature_fraction': 0.6099108272024305, 'lambda_l1': 1.8696596272724255, 'lambda_l2': 0.03199255226200132, 'num_leaves': 18, 'bagging_fraction': 0.730367463823338, 'bagging_freq': 6}. Best is trial 10 with value: 0.11025675484162617.\n"
     ]
    },
    {
     "name": "stdout",
     "output_type": "stream",
     "text": [
      "Early stopping, best iteration is:\n",
      "[1227]\ttraining's binary_logloss: 0.0895715\ttraining's auc: 0.925602\ttraining's average_precision: 0.469244\tvalid_1's binary_logloss: 0.110732\tvalid_1's auc: 0.851928\tvalid_1's average_precision: 0.193367\n",
      "Training until validation scores don't improve for 100 rounds\n"
     ]
    },
    {
     "name": "stderr",
     "output_type": "stream",
     "text": [
      "[I 2024-04-15 12:25:09,139] Trial 63 finished with value: 0.11026187464493624 and parameters: {'feature_fraction': 0.5755979394348042, 'lambda_l1': 5.706229249078329, 'lambda_l2': 0.004154817769574635, 'num_leaves': 12, 'bagging_fraction': 0.6946975652521846, 'bagging_freq': 6}. Best is trial 10 with value: 0.11025675484162617.\n"
     ]
    },
    {
     "name": "stdout",
     "output_type": "stream",
     "text": [
      "Early stopping, best iteration is:\n",
      "[1573]\ttraining's binary_logloss: 0.0966658\ttraining's auc: 0.90386\ttraining's average_precision: 0.365645\tvalid_1's binary_logloss: 0.110262\tvalid_1's auc: 0.854315\tvalid_1's average_precision: 0.195326\n",
      "Training until validation scores don't improve for 100 rounds\n"
     ]
    },
    {
     "name": "stderr",
     "output_type": "stream",
     "text": [
      "[I 2024-04-15 12:33:03,945] Trial 64 finished with value: 0.11065394023151963 and parameters: {'feature_fraction': 0.5768106604720353, 'lambda_l1': 2.9447885627343857, 'lambda_l2': 0.0036822601329927567, 'num_leaves': 14, 'bagging_fraction': 0.7566090989895614, 'bagging_freq': 5}. Best is trial 10 with value: 0.11025675484162617.\n"
     ]
    },
    {
     "name": "stdout",
     "output_type": "stream",
     "text": [
      "Early stopping, best iteration is:\n",
      "[1262]\ttraining's binary_logloss: 0.0953308\ttraining's auc: 0.908719\ttraining's average_precision: 0.383841\tvalid_1's binary_logloss: 0.110654\tvalid_1's auc: 0.852532\tvalid_1's average_precision: 0.192961\n",
      "Training until validation scores don't improve for 100 rounds\n"
     ]
    },
    {
     "name": "stderr",
     "output_type": "stream",
     "text": [
      "[I 2024-04-15 12:36:42,051] Trial 65 finished with value: 0.11114116327828641 and parameters: {'feature_fraction': 0.6285136937194018, 'lambda_l1': 0.3306418467749019, 'lambda_l2': 0.0005134694876653332, 'num_leaves': 12, 'bagging_fraction': 0.6401482268316611, 'bagging_freq': 6}. Best is trial 10 with value: 0.11025675484162617.\n"
     ]
    },
    {
     "name": "stdout",
     "output_type": "stream",
     "text": [
      "Early stopping, best iteration is:\n",
      "[988]\ttraining's binary_logloss: 0.0983393\ttraining's auc: 0.899442\ttraining's average_precision: 0.342623\tvalid_1's binary_logloss: 0.111141\tvalid_1's auc: 0.850851\tvalid_1's average_precision: 0.188129\n",
      "Training until validation scores don't improve for 100 rounds\n"
     ]
    },
    {
     "name": "stderr",
     "output_type": "stream",
     "text": [
      "[I 2024-04-15 12:38:07,351] Trial 66 finished with value: 0.11161417126372629 and parameters: {'feature_fraction': 0.849239033887707, 'lambda_l1': 1.0821616467875956, 'lambda_l2': 0.006985269351649518, 'num_leaves': 44, 'bagging_fraction': 0.6919118070327548, 'bagging_freq': 6}. Best is trial 10 with value: 0.11025675484162617.\n"
     ]
    },
    {
     "name": "stdout",
     "output_type": "stream",
     "text": [
      "Early stopping, best iteration is:\n",
      "[225]\ttraining's binary_logloss: 0.0983107\ttraining's auc: 0.900928\ttraining's average_precision: 0.338603\tvalid_1's binary_logloss: 0.111614\tvalid_1's auc: 0.84895\tvalid_1's average_precision: 0.1854\n",
      "Training until validation scores don't improve for 100 rounds\n"
     ]
    },
    {
     "name": "stderr",
     "output_type": "stream",
     "text": [
      "[I 2024-04-15 12:41:59,194] Trial 67 finished with value: 0.11063053442058131 and parameters: {'feature_fraction': 0.5889757423673921, 'lambda_l1': 5.126526506196961, 'lambda_l2': 0.0024460756944783718, 'num_leaves': 22, 'bagging_fraction': 0.667464718727341, 'bagging_freq': 6}. Best is trial 10 with value: 0.11025675484162617.\n"
     ]
    },
    {
     "name": "stdout",
     "output_type": "stream",
     "text": [
      "Early stopping, best iteration is:\n",
      "[653]\ttraining's binary_logloss: 0.0984325\ttraining's auc: 0.899515\ttraining's average_precision: 0.33644\tvalid_1's binary_logloss: 0.110631\tvalid_1's auc: 0.852704\tvalid_1's average_precision: 0.192701\n",
      "Training until validation scores don't improve for 100 rounds\n"
     ]
    },
    {
     "name": "stderr",
     "output_type": "stream",
     "text": [
      "[I 2024-04-15 12:45:39,668] Trial 68 finished with value: 0.11115043289021831 and parameters: {'feature_fraction': 0.514562110690418, 'lambda_l1': 2.3995588638587537, 'lambda_l2': 0.0007678701588472522, 'num_leaves': 38, 'bagging_fraction': 0.7308440238418832, 'bagging_freq': 5}. Best is trial 10 with value: 0.11025675484162617.\n"
     ]
    },
    {
     "name": "stdout",
     "output_type": "stream",
     "text": [
      "Early stopping, best iteration is:\n",
      "[404]\ttraining's binary_logloss: 0.0949829\ttraining's auc: 0.911341\ttraining's average_precision: 0.385595\tvalid_1's binary_logloss: 0.11115\tvalid_1's auc: 0.850655\tvalid_1's average_precision: 0.188563\n",
      "Training until validation scores don't improve for 100 rounds\n"
     ]
    },
    {
     "name": "stderr",
     "output_type": "stream",
     "text": [
      "[I 2024-04-15 12:49:25,554] Trial 69 finished with value: 0.11065958750024701 and parameters: {'feature_fraction': 0.8791966490819241, 'lambda_l1': 5.8103913948649035, 'lambda_l2': 0.01427095967671924, 'num_leaves': 24, 'bagging_fraction': 0.5994321780805919, 'bagging_freq': 6}. Best is trial 10 with value: 0.11025675484162617.\n"
     ]
    },
    {
     "name": "stdout",
     "output_type": "stream",
     "text": [
      "Early stopping, best iteration is:\n",
      "[867]\ttraining's binary_logloss: 0.0928608\ttraining's auc: 0.916355\ttraining's average_precision: 0.417445\tvalid_1's binary_logloss: 0.11066\tvalid_1's auc: 0.852567\tvalid_1's average_precision: 0.192999\n",
      "Training until validation scores don't improve for 100 rounds\n"
     ]
    },
    {
     "name": "stderr",
     "output_type": "stream",
     "text": [
      "[I 2024-04-15 12:50:53,867] Trial 70 finished with value: 0.11182662443513608 and parameters: {'feature_fraction': 0.7805557040391108, 'lambda_l1': 0.7455113992975857, 'lambda_l2': 1.5000603699744225e-07, 'num_leaves': 52, 'bagging_fraction': 0.6261979022959098, 'bagging_freq': 3}. Best is trial 10 with value: 0.11025675484162617.\n"
     ]
    },
    {
     "name": "stdout",
     "output_type": "stream",
     "text": [
      "Early stopping, best iteration is:\n",
      "[216]\ttraining's binary_logloss: 0.0961446\ttraining's auc: 0.908182\ttraining's average_precision: 0.368104\tvalid_1's binary_logloss: 0.111827\tvalid_1's auc: 0.847959\tvalid_1's average_precision: 0.183269\n",
      "Training until validation scores don't improve for 100 rounds\n"
     ]
    },
    {
     "name": "stderr",
     "output_type": "stream",
     "text": [
      "[I 2024-04-15 12:54:17,096] Trial 71 finished with value: 0.11052999922122862 and parameters: {'feature_fraction': 0.595827117644439, 'lambda_l1': 9.879945833582859, 'lambda_l2': 0.027579723651977375, 'num_leaves': 32, 'bagging_fraction': 0.6605738434472319, 'bagging_freq': 7}. Best is trial 10 with value: 0.11025675484162617.\n"
     ]
    },
    {
     "name": "stdout",
     "output_type": "stream",
     "text": [
      "Early stopping, best iteration is:\n",
      "[526]\ttraining's binary_logloss: 0.0979694\ttraining's auc: 0.900585\ttraining's average_precision: 0.343526\tvalid_1's binary_logloss: 0.11053\tvalid_1's auc: 0.853043\tvalid_1's average_precision: 0.193365\n",
      "Training until validation scores don't improve for 100 rounds\n"
     ]
    },
    {
     "name": "stderr",
     "output_type": "stream",
     "text": [
      "[I 2024-04-15 12:57:50,822] Trial 72 finished with value: 0.11109668099041103 and parameters: {'feature_fraction': 0.7303082248356599, 'lambda_l1': 1.6177976798902851, 'lambda_l2': 0.08372435707322935, 'num_leaves': 32, 'bagging_fraction': 0.7026522847868844, 'bagging_freq': 7}. Best is trial 10 with value: 0.11025675484162617.\n"
     ]
    },
    {
     "name": "stdout",
     "output_type": "stream",
     "text": [
      "Early stopping, best iteration is:\n",
      "[821]\ttraining's binary_logloss: 0.0840096\ttraining's auc: 0.940477\ttraining's average_precision: 0.553855\tvalid_1's binary_logloss: 0.111097\tvalid_1's auc: 0.851206\tvalid_1's average_precision: 0.188294\n",
      "Training until validation scores don't improve for 100 rounds\n"
     ]
    },
    {
     "name": "stderr",
     "output_type": "stream",
     "text": [
      "[I 2024-04-15 13:00:13,760] Trial 73 finished with value: 0.11067722537677908 and parameters: {'feature_fraction': 0.6584651508471051, 'lambda_l1': 5.969817710422585, 'lambda_l2': 0.006915473111660452, 'num_leaves': 40, 'bagging_fraction': 0.6824062884102563, 'bagging_freq': 7}. Best is trial 10 with value: 0.11025675484162617.\n"
     ]
    },
    {
     "name": "stdout",
     "output_type": "stream",
     "text": [
      "Early stopping, best iteration is:\n",
      "[423]\ttraining's binary_logloss: 0.0958085\ttraining's auc: 0.907638\ttraining's average_precision: 0.375481\tvalid_1's binary_logloss: 0.110677\tvalid_1's auc: 0.852602\tvalid_1's average_precision: 0.19296\n",
      "Training until validation scores don't improve for 100 rounds\n"
     ]
    },
    {
     "name": "stderr",
     "output_type": "stream",
     "text": [
      "[I 2024-04-15 13:02:37,458] Trial 74 finished with value: 0.11107156378370267 and parameters: {'feature_fraction': 0.6363013341243422, 'lambda_l1': 2.5347678631124166, 'lambda_l2': 0.13804443826480273, 'num_leaves': 20, 'bagging_fraction': 0.5845844995792095, 'bagging_freq': 6}. Best is trial 10 with value: 0.11025675484162617.\n"
     ]
    },
    {
     "name": "stdout",
     "output_type": "stream",
     "text": [
      "Early stopping, best iteration is:\n",
      "[502]\ttraining's binary_logloss: 0.101214\ttraining's auc: 0.890394\ttraining's average_precision: 0.301842\tvalid_1's binary_logloss: 0.111072\tvalid_1's auc: 0.850853\tvalid_1's average_precision: 0.189807\n",
      "Training until validation scores don't improve for 100 rounds\n"
     ]
    },
    {
     "name": "stderr",
     "output_type": "stream",
     "text": [
      "[I 2024-04-15 13:06:58,825] Trial 75 finished with value: 0.11029668846290462 and parameters: {'feature_fraction': 0.6919597374808836, 'lambda_l1': 9.543773394868474, 'lambda_l2': 0.0408842795753199, 'num_leaves': 12, 'bagging_fraction': 0.6097114197680997, 'bagging_freq': 7}. Best is trial 10 with value: 0.11025675484162617.\n"
     ]
    },
    {
     "name": "stdout",
     "output_type": "stream",
     "text": [
      "Early stopping, best iteration is:\n",
      "[1067]\ttraining's binary_logloss: 0.101751\ttraining's auc: 0.88767\ttraining's average_precision: 0.292912\tvalid_1's binary_logloss: 0.110297\tvalid_1's auc: 0.853739\tvalid_1's average_precision: 0.197132\n",
      "Training until validation scores don't improve for 100 rounds\n"
     ]
    },
    {
     "name": "stderr",
     "output_type": "stream",
     "text": [
      "[I 2024-04-15 13:11:38,407] Trial 76 finished with value: 0.11061295996298728 and parameters: {'feature_fraction': 0.8352846767057842, 'lambda_l1': 3.7552461041751566, 'lambda_l2': 0.0035456918361297727, 'num_leaves': 12, 'bagging_fraction': 0.6095318874697062, 'bagging_freq': 6}. Best is trial 10 with value: 0.11025675484162617.\n"
     ]
    },
    {
     "name": "stdout",
     "output_type": "stream",
     "text": [
      "Early stopping, best iteration is:\n",
      "[1205]\ttraining's binary_logloss: 0.0983218\ttraining's auc: 0.899068\ttraining's average_precision: 0.341906\tvalid_1's binary_logloss: 0.110613\tvalid_1's auc: 0.852402\tvalid_1's average_precision: 0.194668\n",
      "Training until validation scores don't improve for 100 rounds\n"
     ]
    },
    {
     "name": "stderr",
     "output_type": "stream",
     "text": [
      "[I 2024-04-15 13:14:29,698] Trial 77 finished with value: 0.11121650248017649 and parameters: {'feature_fraction': 0.8009360165426858, 'lambda_l1': 0.4801986392230461, 'lambda_l2': 0.04964164381320937, 'num_leaves': 26, 'bagging_fraction': 0.6446886863807764, 'bagging_freq': 6}. Best is trial 10 with value: 0.11025675484162617.\n"
     ]
    },
    {
     "name": "stdout",
     "output_type": "stream",
     "text": [
      "Early stopping, best iteration is:\n",
      "[639]\ttraining's binary_logloss: 0.0909981\ttraining's auc: 0.922744\ttraining's average_precision: 0.445981\tvalid_1's binary_logloss: 0.111217\tvalid_1's auc: 0.850205\tvalid_1's average_precision: 0.188459\n",
      "Training until validation scores don't improve for 100 rounds\n"
     ]
    },
    {
     "name": "stderr",
     "output_type": "stream",
     "text": [
      "[I 2024-04-15 13:17:02,050] Trial 78 finished with value: 0.11150128431296176 and parameters: {'feature_fraction': 0.9219582763702805, 'lambda_l1': 0.24540837373208102, 'lambda_l2': 0.00013949523185653574, 'num_leaves': 20, 'bagging_fraction': 0.6274309000314501, 'bagging_freq': 5}. Best is trial 10 with value: 0.11025675484162617.\n"
     ]
    },
    {
     "name": "stdout",
     "output_type": "stream",
     "text": [
      "Early stopping, best iteration is:\n",
      "[558]\ttraining's binary_logloss: 0.0971429\ttraining's auc: 0.903553\ttraining's average_precision: 0.359759\tvalid_1's binary_logloss: 0.111501\tvalid_1's auc: 0.849353\tvalid_1's average_precision: 0.186645\n",
      "Training until validation scores don't improve for 100 rounds\n"
     ]
    },
    {
     "name": "stderr",
     "output_type": "stream",
     "text": [
      "[I 2024-04-15 13:20:03,141] Trial 79 finished with value: 0.1110948388757322 and parameters: {'feature_fraction': 0.7459095073956761, 'lambda_l1': 1.5461539051638458, 'lambda_l2': 0.00047862587794195963, 'num_leaves': 12, 'bagging_fraction': 0.6986376678792299, 'bagging_freq': 7}. Best is trial 10 with value: 0.11025675484162617.\n"
     ]
    },
    {
     "name": "stdout",
     "output_type": "stream",
     "text": [
      "Early stopping, best iteration is:\n",
      "[725]\ttraining's binary_logloss: 0.102455\ttraining's auc: 0.886117\ttraining's average_precision: 0.284833\tvalid_1's binary_logloss: 0.111095\tvalid_1's auc: 0.850671\tvalid_1's average_precision: 0.190778\n",
      "Training until validation scores don't improve for 100 rounds\n"
     ]
    },
    {
     "name": "stderr",
     "output_type": "stream",
     "text": [
      "[I 2024-04-15 13:21:43,081] Trial 80 finished with value: 0.11132264959386357 and parameters: {'feature_fraction': 0.8749556782020381, 'lambda_l1': 0.0026136252873754416, 'lambda_l2': 1.6597447022273868, 'num_leaves': 68, 'bagging_fraction': 0.7214492389339313, 'bagging_freq': 4}. Best is trial 10 with value: 0.11025675484162617.\n"
     ]
    },
    {
     "name": "stdout",
     "output_type": "stream",
     "text": [
      "Early stopping, best iteration is:\n",
      "[240]\ttraining's binary_logloss: 0.0932824\ttraining's auc: 0.915806\ttraining's average_precision: 0.418251\tvalid_1's binary_logloss: 0.111323\tvalid_1's auc: 0.850303\tvalid_1's average_precision: 0.186777\n",
      "Training until validation scores don't improve for 100 rounds\n"
     ]
    },
    {
     "name": "stderr",
     "output_type": "stream",
     "text": [
      "[I 2024-04-15 13:25:04,455] Trial 81 finished with value: 0.11057008859916309 and parameters: {'feature_fraction': 0.6971651658188258, 'lambda_l1': 8.532668272099544, 'lambda_l2': 0.040790178107324146, 'num_leaves': 30, 'bagging_fraction': 0.7552401700368341, 'bagging_freq': 7}. Best is trial 10 with value: 0.11025675484162617.\n"
     ]
    },
    {
     "name": "stdout",
     "output_type": "stream",
     "text": [
      "Early stopping, best iteration is:\n",
      "[699]\ttraining's binary_logloss: 0.0944237\ttraining's auc: 0.911168\ttraining's average_precision: 0.396887\tvalid_1's binary_logloss: 0.11057\tvalid_1's auc: 0.853311\tvalid_1's average_precision: 0.192181\n",
      "Training until validation scores don't improve for 100 rounds\n"
     ]
    },
    {
     "name": "stderr",
     "output_type": "stream",
     "text": [
      "[I 2024-04-15 13:27:34,539] Trial 82 finished with value: 0.11050039984799719 and parameters: {'feature_fraction': 0.6782170239312804, 'lambda_l1': 9.65556075587202, 'lambda_l2': 0.011343307295941976, 'num_leaves': 34, 'bagging_fraction': 0.6741153416875513, 'bagging_freq': 7}. Best is trial 10 with value: 0.11025675484162617.\n"
     ]
    },
    {
     "name": "stdout",
     "output_type": "stream",
     "text": [
      "Early stopping, best iteration is:\n",
      "[456]\ttraining's binary_logloss: 0.0985264\ttraining's auc: 0.898888\ttraining's average_precision: 0.335473\tvalid_1's binary_logloss: 0.1105\tvalid_1's auc: 0.853066\tvalid_1's average_precision: 0.194305\n",
      "Training until validation scores don't improve for 100 rounds\n"
     ]
    },
    {
     "name": "stderr",
     "output_type": "stream",
     "text": [
      "[I 2024-04-15 13:30:21,983] Trial 83 finished with value: 0.1108056568192179 and parameters: {'feature_fraction': 0.9069386790898186, 'lambda_l1': 4.919803081338084, 'lambda_l2': 0.09479362011090917, 'num_leaves': 46, 'bagging_fraction': 0.790625312312283, 'bagging_freq': 7}. Best is trial 10 with value: 0.11025675484162617.\n"
     ]
    },
    {
     "name": "stdout",
     "output_type": "stream",
     "text": [
      "Early stopping, best iteration is:\n",
      "[528]\ttraining's binary_logloss: 0.0886675\ttraining's auc: 0.92873\ttraining's average_precision: 0.480234\tvalid_1's binary_logloss: 0.110806\tvalid_1's auc: 0.851968\tvalid_1's average_precision: 0.191466\n",
      "Training until validation scores don't improve for 100 rounds\n"
     ]
    },
    {
     "name": "stderr",
     "output_type": "stream",
     "text": [
      "[I 2024-04-15 13:32:01,980] Trial 84 finished with value: 0.1111188819360631 and parameters: {'feature_fraction': 0.6091044826592529, 'lambda_l1': 3.287905039674237, 'lambda_l2': 0.34074977034699333, 'num_leaves': 76, 'bagging_fraction': 0.6027220562964346, 'bagging_freq': 7}. Best is trial 10 with value: 0.11025675484162617.\n"
     ]
    },
    {
     "name": "stdout",
     "output_type": "stream",
     "text": [
      "Early stopping, best iteration is:\n",
      "[195]\ttraining's binary_logloss: 0.0958145\ttraining's auc: 0.908364\ttraining's average_precision: 0.375342\tvalid_1's binary_logloss: 0.111119\tvalid_1's auc: 0.850908\tvalid_1's average_precision: 0.188966\n",
      "Training until validation scores don't improve for 100 rounds\n"
     ]
    },
    {
     "name": "stderr",
     "output_type": "stream",
     "text": [
      "[I 2024-04-15 13:37:27,696] Trial 85 finished with value: 0.11140879793687165 and parameters: {'feature_fraction': 0.5580598097149135, 'lambda_l1': 0.974153051590797, 'lambda_l2': 0.01794670175336432, 'num_leaves': 26, 'bagging_fraction': 0.5359881397273903, 'bagging_freq': 6}. Best is trial 10 with value: 0.11025675484162617.\n"
     ]
    },
    {
     "name": "stdout",
     "output_type": "stream",
     "text": [
      "Early stopping, best iteration is:\n",
      "[660]\ttraining's binary_logloss: 0.0917735\ttraining's auc: 0.920553\ttraining's average_precision: 0.434821\tvalid_1's binary_logloss: 0.111409\tvalid_1's auc: 0.849675\tvalid_1's average_precision: 0.186139\n",
      "Training until validation scores don't improve for 100 rounds\n"
     ]
    },
    {
     "name": "stderr",
     "output_type": "stream",
     "text": [
      "[I 2024-04-15 13:39:20,796] Trial 86 finished with value: 0.11085320922819324 and parameters: {'feature_fraction': 0.6529603850786876, 'lambda_l1': 5.879255783447995, 'lambda_l2': 0.7662544728880079, 'num_leaves': 110, 'bagging_fraction': 0.657867270929221, 'bagging_freq': 7}. Best is trial 10 with value: 0.11025675484162617.\n"
     ]
    },
    {
     "name": "stdout",
     "output_type": "stream",
     "text": [
      "Early stopping, best iteration is:\n",
      "[216]\ttraining's binary_logloss: 0.0898557\ttraining's auc: 0.925442\ttraining's average_precision: 0.465216\tvalid_1's binary_logloss: 0.110853\tvalid_1's auc: 0.85181\tvalid_1's average_precision: 0.192211\n",
      "Training until validation scores don't improve for 100 rounds\n"
     ]
    },
    {
     "name": "stderr",
     "output_type": "stream",
     "text": [
      "[I 2024-04-15 13:41:49,981] Trial 87 finished with value: 0.11082421784085682 and parameters: {'feature_fraction': 0.945152320065081, 'lambda_l1': 1.9344694150766875, 'lambda_l2': 2.7440463068170495, 'num_leaves': 40, 'bagging_fraction': 0.9073233202235443, 'bagging_freq': 6}. Best is trial 10 with value: 0.11025675484162617.\n"
     ]
    },
    {
     "name": "stdout",
     "output_type": "stream",
     "text": [
      "Early stopping, best iteration is:\n",
      "[478]\ttraining's binary_logloss: 0.0931179\ttraining's auc: 0.915409\ttraining's average_precision: 0.420116\tvalid_1's binary_logloss: 0.110824\tvalid_1's auc: 0.852162\tvalid_1's average_precision: 0.190839\n",
      "Training until validation scores don't improve for 100 rounds\n"
     ]
    },
    {
     "name": "stderr",
     "output_type": "stream",
     "text": [
      "[I 2024-04-15 13:43:34,486] Trial 88 finished with value: 0.11116207001925424 and parameters: {'feature_fraction': 0.6919195435145558, 'lambda_l1': 3.0570527979696664, 'lambda_l2': 5.846658334089817, 'num_leaves': 170, 'bagging_fraction': 0.5117442082928672, 'bagging_freq': 7}. Best is trial 10 with value: 0.11025675484162617.\n"
     ]
    },
    {
     "name": "stdout",
     "output_type": "stream",
     "text": [
      "Early stopping, best iteration is:\n",
      "[147]\ttraining's binary_logloss: 0.0885709\ttraining's auc: 0.928742\ttraining's average_precision: 0.491423\tvalid_1's binary_logloss: 0.111162\tvalid_1's auc: 0.850921\tvalid_1's average_precision: 0.187229\n",
      "Training until validation scores don't improve for 100 rounds\n"
     ]
    },
    {
     "name": "stderr",
     "output_type": "stream",
     "text": [
      "[I 2024-04-15 13:45:15,305] Trial 89 finished with value: 0.11190136168216691 and parameters: {'feature_fraction': 0.7724766625641198, 'lambda_l1': 0.10197640805590494, 'lambda_l2': 0.006393244549186706, 'num_leaves': 56, 'bagging_fraction': 0.578807806730142, 'bagging_freq': 7}. Best is trial 10 with value: 0.11025675484162617.\n"
     ]
    },
    {
     "name": "stdout",
     "output_type": "stream",
     "text": [
      "Early stopping, best iteration is:\n",
      "[260]\ttraining's binary_logloss: 0.0914619\ttraining's auc: 0.921514\ttraining's average_precision: 0.440879\tvalid_1's binary_logloss: 0.111901\tvalid_1's auc: 0.847933\tvalid_1's average_precision: 0.182263\n",
      "Training until validation scores don't improve for 100 rounds\n"
     ]
    },
    {
     "name": "stderr",
     "output_type": "stream",
     "text": [
      "[I 2024-04-15 13:49:12,833] Trial 90 finished with value: 0.11056191996254665 and parameters: {'feature_fraction': 0.7131602625884621, 'lambda_l1': 6.267746762724539, 'lambda_l2': 0.024361895113284585, 'num_leaves': 18, 'bagging_fraction': 0.6879996227220359, 'bagging_freq': 7}. Best is trial 10 with value: 0.11025675484162617.\n"
     ]
    },
    {
     "name": "stdout",
     "output_type": "stream",
     "text": [
      "Early stopping, best iteration is:\n",
      "[938]\ttraining's binary_logloss: 0.0970358\ttraining's auc: 0.90322\ttraining's average_precision: 0.359072\tvalid_1's binary_logloss: 0.110562\tvalid_1's auc: 0.852689\tvalid_1's average_precision: 0.194877\n",
      "Training until validation scores don't improve for 100 rounds\n"
     ]
    },
    {
     "name": "stderr",
     "output_type": "stream",
     "text": [
      "[I 2024-04-15 13:51:54,441] Trial 91 finished with value: 0.11047471719475412 and parameters: {'feature_fraction': 0.6760715362291412, 'lambda_l1': 9.719668208150049, 'lambda_l2': 0.011000824520575637, 'num_leaves': 36, 'bagging_fraction': 0.6756926312123993, 'bagging_freq': 7}. Best is trial 10 with value: 0.11025675484162617.\n"
     ]
    },
    {
     "name": "stdout",
     "output_type": "stream",
     "text": [
      "Early stopping, best iteration is:\n",
      "[500]\ttraining's binary_logloss: 0.0967809\ttraining's auc: 0.904202\ttraining's average_precision: 0.361365\tvalid_1's binary_logloss: 0.110475\tvalid_1's auc: 0.853723\tvalid_1's average_precision: 0.192694\n",
      "Training until validation scores don't improve for 100 rounds\n"
     ]
    },
    {
     "name": "stderr",
     "output_type": "stream",
     "text": [
      "[I 2024-04-15 13:53:48,242] Trial 92 finished with value: 0.1119558308433579 and parameters: {'feature_fraction': 0.667366046665438, 'lambda_l1': 0.00012318467191263616, 'lambda_l2': 0.051234731127224445, 'num_leaves': 48, 'bagging_fraction': 0.7430073968818733, 'bagging_freq': 7}. Best is trial 10 with value: 0.11025675484162617.\n"
     ]
    },
    {
     "name": "stdout",
     "output_type": "stream",
     "text": [
      "Early stopping, best iteration is:\n",
      "[340]\ttraining's binary_logloss: 0.0904535\ttraining's auc: 0.924433\ttraining's average_precision: 0.456139\tvalid_1's binary_logloss: 0.111956\tvalid_1's auc: 0.848115\tvalid_1's average_precision: 0.181173\n",
      "Training until validation scores don't improve for 100 rounds\n"
     ]
    },
    {
     "name": "stderr",
     "output_type": "stream",
     "text": [
      "[I 2024-04-15 13:56:57,044] Trial 93 finished with value: 0.1104674473404311 and parameters: {'feature_fraction': 0.6380460341372974, 'lambda_l1': 9.925614877060449, 'lambda_l2': 0.0021873533224738, 'num_leaves': 34, 'bagging_fraction': 0.627076209141711, 'bagging_freq': 7}. Best is trial 10 with value: 0.11025675484162617.\n"
     ]
    },
    {
     "name": "stdout",
     "output_type": "stream",
     "text": [
      "Early stopping, best iteration is:\n",
      "[625]\ttraining's binary_logloss: 0.0949111\ttraining's auc: 0.909798\ttraining's average_precision: 0.388567\tvalid_1's binary_logloss: 0.110467\tvalid_1's auc: 0.853282\tvalid_1's average_precision: 0.193868\n",
      "Training until validation scores don't improve for 100 rounds\n"
     ]
    },
    {
     "name": "stderr",
     "output_type": "stream",
     "text": [
      "[I 2024-04-15 14:00:24,909] Trial 94 finished with value: 0.11066112864984869 and parameters: {'feature_fraction': 0.6336310845010106, 'lambda_l1': 4.334293499449594, 'lambda_l2': 0.002513375738716744, 'num_leaves': 24, 'bagging_fraction': 0.6327448082533786, 'bagging_freq': 7}. Best is trial 10 with value: 0.11025675484162617.\n"
     ]
    },
    {
     "name": "stdout",
     "output_type": "stream",
     "text": [
      "Early stopping, best iteration is:\n",
      "[772]\ttraining's binary_logloss: 0.0943104\ttraining's auc: 0.912298\ttraining's average_precision: 0.396813\tvalid_1's binary_logloss: 0.110661\tvalid_1's auc: 0.852604\tvalid_1's average_precision: 0.192518\n",
      "Training until validation scores don't improve for 100 rounds\n"
     ]
    },
    {
     "name": "stderr",
     "output_type": "stream",
     "text": [
      "[I 2024-04-15 14:06:04,669] Trial 95 finished with value: 0.11032447831004624 and parameters: {'feature_fraction': 0.605230883182593, 'lambda_l1': 6.524506828989674, 'lambda_l2': 0.0014632135903857432, 'num_leaves': 16, 'bagging_fraction': 0.6521281171911995, 'bagging_freq': 6}. Best is trial 10 with value: 0.11025675484162617.\n"
     ]
    },
    {
     "name": "stdout",
     "output_type": "stream",
     "text": [
      "Early stopping, best iteration is:\n",
      "[1231]\ttraining's binary_logloss: 0.0956424\ttraining's auc: 0.90711\ttraining's average_precision: 0.379146\tvalid_1's binary_logloss: 0.110324\tvalid_1's auc: 0.854031\tvalid_1's average_precision: 0.194941\n",
      "Training until validation scores don't improve for 100 rounds\n"
     ]
    },
    {
     "name": "stderr",
     "output_type": "stream",
     "text": [
      "[I 2024-04-15 14:08:25,673] Trial 96 finished with value: 0.11118295227931635 and parameters: {'feature_fraction': 0.5964722450613474, 'lambda_l1': 2.235445117413912, 'lambda_l2': 0.001129527349519764, 'num_leaves': 64, 'bagging_fraction': 0.6486758232227583, 'bagging_freq': 6}. Best is trial 10 with value: 0.11025675484162617.\n"
     ]
    },
    {
     "name": "stdout",
     "output_type": "stream",
     "text": [
      "Early stopping, best iteration is:\n",
      "[299]\ttraining's binary_logloss: 0.0902647\ttraining's auc: 0.925874\ttraining's average_precision: 0.453187\tvalid_1's binary_logloss: 0.111183\tvalid_1's auc: 0.850543\tvalid_1's average_precision: 0.189\n",
      "Training until validation scores don't improve for 100 rounds\n"
     ]
    },
    {
     "name": "stderr",
     "output_type": "stream",
     "text": [
      "[I 2024-04-15 14:10:52,950] Trial 97 finished with value: 0.11131676267884327 and parameters: {'feature_fraction': 0.6246456982435206, 'lambda_l1': 1.3476347550038434, 'lambda_l2': 0.0016135709567682874, 'num_leaves': 38, 'bagging_fraction': 0.7110692421264106, 'bagging_freq': 6}. Best is trial 10 with value: 0.11025675484162617.\n"
     ]
    },
    {
     "name": "stdout",
     "output_type": "stream",
     "text": [
      "Early stopping, best iteration is:\n",
      "[482]\ttraining's binary_logloss: 0.0900041\ttraining's auc: 0.92653\ttraining's average_precision: 0.455681\tvalid_1's binary_logloss: 0.111317\tvalid_1's auc: 0.850023\tvalid_1's average_precision: 0.188705\n",
      "Training until validation scores don't improve for 100 rounds\n"
     ]
    },
    {
     "name": "stderr",
     "output_type": "stream",
     "text": [
      "[I 2024-04-15 14:18:21,681] Trial 98 finished with value: 0.11051949998973626 and parameters: {'feature_fraction': 0.5337121066089016, 'lambda_l1': 6.651290413053569, 'lambda_l2': 0.005659059573740686, 'num_leaves': 18, 'bagging_fraction': 0.6187364945017764, 'bagging_freq': 6}. Best is trial 10 with value: 0.11025675484162617.\n"
     ]
    },
    {
     "name": "stdout",
     "output_type": "stream",
     "text": [
      "Early stopping, best iteration is:\n",
      "[937]\ttraining's binary_logloss: 0.0978187\ttraining's auc: 0.900913\ttraining's average_precision: 0.346356\tvalid_1's binary_logloss: 0.110519\tvalid_1's auc: 0.853234\tvalid_1's average_precision: 0.193659\n",
      "Training until validation scores don't improve for 100 rounds\n"
     ]
    },
    {
     "name": "stderr",
     "output_type": "stream",
     "text": [
      "[I 2024-04-15 14:22:55,777] Trial 99 finished with value: 0.11073954918689148 and parameters: {'feature_fraction': 0.5680790311381422, 'lambda_l1': 4.14374909972773, 'lambda_l2': 0.008890226159643567, 'num_leaves': 28, 'bagging_fraction': 0.6727783597164562, 'bagging_freq': 5}. Best is trial 10 with value: 0.11025675484162617.\n"
     ]
    },
    {
     "name": "stdout",
     "output_type": "stream",
     "text": [
      "Early stopping, best iteration is:\n",
      "[553]\ttraining's binary_logloss: 0.0968187\ttraining's auc: 0.904524\ttraining's average_precision: 0.361616\tvalid_1's binary_logloss: 0.11074\tvalid_1's auc: 0.852488\tvalid_1's average_precision: 0.191925\n",
      "{'feature_fraction': 0.8252389166368176, 'lambda_l1': 9.791900843835457, 'lambda_l2': 7.511904149115363, 'num_leaves': 30, 'bagging_fraction': 0.5628920345673979, 'bagging_freq': 7}\n",
      "Fold 1\n",
      "Training until validation scores don't improve for 100 rounds\n",
      "[100]\ttraining's binary_logloss: 0.112877\ttraining's auc: 0.847013\ttraining's average_precision: 0.185975\tvalid_1's binary_logloss: 0.110985\tvalid_1's auc: 0.847816\tvalid_1's average_precision: 0.180384\n",
      "[200]\ttraining's binary_logloss: 0.109812\ttraining's auc: 0.858926\ttraining's average_precision: 0.210139\tvalid_1's binary_logloss: 0.109329\tvalid_1's auc: 0.853837\tvalid_1's average_precision: 0.190258\n",
      "[300]\ttraining's binary_logloss: 0.107753\ttraining's auc: 0.866774\ttraining's average_precision: 0.229296\tvalid_1's binary_logloss: 0.10858\tvalid_1's auc: 0.856676\tvalid_1's average_precision: 0.195602\n",
      "[400]\ttraining's binary_logloss: 0.105976\ttraining's auc: 0.873165\ttraining's average_precision: 0.248365\tvalid_1's binary_logloss: 0.108234\tvalid_1's auc: 0.857908\tvalid_1's average_precision: 0.197931\n",
      "[500]\ttraining's binary_logloss: 0.104369\ttraining's auc: 0.878849\ttraining's average_precision: 0.266555\tvalid_1's binary_logloss: 0.10803\tvalid_1's auc: 0.858582\tvalid_1's average_precision: 0.19951\n",
      "[600]\ttraining's binary_logloss: 0.102902\ttraining's auc: 0.883847\ttraining's average_precision: 0.283812\tvalid_1's binary_logloss: 0.107921\tvalid_1's auc: 0.858974\tvalid_1's average_precision: 0.199936\n",
      "[700]\ttraining's binary_logloss: 0.101534\ttraining's auc: 0.888295\ttraining's average_precision: 0.300905\tvalid_1's binary_logloss: 0.10786\tvalid_1's auc: 0.859196\tvalid_1's average_precision: 0.200367\n",
      "[800]\ttraining's binary_logloss: 0.100164\ttraining's auc: 0.892586\ttraining's average_precision: 0.318108\tvalid_1's binary_logloss: 0.107833\tvalid_1's auc: 0.859229\tvalid_1's average_precision: 0.200479\n",
      "Early stopping, best iteration is:\n",
      "[710]\ttraining's binary_logloss: 0.1014\ttraining's auc: 0.888651\ttraining's average_precision: 0.302675\tvalid_1's binary_logloss: 0.107843\tvalid_1's auc: 0.85928\tvalid_1's average_precision: 0.20057\n",
      "Fold 2\n",
      "Training until validation scores don't improve for 100 rounds\n",
      "[100]\ttraining's binary_logloss: 0.113604\ttraining's auc: 0.84961\ttraining's average_precision: 0.194051\tvalid_1's binary_logloss: 0.107733\tvalid_1's auc: 0.836875\tvalid_1's average_precision: 0.152825\n",
      "[200]\ttraining's binary_logloss: 0.110561\ttraining's auc: 0.861362\ttraining's average_precision: 0.218212\tvalid_1's binary_logloss: 0.10623\tvalid_1's auc: 0.844127\tvalid_1's average_precision: 0.160594\n",
      "[300]\ttraining's binary_logloss: 0.108388\ttraining's auc: 0.869297\ttraining's average_precision: 0.238443\tvalid_1's binary_logloss: 0.105568\tvalid_1's auc: 0.847263\tvalid_1's average_precision: 0.164073\n",
      "[400]\ttraining's binary_logloss: 0.106611\ttraining's auc: 0.875437\ttraining's average_precision: 0.256985\tvalid_1's binary_logloss: 0.105235\tvalid_1's auc: 0.848896\tvalid_1's average_precision: 0.165594\n",
      "[500]\ttraining's binary_logloss: 0.105009\ttraining's auc: 0.880864\ttraining's average_precision: 0.27492\tvalid_1's binary_logloss: 0.10508\tvalid_1's auc: 0.849588\tvalid_1's average_precision: 0.166418\n",
      "[600]\ttraining's binary_logloss: 0.103479\ttraining's auc: 0.885934\ttraining's average_precision: 0.292748\tvalid_1's binary_logloss: 0.104979\tvalid_1's auc: 0.850133\tvalid_1's average_precision: 0.166711\n",
      "[700]\ttraining's binary_logloss: 0.102102\ttraining's auc: 0.890268\ttraining's average_precision: 0.309517\tvalid_1's binary_logloss: 0.104899\tvalid_1's auc: 0.850625\tvalid_1's average_precision: 0.167139\n",
      "[800]\ttraining's binary_logloss: 0.100716\ttraining's auc: 0.894703\ttraining's average_precision: 0.32682\tvalid_1's binary_logloss: 0.104935\tvalid_1's auc: 0.850543\tvalid_1's average_precision: 0.166636\n",
      "Early stopping, best iteration is:\n",
      "[712]\ttraining's binary_logloss: 0.101928\ttraining's auc: 0.890864\ttraining's average_precision: 0.311561\tvalid_1's binary_logloss: 0.104886\tvalid_1's auc: 0.850704\tvalid_1's average_precision: 0.167206\n",
      "Fold 3\n",
      "Training until validation scores don't improve for 100 rounds\n",
      "[100]\ttraining's binary_logloss: 0.110308\ttraining's auc: 0.849468\ttraining's average_precision: 0.188186\tvalid_1's binary_logloss: 0.121134\tvalid_1's auc: 0.836618\tvalid_1's average_precision: 0.172595\n",
      "[200]\ttraining's binary_logloss: 0.107328\ttraining's auc: 0.861455\ttraining's average_precision: 0.211415\tvalid_1's binary_logloss: 0.11956\tvalid_1's auc: 0.842872\tvalid_1's average_precision: 0.182273\n",
      "[300]\ttraining's binary_logloss: 0.105242\ttraining's auc: 0.869467\ttraining's average_precision: 0.231557\tvalid_1's binary_logloss: 0.118855\tvalid_1's auc: 0.845851\tvalid_1's average_precision: 0.186531\n",
      "[400]\ttraining's binary_logloss: 0.103524\ttraining's auc: 0.875702\ttraining's average_precision: 0.249882\tvalid_1's binary_logloss: 0.118455\tvalid_1's auc: 0.847475\tvalid_1's average_precision: 0.189575\n",
      "[500]\ttraining's binary_logloss: 0.101905\ttraining's auc: 0.881424\ttraining's average_precision: 0.267904\tvalid_1's binary_logloss: 0.118308\tvalid_1's auc: 0.848121\tvalid_1's average_precision: 0.190411\n",
      "[600]\ttraining's binary_logloss: 0.100443\ttraining's auc: 0.886231\ttraining's average_precision: 0.285967\tvalid_1's binary_logloss: 0.118226\tvalid_1's auc: 0.848482\tvalid_1's average_precision: 0.191258\n",
      "[700]\ttraining's binary_logloss: 0.0991121\ttraining's auc: 0.890533\ttraining's average_precision: 0.302482\tvalid_1's binary_logloss: 0.118169\tvalid_1's auc: 0.84875\tvalid_1's average_precision: 0.191884\n",
      "Early stopping, best iteration is:\n",
      "[653]\ttraining's binary_logloss: 0.0997187\ttraining's auc: 0.88859\ttraining's average_precision: 0.294982\tvalid_1's binary_logloss: 0.118156\tvalid_1's auc: 0.848762\tvalid_1's average_precision: 0.191943\n",
      "Fold 4\n",
      "Training until validation scores don't improve for 100 rounds\n",
      "[100]\ttraining's binary_logloss: 0.113081\ttraining's auc: 0.848743\ttraining's average_precision: 0.192214\tvalid_1's binary_logloss: 0.108856\tvalid_1's auc: 0.835906\tvalid_1's average_precision: 0.151096\n",
      "[200]\ttraining's binary_logloss: 0.110042\ttraining's auc: 0.860556\ttraining's average_precision: 0.21556\tvalid_1's binary_logloss: 0.107399\tvalid_1's auc: 0.843033\tvalid_1's average_precision: 0.159171\n",
      "[300]\ttraining's binary_logloss: 0.107984\ttraining's auc: 0.868266\ttraining's average_precision: 0.234749\tvalid_1's binary_logloss: 0.10674\tvalid_1's auc: 0.846174\tvalid_1's average_precision: 0.163343\n",
      "[400]\ttraining's binary_logloss: 0.106243\ttraining's auc: 0.8744\ttraining's average_precision: 0.25316\tvalid_1's binary_logloss: 0.106316\tvalid_1's auc: 0.848241\tvalid_1's average_precision: 0.166339\n",
      "[500]\ttraining's binary_logloss: 0.104721\ttraining's auc: 0.879621\ttraining's average_precision: 0.270333\tvalid_1's binary_logloss: 0.106133\tvalid_1's auc: 0.849143\tvalid_1's average_precision: 0.167535\n",
      "[600]\ttraining's binary_logloss: 0.103193\ttraining's auc: 0.884785\ttraining's average_precision: 0.287434\tvalid_1's binary_logloss: 0.106012\tvalid_1's auc: 0.849691\tvalid_1's average_precision: 0.168388\n",
      "[700]\ttraining's binary_logloss: 0.101831\ttraining's auc: 0.889228\ttraining's average_precision: 0.303984\tvalid_1's binary_logloss: 0.10593\tvalid_1's auc: 0.850126\tvalid_1's average_precision: 0.168746\n",
      "[800]\ttraining's binary_logloss: 0.100534\ttraining's auc: 0.893305\ttraining's average_precision: 0.319523\tvalid_1's binary_logloss: 0.105806\tvalid_1's auc: 0.850753\tvalid_1's average_precision: 0.169811\n",
      "[900]\ttraining's binary_logloss: 0.0993584\ttraining's auc: 0.896925\ttraining's average_precision: 0.335742\tvalid_1's binary_logloss: 0.10579\tvalid_1's auc: 0.850802\tvalid_1's average_precision: 0.169933\n",
      "Early stopping, best iteration is:\n",
      "[858]\ttraining's binary_logloss: 0.0998631\ttraining's auc: 0.895382\ttraining's average_precision: 0.328823\tvalid_1's binary_logloss: 0.105772\tvalid_1's auc: 0.850842\tvalid_1's average_precision: 0.170238\n",
      "Fold 5\n",
      "Training until validation scores don't improve for 100 rounds\n",
      "[100]\ttraining's binary_logloss: 0.10995\ttraining's auc: 0.850021\ttraining's average_precision: 0.187982\tvalid_1's binary_logloss: 0.121777\tvalid_1's auc: 0.83254\tvalid_1's average_precision: 0.171635\n",
      "[200]\ttraining's binary_logloss: 0.106731\ttraining's auc: 0.862819\ttraining's average_precision: 0.214156\tvalid_1's binary_logloss: 0.119952\tvalid_1's auc: 0.840547\tvalid_1's average_precision: 0.18167\n",
      "[300]\ttraining's binary_logloss: 0.104665\ttraining's auc: 0.870762\ttraining's average_precision: 0.234341\tvalid_1's binary_logloss: 0.11929\tvalid_1's auc: 0.843277\tvalid_1's average_precision: 0.186012\n",
      "[400]\ttraining's binary_logloss: 0.102915\ttraining's auc: 0.877214\ttraining's average_precision: 0.253014\tvalid_1's binary_logloss: 0.118911\tvalid_1's auc: 0.844853\tvalid_1's average_precision: 0.18812\n",
      "[500]\ttraining's binary_logloss: 0.10131\ttraining's auc: 0.882753\ttraining's average_precision: 0.271555\tvalid_1's binary_logloss: 0.118654\tvalid_1's auc: 0.846007\tvalid_1's average_precision: 0.189584\n",
      "[600]\ttraining's binary_logloss: 0.0998581\ttraining's auc: 0.887788\ttraining's average_precision: 0.289013\tvalid_1's binary_logloss: 0.118577\tvalid_1's auc: 0.846366\tvalid_1's average_precision: 0.190061\n",
      "Early stopping, best iteration is:\n",
      "[567]\ttraining's binary_logloss: 0.100324\ttraining's auc: 0.886108\ttraining's average_precision: 0.283524\tvalid_1's binary_logloss: 0.118555\tvalid_1's auc: 0.846448\tvalid_1's average_precision: 0.190378\n"
     ]
    },
    {
     "data": {
      "image/png": "[encoded data removed]",
      "text/plain": [
       "<Figure size 640x480 with 1 Axes>"
      ]
     },
     "metadata": {},
     "output_type": "display_data"
    },
    {
     "data": {
      "image/png": "[encoded data removed]",
      "text/plain": [
       "<Figure size 640x480 with 1 Axes>"
      ]
     },
     "metadata": {},
     "output_type": "display_data"
    },
    {
     "name": "stdout",
     "output_type": "stream",
     "text": [
      "0.6837642754493195\n"
     ]
    },
    {
     "data": {
      "image/png": "[encoded data removed]",
      "text/plain": [
       "<Figure size 640x480 with 1 Axes>"
      ]
     },
     "metadata": {},
     "output_type": "display_data"
    },
    {
     "data": {
      "text/html": [
       "<div>\n",
       "<style scoped>\n",
       "    .dataframe tbody tr th:only-of-type {\n",
       "        vertical-align: middle;\n",
       "    }\n",
       "\n",
       "    .dataframe tbody tr th {\n",
       "        vertical-align: top;\n",
       "    }\n",
       "\n",
       "    .dataframe thead th {\n",
       "        text-align: right;\n",
       "    }\n",
       "</style>\n",
       "<table border=\"1\" class=\"dataframe\">\n",
       "  <thead>\n",
       "    <tr style=\"text-align: right;\">\n",
       "      <th></th>\n",
       "      <th>WEEK_NUM</th>\n",
       "      <th>Gini</th>\n",
       "    </tr>\n",
       "  </thead>\n",
       "  <tbody>\n",
       "    <tr>\n",
       "      <th>0</th>\n",
       "      <td>0</td>\n",
       "      <td>0.620409</td>\n",
       "    </tr>\n",
       "    <tr>\n",
       "      <th>1</th>\n",
       "      <td>1</td>\n",
       "      <td>0.668534</td>\n",
       "    </tr>\n",
       "    <tr>\n",
       "      <th>2</th>\n",
       "      <td>2</td>\n",
       "      <td>0.644718</td>\n",
       "    </tr>\n",
       "    <tr>\n",
       "      <th>3</th>\n",
       "      <td>3</td>\n",
       "      <td>0.653293</td>\n",
       "    </tr>\n",
       "    <tr>\n",
       "      <th>4</th>\n",
       "      <td>4</td>\n",
       "      <td>0.669600</td>\n",
       "    </tr>\n",
       "    <tr>\n",
       "      <th>...</th>\n",
       "      <td>...</td>\n",
       "      <td>...</td>\n",
       "    </tr>\n",
       "    <tr>\n",
       "      <th>87</th>\n",
       "      <td>87</td>\n",
       "      <td>0.771800</td>\n",
       "    </tr>\n",
       "    <tr>\n",
       "      <th>88</th>\n",
       "      <td>88</td>\n",
       "      <td>0.760076</td>\n",
       "    </tr>\n",
       "    <tr>\n",
       "      <th>89</th>\n",
       "      <td>89</td>\n",
       "      <td>0.721859</td>\n",
       "    </tr>\n",
       "    <tr>\n",
       "      <th>90</th>\n",
       "      <td>90</td>\n",
       "      <td>0.730787</td>\n",
       "    </tr>\n",
       "    <tr>\n",
       "      <th>91</th>\n",
       "      <td>91</td>\n",
       "      <td>0.775789</td>\n",
       "    </tr>\n",
       "  </tbody>\n",
       "</table>\n",
       "<p>92 rows × 2 columns</p>\n",
       "</div>"
      ],
      "text/plain": [
       "    WEEK_NUM      Gini\n",
       "0          0  0.620409\n",
       "1          1  0.668534\n",
       "2          2  0.644718\n",
       "3          3  0.653293\n",
       "4          4  0.669600\n",
       "..       ...       ...\n",
       "87        87  0.771800\n",
       "88        88  0.760076\n",
       "89        89  0.721859\n",
       "90        90  0.730787\n",
       "91        91  0.775789\n",
       "\n",
       "[92 rows x 2 columns]"
      ]
     },
     "metadata": {},
     "output_type": "display_data"
    },
    {
     "data": {
      "text/plain": [
       "0.6837642754493195"
      ]
     },
     "metadata": {},
     "output_type": "display_data"
    }
   ],
   "source": [
    "if MODE == 'train':\n",
    "    study = optimize(X, y, cv=False)\n",
    "    print(study.best_params)\n",
    "\n",
    "    # retrain with the best params\n",
    "    params.update(study.best_params)\n",
    "    oof = train(X, y)\n",
    "    df_gini_weeks, stability = evaluate(y, oof, y.index)\n",
    "    display(df_gini_weeks)\n",
    "    display(stability)\n",
    "\n",
    "else:\n",
    "    models = []\n",
    "    for i in range(5):\n",
    "        model_path = MODEL_DIR.joinpath(f'model_{i}.pkl')\n",
    "        with open(model_path, 'rb') as model_path:\n",
    "            model = pickle.load(model_path)\n",
    "            models.append(model)\n",
    "    submit = pd.read_csv(COMPETITION_DIR.joinpath('sample_submission.csv'))\n",
    "    submit = predict(models, submit, X)\n",
    "    submit.to_csv(Path('submission.csv'), index=False)\n",
    "    display(submit)"
   ]
  },
  {
   "cell_type": "code",
   "execution_count": 7,
   "metadata": {},
   "outputs": [],
   "source": [
    "# reload study from sql\n",
    "study = optuna.load_study(\n",
    "    study_name='lgbm-group-tune',\n",
    "    storage=f'sqlite:///{MODEL_DIR}/study.db',\n",
    ")"
   ]
  },
  {
   "cell_type": "code",
   "execution_count": 12,
   "metadata": {},
   "outputs": [
    {
     "data": {
      "application/vnd.plotly.v1+json": {
       "config": {
        "plotlyServerURL": "https://plot.ly"
       },
       "data": [
        {
         "mode": "markers",
         "name": "Objective Value",
         "type": "scatter",
         "x": [
          0,
          1,
          2,
          3,
          4,
          5,
          6,
          7,
          8,
          9,
          10,
          11,
          12,
          13,
          14,
          15,
          16,
          17,
          18,
          19,
          20,
          21,
          22,
          23,
          24,
          25,
          26,
          27,
          28,
          29,
          30,
          31,
          32,
          33,
          34,
          35,
          36,
          37,
          38,
          39,
          40,
          41,
          42,
          43,
          44,
          45,
          46,
          47,
          48,
          49,
          50,
          51,
          52,
          53,
          54,
          55,
          56,
          57,
          58,
          59,
          60,
          61,
          62,
          63,
          64,
          65,
          66,
          67,
          68,
          69,
          70,
          71,
          72,
          73,
          74,
          75,
          76,
          77,
          78,
          79,
          80,
          81,
          82,
          83,
          84,
          85,
          86,
          87,
          88,
          89,
          90,
          91,
          92,
          93,
          94,
          95,
          96,
          97,
          98,
          99
         ],
         "y": [
          0.11300855032768611,
          0.11346710180827918,
          0.11326447147267803,
          0.11057235943637705,
          0.11309320947714253,
          0.11149908291763808,
          0.11310857835647233,
          0.11329821799226639,
          0.11334591671362938,
          0.11280490014960101,
          0.11025675484162617,
          0.11081166545489164,
          0.11083980478515232,
          0.1104134835644495,
          0.11231875931805475,
          0.11174965884591542,
          0.11048957355983777,
          0.11172489288152455,
          0.1128595170803678,
          0.11081818200880617,
          0.11231300789802355,
          0.1106458078291237,
          0.11105478105491128,
          0.11056971694403496,
          0.1112385486474552,
          0.11149299587976484,
          0.1120862780002073,
          0.11144158027708477,
          0.11075921873963929,
          0.11257035636158472,
          0.1118922146871382,
          0.11057384045795172,
          0.11094296769792635,
          0.11093199779317878,
          0.11027271346681958,
          0.11098201109711835,
          0.11132899025282368,
          0.11178598965906815,
          0.1109238373675254,
          0.11185790286682885,
          0.1127817488713133,
          0.11093089538393087,
          0.11049203105594205,
          0.11154893695075112,
          0.11056935042194148,
          0.11151775683732,
          0.11077639559151548,
          0.11153136052141122,
          0.11138352312526563,
          0.11189395758254542,
          0.11108799491752301,
          0.11063160235524686,
          0.11100326589326504,
          0.11105288412698652,
          0.11073942511550018,
          0.11089736422358958,
          0.1118333260715663,
          0.11175146666825332,
          0.11036139276354445,
          0.11054935525729788,
          0.1117507439946854,
          0.11040839182671766,
          0.11073234928747987,
          0.11026187464493624,
          0.11065394023151963,
          0.11114116327828641,
          0.11161417126372629,
          0.11063053442058131,
          0.11115043289021831,
          0.11065958750024701,
          0.11182662443513608,
          0.11052999922122862,
          0.11109668099041103,
          0.11067722537677908,
          0.11107156378370267,
          0.11029668846290462,
          0.11061295996298728,
          0.11121650248017649,
          0.11150128431296176,
          0.1110948388757322,
          0.11132264959386357,
          0.11057008859916309,
          0.11050039984799719,
          0.1108056568192179,
          0.1111188819360631,
          0.11140879793687165,
          0.11085320922819324,
          0.11082421784085682,
          0.11116207001925424,
          0.11190136168216691,
          0.11056191996254665,
          0.11047471719475412,
          0.1119558308433579,
          0.1104674473404311,
          0.11066112864984869,
          0.11032447831004624,
          0.11118295227931635,
          0.11131676267884327,
          0.11051949998973626,
          0.11073954918689148
         ]
        },
        {
         "mode": "lines",
         "name": "Best Value",
         "type": "scatter",
         "x": [
          0,
          1,
          2,
          3,
          4,
          5,
          6,
          7,
          8,
          9,
          10,
          11,
          12,
          13,
          14,
          15,
          16,
          17,
          18,
          19,
          20,
          21,
          22,
          23,
          24,
          25,
          26,
          27,
          28,
          29,
          30,
          31,
          32,
          33,
          34,
          35,
          36,
          37,
          38,
          39,
          40,
          41,
          42,
          43,
          44,
          45,
          46,
          47,
          48,
          49,
          50,
          51,
          52,
          53,
          54,
          55,
          56,
          57,
          58,
          59,
          60,
          61,
          62,
          63,
          64,
          65,
          66,
          67,
          68,
          69,
          70,
          71,
          72,
          73,
          74,
          75,
          76,
          77,
          78,
          79,
          80,
          81,
          82,
          83,
          84,
          85,
          86,
          87,
          88,
          89,
          90,
          91,
          92,
          93,
          94,
          95,
          96,
          97,
          98,
          99
         ],
         "y": [
          0.11300855032768611,
          0.11300855032768611,
          0.11300855032768611,
          0.11057235943637705,
          0.11057235943637705,
          0.11057235943637705,
          0.11057235943637705,
          0.11057235943637705,
          0.11057235943637705,
          0.11057235943637705,
          0.11025675484162617,
          0.11025675484162617,
          0.11025675484162617,
          0.11025675484162617,
          0.11025675484162617,
          0.11025675484162617,
          0.11025675484162617,
          0.11025675484162617,
          0.11025675484162617,
          0.11025675484162617,
          0.11025675484162617,
          0.11025675484162617,
          0.11025675484162617,
          0.11025675484162617,
          0.11025675484162617,
          0.11025675484162617,
          0.11025675484162617,
          0.11025675484162617,
          0.11025675484162617,
          0.11025675484162617,
          0.11025675484162617,
          0.11025675484162617,
          0.11025675484162617,
          0.11025675484162617,
          0.11025675484162617,
          0.11025675484162617,
          0.11025675484162617,
          0.11025675484162617,
          0.11025675484162617,
          0.11025675484162617,
          0.11025675484162617,
          0.11025675484162617,
          0.11025675484162617,
          0.11025675484162617,
          0.11025675484162617,
          0.11025675484162617,
          0.11025675484162617,
          0.11025675484162617,
          0.11025675484162617,
          0.11025675484162617,
          0.11025675484162617,
          0.11025675484162617,
          0.11025675484162617,
          0.11025675484162617,
          0.11025675484162617,
          0.11025675484162617,
          0.11025675484162617,
          0.11025675484162617,
          0.11025675484162617,
          0.11025675484162617,
          0.11025675484162617,
          0.11025675484162617,
          0.11025675484162617,
          0.11025675484162617,
          0.11025675484162617,
          0.11025675484162617,
          0.11025675484162617,
          0.11025675484162617,
          0.11025675484162617,
          0.11025675484162617,
          0.11025675484162617,
          0.11025675484162617,
          0.11025675484162617,
          0.11025675484162617,
          0.11025675484162617,
          0.11025675484162617,
          0.11025675484162617,
          0.11025675484162617,
          0.11025675484162617,
          0.11025675484162617,
          0.11025675484162617,
          0.11025675484162617,
          0.11025675484162617,
          0.11025675484162617,
          0.11025675484162617,
          0.11025675484162617,
          0.11025675484162617,
          0.11025675484162617,
          0.11025675484162617,
          0.11025675484162617,
          0.11025675484162617,
          0.11025675484162617,
          0.11025675484162617,
          0.11025675484162617,
          0.11025675484162617,
          0.11025675484162617,
          0.11025675484162617,
          0.11025675484162617,
          0.11025675484162617,
          0.11025675484162617
         ]
        },
        {
         "marker": {
          "color": "#cccccc"
         },
         "mode": "markers",
         "name": "Infeasible Trial",
         "showlegend": false,
         "type": "scatter",
         "x": [],
         "y": []
        }
       ],
       "layout": {
        "template": {
         "data": {
          "bar": [
           {
            "error_x": {
             "color": "#2a3f5f"
            },
            "error_y": {
             "color": "#2a3f5f"
            },
            "marker": {
             "line": {
              "color": "#E5ECF6",
              "width": 0.5
             },
             "pattern": {
              "fillmode": "overlay",
              "size": 10,
              "solidity": 0.2
             }
            },
            "type": "bar"
           }
          ],
          "barpolar": [
           {
            "marker": {
             "line": {
              "color": "#E5ECF6",
              "width": 0.5
             },
             "pattern": {
              "fillmode": "overlay",
              "size": 10,
              "solidity": 0.2
             }
            },
            "type": "barpolar"
           }
          ],
          "carpet": [
           {
            "aaxis": {
             "endlinecolor": "#2a3f5f",
             "gridcolor": "white",
             "linecolor": "white",
             "minorgridcolor": "white",
             "startlinecolor": "#2a3f5f"
            },
            "baxis": {
             "endlinecolor": "#2a3f5f",
             "gridcolor": "white",
             "linecolor": "white",
             "minorgridcolor": "white",
             "startlinecolor": "#2a3f5f"
            },
            "type": "carpet"
           }
          ],
          "choropleth": [
           {
            "colorbar": {
             "outlinewidth": 0,
             "ticks": ""
            },
            "type": "choropleth"
           }
          ],
          "contour": [
           {
            "colorbar": {
             "outlinewidth": 0,
             "ticks": ""
            },
            "colorscale": [
             [
              0,
              "#0d0887"
             ],
             [
              0.1111111111111111,
              "#46039f"
             ],
             [
              0.2222222222222222,
              "#7201a8"
             ],
             [
              0.3333333333333333,
              "#9c179e"
             ],
             [
              0.4444444444444444,
              "#bd3786"
             ],
             [
              0.5555555555555556,
              "#d8576b"
             ],
             [
              0.6666666666666666,
              "#ed7953"
             ],
             [
              0.7777777777777778,
              "#fb9f3a"
             ],
             [
              0.8888888888888888,
              "#fdca26"
             ],
             [
              1,
              "#f0f921"
             ]
            ],
            "type": "contour"
           }
          ],
          "contourcarpet": [
           {
            "colorbar": {
             "outlinewidth": 0,
             "ticks": ""
            },
            "type": "contourcarpet"
           }
          ],
          "heatmap": [
           {
            "colorbar": {
             "outlinewidth": 0,
             "ticks": ""
            },
            "colorscale": [
             [
              0,
              "#0d0887"
             ],
             [
              0.1111111111111111,
              "#46039f"
             ],
             [
              0.2222222222222222,
              "#7201a8"
             ],
             [
              0.3333333333333333,
              "#9c179e"
             ],
             [
              0.4444444444444444,
              "#bd3786"
             ],
             [
              0.5555555555555556,
              "#d8576b"
             ],
             [
              0.6666666666666666,
              "#ed7953"
             ],
             [
              0.7777777777777778,
              "#fb9f3a"
             ],
             [
              0.8888888888888888,
              "#fdca26"
             ],
             [
              1,
              "#f0f921"
             ]
            ],
            "type": "heatmap"
           }
          ],
          "heatmapgl": [
           {
            "colorbar": {
             "outlinewidth": 0,
             "ticks": ""
            },
            "colorscale": [
             [
              0,
              "#0d0887"
             ],
             [
              0.1111111111111111,
              "#46039f"
             ],
             [
              0.2222222222222222,
              "#7201a8"
             ],
             [
              0.3333333333333333,
              "#9c179e"
             ],
             [
              0.4444444444444444,
              "#bd3786"
             ],
             [
              0.5555555555555556,
              "#d8576b"
             ],
             [
              0.6666666666666666,
              "#ed7953"
             ],
             [
              0.7777777777777778,
              "#fb9f3a"
             ],
             [
              0.8888888888888888,
              "#fdca26"
             ],
             [
              1,
              "#f0f921"
             ]
            ],
            "type": "heatmapgl"
           }
          ],
          "histogram": [
           {
            "marker": {
             "pattern": {
              "fillmode": "overlay",
              "size": 10,
              "solidity": 0.2
             }
            },
            "type": "histogram"
           }
          ],
          "histogram2d": [
           {
            "colorbar": {
             "outlinewidth": 0,
             "ticks": ""
            },
            "colorscale": [
             [
              0,
              "#0d0887"
             ],
             [
              0.1111111111111111,
              "#46039f"
             ],
             [
              0.2222222222222222,
              "#7201a8"
             ],
             [
              0.3333333333333333,
              "#9c179e"
             ],
             [
              0.4444444444444444,
              "#bd3786"
             ],
             [
              0.5555555555555556,
              "#d8576b"
             ],
             [
              0.6666666666666666,
              "#ed7953"
             ],
             [
              0.7777777777777778,
              "#fb9f3a"
             ],
             [
              0.8888888888888888,
              "#fdca26"
             ],
             [
              1,
              "#f0f921"
             ]
            ],
            "type": "histogram2d"
           }
          ],
          "histogram2dcontour": [
           {
            "colorbar": {
             "outlinewidth": 0,
             "ticks": ""
            },
            "colorscale": [
             [
              0,
              "#0d0887"
             ],
             [
              0.1111111111111111,
              "#46039f"
             ],
             [
              0.2222222222222222,
              "#7201a8"
             ],
             [
              0.3333333333333333,
              "#9c179e"
             ],
             [
              0.4444444444444444,
              "#bd3786"
             ],
             [
              0.5555555555555556,
              "#d8576b"
             ],
             [
              0.6666666666666666,
              "#ed7953"
             ],
             [
              0.7777777777777778,
              "#fb9f3a"
             ],
             [
              0.8888888888888888,
              "#fdca26"
             ],
             [
              1,
              "#f0f921"
             ]
            ],
            "type": "histogram2dcontour"
           }
          ],
          "mesh3d": [
           {
            "colorbar": {
             "outlinewidth": 0,
             "ticks": ""
            },
            "type": "mesh3d"
           }
          ],
          "parcoords": [
           {
            "line": {
             "colorbar": {
              "outlinewidth": 0,
              "ticks": ""
             }
            },
            "type": "parcoords"
           }
          ],
          "pie": [
           {
            "automargin": true,
            "type": "pie"
           }
          ],
          "scatter": [
           {
            "fillpattern": {
             "fillmode": "overlay",
             "size": 10,
             "solidity": 0.2
            },
            "type": "scatter"
           }
          ],
          "scatter3d": [
           {
            "line": {
             "colorbar": {
              "outlinewidth": 0,
              "ticks": ""
             }
            },
            "marker": {
             "colorbar": {
              "outlinewidth": 0,
              "ticks": ""
             }
            },
            "type": "scatter3d"
           }
          ],
          "scattercarpet": [
           {
            "marker": {
             "colorbar": {
              "outlinewidth": 0,
              "ticks": ""
             }
            },
            "type": "scattercarpet"
           }
          ],
          "scattergeo": [
           {
            "marker": {
             "colorbar": {
              "outlinewidth": 0,
              "ticks": ""
             }
            },
            "type": "scattergeo"
           }
          ],
          "scattergl": [
           {
            "marker": {
             "colorbar": {
              "outlinewidth": 0,
              "ticks": ""
             }
            },
            "type": "scattergl"
           }
          ],
          "scattermapbox": [
           {
            "marker": {
             "colorbar": {
              "outlinewidth": 0,
              "ticks": ""
             }
            },
            "type": "scattermapbox"
           }
          ],
          "scatterpolar": [
           {
            "marker": {
             "colorbar": {
              "outlinewidth": 0,
              "ticks": ""
             }
            },
            "type": "scatterpolar"
           }
          ],
          "scatterpolargl": [
           {
            "marker": {
             "colorbar": {
              "outlinewidth": 0,
              "ticks": ""
             }
            },
            "type": "scatterpolargl"
           }
          ],
          "scatterternary": [
           {
            "marker": {
             "colorbar": {
              "outlinewidth": 0,
              "ticks": ""
             }
            },
            "type": "scatterternary"
           }
          ],
          "surface": [
           {
            "colorbar": {
             "outlinewidth": 0,
             "ticks": ""
            },
            "colorscale": [
             [
              0,
              "#0d0887"
             ],
             [
              0.1111111111111111,
              "#46039f"
             ],
             [
              0.2222222222222222,
              "#7201a8"
             ],
             [
              0.3333333333333333,
              "#9c179e"
             ],
             [
              0.4444444444444444,
              "#bd3786"
             ],
             [
              0.5555555555555556,
              "#d8576b"
             ],
             [
              0.6666666666666666,
              "#ed7953"
             ],
             [
              0.7777777777777778,
              "#fb9f3a"
             ],
             [
              0.8888888888888888,
              "#fdca26"
             ],
             [
              1,
              "#f0f921"
             ]
            ],
            "type": "surface"
           }
          ],
          "table": [
           {
            "cells": {
             "fill": {
              "color": "#EBF0F8"
             },
             "line": {
              "color": "white"
             }
            },
            "header": {
             "fill": {
              "color": "#C8D4E3"
             },
             "line": {
              "color": "white"
             }
            },
            "type": "table"
           }
          ]
         },
         "layout": {
          "annotationdefaults": {
           "arrowcolor": "#2a3f5f",
           "arrowhead": 0,
           "arrowwidth": 1
          },
          "autotypenumbers": "strict",
          "coloraxis": {
           "colorbar": {
            "outlinewidth": 0,
            "ticks": ""
           }
          },
          "colorscale": {
           "diverging": [
            [
             0,
             "#8e0152"
            ],
            [
             0.1,
             "#c51b7d"
            ],
            [
             0.2,
             "#de77ae"
            ],
            [
             0.3,
             "#f1b6da"
            ],
            [
             0.4,
             "#fde0ef"
            ],
            [
             0.5,
             "#f7f7f7"
            ],
            [
             0.6,
             "#e6f5d0"
            ],
            [
             0.7,
             "#b8e186"
            ],
            [
             0.8,
             "#7fbc41"
            ],
            [
             0.9,
             "#4d9221"
            ],
            [
             1,
             "#276419"
            ]
           ],
           "sequential": [
            [
             0,
             "#0d0887"
            ],
            [
             0.1111111111111111,
             "#46039f"
            ],
            [
             0.2222222222222222,
             "#7201a8"
            ],
            [
             0.3333333333333333,
             "#9c179e"
            ],
            [
             0.4444444444444444,
             "#bd3786"
            ],
            [
             0.5555555555555556,
             "#d8576b"
            ],
            [
             0.6666666666666666,
             "#ed7953"
            ],
            [
             0.7777777777777778,
             "#fb9f3a"
            ],
            [
             0.8888888888888888,
             "#fdca26"
            ],
            [
             1,
             "#f0f921"
            ]
           ],
           "sequentialminus": [
            [
             0,
             "#0d0887"
            ],
            [
             0.1111111111111111,
             "#46039f"
            ],
            [
             0.2222222222222222,
             "#7201a8"
            ],
            [
             0.3333333333333333,
             "#9c179e"
            ],
            [
             0.4444444444444444,
             "#bd3786"
            ],
            [
             0.5555555555555556,
             "#d8576b"
            ],
            [
             0.6666666666666666,
             "#ed7953"
            ],
            [
             0.7777777777777778,
             "#fb9f3a"
            ],
            [
             0.8888888888888888,
             "#fdca26"
            ],
            [
             1,
             "#f0f921"
            ]
           ]
          },
          "colorway": [
           "#636efa",
           "#EF553B",
           "#00cc96",
           "#ab63fa",
           "#FFA15A",
           "#19d3f3",
           "#FF6692",
           "#B6E880",
           "#FF97FF",
           "#FECB52"
          ],
          "font": {
           "color": "#2a3f5f"
          },
          "geo": {
           "bgcolor": "white",
           "lakecolor": "white",
           "landcolor": "#E5ECF6",
           "showlakes": true,
           "showland": true,
           "subunitcolor": "white"
          },
          "hoverlabel": {
           "align": "left"
          },
          "hovermode": "closest",
          "mapbox": {
           "style": "light"
          },
          "paper_bgcolor": "white",
          "plot_bgcolor": "#E5ECF6",
          "polar": {
           "angularaxis": {
            "gridcolor": "white",
            "linecolor": "white",
            "ticks": ""
           },
           "bgcolor": "#E5ECF6",
           "radialaxis": {
            "gridcolor": "white",
            "linecolor": "white",
            "ticks": ""
           }
          },
          "scene": {
           "xaxis": {
            "backgroundcolor": "#E5ECF6",
            "gridcolor": "white",
            "gridwidth": 2,
            "linecolor": "white",
            "showbackground": true,
            "ticks": "",
            "zerolinecolor": "white"
           },
           "yaxis": {
            "backgroundcolor": "#E5ECF6",
            "gridcolor": "white",
            "gridwidth": 2,
            "linecolor": "white",
            "showbackground": true,
            "ticks": "",
            "zerolinecolor": "white"
           },
           "zaxis": {
            "backgroundcolor": "#E5ECF6",
            "gridcolor": "white",
            "gridwidth": 2,
            "linecolor": "white",
            "showbackground": true,
            "ticks": "",
            "zerolinecolor": "white"
           }
          },
          "shapedefaults": {
           "line": {
            "color": "#2a3f5f"
           }
          },
          "ternary": {
           "aaxis": {
            "gridcolor": "white",
            "linecolor": "white",
            "ticks": ""
           },
           "baxis": {
            "gridcolor": "white",
            "linecolor": "white",
            "ticks": ""
           },
           "bgcolor": "#E5ECF6",
           "caxis": {
            "gridcolor": "white",
            "linecolor": "white",
            "ticks": ""
           }
          },
          "title": {
           "x": 0.05
          },
          "xaxis": {
           "automargin": true,
           "gridcolor": "white",
           "linecolor": "white",
           "ticks": "",
           "title": {
            "standoff": 15
           },
           "zerolinecolor": "white",
           "zerolinewidth": 2
          },
          "yaxis": {
           "automargin": true,
           "gridcolor": "white",
           "linecolor": "white",
           "ticks": "",
           "title": {
            "standoff": 15
           },
           "zerolinecolor": "white",
           "zerolinewidth": 2
          }
         }
        },
        "title": {
         "text": "Optimization History Plot"
        },
        "xaxis": {
         "title": {
          "text": "Trial"
         }
        },
        "yaxis": {
         "title": {
          "text": "Objective Value"
         }
        }
       }
      }
     },
     "metadata": {},
     "output_type": "display_data"
    }
   ],
   "source": [
    "optuna.visualization.plot_optimization_history(study)"
   ]
  },
  {
   "cell_type": "code",
   "execution_count": 11,
   "metadata": {},
   "outputs": [
    {
     "data": {
      "application/vnd.plotly.v1+json": {
       "config": {
        "plotlyServerURL": "https://plot.ly"
       },
       "data": [
        {
         "cliponaxis": false,
         "hovertemplate": [
          "feature_fraction (FloatDistribution): 0.025062337033148543<extra></extra>",
          "bagging_freq (IntDistribution): 0.02614580457985952<extra></extra>",
          "bagging_fraction (FloatDistribution): 0.047784896861795344<extra></extra>",
          "lambda_l2 (FloatDistribution): 0.0606244056915697<extra></extra>",
          "num_leaves (IntDistribution): 0.38592483330506683<extra></extra>",
          "lambda_l1 (FloatDistribution): 0.45445772252856015<extra></extra>"
         ],
         "name": "Objective Value",
         "orientation": "h",
         "text": [
          "0.03",
          "0.03",
          "0.05",
          "0.06",
          "0.39",
          "0.45"
         ],
         "textposition": "outside",
         "type": "bar",
         "x": [
          0.025062337033148543,
          0.02614580457985952,
          0.047784896861795344,
          0.0606244056915697,
          0.38592483330506683,
          0.45445772252856015
         ],
         "y": [
          "feature_fraction",
          "bagging_freq",
          "bagging_fraction",
          "lambda_l2",
          "num_leaves",
          "lambda_l1"
         ]
        }
       ],
       "layout": {
        "template": {
         "data": {
          "bar": [
           {
            "error_x": {
             "color": "#2a3f5f"
            },
            "error_y": {
             "color": "#2a3f5f"
            },
            "marker": {
             "line": {
              "color": "#E5ECF6",
              "width": 0.5
             },
             "pattern": {
              "fillmode": "overlay",
              "size": 10,
              "solidity": 0.2
             }
            },
            "type": "bar"
           }
          ],
          "barpolar": [
           {
            "marker": {
             "line": {
              "color": "#E5ECF6",
              "width": 0.5
             },
             "pattern": {
              "fillmode": "overlay",
              "size": 10,
              "solidity": 0.2
             }
            },
            "type": "barpolar"
           }
          ],
          "carpet": [
           {
            "aaxis": {
             "endlinecolor": "#2a3f5f",
             "gridcolor": "white",
             "linecolor": "white",
             "minorgridcolor": "white",
             "startlinecolor": "#2a3f5f"
            },
            "baxis": {
             "endlinecolor": "#2a3f5f",
             "gridcolor": "white",
             "linecolor": "white",
             "minorgridcolor": "white",
             "startlinecolor": "#2a3f5f"
            },
            "type": "carpet"
           }
          ],
          "choropleth": [
           {
            "colorbar": {
             "outlinewidth": 0,
             "ticks": ""
            },
            "type": "choropleth"
           }
          ],
          "contour": [
           {
            "colorbar": {
             "outlinewidth": 0,
             "ticks": ""
            },
            "colorscale": [
             [
              0,
              "#0d0887"
             ],
             [
              0.1111111111111111,
              "#46039f"
             ],
             [
              0.2222222222222222,
              "#7201a8"
             ],
             [
              0.3333333333333333,
              "#9c179e"
             ],
             [
              0.4444444444444444,
              "#bd3786"
             ],
             [
              0.5555555555555556,
              "#d8576b"
             ],
             [
              0.6666666666666666,
              "#ed7953"
             ],
             [
              0.7777777777777778,
              "#fb9f3a"
             ],
             [
              0.8888888888888888,
              "#fdca26"
             ],
             [
              1,
              "#f0f921"
             ]
            ],
            "type": "contour"
           }
          ],
          "contourcarpet": [
           {
            "colorbar": {
             "outlinewidth": 0,
             "ticks": ""
            },
            "type": "contourcarpet"
           }
          ],
          "heatmap": [
           {
            "colorbar": {
             "outlinewidth": 0,
             "ticks": ""
            },
            "colorscale": [
             [
              0,
              "#0d0887"
             ],
             [
              0.1111111111111111,
              "#46039f"
             ],
             [
              0.2222222222222222,
              "#7201a8"
             ],
             [
              0.3333333333333333,
              "#9c179e"
             ],
             [
              0.4444444444444444,
              "#bd3786"
             ],
             [
              0.5555555555555556,
              "#d8576b"
             ],
             [
              0.6666666666666666,
              "#ed7953"
             ],
             [
              0.7777777777777778,
              "#fb9f3a"
             ],
             [
              0.8888888888888888,
              "#fdca26"
             ],
             [
              1,
              "#f0f921"
             ]
            ],
            "type": "heatmap"
           }
          ],
          "heatmapgl": [
           {
            "colorbar": {
             "outlinewidth": 0,
             "ticks": ""
            },
            "colorscale": [
             [
              0,
              "#0d0887"
             ],
             [
              0.1111111111111111,
              "#46039f"
             ],
             [
              0.2222222222222222,
              "#7201a8"
             ],
             [
              0.3333333333333333,
              "#9c179e"
             ],
             [
              0.4444444444444444,
              "#bd3786"
             ],
             [
              0.5555555555555556,
              "#d8576b"
             ],
             [
              0.6666666666666666,
              "#ed7953"
             ],
             [
              0.7777777777777778,
              "#fb9f3a"
             ],
             [
              0.8888888888888888,
              "#fdca26"
             ],
             [
              1,
              "#f0f921"
             ]
            ],
            "type": "heatmapgl"
           }
          ],
          "histogram": [
           {
            "marker": {
             "pattern": {
              "fillmode": "overlay",
              "size": 10,
              "solidity": 0.2
             }
            },
            "type": "histogram"
           }
          ],
          "histogram2d": [
           {
            "colorbar": {
             "outlinewidth": 0,
             "ticks": ""
            },
            "colorscale": [
             [
              0,
              "#0d0887"
             ],
             [
              0.1111111111111111,
              "#46039f"
             ],
             [
              0.2222222222222222,
              "#7201a8"
             ],
             [
              0.3333333333333333,
              "#9c179e"
             ],
             [
              0.4444444444444444,
              "#bd3786"
             ],
             [
              0.5555555555555556,
              "#d8576b"
             ],
             [
              0.6666666666666666,
              "#ed7953"
             ],
             [
              0.7777777777777778,
              "#fb9f3a"
             ],
             [
              0.8888888888888888,
              "#fdca26"
             ],
             [
              1,
              "#f0f921"
             ]
            ],
            "type": "histogram2d"
           }
          ],
          "histogram2dcontour": [
           {
            "colorbar": {
             "outlinewidth": 0,
             "ticks": ""
            },
            "colorscale": [
             [
              0,
              "#0d0887"
             ],
             [
              0.1111111111111111,
              "#46039f"
             ],
             [
              0.2222222222222222,
              "#7201a8"
             ],
             [
              0.3333333333333333,
              "#9c179e"
             ],
             [
              0.4444444444444444,
              "#bd3786"
             ],
             [
              0.5555555555555556,
              "#d8576b"
             ],
             [
              0.6666666666666666,
              "#ed7953"
             ],
             [
              0.7777777777777778,
              "#fb9f3a"
             ],
             [
              0.8888888888888888,
              "#fdca26"
             ],
             [
              1,
              "#f0f921"
             ]
            ],
            "type": "histogram2dcontour"
           }
          ],
          "mesh3d": [
           {
            "colorbar": {
             "outlinewidth": 0,
             "ticks": ""
            },
            "type": "mesh3d"
           }
          ],
          "parcoords": [
           {
            "line": {
             "colorbar": {
              "outlinewidth": 0,
              "ticks": ""
             }
            },
            "type": "parcoords"
           }
          ],
          "pie": [
           {
            "automargin": true,
            "type": "pie"
           }
          ],
          "scatter": [
           {
            "fillpattern": {
             "fillmode": "overlay",
             "size": 10,
             "solidity": 0.2
            },
            "type": "scatter"
           }
          ],
          "scatter3d": [
           {
            "line": {
             "colorbar": {
              "outlinewidth": 0,
              "ticks": ""
             }
            },
            "marker": {
             "colorbar": {
              "outlinewidth": 0,
              "ticks": ""
             }
            },
            "type": "scatter3d"
           }
          ],
          "scattercarpet": [
           {
            "marker": {
             "colorbar": {
              "outlinewidth": 0,
              "ticks": ""
             }
            },
            "type": "scattercarpet"
           }
          ],
          "scattergeo": [
           {
            "marker": {
             "colorbar": {
              "outlinewidth": 0,
              "ticks": ""
             }
            },
            "type": "scattergeo"
           }
          ],
          "scattergl": [
           {
            "marker": {
             "colorbar": {
              "outlinewidth": 0,
              "ticks": ""
             }
            },
            "type": "scattergl"
           }
          ],
          "scattermapbox": [
           {
            "marker": {
             "colorbar": {
              "outlinewidth": 0,
              "ticks": ""
             }
            },
            "type": "scattermapbox"
           }
          ],
          "scatterpolar": [
           {
            "marker": {
             "colorbar": {
              "outlinewidth": 0,
              "ticks": ""
             }
            },
            "type": "scatterpolar"
           }
          ],
          "scatterpolargl": [
           {
            "marker": {
             "colorbar": {
              "outlinewidth": 0,
              "ticks": ""
             }
            },
            "type": "scatterpolargl"
           }
          ],
          "scatterternary": [
           {
            "marker": {
             "colorbar": {
              "outlinewidth": 0,
              "ticks": ""
             }
            },
            "type": "scatterternary"
           }
          ],
          "surface": [
           {
            "colorbar": {
             "outlinewidth": 0,
             "ticks": ""
            },
            "colorscale": [
             [
              0,
              "#0d0887"
             ],
             [
              0.1111111111111111,
              "#46039f"
             ],
             [
              0.2222222222222222,
              "#7201a8"
             ],
             [
              0.3333333333333333,
              "#9c179e"
             ],
             [
              0.4444444444444444,
              "#bd3786"
             ],
             [
              0.5555555555555556,
              "#d8576b"
             ],
             [
              0.6666666666666666,
              "#ed7953"
             ],
             [
              0.7777777777777778,
              "#fb9f3a"
             ],
             [
              0.8888888888888888,
              "#fdca26"
             ],
             [
              1,
              "#f0f921"
             ]
            ],
            "type": "surface"
           }
          ],
          "table": [
           {
            "cells": {
             "fill": {
              "color": "#EBF0F8"
             },
             "line": {
              "color": "white"
             }
            },
            "header": {
             "fill": {
              "color": "#C8D4E3"
             },
             "line": {
              "color": "white"
             }
            },
            "type": "table"
           }
          ]
         },
         "layout": {
          "annotationdefaults": {
           "arrowcolor": "#2a3f5f",
           "arrowhead": 0,
           "arrowwidth": 1
          },
          "autotypenumbers": "strict",
          "coloraxis": {
           "colorbar": {
            "outlinewidth": 0,
            "ticks": ""
           }
          },
          "colorscale": {
           "diverging": [
            [
             0,
             "#8e0152"
            ],
            [
             0.1,
             "#c51b7d"
            ],
            [
             0.2,
             "#de77ae"
            ],
            [
             0.3,
             "#f1b6da"
            ],
            [
             0.4,
             "#fde0ef"
            ],
            [
             0.5,
             "#f7f7f7"
            ],
            [
             0.6,
             "#e6f5d0"
            ],
            [
             0.7,
             "#b8e186"
            ],
            [
             0.8,
             "#7fbc41"
            ],
            [
             0.9,
             "#4d9221"
            ],
            [
             1,
             "#276419"
            ]
           ],
           "sequential": [
            [
             0,
             "#0d0887"
            ],
            [
             0.1111111111111111,
             "#46039f"
            ],
            [
             0.2222222222222222,
             "#7201a8"
            ],
            [
             0.3333333333333333,
             "#9c179e"
            ],
            [
             0.4444444444444444,
             "#bd3786"
            ],
            [
             0.5555555555555556,
             "#d8576b"
            ],
            [
             0.6666666666666666,
             "#ed7953"
            ],
            [
             0.7777777777777778,
             "#fb9f3a"
            ],
            [
             0.8888888888888888,
             "#fdca26"
            ],
            [
             1,
             "#f0f921"
            ]
           ],
           "sequentialminus": [
            [
             0,
             "#0d0887"
            ],
            [
             0.1111111111111111,
             "#46039f"
            ],
            [
             0.2222222222222222,
             "#7201a8"
            ],
            [
             0.3333333333333333,
             "#9c179e"
            ],
            [
             0.4444444444444444,
             "#bd3786"
            ],
            [
             0.5555555555555556,
             "#d8576b"
            ],
            [
             0.6666666666666666,
             "#ed7953"
            ],
            [
             0.7777777777777778,
             "#fb9f3a"
            ],
            [
             0.8888888888888888,
             "#fdca26"
            ],
            [
             1,
             "#f0f921"
            ]
           ]
          },
          "colorway": [
           "#636efa",
           "#EF553B",
           "#00cc96",
           "#ab63fa",
           "#FFA15A",
           "#19d3f3",
           "#FF6692",
           "#B6E880",
           "#FF97FF",
           "#FECB52"
          ],
          "font": {
           "color": "#2a3f5f"
          },
          "geo": {
           "bgcolor": "white",
           "lakecolor": "white",
           "landcolor": "#E5ECF6",
           "showlakes": true,
           "showland": true,
           "subunitcolor": "white"
          },
          "hoverlabel": {
           "align": "left"
          },
          "hovermode": "closest",
          "mapbox": {
           "style": "light"
          },
          "paper_bgcolor": "white",
          "plot_bgcolor": "#E5ECF6",
          "polar": {
           "angularaxis": {
            "gridcolor": "white",
            "linecolor": "white",
            "ticks": ""
           },
           "bgcolor": "#E5ECF6",
           "radialaxis": {
            "gridcolor": "white",
            "linecolor": "white",
            "ticks": ""
           }
          },
          "scene": {
           "xaxis": {
            "backgroundcolor": "#E5ECF6",
            "gridcolor": "white",
            "gridwidth": 2,
            "linecolor": "white",
            "showbackground": true,
            "ticks": "",
            "zerolinecolor": "white"
           },
           "yaxis": {
            "backgroundcolor": "#E5ECF6",
            "gridcolor": "white",
            "gridwidth": 2,
            "linecolor": "white",
            "showbackground": true,
            "ticks": "",
            "zerolinecolor": "white"
           },
           "zaxis": {
            "backgroundcolor": "#E5ECF6",
            "gridcolor": "white",
            "gridwidth": 2,
            "linecolor": "white",
            "showbackground": true,
            "ticks": "",
            "zerolinecolor": "white"
           }
          },
          "shapedefaults": {
           "line": {
            "color": "#2a3f5f"
           }
          },
          "ternary": {
           "aaxis": {
            "gridcolor": "white",
            "linecolor": "white",
            "ticks": ""
           },
           "baxis": {
            "gridcolor": "white",
            "linecolor": "white",
            "ticks": ""
           },
           "bgcolor": "#E5ECF6",
           "caxis": {
            "gridcolor": "white",
            "linecolor": "white",
            "ticks": ""
           }
          },
          "title": {
           "x": 0.05
          },
          "xaxis": {
           "automargin": true,
           "gridcolor": "white",
           "linecolor": "white",
           "ticks": "",
           "title": {
            "standoff": 15
           },
           "zerolinecolor": "white",
           "zerolinewidth": 2
          },
          "yaxis": {
           "automargin": true,
           "gridcolor": "white",
           "linecolor": "white",
           "ticks": "",
           "title": {
            "standoff": 15
           },
           "zerolinecolor": "white",
           "zerolinewidth": 2
          }
         }
        },
        "title": {
         "text": "Hyperparameter Importances"
        },
        "xaxis": {
         "title": {
          "text": "Hyperparameter Importance"
         }
        },
        "yaxis": {
         "title": {
          "text": "Hyperparameter"
         }
        }
       }
      }
     },
     "metadata": {},
     "output_type": "display_data"
    }
   ],
   "source": [
    "optuna.visualization.plot_param_importances(study)"
   ]
  },
  {
   "cell_type": "code",
   "execution_count": 13,
   "metadata": {},
   "outputs": [
    {
     "data": {
      "application/vnd.plotly.v1+json": {
       "config": {
        "plotlyServerURL": "https://plot.ly"
       },
       "data": [
        {
         "marker": {
          "color": [
           0,
           1,
           2,
           3,
           4,
           5,
           6,
           7,
           8,
           9,
           10,
           11,
           12,
           13,
           14,
           15,
           16,
           17,
           18,
           19,
           20,
           21,
           22,
           23,
           24,
           25,
           26,
           27,
           28,
           29,
           30,
           31,
           32,
           33,
           34,
           35,
           36,
           37,
           38,
           39,
           40,
           41,
           42,
           43,
           44,
           45,
           46,
           47,
           48,
           49,
           50,
           51,
           52,
           53,
           54,
           55,
           56,
           57,
           58,
           59,
           60,
           61,
           62,
           63,
           64,
           65,
           66,
           67,
           68,
           69,
           70,
           71,
           72,
           73,
           74,
           75,
           76,
           77,
           78,
           79,
           80,
           81,
           82,
           83,
           84,
           85,
           86,
           87,
           88,
           89,
           90,
           91,
           92,
           93,
           94,
           95,
           96,
           97,
           98,
           99
          ],
          "colorbar": {
           "title": {
            "text": "Trial"
           },
           "x": 1,
           "xpad": 40
          },
          "colorscale": [
           [
            0,
            "rgb(247,251,255)"
           ],
           [
            0.125,
            "rgb(222,235,247)"
           ],
           [
            0.25,
            "rgb(198,219,239)"
           ],
           [
            0.375,
            "rgb(158,202,225)"
           ],
           [
            0.5,
            "rgb(107,174,214)"
           ],
           [
            0.625,
            "rgb(66,146,198)"
           ],
           [
            0.75,
            "rgb(33,113,181)"
           ],
           [
            0.875,
            "rgb(8,81,156)"
           ],
           [
            1,
            "rgb(8,48,107)"
           ]
          ],
          "line": {
           "color": "Grey",
           "width": 0.5
          },
          "showscale": true
         },
         "mode": "markers",
         "name": "Feasible Trial",
         "showlegend": false,
         "type": "scatter",
         "x": [
          0.6066721591502989,
          0.9512406679331895,
          0.8230028511160352,
          0.5184013913809771,
          0.7858613619514973,
          0.43986584329440026,
          0.8517537342165583,
          0.9055583963573264,
          0.6547208477721069,
          0.4501387755283267,
          0.5628920345673979,
          0.5500686964166205,
          0.5435770575118117,
          0.7212470003575093,
          0.7323842917707483,
          0.689744939507025,
          0.6121202981572978,
          0.7497408992525068,
          0.6476617902816576,
          0.40615974953070066,
          0.4813006793341281,
          0.5940553324046975,
          0.6674647512733491,
          0.6122999227952662,
          0.7157340678559564,
          0.5762898004162672,
          0.6392355900314539,
          0.771452577038785,
          0.5002814645543783,
          0.6108172064588203,
          0.6942560102014885,
          0.5799058432270303,
          0.6214056909424165,
          0.5472376495738919,
          0.6779928439468513,
          0.8050471208622965,
          0.8595016034850592,
          0.979435510588964,
          0.6825413238955844,
          0.7449168779411455,
          0.8388382112494659,
          0.6247512463801616,
          0.521140830204073,
          0.5011510035456053,
          0.5631996068527442,
          0.5306000189601456,
          0.4576258340575922,
          0.7145460406502431,
          0.6612220532751157,
          0.7777103255720951,
          0.5143630281248467,
          0.5673279703190978,
          0.5574341127083162,
          0.5906856765237988,
          0.5296588680050576,
          0.43292711877413803,
          0.4733342293289461,
          0.6446703146220599,
          0.6707431901368138,
          0.6755175081468993,
          0.7102265075566949,
          0.6740410457974133,
          0.730367463823338,
          0.6946975652521846,
          0.7566090989895614,
          0.6401482268316611,
          0.6919118070327548,
          0.667464718727341,
          0.7308440238418832,
          0.5994321780805919,
          0.6261979022959098,
          0.6605738434472319,
          0.7026522847868844,
          0.6824062884102563,
          0.5845844995792095,
          0.6097114197680997,
          0.6095318874697062,
          0.6446886863807764,
          0.6274309000314501,
          0.6986376678792299,
          0.7214492389339313,
          0.7552401700368341,
          0.6741153416875513,
          0.790625312312283,
          0.6027220562964346,
          0.5359881397273903,
          0.657867270929221,
          0.9073233202235443,
          0.5117442082928672,
          0.578807806730142,
          0.6879996227220359,
          0.6756926312123993,
          0.7430073968818733,
          0.627076209141711,
          0.6327448082533786,
          0.6521281171911995,
          0.6486758232227583,
          0.7110692421264106,
          0.6187364945017764,
          0.6727783597164562
         ],
         "xaxis": "x",
         "y": [
          0.11300855032768611,
          0.11346710180827918,
          0.11326447147267803,
          0.11057235943637705,
          0.11309320947714253,
          0.11149908291763808,
          0.11310857835647233,
          0.11329821799226639,
          0.11334591671362938,
          0.11280490014960101,
          0.11025675484162617,
          0.11081166545489164,
          0.11083980478515232,
          0.1104134835644495,
          0.11231875931805475,
          0.11174965884591542,
          0.11048957355983777,
          0.11172489288152455,
          0.1128595170803678,
          0.11081818200880617,
          0.11231300789802355,
          0.1106458078291237,
          0.11105478105491128,
          0.11056971694403496,
          0.1112385486474552,
          0.11149299587976484,
          0.1120862780002073,
          0.11144158027708477,
          0.11075921873963929,
          0.11257035636158472,
          0.1118922146871382,
          0.11057384045795172,
          0.11094296769792635,
          0.11093199779317878,
          0.11027271346681958,
          0.11098201109711835,
          0.11132899025282368,
          0.11178598965906815,
          0.1109238373675254,
          0.11185790286682885,
          0.1127817488713133,
          0.11093089538393087,
          0.11049203105594205,
          0.11154893695075112,
          0.11056935042194148,
          0.11151775683732,
          0.11077639559151548,
          0.11153136052141122,
          0.11138352312526563,
          0.11189395758254542,
          0.11108799491752301,
          0.11063160235524686,
          0.11100326589326504,
          0.11105288412698652,
          0.11073942511550018,
          0.11089736422358958,
          0.1118333260715663,
          0.11175146666825332,
          0.11036139276354445,
          0.11054935525729788,
          0.1117507439946854,
          0.11040839182671766,
          0.11073234928747987,
          0.11026187464493624,
          0.11065394023151963,
          0.11114116327828641,
          0.11161417126372629,
          0.11063053442058131,
          0.11115043289021831,
          0.11065958750024701,
          0.11182662443513608,
          0.11052999922122862,
          0.11109668099041103,
          0.11067722537677908,
          0.11107156378370267,
          0.11029668846290462,
          0.11061295996298728,
          0.11121650248017649,
          0.11150128431296176,
          0.1110948388757322,
          0.11132264959386357,
          0.11057008859916309,
          0.11050039984799719,
          0.1108056568192179,
          0.1111188819360631,
          0.11140879793687165,
          0.11085320922819324,
          0.11082421784085682,
          0.11116207001925424,
          0.11190136168216691,
          0.11056191996254665,
          0.11047471719475412,
          0.1119558308433579,
          0.1104674473404311,
          0.11066112864984869,
          0.11032447831004624,
          0.11118295227931635,
          0.11131676267884327,
          0.11051949998973626,
          0.11073954918689148
         ],
         "yaxis": "y"
        },
        {
         "marker": {
          "color": [
           0,
           1,
           2,
           3,
           4,
           5,
           6,
           7,
           8,
           9,
           10,
           11,
           12,
           13,
           14,
           15,
           16,
           17,
           18,
           19,
           20,
           21,
           22,
           23,
           24,
           25,
           26,
           27,
           28,
           29,
           30,
           31,
           32,
           33,
           34,
           35,
           36,
           37,
           38,
           39,
           40,
           41,
           42,
           43,
           44,
           45,
           46,
           47,
           48,
           49,
           50,
           51,
           52,
           53,
           54,
           55,
           56,
           57,
           58,
           59,
           60,
           61,
           62,
           63,
           64,
           65,
           66,
           67,
           68,
           69,
           70,
           71,
           72,
           73,
           74,
           75,
           76,
           77,
           78,
           79,
           80,
           81,
           82,
           83,
           84,
           85,
           86,
           87,
           88,
           89,
           90,
           91,
           92,
           93,
           94,
           95,
           96,
           97,
           98,
           99
          ],
          "colorbar": {
           "title": {
            "text": "Trial"
           },
           "x": 1,
           "xpad": 40
          },
          "colorscale": [
           [
            0,
            "rgb(247,251,255)"
           ],
           [
            0.125,
            "rgb(222,235,247)"
           ],
           [
            0.25,
            "rgb(198,219,239)"
           ],
           [
            0.375,
            "rgb(158,202,225)"
           ],
           [
            0.5,
            "rgb(107,174,214)"
           ],
           [
            0.625,
            "rgb(66,146,198)"
           ],
           [
            0.75,
            "rgb(33,113,181)"
           ],
           [
            0.875,
            "rgb(8,81,156)"
           ],
           [
            1,
            "rgb(8,48,107)"
           ]
          ],
          "line": {
           "color": "Grey",
           "width": 0.5
          },
          "showscale": false
         },
         "mode": "markers",
         "name": "Feasible Trial",
         "showlegend": false,
         "type": "scatter",
         "x": [
          4,
          5,
          1,
          2,
          3,
          4,
          1,
          3,
          2,
          5,
          7,
          6,
          7,
          7,
          7,
          6,
          7,
          6,
          5,
          7,
          6,
          7,
          7,
          6,
          7,
          6,
          5,
          7,
          6,
          4,
          7,
          6,
          7,
          5,
          6,
          7,
          6,
          5,
          7,
          6,
          3,
          6,
          7,
          7,
          7,
          7,
          7,
          2,
          6,
          5,
          4,
          7,
          7,
          1,
          7,
          7,
          6,
          7,
          6,
          6,
          5,
          6,
          6,
          6,
          5,
          6,
          6,
          6,
          5,
          6,
          3,
          7,
          7,
          7,
          6,
          7,
          6,
          6,
          5,
          7,
          4,
          7,
          7,
          7,
          7,
          6,
          7,
          6,
          7,
          7,
          7,
          7,
          7,
          7,
          7,
          6,
          6,
          6,
          6,
          5
         ],
         "xaxis": "x2",
         "y": [
          0.11300855032768611,
          0.11346710180827918,
          0.11326447147267803,
          0.11057235943637705,
          0.11309320947714253,
          0.11149908291763808,
          0.11310857835647233,
          0.11329821799226639,
          0.11334591671362938,
          0.11280490014960101,
          0.11025675484162617,
          0.11081166545489164,
          0.11083980478515232,
          0.1104134835644495,
          0.11231875931805475,
          0.11174965884591542,
          0.11048957355983777,
          0.11172489288152455,
          0.1128595170803678,
          0.11081818200880617,
          0.11231300789802355,
          0.1106458078291237,
          0.11105478105491128,
          0.11056971694403496,
          0.1112385486474552,
          0.11149299587976484,
          0.1120862780002073,
          0.11144158027708477,
          0.11075921873963929,
          0.11257035636158472,
          0.1118922146871382,
          0.11057384045795172,
          0.11094296769792635,
          0.11093199779317878,
          0.11027271346681958,
          0.11098201109711835,
          0.11132899025282368,
          0.11178598965906815,
          0.1109238373675254,
          0.11185790286682885,
          0.1127817488713133,
          0.11093089538393087,
          0.11049203105594205,
          0.11154893695075112,
          0.11056935042194148,
          0.11151775683732,
          0.11077639559151548,
          0.11153136052141122,
          0.11138352312526563,
          0.11189395758254542,
          0.11108799491752301,
          0.11063160235524686,
          0.11100326589326504,
          0.11105288412698652,
          0.11073942511550018,
          0.11089736422358958,
          0.1118333260715663,
          0.11175146666825332,
          0.11036139276354445,
          0.11054935525729788,
          0.1117507439946854,
          0.11040839182671766,
          0.11073234928747987,
          0.11026187464493624,
          0.11065394023151963,
          0.11114116327828641,
          0.11161417126372629,
          0.11063053442058131,
          0.11115043289021831,
          0.11065958750024701,
          0.11182662443513608,
          0.11052999922122862,
          0.11109668099041103,
          0.11067722537677908,
          0.11107156378370267,
          0.11029668846290462,
          0.11061295996298728,
          0.11121650248017649,
          0.11150128431296176,
          0.1110948388757322,
          0.11132264959386357,
          0.11057008859916309,
          0.11050039984799719,
          0.1108056568192179,
          0.1111188819360631,
          0.11140879793687165,
          0.11085320922819324,
          0.11082421784085682,
          0.11116207001925424,
          0.11190136168216691,
          0.11056191996254665,
          0.11047471719475412,
          0.1119558308433579,
          0.1104674473404311,
          0.11066112864984869,
          0.11032447831004624,
          0.11118295227931635,
          0.11131676267884327,
          0.11051949998973626,
          0.11073954918689148
         ],
         "yaxis": "y2"
        },
        {
         "marker": {
          "color": [
           0,
           1,
           2,
           3,
           4,
           5,
           6,
           7,
           8,
           9,
           10,
           11,
           12,
           13,
           14,
           15,
           16,
           17,
           18,
           19,
           20,
           21,
           22,
           23,
           24,
           25,
           26,
           27,
           28,
           29,
           30,
           31,
           32,
           33,
           34,
           35,
           36,
           37,
           38,
           39,
           40,
           41,
           42,
           43,
           44,
           45,
           46,
           47,
           48,
           49,
           50,
           51,
           52,
           53,
           54,
           55,
           56,
           57,
           58,
           59,
           60,
           61,
           62,
           63,
           64,
           65,
           66,
           67,
           68,
           69,
           70,
           71,
           72,
           73,
           74,
           75,
           76,
           77,
           78,
           79,
           80,
           81,
           82,
           83,
           84,
           85,
           86,
           87,
           88,
           89,
           90,
           91,
           92,
           93,
           94,
           95,
           96,
           97,
           98,
           99
          ],
          "colorbar": {
           "title": {
            "text": "Trial"
           },
           "x": 1,
           "xpad": 40
          },
          "colorscale": [
           [
            0,
            "rgb(247,251,255)"
           ],
           [
            0.125,
            "rgb(222,235,247)"
           ],
           [
            0.25,
            "rgb(198,219,239)"
           ],
           [
            0.375,
            "rgb(158,202,225)"
           ],
           [
            0.5,
            "rgb(107,174,214)"
           ],
           [
            0.625,
            "rgb(66,146,198)"
           ],
           [
            0.75,
            "rgb(33,113,181)"
           ],
           [
            0.875,
            "rgb(8,81,156)"
           ],
           [
            1,
            "rgb(8,48,107)"
           ]
          ],
          "line": {
           "color": "Grey",
           "width": 0.5
          },
          "showscale": false
         },
         "mode": "markers",
         "name": "Feasible Trial",
         "showlegend": false,
         "type": "scatter",
         "x": [
          0.9326584398328479,
          0.6561196396312878,
          0.5739403476577157,
          0.4769802793243531,
          0.5378243419053065,
          0.4094688689191721,
          0.42167711132577,
          0.9285112683042583,
          0.9341290905898565,
          0.6446257700205262,
          0.8252389166368176,
          0.7986848718624044,
          0.8104135195197828,
          0.7878008232318725,
          0.7876028277404908,
          0.7225203857870663,
          0.866480094200747,
          0.7112662547454767,
          0.9979017312658915,
          0.8523834453444056,
          0.7474554777958157,
          0.8644201763484654,
          0.8645253225654167,
          0.7604390599535151,
          0.8415034304285199,
          0.6545091665771937,
          0.9117682089852176,
          0.9870187582167804,
          0.8809351049892195,
          0.8204173062937611,
          0.7649283902438203,
          0.7558411143184743,
          0.6766152433724845,
          0.7799785816114921,
          0.8999020942786378,
          0.8987113469015472,
          0.9576445463899121,
          0.8299263136559909,
          0.6150967606051989,
          0.9565655602183282,
          0.8908505496607186,
          0.7310927556680447,
          0.6852627946193758,
          0.8191754286649222,
          0.5568232478824569,
          0.49349989148140017,
          0.6881932005452225,
          0.6198106179529631,
          0.9265351706409226,
          0.7978251605648018,
          0.7071338175484346,
          0.5473172526170675,
          0.46954768939465663,
          0.5759786806820997,
          0.8595869671526487,
          0.5146078587862872,
          0.45351307923692696,
          0.40069733188507617,
          0.622987222625398,
          0.6693592652605826,
          0.6455076349014786,
          0.6185706876106125,
          0.6099108272024305,
          0.5755979394348042,
          0.5768106604720353,
          0.6285136937194018,
          0.849239033887707,
          0.5889757423673921,
          0.514562110690418,
          0.8791966490819241,
          0.7805557040391108,
          0.595827117644439,
          0.7303082248356599,
          0.6584651508471051,
          0.6363013341243422,
          0.6919597374808836,
          0.8352846767057842,
          0.8009360165426858,
          0.9219582763702805,
          0.7459095073956761,
          0.8749556782020381,
          0.6971651658188258,
          0.6782170239312804,
          0.9069386790898186,
          0.6091044826592529,
          0.5580598097149135,
          0.6529603850786876,
          0.945152320065081,
          0.6919195435145558,
          0.7724766625641198,
          0.7131602625884621,
          0.6760715362291412,
          0.667366046665438,
          0.6380460341372974,
          0.6336310845010106,
          0.605230883182593,
          0.5964722450613474,
          0.6246456982435206,
          0.5337121066089016,
          0.5680790311381422
         ],
         "xaxis": "x3",
         "y": [
          0.11300855032768611,
          0.11346710180827918,
          0.11326447147267803,
          0.11057235943637705,
          0.11309320947714253,
          0.11149908291763808,
          0.11310857835647233,
          0.11329821799226639,
          0.11334591671362938,
          0.11280490014960101,
          0.11025675484162617,
          0.11081166545489164,
          0.11083980478515232,
          0.1104134835644495,
          0.11231875931805475,
          0.11174965884591542,
          0.11048957355983777,
          0.11172489288152455,
          0.1128595170803678,
          0.11081818200880617,
          0.11231300789802355,
          0.1106458078291237,
          0.11105478105491128,
          0.11056971694403496,
          0.1112385486474552,
          0.11149299587976484,
          0.1120862780002073,
          0.11144158027708477,
          0.11075921873963929,
          0.11257035636158472,
          0.1118922146871382,
          0.11057384045795172,
          0.11094296769792635,
          0.11093199779317878,
          0.11027271346681958,
          0.11098201109711835,
          0.11132899025282368,
          0.11178598965906815,
          0.1109238373675254,
          0.11185790286682885,
          0.1127817488713133,
          0.11093089538393087,
          0.11049203105594205,
          0.11154893695075112,
          0.11056935042194148,
          0.11151775683732,
          0.11077639559151548,
          0.11153136052141122,
          0.11138352312526563,
          0.11189395758254542,
          0.11108799491752301,
          0.11063160235524686,
          0.11100326589326504,
          0.11105288412698652,
          0.11073942511550018,
          0.11089736422358958,
          0.1118333260715663,
          0.11175146666825332,
          0.11036139276354445,
          0.11054935525729788,
          0.1117507439946854,
          0.11040839182671766,
          0.11073234928747987,
          0.11026187464493624,
          0.11065394023151963,
          0.11114116327828641,
          0.11161417126372629,
          0.11063053442058131,
          0.11115043289021831,
          0.11065958750024701,
          0.11182662443513608,
          0.11052999922122862,
          0.11109668099041103,
          0.11067722537677908,
          0.11107156378370267,
          0.11029668846290462,
          0.11061295996298728,
          0.11121650248017649,
          0.11150128431296176,
          0.1110948388757322,
          0.11132264959386357,
          0.11057008859916309,
          0.11050039984799719,
          0.1108056568192179,
          0.1111188819360631,
          0.11140879793687165,
          0.11085320922819324,
          0.11082421784085682,
          0.11116207001925424,
          0.11190136168216691,
          0.11056191996254665,
          0.11047471719475412,
          0.1119558308433579,
          0.1104674473404311,
          0.11066112864984869,
          0.11032447831004624,
          0.11118295227931635,
          0.11131676267884327,
          0.11051949998973626,
          0.11073954918689148
         ],
         "yaxis": "y3"
        },
        {
         "marker": {
          "color": [
           0,
           1,
           2,
           3,
           4,
           5,
           6,
           7,
           8,
           9,
           10,
           11,
           12,
           13,
           14,
           15,
           16,
           17,
           18,
           19,
           20,
           21,
           22,
           23,
           24,
           25,
           26,
           27,
           28,
           29,
           30,
           31,
           32,
           33,
           34,
           35,
           36,
           37,
           38,
           39,
           40,
           41,
           42,
           43,
           44,
           45,
           46,
           47,
           48,
           49,
           50,
           51,
           52,
           53,
           54,
           55,
           56,
           57,
           58,
           59,
           60,
           61,
           62,
           63,
           64,
           65,
           66,
           67,
           68,
           69,
           70,
           71,
           72,
           73,
           74,
           75,
           76,
           77,
           78,
           79,
           80,
           81,
           82,
           83,
           84,
           85,
           86,
           87,
           88,
           89,
           90,
           91,
           92,
           93,
           94,
           95,
           96,
           97,
           98,
           99
          ],
          "colorbar": {
           "title": {
            "text": "Trial"
           },
           "x": 1,
           "xpad": 40
          },
          "colorscale": [
           [
            0,
            "rgb(247,251,255)"
           ],
           [
            0.125,
            "rgb(222,235,247)"
           ],
           [
            0.25,
            "rgb(198,219,239)"
           ],
           [
            0.375,
            "rgb(158,202,225)"
           ],
           [
            0.5,
            "rgb(107,174,214)"
           ],
           [
            0.625,
            "rgb(66,146,198)"
           ],
           [
            0.75,
            "rgb(33,113,181)"
           ],
           [
            0.875,
            "rgb(8,81,156)"
           ],
           [
            1,
            "rgb(8,48,107)"
           ]
          ],
          "line": {
           "color": "Grey",
           "width": 0.5
          },
          "showscale": false
         },
         "mode": "markers",
         "name": "Feasible Trial",
         "showlegend": false,
         "type": "scatter",
         "x": [
          0.39233009817501135,
          0.000011392751769807845,
          0.0001012225782676912,
          1.6639294098252972,
          0.021080475758205073,
          0.1364244264856086,
          8.495361441935643e-8,
          0.0029768788042018753,
          0.00003145394962587813,
          1.1641336896350066e-7,
          9.791900843835457,
          2.1731973234791035,
          8.450880815131613,
          6.9060124853045,
          0.0038924718316658133,
          0.07432896694881132,
          7.200440349643826,
          0.0000022271725354243466,
          0.000788480273722254,
          0.44907221531616526,
          0.02308158037022946,
          9.794025174935024,
          1.612536331348741,
          9.449422425012092,
          0.6437862433683421,
          0.10807198228997655,
          0.021607622489757353,
          2.366606653090187,
          0.36151545199537477,
          6.083336547800727e-7,
          0.5510687567630874,
          9.079992919082363,
          3.5410538710928674,
          1.1508129511694296,
          9.705906370167986,
          1.162374137267203e-8,
          0.28016107140125723,
          2.997035401624994,
          0.059136545651060086,
          0.00010031943148640094,
          0.007269232611438774,
          3.84094779849793,
          8.72131682986419,
          1.073253042959094,
          4.231634794135851,
          0.18346167788969603,
          1.0516356801766242,
          5.010236831993464,
          1.451818434851392,
          0.0005262593595204363,
          0.053889877647554596,
          3.4324290884363537,
          5.131640218315894,
          0.6676856129305442,
          6.610494879152197,
          2.097735135999339,
          0.1692067021390638,
          0.000008167847246601005,
          5.042502692643995,
          9.705793090396565,
          0.6858036098921764,
          9.660642025118845,
          1.8696596272724255,
          5.706229249078329,
          2.9447885627343857,
          0.3306418467749019,
          1.0821616467875956,
          5.126526506196961,
          2.3995588638587537,
          5.8103913948649035,
          0.7455113992975857,
          9.879945833582859,
          1.6177976798902851,
          5.969817710422585,
          2.5347678631124166,
          9.543773394868474,
          3.7552461041751566,
          0.4801986392230461,
          0.24540837373208102,
          1.5461539051638458,
          0.0026136252873754416,
          8.532668272099544,
          9.65556075587202,
          4.919803081338084,
          3.287905039674237,
          0.974153051590797,
          5.879255783447995,
          1.9344694150766875,
          3.0570527979696664,
          0.10197640805590494,
          6.267746762724539,
          9.719668208150049,
          0.00012318467191263616,
          9.925614877060449,
          4.334293499449594,
          6.524506828989674,
          2.235445117413912,
          1.3476347550038434,
          6.651290413053569,
          4.14374909972773
         ],
         "xaxis": "x4",
         "y": [
          0.11300855032768611,
          0.11346710180827918,
          0.11326447147267803,
          0.11057235943637705,
          0.11309320947714253,
          0.11149908291763808,
          0.11310857835647233,
          0.11329821799226639,
          0.11334591671362938,
          0.11280490014960101,
          0.11025675484162617,
          0.11081166545489164,
          0.11083980478515232,
          0.1104134835644495,
          0.11231875931805475,
          0.11174965884591542,
          0.11048957355983777,
          0.11172489288152455,
          0.1128595170803678,
          0.11081818200880617,
          0.11231300789802355,
          0.1106458078291237,
          0.11105478105491128,
          0.11056971694403496,
          0.1112385486474552,
          0.11149299587976484,
          0.1120862780002073,
          0.11144158027708477,
          0.11075921873963929,
          0.11257035636158472,
          0.1118922146871382,
          0.11057384045795172,
          0.11094296769792635,
          0.11093199779317878,
          0.11027271346681958,
          0.11098201109711835,
          0.11132899025282368,
          0.11178598965906815,
          0.1109238373675254,
          0.11185790286682885,
          0.1127817488713133,
          0.11093089538393087,
          0.11049203105594205,
          0.11154893695075112,
          0.11056935042194148,
          0.11151775683732,
          0.11077639559151548,
          0.11153136052141122,
          0.11138352312526563,
          0.11189395758254542,
          0.11108799491752301,
          0.11063160235524686,
          0.11100326589326504,
          0.11105288412698652,
          0.11073942511550018,
          0.11089736422358958,
          0.1118333260715663,
          0.11175146666825332,
          0.11036139276354445,
          0.11054935525729788,
          0.1117507439946854,
          0.11040839182671766,
          0.11073234928747987,
          0.11026187464493624,
          0.11065394023151963,
          0.11114116327828641,
          0.11161417126372629,
          0.11063053442058131,
          0.11115043289021831,
          0.11065958750024701,
          0.11182662443513608,
          0.11052999922122862,
          0.11109668099041103,
          0.11067722537677908,
          0.11107156378370267,
          0.11029668846290462,
          0.11061295996298728,
          0.11121650248017649,
          0.11150128431296176,
          0.1110948388757322,
          0.11132264959386357,
          0.11057008859916309,
          0.11050039984799719,
          0.1108056568192179,
          0.1111188819360631,
          0.11140879793687165,
          0.11085320922819324,
          0.11082421784085682,
          0.11116207001925424,
          0.11190136168216691,
          0.11056191996254665,
          0.11047471719475412,
          0.1119558308433579,
          0.1104674473404311,
          0.11066112864984869,
          0.11032447831004624,
          0.11118295227931635,
          0.11131676267884327,
          0.11051949998973626,
          0.11073954918689148
         ],
         "yaxis": "y4"
        },
        {
         "marker": {
          "color": [
           0,
           1,
           2,
           3,
           4,
           5,
           6,
           7,
           8,
           9,
           10,
           11,
           12,
           13,
           14,
           15,
           16,
           17,
           18,
           19,
           20,
           21,
           22,
           23,
           24,
           25,
           26,
           27,
           28,
           29,
           30,
           31,
           32,
           33,
           34,
           35,
           36,
           37,
           38,
           39,
           40,
           41,
           42,
           43,
           44,
           45,
           46,
           47,
           48,
           49,
           50,
           51,
           52,
           53,
           54,
           55,
           56,
           57,
           58,
           59,
           60,
           61,
           62,
           63,
           64,
           65,
           66,
           67,
           68,
           69,
           70,
           71,
           72,
           73,
           74,
           75,
           76,
           77,
           78,
           79,
           80,
           81,
           82,
           83,
           84,
           85,
           86,
           87,
           88,
           89,
           90,
           91,
           92,
           93,
           94,
           95,
           96,
           97,
           98,
           99
          ],
          "colorbar": {
           "title": {
            "text": "Trial"
           },
           "x": 1,
           "xpad": 40
          },
          "colorscale": [
           [
            0,
            "rgb(247,251,255)"
           ],
           [
            0.125,
            "rgb(222,235,247)"
           ],
           [
            0.25,
            "rgb(198,219,239)"
           ],
           [
            0.375,
            "rgb(158,202,225)"
           ],
           [
            0.5,
            "rgb(107,174,214)"
           ],
           [
            0.625,
            "rgb(66,146,198)"
           ],
           [
            0.75,
            "rgb(33,113,181)"
           ],
           [
            0.875,
            "rgb(8,81,156)"
           ],
           [
            1,
            "rgb(8,48,107)"
           ]
          ],
          "line": {
           "color": "Grey",
           "width": 0.5
          },
          "showscale": false
         },
         "mode": "markers",
         "name": "Feasible Trial",
         "showlegend": false,
         "type": "scatter",
         "x": [
          0.000049077218336497575,
          0.00007780476134719482,
          2.0656730309142266e-7,
          7.686879641805749,
          1.2402927290646113e-8,
          0.2299434485610887,
          0.00005493028067031124,
          0.00004321783817701485,
          7.66430833881796e-8,
          0.000005488840982381755,
          7.511904149115363,
          2.4828904241076377,
          0.019595710971166608,
          5.014333280693481,
          0.010314736061465254,
          0.17085755521980142,
          0.003035223807859102,
          0.5635933731772552,
          0.0011923762369562057,
          9.26985103898663,
          0.03313406249419414,
          0.004063327054584796,
          0.8524245063170087,
          0.05116876565281969,
          2.0022984184912267,
          0.001033127001624557,
          0.0000015721384650250985,
          0.07111794042064241,
          1.9367792140824538,
          0.0059838605240724,
          0.27954505004761665,
          0.07318774976600931,
          0.0002900281224112119,
          0.0016294262895561365,
          6.40596069684655,
          8.013673112049242,
          2.160629569343797,
          0.5633997712315013,
          3.6567674363106057,
          0.8160817468640384,
          0.0000023662538428538183,
          0.0002364036902870031,
          0.13126954812009667,
          0.2132350960666313,
          5.207000793997424,
          1.0922157126508363,
          9.89327526758302,
          0.12886736193964737,
          0.011778713066537777,
          0.33226095818229245,
          3.0099253549984164,
          5.428641622044711,
          4.501062932880888,
          1.2526948281775496,
          0.00009138167820195522,
          0.4849383497052368,
          0.00001992455644816824,
          1.0643634603414744e-8,
          0.029358892132630595,
          0.020072533737003597,
          0.0017699086069231755,
          0.024770973897222454,
          0.03199255226200132,
          0.004154817769574635,
          0.0036822601329927567,
          0.0005134694876653332,
          0.006985269351649518,
          0.0024460756944783718,
          0.0007678701588472522,
          0.01427095967671924,
          1.5000603699744225e-7,
          0.027579723651977375,
          0.08372435707322935,
          0.006915473111660452,
          0.13804443826480273,
          0.0408842795753199,
          0.0035456918361297727,
          0.04964164381320937,
          0.00013949523185653574,
          0.00047862587794195963,
          1.6597447022273868,
          0.040790178107324146,
          0.011343307295941976,
          0.09479362011090917,
          0.34074977034699333,
          0.01794670175336432,
          0.7662544728880079,
          2.7440463068170495,
          5.846658334089817,
          0.006393244549186706,
          0.024361895113284585,
          0.011000824520575637,
          0.051234731127224445,
          0.0021873533224738,
          0.002513375738716744,
          0.0014632135903857432,
          0.001129527349519764,
          0.0016135709567682874,
          0.005659059573740686,
          0.008890226159643567
         ],
         "xaxis": "x5",
         "y": [
          0.11300855032768611,
          0.11346710180827918,
          0.11326447147267803,
          0.11057235943637705,
          0.11309320947714253,
          0.11149908291763808,
          0.11310857835647233,
          0.11329821799226639,
          0.11334591671362938,
          0.11280490014960101,
          0.11025675484162617,
          0.11081166545489164,
          0.11083980478515232,
          0.1104134835644495,
          0.11231875931805475,
          0.11174965884591542,
          0.11048957355983777,
          0.11172489288152455,
          0.1128595170803678,
          0.11081818200880617,
          0.11231300789802355,
          0.1106458078291237,
          0.11105478105491128,
          0.11056971694403496,
          0.1112385486474552,
          0.11149299587976484,
          0.1120862780002073,
          0.11144158027708477,
          0.11075921873963929,
          0.11257035636158472,
          0.1118922146871382,
          0.11057384045795172,
          0.11094296769792635,
          0.11093199779317878,
          0.11027271346681958,
          0.11098201109711835,
          0.11132899025282368,
          0.11178598965906815,
          0.1109238373675254,
          0.11185790286682885,
          0.1127817488713133,
          0.11093089538393087,
          0.11049203105594205,
          0.11154893695075112,
          0.11056935042194148,
          0.11151775683732,
          0.11077639559151548,
          0.11153136052141122,
          0.11138352312526563,
          0.11189395758254542,
          0.11108799491752301,
          0.11063160235524686,
          0.11100326589326504,
          0.11105288412698652,
          0.11073942511550018,
          0.11089736422358958,
          0.1118333260715663,
          0.11175146666825332,
          0.11036139276354445,
          0.11054935525729788,
          0.1117507439946854,
          0.11040839182671766,
          0.11073234928747987,
          0.11026187464493624,
          0.11065394023151963,
          0.11114116327828641,
          0.11161417126372629,
          0.11063053442058131,
          0.11115043289021831,
          0.11065958750024701,
          0.11182662443513608,
          0.11052999922122862,
          0.11109668099041103,
          0.11067722537677908,
          0.11107156378370267,
          0.11029668846290462,
          0.11061295996298728,
          0.11121650248017649,
          0.11150128431296176,
          0.1110948388757322,
          0.11132264959386357,
          0.11057008859916309,
          0.11050039984799719,
          0.1108056568192179,
          0.1111188819360631,
          0.11140879793687165,
          0.11085320922819324,
          0.11082421784085682,
          0.11116207001925424,
          0.11190136168216691,
          0.11056191996254665,
          0.11047471719475412,
          0.1119558308433579,
          0.1104674473404311,
          0.11066112864984869,
          0.11032447831004624,
          0.11118295227931635,
          0.11131676267884327,
          0.11051949998973626,
          0.11073954918689148
         ],
         "yaxis": "y5"
        },
        {
         "marker": {
          "color": [
           0,
           1,
           2,
           3,
           4,
           5,
           6,
           7,
           8,
           9,
           10,
           11,
           12,
           13,
           14,
           15,
           16,
           17,
           18,
           19,
           20,
           21,
           22,
           23,
           24,
           25,
           26,
           27,
           28,
           29,
           30,
           31,
           32,
           33,
           34,
           35,
           36,
           37,
           38,
           39,
           40,
           41,
           42,
           43,
           44,
           45,
           46,
           47,
           48,
           49,
           50,
           51,
           52,
           53,
           54,
           55,
           56,
           57,
           58,
           59,
           60,
           61,
           62,
           63,
           64,
           65,
           66,
           67,
           68,
           69,
           70,
           71,
           72,
           73,
           74,
           75,
           76,
           77,
           78,
           79,
           80,
           81,
           82,
           83,
           84,
           85,
           86,
           87,
           88,
           89,
           90,
           91,
           92,
           93,
           94,
           95,
           96,
           97,
           98,
           99
          ],
          "colorbar": {
           "title": {
            "text": "Trial"
           },
           "x": 1,
           "xpad": 40
          },
          "colorscale": [
           [
            0,
            "rgb(247,251,255)"
           ],
           [
            0.125,
            "rgb(222,235,247)"
           ],
           [
            0.25,
            "rgb(198,219,239)"
           ],
           [
            0.375,
            "rgb(158,202,225)"
           ],
           [
            0.5,
            "rgb(107,174,214)"
           ],
           [
            0.625,
            "rgb(66,146,198)"
           ],
           [
            0.75,
            "rgb(33,113,181)"
           ],
           [
            0.875,
            "rgb(8,81,156)"
           ],
           [
            1,
            "rgb(8,48,107)"
           ]
          ],
          "line": {
           "color": "Grey",
           "width": 0.5
          },
          "showscale": false
         },
         "mode": "markers",
         "name": "Feasible Trial",
         "showlegend": false,
         "type": "scatter",
         "x": [
          230,
          236,
          200,
          64,
          180,
          38,
          222,
          238,
          240,
          132,
          30,
          20,
          86,
          66,
          114,
          60,
          14,
          96,
          158,
          54,
          100,
          12,
          36,
          36,
          80,
          16,
          46,
          64,
          28,
          72,
          112,
          42,
          28,
          12,
          56,
          52,
          72,
          178,
          24,
          128,
          148,
          40,
          32,
          54,
          28,
          70,
          92,
          216,
          46,
          84,
          60,
          28,
          256,
          32,
          22,
          20,
          48,
          36,
          12,
          16,
          60,
          14,
          18,
          12,
          14,
          12,
          44,
          22,
          38,
          24,
          52,
          32,
          32,
          40,
          20,
          12,
          12,
          26,
          20,
          12,
          68,
          30,
          34,
          46,
          76,
          26,
          110,
          40,
          170,
          56,
          18,
          36,
          48,
          34,
          24,
          16,
          64,
          38,
          18,
          28
         ],
         "xaxis": "x6",
         "y": [
          0.11300855032768611,
          0.11346710180827918,
          0.11326447147267803,
          0.11057235943637705,
          0.11309320947714253,
          0.11149908291763808,
          0.11310857835647233,
          0.11329821799226639,
          0.11334591671362938,
          0.11280490014960101,
          0.11025675484162617,
          0.11081166545489164,
          0.11083980478515232,
          0.1104134835644495,
          0.11231875931805475,
          0.11174965884591542,
          0.11048957355983777,
          0.11172489288152455,
          0.1128595170803678,
          0.11081818200880617,
          0.11231300789802355,
          0.1106458078291237,
          0.11105478105491128,
          0.11056971694403496,
          0.1112385486474552,
          0.11149299587976484,
          0.1120862780002073,
          0.11144158027708477,
          0.11075921873963929,
          0.11257035636158472,
          0.1118922146871382,
          0.11057384045795172,
          0.11094296769792635,
          0.11093199779317878,
          0.11027271346681958,
          0.11098201109711835,
          0.11132899025282368,
          0.11178598965906815,
          0.1109238373675254,
          0.11185790286682885,
          0.1127817488713133,
          0.11093089538393087,
          0.11049203105594205,
          0.11154893695075112,
          0.11056935042194148,
          0.11151775683732,
          0.11077639559151548,
          0.11153136052141122,
          0.11138352312526563,
          0.11189395758254542,
          0.11108799491752301,
          0.11063160235524686,
          0.11100326589326504,
          0.11105288412698652,
          0.11073942511550018,
          0.11089736422358958,
          0.1118333260715663,
          0.11175146666825332,
          0.11036139276354445,
          0.11054935525729788,
          0.1117507439946854,
          0.11040839182671766,
          0.11073234928747987,
          0.11026187464493624,
          0.11065394023151963,
          0.11114116327828641,
          0.11161417126372629,
          0.11063053442058131,
          0.11115043289021831,
          0.11065958750024701,
          0.11182662443513608,
          0.11052999922122862,
          0.11109668099041103,
          0.11067722537677908,
          0.11107156378370267,
          0.11029668846290462,
          0.11061295996298728,
          0.11121650248017649,
          0.11150128431296176,
          0.1110948388757322,
          0.11132264959386357,
          0.11057008859916309,
          0.11050039984799719,
          0.1108056568192179,
          0.1111188819360631,
          0.11140879793687165,
          0.11085320922819324,
          0.11082421784085682,
          0.11116207001925424,
          0.11190136168216691,
          0.11056191996254665,
          0.11047471719475412,
          0.1119558308433579,
          0.1104674473404311,
          0.11066112864984869,
          0.11032447831004624,
          0.11118295227931635,
          0.11131676267884327,
          0.11051949998973626,
          0.11073954918689148
         ],
         "yaxis": "y6"
        }
       ],
       "layout": {
        "template": {
         "data": {
          "bar": [
           {
            "error_x": {
             "color": "#2a3f5f"
            },
            "error_y": {
             "color": "#2a3f5f"
            },
            "marker": {
             "line": {
              "color": "#E5ECF6",
              "width": 0.5
             },
             "pattern": {
              "fillmode": "overlay",
              "size": 10,
              "solidity": 0.2
             }
            },
            "type": "bar"
           }
          ],
          "barpolar": [
           {
            "marker": {
             "line": {
              "color": "#E5ECF6",
              "width": 0.5
             },
             "pattern": {
              "fillmode": "overlay",
              "size": 10,
              "solidity": 0.2
             }
            },
            "type": "barpolar"
           }
          ],
          "carpet": [
           {
            "aaxis": {
             "endlinecolor": "#2a3f5f",
             "gridcolor": "white",
             "linecolor": "white",
             "minorgridcolor": "white",
             "startlinecolor": "#2a3f5f"
            },
            "baxis": {
             "endlinecolor": "#2a3f5f",
             "gridcolor": "white",
             "linecolor": "white",
             "minorgridcolor": "white",
             "startlinecolor": "#2a3f5f"
            },
            "type": "carpet"
           }
          ],
          "choropleth": [
           {
            "colorbar": {
             "outlinewidth": 0,
             "ticks": ""
            },
            "type": "choropleth"
           }
          ],
          "contour": [
           {
            "colorbar": {
             "outlinewidth": 0,
             "ticks": ""
            },
            "colorscale": [
             [
              0,
              "#0d0887"
             ],
             [
              0.1111111111111111,
              "#46039f"
             ],
             [
              0.2222222222222222,
              "#7201a8"
             ],
             [
              0.3333333333333333,
              "#9c179e"
             ],
             [
              0.4444444444444444,
              "#bd3786"
             ],
             [
              0.5555555555555556,
              "#d8576b"
             ],
             [
              0.6666666666666666,
              "#ed7953"
             ],
             [
              0.7777777777777778,
              "#fb9f3a"
             ],
             [
              0.8888888888888888,
              "#fdca26"
             ],
             [
              1,
              "#f0f921"
             ]
            ],
            "type": "contour"
           }
          ],
          "contourcarpet": [
           {
            "colorbar": {
             "outlinewidth": 0,
             "ticks": ""
            },
            "type": "contourcarpet"
           }
          ],
          "heatmap": [
           {
            "colorbar": {
             "outlinewidth": 0,
             "ticks": ""
            },
            "colorscale": [
             [
              0,
              "#0d0887"
             ],
             [
              0.1111111111111111,
              "#46039f"
             ],
             [
              0.2222222222222222,
              "#7201a8"
             ],
             [
              0.3333333333333333,
              "#9c179e"
             ],
             [
              0.4444444444444444,
              "#bd3786"
             ],
             [
              0.5555555555555556,
              "#d8576b"
             ],
             [
              0.6666666666666666,
              "#ed7953"
             ],
             [
              0.7777777777777778,
              "#fb9f3a"
             ],
             [
              0.8888888888888888,
              "#fdca26"
             ],
             [
              1,
              "#f0f921"
             ]
            ],
            "type": "heatmap"
           }
          ],
          "heatmapgl": [
           {
            "colorbar": {
             "outlinewidth": 0,
             "ticks": ""
            },
            "colorscale": [
             [
              0,
              "#0d0887"
             ],
             [
              0.1111111111111111,
              "#46039f"
             ],
             [
              0.2222222222222222,
              "#7201a8"
             ],
             [
              0.3333333333333333,
              "#9c179e"
             ],
             [
              0.4444444444444444,
              "#bd3786"
             ],
             [
              0.5555555555555556,
              "#d8576b"
             ],
             [
              0.6666666666666666,
              "#ed7953"
             ],
             [
              0.7777777777777778,
              "#fb9f3a"
             ],
             [
              0.8888888888888888,
              "#fdca26"
             ],
             [
              1,
              "#f0f921"
             ]
            ],
            "type": "heatmapgl"
           }
          ],
          "histogram": [
           {
            "marker": {
             "pattern": {
              "fillmode": "overlay",
              "size": 10,
              "solidity": 0.2
             }
            },
            "type": "histogram"
           }
          ],
          "histogram2d": [
           {
            "colorbar": {
             "outlinewidth": 0,
             "ticks": ""
            },
            "colorscale": [
             [
              0,
              "#0d0887"
             ],
             [
              0.1111111111111111,
              "#46039f"
             ],
             [
              0.2222222222222222,
              "#7201a8"
             ],
             [
              0.3333333333333333,
              "#9c179e"
             ],
             [
              0.4444444444444444,
              "#bd3786"
             ],
             [
              0.5555555555555556,
              "#d8576b"
             ],
             [
              0.6666666666666666,
              "#ed7953"
             ],
             [
              0.7777777777777778,
              "#fb9f3a"
             ],
             [
              0.8888888888888888,
              "#fdca26"
             ],
             [
              1,
              "#f0f921"
             ]
            ],
            "type": "histogram2d"
           }
          ],
          "histogram2dcontour": [
           {
            "colorbar": {
             "outlinewidth": 0,
             "ticks": ""
            },
            "colorscale": [
             [
              0,
              "#0d0887"
             ],
             [
              0.1111111111111111,
              "#46039f"
             ],
             [
              0.2222222222222222,
              "#7201a8"
             ],
             [
              0.3333333333333333,
              "#9c179e"
             ],
             [
              0.4444444444444444,
              "#bd3786"
             ],
             [
              0.5555555555555556,
              "#d8576b"
             ],
             [
              0.6666666666666666,
              "#ed7953"
             ],
             [
              0.7777777777777778,
              "#fb9f3a"
             ],
             [
              0.8888888888888888,
              "#fdca26"
             ],
             [
              1,
              "#f0f921"
             ]
            ],
            "type": "histogram2dcontour"
           }
          ],
          "mesh3d": [
           {
            "colorbar": {
             "outlinewidth": 0,
             "ticks": ""
            },
            "type": "mesh3d"
           }
          ],
          "parcoords": [
           {
            "line": {
             "colorbar": {
              "outlinewidth": 0,
              "ticks": ""
             }
            },
            "type": "parcoords"
           }
          ],
          "pie": [
           {
            "automargin": true,
            "type": "pie"
           }
          ],
          "scatter": [
           {
            "fillpattern": {
             "fillmode": "overlay",
             "size": 10,
             "solidity": 0.2
            },
            "type": "scatter"
           }
          ],
          "scatter3d": [
           {
            "line": {
             "colorbar": {
              "outlinewidth": 0,
              "ticks": ""
             }
            },
            "marker": {
             "colorbar": {
              "outlinewidth": 0,
              "ticks": ""
             }
            },
            "type": "scatter3d"
           }
          ],
          "scattercarpet": [
           {
            "marker": {
             "colorbar": {
              "outlinewidth": 0,
              "ticks": ""
             }
            },
            "type": "scattercarpet"
           }
          ],
          "scattergeo": [
           {
            "marker": {
             "colorbar": {
              "outlinewidth": 0,
              "ticks": ""
             }
            },
            "type": "scattergeo"
           }
          ],
          "scattergl": [
           {
            "marker": {
             "colorbar": {
              "outlinewidth": 0,
              "ticks": ""
             }
            },
            "type": "scattergl"
           }
          ],
          "scattermapbox": [
           {
            "marker": {
             "colorbar": {
              "outlinewidth": 0,
              "ticks": ""
             }
            },
            "type": "scattermapbox"
           }
          ],
          "scatterpolar": [
           {
            "marker": {
             "colorbar": {
              "outlinewidth": 0,
              "ticks": ""
             }
            },
            "type": "scatterpolar"
           }
          ],
          "scatterpolargl": [
           {
            "marker": {
             "colorbar": {
              "outlinewidth": 0,
              "ticks": ""
             }
            },
            "type": "scatterpolargl"
           }
          ],
          "scatterternary": [
           {
            "marker": {
             "colorbar": {
              "outlinewidth": 0,
              "ticks": ""
             }
            },
            "type": "scatterternary"
           }
          ],
          "surface": [
           {
            "colorbar": {
             "outlinewidth": 0,
             "ticks": ""
            },
            "colorscale": [
             [
              0,
              "#0d0887"
             ],
             [
              0.1111111111111111,
              "#46039f"
             ],
             [
              0.2222222222222222,
              "#7201a8"
             ],
             [
              0.3333333333333333,
              "#9c179e"
             ],
             [
              0.4444444444444444,
              "#bd3786"
             ],
             [
              0.5555555555555556,
              "#d8576b"
             ],
             [
              0.6666666666666666,
              "#ed7953"
             ],
             [
              0.7777777777777778,
              "#fb9f3a"
             ],
             [
              0.8888888888888888,
              "#fdca26"
             ],
             [
              1,
              "#f0f921"
             ]
            ],
            "type": "surface"
           }
          ],
          "table": [
           {
            "cells": {
             "fill": {
              "color": "#EBF0F8"
             },
             "line": {
              "color": "white"
             }
            },
            "header": {
             "fill": {
              "color": "#C8D4E3"
             },
             "line": {
              "color": "white"
             }
            },
            "type": "table"
           }
          ]
         },
         "layout": {
          "annotationdefaults": {
           "arrowcolor": "#2a3f5f",
           "arrowhead": 0,
           "arrowwidth": 1
          },
          "autotypenumbers": "strict",
          "coloraxis": {
           "colorbar": {
            "outlinewidth": 0,
            "ticks": ""
           }
          },
          "colorscale": {
           "diverging": [
            [
             0,
             "#8e0152"
            ],
            [
             0.1,
             "#c51b7d"
            ],
            [
             0.2,
             "#de77ae"
            ],
            [
             0.3,
             "#f1b6da"
            ],
            [
             0.4,
             "#fde0ef"
            ],
            [
             0.5,
             "#f7f7f7"
            ],
            [
             0.6,
             "#e6f5d0"
            ],
            [
             0.7,
             "#b8e186"
            ],
            [
             0.8,
             "#7fbc41"
            ],
            [
             0.9,
             "#4d9221"
            ],
            [
             1,
             "#276419"
            ]
           ],
           "sequential": [
            [
             0,
             "#0d0887"
            ],
            [
             0.1111111111111111,
             "#46039f"
            ],
            [
             0.2222222222222222,
             "#7201a8"
            ],
            [
             0.3333333333333333,
             "#9c179e"
            ],
            [
             0.4444444444444444,
             "#bd3786"
            ],
            [
             0.5555555555555556,
             "#d8576b"
            ],
            [
             0.6666666666666666,
             "#ed7953"
            ],
            [
             0.7777777777777778,
             "#fb9f3a"
            ],
            [
             0.8888888888888888,
             "#fdca26"
            ],
            [
             1,
             "#f0f921"
            ]
           ],
           "sequentialminus": [
            [
             0,
             "#0d0887"
            ],
            [
             0.1111111111111111,
             "#46039f"
            ],
            [
             0.2222222222222222,
             "#7201a8"
            ],
            [
             0.3333333333333333,
             "#9c179e"
            ],
            [
             0.4444444444444444,
             "#bd3786"
            ],
            [
             0.5555555555555556,
             "#d8576b"
            ],
            [
             0.6666666666666666,
             "#ed7953"
            ],
            [
             0.7777777777777778,
             "#fb9f3a"
            ],
            [
             0.8888888888888888,
             "#fdca26"
            ],
            [
             1,
             "#f0f921"
            ]
           ]
          },
          "colorway": [
           "#636efa",
           "#EF553B",
           "#00cc96",
           "#ab63fa",
           "#FFA15A",
           "#19d3f3",
           "#FF6692",
           "#B6E880",
           "#FF97FF",
           "#FECB52"
          ],
          "font": {
           "color": "#2a3f5f"
          },
          "geo": {
           "bgcolor": "white",
           "lakecolor": "white",
           "landcolor": "#E5ECF6",
           "showlakes": true,
           "showland": true,
           "subunitcolor": "white"
          },
          "hoverlabel": {
           "align": "left"
          },
          "hovermode": "closest",
          "mapbox": {
           "style": "light"
          },
          "paper_bgcolor": "white",
          "plot_bgcolor": "#E5ECF6",
          "polar": {
           "angularaxis": {
            "gridcolor": "white",
            "linecolor": "white",
            "ticks": ""
           },
           "bgcolor": "#E5ECF6",
           "radialaxis": {
            "gridcolor": "white",
            "linecolor": "white",
            "ticks": ""
           }
          },
          "scene": {
           "xaxis": {
            "backgroundcolor": "#E5ECF6",
            "gridcolor": "white",
            "gridwidth": 2,
            "linecolor": "white",
            "showbackground": true,
            "ticks": "",
            "zerolinecolor": "white"
           },
           "yaxis": {
            "backgroundcolor": "#E5ECF6",
            "gridcolor": "white",
            "gridwidth": 2,
            "linecolor": "white",
            "showbackground": true,
            "ticks": "",
            "zerolinecolor": "white"
           },
           "zaxis": {
            "backgroundcolor": "#E5ECF6",
            "gridcolor": "white",
            "gridwidth": 2,
            "linecolor": "white",
            "showbackground": true,
            "ticks": "",
            "zerolinecolor": "white"
           }
          },
          "shapedefaults": {
           "line": {
            "color": "#2a3f5f"
           }
          },
          "ternary": {
           "aaxis": {
            "gridcolor": "white",
            "linecolor": "white",
            "ticks": ""
           },
           "baxis": {
            "gridcolor": "white",
            "linecolor": "white",
            "ticks": ""
           },
           "bgcolor": "#E5ECF6",
           "caxis": {
            "gridcolor": "white",
            "linecolor": "white",
            "ticks": ""
           }
          },
          "title": {
           "x": 0.05
          },
          "xaxis": {
           "automargin": true,
           "gridcolor": "white",
           "linecolor": "white",
           "ticks": "",
           "title": {
            "standoff": 15
           },
           "zerolinecolor": "white",
           "zerolinewidth": 2
          },
          "yaxis": {
           "automargin": true,
           "gridcolor": "white",
           "linecolor": "white",
           "ticks": "",
           "title": {
            "standoff": 15
           },
           "zerolinecolor": "white",
           "zerolinewidth": 2
          }
         }
        },
        "title": {
         "text": "Slice Plot"
        },
        "width": 1800,
        "xaxis": {
         "anchor": "y",
         "domain": [
          0,
          0.1388888888888889
         ],
         "title": {
          "text": "bagging_fraction"
         }
        },
        "xaxis2": {
         "anchor": "y2",
         "domain": [
          0.17222222222222222,
          0.3111111111111111
         ],
         "title": {
          "text": "bagging_freq"
         }
        },
        "xaxis3": {
         "anchor": "y3",
         "domain": [
          0.34444444444444444,
          0.48333333333333334
         ],
         "title": {
          "text": "feature_fraction"
         }
        },
        "xaxis4": {
         "anchor": "y4",
         "domain": [
          0.5166666666666667,
          0.6555555555555557
         ],
         "title": {
          "text": "lambda_l1"
         },
         "type": "log"
        },
        "xaxis5": {
         "anchor": "y5",
         "domain": [
          0.6888888888888889,
          0.8277777777777777
         ],
         "title": {
          "text": "lambda_l2"
         },
         "type": "log"
        },
        "xaxis6": {
         "anchor": "y6",
         "domain": [
          0.861111111111111,
          1
         ],
         "title": {
          "text": "num_leaves"
         }
        },
        "yaxis": {
         "anchor": "x",
         "domain": [
          0,
          1
         ],
         "title": {
          "text": "Objective Value"
         }
        },
        "yaxis2": {
         "anchor": "x2",
         "domain": [
          0,
          1
         ],
         "matches": "y",
         "showticklabels": false
        },
        "yaxis3": {
         "anchor": "x3",
         "domain": [
          0,
          1
         ],
         "matches": "y",
         "showticklabels": false
        },
        "yaxis4": {
         "anchor": "x4",
         "domain": [
          0,
          1
         ],
         "matches": "y",
         "showticklabels": false
        },
        "yaxis5": {
         "anchor": "x5",
         "domain": [
          0,
          1
         ],
         "matches": "y",
         "showticklabels": false
        },
        "yaxis6": {
         "anchor": "x6",
         "domain": [
          0,
          1
         ],
         "matches": "y",
         "showticklabels": false
        }
       }
      }
     },
     "metadata": {},
     "output_type": "display_data"
    }
   ],
   "source": [
    "optuna.visualization.plot_slice(study)"
   ]
  },
  {
   "cell_type": "code",
   "execution_count": 14,
   "metadata": {},
   "outputs": [
    {
     "data": {
      "application/vnd.plotly.v1+json": {
       "config": {
        "plotlyServerURL": "https://plot.ly"
       },
       "data": [
        {
         "dimensions": [
          {
           "label": "Objective Value",
           "range": [
            0.11025675484162617,
            0.11346710180827918
           ],
           "values": [
            0.11300855032768611,
            0.11346710180827918,
            0.11326447147267803,
            0.11057235943637705,
            0.11309320947714253,
            0.11149908291763808,
            0.11310857835647233,
            0.11329821799226639,
            0.11334591671362938,
            0.11280490014960101,
            0.11025675484162617,
            0.11081166545489164,
            0.11083980478515232,
            0.1104134835644495,
            0.11231875931805475,
            0.11174965884591542,
            0.11048957355983777,
            0.11172489288152455,
            0.1128595170803678,
            0.11081818200880617,
            0.11231300789802355,
            0.1106458078291237,
            0.11105478105491128,
            0.11056971694403496,
            0.1112385486474552,
            0.11149299587976484,
            0.1120862780002073,
            0.11144158027708477,
            0.11075921873963929,
            0.11257035636158472,
            0.1118922146871382,
            0.11057384045795172,
            0.11094296769792635,
            0.11093199779317878,
            0.11027271346681958,
            0.11098201109711835,
            0.11132899025282368,
            0.11178598965906815,
            0.1109238373675254,
            0.11185790286682885,
            0.1127817488713133,
            0.11093089538393087,
            0.11049203105594205,
            0.11154893695075112,
            0.11056935042194148,
            0.11151775683732,
            0.11077639559151548,
            0.11153136052141122,
            0.11138352312526563,
            0.11189395758254542,
            0.11108799491752301,
            0.11063160235524686,
            0.11100326589326504,
            0.11105288412698652,
            0.11073942511550018,
            0.11089736422358958,
            0.1118333260715663,
            0.11175146666825332,
            0.11036139276354445,
            0.11054935525729788,
            0.1117507439946854,
            0.11040839182671766,
            0.11073234928747987,
            0.11026187464493624,
            0.11065394023151963,
            0.11114116327828641,
            0.11161417126372629,
            0.11063053442058131,
            0.11115043289021831,
            0.11065958750024701,
            0.11182662443513608,
            0.11052999922122862,
            0.11109668099041103,
            0.11067722537677908,
            0.11107156378370267,
            0.11029668846290462,
            0.11061295996298728,
            0.11121650248017649,
            0.11150128431296176,
            0.1110948388757322,
            0.11132264959386357,
            0.11057008859916309,
            0.11050039984799719,
            0.1108056568192179,
            0.1111188819360631,
            0.11140879793687165,
            0.11085320922819324,
            0.11082421784085682,
            0.11116207001925424,
            0.11190136168216691,
            0.11056191996254665,
            0.11047471719475412,
            0.1119558308433579,
            0.1104674473404311,
            0.11066112864984869,
            0.11032447831004624,
            0.11118295227931635,
            0.11131676267884327,
            0.11051949998973626,
            0.11073954918689148
           ]
          },
          {
           "label": "bagging_fraction",
           "range": [
            0.40615974953070066,
            0.979435510588964
           ],
           "values": [
            0.6066721591502989,
            0.9512406679331895,
            0.8230028511160352,
            0.5184013913809771,
            0.7858613619514973,
            0.43986584329440026,
            0.8517537342165583,
            0.9055583963573264,
            0.6547208477721069,
            0.4501387755283267,
            0.5628920345673979,
            0.5500686964166205,
            0.5435770575118117,
            0.7212470003575093,
            0.7323842917707483,
            0.689744939507025,
            0.6121202981572978,
            0.7497408992525068,
            0.6476617902816576,
            0.40615974953070066,
            0.4813006793341281,
            0.5940553324046975,
            0.6674647512733491,
            0.6122999227952662,
            0.7157340678559564,
            0.5762898004162672,
            0.6392355900314539,
            0.771452577038785,
            0.5002814645543783,
            0.6108172064588203,
            0.6942560102014885,
            0.5799058432270303,
            0.6214056909424165,
            0.5472376495738919,
            0.6779928439468513,
            0.8050471208622965,
            0.8595016034850592,
            0.979435510588964,
            0.6825413238955844,
            0.7449168779411455,
            0.8388382112494659,
            0.6247512463801616,
            0.521140830204073,
            0.5011510035456053,
            0.5631996068527442,
            0.5306000189601456,
            0.4576258340575922,
            0.7145460406502431,
            0.6612220532751157,
            0.7777103255720951,
            0.5143630281248467,
            0.5673279703190978,
            0.5574341127083162,
            0.5906856765237988,
            0.5296588680050576,
            0.43292711877413803,
            0.4733342293289461,
            0.6446703146220599,
            0.6707431901368138,
            0.6755175081468993,
            0.7102265075566949,
            0.6740410457974133,
            0.730367463823338,
            0.6946975652521846,
            0.7566090989895614,
            0.6401482268316611,
            0.6919118070327548,
            0.667464718727341,
            0.7308440238418832,
            0.5994321780805919,
            0.6261979022959098,
            0.6605738434472319,
            0.7026522847868844,
            0.6824062884102563,
            0.5845844995792095,
            0.6097114197680997,
            0.6095318874697062,
            0.6446886863807764,
            0.6274309000314501,
            0.6986376678792299,
            0.7214492389339313,
            0.7552401700368341,
            0.6741153416875513,
            0.790625312312283,
            0.6027220562964346,
            0.5359881397273903,
            0.657867270929221,
            0.9073233202235443,
            0.5117442082928672,
            0.578807806730142,
            0.6879996227220359,
            0.6756926312123993,
            0.7430073968818733,
            0.627076209141711,
            0.6327448082533786,
            0.6521281171911995,
            0.6486758232227583,
            0.7110692421264106,
            0.6187364945017764,
            0.6727783597164562
           ]
          },
          {
           "label": "bagging_freq",
           "range": [
            1,
            7
           ],
           "values": [
            4,
            5,
            1,
            2,
            3,
            4,
            1,
            3,
            2,
            5,
            7,
            6,
            7,
            7,
            7,
            6,
            7,
            6,
            5,
            7,
            6,
            7,
            7,
            6,
            7,
            6,
            5,
            7,
            6,
            4,
            7,
            6,
            7,
            5,
            6,
            7,
            6,
            5,
            7,
            6,
            3,
            6,
            7,
            7,
            7,
            7,
            7,
            2,
            6,
            5,
            4,
            7,
            7,
            1,
            7,
            7,
            6,
            7,
            6,
            6,
            5,
            6,
            6,
            6,
            5,
            6,
            6,
            6,
            5,
            6,
            3,
            7,
            7,
            7,
            6,
            7,
            6,
            6,
            5,
            7,
            4,
            7,
            7,
            7,
            7,
            6,
            7,
            6,
            7,
            7,
            7,
            7,
            7,
            7,
            7,
            6,
            6,
            6,
            6,
            5
           ]
          },
          {
           "label": "feature_fraction",
           "range": [
            0.40069733188507617,
            0.9979017312658915
           ],
           "values": [
            0.9326584398328479,
            0.6561196396312878,
            0.5739403476577157,
            0.4769802793243531,
            0.5378243419053065,
            0.4094688689191721,
            0.42167711132577,
            0.9285112683042583,
            0.9341290905898565,
            0.6446257700205262,
            0.8252389166368176,
            0.7986848718624044,
            0.8104135195197828,
            0.7878008232318725,
            0.7876028277404908,
            0.7225203857870663,
            0.866480094200747,
            0.7112662547454767,
            0.9979017312658915,
            0.8523834453444056,
            0.7474554777958157,
            0.8644201763484654,
            0.8645253225654167,
            0.7604390599535151,
            0.8415034304285199,
            0.6545091665771937,
            0.9117682089852176,
            0.9870187582167804,
            0.8809351049892195,
            0.8204173062937611,
            0.7649283902438203,
            0.7558411143184743,
            0.6766152433724845,
            0.7799785816114921,
            0.8999020942786378,
            0.8987113469015472,
            0.9576445463899121,
            0.8299263136559909,
            0.6150967606051989,
            0.9565655602183282,
            0.8908505496607186,
            0.7310927556680447,
            0.6852627946193758,
            0.8191754286649222,
            0.5568232478824569,
            0.49349989148140017,
            0.6881932005452225,
            0.6198106179529631,
            0.9265351706409226,
            0.7978251605648018,
            0.7071338175484346,
            0.5473172526170675,
            0.46954768939465663,
            0.5759786806820997,
            0.8595869671526487,
            0.5146078587862872,
            0.45351307923692696,
            0.40069733188507617,
            0.622987222625398,
            0.6693592652605826,
            0.6455076349014786,
            0.6185706876106125,
            0.6099108272024305,
            0.5755979394348042,
            0.5768106604720353,
            0.6285136937194018,
            0.849239033887707,
            0.5889757423673921,
            0.514562110690418,
            0.8791966490819241,
            0.7805557040391108,
            0.595827117644439,
            0.7303082248356599,
            0.6584651508471051,
            0.6363013341243422,
            0.6919597374808836,
            0.8352846767057842,
            0.8009360165426858,
            0.9219582763702805,
            0.7459095073956761,
            0.8749556782020381,
            0.6971651658188258,
            0.6782170239312804,
            0.9069386790898186,
            0.6091044826592529,
            0.5580598097149135,
            0.6529603850786876,
            0.945152320065081,
            0.6919195435145558,
            0.7724766625641198,
            0.7131602625884621,
            0.6760715362291412,
            0.667366046665438,
            0.6380460341372974,
            0.6336310845010106,
            0.605230883182593,
            0.5964722450613474,
            0.6246456982435206,
            0.5337121066089016,
            0.5680790311381422
           ]
          },
          {
           "label": "lambda_l1",
           "range": [
            -7.934654061620475,
            0.9967574201649196
           ],
           "ticktext": [
            "1.16e-08",
            "1e-07",
            "1e-06",
            "1e-05",
            "0.0001",
            "0.001",
            "0.01",
            "0.1",
            "1",
            "9.93"
           ],
           "tickvals": [
            -7.934654061620475,
            -7,
            -6,
            -5,
            -4,
            -3,
            -2,
            -1,
            0,
            0.9967574201649196
           ],
           "values": [
            -0.40634837305855614,
            -4.943371365112855,
            -3.9947226048540383,
            0.2211348979320897,
            -1.6761195919020144,
            -0.8651078632707392,
            -7.070818138996363,
            -2.5262388461519927,
            -4.502324813079569,
            -6.933997142249028,
            0.9908670070080686,
            0.3370991614827159,
            0.9269019767858208,
            0.8392273591703928,
            -2.4097745215720106,
            -1.1288419031387766,
            0.8573590569274531,
            -5.652246137577433,
            -3.10320916742162,
            -0.3476838144722562,
            -1.6367344588363753,
            0.9909612160106975,
            0.20750950831600476,
            0.9754052640335037,
            -0.19125830769552785,
            -0.9662868824943679,
            -1.6653930163829638,
            0.37412608108579254,
            -0.4418731352355418,
            -6.215858156443594,
            -0.25879421091251886,
            0.9580855098421582,
            0.5491325338579137,
            0.0610047407658795,
            0.9870360974969346,
            -7.934654061620475,
            -0.5525922104140978,
            0.4766918729555147,
            -1.2281440475558958,
            -3.99861493766785,
            -2.138511433736318,
            0.5844384048016373,
            0.9405820639195541,
            0.03070212849409905,
            0.6265081794109798,
            -0.7364546388732056,
            0.021865312543631957,
            0.699858255287786,
            0.16191230667218595,
            -3.2788001671621045,
            -1.2684928024320357,
            0.5356015737838373,
            0.7102562001819651,
            -0.1754279817000089,
            0.8202339731376742,
            0.3217506524774037,
            -0.7715824389071233,
            -5.08789239293126,
            0.7026461387936016,
            0.9870310287207834,
            -0.16380023320164283,
            0.985005989635059,
            0.2717625501449995,
            0.756349215552694,
            0.4690541176853536,
            -0.4806421820007575,
            0.03429213790956188,
            0.7098232071923013,
            0.3801314081277767,
            0.7642053879677655,
            -0.12754571154808966,
            0.9947545635916206,
            0.20892420825199787,
            0.7759610700629933,
            0.4039381923140911,
            0.979720118997728,
            0.5746384042384197,
            -0.31857907497195176,
            -0.6101106225234785,
            0.18925272168879226,
            -2.5827566766216576,
            0.9310848617234495,
            0.984777500912831,
            0.6919477201657862,
            0.5169192658810832,
            -0.011372804682508088,
            0.769322355056159,
            0.2865618676998443,
            0.48530293943556585,
            -0.9915002893774975,
            0.7971114412469227,
            0.9876514400467503,
            -3.9094433288429267,
            0.9967574201649196,
            0.6369183165074747,
            0.8145476900267273,
            0.34936401193749805,
            0.12957220274819875,
            0.8229059107018586,
            0.6173934513938989
           ]
          },
          {
           "label": "lambda_l2",
           "range": [
            -7.972910043219161,
            0.9953400929275272
           ],
           "ticktext": [
            "1.06e-08",
            "1e-07",
            "1e-06",
            "1e-05",
            "0.0001",
            "0.001",
            "0.01",
            "0.1",
            "1",
            "9.89"
           ],
           "tickvals": [
            -7.972910043219161,
            -7,
            -6,
            -5,
            -4,
            -3,
            -2,
            -1,
            0,
            0.9953400929275272
           ],
           "values": [
            -4.309120060764614,
            -4.1089938250727736,
            -6.684938420525766,
            0.8857500811071454,
            -7.906475802245962,
            -0.6383789596246255,
            -4.2601881819133585,
            -4.364336960989907,
            -7.115527031701755,
            -5.260519351013703,
            0.8757500377543453,
            0.39495755352336104,
            -1.7078389748369134,
            0.7002131962268678,
            -1.9865418804892547,
            -0.7673658121960811,
            -2.5178092798985854,
            -0.24903412203796596,
            -2.923586687672641,
            0.9670727553455855,
            -1.4797253129665988,
            -2.3911182201828103,
            -0.06934407326419391,
            -1.2909950594131658,
            0.3015288043350008,
            -2.985846287662909,
            -5.803509206421228,
            -1.1480208290471479,
            0.28708011551993606,
            -2.2230185378594465,
            -0.5535481934644696,
            -1.1355616054750797,
            -3.5375598889429236,
            -2.787965280957096,
            0.8065842697641084,
            0.9038316230319623,
            0.33458031534234484,
            -0.24918333369550066,
            0.5630973408853044,
            -0.08826633581258726,
            -5.625938667722768,
            -3.626345748354348,
            -0.8818360097617234,
            -0.6711413138402421,
            0.716587643899751,
            0.03830842001903519,
            0.9953400929275272,
            -0.889857061888967,
            -1.9289021576501948,
            -0.4785206868348265,
            0.4785557253897696,
            0.7346911721574789,
            0.6533150851917178,
            0.09784528441735904,
            -4.0391408704961576,
            -0.3143134698197305,
            -4.700611337899584,
            -7.972910043219161,
            -1.5322603366906775,
            -1.6973978034693722,
            -2.7520491587984814,
            -1.606056918328373,
            -1.4949511119293735,
            -2.3814480196304655,
            -2.4338855340469174,
            -3.2894853587508135,
            -2.1558168428526314,
            -2.6115301077307964,
            -3.11471220973854,
            -1.8455468209785821,
            -6.8238912623982,
            -1.559410089756347,
            -1.077148178761172,
            -2.1601781029364715,
            -0.8599810861602741,
            -1.388443650577151,
            -2.4502990125828426,
            -1.304153845884305,
            -3.855440636933653,
            -3.3200038240185075,
            0.22004129108784834,
            -1.3894443983637295,
            -1.9452603025008763,
            -1.0232208909727465,
            -0.4675644281919452,
            -1.7460153544355241,
            -0.11562697734150858,
            0.4383914359798415,
            0.7669077153602923,
            -2.194278682969381,
            -1.6132889309312317,
            -1.9585747629039103,
            -1.2904355385687891,
            -2.660081059848968,
            -2.5997425814220407,
            -2.8346922737685687,
            -2.9471032489386464,
            -2.7922119317442156,
            -2.2472557341596247,
            -2.051087190814274
           ]
          },
          {
           "label": "num_leaves",
           "range": [
            12,
            256
           ],
           "values": [
            230,
            236,
            200,
            64,
            180,
            38,
            222,
            238,
            240,
            132,
            30,
            20,
            86,
            66,
            114,
            60,
            14,
            96,
            158,
            54,
            100,
            12,
            36,
            36,
            80,
            16,
            46,
            64,
            28,
            72,
            112,
            42,
            28,
            12,
            56,
            52,
            72,
            178,
            24,
            128,
            148,
            40,
            32,
            54,
            28,
            70,
            92,
            216,
            46,
            84,
            60,
            28,
            256,
            32,
            22,
            20,
            48,
            36,
            12,
            16,
            60,
            14,
            18,
            12,
            14,
            12,
            44,
            22,
            38,
            24,
            52,
            32,
            32,
            40,
            20,
            12,
            12,
            26,
            20,
            12,
            68,
            30,
            34,
            46,
            76,
            26,
            110,
            40,
            170,
            56,
            18,
            36,
            48,
            34,
            24,
            16,
            64,
            38,
            18,
            28
           ]
          }
         ],
         "labelangle": 30,
         "labelside": "bottom",
         "line": {
          "color": [
           0.11300855032768611,
           0.11346710180827918,
           0.11326447147267803,
           0.11057235943637705,
           0.11309320947714253,
           0.11149908291763808,
           0.11310857835647233,
           0.11329821799226639,
           0.11334591671362938,
           0.11280490014960101,
           0.11025675484162617,
           0.11081166545489164,
           0.11083980478515232,
           0.1104134835644495,
           0.11231875931805475,
           0.11174965884591542,
           0.11048957355983777,
           0.11172489288152455,
           0.1128595170803678,
           0.11081818200880617,
           0.11231300789802355,
           0.1106458078291237,
           0.11105478105491128,
           0.11056971694403496,
           0.1112385486474552,
           0.11149299587976484,
           0.1120862780002073,
           0.11144158027708477,
           0.11075921873963929,
           0.11257035636158472,
           0.1118922146871382,
           0.11057384045795172,
           0.11094296769792635,
           0.11093199779317878,
           0.11027271346681958,
           0.11098201109711835,
           0.11132899025282368,
           0.11178598965906815,
           0.1109238373675254,
           0.11185790286682885,
           0.1127817488713133,
           0.11093089538393087,
           0.11049203105594205,
           0.11154893695075112,
           0.11056935042194148,
           0.11151775683732,
           0.11077639559151548,
           0.11153136052141122,
           0.11138352312526563,
           0.11189395758254542,
           0.11108799491752301,
           0.11063160235524686,
           0.11100326589326504,
           0.11105288412698652,
           0.11073942511550018,
           0.11089736422358958,
           0.1118333260715663,
           0.11175146666825332,
           0.11036139276354445,
           0.11054935525729788,
           0.1117507439946854,
           0.11040839182671766,
           0.11073234928747987,
           0.11026187464493624,
           0.11065394023151963,
           0.11114116327828641,
           0.11161417126372629,
           0.11063053442058131,
           0.11115043289021831,
           0.11065958750024701,
           0.11182662443513608,
           0.11052999922122862,
           0.11109668099041103,
           0.11067722537677908,
           0.11107156378370267,
           0.11029668846290462,
           0.11061295996298728,
           0.11121650248017649,
           0.11150128431296176,
           0.1110948388757322,
           0.11132264959386357,
           0.11057008859916309,
           0.11050039984799719,
           0.1108056568192179,
           0.1111188819360631,
           0.11140879793687165,
           0.11085320922819324,
           0.11082421784085682,
           0.11116207001925424,
           0.11190136168216691,
           0.11056191996254665,
           0.11047471719475412,
           0.1119558308433579,
           0.1104674473404311,
           0.11066112864984869,
           0.11032447831004624,
           0.11118295227931635,
           0.11131676267884327,
           0.11051949998973626,
           0.11073954918689148
          ],
          "colorbar": {
           "title": {
            "text": "Objective Value"
           }
          },
          "colorscale": [
           [
            0,
            "rgb(247,251,255)"
           ],
           [
            0.125,
            "rgb(222,235,247)"
           ],
           [
            0.25,
            "rgb(198,219,239)"
           ],
           [
            0.375,
            "rgb(158,202,225)"
           ],
           [
            0.5,
            "rgb(107,174,214)"
           ],
           [
            0.625,
            "rgb(66,146,198)"
           ],
           [
            0.75,
            "rgb(33,113,181)"
           ],
           [
            0.875,
            "rgb(8,81,156)"
           ],
           [
            1,
            "rgb(8,48,107)"
           ]
          ],
          "reversescale": true,
          "showscale": true
         },
         "type": "parcoords"
        }
       ],
       "layout": {
        "template": {
         "data": {
          "bar": [
           {
            "error_x": {
             "color": "#2a3f5f"
            },
            "error_y": {
             "color": "#2a3f5f"
            },
            "marker": {
             "line": {
              "color": "#E5ECF6",
              "width": 0.5
             },
             "pattern": {
              "fillmode": "overlay",
              "size": 10,
              "solidity": 0.2
             }
            },
            "type": "bar"
           }
          ],
          "barpolar": [
           {
            "marker": {
             "line": {
              "color": "#E5ECF6",
              "width": 0.5
             },
             "pattern": {
              "fillmode": "overlay",
              "size": 10,
              "solidity": 0.2
             }
            },
            "type": "barpolar"
           }
          ],
          "carpet": [
           {
            "aaxis": {
             "endlinecolor": "#2a3f5f",
             "gridcolor": "white",
             "linecolor": "white",
             "minorgridcolor": "white",
             "startlinecolor": "#2a3f5f"
            },
            "baxis": {
             "endlinecolor": "#2a3f5f",
             "gridcolor": "white",
             "linecolor": "white",
             "minorgridcolor": "white",
             "startlinecolor": "#2a3f5f"
            },
            "type": "carpet"
           }
          ],
          "choropleth": [
           {
            "colorbar": {
             "outlinewidth": 0,
             "ticks": ""
            },
            "type": "choropleth"
           }
          ],
          "contour": [
           {
            "colorbar": {
             "outlinewidth": 0,
             "ticks": ""
            },
            "colorscale": [
             [
              0,
              "#0d0887"
             ],
             [
              0.1111111111111111,
              "#46039f"
             ],
             [
              0.2222222222222222,
              "#7201a8"
             ],
             [
              0.3333333333333333,
              "#9c179e"
             ],
             [
              0.4444444444444444,
              "#bd3786"
             ],
             [
              0.5555555555555556,
              "#d8576b"
             ],
             [
              0.6666666666666666,
              "#ed7953"
             ],
             [
              0.7777777777777778,
              "#fb9f3a"
             ],
             [
              0.8888888888888888,
              "#fdca26"
             ],
             [
              1,
              "#f0f921"
             ]
            ],
            "type": "contour"
           }
          ],
          "contourcarpet": [
           {
            "colorbar": {
             "outlinewidth": 0,
             "ticks": ""
            },
            "type": "contourcarpet"
           }
          ],
          "heatmap": [
           {
            "colorbar": {
             "outlinewidth": 0,
             "ticks": ""
            },
            "colorscale": [
             [
              0,
              "#0d0887"
             ],
             [
              0.1111111111111111,
              "#46039f"
             ],
             [
              0.2222222222222222,
              "#7201a8"
             ],
             [
              0.3333333333333333,
              "#9c179e"
             ],
             [
              0.4444444444444444,
              "#bd3786"
             ],
             [
              0.5555555555555556,
              "#d8576b"
             ],
             [
              0.6666666666666666,
              "#ed7953"
             ],
             [
              0.7777777777777778,
              "#fb9f3a"
             ],
             [
              0.8888888888888888,
              "#fdca26"
             ],
             [
              1,
              "#f0f921"
             ]
            ],
            "type": "heatmap"
           }
          ],
          "heatmapgl": [
           {
            "colorbar": {
             "outlinewidth": 0,
             "ticks": ""
            },
            "colorscale": [
             [
              0,
              "#0d0887"
             ],
             [
              0.1111111111111111,
              "#46039f"
             ],
             [
              0.2222222222222222,
              "#7201a8"
             ],
             [
              0.3333333333333333,
              "#9c179e"
             ],
             [
              0.4444444444444444,
              "#bd3786"
             ],
             [
              0.5555555555555556,
              "#d8576b"
             ],
             [
              0.6666666666666666,
              "#ed7953"
             ],
             [
              0.7777777777777778,
              "#fb9f3a"
             ],
             [
              0.8888888888888888,
              "#fdca26"
             ],
             [
              1,
              "#f0f921"
             ]
            ],
            "type": "heatmapgl"
           }
          ],
          "histogram": [
           {
            "marker": {
             "pattern": {
              "fillmode": "overlay",
              "size": 10,
              "solidity": 0.2
             }
            },
            "type": "histogram"
           }
          ],
          "histogram2d": [
           {
            "colorbar": {
             "outlinewidth": 0,
             "ticks": ""
            },
            "colorscale": [
             [
              0,
              "#0d0887"
             ],
             [
              0.1111111111111111,
              "#46039f"
             ],
             [
              0.2222222222222222,
              "#7201a8"
             ],
             [
              0.3333333333333333,
              "#9c179e"
             ],
             [
              0.4444444444444444,
              "#bd3786"
             ],
             [
              0.5555555555555556,
              "#d8576b"
             ],
             [
              0.6666666666666666,
              "#ed7953"
             ],
             [
              0.7777777777777778,
              "#fb9f3a"
             ],
             [
              0.8888888888888888,
              "#fdca26"
             ],
             [
              1,
              "#f0f921"
             ]
            ],
            "type": "histogram2d"
           }
          ],
          "histogram2dcontour": [
           {
            "colorbar": {
             "outlinewidth": 0,
             "ticks": ""
            },
            "colorscale": [
             [
              0,
              "#0d0887"
             ],
             [
              0.1111111111111111,
              "#46039f"
             ],
             [
              0.2222222222222222,
              "#7201a8"
             ],
             [
              0.3333333333333333,
              "#9c179e"
             ],
             [
              0.4444444444444444,
              "#bd3786"
             ],
             [
              0.5555555555555556,
              "#d8576b"
             ],
             [
              0.6666666666666666,
              "#ed7953"
             ],
             [
              0.7777777777777778,
              "#fb9f3a"
             ],
             [
              0.8888888888888888,
              "#fdca26"
             ],
             [
              1,
              "#f0f921"
             ]
            ],
            "type": "histogram2dcontour"
           }
          ],
          "mesh3d": [
           {
            "colorbar": {
             "outlinewidth": 0,
             "ticks": ""
            },
            "type": "mesh3d"
           }
          ],
          "parcoords": [
           {
            "line": {
             "colorbar": {
              "outlinewidth": 0,
              "ticks": ""
             }
            },
            "type": "parcoords"
           }
          ],
          "pie": [
           {
            "automargin": true,
            "type": "pie"
           }
          ],
          "scatter": [
           {
            "fillpattern": {
             "fillmode": "overlay",
             "size": 10,
             "solidity": 0.2
            },
            "type": "scatter"
           }
          ],
          "scatter3d": [
           {
            "line": {
             "colorbar": {
              "outlinewidth": 0,
              "ticks": ""
             }
            },
            "marker": {
             "colorbar": {
              "outlinewidth": 0,
              "ticks": ""
             }
            },
            "type": "scatter3d"
           }
          ],
          "scattercarpet": [
           {
            "marker": {
             "colorbar": {
              "outlinewidth": 0,
              "ticks": ""
             }
            },
            "type": "scattercarpet"
           }
          ],
          "scattergeo": [
           {
            "marker": {
             "colorbar": {
              "outlinewidth": 0,
              "ticks": ""
             }
            },
            "type": "scattergeo"
           }
          ],
          "scattergl": [
           {
            "marker": {
             "colorbar": {
              "outlinewidth": 0,
              "ticks": ""
             }
            },
            "type": "scattergl"
           }
          ],
          "scattermapbox": [
           {
            "marker": {
             "colorbar": {
              "outlinewidth": 0,
              "ticks": ""
             }
            },
            "type": "scattermapbox"
           }
          ],
          "scatterpolar": [
           {
            "marker": {
             "colorbar": {
              "outlinewidth": 0,
              "ticks": ""
             }
            },
            "type": "scatterpolar"
           }
          ],
          "scatterpolargl": [
           {
            "marker": {
             "colorbar": {
              "outlinewidth": 0,
              "ticks": ""
             }
            },
            "type": "scatterpolargl"
           }
          ],
          "scatterternary": [
           {
            "marker": {
             "colorbar": {
              "outlinewidth": 0,
              "ticks": ""
             }
            },
            "type": "scatterternary"
           }
          ],
          "surface": [
           {
            "colorbar": {
             "outlinewidth": 0,
             "ticks": ""
            },
            "colorscale": [
             [
              0,
              "#0d0887"
             ],
             [
              0.1111111111111111,
              "#46039f"
             ],
             [
              0.2222222222222222,
              "#7201a8"
             ],
             [
              0.3333333333333333,
              "#9c179e"
             ],
             [
              0.4444444444444444,
              "#bd3786"
             ],
             [
              0.5555555555555556,
              "#d8576b"
             ],
             [
              0.6666666666666666,
              "#ed7953"
             ],
             [
              0.7777777777777778,
              "#fb9f3a"
             ],
             [
              0.8888888888888888,
              "#fdca26"
             ],
             [
              1,
              "#f0f921"
             ]
            ],
            "type": "surface"
           }
          ],
          "table": [
           {
            "cells": {
             "fill": {
              "color": "#EBF0F8"
             },
             "line": {
              "color": "white"
             }
            },
            "header": {
             "fill": {
              "color": "#C8D4E3"
             },
             "line": {
              "color": "white"
             }
            },
            "type": "table"
           }
          ]
         },
         "layout": {
          "annotationdefaults": {
           "arrowcolor": "#2a3f5f",
           "arrowhead": 0,
           "arrowwidth": 1
          },
          "autotypenumbers": "strict",
          "coloraxis": {
           "colorbar": {
            "outlinewidth": 0,
            "ticks": ""
           }
          },
          "colorscale": {
           "diverging": [
            [
             0,
             "#8e0152"
            ],
            [
             0.1,
             "#c51b7d"
            ],
            [
             0.2,
             "#de77ae"
            ],
            [
             0.3,
             "#f1b6da"
            ],
            [
             0.4,
             "#fde0ef"
            ],
            [
             0.5,
             "#f7f7f7"
            ],
            [
             0.6,
             "#e6f5d0"
            ],
            [
             0.7,
             "#b8e186"
            ],
            [
             0.8,
             "#7fbc41"
            ],
            [
             0.9,
             "#4d9221"
            ],
            [
             1,
             "#276419"
            ]
           ],
           "sequential": [
            [
             0,
             "#0d0887"
            ],
            [
             0.1111111111111111,
             "#46039f"
            ],
            [
             0.2222222222222222,
             "#7201a8"
            ],
            [
             0.3333333333333333,
             "#9c179e"
            ],
            [
             0.4444444444444444,
             "#bd3786"
            ],
            [
             0.5555555555555556,
             "#d8576b"
            ],
            [
             0.6666666666666666,
             "#ed7953"
            ],
            [
             0.7777777777777778,
             "#fb9f3a"
            ],
            [
             0.8888888888888888,
             "#fdca26"
            ],
            [
             1,
             "#f0f921"
            ]
           ],
           "sequentialminus": [
            [
             0,
             "#0d0887"
            ],
            [
             0.1111111111111111,
             "#46039f"
            ],
            [
             0.2222222222222222,
             "#7201a8"
            ],
            [
             0.3333333333333333,
             "#9c179e"
            ],
            [
             0.4444444444444444,
             "#bd3786"
            ],
            [
             0.5555555555555556,
             "#d8576b"
            ],
            [
             0.6666666666666666,
             "#ed7953"
            ],
            [
             0.7777777777777778,
             "#fb9f3a"
            ],
            [
             0.8888888888888888,
             "#fdca26"
            ],
            [
             1,
             "#f0f921"
            ]
           ]
          },
          "colorway": [
           "#636efa",
           "#EF553B",
           "#00cc96",
           "#ab63fa",
           "#FFA15A",
           "#19d3f3",
           "#FF6692",
           "#B6E880",
           "#FF97FF",
           "#FECB52"
          ],
          "font": {
           "color": "#2a3f5f"
          },
          "geo": {
           "bgcolor": "white",
           "lakecolor": "white",
           "landcolor": "#E5ECF6",
           "showlakes": true,
           "showland": true,
           "subunitcolor": "white"
          },
          "hoverlabel": {
           "align": "left"
          },
          "hovermode": "closest",
          "mapbox": {
           "style": "light"
          },
          "paper_bgcolor": "white",
          "plot_bgcolor": "#E5ECF6",
          "polar": {
           "angularaxis": {
            "gridcolor": "white",
            "linecolor": "white",
            "ticks": ""
           },
           "bgcolor": "#E5ECF6",
           "radialaxis": {
            "gridcolor": "white",
            "linecolor": "white",
            "ticks": ""
           }
          },
          "scene": {
           "xaxis": {
            "backgroundcolor": "#E5ECF6",
            "gridcolor": "white",
            "gridwidth": 2,
            "linecolor": "white",
            "showbackground": true,
            "ticks": "",
            "zerolinecolor": "white"
           },
           "yaxis": {
            "backgroundcolor": "#E5ECF6",
            "gridcolor": "white",
            "gridwidth": 2,
            "linecolor": "white",
            "showbackground": true,
            "ticks": "",
            "zerolinecolor": "white"
           },
           "zaxis": {
            "backgroundcolor": "#E5ECF6",
            "gridcolor": "white",
            "gridwidth": 2,
            "linecolor": "white",
            "showbackground": true,
            "ticks": "",
            "zerolinecolor": "white"
           }
          },
          "shapedefaults": {
           "line": {
            "color": "#2a3f5f"
           }
          },
          "ternary": {
           "aaxis": {
            "gridcolor": "white",
            "linecolor": "white",
            "ticks": ""
           },
           "baxis": {
            "gridcolor": "white",
            "linecolor": "white",
            "ticks": ""
           },
           "bgcolor": "#E5ECF6",
           "caxis": {
            "gridcolor": "white",
            "linecolor": "white",
            "ticks": ""
           }
          },
          "title": {
           "x": 0.05
          },
          "xaxis": {
           "automargin": true,
           "gridcolor": "white",
           "linecolor": "white",
           "ticks": "",
           "title": {
            "standoff": 15
           },
           "zerolinecolor": "white",
           "zerolinewidth": 2
          },
          "yaxis": {
           "automargin": true,
           "gridcolor": "white",
           "linecolor": "white",
           "ticks": "",
           "title": {
            "standoff": 15
           },
           "zerolinecolor": "white",
           "zerolinewidth": 2
          }
         }
        },
        "title": {
         "text": "Parallel Coordinate Plot"
        }
       }
      }
     },
     "metadata": {},
     "output_type": "display_data"
    }
   ],
   "source": [
    "optuna.visualization.plot_parallel_coordinate(study)"
   ]
  },
  {
   "cell_type": "code",
   "execution_count": 17,
   "metadata": {},
   "outputs": [
    {
     "data": {
      "application/vnd.plotly.v1+json": {
       "config": {
        "plotlyServerURL": "https://plot.ly"
       },
       "data": [
        {
         "mode": "lines",
         "name": "lgbm-group-tune",
         "type": "scatter",
         "x": [
          0.11025675484162617,
          0.11028918258876408,
          0.11032161033590199,
          0.1103540380830399,
          0.1103864658301778,
          0.11041889357731571,
          0.11045132132445362,
          0.11048374907159153,
          0.11051617681872944,
          0.11054860456586735,
          0.11058103231300526,
          0.11061346006014317,
          0.11064588780728107,
          0.110678315554419,
          0.1107107433015569,
          0.11074317104869481,
          0.11077559879583272,
          0.11080802654297063,
          0.11084045429010854,
          0.11087288203724645,
          0.11090530978438436,
          0.11093773753152227,
          0.11097016527866017,
          0.11100259302579808,
          0.11103502077293599,
          0.1110674485200739,
          0.11109987626721181,
          0.11113230401434972,
          0.11116473176148763,
          0.11119715950862553,
          0.11122958725576344,
          0.11126201500290135,
          0.11129444275003926,
          0.11132687049717717,
          0.11135929824431508,
          0.11139172599145299,
          0.1114241537385909,
          0.11145658148572882,
          0.11148900923286673,
          0.11152143698000463,
          0.11155386472714254,
          0.11158629247428045,
          0.11161872022141836,
          0.11165114796855627,
          0.11168357571569418,
          0.11171600346283209,
          0.11174843120997,
          0.1117808589571079,
          0.11181328670424581,
          0.11184571445138372,
          0.11187814219852163,
          0.11191056994565954,
          0.11194299769279745,
          0.11197542543993536,
          0.11200785318707326,
          0.11204028093421117,
          0.11207270868134908,
          0.11210513642848699,
          0.1121375641756249,
          0.11216999192276281,
          0.11220241966990072,
          0.11223484741703862,
          0.11226727516417653,
          0.11229970291131446,
          0.11233213065845236,
          0.11236455840559027,
          0.11239698615272818,
          0.11242941389986609,
          0.112461841647004,
          0.11249426939414191,
          0.11252669714127982,
          0.11255912488841772,
          0.11259155263555563,
          0.11262398038269354,
          0.11265640812983145,
          0.11268883587696936,
          0.11272126362410727,
          0.11275369137124518,
          0.11278611911838309,
          0.112818546865521,
          0.1128509746126589,
          0.11288340235979681,
          0.11291583010693472,
          0.11294825785407263,
          0.11298068560121054,
          0.11301311334834845,
          0.11304554109548637,
          0.11307796884262428,
          0.11311039658976219,
          0.1131428243369001,
          0.113175252084038,
          0.11320767983117591,
          0.11324010757831382,
          0.11327253532545173,
          0.11330496307258964,
          0.11333739081972755,
          0.11336981856686545,
          0.11340224631400336,
          0.11343467406114127,
          0.11346710180827918
         ],
         "y": [
          0.01,
          0.03,
          0.04,
          0.05,
          0.06,
          0.08,
          0.08,
          0.1,
          0.13,
          0.15,
          0.22,
          0.23,
          0.26,
          0.3,
          0.3,
          0.33,
          0.34,
          0.36,
          0.4,
          0.41,
          0.42,
          0.45,
          0.46,
          0.47,
          0.48,
          0.5,
          0.54,
          0.55,
          0.58,
          0.59,
          0.6,
          0.61,
          0.61,
          0.63,
          0.64,
          0.65,
          0.66,
          0.67,
          0.67,
          0.71,
          0.73,
          0.73,
          0.74,
          0.74,
          0.74,
          0.74,
          0.75,
          0.78,
          0.79,
          0.81,
          0.82,
          0.85,
          0.85,
          0.86,
          0.86,
          0.86,
          0.86,
          0.87,
          0.87,
          0.87,
          0.87,
          0.87,
          0.87,
          0.87,
          0.89,
          0.89,
          0.89,
          0.89,
          0.89,
          0.89,
          0.89,
          0.89,
          0.9,
          0.9,
          0.9,
          0.9,
          0.9,
          0.9,
          0.91,
          0.92,
          0.92,
          0.93,
          0.93,
          0.93,
          0.93,
          0.94,
          0.94,
          0.94,
          0.96,
          0.96,
          0.96,
          0.96,
          0.96,
          0.97,
          0.98,
          0.98,
          0.99,
          0.99,
          0.99,
          1
         ]
        }
       ],
       "layout": {
        "template": {
         "data": {
          "bar": [
           {
            "error_x": {
             "color": "#2a3f5f"
            },
            "error_y": {
             "color": "#2a3f5f"
            },
            "marker": {
             "line": {
              "color": "#E5ECF6",
              "width": 0.5
             },
             "pattern": {
              "fillmode": "overlay",
              "size": 10,
              "solidity": 0.2
             }
            },
            "type": "bar"
           }
          ],
          "barpolar": [
           {
            "marker": {
             "line": {
              "color": "#E5ECF6",
              "width": 0.5
             },
             "pattern": {
              "fillmode": "overlay",
              "size": 10,
              "solidity": 0.2
             }
            },
            "type": "barpolar"
           }
          ],
          "carpet": [
           {
            "aaxis": {
             "endlinecolor": "#2a3f5f",
             "gridcolor": "white",
             "linecolor": "white",
             "minorgridcolor": "white",
             "startlinecolor": "#2a3f5f"
            },
            "baxis": {
             "endlinecolor": "#2a3f5f",
             "gridcolor": "white",
             "linecolor": "white",
             "minorgridcolor": "white",
             "startlinecolor": "#2a3f5f"
            },
            "type": "carpet"
           }
          ],
          "choropleth": [
           {
            "colorbar": {
             "outlinewidth": 0,
             "ticks": ""
            },
            "type": "choropleth"
           }
          ],
          "contour": [
           {
            "colorbar": {
             "outlinewidth": 0,
             "ticks": ""
            },
            "colorscale": [
             [
              0,
              "#0d0887"
             ],
             [
              0.1111111111111111,
              "#46039f"
             ],
             [
              0.2222222222222222,
              "#7201a8"
             ],
             [
              0.3333333333333333,
              "#9c179e"
             ],
             [
              0.4444444444444444,
              "#bd3786"
             ],
             [
              0.5555555555555556,
              "#d8576b"
             ],
             [
              0.6666666666666666,
              "#ed7953"
             ],
             [
              0.7777777777777778,
              "#fb9f3a"
             ],
             [
              0.8888888888888888,
              "#fdca26"
             ],
             [
              1,
              "#f0f921"
             ]
            ],
            "type": "contour"
           }
          ],
          "contourcarpet": [
           {
            "colorbar": {
             "outlinewidth": 0,
             "ticks": ""
            },
            "type": "contourcarpet"
           }
          ],
          "heatmap": [
           {
            "colorbar": {
             "outlinewidth": 0,
             "ticks": ""
            },
            "colorscale": [
             [
              0,
              "#0d0887"
             ],
             [
              0.1111111111111111,
              "#46039f"
             ],
             [
              0.2222222222222222,
              "#7201a8"
             ],
             [
              0.3333333333333333,
              "#9c179e"
             ],
             [
              0.4444444444444444,
              "#bd3786"
             ],
             [
              0.5555555555555556,
              "#d8576b"
             ],
             [
              0.6666666666666666,
              "#ed7953"
             ],
             [
              0.7777777777777778,
              "#fb9f3a"
             ],
             [
              0.8888888888888888,
              "#fdca26"
             ],
             [
              1,
              "#f0f921"
             ]
            ],
            "type": "heatmap"
           }
          ],
          "heatmapgl": [
           {
            "colorbar": {
             "outlinewidth": 0,
             "ticks": ""
            },
            "colorscale": [
             [
              0,
              "#0d0887"
             ],
             [
              0.1111111111111111,
              "#46039f"
             ],
             [
              0.2222222222222222,
              "#7201a8"
             ],
             [
              0.3333333333333333,
              "#9c179e"
             ],
             [
              0.4444444444444444,
              "#bd3786"
             ],
             [
              0.5555555555555556,
              "#d8576b"
             ],
             [
              0.6666666666666666,
              "#ed7953"
             ],
             [
              0.7777777777777778,
              "#fb9f3a"
             ],
             [
              0.8888888888888888,
              "#fdca26"
             ],
             [
              1,
              "#f0f921"
             ]
            ],
            "type": "heatmapgl"
           }
          ],
          "histogram": [
           {
            "marker": {
             "pattern": {
              "fillmode": "overlay",
              "size": 10,
              "solidity": 0.2
             }
            },
            "type": "histogram"
           }
          ],
          "histogram2d": [
           {
            "colorbar": {
             "outlinewidth": 0,
             "ticks": ""
            },
            "colorscale": [
             [
              0,
              "#0d0887"
             ],
             [
              0.1111111111111111,
              "#46039f"
             ],
             [
              0.2222222222222222,
              "#7201a8"
             ],
             [
              0.3333333333333333,
              "#9c179e"
             ],
             [
              0.4444444444444444,
              "#bd3786"
             ],
             [
              0.5555555555555556,
              "#d8576b"
             ],
             [
              0.6666666666666666,
              "#ed7953"
             ],
             [
              0.7777777777777778,
              "#fb9f3a"
             ],
             [
              0.8888888888888888,
              "#fdca26"
             ],
             [
              1,
              "#f0f921"
             ]
            ],
            "type": "histogram2d"
           }
          ],
          "histogram2dcontour": [
           {
            "colorbar": {
             "outlinewidth": 0,
             "ticks": ""
            },
            "colorscale": [
             [
              0,
              "#0d0887"
             ],
             [
              0.1111111111111111,
              "#46039f"
             ],
             [
              0.2222222222222222,
              "#7201a8"
             ],
             [
              0.3333333333333333,
              "#9c179e"
             ],
             [
              0.4444444444444444,
              "#bd3786"
             ],
             [
              0.5555555555555556,
              "#d8576b"
             ],
             [
              0.6666666666666666,
              "#ed7953"
             ],
             [
              0.7777777777777778,
              "#fb9f3a"
             ],
             [
              0.8888888888888888,
              "#fdca26"
             ],
             [
              1,
              "#f0f921"
             ]
            ],
            "type": "histogram2dcontour"
           }
          ],
          "mesh3d": [
           {
            "colorbar": {
             "outlinewidth": 0,
             "ticks": ""
            },
            "type": "mesh3d"
           }
          ],
          "parcoords": [
           {
            "line": {
             "colorbar": {
              "outlinewidth": 0,
              "ticks": ""
             }
            },
            "type": "parcoords"
           }
          ],
          "pie": [
           {
            "automargin": true,
            "type": "pie"
           }
          ],
          "scatter": [
           {
            "fillpattern": {
             "fillmode": "overlay",
             "size": 10,
             "solidity": 0.2
            },
            "type": "scatter"
           }
          ],
          "scatter3d": [
           {
            "line": {
             "colorbar": {
              "outlinewidth": 0,
              "ticks": ""
             }
            },
            "marker": {
             "colorbar": {
              "outlinewidth": 0,
              "ticks": ""
             }
            },
            "type": "scatter3d"
           }
          ],
          "scattercarpet": [
           {
            "marker": {
             "colorbar": {
              "outlinewidth": 0,
              "ticks": ""
             }
            },
            "type": "scattercarpet"
           }
          ],
          "scattergeo": [
           {
            "marker": {
             "colorbar": {
              "outlinewidth": 0,
              "ticks": ""
             }
            },
            "type": "scattergeo"
           }
          ],
          "scattergl": [
           {
            "marker": {
             "colorbar": {
              "outlinewidth": 0,
              "ticks": ""
             }
            },
            "type": "scattergl"
           }
          ],
          "scattermapbox": [
           {
            "marker": {
             "colorbar": {
              "outlinewidth": 0,
              "ticks": ""
             }
            },
            "type": "scattermapbox"
           }
          ],
          "scatterpolar": [
           {
            "marker": {
             "colorbar": {
              "outlinewidth": 0,
              "ticks": ""
             }
            },
            "type": "scatterpolar"
           }
          ],
          "scatterpolargl": [
           {
            "marker": {
             "colorbar": {
              "outlinewidth": 0,
              "ticks": ""
             }
            },
            "type": "scatterpolargl"
           }
          ],
          "scatterternary": [
           {
            "marker": {
             "colorbar": {
              "outlinewidth": 0,
              "ticks": ""
             }
            },
            "type": "scatterternary"
           }
          ],
          "surface": [
           {
            "colorbar": {
             "outlinewidth": 0,
             "ticks": ""
            },
            "colorscale": [
             [
              0,
              "#0d0887"
             ],
             [
              0.1111111111111111,
              "#46039f"
             ],
             [
              0.2222222222222222,
              "#7201a8"
             ],
             [
              0.3333333333333333,
              "#9c179e"
             ],
             [
              0.4444444444444444,
              "#bd3786"
             ],
             [
              0.5555555555555556,
              "#d8576b"
             ],
             [
              0.6666666666666666,
              "#ed7953"
             ],
             [
              0.7777777777777778,
              "#fb9f3a"
             ],
             [
              0.8888888888888888,
              "#fdca26"
             ],
             [
              1,
              "#f0f921"
             ]
            ],
            "type": "surface"
           }
          ],
          "table": [
           {
            "cells": {
             "fill": {
              "color": "#EBF0F8"
             },
             "line": {
              "color": "white"
             }
            },
            "header": {
             "fill": {
              "color": "#C8D4E3"
             },
             "line": {
              "color": "white"
             }
            },
            "type": "table"
           }
          ]
         },
         "layout": {
          "annotationdefaults": {
           "arrowcolor": "#2a3f5f",
           "arrowhead": 0,
           "arrowwidth": 1
          },
          "autotypenumbers": "strict",
          "coloraxis": {
           "colorbar": {
            "outlinewidth": 0,
            "ticks": ""
           }
          },
          "colorscale": {
           "diverging": [
            [
             0,
             "#8e0152"
            ],
            [
             0.1,
             "#c51b7d"
            ],
            [
             0.2,
             "#de77ae"
            ],
            [
             0.3,
             "#f1b6da"
            ],
            [
             0.4,
             "#fde0ef"
            ],
            [
             0.5,
             "#f7f7f7"
            ],
            [
             0.6,
             "#e6f5d0"
            ],
            [
             0.7,
             "#b8e186"
            ],
            [
             0.8,
             "#7fbc41"
            ],
            [
             0.9,
             "#4d9221"
            ],
            [
             1,
             "#276419"
            ]
           ],
           "sequential": [
            [
             0,
             "#0d0887"
            ],
            [
             0.1111111111111111,
             "#46039f"
            ],
            [
             0.2222222222222222,
             "#7201a8"
            ],
            [
             0.3333333333333333,
             "#9c179e"
            ],
            [
             0.4444444444444444,
             "#bd3786"
            ],
            [
             0.5555555555555556,
             "#d8576b"
            ],
            [
             0.6666666666666666,
             "#ed7953"
            ],
            [
             0.7777777777777778,
             "#fb9f3a"
            ],
            [
             0.8888888888888888,
             "#fdca26"
            ],
            [
             1,
             "#f0f921"
            ]
           ],
           "sequentialminus": [
            [
             0,
             "#0d0887"
            ],
            [
             0.1111111111111111,
             "#46039f"
            ],
            [
             0.2222222222222222,
             "#7201a8"
            ],
            [
             0.3333333333333333,
             "#9c179e"
            ],
            [
             0.4444444444444444,
             "#bd3786"
            ],
            [
             0.5555555555555556,
             "#d8576b"
            ],
            [
             0.6666666666666666,
             "#ed7953"
            ],
            [
             0.7777777777777778,
             "#fb9f3a"
            ],
            [
             0.8888888888888888,
             "#fdca26"
            ],
            [
             1,
             "#f0f921"
            ]
           ]
          },
          "colorway": [
           "#636efa",
           "#EF553B",
           "#00cc96",
           "#ab63fa",
           "#FFA15A",
           "#19d3f3",
           "#FF6692",
           "#B6E880",
           "#FF97FF",
           "#FECB52"
          ],
          "font": {
           "color": "#2a3f5f"
          },
          "geo": {
           "bgcolor": "white",
           "lakecolor": "white",
           "landcolor": "#E5ECF6",
           "showlakes": true,
           "showland": true,
           "subunitcolor": "white"
          },
          "hoverlabel": {
           "align": "left"
          },
          "hovermode": "closest",
          "mapbox": {
           "style": "light"
          },
          "paper_bgcolor": "white",
          "plot_bgcolor": "#E5ECF6",
          "polar": {
           "angularaxis": {
            "gridcolor": "white",
            "linecolor": "white",
            "ticks": ""
           },
           "bgcolor": "#E5ECF6",
           "radialaxis": {
            "gridcolor": "white",
            "linecolor": "white",
            "ticks": ""
           }
          },
          "scene": {
           "xaxis": {
            "backgroundcolor": "#E5ECF6",
            "gridcolor": "white",
            "gridwidth": 2,
            "linecolor": "white",
            "showbackground": true,
            "ticks": "",
            "zerolinecolor": "white"
           },
           "yaxis": {
            "backgroundcolor": "#E5ECF6",
            "gridcolor": "white",
            "gridwidth": 2,
            "linecolor": "white",
            "showbackground": true,
            "ticks": "",
            "zerolinecolor": "white"
           },
           "zaxis": {
            "backgroundcolor": "#E5ECF6",
            "gridcolor": "white",
            "gridwidth": 2,
            "linecolor": "white",
            "showbackground": true,
            "ticks": "",
            "zerolinecolor": "white"
           }
          },
          "shapedefaults": {
           "line": {
            "color": "#2a3f5f"
           }
          },
          "ternary": {
           "aaxis": {
            "gridcolor": "white",
            "linecolor": "white",
            "ticks": ""
           },
           "baxis": {
            "gridcolor": "white",
            "linecolor": "white",
            "ticks": ""
           },
           "bgcolor": "#E5ECF6",
           "caxis": {
            "gridcolor": "white",
            "linecolor": "white",
            "ticks": ""
           }
          },
          "title": {
           "x": 0.05
          },
          "xaxis": {
           "automargin": true,
           "gridcolor": "white",
           "linecolor": "white",
           "ticks": "",
           "title": {
            "standoff": 15
           },
           "zerolinecolor": "white",
           "zerolinewidth": 2
          },
          "yaxis": {
           "automargin": true,
           "gridcolor": "white",
           "linecolor": "white",
           "ticks": "",
           "title": {
            "standoff": 15
           },
           "zerolinecolor": "white",
           "zerolinewidth": 2
          }
         }
        },
        "title": {
         "text": "Empirical Distribution Function Plot"
        },
        "xaxis": {
         "title": {
          "text": "Objective Value"
         }
        },
        "yaxis": {
         "range": [
          0,
          1
         ],
         "title": {
          "text": "Cumulative Probability"
         }
        }
       }
      }
     },
     "metadata": {},
     "output_type": "display_data"
    }
   ],
   "source": [
    "optuna.visualization.plot_edf(study)"
   ]
  }
 ],
 "metadata": {
  "kernelspec": {
   "display_name": "kaggle",
   "language": "python",
   "name": "python3"
  },
  "language_info": {
   "codemirror_mode": {
    "name": "ipython",
    "version": 3
   },
   "file_extension": ".py",
   "mimetype": "text/x-python",
   "name": "python",
   "nbconvert_exporter": "python",
   "pygments_lexer": "ipython3",
   "version": "3.10.13"
  }
 },
 "nbformat": 4,
 "nbformat_minor": 2
}
