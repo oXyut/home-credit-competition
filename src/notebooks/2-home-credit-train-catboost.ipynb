{
 "cells": [
  {
   "cell_type": "code",
   "execution_count": null,
   "id": "6fc9cab3",
   "metadata": {
    "_cell_guid": "b1076dfc-b9ad-4769-8c92-a6c4dae69d19",
    "_uuid": "8f2839f25d086af736a60e9eeb907d3b93b6e0e5",
    "execution": {
     "iopub.execute_input": "2024-04-28T06:33:04.449812Z",
     "iopub.status.busy": "2024-04-28T06:33:04.449167Z",
     "iopub.status.idle": "2024-04-28T06:33:07.896637Z",
     "shell.execute_reply": "2024-04-28T06:33:07.895405Z"
    },
    "papermill": {
     "duration": 3.458181,
     "end_time": "2024-04-28T06:33:07.899403",
     "exception": false,
     "start_time": "2024-04-28T06:33:04.441222",
     "status": "completed"
    },
    "tags": []
   },
   "outputs": [],
   "source": [
    "import datetime\n",
    "import gc\n",
    "import os\n",
    "import pathlib\n",
    "import random\n",
    "import sys\n",
    "sys.path.append('..')\n",
    "from typing import Any, Dict, List, Tuple, Union\n",
    "\n",
    "from catboost import CatBoostClassifier, Pool\n",
    "import matplotlib.pyplot as plt\n",
    "import numpy as np\n",
    "import pandas as pd\n",
    "import seaborn as sns\n",
    "from sklearn.model_selection import StratifiedGroupKFold\n",
    "\n",
    "from scripts.evaluate import Evaluator\n",
    "from scripts.get_logger import get_logger\n",
    "\n",
    "\n",
    "gc.enable()"
   ]
  },
  {
   "cell_type": "code",
   "execution_count": null,
   "id": "d5a164a2",
   "metadata": {
    "execution": {
     "iopub.execute_input": "2024-04-28T06:33:07.913566Z",
     "iopub.status.busy": "2024-04-28T06:33:07.912822Z",
     "iopub.status.idle": "2024-04-28T06:33:07.919971Z",
     "shell.execute_reply": "2024-04-28T06:33:07.918746Z"
    },
    "papermill": {
     "duration": 0.017284,
     "end_time": "2024-04-28T06:33:07.922433",
     "exception": false,
     "start_time": "2024-04-28T06:33:07.905149",
     "status": "completed"
    },
    "tags": []
   },
   "outputs": [],
   "source": [
    "class PathHandler:\n",
    "    competition_dir = pathlib.Path('../../inputs')\n",
    "    parquet_files_dir = competition_dir.joinpath('parquet_files')\n",
    "    feature_dir = pathlib.Path('../../outputs/features')\n",
    "    now_time = datetime.datetime.now()\n",
    "    dataset_dir = pathlib.Path('../../dataset')\n",
    "    output_dir = pathlib.Path(\n",
    "        '../../outputs/output_catboost/'\n",
    "        + f'model_outputs_{now_time.date()}-{now_time.hour:02}-{now_time.minute:02}'\n",
    "    )\n",
    "    if not output_dir.is_dir():\n",
    "        output_dir.mkdir(parents=True)\n",
    "\n",
    "\n",
    "paths = PathHandler()"
   ]
  },
  {
   "cell_type": "markdown",
   "id": "02e9a9a6",
   "metadata": {},
   "source": [
    "### load depth_data"
   ]
  },
  {
   "cell_type": "code",
   "execution_count": null,
   "id": "b8a1d52d",
   "metadata": {},
   "outputs": [],
   "source": [
    "depth_data = pd.read_parquet(paths.dataset_dir.joinpath('depth_data.parquet'))\n",
    "depth_data = depth_data.query('is_test==0')\n",
    "depth_data.drop(columns=['is_test'], inplace=True)\n",
    "categorical_features = list(np.load(paths.dataset_dir.joinpath('categorical_features.npy'), allow_pickle=True))\n",
    "\n",
    "depth_data.fillna({col: 'none' for col in categorical_features}, inplace=True)\n",
    "depth_data[categorical_features] = depth_data[categorical_features].astype('category')\n",
    "\n",
    "display(depth_data)\n",
    "print(len(categorical_features))\n",
    "\n",
    "display(depth_data.dtypes.value_counts())"
   ]
  },
  {
   "cell_type": "code",
   "execution_count": null,
   "id": "50d681de",
   "metadata": {
    "execution": {
     "iopub.execute_input": "2024-04-28T06:39:32.476055Z",
     "iopub.status.busy": "2024-04-28T06:39:32.475030Z",
     "iopub.status.idle": "2024-04-28T06:39:32.485013Z",
     "shell.execute_reply": "2024-04-28T06:39:32.483726Z"
    },
    "papermill": {
     "duration": 0.02521,
     "end_time": "2024-04-28T06:39:32.488590",
     "exception": false,
     "start_time": "2024-04-28T06:39:32.463380",
     "status": "completed"
    },
    "tags": []
   },
   "outputs": [],
   "source": [
    "class CFG:\n",
    "    def __init__(\n",
    "            self,\n",
    "            outputs_dir: pathlib.Path,\n",
    "            n_splits: int = 5,\n",
    "            lr: float = 0.1,\n",
    "            depth: int = 6,\n",
    "            iterations: int = 1000,\n",
    "            loss_function: str = 'Logloss',\n",
    "            eval_metric: str = 'Logloss',\n",
    "            subsample: int = 0.66,\n",
    "            rsm: float = 1.0,\n",
    "            l2_leaf_reg: float = 3.0,\n",
    "            min_data_in_leaf: int = 1,\n",
    "            seed: int = 42,\n",
    "            task_type: str = 'cpu',\n",
    "            thread_count: int = -1,\n",
    "            debag: bool = False,\n",
    "        ):\n",
    "        \n",
    "        self.outputs_dir = outputs_dir\n",
    "        self.n_splits = n_splits\n",
    "        self.lr = lr\n",
    "        self.depth = depth\n",
    "        self.iterations = iterations\n",
    "        self.loss_function = loss_function\n",
    "        self.eval_metric = eval_metric\n",
    "        self.subsample = subsample\n",
    "        self.rsm = rsm\n",
    "        self.l2_leaf_reg = l2_leaf_reg\n",
    "        self.min_data_in_leaf = min_data_in_leaf\n",
    "        self.seed = seed\n",
    "        self.task_type = task_type\n",
    "        self.thread_count = thread_count\n",
    "        self.debag = debag\n",
    "        \n",
    "    def seed_everything(self):\n",
    "        random.seed(self.seed)\n",
    "        np.random.seed(self.seed)"
   ]
  },
  {
   "cell_type": "code",
   "execution_count": null,
   "id": "c7375015",
   "metadata": {
    "execution": {
     "iopub.execute_input": "2024-04-28T06:39:32.511541Z",
     "iopub.status.busy": "2024-04-28T06:39:32.511176Z",
     "iopub.status.idle": "2024-04-28T06:39:32.529502Z",
     "shell.execute_reply": "2024-04-28T06:39:32.528290Z"
    },
    "papermill": {
     "duration": 0.03279,
     "end_time": "2024-04-28T06:39:32.532204",
     "exception": false,
     "start_time": "2024-04-28T06:39:32.499414",
     "status": "completed"
    },
    "tags": []
   },
   "outputs": [],
   "source": [
    "def train(\n",
    "        config: Dict[str, Any],\n",
    "        logger: object,\n",
    "        X: pd.DataFrame,\n",
    "        categorical_features: List[str],\n",
    "    ) -> Tuple[pd.DataFrame, pd.DataFrame]:\n",
    "    \n",
    "    kfold = StratifiedGroupKFold(\n",
    "        n_splits=config.n_splits,\n",
    "        shuffle=True,\n",
    "        random_state=config.seed,\n",
    "    )\n",
    "\n",
    "    y = X['target'].copy()\n",
    "    weeks = X[['WEEK_NUM']].copy()\n",
    "    oof = X[['case_id', 'date_decision', 'MONTH', 'WEEK_NUM', 'target']].copy()\n",
    "    oof_probas = -1 * np.ones(len(oof))\n",
    "    folds = -1 * np.ones(len(oof))\n",
    "    X.drop(columns=['case_id', 'date_decision', 'MONTH', 'WEEK_NUM', 'target'], inplace=True)\n",
    "\n",
    "    display(X.dtypes.value_counts())\n",
    "    display(oof)\n",
    "\n",
    "    logger.info(f'number of features: {X.shape}')\n",
    "    \n",
    "    np.save(config.outputs_dir.joinpath('training_features.npy'), X.columns.to_numpy())\n",
    "    np.save(config.outputs_dir.joinpath('categorical_features.npy'), categorical_features)\n",
    "    \n",
    "    fimps = pd.DataFrame(\n",
    "        index=X.columns,\n",
    "        columns=[f'fold_{k+1}_fimp' for k in range(config.n_splits)],\n",
    "    )\n",
    "\n",
    "    model_params = {\n",
    "        'depth': config.depth,\n",
    "        'iterations': config.iterations,\n",
    "        'loss_function': config.loss_function,\n",
    "        'eval_metric': config.eval_metric,\n",
    "        'learning_rate': config.lr,\n",
    "        'random_seed': config.seed,\n",
    "        'subsample': config.subsample,\n",
    "        'rsm': config.rsm,\n",
    "        'l2_leaf_reg': config.l2_leaf_reg,\n",
    "        'min_data_in_leaf': config.min_data_in_leaf,\n",
    "        'task_type': config.task_type,\n",
    "        'thread_count': config.thread_count,\n",
    "    }\n",
    "\n",
    "    for k, (train_indices, valid_indices) in enumerate(kfold.split(X=X, y=y, groups=weeks)):\n",
    "\n",
    "        logger.info(f'fold: {k+1}')\n",
    "        logger.info(f'# of train: {len(train_indices)}')\n",
    "        logger.info(f'# of valid: {len(valid_indices)}')\n",
    "\n",
    "        logger.info(f'train WEEK_NUM: {oof.iloc[train_indices][\"WEEK_NUM\"].unique()}')\n",
    "        logger.info(f'valid WEEK_NUM: {oof.iloc[valid_indices][\"WEEK_NUM\"].unique()}')\n",
    "        \n",
    "        train_X = X.iloc[train_indices]\n",
    "        valid_X = X.iloc[valid_indices]\n",
    "        \n",
    "        train_y = y.iloc[train_indices]\n",
    "        valid_y = y.iloc[valid_indices]\n",
    "\n",
    "        train_pool = Pool(\n",
    "            data=train_X,\n",
    "            label=train_y,\n",
    "            cat_features=categorical_features\n",
    "        )\n",
    "        valid_pool = Pool(\n",
    "            data=valid_X,\n",
    "            label=valid_y,\n",
    "            cat_features=categorical_features\n",
    "        )\n",
    "        \n",
    "        model = CatBoostClassifier(**model_params)\n",
    "        model.fit(\n",
    "            train_pool,\n",
    "            eval_set=valid_pool,\n",
    "            use_best_model=True,\n",
    "            early_stopping_rounds=100,\n",
    "            verbose=100,\n",
    "        )\n",
    "\n",
    "        date = ''.join(config.outputs_dir.stem.split('-')[-4:])\n",
    "        model.save_model(\n",
    "            config.outputs_dir.joinpath(f'catboost_fold{k+1}_{date}.cbm')\n",
    "        )\n",
    "        \n",
    "        fimps.loc[X.columns, f'fold_{k+1}_fimp'] = model.get_feature_importance(\n",
    "            valid_pool,\n",
    "            type='PredictionValuesChange'\n",
    "        )\n",
    "        \n",
    "        oof_probas[valid_indices] = model.predict_proba(valid_X)[:, 1]\n",
    "        folds[valid_indices] = k\n",
    "        \n",
    "        del train_X, train_y, valid_X, valid_y\n",
    "        del train_pool, valid_pool\n",
    "        del model\n",
    "        gc.collect()\n",
    "        \n",
    "    oof.loc[:, 'probability'] = oof_probas\n",
    "    oof.loc[:, 'fold'] = folds\n",
    "    \n",
    "    del oof_probas, folds\n",
    "    gc.collect()\n",
    "\n",
    "    logger.info('Done!\\n')\n",
    "    \n",
    "    return oof, fimps"
   ]
  },
  {
   "cell_type": "code",
   "execution_count": null,
   "id": "11c3816c",
   "metadata": {
    "execution": {
     "iopub.execute_input": "2024-04-28T06:39:32.589927Z",
     "iopub.status.busy": "2024-04-28T06:39:32.589357Z",
     "iopub.status.idle": "2024-04-28T12:09:31.144070Z",
     "shell.execute_reply": "2024-04-28T12:09:31.142470Z"
    },
    "papermill": {
     "duration": 19798.570959,
     "end_time": "2024-04-28T12:09:31.148133",
     "exception": false,
     "start_time": "2024-04-28T06:39:32.577174",
     "status": "completed"
    },
    "tags": []
   },
   "outputs": [],
   "source": [
    "%%time\n",
    "\n",
    "\n",
    "config = CFG(\n",
    "    outputs_dir=paths.output_dir,\n",
    "    n_splits=5,\n",
    "    lr=5e-02,\n",
    "    iterations=10000,\n",
    "    loss_function='Logloss',\n",
    "    eval_metric='NormalizedGini',\n",
    "    min_data_in_leaf=100,\n",
    "    subsample=0.8,\n",
    "    rsm=0.8,\n",
    "    seed=42,\n",
    "    l2_leaf_reg=10,\n",
    "    task_type='CPU',\n",
    "    thread_count=int(os.cpu_count()*0.8),\n",
    "    debag=False,\n",
    ")\n",
    "config.seed_everything()\n",
    "\n",
    "logger = get_logger(paths.output_dir.joinpath('output.log'))\n",
    "\n",
    "log = [\n",
    "    f'{k} = {config.__dict__[k]}'\n",
    "    for k, v in config.__dict__.items()\n",
    "    if not k.startswith('__')\n",
    "]\n",
    "logger.info('\\n'.join(log))\n",
    "logger.info('\\n')\n",
    "\n",
    "if config.debag:\n",
    "    depth_data = depth_data.sample(n=10000, random_state=config.seed)\n",
    "    depth_data = depth_data.reset_index(drop=True)\n",
    "\n",
    "oof, fimps = train(config, logger, depth_data, categorical_features)"
   ]
  },
  {
   "cell_type": "code",
   "execution_count": null,
   "id": "751391cb",
   "metadata": {
    "execution": {
     "iopub.execute_input": "2024-04-28T12:09:31.185983Z",
     "iopub.status.busy": "2024-04-28T12:09:31.185485Z",
     "iopub.status.idle": "2024-04-28T12:09:33.019013Z",
     "shell.execute_reply": "2024-04-28T12:09:33.017584Z"
    },
    "papermill": {
     "duration": 1.856568,
     "end_time": "2024-04-28T12:09:33.021666",
     "exception": false,
     "start_time": "2024-04-28T12:09:31.165098",
     "status": "completed"
    },
    "tags": []
   },
   "outputs": [],
   "source": [
    "display(oof)\n",
    "print(oof.query('probability != -1')['probability'].describe())\n",
    "\n",
    "_, ax = plt.subplots()\n",
    "sns.histplot(\n",
    "    data=oof.query('probability != -1'),\n",
    "    x='probability',\n",
    "    hue='target',\n",
    "    bins=50,\n",
    "    ax=ax\n",
    ")\n",
    "plt.yscale('log')\n",
    "plt.show()"
   ]
  },
  {
   "cell_type": "code",
   "execution_count": null,
   "id": "9a75c4d5",
   "metadata": {
    "execution": {
     "iopub.execute_input": "2024-04-28T12:09:33.061401Z",
     "iopub.status.busy": "2024-04-28T12:09:33.061021Z",
     "iopub.status.idle": "2024-04-28T12:09:40.875667Z",
     "shell.execute_reply": "2024-04-28T12:09:40.874765Z"
    },
    "papermill": {
     "duration": 7.882631,
     "end_time": "2024-04-28T12:09:40.922699",
     "exception": false,
     "start_time": "2024-04-28T12:09:33.040068",
     "status": "completed"
    },
    "tags": []
   },
   "outputs": [],
   "source": [
    "fimps['fimp_mean'] = fimps.mean(axis=1)\n",
    "fimps['fimp_std'] = fimps.std(axis=1)\n",
    "fimps.sort_values('fimp_mean', inplace=True)\n",
    "display(fimps)\n",
    "\n",
    "_, ax = plt.subplots(figsize=(8, 16*(len(fimps)//100)))\n",
    "ax.barh(y=fimps.index, width=fimps['fimp_mean'], xerr=fimps['fimp_std'], capsize=3)\n",
    "plt.tight_layout()\n",
    "plt.show()"
   ]
  },
  {
   "cell_type": "code",
   "execution_count": null,
   "id": "6c177624",
   "metadata": {
    "execution": {
     "iopub.execute_input": "2024-04-28T12:09:41.054883Z",
     "iopub.status.busy": "2024-04-28T12:09:41.054030Z",
     "iopub.status.idle": "2024-04-28T12:09:47.157379Z",
     "shell.execute_reply": "2024-04-28T12:09:47.156153Z"
    },
    "papermill": {
     "duration": 6.17186,
     "end_time": "2024-04-28T12:09:47.159906",
     "exception": false,
     "start_time": "2024-04-28T12:09:40.988046",
     "status": "completed"
    },
    "tags": []
   },
   "outputs": [],
   "source": [
    "oof.to_csv(paths.output_dir.joinpath('oof.csv'), index=False)\n",
    "\n",
    "fimps = fimps.reset_index(names=['processed_Variable'])\n",
    "fimps.to_csv(paths.output_dir.joinpath('feature_importances.csv'), index=False)"
   ]
  },
  {
   "cell_type": "code",
   "execution_count": null,
   "id": "2d20c55f",
   "metadata": {
    "execution": {
     "iopub.execute_input": "2024-04-28T12:09:47.576709Z",
     "iopub.status.busy": "2024-04-28T12:09:47.576105Z",
     "iopub.status.idle": "2024-04-28T12:09:48.702999Z",
     "shell.execute_reply": "2024-04-28T12:09:48.701288Z"
    },
    "papermill": {
     "duration": 1.200495,
     "end_time": "2024-04-28T12:09:48.705805",
     "exception": false,
     "start_time": "2024-04-28T12:09:47.505310",
     "status": "completed"
    },
    "tags": []
   },
   "outputs": [],
   "source": [
    "evaluater = Evaluator(oof.query('probability!=-1'))\n",
    "gini_per_week, outcome = evaluater.plot_gini()\n",
    "display(gini_per_week)\n",
    "print(outcome)\n",
    "\n",
    "logger.info(\n",
    "    f'stability: {outcome[\"stability\"].item()}\\n'\n",
    "    + f'slope: {outcome[\"slope\"].item()}\\n'\n",
    "    + f'intercept: {outcome[\"intercept\"].item()}\\n'\n",
    ")\n",
    "\n",
    "outcome.to_csv(paths.output_dir.joinpath('outcome.csv'), index=False)"
   ]
  },
  {
   "cell_type": "code",
   "execution_count": null,
   "id": "b491828f",
   "metadata": {
    "papermill": {
     "duration": 0.065414,
     "end_time": "2024-04-28T12:09:48.836284",
     "exception": false,
     "start_time": "2024-04-28T12:09:48.770870",
     "status": "completed"
    },
    "tags": []
   },
   "outputs": [],
   "source": []
  }
 ],
 "metadata": {
  "kaggle": {
   "accelerator": "none",
   "dataSources": [
    {
     "databundleVersionId": 7921029,
     "sourceId": 50160,
     "sourceType": "competition"
    },
    {
     "sourceId": 172539754,
     "sourceType": "kernelVersion"
    }
   ],
   "dockerImageVersionId": 30698,
   "isGpuEnabled": false,
   "isInternetEnabled": true,
   "language": "python",
   "sourceType": "notebook"
  },
  "kernelspec": {
   "display_name": "Python 3",
   "language": "python",
   "name": "python3"
  },
  "language_info": {
   "codemirror_mode": {
    "name": "ipython",
    "version": 3
   },
   "file_extension": ".py",
   "mimetype": "text/x-python",
   "name": "python",
   "nbconvert_exporter": "python",
   "pygments_lexer": "ipython3",
   "version": "3.10.12"
  },
  "papermill": {
   "default_parameters": {},
   "duration": 20210.621513,
   "end_time": "2024-04-28T12:09:52.086506",
   "environment_variables": {},
   "exception": null,
   "input_path": "__notebook__.ipynb",
   "output_path": "__notebook__.ipynb",
   "parameters": {},
   "start_time": "2024-04-28T06:33:01.464993",
   "version": "2.5.0"
  }
 },
 "nbformat": 4,
 "nbformat_minor": 5
}
